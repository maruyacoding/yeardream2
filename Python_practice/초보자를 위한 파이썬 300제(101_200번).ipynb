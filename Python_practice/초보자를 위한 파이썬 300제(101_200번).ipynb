{
 "cells": [
  {
   "cell_type": "markdown",
   "metadata": {
    "id": "--6Ta14zLkRB"
   },
   "source": [
    "# 101~200 파이썬 분기문"
   ]
  },
  {
   "cell_type": "code",
   "execution_count": null,
   "metadata": {
    "id": "XLNYQ_m7MBWp"
   },
   "outputs": [],
   "source": [
    "# 101. 파이썬에서 True 혹은 False를 갖는 데이터 타입은 무엇인가?\n",
    "\n",
    "# boolean 데이터 타입"
   ]
  },
  {
   "cell_type": "code",
   "execution_count": null,
   "metadata": {
    "id": "uy2AurkyMFxm"
   },
   "outputs": [],
   "source": [
    "# 102. 아래 코드의 출력 결과를 예상하라\n",
    "# print(3 == 5)\n",
    "\n",
    "# False"
   ]
  },
  {
   "cell_type": "code",
   "execution_count": null,
   "metadata": {
    "id": "iKz3Xm4cMGcS"
   },
   "outputs": [],
   "source": [
    "# 103. 아래 코드의 출력 결과를 예상하라\n",
    "# print(3 < 5)\n",
    "\n",
    "# True"
   ]
  },
  {
   "cell_type": "code",
   "execution_count": null,
   "metadata": {
    "id": "faM9sBOWMGfG"
   },
   "outputs": [],
   "source": [
    "# 104. 아래 코드의 결과를 예상하라.\n",
    "# x = 4\n",
    "# print(1 < x < 5)\n",
    "\n",
    "# True"
   ]
  },
  {
   "cell_type": "code",
   "execution_count": null,
   "metadata": {
    "id": "cBwF0GJzMGiQ"
   },
   "outputs": [],
   "source": [
    "# 105. 아래 코드의 결과를 예상하라.\n",
    "# print ((3 == 3) and (4 != 3))\n",
    "\n",
    "# True"
   ]
  },
  {
   "cell_type": "code",
   "execution_count": null,
   "metadata": {
    "id": "0zaGCNk7M4bT"
   },
   "outputs": [],
   "source": [
    "# 106. 아래 코드에서 에러가 발생하는 원인에 대해 설명하라.\n",
    "# print(3 => 4)\n",
    "\n",
    "# =>이 아닌 >=로 작성해야함"
   ]
  },
  {
   "cell_type": "code",
   "execution_count": null,
   "metadata": {
    "id": "QDpsb9wfNGZk"
   },
   "outputs": [],
   "source": [
    "# 107.아래 코드의 출력 결과를 예상하라\n",
    "# if 4 < 3:\n",
    "#     print(\"Hello World\")\n",
    "\n",
    "# 아무것도 출력하지 않음, 조건을 만족하지 않기 떄문"
   ]
  },
  {
   "cell_type": "code",
   "execution_count": null,
   "metadata": {
    "id": "Oi1GQ4FANPD5"
   },
   "outputs": [],
   "source": [
    "# 108. 아래 코드의 출력 결과를 예상하라\n",
    "# if 4 < 3:\n",
    "#     print(\"Hello World.\")\n",
    "# else:\n",
    "#     print(\"Hi, there.\")\n",
    "\n",
    "\n",
    "# Hi, there. "
   ]
  },
  {
   "cell_type": "code",
   "execution_count": null,
   "metadata": {
    "id": "ZeNgYH_qNX3b"
   },
   "outputs": [],
   "source": [
    "# 109. 아래 코드의 출력 결과를 예상하라\n",
    "\n",
    "# if True :\n",
    "#     print (\"1\")\n",
    "#     print (\"2\")\n",
    "# else :\n",
    "#     print(\"3\")\n",
    "# print(\"4\")\n",
    "\n",
    "\n",
    "# 1\n",
    "# 2\n",
    "# 4"
   ]
  },
  {
   "cell_type": "code",
   "execution_count": null,
   "metadata": {
    "id": "ZCyTlLzRNlzt"
   },
   "outputs": [],
   "source": [
    "# 110. 아래 코드의 출력 결과를 예상하라\n",
    "\n",
    "# if True :\n",
    "#     if False:\n",
    "#         print(\"1\")\n",
    "#         print(\"2\")\n",
    "#     else:\n",
    "#         print(\"3\")\n",
    "# else :\n",
    "#     print(\"4\")\n",
    "# print(\"5\")\n",
    "\n",
    "\n",
    "# 3\n",
    "# 5"
   ]
  },
  {
   "cell_type": "markdown",
   "metadata": {
    "id": "lahYWuXhNwPZ"
   },
   "source": [
    "# 111 ~ 120 파이썬 분기문 2"
   ]
  },
  {
   "cell_type": "code",
   "execution_count": null,
   "metadata": {
    "colab": {
     "base_uri": "https://localhost:8080/"
    },
    "executionInfo": {
     "elapsed": 1133,
     "status": "ok",
     "timestamp": 1650550835492,
     "user": {
      "displayName": "최윤아",
      "userId": "13391811122094852456"
     },
     "user_tz": -540
    },
    "id": "paSy5pviNun4",
    "outputId": "e5210ffb-f4f7-4708-9502-a5e599c88027"
   },
   "outputs": [
    {
     "name": "stdout",
     "output_type": "stream",
     "text": [
      "입력: \n",
      "\n"
     ]
    }
   ],
   "source": [
    "# 111. 사용자로부터 입력받은 문자열을 두 번 출력하라. 아래는 사용자가 \"안녕하세요\"를 입력한 경우의 출력 결과이다.\n",
    "a = input('입력: ')\n",
    "print(a*2)"
   ]
  },
  {
   "cell_type": "code",
   "execution_count": null,
   "metadata": {
    "colab": {
     "base_uri": "https://localhost:8080/"
    },
    "id": "9Hps3d5iN7hS",
    "outputId": "c7f454c7-7333-4ed1-ec94-00bd7dd20e79"
   },
   "outputs": [
    {
     "name": "stdout",
     "output_type": "stream",
     "text": [
      "숫자를 입력하세요: \n"
     ]
    }
   ],
   "source": [
    "# 112. 사용자로부터 하나의 숫자를 입력받고, 입력 받은 숫자에 10을 더해 출력하라.\n",
    "a = input('숫자를 입력하세요: ')\n",
    "print(int(a)+10)\n",
    "print(type(a))\n",
    "# input()함수는 입력 받은 값을 str형으로 나타냄"
   ]
  },
  {
   "cell_type": "code",
   "execution_count": null,
   "metadata": {
    "id": "obVdk-zLOSo0"
   },
   "outputs": [],
   "source": [
    "# 113. 사용자로부터 하나의 숫자를 입력 받고 짝수/홀수를 판별하라.\n",
    "a = int(input('입력: '))\n",
    "if a % 2 == 0 :\n",
    "    print('짝수')\n",
    "else :\n",
    "    print('홀수')\n",
    "\n",
    "# input()함수는 type이 str형이므로 int로 형변환 후 연산"
   ]
  },
  {
   "cell_type": "code",
   "execution_count": null,
   "metadata": {
    "id": "aX5B-LLjPGD-"
   },
   "outputs": [],
   "source": [
    "# 114. 사용자로부터 값을 입력받은 후 해당 값에 20을 더한 값을 출력하라. \n",
    "# 단 사용자가 입력한 값과 20을 더한 계산 값이 255를 초과하는 경우 255를 출력해야 한다.\n",
    "\n",
    "a = int(input('입력: '))\n",
    "b = a + 20\n",
    "\n",
    "if b > 255 :\n",
    "    print(255)\n",
    "else :\n",
    "    print(b)"
   ]
  },
  {
   "cell_type": "code",
   "execution_count": null,
   "metadata": {
    "id": "R3hwGt30PtHo"
   },
   "outputs": [],
   "source": [
    "# 115.\n",
    "# 사용자로부터 하나의 값을 입력받은 후 해당 값에 20을 뺀 값을 출력하라. 단 출력 값의 범위는 0~255이다. \n",
    "# 예를 들어 결괏값이 0보다 작은 값이되는 경우 0을 출력하고 255보다 큰 값이 되는 경우 255를 출력해야 한다.\n",
    "\n",
    "a = int(input('입력: '))\n",
    "b = a - 20\n",
    "\n",
    "if b > 255 :\n",
    "    print(255)\n",
    "elif b < 0 :\n",
    "    print(0)\n",
    "else :\n",
    "    print(b)"
   ]
  },
  {
   "cell_type": "code",
   "execution_count": null,
   "metadata": {
    "id": "mEfz-YfXQbLl"
   },
   "outputs": [],
   "source": [
    "# 116. 사용자로부터 입력 받은 시간이 정각인지 판별하라.\n",
    "a = input('현재시간: ')\n",
    "\n",
    "if a[-2:] == '00' :\n",
    "    print('정각입니다.')\n",
    "else :\n",
    "    print('정각이 아닙니다.')\n"
   ]
  },
  {
   "cell_type": "code",
   "execution_count": null,
   "metadata": {
    "id": "utneZS8MRLh5"
   },
   "outputs": [],
   "source": [
    "# 117. \n",
    "# 사용자로 입력받은 단어가 아래 fruit 리스트에 포함되어 있는지를 확인하라. \n",
    "# 포함되었다면 \"정답입니다\"를 아닐 경우 \"오답입니다\" 출력하라.\n",
    "# fruit = [\"사과\", \"포도\", \"홍시\"]\n",
    "\n",
    "fruit = [\"사과\", \"포도\", \"홍시\"]\n",
    "\n",
    "a = input('좋아하는 과일은? ')\n",
    "\n",
    "if a in fruit :\n",
    "        print('정답입니다.')\n",
    "else :\n",
    "    print('오답입니다.')\n",
    "\n"
   ]
  },
  {
   "cell_type": "code",
   "execution_count": null,
   "metadata": {
    "id": "TSoIsHsDRzfZ"
   },
   "outputs": [],
   "source": [
    "# 118.\n",
    "# 투자 경고 종목 리스트가 있을 때 사용자로부터 종목명을 입력 받은 후 \n",
    "# 해당 종목이 투자 경고 종목이라면 '투자 경고 종목입니다'를 아니면 \"투자 경고 종목이 아닙니다.\"를 출력하는 프로그램을 작성하라.\n",
    "\n",
    "warn_investment_list = [\"Microsoft\", \"Google\", \"Naver\", \"Kakao\", \"SAMSUNG\", \"LG\"]\n",
    "\n",
    "a = input('입력: ')\n",
    "\n",
    "if a in warn_investment_list :\n",
    "    print('투자 경고 종목입니다.')\n",
    "else : \n",
    "    print('투자 경고 종목이 아닙니다.')\n"
   ]
  },
  {
   "cell_type": "code",
   "execution_count": null,
   "metadata": {
    "id": "Je3USH9SSLTs"
   },
   "outputs": [],
   "source": [
    "# 119.\n",
    "# 아래와 같이 fruit 딕셔너리가 정의되어 있다. \n",
    "# 사용자가 입력한 값이 딕셔너리 키 (key) 값에 포함되었다면 \"정답입니다\"를 아닐 경우 \"오답입니다\" 출력하라.\n",
    "\n",
    "fruit = {\"봄\" : \"딸기\", \"여름\" : \"토마토\", \"가을\" : \"사과\"}\n",
    "\n",
    "a = input('입력: ')\n",
    "\n",
    "if a in fruit.keys() :\n",
    "    print('정답입니다.')\n",
    "else :\n",
    "    print('오답입니다.')\n",
    "\n",
    "fruit.keys()\n",
    "\n",
    "# 딕셔너리의 key값만 가져오고 싶으면 딕셔너리이름.keys() "
   ]
  },
  {
   "cell_type": "code",
   "execution_count": null,
   "metadata": {
    "colab": {
     "base_uri": "https://localhost:8080/"
    },
    "executionInfo": {
     "elapsed": 5094,
     "status": "ok",
     "timestamp": 1650531122986,
     "user": {
      "displayName": "최윤아",
      "userId": "13391811122094852456"
     },
     "user_tz": -540
    },
    "id": "YLsOS1J4SLab",
    "outputId": "536e4896-d9aa-4229-c282-6da032a19e22"
   },
   "outputs": [
    {
     "name": "stdout",
     "output_type": "stream",
     "text": [
      "입력: 여름\n",
      "오답입니다.\n"
     ]
    },
    {
     "data": {
      "text/plain": [
       "dict_values(['딸기', '토마토', '사과'])"
      ]
     },
     "execution_count": 42,
     "metadata": {},
     "output_type": "execute_result"
    }
   ],
   "source": [
    "# 120.\n",
    "# 아래와 같이 fruit 딕셔너리가 정의되어 있다. \n",
    "# 사용자가 입력한 값이 딕셔너리 값 (value)에 포함되었다면 \"정답입니다\"를 아닐 경우 \"오답입니다\" 출력하라.\n",
    "\n",
    "fruit = {\"봄\" : \"딸기\", \"여름\" : \"토마토\", \"가을\" : \"사과\"}\n",
    "\n",
    "a = input('입력: ')\n",
    "\n",
    "if a in fruit.values() :\n",
    "    print('정답입니다.')\n",
    "else :\n",
    "    print('오답입니다.')\n",
    "\n",
    "fruit.values()\n",
    "\n",
    "# 딕셔너리의 value값만 가져오고 싶으면 딕셔너리이름.values() "
   ]
  },
  {
   "cell_type": "markdown",
   "metadata": {
    "id": "eCYDjEOrUmvA"
   },
   "source": [
    "# 121~130 파이썬 분기문 3"
   ]
  },
  {
   "cell_type": "code",
   "execution_count": null,
   "metadata": {
    "colab": {
     "base_uri": "https://localhost:8080/"
    },
    "executionInfo": {
     "elapsed": 2025,
     "status": "ok",
     "timestamp": 1650531442084,
     "user": {
      "displayName": "최윤아",
      "userId": "13391811122094852456"
     },
     "user_tz": -540
    },
    "id": "gvn9rwcJUbGf",
    "outputId": "bef5d152-d073-4547-e6fb-c62a0136eda8"
   },
   "outputs": [
    {
     "name": "stdout",
     "output_type": "stream",
     "text": [
      "입력: A\n",
      "a\n"
     ]
    }
   ],
   "source": [
    "# 121. \n",
    "# 사용자로부터 문자 한 개를 입력 받고, 소문자일 경우 대문자로, \n",
    "# 대문자 일 경우, 소문자로 변경해서 출력하라.\n",
    "\n",
    "a = input('입력: ')\n",
    "\n",
    "if a.islower() :\n",
    "    print(a.upper())\n",
    "else :\n",
    "    print(a.lower())"
   ]
  },
  {
   "cell_type": "code",
   "execution_count": null,
   "metadata": {
    "colab": {
     "base_uri": "https://localhost:8080/"
    },
    "executionInfo": {
     "elapsed": 4284,
     "status": "ok",
     "timestamp": 1650583930423,
     "user": {
      "displayName": "최윤아",
      "userId": "13391811122094852456"
     },
     "user_tz": -540
    },
    "id": "bb7Sv2qiVwAG",
    "outputId": "003f44a0-7cb8-44ba-c4b2-098108719197"
   },
   "outputs": [
    {
     "name": "stdout",
     "output_type": "stream",
     "text": [
      "점수: 55\n",
      "grade is C\n"
     ]
    }
   ],
   "source": [
    "# 122. \n",
    "# 점수 구간에 해당하는 학점이 아래와 같이 정의되어 있다. \n",
    "# 사용자로부터 score를 입력받아 학점을 출력하라.\n",
    "\n",
    "# 점수\t학점\n",
    "# 81~100\tA\n",
    "# 61~80\tB\n",
    "# 41~60\tC\n",
    "# 21~40\tD\n",
    "# 0~20\tE\n",
    "\n",
    "score = int(input(\"점수: \"))\n",
    "\n",
    "if 81 <= score <= 100 :\n",
    "    my_score = 'A'\n",
    "elif 61 <= score <= 80 :\n",
    "    my_score = 'B'\n",
    "elif 41 <= score <= 60 :\n",
    "    my_score = 'C'\n",
    "elif 21 <= score <= 40 :\n",
    "    my_score = 'D'\n",
    "else :\n",
    "    my_score = 'E'\n",
    "\n",
    "print(f'grade is {my_score}')\n"
   ]
  },
  {
   "cell_type": "code",
   "execution_count": null,
   "metadata": {
    "colab": {
     "base_uri": "https://localhost:8080/"
    },
    "executionInfo": {
     "elapsed": 26433,
     "status": "ok",
     "timestamp": 1650551302242,
     "user": {
      "displayName": "최윤아",
      "userId": "13391811122094852456"
     },
     "user_tz": -540
    },
    "id": "Vq1JIZWRWobS",
    "outputId": "6934ad3d-175e-4384-b4bc-4a3cc95a17ba"
   },
   "outputs": [
    {
     "name": "stdout",
     "output_type": "stream",
     "text": [
      "입력: 100 엔\n",
      "109.60000000000001 원\n",
      "입력: 100 엔\n",
      "109.60000000000001 원\n",
      "입력:100 엔\n",
      "109.60000000000001 원\n"
     ]
    }
   ],
   "source": [
    "# 123.\n",
    "# 사용자로부터 달러, 엔, 유로, 또는 위안 금액을 입력받은 후 이를 원으로 변환하는 프로그램을 작성하라. 각 통화별 환율은 다음과 같다. \n",
    "# 사용자는 100 달러, 1000 엔, 13 유로, 100 위안과 같이 금액과 통화명 사이에 공백을 넣어 입력한다고 가정한다.\n",
    "\n",
    "\n",
    "# 통화명\t환율\n",
    "# 달러\t1167\n",
    "# 엔\t1.096\n",
    "# 유로\t1268\n",
    "# 위안\t171\n",
    "\n",
    "price = input('입력: ')\n",
    "\n",
    "b = (price[-2:] == '달러')\n",
    "c = (price[-1:] == '엔')\n",
    "d = (price[-2:] == '유로')\n",
    "e = (price[-2:] == '위안')\n",
    "\n",
    "# int(b) * 1167\n",
    "# int(c) * 1.096\n",
    "# int(d) * 1268\n",
    "# int(e) * 171\n",
    "\n",
    "if b :\n",
    "    print(int(price[:-3]) * 1167, '원')\n",
    "elif c :\n",
    "    print(int(price[:-2]) * 1.096, '원')\n",
    "elif d :\n",
    "    print(int(price[:-3]) * 1268, '원')\n",
    "elif e :\n",
    "    print(int(price[:-3]) * 171, '원')\n",
    "\n",
    "\n",
    "\n",
    "# 정답 코드 1\n",
    "\n",
    "환율 = {\n",
    "    '달러' : 1167,\n",
    "    '엔' : 1.096,\n",
    "    '유로' : 1268,\n",
    "    '위안' : 171\n",
    "}\n",
    "\n",
    "user = input('입력: ')\n",
    "num,currency = user.split()\n",
    "print(float(num) * 환율[currency], \"원\")\n",
    "\n",
    "\n",
    "# 정답 코드 2 \n",
    "\n",
    "user_in = input(\"입력:\").split()\n",
    "\n",
    "amount = user_in[0]\n",
    "currency = user_in[1]\n",
    "\n",
    "if currency == \"달러\" :\n",
    "    ratio = 1167\n",
    "elif currency == \"엔\" :\n",
    "    ratio = 1.096\n",
    "elif currency == \"유로\" :\n",
    "    ratio = 1268\n",
    "else :\n",
    "    ratio = 171\n",
    "print(ratio * int(amount), \"원\")"
   ]
  },
  {
   "cell_type": "code",
   "execution_count": null,
   "metadata": {
    "colab": {
     "base_uri": "https://localhost:8080/"
    },
    "executionInfo": {
     "elapsed": 5065,
     "status": "ok",
     "timestamp": 1650551576994,
     "user": {
      "displayName": "최윤아",
      "userId": "13391811122094852456"
     },
     "user_tz": -540
    },
    "id": "zrAzbdw6gnrU",
    "outputId": "da272bed-93fb-4974-e8ef-0de3e13c9257"
   },
   "outputs": [
    {
     "name": "stdout",
     "output_type": "stream",
     "text": [
      "10\n",
      "9\n",
      "20\n",
      "20\n"
     ]
    }
   ],
   "source": [
    "# 124. 사용자로부터 세 개의 숫자를 입력 받은 후 가장 큰 숫자를 출력하라.\n",
    "\n",
    "number1 = int(input())\n",
    "number2 = int(input())\n",
    "number3 = int(input())\n",
    "\n",
    "if number1 >= number2 and number1 >= number3 :\n",
    "    print(number1)\n",
    "elif number2 >= number1 and number2 >= number3 :\n",
    "    print(number2)\n",
    "else :\n",
    "    print(number3)"
   ]
  },
  {
   "cell_type": "code",
   "execution_count": null,
   "metadata": {
    "colab": {
     "base_uri": "https://localhost:8080/"
    },
    "executionInfo": {
     "elapsed": 5480,
     "status": "ok",
     "timestamp": 1650584151173,
     "user": {
      "displayName": "최윤아",
      "userId": "13391811122094852456"
     },
     "user_tz": -540
    },
    "id": "shIK4N5SikG5",
    "outputId": "39d2b7b0-358a-4041-992d-1ce138781637"
   },
   "outputs": [
    {
     "name": "stdout",
     "output_type": "stream",
     "text": [
      "휴대전화 번호 입력: 011-345-1922\n",
      "당신은 SKT사용자입니다.\n"
     ]
    }
   ],
   "source": [
    "# 125. 휴대폰 번호 앞자리에 따라 통신사는 아래와 같이 구분된다. \n",
    "# 사용자로부터 휴대전화 번호를 입력 받고, 통신사를 출력하는 프로그램을 작성하라.\n",
    "\n",
    "# 번호\t통신사\n",
    "# 011\tSKT\n",
    "# 016\tKT\n",
    "# 019\tLGU\n",
    "# 010\t알수없음\n",
    "\n",
    "user_num = input('휴대전화 번호 입력: ').split('-')\n",
    "\n",
    "if user_num[0] == '011' :\n",
    "    phone = 'SKT'\n",
    "elif user_num[0] == '016' :\n",
    "    phone = 'KT'\n",
    "elif user_num[0] == '019' :\n",
    "    phone = 'LGU' \n",
    "else :\n",
    "    phone = '알수없음'\n",
    "print(f'당신은 {phone}사용자입니다.')\n"
   ]
  },
  {
   "cell_type": "code",
   "execution_count": null,
   "metadata": {
    "colab": {
     "base_uri": "https://localhost:8080/"
    },
    "executionInfo": {
     "elapsed": 2832,
     "status": "ok",
     "timestamp": 1650584710913,
     "user": {
      "displayName": "최윤아",
      "userId": "13391811122094852456"
     },
     "user_tz": -540
    },
    "id": "f4iwJbmGjOzZ",
    "outputId": "9d2c49fd-1d21-4a12-d96d-4d96f8a08007"
   },
   "outputs": [
    {
     "name": "stdout",
     "output_type": "stream",
     "text": [
      "우편번호: 01400\n",
      "도봉구\n"
     ]
    }
   ],
   "source": [
    "# 126.\n",
    "# 우편번호는 5자리로 구성되는데, 앞의 세자리는 구를 나타낸다. \n",
    "# 예를들어, 강북구의 경우 010, 011, 012 세 자리로 시작한다.\n",
    "# 사용자로 부터 5자리 우편번호를 입력받고 구를 판별하라\n",
    "\n",
    "\n",
    "\n",
    "# -\t0\t1\t2\t3\t4\t5\t6\t7\t8\t9\n",
    "# 01\t강북구\t강북구\t강북구\t도봉구\t도봉구\t도봉구\t노원구\t노원구\t노원구\t노원구\n",
    "\n",
    "\n",
    "user_num = input('우편번호: ')\n",
    "num = user_num[:3]\n",
    "\n",
    "if num in ['010', '011', '012'] :\n",
    "    print('강북구')\n",
    "elif num in ['013', '014', '015'] :\n",
    "    print('도봉구')\n",
    "else :\n",
    "    print('노원구')"
   ]
  },
  {
   "cell_type": "code",
   "execution_count": null,
   "metadata": {
    "colab": {
     "base_uri": "https://localhost:8080/"
    },
    "executionInfo": {
     "elapsed": 11078,
     "status": "ok",
     "timestamp": 1650585152587,
     "user": {
      "displayName": "최윤아",
      "userId": "13391811122094852456"
     },
     "user_tz": -540
    },
    "id": "sDBsf8FDgTNj",
    "outputId": "27943bbb-b412-40c7-c245-27024aee67e3"
   },
   "outputs": [
    {
     "name": "stdout",
     "output_type": "stream",
     "text": [
      "주민등록번호: 821010-1635210\n",
      "남자\n",
      "주민등록번호: 821010-3635210\n",
      "남자\n"
     ]
    }
   ],
   "source": [
    "# 127.\n",
    "# 주민등록번호 뒷 자리 7자리 중 첫째 자리는 성별을 나타내는데, 1, 3은 남자 2, 4는 여자를 의미한다. \n",
    "# 사용자로부터 13자리의 주민등록번호를 입력 받은 후 성별 (남자, 여자)를 출력하는 프로그램을 작성하라.\n",
    "\n",
    "user_num = input('주민등록번호: ')\n",
    "num = user_num[7:8]\n",
    "\n",
    "if num in ['1', '3'] :\n",
    "    print('남자')\n",
    "else :\n",
    "    print('여자')\n",
    "\n",
    "\n",
    "# 정답 코드\n",
    "\n",
    "user_num = input('주민등록번호: ')\n",
    "num = user_num.split('-')[1]\n",
    "\n",
    "if num[0] in ['1', '3'] :\n",
    "    print('남자')\n",
    "else :\n",
    "    print('여자')"
   ]
  },
  {
   "cell_type": "code",
   "execution_count": null,
   "metadata": {
    "colab": {
     "base_uri": "https://localhost:8080/"
    },
    "executionInfo": {
     "elapsed": 8163,
     "status": "ok",
     "timestamp": 1650782648350,
     "user": {
      "displayName": "최윤아",
      "userId": "13391811122094852456"
     },
     "user_tz": -540
    },
    "id": "aCzWz5EFh7aY",
    "outputId": "41c658d6-487f-4415-f810-d192a4ce5c40"
   },
   "outputs": [
    {
     "name": "stdout",
     "output_type": "stream",
     "text": [
      "주민등록번호: 861010-1015210\n",
      "서울 입니다.\n"
     ]
    }
   ],
   "source": [
    "# 128.\n",
    "# 주민등록번호의 뒷 자리 7자리 중 두번째와 세번째는 지역코드를 의미한다. \n",
    "# 주민 등록 번호를 입력 받은 후 출생지가 서울인지 아닌지 판단하는 코드를 작성하라\n",
    "\n",
    "# 지역코드\t출생지\n",
    "# 00 ~ 08\t서울\n",
    "# 09 ~ 12\t부산\n",
    "\n",
    "\n",
    "user_num = input('주민등록번호: ').split('-')\n",
    "num = user_num[1]\n",
    "\n",
    "if 0 <= int(num[1:3]) <= 8 :\n",
    "    print('서울 입니다.')\n",
    "else :\n",
    "    print('서울이 아닙니다.')"
   ]
  },
  {
   "cell_type": "code",
   "execution_count": null,
   "metadata": {
    "colab": {
     "base_uri": "https://localhost:8080/"
    },
    "executionInfo": {
     "elapsed": 5849,
     "status": "ok",
     "timestamp": 1650782959401,
     "user": {
      "displayName": "최윤아",
      "userId": "13391811122094852456"
     },
     "user_tz": -540
    },
    "id": "cQEu9WCzS6Ux",
    "outputId": "b22dc8cc-aeca-4e44-b2fc-b53372a062dd"
   },
   "outputs": [
    {
     "name": "stdout",
     "output_type": "stream",
     "text": [
      "주민등록번호: 821010-1635210\n",
      "유효하지 않은 주민등록번호입니다.\n"
     ]
    }
   ],
   "source": [
    "# 129 \n",
    "# 주민등록번호는 13자리로 구성되는데 마지막 자리수는 주민등록번호의 유효성을 체크하는데 사용된다. \n",
    "# 먼저 앞에서부터 12자리의 숫자에 2, 3, 4, 5, 6, 7, 8, 9, 2, 3, 4, 5를 차례로 곱한 뒤 그 값을 전부 더한다. \n",
    "# 연산 결과 값을 11로 나누면 나머지가 나오는데 11에서 나머지를 뺀 값이 주민등록번호의 마지막 번호가 된다.\n",
    "# 다음과 같이 사용자로부터 주민등록번호를 입력받은 후 주민등록번호가 유효한지를 출력하는 프로그램을 작성하라.\n",
    "\n",
    "num = input('주민등록번호: ')\n",
    "유효성 = int(num[0]) * 2 + int(num[1]) * 3 + int(num[2]) * 4 + int(num[3]) * 5 + int(num[4]) * 6 + int(num[5]) * 7 + int(num[7]) * 8 + int(num[8]) * 9 + int(num[9]) * 2 + int(num[10])* 3  + int(num[11])* 4 + int(num[12]) * 5\n",
    "유효성1 = 11 - (  유효성 % 11 )\n",
    "\n",
    "if 유효성1 == int(num[-1]) :\n",
    "    print('유효한 주민등록번호입니다.')\n",
    "else :\n",
    "    print('유효하지 않은 주민등록번호입니다.')"
   ]
  },
  {
   "cell_type": "code",
   "execution_count": null,
   "metadata": {
    "colab": {
     "base_uri": "https://localhost:8080/"
    },
    "executionInfo": {
     "elapsed": 746,
     "status": "ok",
     "timestamp": 1650783714298,
     "user": {
      "displayName": "최윤아",
      "userId": "13391811122094852456"
     },
     "user_tz": -540
    },
    "id": "AAdbDZYwTLLd",
    "outputId": "1a3ab2a1-10af-4c20-a2ab-035a273ba2b1"
   },
   "outputs": [
    {
     "name": "stdout",
     "output_type": "stream",
     "text": [
      "상승장\n"
     ]
    }
   ],
   "source": [
    "# 130\n",
    "# 아래 코드는 비트코인의 가격 정보를 딕셔너리로 가져오는 코드이다.\n",
    "\n",
    "import requests\n",
    "btc = requests.get(\"https://api.bithumb.com/public/ticker/\").json()['data']\n",
    "\n",
    "# btc 딕셔너리 안에는 시가, 종가, 최고가, 최저가 등이 저장되어 있다. \n",
    "# 최고가와 최저가의 차이를 변동폭으로 정의할 때 (시가 + 변동폭)이 최고가 보다 높을 경우 \"상승장\", 그렇지 않은 경우 \"하락장\" 문자열을 출력하라.\n",
    "\n",
    "# Key Name\tDescription\n",
    "# opening_price\t최근 24시간 내 시작 거래금액\n",
    "# closing_price\t최근 24시간 내 마지막 거래금액\n",
    "# min_price\t최근 24시간 내 최저 거래금액\n",
    "# max_price\t최근 24시간 내 최고 거래금액\n",
    "\n",
    "변동폭 = float(btc['max_price']) - float(btc['min_price']) \n",
    "장 = float(btc['opening_price']) + 변동폭\n",
    "\n",
    "if 장 > float(btc['max_price']) :\n",
    "    print('상승장')\n",
    "else :\n",
    "    print('하락장')\n"
   ]
  },
  {
   "cell_type": "markdown",
   "metadata": {
    "id": "SROuvrt_YOf6"
   },
   "source": [
    "# 131~140 파이썬 반복문"
   ]
  },
  {
   "cell_type": "code",
   "execution_count": null,
   "metadata": {
    "colab": {
     "base_uri": "https://localhost:8080/"
    },
    "executionInfo": {
     "elapsed": 311,
     "status": "ok",
     "timestamp": 1650783807060,
     "user": {
      "displayName": "최윤아",
      "userId": "13391811122094852456"
     },
     "user_tz": -540
    },
    "id": "xpRVacs9VXK9",
    "outputId": "63825ca4-c873-4ff6-c399-56bd5a6bcd3e"
   },
   "outputs": [
    {
     "name": "stdout",
     "output_type": "stream",
     "text": [
      "사과\n",
      "귤\n",
      "수박\n"
     ]
    }
   ],
   "source": [
    "# 131. for문의 실행결과를 예측하라.\n",
    "\n",
    "과일 = [\"사과\", \"귤\", \"수박\"]\n",
    "for 변수 in 과일:\n",
    "    print(변수)\n",
    "\n",
    "# 사과\n",
    "# 귤\n",
    "# 수박"
   ]
  },
  {
   "cell_type": "code",
   "execution_count": null,
   "metadata": {
    "colab": {
     "base_uri": "https://localhost:8080/"
    },
    "executionInfo": {
     "elapsed": 315,
     "status": "ok",
     "timestamp": 1650783835773,
     "user": {
      "displayName": "최윤아",
      "userId": "13391811122094852456"
     },
     "user_tz": -540
    },
    "id": "XCliwjtBYeMN",
    "outputId": "0d5f27e3-b84c-4393-db22-c8de3611cc3c"
   },
   "outputs": [
    {
     "name": "stdout",
     "output_type": "stream",
     "text": [
      "#####\n",
      "#####\n",
      "#####\n"
     ]
    }
   ],
   "source": [
    "# 132. for문의 실행결과를 예측하라.\n",
    "\n",
    "과일 = [\"사과\", \"귤\", \"수박\"]\n",
    "for 변수 in 과일:\n",
    "  print(\"#####\")\n",
    "\n",
    "#####\n",
    "#####\n",
    "#####"
   ]
  },
  {
   "cell_type": "code",
   "execution_count": null,
   "metadata": {
    "colab": {
     "base_uri": "https://localhost:8080/"
    },
    "executionInfo": {
     "elapsed": 310,
     "status": "ok",
     "timestamp": 1650783885929,
     "user": {
      "displayName": "최윤아",
      "userId": "13391811122094852456"
     },
     "user_tz": -540
    },
    "id": "skqJwuWYYlNa",
    "outputId": "ef7748aa-56a4-43f6-b4e8-61b4d8388a46"
   },
   "outputs": [
    {
     "name": "stdout",
     "output_type": "stream",
     "text": [
      "A\n",
      "B\n",
      "C\n",
      "A\n",
      "B\n",
      "C\n"
     ]
    }
   ],
   "source": [
    "# 133 다음 for 문과 동일한 기능을 수행하는 코드를 작성하세요.\n",
    "\n",
    "for 변수 in [\"A\", \"B\", \"C\"]:\n",
    "  print(변수)\n",
    "\n",
    "변수 = 'A'\n",
    "print(변수)\n",
    "변수 = 'B'\n",
    "print(변수)\n",
    "변수 = 'C'\n",
    "print(변수)"
   ]
  },
  {
   "cell_type": "code",
   "execution_count": null,
   "metadata": {
    "colab": {
     "base_uri": "https://localhost:8080/"
    },
    "executionInfo": {
     "elapsed": 303,
     "status": "ok",
     "timestamp": 1650783932548,
     "user": {
      "displayName": "최윤아",
      "userId": "13391811122094852456"
     },
     "user_tz": -540
    },
    "id": "-G1QDRrnYxZd",
    "outputId": "49912d97-6877-4e26-f4ba-921cca3b60cd"
   },
   "outputs": [
    {
     "name": "stdout",
     "output_type": "stream",
     "text": [
      "출력: A\n",
      "출력: B\n",
      "출력: C\n",
      "출력: A\n",
      "출력: B\n",
      "출력: C\n"
     ]
    }
   ],
   "source": [
    "# 134. for문을 풀어서 동일한 동작을하는 코드를 작성하라.\n",
    "\n",
    "for 변수 in [\"A\", \"B\", \"C\"]:\n",
    "  print(\"출력:\", 변수)\n",
    "\n",
    "변수 = 'A'\n",
    "print(\"출력:\", 변수)\n",
    "변수 = 'B'\n",
    "print(\"출력:\", 변수)\n",
    "변수 = 'C'\n",
    "print(\"출력:\", 변수)"
   ]
  },
  {
   "cell_type": "code",
   "execution_count": null,
   "metadata": {
    "colab": {
     "base_uri": "https://localhost:8080/"
    },
    "executionInfo": {
     "elapsed": 300,
     "status": "ok",
     "timestamp": 1650784006393,
     "user": {
      "displayName": "최윤아",
      "userId": "13391811122094852456"
     },
     "user_tz": -540
    },
    "id": "5rRzDSugY8xo",
    "outputId": "937f069c-fb70-4319-f463-88a2c06f19b9"
   },
   "outputs": [
    {
     "name": "stdout",
     "output_type": "stream",
     "text": [
      "변환: a\n",
      "변환: b\n",
      "변환: c\n",
      "변환: a\n",
      "변환: b\n",
      "변환: c\n"
     ]
    }
   ],
   "source": [
    "# 135. for문을 풀어서 동일한 동작을 하는 코드를 작성하라.\n",
    "\n",
    "for 변수 in [\"A\", \"B\", \"C\"]:\n",
    "  b = 변수.lower()\n",
    "  print(\"변환:\", b)\n",
    "\n",
    "변수 = 'A'\n",
    "b = 변수.lower()\n",
    "print(\"변환:\", b)\n",
    "변수 = 'B'\n",
    "b = 변수.lower()\n",
    "print(\"변환:\", b)\n",
    "변수 = 'C'\n",
    "b = 변수.lower()\n",
    "print(\"변환:\", b)"
   ]
  },
  {
   "cell_type": "code",
   "execution_count": null,
   "metadata": {
    "colab": {
     "base_uri": "https://localhost:8080/"
    },
    "executionInfo": {
     "elapsed": 299,
     "status": "ok",
     "timestamp": 1650784044002,
     "user": {
      "displayName": "최윤아",
      "userId": "13391811122094852456"
     },
     "user_tz": -540
    },
    "id": "-L6bfUWcZOzI",
    "outputId": "5f5d5493-ab80-42d9-de55-c8ca4acdb1ac"
   },
   "outputs": [
    {
     "name": "stdout",
     "output_type": "stream",
     "text": [
      "10\n",
      "20\n",
      "30\n",
      "10\n",
      "20\n",
      "30\n"
     ]
    }
   ],
   "source": [
    "# 136. 다음 코드를 for문으로 작성하라.\n",
    "\n",
    "변수 = 10\n",
    "print(변수)\n",
    "변수 = 20\n",
    "print(변수)\n",
    "변수 = 30\n",
    "print(변수)\n",
    "\n",
    "for 변수 in [10, 20, 30] :\n",
    "    print(변수)"
   ]
  },
  {
   "cell_type": "code",
   "execution_count": null,
   "metadata": {
    "colab": {
     "base_uri": "https://localhost:8080/"
    },
    "executionInfo": {
     "elapsed": 443,
     "status": "ok",
     "timestamp": 1650784098332,
     "user": {
      "displayName": "최윤아",
      "userId": "13391811122094852456"
     },
     "user_tz": -540
    },
    "id": "JF0FIf0qZX_J",
    "outputId": "76d4f967-9ea8-4df8-aabc-d773d7f1ca7a"
   },
   "outputs": [
    {
     "name": "stdout",
     "output_type": "stream",
     "text": [
      "10\n",
      "20\n",
      "30\n",
      "10\n",
      "20\n",
      "30\n"
     ]
    }
   ],
   "source": [
    "# 137. 다음 코드를 for문으로 작성하라.\n",
    "\n",
    "print(10)\n",
    "print(20)\n",
    "print(30)\n",
    "\n",
    "for i in range(10,31,10) :\n",
    "    print(i)"
   ]
  },
  {
   "cell_type": "code",
   "execution_count": null,
   "metadata": {
    "colab": {
     "base_uri": "https://localhost:8080/"
    },
    "executionInfo": {
     "elapsed": 451,
     "status": "ok",
     "timestamp": 1650784173874,
     "user": {
      "displayName": "최윤아",
      "userId": "13391811122094852456"
     },
     "user_tz": -540
    },
    "id": "mlbWunh_Zhvt",
    "outputId": "399a196e-e8b3-4513-a509-06b7539eb761"
   },
   "outputs": [
    {
     "name": "stdout",
     "output_type": "stream",
     "text": [
      "10\n",
      "-------\n",
      "20\n",
      "-------\n",
      "30\n",
      "-------\n",
      "10\n",
      "-------\n",
      "20\n",
      "-------\n",
      "30\n",
      "-------\n"
     ]
    }
   ],
   "source": [
    "# 138. 다음 코드를 for문으로 작성하라.\n",
    "\n",
    "print(10)\n",
    "print(\"-------\")\n",
    "print(20)\n",
    "print(\"-------\")\n",
    "print(30)\n",
    "print(\"-------\")\n",
    "\n",
    "for i in range(10,31,10) :\n",
    "    print(i);print('-'*7)\n",
    "\n",
    "# 세미콜론 (;)은 한줄에 여러 개의 명령을 작성하기 위해 사용"
   ]
  },
  {
   "cell_type": "code",
   "execution_count": null,
   "metadata": {
    "colab": {
     "base_uri": "https://localhost:8080/"
    },
    "executionInfo": {
     "elapsed": 13,
     "status": "ok",
     "timestamp": 1650784263484,
     "user": {
      "displayName": "최윤아",
      "userId": "13391811122094852456"
     },
     "user_tz": -540
    },
    "id": "LI1HBhDgZwyO",
    "outputId": "b1f78982-de80-4f01-964a-5a6f0985a142"
   },
   "outputs": [
    {
     "name": "stdout",
     "output_type": "stream",
     "text": [
      "++++\n",
      "10\n",
      "20\n",
      "30\n",
      "++++\n",
      "10\n",
      "20\n",
      "30\n"
     ]
    }
   ],
   "source": [
    "# 139. 다음 코드를 for문으로 작성하라.\n",
    "\n",
    "print(\"++++\")\n",
    "print(10)\n",
    "print(20)\n",
    "print(30)\n",
    "\n",
    "\n",
    "print(\"++++\")\n",
    "for i in range(10,31,10) :\n",
    "    print(i)"
   ]
  },
  {
   "cell_type": "code",
   "execution_count": null,
   "metadata": {
    "colab": {
     "base_uri": "https://localhost:8080/"
    },
    "executionInfo": {
     "elapsed": 327,
     "status": "ok",
     "timestamp": 1650784349870,
     "user": {
      "displayName": "최윤아",
      "userId": "13391811122094852456"
     },
     "user_tz": -540
    },
    "id": "VIkDOOzdaNm6",
    "outputId": "b711b665-1195-4620-99c5-0867c2d3cf44"
   },
   "outputs": [
    {
     "name": "stdout",
     "output_type": "stream",
     "text": [
      "-------\n",
      "-------\n",
      "-------\n",
      "-------\n",
      "-------\n",
      "-------\n",
      "-------\n",
      "-------\n"
     ]
    }
   ],
   "source": [
    "# 140. 다음 코드를 for문으로 작성하라.\n",
    "\n",
    "print(\"-------\")\n",
    "print(\"-------\")\n",
    "print(\"-------\")\n",
    "print(\"-------\")\n",
    "\n",
    "for i in range(4) :\n",
    "    print('-' * 7)\n"
   ]
  },
  {
   "cell_type": "markdown",
   "metadata": {
    "id": "S8mCWPohaw5-"
   },
   "source": [
    "# 141~150 파이썬 반복문 2"
   ]
  },
  {
   "cell_type": "code",
   "execution_count": null,
   "metadata": {
    "colab": {
     "base_uri": "https://localhost:8080/"
    },
    "executionInfo": {
     "elapsed": 4,
     "status": "ok",
     "timestamp": 1650784510678,
     "user": {
      "displayName": "최윤아",
      "userId": "13391811122094852456"
     },
     "user_tz": -540
    },
    "id": "LhXs886GaZtr",
    "outputId": "6e58d68b-591b-4c10-de4c-8d92f2b4213f"
   },
   "outputs": [
    {
     "name": "stdout",
     "output_type": "stream",
     "text": [
      "110\n",
      "210\n",
      "310\n"
     ]
    }
   ],
   "source": [
    "# 141 \n",
    "# 다음과 같이 판매가가 저장된 리스트가 있을 때 부가세가 포함된 가격을 for 문을 사용해서 화면에 출력하라. \n",
    "# 단 부가세는 10원으로 가정한다.\n",
    "\n",
    "리스트 = [100, 200, 300]\n",
    "for i in 리스트:\n",
    "  print(i + 10)"
   ]
  },
  {
   "cell_type": "code",
   "execution_count": null,
   "metadata": {
    "colab": {
     "base_uri": "https://localhost:8080/"
    },
    "executionInfo": {
     "elapsed": 329,
     "status": "ok",
     "timestamp": 1650784565603,
     "user": {
      "displayName": "최윤아",
      "userId": "13391811122094852456"
     },
     "user_tz": -540
    },
    "id": "YE6BabeSbBM1",
    "outputId": "986850c8-6a03-41a0-ec91-e15741cd8206"
   },
   "outputs": [
    {
     "name": "stdout",
     "output_type": "stream",
     "text": [
      "오늘의 메뉴: 김밥\n",
      "오늘의 메뉴: 라면\n",
      "오늘의 메뉴: 튀김\n"
     ]
    }
   ],
   "source": [
    "# 142 \n",
    "# for 문을 사용해서 리스트에 저장된 값을 다음과 같이 출력하라.\n",
    "\n",
    "# 오늘의 메뉴: 김밥\n",
    "# 오늘의 메뉴: 라면\n",
    "# 오늘의 메뉴: 튀김\n",
    "\n",
    "리스트 = [\"김밥\", \"라면\", \"튀김\"]\n",
    "for i in 리스트 :\n",
    "    print(f'오늘의 메뉴: {i}')"
   ]
  },
  {
   "cell_type": "code",
   "execution_count": null,
   "metadata": {
    "colab": {
     "base_uri": "https://localhost:8080/"
    },
    "executionInfo": {
     "elapsed": 6,
     "status": "ok",
     "timestamp": 1650784621122,
     "user": {
      "displayName": "최윤아",
      "userId": "13391811122094852456"
     },
     "user_tz": -540
    },
    "id": "ORF2BpVbbXUf",
    "outputId": "6a88e98f-d00d-4528-c3d1-24d0cc117dd0"
   },
   "outputs": [
    {
     "name": "stdout",
     "output_type": "stream",
     "text": [
      "6\n",
      "4\n",
      "4\n"
     ]
    }
   ],
   "source": [
    "# 143 \n",
    "# 리스트에 주식 종목이름이 저장돼 있다.\n",
    "# 리스트 = [\"SK하이닉스\", \"삼성전자\", \"LG전자\"]\n",
    "# 저장된 문자열의 길이를 다음과 같이 출력하라.\n",
    "\n",
    "# 6\n",
    "# 4\n",
    "# 4\n",
    "\n",
    "리스트 = [\"SK하이닉스\", \"삼성전자\", \"LG전자\"]\n",
    "for i in 리스트 :\n",
    "    print(len(i))"
   ]
  },
  {
   "cell_type": "code",
   "execution_count": null,
   "metadata": {
    "colab": {
     "base_uri": "https://localhost:8080/"
    },
    "executionInfo": {
     "elapsed": 302,
     "status": "ok",
     "timestamp": 1650784678939,
     "user": {
      "displayName": "최윤아",
      "userId": "13391811122094852456"
     },
     "user_tz": -540
    },
    "id": "ZOO7spfZbk2E",
    "outputId": "a17042e6-f35f-40e2-d53f-3fa0755efc63"
   },
   "outputs": [
    {
     "name": "stdout",
     "output_type": "stream",
     "text": [
      "dog 3\n",
      "cat 3\n",
      "parrot 6\n"
     ]
    }
   ],
   "source": [
    "# 144\n",
    "# 리스트에는 동물이름이 문자열로 저장돼 있다.\n",
    "# 동물 이름과 글자수를 다음과 같이 출력하라.\n",
    "\n",
    "# dog 3\n",
    "# cat 3\n",
    "# parrot 6\n",
    "\n",
    "리스트 = ['dog', 'cat', 'parrot']\n",
    "for i in 리스트 :\n",
    "    print(i, len(i))"
   ]
  },
  {
   "cell_type": "code",
   "execution_count": null,
   "metadata": {
    "colab": {
     "base_uri": "https://localhost:8080/"
    },
    "executionInfo": {
     "elapsed": 313,
     "status": "ok",
     "timestamp": 1650784718473,
     "user": {
      "displayName": "최윤아",
      "userId": "13391811122094852456"
     },
     "user_tz": -540
    },
    "id": "9NJ3v4Npby-L",
    "outputId": "590ae518-da05-4380-ae52-6ee7e098183a"
   },
   "outputs": [
    {
     "name": "stdout",
     "output_type": "stream",
     "text": [
      "d\n",
      "c\n",
      "p\n"
     ]
    }
   ],
   "source": [
    "# 145 \n",
    "# 리스트에 동물 이름 저장돼 있다.\n",
    "# for문을 사용해서 동물 이름의 첫 글자만 출력하라.\n",
    "# d\n",
    "# c\n",
    "# p\n",
    "\n",
    "리스트 = ['dog', 'cat', 'parrot']\n",
    "for i in 리스트 :\n",
    "    print(i[0])"
   ]
  },
  {
   "cell_type": "code",
   "execution_count": null,
   "metadata": {
    "colab": {
     "base_uri": "https://localhost:8080/"
    },
    "executionInfo": {
     "elapsed": 302,
     "status": "ok",
     "timestamp": 1650784772234,
     "user": {
      "displayName": "최윤아",
      "userId": "13391811122094852456"
     },
     "user_tz": -540
    },
    "id": "YadUceNgb8nn",
    "outputId": "0d143032-e439-48ba-ee51-d0c70c873021"
   },
   "outputs": [
    {
     "name": "stdout",
     "output_type": "stream",
     "text": [
      "3 X 1\n",
      "3 X 2\n",
      "3 X 3\n"
     ]
    }
   ],
   "source": [
    "# 146\n",
    "# 리스트에는 세 개의 숫자가 바인딩돼 있다.\n",
    "# for문을 사용해서 다음과 같이 출력하라.\n",
    "# 3 x 1\n",
    "# 3 x 2\n",
    "# 3 x 3\n",
    "\n",
    "리스트 = [1, 2, 3]\n",
    "for i in 리스트 :\n",
    "    print(f'3 X {i}')"
   ]
  },
  {
   "cell_type": "code",
   "execution_count": null,
   "metadata": {
    "colab": {
     "base_uri": "https://localhost:8080/"
    },
    "executionInfo": {
     "elapsed": 318,
     "status": "ok",
     "timestamp": 1650784882971,
     "user": {
      "displayName": "최윤아",
      "userId": "13391811122094852456"
     },
     "user_tz": -540
    },
    "id": "lfEyN1KRcJxQ",
    "outputId": "f35d5e07-0d27-4b09-9656-6df8a35e6f70"
   },
   "outputs": [
    {
     "name": "stdout",
     "output_type": "stream",
     "text": [
      "3 X 1 = 3\n",
      "3 X 2 = 6\n",
      "3 X 3 = 9\n"
     ]
    }
   ],
   "source": [
    "# 147\n",
    "# 리스트에는 세 개의 숫자가 바인딩돼 있다.\n",
    "# for문을 사용해서 다음과 같이 출력하라.\n",
    "# 3 x 1 = 3\n",
    "# 3 x 2 = 6\n",
    "# 3 x 3 = 9\n",
    "\n",
    "리스트 = [1, 2, 3]\n",
    "for i in 리스트 :\n",
    "    print(f'3 X {i} = {3 * i}')"
   ]
  },
  {
   "cell_type": "code",
   "execution_count": null,
   "metadata": {
    "colab": {
     "base_uri": "https://localhost:8080/"
    },
    "executionInfo": {
     "elapsed": 4,
     "status": "ok",
     "timestamp": 1650784966618,
     "user": {
      "displayName": "최윤아",
      "userId": "13391811122094852456"
     },
     "user_tz": -540
    },
    "id": "5ZMmd_D6cdv3",
    "outputId": "a22e9f81-b0ea-456f-9769-ddfff6337ef1"
   },
   "outputs": [
    {
     "name": "stdout",
     "output_type": "stream",
     "text": [
      "나\n",
      "다\n",
      "라\n"
     ]
    }
   ],
   "source": [
    "# 148 \n",
    "# 리스트에는 네 개의 문자열이 바인딩돼 있다.\n",
    "# for문을 사용해서 다음과 같이 출력하라.\n",
    "# 나\n",
    "# 다\n",
    "# 라\n",
    "\n",
    "리스트 = [\"가\", \"나\", \"다\", \"라\"]\n",
    "\n",
    "for i in 리스트[1:] :\n",
    "    print(i)"
   ]
  },
  {
   "cell_type": "code",
   "execution_count": null,
   "metadata": {
    "colab": {
     "base_uri": "https://localhost:8080/"
    },
    "executionInfo": {
     "elapsed": 4,
     "status": "ok",
     "timestamp": 1650785020727,
     "user": {
      "displayName": "최윤아",
      "userId": "13391811122094852456"
     },
     "user_tz": -540
    },
    "id": "ceoRaTNic4i7",
    "outputId": "44d51de0-2bbd-492a-8520-d06555614098"
   },
   "outputs": [
    {
     "name": "stdout",
     "output_type": "stream",
     "text": [
      "가\n",
      "다\n"
     ]
    }
   ],
   "source": [
    "# 149\n",
    "# 리스트에는 네 개의 문자열이 바인딩돼 있다.\n",
    "# for문을 사용해서 다음과 같이 출력하라.\n",
    "# 가\n",
    "# 다\n",
    "\n",
    "리스트 = [\"가\", \"나\", \"다\", \"라\"]\n",
    "for i in 리스트[::2] :\n",
    "    print(i)\n"
   ]
  },
  {
   "cell_type": "code",
   "execution_count": null,
   "metadata": {
    "colab": {
     "base_uri": "https://localhost:8080/"
    },
    "executionInfo": {
     "elapsed": 4,
     "status": "ok",
     "timestamp": 1650785072042,
     "user": {
      "displayName": "최윤아",
      "userId": "13391811122094852456"
     },
     "user_tz": -540
    },
    "id": "k5grjPEpdGhU",
    "outputId": "7c180ee9-dad9-4250-d634-1657cc7bdf37"
   },
   "outputs": [
    {
     "name": "stdout",
     "output_type": "stream",
     "text": [
      "라\n",
      "다\n",
      "나\n",
      "가\n"
     ]
    }
   ],
   "source": [
    "# 150\n",
    "# 리스트에는 네 개의 문자열이 바인딩돼 있다.\n",
    "# for문을 사용해서 다음과 같이 출력하라.\n",
    "# 라\n",
    "# 다\n",
    "# 나\n",
    "# 가\n",
    "\n",
    "리스트 = [\"가\", \"나\", \"다\", \"라\"]\n",
    "for i in 리스트[::-1] :\n",
    "    print(i)"
   ]
  },
  {
   "cell_type": "markdown",
   "metadata": {
    "id": "aGn-XdwDdWEr"
   },
   "source": [
    "# 151~160 파이썬 반복문 3"
   ]
  },
  {
   "cell_type": "code",
   "execution_count": null,
   "metadata": {
    "colab": {
     "base_uri": "https://localhost:8080/"
    },
    "executionInfo": {
     "elapsed": 4,
     "status": "ok",
     "timestamp": 1650785164186,
     "user": {
      "displayName": "최윤아",
      "userId": "13391811122094852456"
     },
     "user_tz": -540
    },
    "id": "yKILapBTdS-E",
    "outputId": "035261b3-c95c-4343-e131-be9eea8972e2"
   },
   "outputs": [
    {
     "name": "stdout",
     "output_type": "stream",
     "text": [
      "-20\n",
      "-3\n",
      "-20\n",
      "-3\n"
     ]
    }
   ],
   "source": [
    "# 151\n",
    "# 리스트에는 네 개의 정수가 저장돼 있다.\n",
    "# for문을 사용해서 리스트의 음수를 출력하라.\n",
    "# -20\n",
    "# -3\n",
    "\n",
    "리스트 = [3, -20, -3, 44]\n",
    "for i in 리스트[1:3] :\n",
    "    print(i)\n",
    "\n",
    "# 정답코드\n",
    "리스트 = [3, -20, -3, 44]\n",
    "for i in 리스트 :\n",
    "    if i < 0 :\n",
    "        print(i)"
   ]
  },
  {
   "cell_type": "code",
   "execution_count": null,
   "metadata": {
    "colab": {
     "base_uri": "https://localhost:8080/"
    },
    "executionInfo": {
     "elapsed": 8,
     "status": "ok",
     "timestamp": 1650785203073,
     "user": {
      "displayName": "최윤아",
      "userId": "13391811122094852456"
     },
     "user_tz": -540
    },
    "id": "Y0TqrcrWdiBc",
    "outputId": "e7a8bc10-d986-45ec-b3e1-5fdfd589b902"
   },
   "outputs": [
    {
     "name": "stdout",
     "output_type": "stream",
     "text": [
      "3\n"
     ]
    }
   ],
   "source": [
    "# 152\n",
    "# for문을 사용해서 3의 배수만을 출력하라.\n",
    "\n",
    "리스트 = [3, 100, 23, 44]\n",
    "for i in 리스트 :\n",
    "    if i % 3 == 0 :\n",
    "        print(i)\n"
   ]
  },
  {
   "cell_type": "code",
   "execution_count": null,
   "metadata": {
    "colab": {
     "base_uri": "https://localhost:8080/"
    },
    "executionInfo": {
     "elapsed": 6,
     "status": "ok",
     "timestamp": 1650785270370,
     "user": {
      "displayName": "최윤아",
      "userId": "13391811122094852456"
     },
     "user_tz": -540
    },
    "id": "fyNXcoKtdy9E",
    "outputId": "d91a3f95-43d8-4955-f014-c0d84ba0fb40"
   },
   "outputs": [
    {
     "name": "stdout",
     "output_type": "stream",
     "text": [
      "12\n",
      "18\n"
     ]
    }
   ],
   "source": [
    "# 153\n",
    "# 리스트에서 20 보다 작은 3의 배수를 출력하라\n",
    "\n",
    "리스트 = [13, 21, 12, 14, 30, 18]\n",
    "for i in 리스트 :\n",
    "    if (i < 20) and (i % 3 == 0) :\n",
    "        print(i)\n"
   ]
  },
  {
   "cell_type": "code",
   "execution_count": null,
   "metadata": {
    "colab": {
     "base_uri": "https://localhost:8080/"
    },
    "executionInfo": {
     "elapsed": 307,
     "status": "ok",
     "timestamp": 1650785323229,
     "user": {
      "displayName": "최윤아",
      "userId": "13391811122094852456"
     },
     "user_tz": -540
    },
    "id": "Ym2wt2VieABN",
    "outputId": "0e4b1dae-07ac-4061-9a5e-e6dae850efef"
   },
   "outputs": [
    {
     "name": "stdout",
     "output_type": "stream",
     "text": [
      "study\n",
      "python\n",
      "language\n"
     ]
    }
   ],
   "source": [
    "# 154\n",
    "# 리스트에서 세 글자 이상의 문자를 화면에 출력하라\n",
    "\n",
    "리스트 = [\"I\", \"study\", \"python\", \"language\", \"!\"]\n",
    "for i in 리스트 :\n",
    "    if len(i) >= 3 :\n",
    "        print(i)"
   ]
  },
  {
   "cell_type": "code",
   "execution_count": null,
   "metadata": {
    "colab": {
     "base_uri": "https://localhost:8080/"
    },
    "executionInfo": {
     "elapsed": 293,
     "status": "ok",
     "timestamp": 1650785416999,
     "user": {
      "displayName": "최윤아",
      "userId": "13391811122094852456"
     },
     "user_tz": -540
    },
    "id": "bmgZTViueOdt",
    "outputId": "18a5f170-9346-4f72-d015-0cd0c4ac56b7"
   },
   "outputs": [
    {
     "name": "stdout",
     "output_type": "stream",
     "text": [
      "A\n",
      "D\n"
     ]
    }
   ],
   "source": [
    "# 155\n",
    "# 리스트에서 대문자만 화면에 출력하라.\n",
    "\n",
    "리스트 = [\"A\", \"b\", \"c\", \"D\"]\n",
    "for i in 리스트 :\n",
    "    if i.isupper() : \n",
    "        print(i)"
   ]
  },
  {
   "cell_type": "code",
   "execution_count": null,
   "metadata": {
    "colab": {
     "base_uri": "https://localhost:8080/"
    },
    "executionInfo": {
     "elapsed": 333,
     "status": "ok",
     "timestamp": 1650785505135,
     "user": {
      "displayName": "최윤아",
      "userId": "13391811122094852456"
     },
     "user_tz": -540
    },
    "id": "fr0S9N58eZM9",
    "outputId": "0d085299-f3ae-4296-fe41-39817acf99be"
   },
   "outputs": [
    {
     "name": "stdout",
     "output_type": "stream",
     "text": [
      "b\n",
      "c\n"
     ]
    }
   ],
   "source": [
    "# 156\n",
    "# 리스트에서 소문자만 화면에 출력하라.\n",
    "\n",
    "리스트 = [\"A\", \"b\", \"c\", \"D\"]\n",
    "for i in 리스트 :\n",
    "    if i.islower() :\n",
    "        print(i)"
   ]
  },
  {
   "cell_type": "code",
   "execution_count": null,
   "metadata": {
    "colab": {
     "base_uri": "https://localhost:8080/"
    },
    "executionInfo": {
     "elapsed": 4,
     "status": "ok",
     "timestamp": 1650785607935,
     "user": {
      "displayName": "최윤아",
      "userId": "13391811122094852456"
     },
     "user_tz": -540
    },
    "id": "80Adg_s6e8l6",
    "outputId": "d07feabb-5a08-4abd-9924-851c78fa3113"
   },
   "outputs": [
    {
     "name": "stdout",
     "output_type": "stream",
     "text": [
      "Dog\n",
      "Cat\n",
      "Parrot\n",
      "\n",
      "Dog\n",
      "Cat\n",
      "Parrot\n"
     ]
    }
   ],
   "source": [
    "# 157\n",
    "# 이름의 첫 글자를 대문자로 변경해서 출력하라.\n",
    "\n",
    "리스트 = ['dog', 'cat', 'parrot']\n",
    "for i in 리스트 :\n",
    "    print(i.capitalize())\n",
    "\n",
    "\n",
    "print('')\n",
    "\n",
    "# 정답코드\n",
    "\n",
    "for 변수 in 리스트:\n",
    "  print(변수[0].upper() + 변수[1:])"
   ]
  },
  {
   "cell_type": "code",
   "execution_count": null,
   "metadata": {
    "colab": {
     "base_uri": "https://localhost:8080/"
    },
    "executionInfo": {
     "elapsed": 314,
     "status": "ok",
     "timestamp": 1650785709591,
     "user": {
      "displayName": "최윤아",
      "userId": "13391811122094852456"
     },
     "user_tz": -540
    },
    "id": "FTrXy4N0fHa6",
    "outputId": "e88e137f-b68a-4faa-f826-323f55bc20f3"
   },
   "outputs": [
    {
     "name": "stdout",
     "output_type": "stream",
     "text": [
      "hello\n",
      "ex01\n",
      "intro\n"
     ]
    }
   ],
   "source": [
    "# 158\n",
    "# 파일 이름이 저장된 리스트에서 확장자를 제거하고 파일 이름만 화면에 출력하라. (힌트: split() 메서드)\n",
    "\n",
    "리스트 = ['hello.py', 'ex01.py', 'intro.hwp']\n",
    "\n",
    "for i in 리스트 :\n",
    "    print(i.split('.')[0])"
   ]
  },
  {
   "cell_type": "code",
   "execution_count": null,
   "metadata": {
    "colab": {
     "base_uri": "https://localhost:8080/"
    },
    "executionInfo": {
     "elapsed": 4,
     "status": "ok",
     "timestamp": 1650785865070,
     "user": {
      "displayName": "최윤아",
      "userId": "13391811122094852456"
     },
     "user_tz": -540
    },
    "id": "ctsu-wJlfjny",
    "outputId": "aadcaadc-2329-4157-b6fa-80fd559d163e"
   },
   "outputs": [
    {
     "name": "stdout",
     "output_type": "stream",
     "text": [
      "intra.h\n",
      "define.h\n",
      "intra.h\n",
      "define.h\n"
     ]
    }
   ],
   "source": [
    "# 159\n",
    "# 파일 이름이 저장된 리스트에서 확장자가 .h인 파일 이름을 출력하라.\n",
    "\n",
    "리스트 = ['intra.h', 'intra.c', 'define.h', 'run.py']\n",
    "for i in 리스트 :\n",
    "    if i[-2:] == '.h' :\n",
    "        print(i)\n",
    "\n",
    "# 정답코드\n",
    "리스트 = ['intra.h', 'intra.c', 'define.h', 'run.py']\n",
    "for i in 리스트 :\n",
    "    split = i.split('.')\n",
    "    if split[1] == 'h' :\n",
    "        print(i)"
   ]
  },
  {
   "cell_type": "code",
   "execution_count": null,
   "metadata": {
    "colab": {
     "base_uri": "https://localhost:8080/"
    },
    "executionInfo": {
     "elapsed": 241,
     "status": "ok",
     "timestamp": 1650785992386,
     "user": {
      "displayName": "최윤아",
      "userId": "13391811122094852456"
     },
     "user_tz": -540
    },
    "id": "aqymRx2af-JY",
    "outputId": "d435be07-66db-435e-e5f3-ccd4fb40b953"
   },
   "outputs": [
    {
     "name": "stdout",
     "output_type": "stream",
     "text": [
      "intra.h\n",
      "intra.c\n",
      "define.h\n",
      "intra.h\n",
      "intra.c\n",
      "define.h\n"
     ]
    }
   ],
   "source": [
    "# 160\n",
    "# 파일 이름이 저장된 리스트에서 확장자가 .h나 .c인 파일을 화면에 출력하라.\n",
    "\n",
    "리스트 = ['intra.h', 'intra.c', 'define.h', 'run.py']\n",
    "for i in 리스트 :\n",
    "    if (i[-2:] == '.h') or (i[-2:] == '.c') :\n",
    "        print(i)\n",
    "\n",
    "# 정답코드\n",
    "for 변수 in 리스트:\n",
    "  split = 변수.split(\".\")\n",
    "  if (split[1] == \"h\") or (split[1] == \"c\"):\n",
    "    print(변수)"
   ]
  },
  {
   "cell_type": "markdown",
   "metadata": {
    "id": "0j2Rxe8Mg0sP"
   },
   "source": [
    "# 161~170 파이썬 반복문 4"
   ]
  },
  {
   "cell_type": "code",
   "execution_count": null,
   "metadata": {
    "colab": {
     "base_uri": "https://localhost:8080/"
    },
    "executionInfo": {
     "elapsed": 10,
     "status": "ok",
     "timestamp": 1650786050618,
     "user": {
      "displayName": "최윤아",
      "userId": "13391811122094852456"
     },
     "user_tz": -540
    },
    "id": "s-B7qfGggtzE",
    "outputId": "cb8419aa-737a-4515-f694-83ad3469c1f7"
   },
   "outputs": [
    {
     "name": "stdout",
     "output_type": "stream",
     "text": [
      "0\n",
      "1\n",
      "2\n",
      "3\n",
      "4\n",
      "5\n",
      "6\n",
      "7\n",
      "8\n",
      "9\n",
      "10\n",
      "11\n",
      "12\n",
      "13\n",
      "14\n",
      "15\n",
      "16\n",
      "17\n",
      "18\n",
      "19\n",
      "20\n",
      "21\n",
      "22\n",
      "23\n",
      "24\n",
      "25\n",
      "26\n",
      "27\n",
      "28\n",
      "29\n",
      "30\n",
      "31\n",
      "32\n",
      "33\n",
      "34\n",
      "35\n",
      "36\n",
      "37\n",
      "38\n",
      "39\n",
      "40\n",
      "41\n",
      "42\n",
      "43\n",
      "44\n",
      "45\n",
      "46\n",
      "47\n",
      "48\n",
      "49\n",
      "50\n",
      "51\n",
      "52\n",
      "53\n",
      "54\n",
      "55\n",
      "56\n",
      "57\n",
      "58\n",
      "59\n",
      "60\n",
      "61\n",
      "62\n",
      "63\n",
      "64\n",
      "65\n",
      "66\n",
      "67\n",
      "68\n",
      "69\n",
      "70\n",
      "71\n",
      "72\n",
      "73\n",
      "74\n",
      "75\n",
      "76\n",
      "77\n",
      "78\n",
      "79\n",
      "80\n",
      "81\n",
      "82\n",
      "83\n",
      "84\n",
      "85\n",
      "86\n",
      "87\n",
      "88\n",
      "89\n",
      "90\n",
      "91\n",
      "92\n",
      "93\n",
      "94\n",
      "95\n",
      "96\n",
      "97\n",
      "98\n",
      "99\n"
     ]
    }
   ],
   "source": [
    "# 161\n",
    "# for문과 range 구문을 사용해서 0~99까지 한 라인에 하나씩 순차적으로 출력하는 프로그램을 작성하라.\n",
    "\n",
    "for i in range(100) :\n",
    "    print(i)"
   ]
  },
  {
   "cell_type": "code",
   "execution_count": null,
   "metadata": {
    "colab": {
     "base_uri": "https://localhost:8080/"
    },
    "executionInfo": {
     "elapsed": 268,
     "status": "ok",
     "timestamp": 1650786120002,
     "user": {
      "displayName": "최윤아",
      "userId": "13391811122094852456"
     },
     "user_tz": -540
    },
    "id": "EMZemUbGhB9l",
    "outputId": "a409dfd4-d3e7-4d88-d0b9-4a359facf022"
   },
   "outputs": [
    {
     "name": "stdout",
     "output_type": "stream",
     "text": [
      "2002\n",
      "2006\n",
      "2010\n",
      "2014\n",
      "2018\n",
      "2022\n",
      "2026\n",
      "2030\n",
      "2034\n",
      "2038\n",
      "2042\n",
      "2046\n",
      "2050\n"
     ]
    }
   ],
   "source": [
    "# 162\n",
    "# 월드컵은 4년에 한 번 개최된다. range()를 사용하여 2002~2050년까지 중 월드컵이 개최되는 연도를 출력하라.\n",
    "\n",
    "for i in range(2002,2051,4) :\n",
    "    print(i)"
   ]
  },
  {
   "cell_type": "code",
   "execution_count": null,
   "metadata": {
    "colab": {
     "base_uri": "https://localhost:8080/"
    },
    "executionInfo": {
     "elapsed": 5,
     "status": "ok",
     "timestamp": 1650786153163,
     "user": {
      "displayName": "최윤아",
      "userId": "13391811122094852456"
     },
     "user_tz": -540
    },
    "id": "ndJpsR2fhS2Y",
    "outputId": "24d95698-b12a-459d-902a-6260f5de99e0"
   },
   "outputs": [
    {
     "name": "stdout",
     "output_type": "stream",
     "text": [
      "3\n",
      "6\n",
      "9\n",
      "12\n",
      "15\n",
      "18\n",
      "21\n",
      "24\n",
      "27\n",
      "30\n"
     ]
    }
   ],
   "source": [
    "# 163\n",
    "# 1부터 30까지의 숫자 중 3의 배수를 출력하라.\n",
    "\n",
    "for i in range(3,31,3) :\n",
    "    print(i)"
   ]
  },
  {
   "cell_type": "code",
   "execution_count": null,
   "metadata": {
    "colab": {
     "base_uri": "https://localhost:8080/"
    },
    "executionInfo": {
     "elapsed": 3,
     "status": "ok",
     "timestamp": 1650786182558,
     "user": {
      "displayName": "최윤아",
      "userId": "13391811122094852456"
     },
     "user_tz": -540
    },
    "id": "RYtqqZOzhbBy",
    "outputId": "5f5e7148-8740-42d9-8f97-a3d1ac098dbf"
   },
   "outputs": [
    {
     "name": "stdout",
     "output_type": "stream",
     "text": [
      "99\n",
      "98\n",
      "97\n",
      "96\n",
      "95\n",
      "94\n",
      "93\n",
      "92\n",
      "91\n",
      "90\n",
      "89\n",
      "88\n",
      "87\n",
      "86\n",
      "85\n",
      "84\n",
      "83\n",
      "82\n",
      "81\n",
      "80\n",
      "79\n",
      "78\n",
      "77\n",
      "76\n",
      "75\n",
      "74\n",
      "73\n",
      "72\n",
      "71\n",
      "70\n",
      "69\n",
      "68\n",
      "67\n",
      "66\n",
      "65\n",
      "64\n",
      "63\n",
      "62\n",
      "61\n",
      "60\n",
      "59\n",
      "58\n",
      "57\n",
      "56\n",
      "55\n",
      "54\n",
      "53\n",
      "52\n",
      "51\n",
      "50\n",
      "49\n",
      "48\n",
      "47\n",
      "46\n",
      "45\n",
      "44\n",
      "43\n",
      "42\n",
      "41\n",
      "40\n",
      "39\n",
      "38\n",
      "37\n",
      "36\n",
      "35\n",
      "34\n",
      "33\n",
      "32\n",
      "31\n",
      "30\n",
      "29\n",
      "28\n",
      "27\n",
      "26\n",
      "25\n",
      "24\n",
      "23\n",
      "22\n",
      "21\n",
      "20\n",
      "19\n",
      "18\n",
      "17\n",
      "16\n",
      "15\n",
      "14\n",
      "13\n",
      "12\n",
      "11\n",
      "10\n",
      "9\n",
      "8\n",
      "7\n",
      "6\n",
      "5\n",
      "4\n",
      "3\n",
      "2\n",
      "1\n",
      "0\n"
     ]
    }
   ],
   "source": [
    "# 164\n",
    "# 99부터 0까지 1씩 감소하는 숫자들을, 한 라인에 하나씩 출력하라.\n",
    "\n",
    "for i in range(99,-1,-1) :\n",
    "    print(i)\n",
    "\n",
    "# 정답코드\n",
    "for i in range(100):\n",
    "    print(99 - i)"
   ]
  },
  {
   "cell_type": "code",
   "execution_count": null,
   "metadata": {
    "colab": {
     "base_uri": "https://localhost:8080/"
    },
    "executionInfo": {
     "elapsed": 5,
     "status": "ok",
     "timestamp": 1650786292481,
     "user": {
      "displayName": "최윤아",
      "userId": "13391811122094852456"
     },
     "user_tz": -540
    },
    "id": "CitxoYnhhiLQ",
    "outputId": "e5907acd-a115-4fb7-8ff2-8abcffcc01f8"
   },
   "outputs": [
    {
     "name": "stdout",
     "output_type": "stream",
     "text": [
      "0.0\n",
      "0.1\n",
      "0.2\n",
      "0.3\n",
      "0.4\n",
      "0.5\n",
      "0.6\n",
      "0.7\n",
      "0.8\n",
      "0.9\n"
     ]
    }
   ],
   "source": [
    "# 165 \n",
    "# for문을 사용해서 아래와 같이 출력하라.\n",
    "# 0.0\n",
    "# 0.1\n",
    "# 0.2\n",
    "# 0.3\n",
    "# 0.4\n",
    "# 0.5\n",
    "# ...\n",
    "# 0.9\n",
    "\n",
    "for i in range(10) :\n",
    "    print(i / 10)"
   ]
  },
  {
   "cell_type": "code",
   "execution_count": null,
   "metadata": {
    "colab": {
     "base_uri": "https://localhost:8080/"
    },
    "executionInfo": {
     "elapsed": 11,
     "status": "ok",
     "timestamp": 1650786359911,
     "user": {
      "displayName": "최윤아",
      "userId": "13391811122094852456"
     },
     "user_tz": -540
    },
    "id": "MRkQdRA_h2_K",
    "outputId": "074770bf-1d26-41fc-a2ff-91e133674371"
   },
   "outputs": [
    {
     "name": "stdout",
     "output_type": "stream",
     "text": [
      "3 X 1 = 3\n",
      "3 X 2 = 6\n",
      "3 X 3 = 9\n",
      "3 X 4 = 12\n",
      "3 X 5 = 15\n",
      "3 X 6 = 18\n",
      "3 X 7 = 21\n",
      "3 X 8 = 24\n",
      "3 X 9 = 27\n"
     ]
    }
   ],
   "source": [
    "# 166\n",
    "# 구구단 3단을 출력하라.\n",
    "# 3x1 = 3\n",
    "# 3x2 = 6\n",
    "# 3x3 = 9\n",
    "# 3x4 = 12\n",
    "# 3x5 = 15\n",
    "# 3x6 = 18\n",
    "# 3x7 = 21\n",
    "# 3x8 = 24\n",
    "# 3x9 = 27\n",
    "\n",
    "for i in range(1, 10) :\n",
    "    print(f'3 X {i} = {3 * i}') "
   ]
  },
  {
   "cell_type": "code",
   "execution_count": null,
   "metadata": {
    "colab": {
     "base_uri": "https://localhost:8080/"
    },
    "executionInfo": {
     "elapsed": 241,
     "status": "ok",
     "timestamp": 1650786405378,
     "user": {
      "displayName": "최윤아",
      "userId": "13391811122094852456"
     },
     "user_tz": -540
    },
    "id": "lhfhl9OYiNal",
    "outputId": "632aa6e2-5c2c-4748-af97-f688e44f486d"
   },
   "outputs": [
    {
     "name": "stdout",
     "output_type": "stream",
     "text": [
      "3 X 1 = 3\n",
      "3 X 3 = 9\n",
      "3 X 5 = 15\n",
      "3 X 7 = 21\n",
      "3 X 9 = 27\n"
     ]
    }
   ],
   "source": [
    "# 167\n",
    "# 구구단 3단을 출력하라. 단 홀수 번째만 출력한다.\n",
    "# 3x1 = 3\n",
    "# 3x3 = 9\n",
    "# 3x5 = 15\n",
    "# 3x7 = 21\n",
    "# 3x9 = 27\n",
    "\n",
    "for i in range(1,10,2):\n",
    "    print(f'3 X {i} = {3 * i}') "
   ]
  },
  {
   "cell_type": "code",
   "execution_count": null,
   "metadata": {
    "colab": {
     "base_uri": "https://localhost:8080/"
    },
    "executionInfo": {
     "elapsed": 237,
     "status": "ok",
     "timestamp": 1650786791335,
     "user": {
      "displayName": "최윤아",
      "userId": "13391811122094852456"
     },
     "user_tz": -540
    },
    "id": "z9m5YWH2iYiF",
    "outputId": "3014b464-3416-45f1-bb56-91758d71fb0b"
   },
   "outputs": [
    {
     "name": "stdout",
     "output_type": "stream",
     "text": [
      "합: 55\n"
     ]
    }
   ],
   "source": [
    "# 168\n",
    "# 1~10까지의 숫자에 대해 모두 더한 값을 출력하는 프로그램을 for 문을 사용하여 작성하라.\n",
    "# 합 : 55\n",
    "\n",
    "num = 0 # 전역변수, 글로벌변수\n",
    "for i in range(1,11) :\n",
    "    num += i\n",
    "    if i == 10 :\n",
    "        print('합:',num)"
   ]
  },
  {
   "cell_type": "code",
   "execution_count": null,
   "metadata": {
    "colab": {
     "base_uri": "https://localhost:8080/"
    },
    "executionInfo": {
     "elapsed": 9,
     "status": "ok",
     "timestamp": 1650786842435,
     "user": {
      "displayName": "최윤아",
      "userId": "13391811122094852456"
     },
     "user_tz": -540
    },
    "id": "gxvDyO8EigNX",
    "outputId": "1f989153-61c0-4711-f970-503cb5126a35"
   },
   "outputs": [
    {
     "name": "stdout",
     "output_type": "stream",
     "text": [
      "합: 25\n"
     ]
    }
   ],
   "source": [
    "# 169\n",
    "# 1~10까지의 숫자 중 모든 홀수의 합을 출력하는 프로그램을 for 문을 사용하여 작성하라.\n",
    "\n",
    "num = 0\n",
    "for i in range(1,11,2) :\n",
    "    num += i\n",
    "    if i == 9 :\n",
    "        print('합:',num)"
   ]
  },
  {
   "cell_type": "code",
   "execution_count": null,
   "metadata": {
    "colab": {
     "base_uri": "https://localhost:8080/"
    },
    "executionInfo": {
     "elapsed": 243,
     "status": "ok",
     "timestamp": 1650786895200,
     "user": {
      "displayName": "최윤아",
      "userId": "13391811122094852456"
     },
     "user_tz": -540
    },
    "id": "ItJg4_BmjyRM",
    "outputId": "794aa1bb-ee03-48bc-81a2-7fbcbaf7c045"
   },
   "outputs": [
    {
     "name": "stdout",
     "output_type": "stream",
     "text": [
      "3628800\n"
     ]
    }
   ],
   "source": [
    "# 170\n",
    "# 1~10까지의 숫자를 모두 곱한 값을 출력하는 프로그램을 for 문을 사용하여 작성하라.\n",
    "\n",
    "num = 1\n",
    "for i in range(1,11) :\n",
    "    num *= i\n",
    "    if i == 10 :\n",
    "        print(num)"
   ]
  },
  {
   "cell_type": "markdown",
   "metadata": {
    "id": "BR8mCJ_LkTHG"
   },
   "source": [
    "# 171~180 파이썬 반복문 5"
   ]
  },
  {
   "cell_type": "code",
   "execution_count": null,
   "metadata": {
    "colab": {
     "base_uri": "https://localhost:8080/"
    },
    "executionInfo": {
     "elapsed": 9,
     "status": "ok",
     "timestamp": 1650787127301,
     "user": {
      "displayName": "최윤아",
      "userId": "13391811122094852456"
     },
     "user_tz": -540
    },
    "id": "9Cl0IgeVkYhN",
    "outputId": "ed1d4155-bb14-4581-a1fd-f04b4af596b6"
   },
   "outputs": [
    {
     "name": "stdout",
     "output_type": "stream",
     "text": [
      "32100\n",
      "32150\n",
      "32000\n",
      "32500\n",
      "32100\n",
      "32150\n",
      "32000\n",
      "32500\n"
     ]
    }
   ],
   "source": [
    "# 171\n",
    "# 아래와 같이 리스트의 데이터를 출력하라. 단, for문과 range문을 사용하라.\n",
    "# 32100\n",
    "# 32150\n",
    "# 32000\n",
    "# 32500\n",
    "\n",
    "price_list = [32100, 32150, 32000, 32500]\n",
    "for i in range(4) :\n",
    "    print(price_list[i])\n",
    "\n",
    "# 정답코드\n",
    "for i in range(len(price_list)) :\n",
    "    print(price_list[i])"
   ]
  },
  {
   "cell_type": "code",
   "execution_count": null,
   "metadata": {
    "colab": {
     "base_uri": "https://localhost:8080/"
    },
    "executionInfo": {
     "elapsed": 253,
     "status": "ok",
     "timestamp": 1650787272196,
     "user": {
      "displayName": "최윤아",
      "userId": "13391811122094852456"
     },
     "user_tz": -540
    },
    "id": "B6-vcc2EktSJ",
    "outputId": "53bdae5c-ca92-47d4-ba41-4807821c3891"
   },
   "outputs": [
    {
     "name": "stdout",
     "output_type": "stream",
     "text": [
      "0 32100\n",
      "1 32150\n",
      "2 32000\n",
      "3 32500\n",
      "\n",
      "0 32100\n",
      "1 32150\n",
      "2 32000\n",
      "3 32500\n"
     ]
    }
   ],
   "source": [
    "# 172\n",
    "# 아래와 같이 리스트의 데이터를 출력하라. 단, for문과 range문을 사용하라.\n",
    "# 0 32100\n",
    "# 1 32150\n",
    "# 2 32000\n",
    "# 3 32500\n",
    "\n",
    "price_list = [32100, 32150, 32000, 32500]\n",
    "\n",
    "for i in range(len(price_list)) :\n",
    "    print(i, price_list[i])\n",
    "print('')\n",
    "\n",
    "# enumerate 사용\n",
    "# enumerate : 순서가 있는 자료형(리스트, 튜플, 문자열)을 입력으로 받아 인덱스 값을 포함하는 enumerate 객체를 리턴\n",
    "for i, data in enumerate(price_list) :\n",
    "    print(i, data)"
   ]
  },
  {
   "cell_type": "code",
   "execution_count": null,
   "metadata": {
    "colab": {
     "base_uri": "https://localhost:8080/"
    },
    "executionInfo": {
     "elapsed": 253,
     "status": "ok",
     "timestamp": 1650787446201,
     "user": {
      "displayName": "최윤아",
      "userId": "13391811122094852456"
     },
     "user_tz": -540
    },
    "id": "R9Ti_PjelWRW",
    "outputId": "a195e018-948c-4dd9-ca08-56ccf238c838"
   },
   "outputs": [
    {
     "name": "stdout",
     "output_type": "stream",
     "text": [
      "3 32100\n",
      "2 32150\n",
      "1 32000\n",
      "0 32500\n"
     ]
    }
   ],
   "source": [
    "# 173 \n",
    "# 아래와 같이 리스트의 데이터를 출력하라. 단, for문과 range문을 사용하라.\n",
    "# 3 32100\n",
    "# 2 32150\n",
    "# 1 32000\n",
    "# 0 32500\n",
    "\n",
    "price_list = [32100, 32150, 32000, 32500]\n",
    "\n",
    "for i in range(len(price_list)) :\n",
    "    print( (len(price_list)-1)-i, price_list[i] )\n"
   ]
  },
  {
   "cell_type": "code",
   "execution_count": null,
   "metadata": {
    "colab": {
     "base_uri": "https://localhost:8080/"
    },
    "executionInfo": {
     "elapsed": 4,
     "status": "ok",
     "timestamp": 1650787656924,
     "user": {
      "displayName": "최윤아",
      "userId": "13391811122094852456"
     },
     "user_tz": -540
    },
    "id": "P4yQGV2CmKH5",
    "outputId": "1c22d180-b71e-4b6f-b231-7e285de126e6"
   },
   "outputs": [
    {
     "name": "stdout",
     "output_type": "stream",
     "text": [
      "110 32150\n",
      "120 32000\n",
      "130 32500\n",
      "\n",
      "100 32150\n",
      "110 32000\n",
      "120 32500\n"
     ]
    }
   ],
   "source": [
    "# 174\n",
    "# 아래와 같이 리스트의 데이터를 출력하라. 단, for문과 range문을 사용하라.\n",
    "# 100 32150\n",
    "# 110 32000\n",
    "# 120 32500\n",
    "\n",
    "price_list = [32100, 32150, 32000, 32500]\n",
    "for i in range(len(price_list)) :\n",
    "    if 1 <= i < 4 :\n",
    "        print( '1'+str(i)+'0', price_list[i] )\n",
    "print('')\n",
    "\n",
    "# 정답코드\n",
    "\n",
    "for i in range(1,4) :\n",
    "    print(90 + 10 * i, price_list[i])"
   ]
  },
  {
   "cell_type": "code",
   "execution_count": null,
   "metadata": {
    "colab": {
     "base_uri": "https://localhost:8080/"
    },
    "executionInfo": {
     "elapsed": 256,
     "status": "ok",
     "timestamp": 1650787780628,
     "user": {
      "displayName": "최윤아",
      "userId": "13391811122094852456"
     },
     "user_tz": -540
    },
    "id": "SFKIL3yqm1QJ",
    "outputId": "16d99b92-b1bf-4ba7-c0c7-19bd21c949be"
   },
   "outputs": [
    {
     "name": "stdout",
     "output_type": "stream",
     "text": [
      "가 나\n",
      "나 다\n",
      "다 라\n"
     ]
    }
   ],
   "source": [
    "# 175\n",
    "# my_list를 아래와 같이 출력하라.\n",
    "# 가 나\n",
    "# 나 다\n",
    "# 다 라\n",
    "\n",
    "my_list = [\"가\", \"나\", \"다\", \"라\"]\n",
    "\n",
    "for i in range(1, len(my_list)) :\n",
    "    print(my_list[i-1], my_list[i])"
   ]
  },
  {
   "cell_type": "code",
   "execution_count": null,
   "metadata": {
    "colab": {
     "base_uri": "https://localhost:8080/"
    },
    "executionInfo": {
     "elapsed": 259,
     "status": "ok",
     "timestamp": 1650787862972,
     "user": {
      "displayName": "최윤아",
      "userId": "13391811122094852456"
     },
     "user_tz": -540
    },
    "id": "bp-R12WAneGK",
    "outputId": "55f8dcea-a2f9-4b08-b291-64e8e5c9f500"
   },
   "outputs": [
    {
     "name": "stdout",
     "output_type": "stream",
     "text": [
      "가 나 다\n",
      "나 다 라\n",
      "다 라 마\n"
     ]
    }
   ],
   "source": [
    "# 176\n",
    "# 리스트를 아래와 같이 출력하라.\n",
    "\n",
    "# 가 나 다\n",
    "# 나 다 라\n",
    "# 다 라 마\n",
    "\n",
    "my_list = [\"가\", \"나\", \"다\", \"라\", \"마\"]\n",
    "\n",
    "for i in range(len(my_list)-2) :\n",
    "    print( my_list[i], my_list[i+1], my_list[i+2] )"
   ]
  },
  {
   "cell_type": "code",
   "execution_count": null,
   "metadata": {
    "colab": {
     "base_uri": "https://localhost:8080/"
    },
    "executionInfo": {
     "elapsed": 252,
     "status": "ok",
     "timestamp": 1650788144425,
     "user": {
      "displayName": "최윤아",
      "userId": "13391811122094852456"
     },
     "user_tz": -540
    },
    "id": "2pBNq-Zsn8Va",
    "outputId": "0bfb9003-945c-4018-ca1a-aeba5997b16c"
   },
   "outputs": [
    {
     "name": "stdout",
     "output_type": "stream",
     "text": [
      "라 다\n",
      "다 나\n",
      "나 가\n"
     ]
    }
   ],
   "source": [
    "# 177\n",
    "# 반복문과 range 함수를 사용해서 my_list를 아래와 같이 출력하라.\n",
    "# 라 다\n",
    "# 다 나\n",
    "# 나 가\n",
    "\n",
    "my_list = [\"가\", \"나\", \"다\", \"라\"]\n",
    "\n",
    "for i in range(1, len(my_list)) :\n",
    "    print( my_list[-i], my_list[-(i+1)] )"
   ]
  },
  {
   "cell_type": "code",
   "execution_count": null,
   "metadata": {
    "colab": {
     "base_uri": "https://localhost:8080/"
    },
    "executionInfo": {
     "elapsed": 8,
     "status": "ok",
     "timestamp": 1650788296002,
     "user": {
      "displayName": "최윤아",
      "userId": "13391811122094852456"
     },
     "user_tz": -540
    },
    "id": "XnTOKhhSo49_",
    "outputId": "6677799b-7c0b-4e85-f937-b0390917fa8b"
   },
   "outputs": [
    {
     "name": "stdout",
     "output_type": "stream",
     "text": [
      "100\n",
      "200\n",
      "400\n"
     ]
    }
   ],
   "source": [
    "# 178\n",
    "# 리스트에는 네 개의 정수가 저장되어 있다. 각각의 데이터에 대해서 자신과 우측값과의 차분값을 화면에 출력하라.\n",
    "# 예를들어 100을 기준으로 우측에 위치한 200과의 차분 값를 화면에 출력하고, \n",
    "# 200을 기준으로 우측에 위치한 400과의 차분값을 화면에 출력한다. \n",
    "# 이어서 400을 기준으로 우측에 위치한 800과의 차분값을 화면에 출력한다.\n",
    "# 100\n",
    "# 200\n",
    "# 400\n",
    "\n",
    "my_list = [100, 200, 400, 800]\n",
    "\n",
    "for i in range(len(my_list)-1) :\n",
    "    print( abs(my_list[i+1]-my_list[i]) )\n"
   ]
  },
  {
   "cell_type": "code",
   "execution_count": null,
   "metadata": {
    "colab": {
     "base_uri": "https://localhost:8080/"
    },
    "executionInfo": {
     "elapsed": 10,
     "status": "ok",
     "timestamp": 1650788479828,
     "user": {
      "displayName": "최윤아",
      "userId": "13391811122094852456"
     },
     "user_tz": -540
    },
    "id": "d3aL6eG_pbs6",
    "outputId": "2bbd1fff-2978-4c19-e129-8311f772663f"
   },
   "outputs": [
    {
     "name": "stdout",
     "output_type": "stream",
     "text": [
      "533.3333333333334\n",
      "233.33333333333334\n",
      "466.6666666666667\n",
      "733.3333333333334\n"
     ]
    }
   ],
   "source": [
    "# 179\n",
    "# 리스트에는 6일 간의 종가 데이터가 저장되어 있다. 종가 데이터의 3일 이동 평균을 계산하고 이를 화면에 출력하라.\n",
    "# 첫 번째 줄에는 100, 200, 400의 평균값이 출력된다. 두 번째 줄에는 200, 400, 800의 평균값이 출력된다. 같은 방식으로 나머지 데이터의 평균을 출력한다.\n",
    "# 233.33333333333334\n",
    "# 466.6666666666667\n",
    "# 733.3333333333334\n",
    "# 1033.3333333333333\n",
    "\n",
    "my_list = [100, 200, 400, 800, 1000, 1300]\n",
    "\n",
    "for i in range(len(my_list)-2) :\n",
    "    평균값 = abs((my_list[i-1] + my_list[i] + my_list[i+1]) / 3)\n",
    "    print(평균값)\n"
   ]
  },
  {
   "cell_type": "code",
   "execution_count": null,
   "metadata": {
    "colab": {
     "base_uri": "https://localhost:8080/"
    },
    "executionInfo": {
     "elapsed": 3,
     "status": "ok",
     "timestamp": 1650788863964,
     "user": {
      "displayName": "최윤아",
      "userId": "13391811122094852456"
     },
     "user_tz": -540
    },
    "id": "_QANZnacqJl_",
    "outputId": "e562640e-13db-4a8f-b2d0-9f35cdc04d71"
   },
   "outputs": [
    {
     "name": "stdout",
     "output_type": "stream",
     "text": [
      "[50, 100, 30, 80, 0]\n"
     ]
    }
   ],
   "source": [
    "# 180\n",
    "# 리스트에 5일간의 저가, 고가 정보가 저장돼 있다. \n",
    "# 고가와 저가의 차를 변동폭이라고 정의할 때, \n",
    "# low, high 두 개의 리스트를 사용해서 5일간의 변동폭을 volatility 리스트에 저장하라.\n",
    "\n",
    "low_prices  = [100, 200, 400, 800, 1000]\n",
    "high_prices = [150, 300, 430, 880, 1000]\n",
    "\n",
    "volatility = [ ]\n",
    "for i in range(len(low_prices)) :\n",
    "    volatility.append(high_prices[i]-low_prices[i])\n",
    "print(volatility)"
   ]
  },
  {
   "cell_type": "markdown",
   "metadata": {
    "id": "99x1ZeRlry2W"
   },
   "source": [
    "# 181~190 파이썬 반복문 6"
   ]
  },
  {
   "cell_type": "code",
   "execution_count": null,
   "metadata": {
    "colab": {
     "base_uri": "https://localhost:8080/"
    },
    "executionInfo": {
     "elapsed": 6,
     "status": "ok",
     "timestamp": 1650789015133,
     "user": {
      "displayName": "최윤아",
      "userId": "13391811122094852456"
     },
     "user_tz": -540
    },
    "id": "pnvst46Yr2Sw",
    "outputId": "01deef9d-7569-4a7c-c9be-daf4c272944d"
   },
   "outputs": [
    {
     "name": "stdout",
     "output_type": "stream",
     "text": [
      "[['101호', '102호'], ['201호', '202호'], ['301호', '302호']]\n"
     ]
    }
   ],
   "source": [
    "# 181\n",
    "# 아래 표에서 하나의 행을 하나의 리스트로, 총 3개의 리스트를 갖는 이차원 리스트 apart를 정의하라.\n",
    "\n",
    "# 101호\t102호\n",
    "# 201호\t202호\n",
    "# 301호\t302호\n",
    "\n",
    "apart = [['101호', '102호'], ['201호','202호'], ['301호', '302호']]\n",
    "print(apart)"
   ]
  },
  {
   "cell_type": "code",
   "execution_count": null,
   "metadata": {
    "colab": {
     "base_uri": "https://localhost:8080/"
    },
    "executionInfo": {
     "elapsed": 249,
     "status": "ok",
     "timestamp": 1650789084400,
     "user": {
      "displayName": "최윤아",
      "userId": "13391811122094852456"
     },
     "user_tz": -540
    },
    "id": "lMizvLiwsLMv",
    "outputId": "bee2de94-911a-464e-849f-38aeece79f58"
   },
   "outputs": [
    {
     "name": "stdout",
     "output_type": "stream",
     "text": [
      "[['시가', 100, 200, 300], ['종가', 80, 210, 330]]\n"
     ]
    }
   ],
   "source": [
    "# 182\n",
    "# 아래 표에서 하나의 열을 하나의 리스트로, 총 2개의 리스트를 갖는 이차원 리스트 stock을 정의하라.\n",
    "\n",
    "# 시가\t종가\n",
    "# 100\t80\n",
    "# 200\t210\n",
    "# 300\t330\n",
    "\n",
    "stock = [ [\"시가\", 100, 200, 300], [\"종가\", 80, 210, 330] ]\n",
    "print(stock)"
   ]
  },
  {
   "cell_type": "code",
   "execution_count": null,
   "metadata": {
    "colab": {
     "base_uri": "https://localhost:8080/"
    },
    "executionInfo": {
     "elapsed": 287,
     "status": "ok",
     "timestamp": 1650789145584,
     "user": {
      "displayName": "최윤아",
      "userId": "13391811122094852456"
     },
     "user_tz": -540
    },
    "id": "Y5x6gZDFsjDQ",
    "outputId": "ed3e1b94-bfdc-4bd6-ead7-4abfe4c0e8f1"
   },
   "outputs": [
    {
     "name": "stdout",
     "output_type": "stream",
     "text": [
      "{'시가': [100, 200, 300], '종가': [80, 210, 330]}\n"
     ]
    }
   ],
   "source": [
    "# 183\n",
    "# 아래 표를 stock 이름의 딕셔너리로 표현하라.시가를 key로 저장하고, \n",
    "# 나머지 같은 열의 데이터를 리스트로 저장해서 value로 저장한다. \n",
    "# 종가 역시 key로 저장하고 나머지 같은 열의 데이터를 리스트로 저장해서 value로 저장한다.\n",
    "\n",
    "# 시가\t종가\n",
    "# 100\t80\n",
    "# 200\t210\n",
    "# 300\t330\n",
    "\n",
    "stock = {\n",
    "    '시가' : [100,200,300],\n",
    "    '종가' : [80,210,330]\n",
    "}\n",
    "print(stock)"
   ]
  },
  {
   "cell_type": "code",
   "execution_count": null,
   "metadata": {
    "colab": {
     "base_uri": "https://localhost:8080/"
    },
    "executionInfo": {
     "elapsed": 260,
     "status": "ok",
     "timestamp": 1650789221538,
     "user": {
      "displayName": "최윤아",
      "userId": "13391811122094852456"
     },
     "user_tz": -540
    },
    "id": "E1gOlEpGs1hS",
    "outputId": "594b250f-8dfd-4ed9-ba1d-156d0d4432f1"
   },
   "outputs": [
    {
     "name": "stdout",
     "output_type": "stream",
     "text": [
      "{'10/10': [80, 110, 70, 90], '10/11': [210, 340, 190, 200]}\n"
     ]
    }
   ],
   "source": [
    "# 184\n",
    "# 아래 표를 stock 이라는 이름의 딕셔너리로 표현하라. 날짜를 key로 저장하고, \n",
    "# 나머지 같은 행의 데이터를 리스트로 저장해서 value로 저장한다. 첫 열이 날짜이다.\n",
    "\n",
    "\n",
    "# 10/10\t80\t110\t70\t90\n",
    "# 10/11\t210\t230\t190\t200\n",
    "\n",
    "stock = {\n",
    "    '10/10' : [80, 110, 70, 90],\n",
    "    '10/11' :  [210, 340, 190, 200]\n",
    "}\n",
    "print(stock)"
   ]
  },
  {
   "cell_type": "code",
   "execution_count": null,
   "metadata": {
    "colab": {
     "base_uri": "https://localhost:8080/"
    },
    "executionInfo": {
     "elapsed": 945,
     "status": "ok",
     "timestamp": 1650789476619,
     "user": {
      "displayName": "최윤아",
      "userId": "13391811122094852456"
     },
     "user_tz": -540
    },
    "id": "Gewk4nqytFtI",
    "outputId": "b91869b0-f0e3-4e11-c34c-a588fc83804d"
   },
   "outputs": [
    {
     "name": "stdout",
     "output_type": "stream",
     "text": [
      "101 호\n",
      "102 호\n",
      "201 호\n",
      "202 호\n",
      "301 호\n",
      "302 호\n",
      "\n",
      "101 호\n",
      "102 호\n",
      "201 호\n",
      "202 호\n",
      "301 호\n",
      "302 호\n"
     ]
    }
   ],
   "source": [
    "# 185\n",
    "# 리스트에 저장된 데이터를 아래와 같이 출력하라.\n",
    "# 101 호\n",
    "# 102 호\n",
    "# 201 호\n",
    "# 202 호\n",
    "# 301 호\n",
    "# 302 호\n",
    "\n",
    "apart = [ [101, 102], [201, 202], [301, 302] ]\n",
    "\n",
    "\n",
    "for i in range(len(apart)) :\n",
    "    print(apart[i][0], '호');print(apart[i][1], '호')\n",
    "print('')\n",
    "\n",
    "# 정답코드, 이중 for문\n",
    "\n",
    "for row in apart :\n",
    "    for col in row :\n",
    "        print(col,'호')"
   ]
  },
  {
   "cell_type": "code",
   "execution_count": null,
   "metadata": {
    "colab": {
     "base_uri": "https://localhost:8080/"
    },
    "executionInfo": {
     "elapsed": 6,
     "status": "ok",
     "timestamp": 1650789616147,
     "user": {
      "displayName": "최윤아",
      "userId": "13391811122094852456"
     },
     "user_tz": -540
    },
    "id": "z3FZT5O1tZdo",
    "outputId": "20f14abd-2649-496d-e5dd-45142b073c24"
   },
   "outputs": [
    {
     "name": "stdout",
     "output_type": "stream",
     "text": [
      "301 호\n",
      "302 호\n",
      "201 호\n",
      "202 호\n",
      "101 호\n",
      "102 호\n"
     ]
    }
   ],
   "source": [
    "# 186\n",
    "# 리스트에 저장된 데이터를 아래와 같이 출력하라.\n",
    "\n",
    "# 301 호\n",
    "# 302 호\n",
    "# 201 호\n",
    "# 202 호\n",
    "# 101 호\n",
    "# 102 호\n",
    "\n",
    "apart = [ [101, 102], [201, 202], [301, 302] ]\n",
    "\n",
    "for i in apart[::-1] :\n",
    "     for j in i :\n",
    "         print(j,'호')\n"
   ]
  },
  {
   "cell_type": "code",
   "execution_count": null,
   "metadata": {
    "colab": {
     "base_uri": "https://localhost:8080/"
    },
    "executionInfo": {
     "elapsed": 395,
     "status": "ok",
     "timestamp": 1650789691912,
     "user": {
      "displayName": "최윤아",
      "userId": "13391811122094852456"
     },
     "user_tz": -540
    },
    "id": "-_4dc4-dugGw",
    "outputId": "5ca6d943-2865-4636-e591-427f2ad7b48e"
   },
   "outputs": [
    {
     "name": "stdout",
     "output_type": "stream",
     "text": [
      "302 호\n",
      "301 호\n",
      "202 호\n",
      "201 호\n",
      "102 호\n",
      "101 호\n"
     ]
    }
   ],
   "source": [
    "# 187 \n",
    "# 리스트에 저장된 데이터를 아래와 같이 출력하라.\n",
    "\n",
    "# 302 호\n",
    "# 301 호\n",
    "# 202 호\n",
    "# 201 호\n",
    "# 102 호\n",
    "# 101 호\n",
    "\n",
    "apart = [ [101, 102], [201, 202], [301, 302] ]\n",
    "\n",
    "for i in apart[::-1] :\n",
    "    for j in i[::-1] :\n",
    "        print(j, '호')\n"
   ]
  },
  {
   "cell_type": "code",
   "execution_count": null,
   "metadata": {
    "colab": {
     "base_uri": "https://localhost:8080/"
    },
    "executionInfo": {
     "elapsed": 279,
     "status": "ok",
     "timestamp": 1650789761938,
     "user": {
      "displayName": "최윤아",
      "userId": "13391811122094852456"
     },
     "user_tz": -540
    },
    "id": "S0GbmP7pu635",
    "outputId": "66fc1086-31df-42f9-a4cb-161f0f944bdc"
   },
   "outputs": [
    {
     "name": "stdout",
     "output_type": "stream",
     "text": [
      "101 호\n",
      "-----\n",
      "102 호\n",
      "-----\n",
      "201 호\n",
      "-----\n",
      "202 호\n",
      "-----\n",
      "301 호\n",
      "-----\n",
      "302 호\n",
      "-----\n"
     ]
    }
   ],
   "source": [
    "# 188\n",
    "# 리스트에 저장된 데이터를 아래와 같이 출력하라.\n",
    "\n",
    "# 101 호\n",
    "# -----\n",
    "# 102 호\n",
    "# -----\n",
    "# 201 호\n",
    "# -----\n",
    "# 202 호\n",
    "# -----\n",
    "# 301 호\n",
    "# -----\n",
    "# 302 호\n",
    "# -----\n",
    "\n",
    "apart = [ [101, 102], [201, 202], [301, 302] ]\n",
    "\n",
    "for i in apart :\n",
    "    for j in i :\n",
    "        print(j, '호');print('-'*5)"
   ]
  },
  {
   "cell_type": "code",
   "execution_count": null,
   "metadata": {
    "colab": {
     "base_uri": "https://localhost:8080/"
    },
    "executionInfo": {
     "elapsed": 288,
     "status": "ok",
     "timestamp": 1650789820163,
     "user": {
      "displayName": "최윤아",
      "userId": "13391811122094852456"
     },
     "user_tz": -540
    },
    "id": "8Tm2Rp5wvL_w",
    "outputId": "60643cf2-3945-46b2-e3a7-2a96273262da"
   },
   "outputs": [
    {
     "name": "stdout",
     "output_type": "stream",
     "text": [
      "101 호\n",
      "102 호\n",
      "-----\n",
      "201 호\n",
      "202 호\n",
      "-----\n",
      "301 호\n",
      "302 호\n",
      "-----\n"
     ]
    }
   ],
   "source": [
    "# 189\n",
    "# 리스트에 저장된 데이터를 아래와 같이 출력하라.\n",
    "\n",
    "# 101 호\n",
    "# 102 호\n",
    "# -----\n",
    "# 201 호\n",
    "# 202 호\n",
    "# -----\n",
    "# 301 호\n",
    "# 302 호\n",
    "# -----\n",
    "\n",
    "apart = [ [101, 102], [201, 202], [301, 302] ]\n",
    "\n",
    "for i in apart :\n",
    "    for j in i :\n",
    "        print(j, '호')\n",
    "    print('-'*5)"
   ]
  },
  {
   "cell_type": "code",
   "execution_count": null,
   "metadata": {
    "colab": {
     "base_uri": "https://localhost:8080/"
    },
    "executionInfo": {
     "elapsed": 293,
     "status": "ok",
     "timestamp": 1650789880357,
     "user": {
      "displayName": "최윤아",
      "userId": "13391811122094852456"
     },
     "user_tz": -540
    },
    "id": "wD13I9npvaNZ",
    "outputId": "fa636d18-9b2e-424c-fdc2-c14bd25befbb"
   },
   "outputs": [
    {
     "name": "stdout",
     "output_type": "stream",
     "text": [
      "101 호\n",
      "102 호\n",
      "201 호\n",
      "202 호\n",
      "301 호\n",
      "302 호\n",
      "-----\n"
     ]
    }
   ],
   "source": [
    "# 190\n",
    "# 리스트에 저장된 데이터를 아래와 같이 출력하라.\n",
    "\n",
    "# 101 호\n",
    "# 102 호\n",
    "# 201 호\n",
    "# 202 호\n",
    "# 301 호\n",
    "# 302 호\n",
    "# -----\n",
    "\n",
    "apart = [ [101, 102], [201, 202], [301, 302] ]\n",
    "\n",
    "for i in apart :\n",
    "    for j in i :\n",
    "        print(j, '호')\n",
    "print('-'*5)"
   ]
  },
  {
   "cell_type": "markdown",
   "metadata": {
    "id": "hZtcMrplvqSn"
   },
   "source": [
    "# 191~200 파이썬 반복문 7"
   ]
  },
  {
   "cell_type": "code",
   "execution_count": null,
   "metadata": {
    "colab": {
     "base_uri": "https://localhost:8080/"
    },
    "executionInfo": {
     "elapsed": 263,
     "status": "ok",
     "timestamp": 1650790109819,
     "user": {
      "displayName": "최윤아",
      "userId": "13391811122094852456"
     },
     "user_tz": -540
    },
    "id": "QcUXXqt1vo3m",
    "outputId": "919f8283-79e2-430d-c8be-ab194975d17e"
   },
   "outputs": [
    {
     "name": "stdout",
     "output_type": "stream",
     "text": [
      "2000.28\n",
      "3050.427\n",
      "2050.2870000000003\n",
      "1980.2772\n",
      "7501.05\n",
      "2050.2870000000003\n",
      "2050.2870000000003\n",
      "1980.2772\n",
      "15452.163\n",
      "15052.107\n",
      "15552.177\n",
      "14902.086000000001\n"
     ]
    }
   ],
   "source": [
    "# 191\n",
    "\n",
    "# data에는 매수한 종목들의 OHLC (open/high/low/close) 가격 정보가 바인딩 되어있다.\n",
    "\n",
    "# data = [\n",
    "#     [ 2000,  3050,  2050,  1980],\n",
    "#     [ 7500,  2050,  2050,  1980],\n",
    "#     [15450, 15050, 15550, 14900]\n",
    "# ]\n",
    "\n",
    "# 수수료를 0.014 %로 가정할 때, 각 가격에 수수료를 포함한 가격을 한라인에 하나씩 출력하라.\n",
    "\n",
    "# 2000.28\n",
    "# 3050.427\n",
    "# 2050.2870000000003\n",
    "# ...\n",
    "\n",
    "\n",
    "data = [\n",
    "    [ 2000,  3050,  2050,  1980],\n",
    "    [ 7500,  2050,  2050,  1980],\n",
    "    [15450, 15050, 15550, 14900]\n",
    "]\n",
    "\n",
    "for i in data :\n",
    "    for j in i :\n",
    "        print(j*1.00014)"
   ]
  },
  {
   "cell_type": "code",
   "execution_count": null,
   "metadata": {
    "colab": {
     "base_uri": "https://localhost:8080/"
    },
    "executionInfo": {
     "elapsed": 257,
     "status": "ok",
     "timestamp": 1650790159494,
     "user": {
      "displayName": "최윤아",
      "userId": "13391811122094852456"
     },
     "user_tz": -540
    },
    "id": "SJVz19EgwGkR",
    "outputId": "4839158a-6ad3-47b7-d674-7aaa30257807"
   },
   "outputs": [
    {
     "name": "stdout",
     "output_type": "stream",
     "text": [
      "2000.28\n",
      "3050.427\n",
      "2050.2870000000003\n",
      "1980.2772\n",
      "----\n",
      "7501.05\n",
      "2050.2870000000003\n",
      "2050.2870000000003\n",
      "1980.2772\n",
      "----\n",
      "15452.163\n",
      "15052.107\n",
      "15552.177\n",
      "14902.086000000001\n",
      "----\n"
     ]
    }
   ],
   "source": [
    "# 192\n",
    "# 191번의 출력 결과에 행단위로 \"----\" 구분자를 추가하라.\n",
    "\n",
    "# 2000.28\n",
    "# 3050.427\n",
    "# 2050.2870000000003\n",
    "# 1980.2772\n",
    "# ----\n",
    "# 7501.05\n",
    "# 2050.2870000000003\n",
    "# 2050.2870000000003\n",
    "# 1980.2772\n",
    "# ----\n",
    "# 15452.163\n",
    "# 15052.107\n",
    "# 15552.177\n",
    "# 14902.086000000001\n",
    "# ----\n",
    "\n",
    "data = [\n",
    "    [ 2000,  3050,  2050,  1980],\n",
    "    [ 7500,  2050,  2050,  1980],\n",
    "    [15450, 15050, 15550, 14900]\n",
    "]\n",
    "\n",
    "for i in data :\n",
    "    for j in i :\n",
    "        print(j*1.00014)\n",
    "    print('-'*4)"
   ]
  },
  {
   "cell_type": "code",
   "execution_count": null,
   "metadata": {
    "colab": {
     "base_uri": "https://localhost:8080/"
    },
    "executionInfo": {
     "elapsed": 252,
     "status": "ok",
     "timestamp": 1650790250321,
     "user": {
      "displayName": "최윤아",
      "userId": "13391811122094852456"
     },
     "user_tz": -540
    },
    "id": "UZNJPAODwtDo",
    "outputId": "3e0eac77-7e3f-4dc3-dd5f-fdb9a1be0f68"
   },
   "outputs": [
    {
     "name": "stdout",
     "output_type": "stream",
     "text": [
      "[2000.28, 3050.427, 2050.2870000000003, 1980.2772, 7501.05, 2050.2870000000003, 2050.2870000000003, 1980.2772, 15452.163, 15052.107, 15552.177, 14902.086000000001]\n"
     ]
    }
   ],
   "source": [
    "# 193\n",
    "# 192 번 문제의 결괏값을 result 이름의 리스트에 1차원 배열로 저장하라.\n",
    "\n",
    "# >> print(result)\n",
    "# [2000.28, 3050.427, 2050.2870000000003, 1980.2772, 7501.05, 2050.2870000000003, 2050.2870000000003, ...]\n",
    "\n",
    "data = [\n",
    "    [ 2000,  3050,  2050,  1980],\n",
    "    [ 7500,  2050,  2050,  1980],\n",
    "    [15450, 15050, 15550, 14900]\n",
    "]\n",
    "\n",
    "result = []\n",
    "\n",
    "for i in data :\n",
    "    for j in i :\n",
    "        result.append(j*1.00014)\n",
    "\n",
    "print(result)"
   ]
  },
  {
   "cell_type": "code",
   "execution_count": null,
   "metadata": {
    "colab": {
     "base_uri": "https://localhost:8080/"
    },
    "executionInfo": {
     "elapsed": 266,
     "status": "ok",
     "timestamp": 1650792059820,
     "user": {
      "displayName": "최윤아",
      "userId": "13391811122094852456"
     },
     "user_tz": -540
    },
    "id": "lvIdrTcSxDNo",
    "outputId": "3bd07e91-0883-442f-81fc-e1787a9b5ec9"
   },
   "outputs": [
    {
     "name": "stdout",
     "output_type": "stream",
     "text": [
      "[[2000.28, 3050.427, 2050.2870000000003, 1980.2772], [7501.05, 2050.2870000000003, 2050.2870000000003, 1980.2772], [15452.163, 15052.107, 15552.177, 14902.086000000001]]\n"
     ]
    }
   ],
   "source": [
    "# 194\n",
    "# 191번 문제의 결괏값을 result 이름의 리스트에 2차원 배열로 저장하라. \n",
    "# 저장 포맷은 아래와 같다. 각 행에 대한 데이터끼리 리스트에 저장되어야 한다.\n",
    "\n",
    "# >> print(result)\n",
    "# [\n",
    "#  [2000.28, 3050.427, 2050.2870000000003, 1980.2772],\n",
    "#  [7501.05, 2050.2870000000003, 2050.2870000000003, 1980.2772],\n",
    "#  [15452.163, 15052.107, 15552.177, 14902.086000000001]\n",
    "# ]\n",
    "\n",
    "data = [\n",
    "    [ 2000,  3050,  2050,  1980],\n",
    "    [ 7500,  2050,  2050,  1980],\n",
    "    [15450, 15050, 15550, 14900]\n",
    "]\n",
    "result = []\n",
    "for i in data :\n",
    "    sub = []\n",
    "    for j in i :\n",
    "        sub.append(j*1.00014)\n",
    "    result.append(sub)\n",
    "\n",
    "print(result)"
   ]
  },
  {
   "cell_type": "code",
   "execution_count": null,
   "metadata": {
    "colab": {
     "base_uri": "https://localhost:8080/"
    },
    "executionInfo": {
     "elapsed": 9,
     "status": "ok",
     "timestamp": 1650792253198,
     "user": {
      "displayName": "최윤아",
      "userId": "13391811122094852456"
     },
     "user_tz": -540
    },
    "id": "3nQIxXqmxeEf",
    "outputId": "de586c3e-edfb-448a-9254-f0f066dfa106"
   },
   "outputs": [
    {
     "name": "stdout",
     "output_type": "stream",
     "text": [
      "100\n",
      "190\n",
      "310\n"
     ]
    }
   ],
   "source": [
    "# 195\n",
    "# ohlc 리스트에는 시가(open), 고가 (high), 저가 (low) , 종가(close)가 날짜별로 저장돼 있다. \n",
    "# 화면에 종가데이터를 출력하라.\n",
    "\n",
    "ohlc = [[\"open\", \"high\", \"low\", \"close\"],\n",
    "        [100, 110, 70, 100],\n",
    "        [200, 210, 180, 190],\n",
    "        [300, 310, 300, 310]]\n",
    "\n",
    "for i in ohlc[1:] :\n",
    "    print(i[-1])"
   ]
  },
  {
   "cell_type": "code",
   "execution_count": null,
   "metadata": {
    "colab": {
     "base_uri": "https://localhost:8080/"
    },
    "executionInfo": {
     "elapsed": 268,
     "status": "ok",
     "timestamp": 1650792309922,
     "user": {
      "displayName": "최윤아",
      "userId": "13391811122094852456"
     },
     "user_tz": -540
    },
    "id": "fSEirY-84TuW",
    "outputId": "2967d0da-95d6-45c5-80a8-810f357f5c8e"
   },
   "outputs": [
    {
     "name": "stdout",
     "output_type": "stream",
     "text": [
      "190\n",
      "310\n"
     ]
    }
   ],
   "source": [
    "# 196\n",
    "# ohlc 리스트에는 시가(open), 고가 (high), 저가 (low) , 종가(close)가 날짜별로 저장돼 있다. \n",
    "# 종가가 150원보다 큰경우에만 종가를 출력하라.\n",
    "\n",
    "ohlc = [[\"open\", \"high\", \"low\", \"close\"],\n",
    "        [100, 110, 70, 100],\n",
    "        [200, 210, 180, 190],\n",
    "        [300, 310, 300, 310]]\n",
    "\n",
    "for i in ohlc[1:] :\n",
    "    if i[-1] > 150 :\n",
    "        print(i[-1])"
   ]
  },
  {
   "cell_type": "code",
   "execution_count": null,
   "metadata": {
    "colab": {
     "base_uri": "https://localhost:8080/"
    },
    "executionInfo": {
     "elapsed": 4,
     "status": "ok",
     "timestamp": 1650792402070,
     "user": {
      "displayName": "최윤아",
      "userId": "13391811122094852456"
     },
     "user_tz": -540
    },
    "id": "EwWBsRQt46EJ",
    "outputId": "409ed1cd-52ab-477b-e8ba-340cbbf0b19f"
   },
   "outputs": [
    {
     "name": "stdout",
     "output_type": "stream",
     "text": [
      "100\n",
      "310\n"
     ]
    }
   ],
   "source": [
    "# 197\n",
    "# ohlc 리스트에는 시가(open), 고가 (high), 저가 (low) , 종가(close)가 날짜별로 저장돼 있다. \n",
    "# 종가가 시가 보다 크거나 같은 경우에만 종가를 출력하라.\n",
    "\n",
    "ohlc = [[\"open\", \"high\", \"low\", \"close\"],\n",
    "        [100, 110, 70, 100],\n",
    "        [200, 210, 180, 190],\n",
    "        [300, 310, 300, 310]]\n",
    "\n",
    "for i in ohlc[1:] :\n",
    "    if i[-1] >= i[0] :\n",
    "        print(i[-1])"
   ]
  },
  {
   "cell_type": "code",
   "execution_count": null,
   "metadata": {
    "colab": {
     "base_uri": "https://localhost:8080/"
    },
    "executionInfo": {
     "elapsed": 266,
     "status": "ok",
     "timestamp": 1650792695012,
     "user": {
      "displayName": "최윤아",
      "userId": "13391811122094852456"
     },
     "user_tz": -540
    },
    "id": "lugnuRJO5QmW",
    "outputId": "a465495b-dd28-4d41-dd0d-18f6b23d6888"
   },
   "outputs": [
    {
     "name": "stdout",
     "output_type": "stream",
     "text": [
      "[40, 30, 10]\n",
      "[40, 30, 10]\n"
     ]
    }
   ],
   "source": [
    "# 198\n",
    "# ohlc 리스트에는 시가(open), 고가 (high), 저가 (low) , 종가(close)가 날짜별로 저장돼 있다. \n",
    "# 고가와 저가의 차이를 변동폭으로 정의할 때 변동폭을 volatility 이름의 리스트에 저장하라.\n",
    "\n",
    "ohlc = [[\"open\", \"high\", \"low\", \"close\"],\n",
    "        [100, 110, 70, 100],\n",
    "        [200, 210, 180, 190],\n",
    "        [300, 310, 300, 310]]\n",
    "\n",
    "volatility = []\n",
    "for i in ohlc[1:] :\n",
    "    변동폭 = i[1] - i[2]\n",
    "    volatility.append(변동폭)\n",
    "\n",
    "print(volatility)\n",
    "\n",
    "# 정답코드, range 구문을 사용하여 풀기\n",
    "\n",
    "volatility = []\n",
    "for i in range(1,len(ohlc)) : # i = 1, i = 2, i = 3, i = 4 가 순서대로 assignment됨\n",
    "    volatility.append(ohlc[i][1]-ohlc[i][2])\n",
    "print(volatility)\n"
   ]
  },
  {
   "cell_type": "code",
   "execution_count": null,
   "metadata": {
    "colab": {
     "base_uri": "https://localhost:8080/"
    },
    "executionInfo": {
     "elapsed": 272,
     "status": "ok",
     "timestamp": 1650792926514,
     "user": {
      "displayName": "최윤아",
      "userId": "13391811122094852456"
     },
     "user_tz": -540
    },
    "id": "tXsJKJzE5srU",
    "outputId": "522998ab-b338-4b87-8ad2-cb3409393038"
   },
   "outputs": [
    {
     "name": "stdout",
     "output_type": "stream",
     "text": [
      "10\n",
      "10\n"
     ]
    }
   ],
   "source": [
    "# 199\n",
    "# 리스트에는 3일 간의 ohlc 데이터가 저장돼 있다. \n",
    "# 종가가 시가보다 높은 날의 변동성 (고가 - 저가)을 화면에 출력하라.\n",
    "\n",
    "ohlc = [[\"open\", \"high\", \"low\", \"close\"],\n",
    "        [100, 110, 70, 100],\n",
    "        [200, 210, 180, 190],\n",
    "        [300, 310, 300, 310]]\n",
    "\n",
    "for i in range(1,len(ohlc)) :\n",
    "    변동성 = ohlc[i][1] - ohlc[i][2]\n",
    "    if ohlc[i][-1] > ohlc[i][0] :\n",
    "        print(변동성)\n",
    "\n",
    "# 정답코드\n",
    "\n",
    "for i in ohlc[1:] :\n",
    "    if i[-1] > i[0] :\n",
    "        print(i[1]-i[2])"
   ]
  },
  {
   "cell_type": "code",
   "execution_count": null,
   "metadata": {
    "colab": {
     "base_uri": "https://localhost:8080/"
    },
    "executionInfo": {
     "elapsed": 292,
     "status": "ok",
     "timestamp": 1650793088660,
     "user": {
      "displayName": "최윤아",
      "userId": "13391811122094852456"
     },
     "user_tz": -540
    },
    "id": "iBE6bpDG7GJa",
    "outputId": "30b23786-a65a-499e-cad5-a7fd14937e85"
   },
   "outputs": [
    {
     "name": "stdout",
     "output_type": "stream",
     "text": [
      "0\n"
     ]
    }
   ],
   "source": [
    "# 200\n",
    "# 리스트에는 3일 간의 ohlc 데이터가 저장돼 있다. \n",
    "# 시가에 매수해서 종가에 매도 했을 경우 총 수익금을 계산하라.\n",
    "\n",
    "ohlc = [[\"open\", \"high\", \"low\", \"close\"],\n",
    "        [100, 110, 70, 100],\n",
    "        [200, 210, 180, 190],\n",
    "        [300, 310, 300, 310]]\n",
    "\n",
    "총수익금 = 0\n",
    "for i in ohlc[1:] :\n",
    "    수익금 = i[0] - i[-1]\n",
    "    총수익금 += 수익금\n",
    "print(총수익금)"
   ]
  }
 ],
 "metadata": {
  "colab": {
   "authorship_tag": "ABX9TyNQFJAjpWZHrvdWpZaIjyHd",
   "collapsed_sections": [],
   "name": "초보자를 위한 파이썬 300제(101~200번).ipynb",
   "provenance": []
  },
  "kernelspec": {
   "display_name": "Python 3",
   "name": "python3"
  },
  "language_info": {
   "name": "python"
  }
 },
 "nbformat": 4,
 "nbformat_minor": 0
}
