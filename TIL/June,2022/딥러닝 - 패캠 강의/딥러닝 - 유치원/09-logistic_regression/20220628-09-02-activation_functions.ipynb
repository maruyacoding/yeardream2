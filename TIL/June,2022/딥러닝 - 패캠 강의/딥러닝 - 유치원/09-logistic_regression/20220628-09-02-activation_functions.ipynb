{
 "cells": [
  {
   "cell_type": "markdown",
   "metadata": {},
   "source": [
    "# Activation Functions"
   ]
  },
  {
   "cell_type": "code",
   "execution_count": 1,
   "metadata": {},
   "outputs": [],
   "source": [
    "import torch\n",
    "import torch.nn as nn\n",
    "\n",
    "from matplotlib import pyplot as plt"
   ]
  },
  {
   "cell_type": "code",
   "execution_count": 2,
   "metadata": {},
   "outputs": [
    {
     "data": {
      "text/plain": [
       "tensor([-25.4051, -22.9500, -15.8466, -14.5066, -14.3387, -13.7533, -13.2945,\n",
       "        -13.0057, -12.7582, -12.5217, -11.9179, -11.8088, -11.6373, -11.5812,\n",
       "        -11.5552, -10.1645,  -9.6667,  -9.0878,  -8.3979,  -7.4747,  -7.1190,\n",
       "         -6.9845,  -6.7614,  -5.1484,  -4.9988,  -4.2343,  -4.1532,  -3.8999,\n",
       "         -3.8913,  -3.7418,  -3.3175,  -3.3118,  -2.9098,  -1.8796,  -1.7255,\n",
       "         -1.6851,  -1.6274,  -1.5676,  -0.9228,  -0.8158,  -0.4791,  -0.3044,\n",
       "         -0.0906,   0.0394,   0.0482,   0.0555,   0.4341,   0.6485,   0.7417,\n",
       "          1.0004,   1.2918,   1.6043,   1.6268,   1.6500,   1.6682,   1.7416,\n",
       "          1.9078,   2.1275,   2.5189,   2.5495,   2.6121,   2.8557,   3.0945,\n",
       "          3.2680,   3.3705,   3.6700,   4.1083,   4.2693,   4.2845,   4.4257,\n",
       "          5.4133,   6.6672,   6.7656,   6.8232,   6.9728,   7.2513,   7.5380,\n",
       "          7.6923,   7.7531,   8.1463,   8.5288,   8.7038,   8.9276,   9.2189,\n",
       "         10.1501,  10.8249,  10.8592,  11.2205,  11.2663,  12.5350,  12.8835,\n",
       "         13.0027,  13.4947,  14.0884,  14.4915,  15.5643,  17.1845,  19.6080,\n",
       "         21.0300,  32.8476])"
      ]
     },
     "execution_count": 2,
     "metadata": {},
     "output_type": "execute_result"
    }
   ],
   "source": [
    "# 정규분포에서 랜덤하게 sampling한 100개\n",
    "x = torch.sort(torch.randn(100) * 10)[0] # 대략 -3 ~ 3 사이의 값 \n",
    "\n",
    "x"
   ]
  },
  {
   "cell_type": "markdown",
   "metadata": {},
   "source": [
    "## Sigmoid\n",
    "\n",
    "$$\n",
    "\\sigma(x)=\\frac{1}{1+e^{-x}}\n",
    "$$"
   ]
  },
  {
   "cell_type": "code",
   "execution_count": 3,
   "metadata": {},
   "outputs": [
    {
     "name": "stdout",
     "output_type": "stream",
     "text": [
      "tensor([9.2620e-12, 1.0788e-10, 1.3120e-07, 5.0103e-07, 5.9262e-07, 1.0641e-06,\n",
      "        1.6837e-06, 2.2475e-06, 2.8785e-06, 3.6468e-06, 6.6696e-06, 7.4385e-06,\n",
      "        8.8304e-06, 9.3399e-06, 9.5857e-06, 3.8514e-05, 6.3357e-05, 1.1302e-04,\n",
      "        2.2528e-04, 5.6691e-04, 8.0891e-04, 9.2524e-04, 1.1563e-03, 5.7750e-03,\n",
      "        6.7010e-03, 1.4283e-02, 1.5471e-02, 1.9842e-02, 2.0011e-02, 2.3162e-02,\n",
      "        3.4975e-02, 3.5168e-02, 5.1673e-02, 1.3244e-01, 1.5116e-01, 1.5642e-01,\n",
      "        1.6418e-01, 1.7256e-01, 2.8438e-01, 3.0665e-01, 3.8247e-01, 4.2449e-01,\n",
      "        4.7736e-01, 5.0986e-01, 5.1204e-01, 5.1387e-01, 6.0685e-01, 6.5666e-01,\n",
      "        6.7736e-01, 7.3114e-01, 7.8444e-01, 8.3261e-01, 8.3574e-01, 8.3890e-01,\n",
      "        8.4133e-01, 8.5089e-01, 8.7078e-01, 8.9355e-01, 9.2546e-01, 9.2754e-01,\n",
      "        9.3163e-01, 9.4561e-01, 9.5667e-01, 9.6331e-01, 9.6677e-01, 9.7516e-01,\n",
      "        9.8383e-01, 9.8620e-01, 9.8641e-01, 9.8818e-01, 9.9556e-01, 9.9873e-01,\n",
      "        9.9885e-01, 9.9891e-01, 9.9906e-01, 9.9929e-01, 9.9947e-01, 9.9954e-01,\n",
      "        9.9957e-01, 9.9971e-01, 9.9980e-01, 9.9983e-01, 9.9987e-01, 9.9990e-01,\n",
      "        9.9996e-01, 9.9998e-01, 9.9998e-01, 9.9999e-01, 9.9999e-01, 1.0000e+00,\n",
      "        1.0000e+00, 1.0000e+00, 1.0000e+00, 1.0000e+00, 1.0000e+00, 1.0000e+00,\n",
      "        1.0000e+00, 1.0000e+00, 1.0000e+00, 1.0000e+00])\n"
     ]
    }
   ],
   "source": [
    "act = nn.Sigmoid()\n",
    "print(act(x)) # 객체로 선언"
   ]
  },
  {
   "cell_type": "code",
   "execution_count": 4,
   "metadata": {
    "scrolled": true
   },
   "outputs": [
    {
     "name": "stdout",
     "output_type": "stream",
     "text": [
      "tensor([9.2620e-12, 1.0788e-10, 1.3120e-07, 5.0103e-07, 5.9262e-07, 1.0641e-06,\n",
      "        1.6837e-06, 2.2475e-06, 2.8785e-06, 3.6468e-06, 6.6696e-06, 7.4385e-06,\n",
      "        8.8304e-06, 9.3399e-06, 9.5857e-06, 3.8514e-05, 6.3357e-05, 1.1302e-04,\n",
      "        2.2528e-04, 5.6691e-04, 8.0891e-04, 9.2524e-04, 1.1563e-03, 5.7750e-03,\n",
      "        6.7010e-03, 1.4283e-02, 1.5471e-02, 1.9842e-02, 2.0011e-02, 2.3162e-02,\n",
      "        3.4975e-02, 3.5168e-02, 5.1673e-02, 1.3244e-01, 1.5116e-01, 1.5642e-01,\n",
      "        1.6418e-01, 1.7256e-01, 2.8438e-01, 3.0665e-01, 3.8247e-01, 4.2449e-01,\n",
      "        4.7736e-01, 5.0986e-01, 5.1204e-01, 5.1387e-01, 6.0685e-01, 6.5666e-01,\n",
      "        6.7736e-01, 7.3114e-01, 7.8444e-01, 8.3261e-01, 8.3574e-01, 8.3890e-01,\n",
      "        8.4133e-01, 8.5089e-01, 8.7078e-01, 8.9355e-01, 9.2546e-01, 9.2754e-01,\n",
      "        9.3163e-01, 9.4561e-01, 9.5667e-01, 9.6331e-01, 9.6677e-01, 9.7516e-01,\n",
      "        9.8383e-01, 9.8620e-01, 9.8641e-01, 9.8818e-01, 9.9556e-01, 9.9873e-01,\n",
      "        9.9885e-01, 9.9891e-01, 9.9906e-01, 9.9929e-01, 9.9947e-01, 9.9954e-01,\n",
      "        9.9957e-01, 9.9971e-01, 9.9980e-01, 9.9983e-01, 9.9987e-01, 9.9990e-01,\n",
      "        9.9996e-01, 9.9998e-01, 9.9998e-01, 9.9999e-01, 9.9999e-01, 1.0000e+00,\n",
      "        1.0000e+00, 1.0000e+00, 1.0000e+00, 1.0000e+00, 1.0000e+00, 1.0000e+00,\n",
      "        1.0000e+00, 1.0000e+00, 1.0000e+00, 1.0000e+00])\n"
     ]
    }
   ],
   "source": [
    "print(torch.sigmoid(x)) # 함수로 선언"
   ]
  },
  {
   "cell_type": "code",
   "execution_count": 5,
   "metadata": {},
   "outputs": [
    {
     "data": {
      "image/png": "[encoded data removed]",
      "text/plain": [
       "<Figure size 432x288 with 1 Axes>"
      ]
     },
     "metadata": {
      "needs_background": "light"
     },
     "output_type": "display_data"
    }
   ],
   "source": [
    "plt.plot(x.numpy(), torch.sigmoid(x).numpy()) # 미분 가능한 것이 특징! / 0 ~ 1 사이의 값\n",
    "plt.show()"
   ]
  },
  {
   "cell_type": "markdown",
   "metadata": {},
   "source": [
    "## Hypoerbolic Tangent (TanH)\n",
    "\n",
    "$$\n",
    "\\text{tanh}(x)=\\frac{e^x-e^{-x}}{e^x+e^{-x}}\n",
    "$$"
   ]
  },
  {
   "cell_type": "code",
   "execution_count": 6,
   "metadata": {},
   "outputs": [
    {
     "name": "stdout",
     "output_type": "stream",
     "text": [
      "tensor([-1.0000, -1.0000, -1.0000, -1.0000, -1.0000, -1.0000, -1.0000, -1.0000,\n",
      "        -1.0000, -1.0000, -1.0000, -1.0000, -1.0000, -1.0000, -1.0000, -1.0000,\n",
      "        -1.0000, -1.0000, -1.0000, -1.0000, -1.0000, -1.0000, -1.0000, -0.9999,\n",
      "        -0.9999, -0.9996, -0.9995, -0.9992, -0.9992, -0.9989, -0.9974, -0.9973,\n",
      "        -0.9941, -0.9545, -0.9385, -0.9335, -0.9257, -0.9166, -0.7272, -0.6728,\n",
      "        -0.4455, -0.2953, -0.0904,  0.0394,  0.0482,  0.0554,  0.4087,  0.5706,\n",
      "         0.6301,  0.7618,  0.8596,  0.9223,  0.9256,  0.9289,  0.9313,  0.9404,\n",
      "         0.9569,  0.9720,  0.9871,  0.9879,  0.9893,  0.9934,  0.9959,  0.9971,\n",
      "         0.9976,  0.9987,  0.9995,  0.9996,  0.9996,  0.9997,  1.0000,  1.0000,\n",
      "         1.0000,  1.0000,  1.0000,  1.0000,  1.0000,  1.0000,  1.0000,  1.0000,\n",
      "         1.0000,  1.0000,  1.0000,  1.0000,  1.0000,  1.0000,  1.0000,  1.0000,\n",
      "         1.0000,  1.0000,  1.0000,  1.0000,  1.0000,  1.0000,  1.0000,  1.0000,\n",
      "         1.0000,  1.0000,  1.0000,  1.0000])\n"
     ]
    }
   ],
   "source": [
    "act = nn.Tanh()\n",
    "print(act(x)) # 객체로 선언"
   ]
  },
  {
   "cell_type": "code",
   "execution_count": 7,
   "metadata": {},
   "outputs": [
    {
     "name": "stdout",
     "output_type": "stream",
     "text": [
      "tensor([-1.0000, -1.0000, -1.0000, -1.0000, -1.0000, -1.0000, -1.0000, -1.0000,\n",
      "        -1.0000, -1.0000, -1.0000, -1.0000, -1.0000, -1.0000, -1.0000, -1.0000,\n",
      "        -1.0000, -1.0000, -1.0000, -1.0000, -1.0000, -1.0000, -1.0000, -0.9999,\n",
      "        -0.9999, -0.9996, -0.9995, -0.9992, -0.9992, -0.9989, -0.9974, -0.9973,\n",
      "        -0.9941, -0.9545, -0.9385, -0.9335, -0.9257, -0.9166, -0.7272, -0.6728,\n",
      "        -0.4455, -0.2953, -0.0904,  0.0394,  0.0482,  0.0554,  0.4087,  0.5706,\n",
      "         0.6301,  0.7618,  0.8596,  0.9223,  0.9256,  0.9289,  0.9313,  0.9404,\n",
      "         0.9569,  0.9720,  0.9871,  0.9879,  0.9893,  0.9934,  0.9959,  0.9971,\n",
      "         0.9976,  0.9987,  0.9995,  0.9996,  0.9996,  0.9997,  1.0000,  1.0000,\n",
      "         1.0000,  1.0000,  1.0000,  1.0000,  1.0000,  1.0000,  1.0000,  1.0000,\n",
      "         1.0000,  1.0000,  1.0000,  1.0000,  1.0000,  1.0000,  1.0000,  1.0000,\n",
      "         1.0000,  1.0000,  1.0000,  1.0000,  1.0000,  1.0000,  1.0000,  1.0000,\n",
      "         1.0000,  1.0000,  1.0000,  1.0000])\n"
     ]
    }
   ],
   "source": [
    "print(torch.tanh(x)) # 함수로 선언"
   ]
  },
  {
   "cell_type": "code",
   "execution_count": 8,
   "metadata": {},
   "outputs": [
    {
     "data": {
      "image/png": "[encoded data removed]",
      "text/plain": [
       "<Figure size 432x288 with 1 Axes>"
      ]
     },
     "metadata": {
      "needs_background": "light"
     },
     "output_type": "display_data"
    }
   ],
   "source": [
    "plt.plot(x.numpy(), torch.tanh(x).numpy()) # -1 ~ 1 사이의 값\n",
    "plt.show()"
   ]
  },
  {
   "cell_type": "code",
   "execution_count": null,
   "metadata": {},
   "outputs": [],
   "source": []
  }
 ],
 "metadata": {
  "kernelspec": {
   "display_name": "Python 3 (ipykernel)",
   "language": "python",
   "name": "python3"
  },
  "language_info": {
   "codemirror_mode": {
    "name": "ipython",
    "version": 3
   },
   "file_extension": ".py",
   "mimetype": "text/x-python",
   "name": "python",
   "nbconvert_exporter": "python",
   "pygments_lexer": "ipython3",
   "version": "3.10.5"
  }
 },
 "nbformat": 4,
 "nbformat_minor": 2
}
