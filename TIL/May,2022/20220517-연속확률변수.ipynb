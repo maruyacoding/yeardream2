{
 "cells": [
  {
   "cell_type": "markdown",
   "metadata": {
    "id": "hwjSyuFhoFg7"
   },
   "source": [
    "## 연속형 확률변수"
   ]
  },
  {
   "cell_type": "code",
   "execution_count": 1,
   "metadata": {
    "executionInfo": {
     "elapsed": 433,
     "status": "ok",
     "timestamp": 1652795361661,
     "user": {
      "displayName": "최윤아",
      "userId": "13391811122094852456"
     },
     "user_tz": -540
    },
    "id": "M_QDocCvnj13"
   },
   "outputs": [],
   "source": [
    "import numpy as np\n",
    "import matplotlib.pyplot as plt\n",
    "\n",
    "%precision 3\n",
    "%matplotlib inline"
   ]
  },
  {
   "cell_type": "code",
   "execution_count": 2,
   "metadata": {
    "executionInfo": {
     "elapsed": 7,
     "status": "ok",
     "timestamp": 1652795363468,
     "user": {
      "displayName": "최윤아",
      "userId": "13391811122094852456"
     },
     "user_tz": -540
    },
    "id": "BH0z-S4joHsw"
   },
   "outputs": [],
   "source": [
    "# Scipy의 integral 모듈을 사용하여 적분 계산\n",
    "from scipy import integrate\n",
    "import warnings\n",
    "\n",
    "# 적분에 관한 warning을 출력하지 않도록 한다\n",
    "warnings.filterwarnings('ignore',\n",
    "                        category=integrate.IntegrationWarning)"
   ]
  },
  {
   "cell_type": "markdown",
   "metadata": {
    "id": "ygyGAcGWphE7"
   },
   "source": [
    "### 1차원 연속형 확률 변수"
   ]
  },
  {
   "cell_type": "code",
   "execution_count": 3,
   "metadata": {
    "executionInfo": {
     "elapsed": 2,
     "status": "ok",
     "timestamp": 1652795364966,
     "user": {
      "displayName": "최윤아",
      "userId": "13391811122094852456"
     },
     "user_tz": -540
    },
    "id": "CI4BiordoJ5p"
   },
   "outputs": [],
   "source": [
    "# 1차원 연속형 확률 변수 정의\n",
    "# 불공정한 룰렛 : 둘레가 1인 룰렛을 돌린 후 룰렛의 변화된 호의 길이\n",
    "# * 각 값이 나올 확률밀도함수는 점점 커진다고 가정 (But, 실제 확률은 0임)\n",
    "\n",
    "x_range = np.array([0, 1])"
   ]
  },
  {
   "cell_type": "code",
   "execution_count": 4,
   "metadata": {
    "executionInfo": {
     "elapsed": 4,
     "status": "ok",
     "timestamp": 1652795366186,
     "user": {
      "displayName": "최윤아",
      "userId": "13391811122094852456"
     },
     "user_tz": -540
    },
    "id": "XlESTPlrpm7T"
   },
   "outputs": [],
   "source": [
    "# 확률밀도함수(PDF, Probability Density Function)\n",
    "def f(x) :\n",
    "    if x_range[0] <= x <= x_range[1] :\n",
    "        return 2 * x\n",
    "    else :\n",
    "        return 0"
   ]
  },
  {
   "cell_type": "code",
   "execution_count": 5,
   "metadata": {
    "executionInfo": {
     "elapsed": 2,
     "status": "ok",
     "timestamp": 1652795366733,
     "user": {
      "displayName": "최윤아",
      "userId": "13391811122094852456"
     },
     "user_tz": -540
    },
    "id": "5HI2dReVxEWi"
   },
   "outputs": [],
   "source": [
    "X = [x_range, f]"
   ]
  },
  {
   "cell_type": "code",
   "execution_count": 6,
   "metadata": {
    "colab": {
     "base_uri": "https://localhost:8080/",
     "height": 374
    },
    "executionInfo": {
     "elapsed": 493,
     "status": "ok",
     "timestamp": 1652795368770,
     "user": {
      "displayName": "최윤아",
      "userId": "13391811122094852456"
     },
     "user_tz": -540
    },
    "id": "gY7NhPA5pnYS",
    "outputId": "505daf41-1428-4ed3-8e9b-a4601e4ec5a1"
   },
   "outputs": [
    {
     "data": {
      "image/png": "[encoded data removed]",
      "text/plain": [
       "<Figure size 720x432 with 1 Axes>"
      ]
     },
     "metadata": {
      "needs_background": "light"
     },
     "output_type": "display_data"
    }
   ],
   "source": [
    "# 연속형 확률변수 시각화 \n",
    "xs = np.linspace(x_range[0], x_range[1], 100)\n",
    "\n",
    "fig = plt.figure(figsize=(10, 6))\n",
    "ax = fig.add_subplot(111)\n",
    "\n",
    "ax.plot(xs, [f(x) for x in xs], label='f(x)', color='gray')\n",
    "ax.hlines(0, -0.2, 1.2, alpha=0.3) # 수직선\n",
    "ax.vlines(0, -0.2, 2.2, alpha=0.3) # 수평선\n",
    "ax.vlines(xs.max(), 0, 2.2, linestyles=':', color='gray')\n",
    "\n",
    "# 0.4부터 0.6 까지 x좌표를 준비 -> 0.4와 0.6사이의 넓이를 확률로\n",
    "xs = np.linspace(0.4, 0.6, 100)\n",
    "# xs의 범위로 f(x)와 x축으로 둘러싸인 영역을 진하게 칠함\n",
    "ax.fill_between(xs, [f(x) for x in xs], label='prob')\n",
    "\n",
    "ax.set_xticks(np.arange(-0.2, 1.3, 0.1))\n",
    "ax.set_xlim(-0.1, 1.1)\n",
    "ax.set_ylim(-0.2, 2.1)\n",
    "ax.legend()\n",
    "\n",
    "plt.show()"
   ]
  },
  {
   "cell_type": "code",
   "execution_count": 7,
   "metadata": {
    "colab": {
     "base_uri": "https://localhost:8080/"
    },
    "executionInfo": {
     "elapsed": 5,
     "status": "ok",
     "timestamp": 1652795370209,
     "user": {
      "displayName": "최윤아",
      "userId": "13391811122094852456"
     },
     "user_tz": -540
    },
    "id": "dbaAW7dipnav",
    "outputId": "f2d63039-69e0-41a8-ce96-677a89034297"
   },
   "outputs": [
    {
     "data": {
      "text/plain": [
       "(0.200, 0.000)"
      ]
     },
     "execution_count": 7,
     "metadata": {},
     "output_type": "execute_result"
    }
   ],
   "source": [
    "# 연속형 확률변수 영역 면적 계산\n",
    "\n",
    "# 첫 번째 인수는 피적분함수、두 번째 인수와 세 번째 인수는 적분 범위\n",
    "integrate.quad(f, 0.4, 0.6)"
   ]
  },
  {
   "cell_type": "code",
   "execution_count": 8,
   "metadata": {
    "colab": {
     "base_uri": "https://localhost:8080/"
    },
    "executionInfo": {
     "elapsed": 5,
     "status": "ok",
     "timestamp": 1652795371731,
     "user": {
      "displayName": "최윤아",
      "userId": "13391811122094852456"
     },
     "user_tz": -540
    },
    "id": "Ste7hvZ7pnda",
    "outputId": "d034f6f8-cf95-44b6-ff90-2210049ced8b"
   },
   "outputs": [
    {
     "data": {
      "text/plain": [
       "0"
      ]
     },
     "execution_count": 8,
     "metadata": {},
     "output_type": "execute_result"
    }
   ],
   "source": [
    "# 연속형 확률변수 확률의 성질 확인\n",
    "# scipy.opimizer의 minimize_scalar 함수(함수의 최솟값을 구하는) 활용\n",
    "from scipy.optimize import minimize_scalar\n",
    "\n",
    "res = minimize_scalar(f)\n",
    "# 함수의 최솟값은 fun이라는 인스턴스 변수에\n",
    "res.fun"
   ]
  },
  {
   "cell_type": "code",
   "execution_count": 9,
   "metadata": {
    "colab": {
     "base_uri": "https://localhost:8080/"
    },
    "executionInfo": {
     "elapsed": 7,
     "status": "ok",
     "timestamp": 1652795372717,
     "user": {
      "displayName": "최윤아",
      "userId": "13391811122094852456"
     },
     "user_tz": -540
    },
    "id": "q0xeqj5mpnfu",
    "outputId": "9fc6bb8a-ecbc-40d2-c485-cd3fad898389"
   },
   "outputs": [
    {
     "data": {
      "text/plain": [
       "1.000"
      ]
     },
     "execution_count": 9,
     "metadata": {},
     "output_type": "execute_result"
    }
   ],
   "source": [
    "# np.inf : 무한대\n",
    "integrate.quad(f, -np.inf, np.inf)[0]"
   ]
  },
  {
   "cell_type": "code",
   "execution_count": 10,
   "metadata": {
    "executionInfo": {
     "elapsed": 3,
     "status": "ok",
     "timestamp": 1652795373253,
     "user": {
      "displayName": "최윤아",
      "userId": "13391811122094852456"
     },
     "user_tz": -540
    },
    "id": "gdQTpLuzpniG"
   },
   "outputs": [],
   "source": [
    "# 누적분포함수(CDF, Cumulative Distribution Function)\n",
    "def F(x) :\n",
    "    return  integrate.quad(f, -np.inf, x)[0]"
   ]
  },
  {
   "cell_type": "code",
   "execution_count": 11,
   "metadata": {
    "colab": {
     "base_uri": "https://localhost:8080/"
    },
    "executionInfo": {
     "elapsed": 3,
     "status": "ok",
     "timestamp": 1652795374355,
     "user": {
      "displayName": "최윤아",
      "userId": "13391811122094852456"
     },
     "user_tz": -540
    },
    "id": "thbgAquhs9pX",
    "outputId": "8c23d6ba-145f-493f-eb88-e53779fb95e2"
   },
   "outputs": [
    {
     "data": {
      "text/plain": [
       "0.200"
      ]
     },
     "execution_count": 11,
     "metadata": {},
     "output_type": "execute_result"
    }
   ],
   "source": [
    "# P(0.4 <= x <= 0.6) = F(0.6) - F(0.4)\n",
    "F(0.6) - F(0.4)"
   ]
  },
  {
   "cell_type": "code",
   "execution_count": 12,
   "metadata": {
    "colab": {
     "base_uri": "https://localhost:8080/",
     "height": 374
    },
    "executionInfo": {
     "elapsed": 7,
     "status": "ok",
     "timestamp": 1652795375647,
     "user": {
      "displayName": "최윤아",
      "userId": "13391811122094852456"
     },
     "user_tz": -540
    },
    "id": "v-UJfi3Ks_ds",
    "outputId": "fd994f53-9482-4169-cd34-f64e9d1f8e7f"
   },
   "outputs": [
    {
     "data": {
      "image/png": "[encoded data removed]",
      "text/plain": [
       "<Figure size 720x432 with 1 Axes>"
      ]
     },
     "metadata": {
      "needs_background": "light"
     },
     "output_type": "display_data"
    }
   ],
   "source": [
    "# 누적분포함수 시각화\n",
    "xs = np.linspace(x_range[0], x_range[1], 100)\n",
    "\n",
    "fig = plt.figure(figsize=(10, 6))\n",
    "ax = fig.add_subplot(111)\n",
    "\n",
    "ax.plot(xs, [F(x) for x in xs], label='F(x)', color='gray')\n",
    "ax.hlines(0, -0.1, 1.1, alpha=0.3)\n",
    "ax.vlines(0, -0.1, 1.1, alpha=0.3)\n",
    "ax.vlines(xs.max(), 0, 1, linestyles=':', color='gray')\n",
    "\n",
    "ax.set_xticks(np.arange(-0.1, 1.2, 0.1))\n",
    "ax.set_xlim(-0.1, 1.1)\n",
    "ax.set_ylim(-0.1, 1.1)\n",
    "ax.legend()\n",
    "\n",
    "plt.show()"
   ]
  },
  {
   "cell_type": "code",
   "execution_count": 13,
   "metadata": {
    "executionInfo": {
     "elapsed": 2,
     "status": "ok",
     "timestamp": 1652795376211,
     "user": {
      "displayName": "최윤아",
      "userId": "13391811122094852456"
     },
     "user_tz": -540
    },
    "id": "LEvyH0XXtVBs"
   },
   "outputs": [],
   "source": [
    "# 확률변수의 선형 변환 (Y= 2X + 3)\n",
    "\n",
    "y_range = [3, 5] # x_range가 [0,1]이라서\n",
    "\n",
    "# 확률밀도함수\n",
    "def g(y):\n",
    "    if y_range[0] <= y <= y_range[1]:\n",
    "        return (y - 3) / 2\n",
    "    else:\n",
    "        return 0\n",
    "# 누적분포함수   \n",
    "def G(y):\n",
    "    return integrate.quad(g, -np.inf, y)[0]"
   ]
  },
  {
   "cell_type": "code",
   "execution_count": 14,
   "metadata": {
    "colab": {
     "base_uri": "https://localhost:8080/",
     "height": 374
    },
    "executionInfo": {
     "elapsed": 616,
     "status": "ok",
     "timestamp": 1652795377830,
     "user": {
      "displayName": "최윤아",
      "userId": "13391811122094852456"
     },
     "user_tz": -540
    },
    "id": "wUWrw8H1uBTg",
    "outputId": "0080d0e9-b7e6-42ce-c5f9-655a7eb59aec"
   },
   "outputs": [
    {
     "data": {
      "image/png": "[encoded data removed]",
      "text/plain": [
       "<Figure size 720x432 with 1 Axes>"
      ]
     },
     "metadata": {
      "needs_background": "light"
     },
     "output_type": "display_data"
    }
   ],
   "source": [
    "ys = np.linspace(y_range[0], y_range[1], 100)\n",
    "\n",
    "fig = plt.figure(figsize=(10, 6))\n",
    "ax = fig.add_subplot(111)\n",
    "\n",
    "ax.plot(ys, [g(y) for y in ys],\n",
    "        label='g(y)', color='gray')\n",
    "ax.plot(ys, [G(y) for y in ys],\n",
    "        label='G(y)', ls='--', color='gray')\n",
    "ax.hlines(0, 2.8, 5.2, alpha=0.3)\n",
    "ax.vlines(ys.max(), 0, 1, linestyles=':', color='gray')\n",
    "\n",
    "ax.set_xticks(np.arange(2.8, 5.2, 0.2))\n",
    "ax.set_xlim(2.8, 5.2)\n",
    "ax.set_ylim(-0.1, 1.1)\n",
    "ax.legend()\n",
    "\n",
    "plt.show()"
   ]
  },
  {
   "cell_type": "markdown",
   "metadata": {
    "id": "wafERjzouNDM"
   },
   "source": [
    "### 1차원 연속형 확률변수 지표\n",
    "1. 기대값\n",
    "2. 분산\n",
    "\n"
   ]
  },
  {
   "cell_type": "markdown",
   "metadata": {
    "id": "zUy7DkKQuono"
   },
   "source": [
    "#### 기대값 E(x)"
   ]
  },
  {
   "cell_type": "code",
   "execution_count": 15,
   "metadata": {
    "colab": {
     "base_uri": "https://localhost:8080/"
    },
    "executionInfo": {
     "elapsed": 3,
     "status": "ok",
     "timestamp": 1652795381597,
     "user": {
      "displayName": "최윤아",
      "userId": "13391811122094852456"
     },
     "user_tz": -540
    },
    "id": "i-PV3SatuEJD",
    "outputId": "ba5eb210-6c18-4e4b-faa6-b607015da859"
   },
   "outputs": [
    {
     "data": {
      "text/plain": [
       "0.667"
      ]
     },
     "execution_count": 15,
     "metadata": {},
     "output_type": "execute_result"
    }
   ],
   "source": [
    "# 기대값\n",
    "\n",
    "# 확률변수 X의 평균(기댓값)\n",
    "def integrand(x):\n",
    "    return x * f(x)\n",
    "\n",
    "integrate.quad(integrand, -np.inf, np.inf)[0]"
   ]
  },
  {
   "cell_type": "code",
   "execution_count": 16,
   "metadata": {
    "executionInfo": {
     "elapsed": 4,
     "status": "ok",
     "timestamp": 1652795382069,
     "user": {
      "displayName": "최윤아",
      "userId": "13391811122094852456"
     },
     "user_tz": -540
    },
    "id": "FBN-IAHZukyb"
   },
   "outputs": [],
   "source": [
    "# 변환된 확률변수 Y 기대값 정의\n",
    "def E(X, g=lambda x: x):\n",
    "    x_range, f = X\n",
    "    def integrand(x):\n",
    "        return g(x) * f(x)\n",
    "    return integrate.quad(integrand, -np.inf, np.inf)[0]"
   ]
  },
  {
   "cell_type": "code",
   "execution_count": 17,
   "metadata": {
    "colab": {
     "base_uri": "https://localhost:8080/"
    },
    "executionInfo": {
     "elapsed": 14,
     "status": "ok",
     "timestamp": 1652795383162,
     "user": {
      "displayName": "최윤아",
      "userId": "13391811122094852456"
     },
     "user_tz": -540
    },
    "id": "idH5_PpUuk1v",
    "outputId": "8009f768-f6ac-4187-bed7-156cd64b60de"
   },
   "outputs": [
    {
     "data": {
      "text/plain": [
       "0.667"
      ]
     },
     "execution_count": 17,
     "metadata": {},
     "output_type": "execute_result"
    }
   ],
   "source": [
    "# E(2X+3) = 2*E(X) + 3 확인\n",
    "X = [x_range, f]\n",
    "E(X)"
   ]
  },
  {
   "cell_type": "code",
   "execution_count": 18,
   "metadata": {
    "colab": {
     "base_uri": "https://localhost:8080/"
    },
    "executionInfo": {
     "elapsed": 5,
     "status": "ok",
     "timestamp": 1652795383716,
     "user": {
      "displayName": "최윤아",
      "userId": "13391811122094852456"
     },
     "user_tz": -540
    },
    "id": "QF5DXVevuk5J",
    "outputId": "172d6a77-d432-4b18-ef02-96ffd2982a6a"
   },
   "outputs": [
    {
     "data": {
      "text/plain": [
       "4.333"
      ]
     },
     "execution_count": 18,
     "metadata": {},
     "output_type": "execute_result"
    }
   ],
   "source": [
    "E(X, g=lambda x: 2*x+3)"
   ]
  },
  {
   "cell_type": "code",
   "execution_count": 19,
   "metadata": {
    "colab": {
     "base_uri": "https://localhost:8080/"
    },
    "executionInfo": {
     "elapsed": 2,
     "status": "ok",
     "timestamp": 1652795384736,
     "user": {
      "displayName": "최윤아",
      "userId": "13391811122094852456"
     },
     "user_tz": -540
    },
    "id": "78Z9qXtMvYQk",
    "outputId": "00c24133-e9ed-47c9-e00d-872aecd1b429"
   },
   "outputs": [
    {
     "data": {
      "text/plain": [
       "4.333"
      ]
     },
     "execution_count": 19,
     "metadata": {},
     "output_type": "execute_result"
    }
   ],
   "source": [
    "2 * E(X) + 3"
   ]
  },
  {
   "cell_type": "markdown",
   "metadata": {
    "id": "-BBAKGi7xU4s"
   },
   "source": [
    "#### 분산 V(x)"
   ]
  },
  {
   "cell_type": "code",
   "execution_count": 20,
   "metadata": {
    "colab": {
     "base_uri": "https://localhost:8080/"
    },
    "executionInfo": {
     "elapsed": 3,
     "status": "ok",
     "timestamp": 1652795386527,
     "user": {
      "displayName": "최윤아",
      "userId": "13391811122094852456"
     },
     "user_tz": -540
    },
    "id": "q4UsGULPxRDx",
    "outputId": "4a9e676f-8228-4c1c-e3aa-92623af7d941"
   },
   "outputs": [
    {
     "data": {
      "text/plain": [
       "0.056"
      ]
     },
     "execution_count": 20,
     "metadata": {},
     "output_type": "execute_result"
    }
   ],
   "source": [
    "# 분산\n",
    "\n",
    "# 확률변수 X의 분산\n",
    "mean = E(X)\n",
    "def integrand(x):\n",
    "    return (x - mean) ** 2 * f(x)\n",
    "\n",
    "integrate.quad(integrand, -np.inf, np.inf)[0]"
   ]
  },
  {
   "cell_type": "code",
   "execution_count": 21,
   "metadata": {
    "executionInfo": {
     "elapsed": 2,
     "status": "ok",
     "timestamp": 1652795386937,
     "user": {
      "displayName": "최윤아",
      "userId": "13391811122094852456"
     },
     "user_tz": -540
    },
    "id": "7AwSYUwVxj_r"
   },
   "outputs": [],
   "source": [
    "# 변환된 확률변수 Y 분산 정의\n",
    "def V(X, g=lambda x: x):\n",
    "    x_range, f = X\n",
    "    mean = E(X, g)\n",
    "    def integrand(x):\n",
    "        return (g(x) - mean) ** 2 * f(x)\n",
    "    return integrate.quad(integrand, -np.inf, np.inf)[0]"
   ]
  },
  {
   "cell_type": "code",
   "execution_count": 22,
   "metadata": {
    "colab": {
     "base_uri": "https://localhost:8080/"
    },
    "executionInfo": {
     "elapsed": 2,
     "status": "ok",
     "timestamp": 1652795387813,
     "user": {
      "displayName": "최윤아",
      "userId": "13391811122094852456"
     },
     "user_tz": -540
    },
    "id": "o2hmtaoXxsyj",
    "outputId": "3d98f2cd-8f0a-4738-a1d8-0c40adc3222f"
   },
   "outputs": [
    {
     "data": {
      "text/plain": [
       "0.056"
      ]
     },
     "execution_count": 22,
     "metadata": {},
     "output_type": "execute_result"
    }
   ],
   "source": [
    "# V(2X+3) = 2**2V(X) 확인\n",
    "V(X)"
   ]
  },
  {
   "cell_type": "code",
   "execution_count": 23,
   "metadata": {
    "colab": {
     "base_uri": "https://localhost:8080/"
    },
    "executionInfo": {
     "elapsed": 2,
     "status": "ok",
     "timestamp": 1652795388315,
     "user": {
      "displayName": "최윤아",
      "userId": "13391811122094852456"
     },
     "user_tz": -540
    },
    "id": "Q7jA023jyJv2",
    "outputId": "a798a8a3-4b1a-4dbf-c15c-1327a9b82a9a"
   },
   "outputs": [
    {
     "data": {
      "text/plain": [
       "0.222"
      ]
     },
     "execution_count": 23,
     "metadata": {},
     "output_type": "execute_result"
    }
   ],
   "source": [
    "V(X, lambda x: 2*x + 3)"
   ]
  },
  {
   "cell_type": "code",
   "execution_count": 24,
   "metadata": {
    "colab": {
     "base_uri": "https://localhost:8080/"
    },
    "executionInfo": {
     "elapsed": 5,
     "status": "ok",
     "timestamp": 1652795389325,
     "user": {
      "displayName": "최윤아",
      "userId": "13391811122094852456"
     },
     "user_tz": -540
    },
    "id": "39RssF74yNos",
    "outputId": "84ce84b9-a3ae-48b6-b64b-5b9a86b65c19"
   },
   "outputs": [
    {
     "data": {
      "text/plain": [
       "0.222"
      ]
     },
     "execution_count": 24,
     "metadata": {},
     "output_type": "execute_result"
    }
   ],
   "source": [
    "2**2 * V(X)"
   ]
  },
  {
   "cell_type": "markdown",
   "metadata": {
    "id": "vQbQRMhbyPNP"
   },
   "source": [
    "### 2차원 연속형 확률분포"
   ]
  },
  {
   "cell_type": "code",
   "execution_count": 25,
   "metadata": {
    "executionInfo": {
     "elapsed": 5,
     "status": "ok",
     "timestamp": 1652795390325,
     "user": {
      "displayName": "최윤아",
      "userId": "13391811122094852456"
     },
     "user_tz": -540
    },
    "id": "nJOi3YUoyOe0"
   },
   "outputs": [],
   "source": [
    "# 2차원 연속형 확률변수의 정의\n",
    "\n",
    "x_range = [0, 2]\n",
    "y_range = [0, 1]"
   ]
  },
  {
   "cell_type": "code",
   "execution_count": 26,
   "metadata": {
    "executionInfo": {
     "elapsed": 2,
     "status": "ok",
     "timestamp": 1652795391337,
     "user": {
      "displayName": "최윤아",
      "userId": "13391811122094852456"
     },
     "user_tz": -540
    },
    "id": "NoFSrTD2yYkJ"
   },
   "outputs": [],
   "source": [
    "# 결합확률밀도함수 f(x,y)\n",
    "\n",
    "# 불공정한 룰렛 A,B를 기반으로 X = A + B , Y = A 로 정의\n",
    "def f_xy(x, y):\n",
    "    if 0 <= y <= 1 and 0 <= x - y <= 1:\n",
    "        return 4 * y * (x - y)\n",
    "    else:\n",
    "        return 0"
   ]
  },
  {
   "cell_type": "code",
   "execution_count": 27,
   "metadata": {
    "executionInfo": {
     "elapsed": 3,
     "status": "ok",
     "timestamp": 1652795391812,
     "user": {
      "displayName": "최윤아",
      "userId": "13391811122094852456"
     },
     "user_tz": -540
    },
    "id": "CQqJx3PQzzWu"
   },
   "outputs": [],
   "source": [
    "XY = [x_range, y_range, f_xy]"
   ]
  },
  {
   "cell_type": "code",
   "execution_count": 28,
   "metadata": {
    "colab": {
     "base_uri": "https://localhost:8080/",
     "height": 489
    },
    "executionInfo": {
     "elapsed": 1091,
     "status": "ok",
     "timestamp": 1652795393794,
     "user": {
      "displayName": "최윤아",
      "userId": "13391811122094852456"
     },
     "user_tz": -540
    },
    "id": "uitEJW7nz0RB",
    "outputId": "c95c025e-afa5-4e00-dc95-62dbb27567db"
   },
   "outputs": [
    {
     "data": {
      "image/png": "[encoded data removed]",
      "text/plain": [
       "<Figure size 720x576 with 2 Axes>"
      ]
     },
     "metadata": {
      "needs_background": "light"
     },
     "output_type": "display_data"
    }
   ],
   "source": [
    "# 결합확률밀도함수 시각화 (0.4 <= x <= 0.6)\n",
    "xs = np.linspace(x_range[0], x_range[1], 200)\n",
    "ys = np.linspace(y_range[0], y_range[1], 200)\n",
    "pd = np.array([[f_xy(x, y) for y in ys] for x in xs])\n",
    "\n",
    "fig = plt.figure(figsize=(10, 8))\n",
    "ax = fig.add_subplot(111)\n",
    "\n",
    "c = ax.pcolor(pd)\n",
    "ax.set_xticks(np.linspace(0, 200, 3), minor=False)\n",
    "ax.set_yticks(np.linspace(0, 200, 3), minor=False)\n",
    "ax.set_xticklabels(np.linspace(0, 2, 3))\n",
    "ax.set_yticklabels(np.linspace(0, 1, 3))\n",
    "ax.invert_yaxis()\n",
    "ax.xaxis.tick_top()\n",
    "fig.colorbar(c, ax=ax)\n",
    "plt.show()"
   ]
  },
  {
   "cell_type": "code",
   "execution_count": 29,
   "metadata": {
    "colab": {
     "base_uri": "https://localhost:8080/"
    },
    "executionInfo": {
     "elapsed": 854,
     "status": "ok",
     "timestamp": 1652795394632,
     "user": {
      "displayName": "최윤아",
      "userId": "13391811122094852456"
     },
     "user_tz": -540
    },
    "id": "BVXnSNbB0Fll",
    "outputId": "aa3e19ea-eb23-4e27-8811-133a9647d9b8"
   },
   "outputs": [
    {
     "data": {
      "text/plain": [
       "1.000"
      ]
     },
     "execution_count": 29,
     "metadata": {},
     "output_type": "execute_result"
    }
   ],
   "source": [
    "# 첫 번째 인수는 피적분함수、두 번째 인수는 x의 적분구간과 y의 적분구간\n",
    "integrate.nquad(f_xy,\n",
    "                [[-np.inf, np.inf],\n",
    "                 [-np.inf, np.inf]])[0]"
   ]
  },
  {
   "cell_type": "code",
   "execution_count": 30,
   "metadata": {
    "executionInfo": {
     "elapsed": 3,
     "status": "ok",
     "timestamp": 1652795394632,
     "user": {
      "displayName": "최윤아",
      "userId": "13391811122094852456"
     },
     "user_tz": -540
    },
    "id": "p3sFt3-w1MCn"
   },
   "outputs": [],
   "source": [
    "# 주변확률밀도함수 정의\n",
    "\n",
    "# partial(f_xy, x)활용하여 integrate.quad로 적분\n",
    "# partial(f_xy, x)정의 시 f_xy의 인수 x,y 중 x가 고정되고, 인수가 y만으로 된 함수를 반환한다.\n",
    "\n",
    "from functools import partial\n",
    "\n",
    "def f_X(x):\n",
    "    return integrate.quad(partial(f_xy, x), -np.inf, np.inf)[0]\n",
    "def f_Y(y):\n",
    "    return integrate.quad(partial(f_xy, y=y), -np.inf, np.inf)[0]"
   ]
  },
  {
   "cell_type": "code",
   "execution_count": 31,
   "metadata": {
    "executionInfo": {
     "elapsed": 3,
     "status": "ok",
     "timestamp": 1652795396792,
     "user": {
      "displayName": "최윤아",
      "userId": "13391811122094852456"
     },
     "user_tz": -540
    },
    "id": "4FUgIf6f2QzK"
   },
   "outputs": [],
   "source": [
    "X = [x_range, f_X]\n",
    "Y = [y_range, f_Y]"
   ]
  },
  {
   "cell_type": "code",
   "execution_count": 32,
   "metadata": {
    "colab": {
     "base_uri": "https://localhost:8080/",
     "height": 281
    },
    "executionInfo": {
     "elapsed": 1301,
     "status": "ok",
     "timestamp": 1652795398703,
     "user": {
      "displayName": "최윤아",
      "userId": "13391811122094852456"
     },
     "user_tz": -540
    },
    "id": "VNf5kIdu2Wvq",
    "outputId": "c7789fa9-848f-4fd7-f3a2-03e044e4080a"
   },
   "outputs": [
    {
     "data": {
      "image/png": "[encoded data removed]",
      "text/plain": [
       "<Figure size 864x288 with 2 Axes>"
      ]
     },
     "metadata": {
      "needs_background": "light"
     },
     "output_type": "display_data"
    }
   ],
   "source": [
    "# 주변확률밀도함수 시각화\n",
    "xs = np.linspace(*x_range, 100)\n",
    "ys = np.linspace(*y_range, 100)\n",
    "\n",
    "fig = plt.figure(figsize=(12, 4))\n",
    "ax1 = fig.add_subplot(121)\n",
    "ax2 = fig.add_subplot(122)\n",
    "ax1.plot(xs, [f_X(x) for x in xs], color='gray')\n",
    "ax2.plot(ys, [f_Y(y) for y in ys], color='gray')\n",
    "ax1.set_title('X_marginal density function')\n",
    "ax2.set_title('Y_marginal density function')\n",
    "\n",
    "plt.show()"
   ]
  },
  {
   "cell_type": "markdown",
   "metadata": {
    "id": "u_1KTwAm2qmg"
   },
   "source": [
    "### 2차원 연속형 확률변수 지표\n",
    "1. 기대값\n",
    "2. 분산\n",
    "3. 공분산"
   ]
  },
  {
   "cell_type": "markdown",
   "metadata": {
    "id": "BrTioHzP233Z"
   },
   "source": [
    "#### 기대값"
   ]
  },
  {
   "cell_type": "code",
   "execution_count": 33,
   "metadata": {
    "colab": {
     "base_uri": "https://localhost:8080/"
    },
    "executionInfo": {
     "elapsed": 1661,
     "status": "ok",
     "timestamp": 1652795559748,
     "user": {
      "displayName": "최윤아",
      "userId": "13391811122094852456"
     },
     "user_tz": -540
    },
    "id": "IuuQcYzk2aaR",
    "outputId": "74c91f28-6187-43c0-9f5c-2857d6d82b25"
   },
   "outputs": [
    {
     "data": {
      "text/plain": [
       "1.333"
      ]
     },
     "execution_count": 33,
     "metadata": {},
     "output_type": "execute_result"
    }
   ],
   "source": [
    "# 기대값 \n",
    "# 확률변수 X의 기대값\n",
    "\n",
    "def integrand(x, y):\n",
    "    return x * f_xy(x, y)\n",
    "\n",
    "integrate.nquad(integrand,\n",
    "                [[-np.inf, np.inf],\n",
    "                 [-np.inf, np.inf]])[0]"
   ]
  },
  {
   "cell_type": "code",
   "execution_count": 34,
   "metadata": {
    "executionInfo": {
     "elapsed": 6,
     "status": "ok",
     "timestamp": 1652795598019,
     "user": {
      "displayName": "최윤아",
      "userId": "13391811122094852456"
     },
     "user_tz": -540
    },
    "id": "tOPhzxjP29z6"
   },
   "outputs": [],
   "source": [
    "# 확률변수 g(X,Y)의 기대값\n",
    "\n",
    "def E(XY, g):\n",
    "    x_range, y_range, f_xy = XY\n",
    "    def integrand(x, y):\n",
    "        return g(x, y) * f_xy(x, y)\n",
    "    \n",
    "    return integrate.nquad(integrand,\n",
    "                           [[-np.inf, np.inf],\n",
    "                            [-np.inf, np.inf]])[0]"
   ]
  },
  {
   "cell_type": "code",
   "execution_count": 35,
   "metadata": {
    "colab": {
     "base_uri": "https://localhost:8080/"
    },
    "executionInfo": {
     "elapsed": 3214,
     "status": "ok",
     "timestamp": 1652795632862,
     "user": {
      "displayName": "최윤아",
      "userId": "13391811122094852456"
     },
     "user_tz": -540
    },
    "id": "s82FZu7Q3GsJ",
    "outputId": "a1e73636-80ce-4686-8e54-e402266c5ff5"
   },
   "outputs": [
    {
     "data": {
      "text/plain": [
       "1.333"
      ]
     },
     "execution_count": 35,
     "metadata": {},
     "output_type": "execute_result"
    }
   ],
   "source": [
    "mean_X = E(XY, lambda x, y: x)\n",
    "mean_X"
   ]
  },
  {
   "cell_type": "code",
   "execution_count": 36,
   "metadata": {
    "colab": {
     "base_uri": "https://localhost:8080/"
    },
    "executionInfo": {
     "elapsed": 1984,
     "status": "ok",
     "timestamp": 1652795638170,
     "user": {
      "displayName": "최윤아",
      "userId": "13391811122094852456"
     },
     "user_tz": -540
    },
    "id": "cJbji7B1S9wz",
    "outputId": "d73e04a3-e068-4632-e7d7-229cf94c38be"
   },
   "outputs": [
    {
     "data": {
      "text/plain": [
       "0.667"
      ]
     },
     "execution_count": 36,
     "metadata": {},
     "output_type": "execute_result"
    }
   ],
   "source": [
    "mean_Y = E(XY, lambda x, y: y)\n",
    "mean_Y"
   ]
  },
  {
   "cell_type": "code",
   "execution_count": 37,
   "metadata": {
    "executionInfo": {
     "elapsed": 422,
     "status": "ok",
     "timestamp": 1652795643636,
     "user": {
      "displayName": "최윤아",
      "userId": "13391811122094852456"
     },
     "user_tz": -540
    },
    "id": "a4BsoEHYS_VH"
   },
   "outputs": [],
   "source": [
    "a, b = 2, 3\n",
    "\n",
    "# E(2X + 3Y) = 2E(X) + 3E(Y)"
   ]
  },
  {
   "cell_type": "code",
   "execution_count": 38,
   "metadata": {
    "colab": {
     "base_uri": "https://localhost:8080/"
    },
    "executionInfo": {
     "elapsed": 2352,
     "status": "ok",
     "timestamp": 1652795650529,
     "user": {
      "displayName": "최윤아",
      "userId": "13391811122094852456"
     },
     "user_tz": -540
    },
    "id": "eIEsDHw9TBFt",
    "outputId": "8a788774-8b55-4cf9-b6c1-72ad743b243c"
   },
   "outputs": [
    {
     "data": {
      "text/plain": [
       "4.667"
      ]
     },
     "execution_count": 38,
     "metadata": {},
     "output_type": "execute_result"
    }
   ],
   "source": [
    "E(XY, lambda x, y: a*x + b*y)"
   ]
  },
  {
   "cell_type": "code",
   "execution_count": 39,
   "metadata": {
    "colab": {
     "base_uri": "https://localhost:8080/"
    },
    "executionInfo": {
     "elapsed": 8,
     "status": "ok",
     "timestamp": 1652795658292,
     "user": {
      "displayName": "최윤아",
      "userId": "13391811122094852456"
     },
     "user_tz": -540
    },
    "id": "ZFRpG_t_TCLj",
    "outputId": "bd31469a-42cf-4772-bb38-319835dabaa4"
   },
   "outputs": [
    {
     "data": {
      "text/plain": [
       "4.667"
      ]
     },
     "execution_count": 39,
     "metadata": {},
     "output_type": "execute_result"
    }
   ],
   "source": [
    "a * mean_X + b * mean_Y"
   ]
  },
  {
   "cell_type": "markdown",
   "metadata": {
    "id": "0IT8HZmuTLio"
   },
   "source": [
    "#### 분산"
   ]
  },
  {
   "cell_type": "code",
   "execution_count": 40,
   "metadata": {
    "colab": {
     "base_uri": "https://localhost:8080/"
    },
    "executionInfo": {
     "elapsed": 2278,
     "status": "ok",
     "timestamp": 1652795760082,
     "user": {
      "displayName": "최윤아",
      "userId": "13391811122094852456"
     },
     "user_tz": -540
    },
    "id": "sCdPgHOkTEwS",
    "outputId": "f89679a6-d5c9-4e3c-a670-b0ab013fbb10"
   },
   "outputs": [
    {
     "data": {
      "text/plain": [
       "0.111"
      ]
     },
     "execution_count": 40,
     "metadata": {},
     "output_type": "execute_result"
    }
   ],
   "source": [
    "# 분산 \n",
    "# 확률변수 X의 분산\n",
    "\n",
    "def integrand(x, y):\n",
    "    return (x - mean_X)**2 * f_xy(x, y)\n",
    "\n",
    "integrate.nquad(integrand,\n",
    "                [[-np.inf, np.inf],\n",
    "                 [-np.inf, np.inf]])[0]"
   ]
  },
  {
   "cell_type": "code",
   "execution_count": 41,
   "metadata": {
    "executionInfo": {
     "elapsed": 428,
     "status": "ok",
     "timestamp": 1652795766151,
     "user": {
      "displayName": "최윤아",
      "userId": "13391811122094852456"
     },
     "user_tz": -540
    },
    "id": "ZN9bDZJSTdDn"
   },
   "outputs": [],
   "source": [
    "# 확률변수 g(X,Y)의 분산\n",
    "\n",
    "def V(XY, g):\n",
    "    x_range, y_range, f_xy = XY\n",
    "    mean = E(XY, g)\n",
    "    def integrand(x, y):\n",
    "        return (g(x, y) - mean)**2 * f_xy(x, y)\n",
    "\n",
    "    return integrate.nquad(integrand,\n",
    "                           [[-np.inf, np.inf],\n",
    "                            [-np.inf, np.inf]])[0]"
   ]
  },
  {
   "cell_type": "code",
   "execution_count": 42,
   "metadata": {
    "colab": {
     "base_uri": "https://localhost:8080/"
    },
    "executionInfo": {
     "elapsed": 3433,
     "status": "ok",
     "timestamp": 1652795823328,
     "user": {
      "displayName": "최윤아",
      "userId": "13391811122094852456"
     },
     "user_tz": -540
    },
    "id": "Xt7pXCZjTe-J",
    "outputId": "aec79999-7b7f-461f-b50f-5ba3b0a5a879"
   },
   "outputs": [
    {
     "data": {
      "text/plain": [
       "0.111"
      ]
     },
     "execution_count": 42,
     "metadata": {},
     "output_type": "execute_result"
    }
   ],
   "source": [
    "var_X = V(XY, lambda x, y: x)\n",
    "var_X"
   ]
  },
  {
   "cell_type": "code",
   "execution_count": 43,
   "metadata": {
    "colab": {
     "base_uri": "https://localhost:8080/"
    },
    "executionInfo": {
     "elapsed": 3424,
     "status": "ok",
     "timestamp": 1652795831817,
     "user": {
      "displayName": "최윤아",
      "userId": "13391811122094852456"
     },
     "user_tz": -540
    },
    "id": "bS41SO9aTsMe",
    "outputId": "059c42a0-bff9-4479-da5d-dc39b63c758b"
   },
   "outputs": [
    {
     "data": {
      "text/plain": [
       "0.056"
      ]
     },
     "execution_count": 43,
     "metadata": {},
     "output_type": "execute_result"
    }
   ],
   "source": [
    "var_Y = V(XY, lambda x, y: y)\n",
    "var_Y"
   ]
  },
  {
   "cell_type": "markdown",
   "metadata": {
    "id": "GewsYKZHT0rM"
   },
   "source": [
    "#### 공분산"
   ]
  },
  {
   "cell_type": "code",
   "execution_count": 44,
   "metadata": {
    "executionInfo": {
     "elapsed": 429,
     "status": "ok",
     "timestamp": 1652795934928,
     "user": {
      "displayName": "최윤아",
      "userId": "13391811122094852456"
     },
     "user_tz": -540
    },
    "id": "foUrwbNSTuR8"
   },
   "outputs": [],
   "source": [
    "def Cov(XY):\n",
    "    x_range, y_range, f_xy = XY\n",
    "    mean_X = E(XY, lambda x, y: x)\n",
    "    mean_Y = E(XY, lambda x, y: y)\n",
    "    def integrand(x, y):\n",
    "        return (x-mean_X) * (y-mean_Y) * f_xy(x, y)\n",
    "\n",
    "    return integrate.nquad(integrand,\n",
    "                           [[-np.inf, np.inf],\n",
    "                            [-np.inf, np.inf]])[0]"
   ]
  },
  {
   "cell_type": "code",
   "execution_count": 45,
   "metadata": {
    "colab": {
     "base_uri": "https://localhost:8080/"
    },
    "executionInfo": {
     "elapsed": 6111,
     "status": "ok",
     "timestamp": 1652795945730,
     "user": {
      "displayName": "최윤아",
      "userId": "13391811122094852456"
     },
     "user_tz": -540
    },
    "id": "QXNp1fbgUILY",
    "outputId": "a271d7e6-9085-496e-9063-915d8831284d"
   },
   "outputs": [
    {
     "data": {
      "text/plain": [
       "0.056"
      ]
     },
     "execution_count": 45,
     "metadata": {},
     "output_type": "execute_result"
    }
   ],
   "source": [
    "cov_xy = Cov(XY)\n",
    "cov_xy"
   ]
  },
  {
   "cell_type": "code",
   "execution_count": 46,
   "metadata": {
    "colab": {
     "base_uri": "https://localhost:8080/"
    },
    "executionInfo": {
     "elapsed": 3728,
     "status": "ok",
     "timestamp": 1652795949453,
     "user": {
      "displayName": "최윤아",
      "userId": "13391811122094852456"
     },
     "user_tz": -540
    },
    "id": "-QD-qCmfUJbe",
    "outputId": "d0687b43-c287-4ab9-adfc-cddfbf775618"
   },
   "outputs": [
    {
     "data": {
      "text/plain": [
       "1.611"
      ]
     },
     "execution_count": 46,
     "metadata": {},
     "output_type": "execute_result"
    }
   ],
   "source": [
    "V(XY, lambda x, y: a*x + b*y)"
   ]
  },
  {
   "cell_type": "code",
   "execution_count": 47,
   "metadata": {
    "colab": {
     "base_uri": "https://localhost:8080/"
    },
    "executionInfo": {
     "elapsed": 490,
     "status": "ok",
     "timestamp": 1652796012233,
     "user": {
      "displayName": "최윤아",
      "userId": "13391811122094852456"
     },
     "user_tz": -540
    },
    "id": "hxg4OpcBUKah",
    "outputId": "356b9a38-c101-4a1c-95f6-57a63cec6bcb"
   },
   "outputs": [
    {
     "data": {
      "text/plain": [
       "1.611"
      ]
     },
     "execution_count": 47,
     "metadata": {},
     "output_type": "execute_result"
    }
   ],
   "source": [
    "# V(2X + 3Y) = 4V(X) + 9V(Y) + 12Cov(XY)\n",
    "a**2 * var_X + b**2 * var_Y + 2*a*b * cov_xy"
   ]
  },
  {
   "cell_type": "code",
   "execution_count": 48,
   "metadata": {
    "colab": {
     "base_uri": "https://localhost:8080/"
    },
    "executionInfo": {
     "elapsed": 3,
     "status": "ok",
     "timestamp": 1652796017301,
     "user": {
      "displayName": "최윤아",
      "userId": "13391811122094852456"
     },
     "user_tz": -540
    },
    "id": "gSSQ4dhxUbDA",
    "outputId": "5dedd0a1-6351-4650-c692-5ee4f6d97907"
   },
   "outputs": [
    {
     "data": {
      "text/plain": [
       "0.707"
      ]
     },
     "execution_count": 48,
     "metadata": {},
     "output_type": "execute_result"
    }
   ],
   "source": [
    "# 상관계수 계산\n",
    "cov_xy / np.sqrt(var_X * var_Y)"
   ]
  }
 ],
 "metadata": {
  "colab": {
   "authorship_tag": "ABX9TyMfNcG6mow22ueP3EdYWD8A",
   "collapsed_sections": [],
   "name": "20220517-연속확률변수.ipynb",
   "provenance": []
  },
  "kernelspec": {
   "display_name": "Python 3",
   "name": "python3"
  },
  "language_info": {
   "name": "python"
  }
 },
 "nbformat": 4,
 "nbformat_minor": 0
}
