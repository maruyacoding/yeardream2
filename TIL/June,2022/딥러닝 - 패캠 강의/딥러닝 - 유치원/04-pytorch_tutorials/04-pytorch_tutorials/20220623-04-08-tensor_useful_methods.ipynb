{
 "cells": [
  {
   "cell_type": "markdown",
   "metadata": {},
   "source": [
    "# PyTorch Useful Methods"
   ]
  },
  {
   "cell_type": "code",
   "execution_count": 1,
   "metadata": {},
   "outputs": [],
   "source": [
    "import torch"
   ]
  },
  {
   "cell_type": "markdown",
   "metadata": {},
   "source": [
    "### expand: copy the given tensor and concat those at desired dimension."
   ]
  },
  {
   "cell_type": "code",
   "execution_count": 3,
   "metadata": {},
   "outputs": [
    {
     "name": "stdout",
     "output_type": "stream",
     "text": [
      "tensor([[[1., 2.]],\n",
      "\n",
      "        [[3., 4.]]])\n",
      "torch.Size([2, 1, 2])\n"
     ]
    }
   ],
   "source": [
    "x = torch.FloatTensor([[[1, 2]],\n",
    "                       [[3, 4]]])\n",
    "print(x)\n",
    "print(x.size())"
   ]
  },
  {
   "cell_type": "code",
   "execution_count": 7,
   "metadata": {},
   "outputs": [
    {
     "name": "stdout",
     "output_type": "stream",
     "text": [
      "tensor([[[1., 2.],\n",
      "         [1., 2.],\n",
      "         [1., 2.]],\n",
      "\n",
      "        [[3., 4.],\n",
      "         [3., 4.],\n",
      "         [3., 4.]]])\n",
      "torch.Size([2, 3, 2])\n",
      "\n",
      "tensor([[[1., 2.],\n",
      "         [1., 2.],\n",
      "         [1., 2.]],\n",
      "\n",
      "        [[3., 4.],\n",
      "         [3., 4.],\n",
      "         [3., 4.]]])\n",
      "torch.Size([2, 3, 2])\n"
     ]
    }
   ],
   "source": [
    "y = x.expand(*[2, 3, 2]) # == x.expand(2,3,2)\n",
    "z = x.expand(2,3,2)\n",
    "\n",
    "print(y) \n",
    "print(y.size())\n",
    "print('')\n",
    "print(z)\n",
    "print(z.size())"
   ]
  },
  {
   "cell_type": "markdown",
   "metadata": {},
   "source": [
    "#### Implement expand with cat."
   ]
  },
  {
   "cell_type": "code",
   "execution_count": 8,
   "metadata": {},
   "outputs": [
    {
     "name": "stdout",
     "output_type": "stream",
     "text": [
      "tensor([[[1., 2.],\n",
      "         [1., 2.],\n",
      "         [1., 2.]],\n",
      "\n",
      "        [[3., 4.],\n",
      "         [3., 4.],\n",
      "         [3., 4.]]])\n",
      "torch.Size([2, 3, 2])\n"
     ]
    }
   ],
   "source": [
    "y = torch.cat([x, x, x], dim=1)\n",
    "\n",
    "print(y)\n",
    "print(y.size())"
   ]
  },
  {
   "cell_type": "markdown",
   "metadata": {},
   "source": [
    "### randperm: Random Permutation"
   ]
  },
  {
   "cell_type": "code",
   "execution_count": 9,
   "metadata": {},
   "outputs": [
    {
     "name": "stdout",
     "output_type": "stream",
     "text": [
      "tensor([9, 1, 3, 4, 5, 0, 2, 7, 8, 6])\n",
      "torch.Size([10])\n"
     ]
    }
   ],
   "source": [
    "x = torch.randperm(10)\n",
    "\n",
    "print(x)\n",
    "print(x.size())"
   ]
  },
  {
   "cell_type": "markdown",
   "metadata": {},
   "source": [
    "### argmax: Return index of maximum values"
   ]
  },
  {
   "cell_type": "code",
   "execution_count": 10,
   "metadata": {
    "scrolled": true
   },
   "outputs": [
    {
     "name": "stdout",
     "output_type": "stream",
     "text": [
      "tensor([[[18, 13,  5],\n",
      "         [15, 16, 26],\n",
      "         [17, 25,  3]],\n",
      "\n",
      "        [[24, 21, 23],\n",
      "         [ 8,  7, 14],\n",
      "         [ 4, 19,  2]],\n",
      "\n",
      "        [[22,  9,  0],\n",
      "         [ 6, 20,  1],\n",
      "         [11, 12, 10]]])\n",
      "torch.Size([3, 3, 3])\n"
     ]
    }
   ],
   "source": [
    "x = torch.randperm(3**3).reshape(3, 3, -1)\n",
    "\n",
    "print(x)\n",
    "print(x.size())"
   ]
  },
  {
   "cell_type": "code",
   "execution_count": 12,
   "metadata": {},
   "outputs": [
    {
     "name": "stdout",
     "output_type": "stream",
     "text": [
      "tensor([[0, 2, 1],\n",
      "        [0, 2, 1],\n",
      "        [0, 1, 1]])\n",
      "torch.Size([3, 3])\n",
      "\n",
      "tensor([[0, 2, 1],\n",
      "        [0, 0, 0],\n",
      "        [0, 1, 2]])\n",
      "torch.Size([3, 3])\n"
     ]
    }
   ],
   "source": [
    "y = x.argmax(dim=-1)\n",
    "z = x.argmax(dim=1)\n",
    "\n",
    "print(y)\n",
    "print(y.size())\n",
    "print('')\n",
    "print(z)\n",
    "print(z.size())"
   ]
  },
  {
   "cell_type": "code",
   "execution_count": 14,
   "metadata": {},
   "outputs": [
    {
     "name": "stdout",
     "output_type": "stream",
     "text": [
      "tensor([[[16, 15],\n",
      "         [11,  9],\n",
      "         [ 4,  6]],\n",
      "\n",
      "        [[26,  0],\n",
      "         [17, 28],\n",
      "         [ 5, 20]],\n",
      "\n",
      "        [[ 1, 12],\n",
      "         [29, 25],\n",
      "         [19,  3]],\n",
      "\n",
      "        [[24, 14],\n",
      "         [10,  8],\n",
      "         [ 2, 23]],\n",
      "\n",
      "        [[13, 18],\n",
      "         [ 7, 27],\n",
      "         [22, 21]]])\n"
     ]
    }
   ],
   "source": [
    "my = torch.randperm(30).reshape(5,3,2)c # 30개 random. 0~29 사이의 수 \n",
    "print(my)"
   ]
  },
  {
   "cell_type": "code",
   "execution_count": 16,
   "metadata": {},
   "outputs": [
    {
     "name": "stdout",
     "output_type": "stream",
     "text": [
      "tensor([[0, 0, 1],\n",
      "        [0, 1, 1],\n",
      "        [1, 0, 0],\n",
      "        [0, 0, 1],\n",
      "        [1, 1, 0]])\n",
      "torch.Size([5, 3])\n"
     ]
    }
   ],
   "source": [
    "my_y = my.argmax(dim=-1)\n",
    "\n",
    "print(my_y)\n",
    "print(my_y.size())"
   ]
  },
  {
   "cell_type": "markdown",
   "metadata": {},
   "source": [
    "### topk: Return tuple of top-k values and indices."
   ]
  },
  {
   "cell_type": "code",
   "execution_count": 17,
   "metadata": {
    "scrolled": false
   },
   "outputs": [
    {
     "name": "stdout",
     "output_type": "stream",
     "text": [
      "torch.Size([3, 3, 1])\n",
      "torch.Size([3, 3, 1])\n"
     ]
    }
   ],
   "source": [
    "values, indices = torch.topk(x, k=1, dim=-1) # value, index return\n",
    "\n",
    "print(values.size()) # k=1이라서 3,3,1\n",
    "print(indices.size()) # returnr값이 (3,3,k)로 나옴\n",
    "\n",
    "# k=1을 뽑는 경우가 대다수 -> argmax를 사용한 것과 동일"
   ]
  },
  {
   "cell_type": "markdown",
   "metadata": {},
   "source": [
    "Note that topk didn't reduce the dimension, even in $k=1$ case."
   ]
  },
  {
   "cell_type": "code",
   "execution_count": 18,
   "metadata": {},
   "outputs": [
    {
     "name": "stdout",
     "output_type": "stream",
     "text": [
      "tensor([[18, 26, 25],\n",
      "        [24, 14, 19],\n",
      "        [22, 20, 12]])\n",
      "tensor([[0, 2, 1],\n",
      "        [0, 2, 1],\n",
      "        [0, 1, 1]])\n"
     ]
    }
   ],
   "source": [
    "print(values.squeeze(-1))\n",
    "print(indices.squeeze(-1))"
   ]
  },
  {
   "cell_type": "code",
   "execution_count": 19,
   "metadata": {},
   "outputs": [
    {
     "name": "stdout",
     "output_type": "stream",
     "text": [
      "tensor([[True, True, True],\n",
      "        [True, True, True],\n",
      "        [True, True, True]])\n"
     ]
    }
   ],
   "source": [
    "print(x.argmax(dim=-1) == indices.squeeze(-1))"
   ]
  },
  {
   "cell_type": "code",
   "execution_count": 11,
   "metadata": {},
   "outputs": [
    {
     "name": "stdout",
     "output_type": "stream",
     "text": [
      "torch.Size([3, 3, 2])\n",
      "tensor([[True, True, True],\n",
      "        [True, True, True],\n",
      "        [True, True, True]])\n"
     ]
    }
   ],
   "source": [
    "_, indices = torch.topk(x, k=2, dim=-1)\n",
    "print(indices.size())\n",
    "\n",
    "print(x.argmax(dim=-1) == indices[:, :, 0]) # indices[:,:,0] = (3,3) 차원\n",
    "# index range할 때만 해당 차원이 살아있고, index자체를 허용했기 때문에 해당 차원 날라감"
   ]
  },
  {
   "cell_type": "markdown",
   "metadata": {},
   "source": [
    "### Sort by using topk"
   ]
  },
  {
   "cell_type": "code",
   "execution_count": 20,
   "metadata": {},
   "outputs": [
    {
     "name": "stdout",
     "output_type": "stream",
     "text": [
      "tensor([[[18, 13,  5],\n",
      "         [26, 16, 15],\n",
      "         [25, 17,  3]],\n",
      "\n",
      "        [[24, 23, 21],\n",
      "         [14,  8,  7],\n",
      "         [19,  4,  2]],\n",
      "\n",
      "        [[22,  9,  0],\n",
      "         [20,  6,  1],\n",
      "         [12, 11, 10]]])\n"
     ]
    }
   ],
   "source": [
    "target_dim = -1\n",
    "values, indices = torch.topk(x,\n",
    "                             k=x.size(target_dim), # 3 -> 큰 거 순서대로 3개 뽑아옴 == sort\n",
    "                             largest=True)\n",
    "\n",
    "print(values)"
   ]
  },
  {
   "cell_type": "markdown",
   "metadata": {},
   "source": [
    "### Topk by using sort"
   ]
  },
  {
   "cell_type": "code",
   "execution_count": 21,
   "metadata": {},
   "outputs": [
    {
     "name": "stdout",
     "output_type": "stream",
     "text": [
      "tensor([[18, 26, 25],\n",
      "        [24, 14, 19],\n",
      "        [22, 20, 12]])\n",
      "tensor([[0, 2, 1],\n",
      "        [0, 2, 1],\n",
      "        [0, 1, 1]])\n"
     ]
    }
   ],
   "source": [
    "k=1\n",
    "values, indices = torch.sort(x, dim=-1, descending=True)\n",
    "values, indices = values[:, :, :k], indices[:, :, :k]\n",
    "\n",
    "print(values.squeeze(-1)) # matrix(3,3)\n",
    "print(indices.squeeze(-1))"
   ]
  },
  {
   "cell_type": "markdown",
   "metadata": {},
   "source": [
    "**CPU에서는 Topk가 빠르고, GPU에서는 sort가 빠르고..**"
   ]
  },
  {
   "cell_type": "markdown",
   "metadata": {},
   "source": [
    "### masked_fill: fill the value if element of mask is True."
   ]
  },
  {
   "cell_type": "code",
   "execution_count": 22,
   "metadata": {},
   "outputs": [
    {
     "name": "stdout",
     "output_type": "stream",
     "text": [
      "tensor([[0., 1., 2.],\n",
      "        [3., 4., 5.],\n",
      "        [6., 7., 8.]])\n",
      "torch.Size([3, 3])\n"
     ]
    }
   ],
   "source": [
    "x = torch.FloatTensor([i for i in range(3**2)]).reshape(3, -1)\n",
    "\n",
    "print(x)\n",
    "print(x.size())"
   ]
  },
  {
   "cell_type": "code",
   "execution_count": 23,
   "metadata": {},
   "outputs": [
    {
     "name": "stdout",
     "output_type": "stream",
     "text": [
      "tensor([[False, False, False],\n",
      "        [False, False,  True],\n",
      "        [ True,  True,  True]])\n"
     ]
    }
   ],
   "source": [
    "mask = x > 4\n",
    "\n",
    "print(mask)"
   ]
  },
  {
   "cell_type": "code",
   "execution_count": 24,
   "metadata": {},
   "outputs": [
    {
     "name": "stdout",
     "output_type": "stream",
     "text": [
      "tensor([[ 0.,  1.,  2.],\n",
      "        [ 3.,  4., -1.],\n",
      "        [-1., -1., -1.]])\n"
     ]
    }
   ],
   "source": [
    "y = x.masked_fill(mask, value=-1) # mask가 true면 -1로 채워라\n",
    "\n",
    "print(y)"
   ]
  },
  {
   "cell_type": "markdown",
   "metadata": {},
   "source": [
    "### Ones and Zeros"
   ]
  },
  {
   "cell_type": "code",
   "execution_count": 25,
   "metadata": {},
   "outputs": [
    {
     "name": "stdout",
     "output_type": "stream",
     "text": [
      "tensor([[1., 1., 1.],\n",
      "        [1., 1., 1.]])\n",
      "tensor([[0., 0., 0.],\n",
      "        [0., 0., 0.]])\n"
     ]
    }
   ],
   "source": [
    "print(torch.ones(2, 3)) # 그냥 ones는 CPU에 생성됨\n",
    "print(torch.zeros(2, 3))"
   ]
  },
  {
   "cell_type": "code",
   "execution_count": 18,
   "metadata": {},
   "outputs": [
    {
     "name": "stdout",
     "output_type": "stream",
     "text": [
      "torch.Size([2, 3])\n"
     ]
    }
   ],
   "source": [
    "x = torch.FloatTensor([[1, 2, 3],\n",
    "                       [4, 5, 6]])\n",
    "print(x.size())"
   ]
  },
  {
   "cell_type": "markdown",
   "metadata": {},
   "source": [
    "x의 디바이스 확인.. 변환.. (번거로움)\n",
    "\n",
    "연산을 하기 위해서는 데이터 타입, 디바이스(CPU, GPU)도 같아야함\n",
    "- CPU에 있는 것과 GPU에 있는 것을 연산시키면 죽음(에러)"
   ]
  },
  {
   "cell_type": "code",
   "execution_count": 30,
   "metadata": {},
   "outputs": [
    {
     "name": "stdout",
     "output_type": "stream",
     "text": [
      "tensor([[1., 1., 1.],\n",
      "        [1., 1., 1.],\n",
      "        [1., 1., 1.]])\n",
      "tensor([[0., 0., 0.],\n",
      "        [0., 0., 0.],\n",
      "        [0., 0., 0.]])\n"
     ]
    }
   ],
   "source": [
    "check = torch.ones_like(x)\n",
    "print(torch.ones_like(x)) # 타입, 디바이스 같음\n",
    "print(torch.zeros_like(x))"
   ]
  },
  {
   "cell_type": "code",
   "execution_count": 38,
   "metadata": {},
   "outputs": [
    {
     "name": "stdout",
     "output_type": "stream",
     "text": [
      "<class 'torch.Tensor'>\n"
     ]
    }
   ],
   "source": [
    "print(type(check))"
   ]
  },
  {
   "cell_type": "code",
   "execution_count": null,
   "metadata": {},
   "outputs": [],
   "source": []
  }
 ],
 "metadata": {
  "kernelspec": {
   "display_name": "Python 3 (ipykernel)",
   "language": "python",
   "name": "python3"
  },
  "language_info": {
   "codemirror_mode": {
    "name": "ipython",
    "version": 3
   },
   "file_extension": ".py",
   "mimetype": "text/x-python",
   "name": "python",
   "nbconvert_exporter": "python",
   "pygments_lexer": "ipython3",
   "version": "3.8.13"
  }
 },
 "nbformat": 4,
 "nbformat_minor": 2
}
