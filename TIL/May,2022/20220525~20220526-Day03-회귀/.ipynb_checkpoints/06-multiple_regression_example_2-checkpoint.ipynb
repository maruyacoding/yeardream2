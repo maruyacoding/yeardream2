{
 "cells": [
  {
   "cell_type": "code",
   "execution_count": null,
   "metadata": {
    "executionInfo": {
     "elapsed": 807,
     "status": "ok",
     "timestamp": 1628838611036,
     "user": {
      "displayName": "Doojin Park",
      "photoUrl": "",
      "userId": "13081019711214908217"
     },
     "user_tz": -540
    },
    "id": "g0AMSTrhVwYv"
   },
   "outputs": [],
   "source": [
    "%config InlineBackend.figure_formats = {'png', 'retina'}\n",
    "import numpy as np\n",
    "import pandas as pd\n",
    "import matplotlib.pyplot as plt\n",
    "import seaborn as sns\n",
    "import warnings\n",
    "warnings.filterwarnings('ignore')"
   ]
  },
  {
   "cell_type": "markdown",
   "metadata": {
    "id": "so8-H3eJWZxs"
   },
   "source": [
    "### 복합 화력발전소 발전량\n",
    "- feature\n",
    "    - AT : 온도\n",
    "    - V : 배기진공\n",
    "    - AP : 주위압력\n",
    "    - RH : 상대습도\n",
    "- target\n",
    "    - PE : 시간당 전기에너지 출력량"
   ]
  },
  {
   "cell_type": "code",
   "execution_count": null,
   "metadata": {
    "executionInfo": {
     "elapsed": 321,
     "status": "ok",
     "timestamp": 1628838771030,
     "user": {
      "displayName": "Doojin Park",
      "photoUrl": "",
      "userId": "13081019711214908217"
     },
     "user_tz": -540
    },
    "id": "1ASCMt-hWMKJ"
   },
   "outputs": [],
   "source": [
    "# 1. 데이터 로드"
   ]
  },
  {
   "cell_type": "code",
   "execution_count": null,
   "metadata": {
    "colab": {
     "base_uri": "https://localhost:8080/",
     "height": 111
    },
    "executionInfo": {
     "elapsed": 497,
     "status": "ok",
     "timestamp": 1628839115682,
     "user": {
      "displayName": "Doojin Park",
      "photoUrl": "",
      "userId": "13081019711214908217"
     },
     "user_tz": -540
    },
    "id": "vpVSjX3-XYAL",
    "outputId": "16a7664f-1f5a-4a44-d794-2ab250121ba2"
   },
   "outputs": [],
   "source": [
    "df = pd.read_csv(\"datas/thermal_power_plant.csv\")\n",
    "df.tail(2)"
   ]
  },
  {
   "cell_type": "code",
   "execution_count": null,
   "metadata": {
    "executionInfo": {
     "elapsed": 452,
     "status": "ok",
     "timestamp": 1628838782800,
     "user": {
      "displayName": "Doojin Park",
      "photoUrl": "",
      "userId": "13081019711214908217"
     },
     "user_tz": -540
    },
    "id": "w0U4XwyNWzWk"
   },
   "outputs": [],
   "source": [
    "# 2. 결정계수 확인 : df.corr() : 히트맵 시각화"
   ]
  },
  {
   "cell_type": "code",
   "execution_count": null,
   "metadata": {
    "colab": {
     "base_uri": "https://localhost:8080/",
     "height": 204
    },
    "executionInfo": {
     "elapsed": 422,
     "status": "ok",
     "timestamp": 1628839395161,
     "user": {
      "displayName": "Doojin Park",
      "photoUrl": "",
      "userId": "13081019711214908217"
     },
     "user_tz": -540
    },
    "id": "UJK6TLmXYPkb",
    "outputId": "48a921c6-499a-4251-b53f-b23d543539f7"
   },
   "outputs": [],
   "source": [
    "df.corr()"
   ]
  },
  {
   "cell_type": "code",
   "execution_count": null,
   "metadata": {
    "colab": {
     "base_uri": "https://localhost:8080/",
     "height": 269
    },
    "executionInfo": {
     "elapsed": 553,
     "status": "ok",
     "timestamp": 1628839516293,
     "user": {
      "displayName": "Doojin Park",
      "photoUrl": "",
      "userId": "13081019711214908217"
     },
     "user_tz": -540
    },
    "id": "v9psEGegYOOO",
    "outputId": "91bc83b1-9db4-47de-e0ea-e0c5b32c2705"
   },
   "outputs": [],
   "source": [
    "sns.heatmap(df.corr() ** 2, annot=True)\n",
    "plt.show()"
   ]
  },
  {
   "cell_type": "code",
   "execution_count": null,
   "metadata": {
    "executionInfo": {
     "elapsed": 429,
     "status": "ok",
     "timestamp": 1628838812169,
     "user": {
      "displayName": "Doojin Park",
      "photoUrl": "",
      "userId": "13081019711214908217"
     },
     "user_tz": -540
    },
    "id": "4c7_LYArW2Oy"
   },
   "outputs": [],
   "source": [
    "# 3. 데이터 전처리 : feature, target"
   ]
  },
  {
   "cell_type": "code",
   "execution_count": null,
   "metadata": {
    "colab": {
     "base_uri": "https://localhost:8080/"
    },
    "executionInfo": {
     "elapsed": 336,
     "status": "ok",
     "timestamp": 1628839816041,
     "user": {
      "displayName": "Doojin Park",
      "photoUrl": "",
      "userId": "13081019711214908217"
     },
     "user_tz": -540
    },
    "id": "cEN1WuEGawmX",
    "outputId": "9e8d9372-256b-40e7-e017-be11e24a0849"
   },
   "outputs": [],
   "source": [
    "df.columns"
   ]
  },
  {
   "cell_type": "code",
   "execution_count": null,
   "metadata": {
    "executionInfo": {
     "elapsed": 595,
     "status": "ok",
     "timestamp": 1628840517112,
     "user": {
      "displayName": "Doojin Park",
      "photoUrl": "",
      "userId": "13081019711214908217"
     },
     "user_tz": -540
    },
    "id": "lTDGbzTwaOhd"
   },
   "outputs": [],
   "source": [
    "feature = df[['AT', 'V', 'AP', 'RH']]\n",
    "target = df[\"PE\"]\n",
    "# feature = df[df.columns[:-1]]\n",
    "# target = df.iloc[:, -1]"
   ]
  },
  {
   "cell_type": "code",
   "execution_count": null,
   "metadata": {
    "executionInfo": {
     "elapsed": 2,
     "status": "ok",
     "timestamp": 1628840517586,
     "user": {
      "displayName": "Doojin Park",
      "photoUrl": "",
      "userId": "13081019711214908217"
     },
     "user_tz": -540
    },
    "id": "dsYx55c6W6ID"
   },
   "outputs": [],
   "source": [
    "# 4. 모델학습 : sklearn"
   ]
  },
  {
   "cell_type": "code",
   "execution_count": null,
   "metadata": {
    "executionInfo": {
     "elapsed": 13,
     "status": "ok",
     "timestamp": 1628840518008,
     "user": {
      "displayName": "Doojin Park",
      "photoUrl": "",
      "userId": "13081019711214908217"
     },
     "user_tz": -540
    },
    "id": "bM2hyBTLbtvW"
   },
   "outputs": [],
   "source": [
    "from sklearn.linear_model import LinearRegression"
   ]
  },
  {
   "cell_type": "code",
   "execution_count": null,
   "metadata": {
    "executionInfo": {
     "elapsed": 11,
     "status": "ok",
     "timestamp": 1628840518747,
     "user": {
      "displayName": "Doojin Park",
      "photoUrl": "",
      "userId": "13081019711214908217"
     },
     "user_tz": -540
    },
    "id": "pD_ARzLObU-s"
   },
   "outputs": [],
   "source": [
    "model = LinearRegression().fit(feature, target)"
   ]
  },
  {
   "cell_type": "code",
   "execution_count": null,
   "metadata": {
    "executionInfo": {
     "elapsed": 5,
     "status": "ok",
     "timestamp": 1628840519194,
     "user": {
      "displayName": "Doojin Park",
      "photoUrl": "",
      "userId": "13081019711214908217"
     },
     "user_tz": -540
    },
    "id": "h_A5RNROXBzj"
   },
   "outputs": [],
   "source": [
    "# 5. 모델성능 확인 : MAE"
   ]
  },
  {
   "cell_type": "code",
   "execution_count": null,
   "metadata": {
    "executionInfo": {
     "elapsed": 12,
     "status": "ok",
     "timestamp": 1628840519201,
     "user": {
      "displayName": "Doojin Park",
      "photoUrl": "",
      "userId": "13081019711214908217"
     },
     "user_tz": -540
    },
    "id": "ZXltAZbnbYbh"
   },
   "outputs": [],
   "source": [
    "from sklearn.metrics import mean_absolute_error"
   ]
  },
  {
   "cell_type": "code",
   "execution_count": null,
   "metadata": {
    "colab": {
     "base_uri": "https://localhost:8080/"
    },
    "executionInfo": {
     "elapsed": 4,
     "status": "ok",
     "timestamp": 1628840519495,
     "user": {
      "displayName": "Doojin Park",
      "photoUrl": "",
      "userId": "13081019711214908217"
     },
     "user_tz": -540
    },
    "id": "zBnIRCQ4cq_J",
    "outputId": "85f80d17-697c-45fb-dc42-3bc7dbb67f22"
   },
   "outputs": [],
   "source": [
    "pred = model.predict(feature)\n",
    "mae = np.round(mean_absolute_error(target, pred), 2)\n",
    "mae"
   ]
  },
  {
   "cell_type": "code",
   "execution_count": null,
   "metadata": {
    "id": "V5yjweE1dBaz"
   },
   "outputs": [],
   "source": [
    "# 'AT', 'V', 'AP', 'RH' : 3.63\n",
    "# 'AT', 'V' : 3.92\n",
    "# 'AT', 'AP' : 4.28\n",
    "# 'AT', 'RH' : 3.8\n",
    "# 2개의 feature를 사용할때 PE를 가장 잘 설명하는 AT, V를 사용하는것보다 AT, RH를 사용하는것이 더 좋다.\n",
    "# 이유는 AT에 겹치지 않는 PE의 설명영역을 V보다 RH가 더 많이 설명하고 있기 때문이다."
   ]
  },
  {
   "cell_type": "code",
   "execution_count": null,
   "metadata": {
    "executionInfo": {
     "elapsed": 309,
     "status": "ok",
     "timestamp": 1628838858067,
     "user": {
      "displayName": "Doojin Park",
      "photoUrl": "",
      "userId": "13081019711214908217"
     },
     "user_tz": -540
    },
    "id": "XgbEqY_NXEwg"
   },
   "outputs": [],
   "source": [
    "# 6. 모델학습 : statsmodels"
   ]
  },
  {
   "cell_type": "code",
   "execution_count": null,
   "metadata": {
    "colab": {
     "base_uri": "https://localhost:8080/"
    },
    "executionInfo": {
     "elapsed": 1303,
     "status": "ok",
     "timestamp": 1628842068295,
     "user": {
      "displayName": "Doojin Park",
      "photoUrl": "",
      "userId": "13081019711214908217"
     },
     "user_tz": -540
    },
    "id": "yzp8Y3kKjVTJ",
    "outputId": "278b45b8-f5f1-4444-d24d-eeb44743ce60"
   },
   "outputs": [],
   "source": [
    "import statsmodels.api as sm"
   ]
  },
  {
   "cell_type": "code",
   "execution_count": null,
   "metadata": {
    "colab": {
     "base_uri": "https://localhost:8080/",
     "height": 80
    },
    "executionInfo": {
     "elapsed": 307,
     "status": "ok",
     "timestamp": 1628842089355,
     "user": {
      "displayName": "Doojin Park",
      "photoUrl": "",
      "userId": "13081019711214908217"
     },
     "user_tz": -540
    },
    "id": "Mzy8hDnAe4ZL",
    "outputId": "bbecc16e-460d-48d6-a010-87f08f2b384a"
   },
   "outputs": [],
   "source": [
    "feature = df[['AT', 'V', 'AP', 'RH']]\n",
    "target = df[\"PE\"]\n",
    "sm_feature = sm.add_constant(feature)\n",
    "sm_feature.tail(1)"
   ]
  },
  {
   "cell_type": "code",
   "execution_count": null,
   "metadata": {
    "executionInfo": {
     "elapsed": 272,
     "status": "ok",
     "timestamp": 1628842118515,
     "user": {
      "displayName": "Doojin Park",
      "photoUrl": "",
      "userId": "13081019711214908217"
     },
     "user_tz": -540
    },
    "id": "F89AWCVziHpG"
   },
   "outputs": [],
   "source": [
    "model = sm.OLS(target, sm_feature).fit()"
   ]
  },
  {
   "cell_type": "code",
   "execution_count": null,
   "metadata": {
    "executionInfo": {
     "elapsed": 517,
     "status": "ok",
     "timestamp": 1628838864582,
     "user": {
      "displayName": "Doojin Park",
      "photoUrl": "",
      "userId": "13081019711214908217"
     },
     "user_tz": -540
    },
    "id": "LTUXOF_vXIpQ"
   },
   "outputs": [],
   "source": [
    "# 7. 요약표 확인"
   ]
  },
  {
   "cell_type": "code",
   "execution_count": null,
   "metadata": {
    "colab": {
     "base_uri": "https://localhost:8080/"
    },
    "executionInfo": {
     "elapsed": 364,
     "status": "ok",
     "timestamp": 1628842235698,
     "user": {
      "displayName": "Doojin Park",
      "photoUrl": "",
      "userId": "13081019711214908217"
     },
     "user_tz": -540
    },
    "id": "-t51odcjjmzJ",
    "outputId": "0d5ccf2f-a52e-4084-f5de-f9fd0c831fa3"
   },
   "outputs": [],
   "source": [
    "print(model.summary2())"
   ]
  },
  {
   "cell_type": "code",
   "execution_count": null,
   "metadata": {
    "executionInfo": {
     "elapsed": 291,
     "status": "ok",
     "timestamp": 1628842340708,
     "user": {
      "displayName": "Doojin Park",
      "photoUrl": "",
      "userId": "13081019711214908217"
     },
     "user_tz": -540
    },
    "id": "oF2Y6cV6XKLS"
   },
   "outputs": [],
   "source": [
    "# 8. 불필요한 컬럼을 제거\n",
    "# (1) : 산점도 확인\n",
    "# (2) : feature들 간의 상관계수 확인\n",
    "# (3) : VIF 지표 사용 : feature들 간의 상관관계를 수치화 시켜준 데이터\n",
    "#     : VIF 지표에서 10이상이 되는 feature는 제거 (한개씩 제거)"
   ]
  },
  {
   "cell_type": "code",
   "execution_count": null,
   "metadata": {
    "executionInfo": {
     "elapsed": 394,
     "status": "ok",
     "timestamp": 1628842512505,
     "user": {
      "displayName": "Doojin Park",
      "photoUrl": "",
      "userId": "13081019711214908217"
     },
     "user_tz": -540
    },
    "id": "AzD8zJ8zkQCS"
   },
   "outputs": [],
   "source": [
    "from statsmodels.stats.outliers_influence import variance_inflation_factor"
   ]
  },
  {
   "cell_type": "code",
   "execution_count": null,
   "metadata": {
    "colab": {
     "base_uri": "https://localhost:8080/",
     "height": 173
    },
    "executionInfo": {
     "elapsed": 435,
     "status": "ok",
     "timestamp": 1628842642541,
     "user": {
      "displayName": "Doojin Park",
      "photoUrl": "",
      "userId": "13081019711214908217"
     },
     "user_tz": -540
    },
    "id": "CdCZWQWNlFUD",
    "outputId": "b9ac29c6-3a9e-4c76-edee-9b3e8c53b667"
   },
   "outputs": [],
   "source": [
    "pd.DataFrame({\n",
    "    \"feature\": feature.columns,\n",
    "    \"VIF\": [variance_inflation_factor(feature.values, idx)\n",
    "            for idx in range(feature.shape[1])]\n",
    "})"
   ]
  },
  {
   "cell_type": "code",
   "execution_count": null,
   "metadata": {
    "colab": {
     "base_uri": "https://localhost:8080/",
     "height": 142
    },
    "executionInfo": {
     "elapsed": 805,
     "status": "ok",
     "timestamp": 1628842786340,
     "user": {
      "displayName": "Doojin Park",
      "photoUrl": "",
      "userId": "13081019711214908217"
     },
     "user_tz": -540
    },
    "id": "-2cTP7aul0bs",
    "outputId": "9795c505-c02a-4c94-fab6-39e4e381d318"
   },
   "outputs": [],
   "source": [
    "feature = df[['AT', 'AP', 'RH']]\n",
    "pd.DataFrame({\n",
    "    \"feature\": feature.columns,\n",
    "    \"VIF\": [variance_inflation_factor(feature.values, idx)\n",
    "            for idx in range(feature.shape[1])]\n",
    "})"
   ]
  },
  {
   "cell_type": "code",
   "execution_count": null,
   "metadata": {
    "colab": {
     "base_uri": "https://localhost:8080/",
     "height": 111
    },
    "executionInfo": {
     "elapsed": 484,
     "status": "ok",
     "timestamp": 1628842834498,
     "user": {
      "displayName": "Doojin Park",
      "photoUrl": "",
      "userId": "13081019711214908217"
     },
     "user_tz": -540
    },
    "id": "jcl1h2nhmRmb",
    "outputId": "8efa8dfe-3fa5-47e0-9f81-defced35bb26"
   },
   "outputs": [],
   "source": [
    "feature = df[['AT', 'RH']]\n",
    "pd.DataFrame({\n",
    "    \"feature\": feature.columns,\n",
    "    \"VIF\": [variance_inflation_factor(feature.values, idx)\n",
    "            for idx in range(feature.shape[1])]\n",
    "})"
   ]
  },
  {
   "cell_type": "code",
   "execution_count": null,
   "metadata": {
    "executionInfo": {
     "elapsed": 526,
     "status": "ok",
     "timestamp": 1628843008519,
     "user": {
      "displayName": "Doojin Park",
      "photoUrl": "",
      "userId": "13081019711214908217"
     },
     "user_tz": -540
    },
    "id": "dAIzBdinXMuS"
   },
   "outputs": [],
   "source": [
    "# 9. 모델생성(feature: AT, RH), 성능 확인, 요약표 출력"
   ]
  },
  {
   "cell_type": "code",
   "execution_count": null,
   "metadata": {
    "colab": {
     "base_uri": "https://localhost:8080/"
    },
    "executionInfo": {
     "elapsed": 308,
     "status": "ok",
     "timestamp": 1628843184360,
     "user": {
      "displayName": "Doojin Park",
      "photoUrl": "",
      "userId": "13081019711214908217"
     },
     "user_tz": -540
    },
    "id": "IPsaXCuBmvID",
    "outputId": "833c8e1d-6a1e-48df-fc17-50d827e91c6b"
   },
   "outputs": [],
   "source": [
    "feature = df[['AT', 'RH']]\n",
    "target = df[\"PE\"]\n",
    "sm_feature = sm.add_constant(feature)\n",
    "\n",
    "model = sm.OLS(target, sm_feature).fit()\n",
    "\n",
    "print(model.summary2())"
   ]
  },
  {
   "cell_type": "code",
   "execution_count": null,
   "metadata": {},
   "outputs": [],
   "source": [
    "# 'AT', 'V', 'AP', 'RH' : 3.63\n",
    "# 'AT', 'V' : 3.92\n",
    "# 'AT', 'AP' : 4.28\n",
    "# 'AT', 'RH' : 3.8\n",
    "# feature를 최소화 하면서 모델 성능의 감소를 최소화 시키는 방법은 AT, RH를 feature로 사용\n",
    "\n",
    "pred = np.dot(sm_feature, model.params)\n",
    "mae = np.round(mean_absolute_error(target, pred), 2)\n",
    "mae"
   ]
  }
 ],
 "metadata": {
  "colab": {
   "authorship_tag": "ABX9TyOxYU/7enPv/1aVRCg5ifNb",
   "collapsed_sections": [],
   "name": "06_multiple_regression_example_2.ipynb",
   "provenance": []
  },
  "kernelspec": {
   "display_name": "Python 3 (ipykernel)",
   "language": "python",
   "name": "python3"
  },
  "language_info": {
   "codemirror_mode": {
    "name": "ipython",
    "version": 3
   },
   "file_extension": ".py",
   "mimetype": "text/x-python",
   "name": "python",
   "nbconvert_exporter": "python",
   "pygments_lexer": "ipython3",
   "version": "3.7.12"
  },
  "toc": {
   "base_numbering": 1,
   "nav_menu": {},
   "number_sections": false,
   "sideBar": true,
   "skip_h1_title": false,
   "title_cell": "Table of Contents",
   "title_sidebar": "Contents",
   "toc_cell": false,
   "toc_position": {},
   "toc_section_display": true,
   "toc_window_display": false
  }
 },
 "nbformat": 4,
 "nbformat_minor": 1
}
