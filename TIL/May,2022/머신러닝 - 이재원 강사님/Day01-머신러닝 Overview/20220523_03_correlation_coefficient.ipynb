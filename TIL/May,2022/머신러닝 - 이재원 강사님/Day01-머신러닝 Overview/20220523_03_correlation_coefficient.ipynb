{
  "cells": [
    {
      "cell_type": "markdown",
      "metadata": {
        "id": "7Vis1WM0Axhv"
      },
      "source": [
        "# 상관계수 ( Correlation Coefficient )\n",
        "- numpy를 이용하여 데이터의 상관계수를 구합니다.\n",
        "- python 코드와 numpy의 함수의 속도차이를 비교합니다."
      ]
    },
    {
      "cell_type": "markdown",
      "source": [
        "- 상관계수를 통해서 알 수 있는 정보\n",
        "- features : x1, x2, x3, x4, x5\n",
        "- x1 & x2 -> 1.0 (양의 상관관계 -> x1, x2가 비슷한 경향성을 보이고 있음)\n",
        "- x1 ~ x5 : 모든 features는 모두 독립적이어야 한다!"
      ],
      "metadata": {
        "id": "7EHRIL-2Br-k"
      }
    },
    {
      "cell_type": "markdown",
      "metadata": {
        "id": "Ya-Ob5bzAxh3"
      },
      "source": [
        "### Index\n",
        "\n",
        "1. 분산\n",
        "1. 공분산\n",
        "1. 상관계수\n",
        "1. 결정계수\n",
        "1. 프리미어리그 상관계수 분석\n",
        "1. 광고효과 상관계수 분석\n",
        "1. 광고효과 회귀분석"
      ]
    },
    {
      "cell_type": "code",
      "execution_count": 1,
      "metadata": {
        "id": "wBnVGhDKAxh5"
      },
      "outputs": [],
      "source": [
        "import numpy as np"
      ]
    },
    {
      "cell_type": "markdown",
      "metadata": {
        "id": "gaZWoJJBAxh7"
      },
      "source": [
        "샘플 데이터 생성"
      ]
    },
    {
      "cell_type": "code",
      "execution_count": 2,
      "metadata": {
        "id": "qotcbspeAxh8"
      },
      "outputs": [],
      "source": [
        "data1 = np.array([80, 85, 100, 90, 95])\n",
        "data2 = np.array([70, 80, 100, 95, 95])"
      ]
    },
    {
      "cell_type": "markdown",
      "metadata": {
        "id": "umxWHsD1Axh-"
      },
      "source": [
        "### 2. 분산(variance)\n",
        "- 1개의 이산정도를 나타냅니다.\n",
        "- 편차제곱의 평균"
      ]
    },
    {
      "cell_type": "markdown",
      "metadata": {
        "id": "6O-UwAv_Axh_"
      },
      "source": [
        "$ variance = \\frac{\\sum_{i=1}^n{(x_i-\\bar{x})^2}}{n}, (\\bar{x}:평균) $"
      ]
    },
    {
      "cell_type": "code",
      "execution_count": 4,
      "metadata": {
        "colab": {
          "base_uri": "https://localhost:8080/"
        },
        "id": "X8l2b_RiAxiB",
        "outputId": "60ea59c3-78fb-4ba7-88bb-03a2a52424d3"
      },
      "outputs": [
        {
          "output_type": "stream",
          "name": "stdout",
          "text": [
            "variance : 50.0 126.0\n",
            "standard deviation : 7.0710678118654755 11.224972160321824\n"
          ]
        }
      ],
      "source": [
        "# variance code\n",
        "def variance(data):\n",
        "\n",
        "    avg = np.average(data)\n",
        "    var = 0\n",
        "    for num in data:\n",
        "        var += (num - avg) ** 2\n",
        "    return var / len(data)\n",
        "\n",
        "\n",
        "# test code (분산, 표준편차)\n",
        "print(\"variance :\", variance(data1), variance(data2))\n",
        "print(\"standard deviation :\", variance(data1)**0.5, variance(data2)**0.5)"
      ]
    },
    {
      "cell_type": "code",
      "execution_count": 5,
      "metadata": {
        "colab": {
          "base_uri": "https://localhost:8080/"
        },
        "id": "GX0aPHw7AxiC",
        "outputId": "e828dd3f-25bf-4e5d-b45c-83333455bc2d"
      },
      "outputs": [
        {
          "output_type": "execute_result",
          "data": {
            "text/plain": [
              "(50.0, 126.0, 7.0710678118654755, 11.224972160321824)"
            ]
          },
          "metadata": {},
          "execution_count": 5
        }
      ],
      "source": [
        "variance(data1), variance(data2), variance(data1) ** 0.5, variance(data2) ** 0.5"
      ]
    },
    {
      "cell_type": "code",
      "execution_count": 3,
      "metadata": {
        "colab": {
          "base_uri": "https://localhost:8080/"
        },
        "id": "0EYRCZVvAxiD",
        "outputId": "797ec805-decf-482f-9084-27a881fb57de"
      },
      "outputs": [
        {
          "output_type": "execute_result",
          "data": {
            "text/plain": [
              "(50.0, 126.0, 7.0710678118654755, 11.224972160321824)"
            ]
          },
          "metadata": {},
          "execution_count": 3
        }
      ],
      "source": [
        "np.var(data1), np.var(data2), np.std(data1), np.std(data2)"
      ]
    },
    {
      "cell_type": "markdown",
      "metadata": {
        "id": "M-ZjdkXAAxiE"
      },
      "source": [
        "일반 함수와 numpy 함수의 퍼포먼스 비교"
      ]
    },
    {
      "cell_type": "code",
      "execution_count": 9,
      "metadata": {
        "id": "wHcxs6DJAxiF"
      },
      "outputs": [],
      "source": [
        "p_data1 = np.random.randint(60, 100, int(1E5)) # 100000개 \n",
        "p_data2 = np.random.randint(60, 100, int(1E5))"
      ]
    },
    {
      "cell_type": "code",
      "source": [
        "len(p_data1)"
      ],
      "metadata": {
        "colab": {
          "base_uri": "https://localhost:8080/"
        },
        "id": "S9pUpkaZCxoL",
        "outputId": "d96979df-ab44-4c9f-babf-c016fc567788"
      },
      "execution_count": 10,
      "outputs": [
        {
          "output_type": "execute_result",
          "data": {
            "text/plain": [
              "100000"
            ]
          },
          "metadata": {},
          "execution_count": 10
        }
      ]
    },
    {
      "cell_type": "code",
      "execution_count": null,
      "metadata": {
        "id": "FKonU3P-AxiF"
      },
      "outputs": [],
      "source": [
        "# 일반함수"
      ]
    },
    {
      "cell_type": "code",
      "execution_count": 11,
      "metadata": {
        "colab": {
          "base_uri": "https://localhost:8080/"
        },
        "id": "jn7nY2FXAxiG",
        "outputId": "c32d5877-fc39-43b0-a592-97d66e415a90"
      },
      "outputs": [
        {
          "output_type": "stream",
          "name": "stdout",
          "text": [
            "CPU times: user 540 ms, sys: 1.06 ms, total: 541 ms\n",
            "Wall time: 541 ms\n"
          ]
        },
        {
          "output_type": "execute_result",
          "data": {
            "text/plain": [
              "(132.59606437760536, 133.02881978842015)"
            ]
          },
          "metadata": {},
          "execution_count": 11
        }
      ],
      "source": [
        "%%time\n",
        "variance(p_data1), variance(p_data2)"
      ]
    },
    {
      "cell_type": "code",
      "execution_count": null,
      "metadata": {
        "id": "lTOyPft-AxiG"
      },
      "outputs": [],
      "source": [
        "# numpy"
      ]
    },
    {
      "cell_type": "code",
      "execution_count": 12,
      "metadata": {
        "colab": {
          "base_uri": "https://localhost:8080/"
        },
        "id": "ehbpPlyxAxiH",
        "outputId": "9b1e1f6c-38db-4da3-c401-93b0b2d4eb5e"
      },
      "outputs": [
        {
          "output_type": "stream",
          "name": "stdout",
          "text": [
            "CPU times: user 1.23 ms, sys: 1.08 ms, total: 2.3 ms\n",
            "Wall time: 2.33 ms\n"
          ]
        },
        {
          "output_type": "execute_result",
          "data": {
            "text/plain": [
              "(132.5960643776, 133.0288197884)"
            ]
          },
          "metadata": {},
          "execution_count": 12
        }
      ],
      "source": [
        "%%time\n",
        "np.var(p_data1), np.var(p_data2) # 훨씬 더 빠름\n",
        "# 1000ms = 1s"
      ]
    },
    {
      "cell_type": "markdown",
      "metadata": {
        "id": "56cP96QJAxiH"
      },
      "source": [
        "### 3. 공분산(covariance)\n",
        "- 2개의 확률변수의 상관정도를 나타냅니다.\n",
        "- 평균 편차곱\n",
        "- 방향성은 보여줄수 있으나 강도를 나타내는데 한계가 있습니다.\n",
        "    - 표본데이터의 크기에 따라서 값의 차이가 큰 단점이 있습니다."
      ]
    },
    {
      "cell_type": "markdown",
      "metadata": {
        "id": "qRIrTMOBAxiI"
      },
      "source": [
        "$ covariance = \\frac{\\sum_{i=1}^{n}{(x_i-\\bar{x})(y_i-\\bar{y})}}{n}, (\\bar{x}:x의 평균, \\bar{y}:y의 평균) $"
      ]
    },
    {
      "cell_type": "code",
      "execution_count": 13,
      "metadata": {
        "id": "sl7d9nDjAxiI"
      },
      "outputs": [],
      "source": [
        "# covariance function\n",
        "# 표본상관계수를 사용 (모상관계수를 사용하면 -1을 제거)\n",
        "def covariance(data1, data2):\n",
        "\n",
        "    x_ = np.average(data1)\n",
        "    y_ = np.average(data2)\n",
        "\n",
        "    cov = 0\n",
        "    for idx in range(len(data1)):\n",
        "        cov += (data1[idx] - x_) * (data2[idx] - y_)\n",
        "    return cov / (len(data1) - 1)"
      ]
    },
    {
      "cell_type": "code",
      "execution_count": 14,
      "metadata": {
        "colab": {
          "base_uri": "https://localhost:8080/"
        },
        "id": "N8i_PcEBAxiI",
        "outputId": "f88a3f54-c544-471d-b1a3-df78d3f1aad5"
      },
      "outputs": [
        {
          "output_type": "execute_result",
          "data": {
            "text/plain": [
              "93.75"
            ]
          },
          "metadata": {},
          "execution_count": 14
        }
      ],
      "source": [
        "# teat code 1\n",
        "# data1이 커짐으로 data2도 커진다.\n",
        "data1 = np.array([80, 85, 100, 90, 95])\n",
        "data2 = np.array([70, 80, 100, 95, 95])\n",
        "covariance(data1, data2)"
      ]
    },
    {
      "cell_type": "code",
      "execution_count": 15,
      "metadata": {
        "colab": {
          "base_uri": "https://localhost:8080/"
        },
        "id": "SGWv2S6bAxiJ",
        "outputId": "c11a5e2a-04c2-46f1-b8cd-064e31114cde"
      },
      "outputs": [
        {
          "output_type": "execute_result",
          "data": {
            "text/plain": [
              "-87.5"
            ]
          },
          "metadata": {},
          "execution_count": 15
        }
      ],
      "source": [
        "# test code 2\n",
        "# data3는 커지지만 data4는 작아진다.\n",
        "data3 = np.array([80, 85, 100, 90, 95])\n",
        "data4 = np.array([100, 90, 70, 90, 80])\n",
        "covariance(data3, data4)"
      ]
    },
    {
      "cell_type": "code",
      "execution_count": 16,
      "metadata": {
        "colab": {
          "base_uri": "https://localhost:8080/"
        },
        "id": "UNCF5kmTAxiJ",
        "outputId": "8dfd6ae1-79a9-4a24-ff13-02e5db7ae10d"
      },
      "outputs": [
        {
          "output_type": "execute_result",
          "data": {
            "text/plain": [
              "-8750.0"
            ]
          },
          "metadata": {},
          "execution_count": 16
        }
      ],
      "source": [
        "# test code 3\n",
        "# 표본데이터의 크기가 커지면 공분산 값도 커진다.\n",
        "# 두 데이터의 상관정도의 강도를 나타내는데 무리가 있다.\n",
        "data5 = np.array([800, 850, 1000, 900, 950])\n",
        "data6 = np.array([1000, 900, 700, 900, 800])\n",
        "covariance(data5, data6)"
      ]
    },
    {
      "cell_type": "markdown",
      "metadata": {
        "id": "uI0oXJ5wAxiJ"
      },
      "source": [
        "### 4. 상관계수(correlation coefficient)\n",
        "- 공분산의 한계를 극복하기 위해서 만들어집니다.\n",
        "- -1 ~ 1까지의 수를 가지며 0과 가까울수록 상관도가 적음을 의미합니다.\n",
        "- x의 분산과 y의 분산을 곱한 결과의 제곱근을 나눠주면 x나 y의 변화량이 클수록 0에 가까워집니다.\n",
        "- https://docs.scipy.org/doc/numpy-1.13.0/reference/generated/numpy.corrcoef.html\n",
        "\n",
        "$ correlation-coefficient = \\frac{공분산}{\\sqrt{{x분산} \\cdot {y분산}}} $\n",
        "\n",
        "- 최종 상관계수\n",
        "\n",
        "$ r = \\frac{\\sum(x-\\bar{x})(y-\\bar{y})}{\\sqrt{{\\sum(x-\\bar{x})^2}\\cdot{\\sum(y-\\bar{y})^2}}} $"
      ]
    },
    {
      "cell_type": "code",
      "execution_count": 17,
      "metadata": {
        "id": "BjSndtFPAxiJ"
      },
      "outputs": [],
      "source": [
        "# 상관계수 함수\n",
        "def cc(data1, data2):\n",
        "\n",
        "    x_ = np.average(data1)\n",
        "    y_ = np.average(data2)\n",
        "\n",
        "    cov, xv, yv = 0, 0, 0\n",
        "\n",
        "    for idx in range(len(data1)):\n",
        "        cov += (data1[idx] - x_) * (data2[idx] - y_)\n",
        "        xv += (data1[idx] - x_) ** 2\n",
        "        yv += (data2[idx] - y_) ** 2\n",
        "\n",
        "    return cov / ((xv*yv) ** 0.5)"
      ]
    },
    {
      "cell_type": "code",
      "execution_count": 18,
      "metadata": {
        "colab": {
          "base_uri": "https://localhost:8080/"
        },
        "id": "y48LQNZ5AxiK",
        "outputId": "c6d006be-f61d-4368-96af-8c7e979f435a"
      },
      "outputs": [
        {
          "output_type": "execute_result",
          "data": {
            "text/plain": [
              "0.944911182523068"
            ]
          },
          "metadata": {},
          "execution_count": 18
        }
      ],
      "source": [
        "# teat code 1\n",
        "data1 = np.array([80, 85, 100, 90, 95])\n",
        "data2 = np.array([70, 80, 100, 95, 95])\n",
        "cc(data1, data2)"
      ]
    },
    {
      "cell_type": "code",
      "execution_count": 19,
      "metadata": {
        "colab": {
          "base_uri": "https://localhost:8080/"
        },
        "id": "H9oVRaZ2AxiK",
        "outputId": "4e85dddb-aa5b-4b3c-ec0d-589d427695d4"
      },
      "outputs": [
        {
          "output_type": "execute_result",
          "data": {
            "text/plain": [
              "-0.970725343394151"
            ]
          },
          "metadata": {},
          "execution_count": 19
        }
      ],
      "source": [
        "# teat code 2\n",
        "data3 = np.array([80, 85, 100, 90, 95])\n",
        "data4 = np.array([100, 90, 70, 90, 80])\n",
        "cc(data3, data4)"
      ]
    },
    {
      "cell_type": "code",
      "execution_count": 20,
      "metadata": {
        "colab": {
          "base_uri": "https://localhost:8080/"
        },
        "id": "vUJn4ynyAxiK",
        "outputId": "37091394-d8d7-4d34-a442-b49083227a48"
      },
      "outputs": [
        {
          "output_type": "execute_result",
          "data": {
            "text/plain": [
              "-0.970725343394151"
            ]
          },
          "metadata": {},
          "execution_count": 20
        }
      ],
      "source": [
        "# teat code 3\n",
        "data5 = np.array([800, 850, 1000, 900, 950])\n",
        "data6 = np.array([1000, 900, 700, 900, 800])\n",
        "cc(data5, data6)"
      ]
    },
    {
      "cell_type": "code",
      "execution_count": 21,
      "metadata": {
        "colab": {
          "base_uri": "https://localhost:8080/"
        },
        "id": "6oLpNbJnAxiK",
        "outputId": "629132e5-9d85-4724-a74f-37bb2127e24b"
      },
      "outputs": [
        {
          "output_type": "stream",
          "name": "stdout",
          "text": [
            "0.9449111825230682\n",
            "-0.970725343394151\n",
            "-0.970725343394151\n"
          ]
        }
      ],
      "source": [
        "# numpy\n",
        "print(np.corrcoef(data1, data2)[0][1])\n",
        "print(np.corrcoef(data3, data4)[0][1])\n",
        "print(np.corrcoef(data5, data6)[0][1])"
      ]
    },
    {
      "cell_type": "code",
      "source": [
        "import pandas as pd"
      ],
      "metadata": {
        "id": "-2J731ATEwLs"
      },
      "execution_count": 22,
      "outputs": []
    },
    {
      "cell_type": "code",
      "source": [
        "df5 = pd.DataFrame([800, 850, 1000, 900, 950])\n",
        "print(df5)"
      ],
      "metadata": {
        "colab": {
          "base_uri": "https://localhost:8080/"
        },
        "id": "2fAw99ObEyj3",
        "outputId": "e2793c65-d05f-41b1-9f9e-a34abfd975df"
      },
      "execution_count": 26,
      "outputs": [
        {
          "output_type": "stream",
          "name": "stdout",
          "text": [
            "      0\n",
            "0   800\n",
            "1   850\n",
            "2  1000\n",
            "3   900\n",
            "4   950\n"
          ]
        }
      ]
    },
    {
      "cell_type": "code",
      "source": [
        "df6 =pd.DataFrame([1000, 900, 700, 900, 800])\n",
        "print(df6)"
      ],
      "metadata": {
        "colab": {
          "base_uri": "https://localhost:8080/"
        },
        "id": "Ig_qisRwFDeP",
        "outputId": "8210a543-35b0-4ca4-b634-8c755b0161cc"
      },
      "execution_count": 25,
      "outputs": [
        {
          "output_type": "stream",
          "name": "stdout",
          "text": [
            "      0\n",
            "0  1000\n",
            "1   900\n",
            "2   700\n",
            "3   900\n",
            "4   800\n"
          ]
        }
      ]
    },
    {
      "cell_type": "code",
      "source": [
        "# multiple columns dataframe -> corr -> 각 컬럼별 상관관계를 구할 수 있습니다.\n",
        "\n",
        "# DataFrame의 corrwith 사용\n",
        "print(df5.corrwith(df6))\n",
        "print(df6.corrwith(df5))"
      ],
      "metadata": {
        "colab": {
          "base_uri": "https://localhost:8080/"
        },
        "id": "pyLER-QKFHyV",
        "outputId": "51d8e4fa-782a-4001-c116-39384f9662a6"
      },
      "execution_count": 28,
      "outputs": [
        {
          "output_type": "stream",
          "name": "stdout",
          "text": [
            "0   -0.970725\n",
            "dtype: float64\n",
            "0   -0.970725\n",
            "dtype: float64\n"
          ]
        }
      ]
    },
    {
      "cell_type": "markdown",
      "metadata": {
        "id": "GsPRJarSAxiL"
      },
      "source": [
        "### 5. 결정계수(cofficient of determination: R-squared)\n",
        "- x로부터 y를 예측할수 있는 정도\n",
        "- 상관계수의 제곱 (상관계수를 양수화)\n",
        "- 수치가 클수록 회기분석을 통해 예측할수 있는 수치의 정도가 더 정확"
      ]
    },
    {
      "cell_type": "code",
      "execution_count": 29,
      "metadata": {
        "colab": {
          "base_uri": "https://localhost:8080/"
        },
        "id": "3tdWEVobAxiL",
        "outputId": "5d2a76f5-d0f2-4fb3-edab-07e1eba6b610"
      },
      "outputs": [
        {
          "output_type": "stream",
          "name": "stdout",
          "text": [
            "[ 80  85 100  90  95]\n",
            "[ 70  80 100  95  95]\n",
            "[100  90  70  90  80]\n",
            "\n",
            "corrcoef\n",
            "data1, data2 : 0.9449111825230682\n",
            "data1, data4 : -0.970725343394151\n",
            "\n",
            "R-squred\n",
            "data1, data2 : 0.892857142857143\n",
            "data1, data4 : 0.9423076923076923\n"
          ]
        }
      ],
      "source": [
        "print(data1, data2, data4, sep=\"\\n\")\n",
        "print(\"\\ncorrcoef\")\n",
        "print(\"data1, data2 :\", np.corrcoef(data1, data2)[0][1])\n",
        "print(\"data1, data4 :\", np.corrcoef(data1, data4)[0][1])\n",
        "print(\"\\nR-squred\")\n",
        "print(\"data1, data2 :\", np.corrcoef(data1, data2)[0][1]**2) # 상관계수 제곱\n",
        "print(\"data1, data4 :\", np.corrcoef(data1, data4)[0][1]**2)"
      ]
    },
    {
      "cell_type": "markdown",
      "metadata": {
        "id": "W090jNDBAxiL"
      },
      "source": [
        "### 6. 프리미어리그 데이터 상관계수 분석\n",
        "- 2016/2017시즌의 프리미어리그 성적에서 득점과 실점 데이터중에 승점에 영향을 더 많이 준 데이터는?"
      ]
    },
    {
      "cell_type": "code",
      "execution_count": 30,
      "metadata": {
        "id": "7sdtFDyFAxiL"
      },
      "outputs": [],
      "source": [
        "import pandas as pd"
      ]
    },
    {
      "cell_type": "code",
      "source": [
        "from google.colab import drive\n",
        "drive.mount('/content/drive')"
      ],
      "metadata": {
        "colab": {
          "base_uri": "https://localhost:8080/"
        },
        "id": "Acf5E53DFwyO",
        "outputId": "31f87380-63a3-4ef4-9fd2-1a0c144b4981"
      },
      "execution_count": 31,
      "outputs": [
        {
          "output_type": "stream",
          "name": "stdout",
          "text": [
            "Mounted at /content/drive\n"
          ]
        }
      ]
    },
    {
      "cell_type": "code",
      "execution_count": 34,
      "metadata": {
        "colab": {
          "base_uri": "https://localhost:8080/",
          "height": 112
        },
        "id": "1fEhW7YTAxiL",
        "outputId": "d2aa8c64-cb98-42a1-e686-685720a1f700"
      },
      "outputs": [
        {
          "output_type": "execute_result",
          "data": {
            "text/plain": [
              "                name   gf  ga  points\n",
              "0    Manchester City  106  27     100\n",
              "1  Manchester United   68  28      81"
            ],
            "text/html": [
              "\n",
              "  <div id=\"df-57c1aa6d-36e9-44e0-b14c-2490c1a95e66\">\n",
              "    <div class=\"colab-df-container\">\n",
              "      <div>\n",
              "<style scoped>\n",
              "    .dataframe tbody tr th:only-of-type {\n",
              "        vertical-align: middle;\n",
              "    }\n",
              "\n",
              "    .dataframe tbody tr th {\n",
              "        vertical-align: top;\n",
              "    }\n",
              "\n",
              "    .dataframe thead th {\n",
              "        text-align: right;\n",
              "    }\n",
              "</style>\n",
              "<table border=\"1\" class=\"dataframe\">\n",
              "  <thead>\n",
              "    <tr style=\"text-align: right;\">\n",
              "      <th></th>\n",
              "      <th>name</th>\n",
              "      <th>gf</th>\n",
              "      <th>ga</th>\n",
              "      <th>points</th>\n",
              "    </tr>\n",
              "  </thead>\n",
              "  <tbody>\n",
              "    <tr>\n",
              "      <th>0</th>\n",
              "      <td>Manchester City</td>\n",
              "      <td>106</td>\n",
              "      <td>27</td>\n",
              "      <td>100</td>\n",
              "    </tr>\n",
              "    <tr>\n",
              "      <th>1</th>\n",
              "      <td>Manchester United</td>\n",
              "      <td>68</td>\n",
              "      <td>28</td>\n",
              "      <td>81</td>\n",
              "    </tr>\n",
              "  </tbody>\n",
              "</table>\n",
              "</div>\n",
              "      <button class=\"colab-df-convert\" onclick=\"convertToInteractive('df-57c1aa6d-36e9-44e0-b14c-2490c1a95e66')\"\n",
              "              title=\"Convert this dataframe to an interactive table.\"\n",
              "              style=\"display:none;\">\n",
              "        \n",
              "  <svg xmlns=\"http://www.w3.org/2000/svg\" height=\"24px\"viewBox=\"0 0 24 24\"\n",
              "       width=\"24px\">\n",
              "    <path d=\"M0 0h24v24H0V0z\" fill=\"none\"/>\n",
              "    <path d=\"M18.56 5.44l.94 2.06.94-2.06 2.06-.94-2.06-.94-.94-2.06-.94 2.06-2.06.94zm-11 1L8.5 8.5l.94-2.06 2.06-.94-2.06-.94L8.5 2.5l-.94 2.06-2.06.94zm10 10l.94 2.06.94-2.06 2.06-.94-2.06-.94-.94-2.06-.94 2.06-2.06.94z\"/><path d=\"M17.41 7.96l-1.37-1.37c-.4-.4-.92-.59-1.43-.59-.52 0-1.04.2-1.43.59L10.3 9.45l-7.72 7.72c-.78.78-.78 2.05 0 2.83L4 21.41c.39.39.9.59 1.41.59.51 0 1.02-.2 1.41-.59l7.78-7.78 2.81-2.81c.8-.78.8-2.07 0-2.86zM5.41 20L4 18.59l7.72-7.72 1.47 1.35L5.41 20z\"/>\n",
              "  </svg>\n",
              "      </button>\n",
              "      \n",
              "  <style>\n",
              "    .colab-df-container {\n",
              "      display:flex;\n",
              "      flex-wrap:wrap;\n",
              "      gap: 12px;\n",
              "    }\n",
              "\n",
              "    .colab-df-convert {\n",
              "      background-color: #E8F0FE;\n",
              "      border: none;\n",
              "      border-radius: 50%;\n",
              "      cursor: pointer;\n",
              "      display: none;\n",
              "      fill: #1967D2;\n",
              "      height: 32px;\n",
              "      padding: 0 0 0 0;\n",
              "      width: 32px;\n",
              "    }\n",
              "\n",
              "    .colab-df-convert:hover {\n",
              "      background-color: #E2EBFA;\n",
              "      box-shadow: 0px 1px 2px rgba(60, 64, 67, 0.3), 0px 1px 3px 1px rgba(60, 64, 67, 0.15);\n",
              "      fill: #174EA6;\n",
              "    }\n",
              "\n",
              "    [theme=dark] .colab-df-convert {\n",
              "      background-color: #3B4455;\n",
              "      fill: #D2E3FC;\n",
              "    }\n",
              "\n",
              "    [theme=dark] .colab-df-convert:hover {\n",
              "      background-color: #434B5C;\n",
              "      box-shadow: 0px 1px 3px 1px rgba(0, 0, 0, 0.15);\n",
              "      filter: drop-shadow(0px 1px 2px rgba(0, 0, 0, 0.3));\n",
              "      fill: #FFFFFF;\n",
              "    }\n",
              "  </style>\n",
              "\n",
              "      <script>\n",
              "        const buttonEl =\n",
              "          document.querySelector('#df-57c1aa6d-36e9-44e0-b14c-2490c1a95e66 button.colab-df-convert');\n",
              "        buttonEl.style.display =\n",
              "          google.colab.kernel.accessAllowed ? 'block' : 'none';\n",
              "\n",
              "        async function convertToInteractive(key) {\n",
              "          const element = document.querySelector('#df-57c1aa6d-36e9-44e0-b14c-2490c1a95e66');\n",
              "          const dataTable =\n",
              "            await google.colab.kernel.invokeFunction('convertToInteractive',\n",
              "                                                     [key], {});\n",
              "          if (!dataTable) return;\n",
              "\n",
              "          const docLinkHtml = 'Like what you see? Visit the ' +\n",
              "            '<a target=\"_blank\" href=https://colab.research.google.com/notebooks/data_table.ipynb>data table notebook</a>'\n",
              "            + ' to learn more about interactive tables.';\n",
              "          element.innerHTML = '';\n",
              "          dataTable['output_type'] = 'display_data';\n",
              "          await google.colab.output.renderOutput(dataTable, element);\n",
              "          const docLink = document.createElement('div');\n",
              "          docLink.innerHTML = docLinkHtml;\n",
              "          element.appendChild(docLink);\n",
              "        }\n",
              "      </script>\n",
              "    </div>\n",
              "  </div>\n",
              "  "
            ]
          },
          "metadata": {},
          "execution_count": 34
        }
      ],
      "source": [
        "df = pd.read_csv(\"/content/drive/MyDrive/개인최윤아/Today_I_learn/5월/Day01-머신러닝 Overview/data/premierleague.csv\")\n",
        "df.head(2)"
      ]
    },
    {
      "cell_type": "code",
      "execution_count": 35,
      "metadata": {
        "id": "uwIIDKNnAxiM"
      },
      "outputs": [],
      "source": [
        "datas = df.values"
      ]
    },
    {
      "cell_type": "code",
      "source": [
        "datas"
      ],
      "metadata": {
        "colab": {
          "base_uri": "https://localhost:8080/"
        },
        "id": "qO-nsoywGEKL",
        "outputId": "ab48e052-ccdc-449f-b1de-fc3cb722cb56"
      },
      "execution_count": 36,
      "outputs": [
        {
          "output_type": "execute_result",
          "data": {
            "text/plain": [
              "array([['Manchester City', 106, 27, 100],\n",
              "       ['Manchester United', 68, 28, 81],\n",
              "       ['Tottenham Hotspur', 74, 36, 77],\n",
              "       ['Liverpool', 84, 38, 75],\n",
              "       ['Chelsea', 62, 38, 70],\n",
              "       ['Arsenal', 74, 51, 63],\n",
              "       ['Burnley', 36, 39, 54],\n",
              "       ['Everton', 44, 58, 49],\n",
              "       ['Leicester City', 56, 60, 47],\n",
              "       ['Newcastle United', 39, 47, 44],\n",
              "       ['Crystal Palace', 45, 55, 44],\n",
              "       ['Bournemouth', 45, 61, 44],\n",
              "       ['West Ham United', 48, 68, 42],\n",
              "       ['Watford', 44, 64, 41],\n",
              "       ['Brighton and Hove Albion', 34, 54, 40],\n",
              "       ['Huddersfield Town', 28, 58, 37],\n",
              "       ['Southampton', 37, 56, 36],\n",
              "       ['Swansea City', 28, 56, 33],\n",
              "       ['Stoke City', 35, 68, 33],\n",
              "       ['West Bromwich Albion', 31, 56, 31]], dtype=object)"
            ]
          },
          "metadata": {},
          "execution_count": 36
        }
      ]
    },
    {
      "cell_type": "markdown",
      "metadata": {
        "id": "KmbPdD19AxiM"
      },
      "source": [
        "pandas dataframe의 데이터를 pickle 파일로 저장하기\n",
        "  -> csv보다 더 큰 데이터를 불러올 때 사용\n",
        "\n",
        "- pickle : 텍스트 상태의 데이터가 아닌 파이썬 객체 자체를 파일로 저장하는 것 -> **바이너리 모드**로 저장하는 것\n",
        "\n",
        "- ‘아스키 모드’는 메모장 같은 텍스트 에디터를 통하여 파일의 내용을 확인할 수 있는 파일들을 의미하며, 그렇지 않은 파일들을 바이너리 파일로 생각하시면 됩니다.\n",
        "\n",
        "- 예를 들어 ‘htm’, ‘txt’ 확장자 등의 파일들은 에디터 프로그램을 통하여 확인할 수 있으니 ‘아스키 모드’ 파일이고, 프로그램 실행파일인 ‘exe’, 그림 파일의 확장자인 ‘gif’, ‘jpg’, ‘png’, ‘bmp’ 등은 에디터 프로그램으로 확인하면 이상한 문자들만 나오니 바이너리 파일이라 할 수 있습니다.\n",
        "\n"
      ]
    },
    {
      "cell_type": "code",
      "execution_count": 37,
      "metadata": {
        "id": "_fh07EnEAxiM"
      },
      "outputs": [],
      "source": [
        "import pickle"
      ]
    },
    {
      "cell_type": "code",
      "execution_count": 39,
      "metadata": {
        "id": "WmIdPHfQAxiN"
      },
      "outputs": [],
      "source": [
        "with open(\"/content/drive/MyDrive/개인최윤아/Today_I_learn/5월/Day01-머신러닝 Overview/data/premierleague.pkl\", \"wb\") as f:\n",
        "    pickle.dump(datas, f)"
      ]
    },
    {
      "cell_type": "code",
      "execution_count": 40,
      "metadata": {
        "colab": {
          "base_uri": "https://localhost:8080/"
        },
        "id": "OkgFnAj3AxiN",
        "outputId": "c7620ef8-34cd-43d0-c2a9-fcd324d8dbb8"
      },
      "outputs": [
        {
          "output_type": "stream",
          "name": "stdout",
          "text": [
            "ls: cannot access 'datas': No such file or directory\n"
          ]
        }
      ],
      "source": [
        "%ls datas"
      ]
    },
    {
      "cell_type": "code",
      "execution_count": 41,
      "metadata": {
        "id": "8FBpFPjiAxiN"
      },
      "outputs": [],
      "source": [
        "with open(\"/content/drive/MyDrive/개인최윤아/Today_I_learn/5월/Day01-머신러닝 Overview/data/premierleague.pkl\", \"rb\") as f:\n",
        "    datas = pickle.load(f)"
      ]
    },
    {
      "cell_type": "code",
      "execution_count": 42,
      "metadata": {
        "colab": {
          "base_uri": "https://localhost:8080/"
        },
        "id": "u6kOmPoxAxiN",
        "outputId": "4513f590-a84d-4885-ff5c-7c9d9afa7d73"
      },
      "outputs": [
        {
          "output_type": "execute_result",
          "data": {
            "text/plain": [
              "array([['Manchester City', 106, 27, 100],\n",
              "       ['Manchester United', 68, 28, 81],\n",
              "       ['Tottenham Hotspur', 74, 36, 77]], dtype=object)"
            ]
          },
          "metadata": {},
          "execution_count": 42
        }
      ],
      "source": [
        "# 데이터 확인\n",
        "datas[:3]"
      ]
    },
    {
      "cell_type": "code",
      "execution_count": 43,
      "metadata": {
        "colab": {
          "base_uri": "https://localhost:8080/"
        },
        "id": "KMsjdPTuAxiN",
        "outputId": "cc9b866a-55d6-4a1a-bad2-5395a906ab46"
      },
      "outputs": [
        {
          "output_type": "stream",
          "name": "stderr",
          "text": [
            "/usr/local/lib/python3.7/dist-packages/ipykernel_launcher.py:2: DeprecationWarning: `np.int` is a deprecated alias for the builtin `int`. To silence this warning, use `int` by itself. Doing this will not modify any behavior and is safe. When replacing `np.int`, you may wish to use e.g. `np.int64` or `np.int32` to specify the precision. If you wish to review your current use, check the release note link for additional information.\n",
            "Deprecated in NumPy 1.20; for more details and guidance: https://numpy.org/devdocs/release/1.20.0-notes.html#deprecations\n",
            "  \n"
          ]
        },
        {
          "output_type": "execute_result",
          "data": {
            "text/plain": [
              "array([106,  68,  74,  84,  62,  74,  36,  44,  56,  39,  45,  45,  48,\n",
              "        44,  34,  28,  37,  28,  35,  31])"
            ]
          },
          "metadata": {},
          "execution_count": 43
        }
      ],
      "source": [
        "# 득점\n",
        "gf = datas[:, 1].astype(np.int)\n",
        "gf"
      ]
    },
    {
      "cell_type": "code",
      "execution_count": 44,
      "metadata": {
        "colab": {
          "base_uri": "https://localhost:8080/"
        },
        "id": "Dp2ca16hAxiO",
        "outputId": "69cfba18-a5d4-4ed2-f7b9-c2cf3333bccb"
      },
      "outputs": [
        {
          "output_type": "stream",
          "name": "stderr",
          "text": [
            "/usr/local/lib/python3.7/dist-packages/ipykernel_launcher.py:2: DeprecationWarning: `np.int` is a deprecated alias for the builtin `int`. To silence this warning, use `int` by itself. Doing this will not modify any behavior and is safe. When replacing `np.int`, you may wish to use e.g. `np.int64` or `np.int32` to specify the precision. If you wish to review your current use, check the release note link for additional information.\n",
            "Deprecated in NumPy 1.20; for more details and guidance: https://numpy.org/devdocs/release/1.20.0-notes.html#deprecations\n",
            "  \n"
          ]
        },
        {
          "output_type": "execute_result",
          "data": {
            "text/plain": [
              "array([27, 28, 36, 38, 38, 51, 39, 58, 60, 47, 55, 61, 68, 64, 54, 58, 56,\n",
              "       56, 68, 56])"
            ]
          },
          "metadata": {},
          "execution_count": 44
        }
      ],
      "source": [
        "# 실점\n",
        "ga = datas[:, 2].astype(np.int)\n",
        "ga"
      ]
    },
    {
      "cell_type": "code",
      "execution_count": 45,
      "metadata": {
        "colab": {
          "base_uri": "https://localhost:8080/"
        },
        "id": "xP7BhFzVAxiO",
        "outputId": "7b9b8efd-a47a-4249-8c8a-23865be1f9a1"
      },
      "outputs": [
        {
          "output_type": "stream",
          "name": "stderr",
          "text": [
            "/usr/local/lib/python3.7/dist-packages/ipykernel_launcher.py:2: DeprecationWarning: `np.int` is a deprecated alias for the builtin `int`. To silence this warning, use `int` by itself. Doing this will not modify any behavior and is safe. When replacing `np.int`, you may wish to use e.g. `np.int64` or `np.int32` to specify the precision. If you wish to review your current use, check the release note link for additional information.\n",
            "Deprecated in NumPy 1.20; for more details and guidance: https://numpy.org/devdocs/release/1.20.0-notes.html#deprecations\n",
            "  \n"
          ]
        },
        {
          "output_type": "execute_result",
          "data": {
            "text/plain": [
              "array([100,  81,  77,  75,  70,  63,  54,  49,  47,  44,  44,  44,  42,\n",
              "        41,  40,  37,  36,  33,  33,  31])"
            ]
          },
          "metadata": {},
          "execution_count": 45
        }
      ],
      "source": [
        "# 승점\n",
        "points = datas[:, -1].astype(np.int)\n",
        "points"
      ]
    },
    {
      "cell_type": "code",
      "execution_count": 46,
      "metadata": {
        "colab": {
          "base_uri": "https://localhost:8080/"
        },
        "id": "y3PxRDYtAxiO",
        "outputId": "dbdcf9d9-5201-4b60-e25a-07f7654dabf2"
      },
      "outputs": [
        {
          "output_type": "execute_result",
          "data": {
            "text/plain": [
              "0.9318404636463514"
            ]
          },
          "metadata": {},
          "execution_count": 46
        }
      ],
      "source": [
        "# 득점과 승점의 상관계수 출력\n",
        "corr_gf = np.corrcoef(gf, points)[0, 1]\n",
        "corr_gf"
      ]
    },
    {
      "cell_type": "code",
      "execution_count": null,
      "metadata": {
        "id": "U97ck2PUAxiP"
      },
      "outputs": [],
      "source": [
        "# 실점과 승점의 상관계수 출력"
      ]
    },
    {
      "cell_type": "code",
      "execution_count": 47,
      "metadata": {
        "colab": {
          "base_uri": "https://localhost:8080/"
        },
        "id": "yALUOs2UAxiP",
        "outputId": "21f04ef3-4d89-4766-f7c5-2c4a0051e4dc"
      },
      "outputs": [
        {
          "output_type": "execute_result",
          "data": {
            "text/plain": [
              "-0.8705940043262674"
            ]
          },
          "metadata": {},
          "execution_count": 47
        }
      ],
      "source": [
        "corr_ga = np.corrcoef(ga, points)[0, 1]\n",
        "corr_ga"
      ]
    },
    {
      "cell_type": "code",
      "execution_count": null,
      "metadata": {
        "id": "zsZlTD5qAxiQ"
      },
      "outputs": [],
      "source": [
        "# 결정계수 : coefficient of determination"
      ]
    },
    {
      "cell_type": "code",
      "execution_count": 48,
      "metadata": {
        "colab": {
          "base_uri": "https://localhost:8080/"
        },
        "id": "lU9LoxsyAxiQ",
        "outputId": "e68f972c-c252-4a5f-8efc-ef0d69dbb2f7"
      },
      "outputs": [
        {
          "output_type": "execute_result",
          "data": {
            "text/plain": [
              "{'ga': 0.76, 'gf': 0.87}"
            ]
          },
          "metadata": {},
          "execution_count": 48
        }
      ],
      "source": [
        "deter = {key: np.round(value ** 2, 2) for key, value in zip([\"gf\", \"ga\"], [corr_gf, corr_ga])}\n",
        "deter"
      ]
    },
    {
      "cell_type": "code",
      "execution_count": null,
      "metadata": {
        "id": "oJfuogZ9AxiQ"
      },
      "outputs": [],
      "source": [
        "# 득점의 결정계수가 실점의 결정계수보다 더 높음\n",
        "# 승점을 예측할때 실점보다는 득점이 더 잘 예측함 (전체 데이터를 더 잘 설명함)\n",
        "# 승점의 상관계수가 득점이 더 높으므로 득점이 승점에 더 많은 영향을 줌"
      ]
    }
  ],
  "metadata": {
    "kernelspec": {
      "display_name": "Python 3 (ipykernel)",
      "language": "python",
      "name": "python3"
    },
    "language_info": {
      "codemirror_mode": {
        "name": "ipython",
        "version": 3
      },
      "file_extension": ".py",
      "mimetype": "text/x-python",
      "name": "python",
      "nbconvert_exporter": "python",
      "pygments_lexer": "ipython3",
      "version": "3.7.12"
    },
    "toc": {
      "base_numbering": 1,
      "nav_menu": {},
      "number_sections": false,
      "sideBar": true,
      "skip_h1_title": false,
      "title_cell": "Table of Contents",
      "title_sidebar": "Contents",
      "toc_cell": false,
      "toc_position": {},
      "toc_section_display": true,
      "toc_window_display": false
    },
    "varInspector": {
      "cols": {
        "lenName": 16,
        "lenType": 16,
        "lenVar": 40
      },
      "kernels_config": {
        "python": {
          "delete_cmd_postfix": "",
          "delete_cmd_prefix": "del ",
          "library": "var_list.py",
          "varRefreshCmd": "print(var_dic_list())"
        },
        "r": {
          "delete_cmd_postfix": ") ",
          "delete_cmd_prefix": "rm(",
          "library": "var_list.r",
          "varRefreshCmd": "cat(var_dic_list()) "
        }
      },
      "types_to_exclude": [
        "module",
        "function",
        "builtin_function_or_method",
        "instance",
        "_Feature"
      ],
      "window_display": false
    },
    "colab": {
      "name": "20220523-03-correlation_coefficient.ipynb",
      "provenance": [],
      "collapsed_sections": []
    }
  },
  "nbformat": 4,
  "nbformat_minor": 0
}