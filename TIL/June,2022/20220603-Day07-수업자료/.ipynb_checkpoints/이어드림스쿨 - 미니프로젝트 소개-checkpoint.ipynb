{
 "cells": [
  {
   "cell_type": "markdown",
   "id": "4a1eb0fb",
   "metadata": {},
   "source": [
    "### 미니프로젝트 소개\n",
    "\n",
    "- 프로젝트 기간: 2022년 6월 7일 ~ 2022년 6월 17일\n",
    "- 프로젝트 발표: 2022년 6월 21일(화)"
   ]
  },
  {
   "cell_type": "markdown",
   "id": "89bc3b24",
   "metadata": {},
   "source": [
    "### 프로젝트 주제\n",
    "\n",
    "1. IEEE-CIS Fraud Detection(거래 사기 탐지)\n",
    "\n",
    "    - 온라인 거래 중 사기일 확률을 예측하는 과제입니다.\n",
    "    - 대회 출처: [Kaggle](https://www.kaggle.com/c/ieee-fraud-detection)\n",
    "\n",
    "\n",
    "2. 물류 유통량 예측 경진대회\n",
    "\n",
    "    - 효율적인 물류 유통을 위한 택배 운송량을 예측하는 과제입니다.\n",
    "    - 대회 출처: [Dacon](https://dacon.io/competitions/official/235867/overview/description)\n",
    "\n",
    "\n",
    "3. 시스템 품질 변화로 인한 사용자 불편 예지 AI 경진대회\n",
    "\n",
    "    - 시스템 데이터를 활용하여 사용자의 불편을 예측/예지하는 과제입니다.\n",
    "    - 대회 출처: [Dacon](https://dacon.io/competitions/official/235687/overview/description)\n",
    "\n",
    "\n",
    "4. PUBG Finish Placement Prediction\n",
    "\n",
    "    - 사용자가 몇등으로 게임을 종료할지(final stats)를 예측하는 과제입니다.\n",
    "    - 대회 출처: [Kaggle](https://www.kaggle.com/competitions/pubg-finish-placement-prediction/overview)\n",
    "\n",
    "\n",
    "5. 주가 예측(강사 직접 출제)\n",
    "\n",
    "    - 2020년 5월 1일부터 5월 19일까지 영업일의 KOSPI 실제 값을 예측하는 문제입니다. \n",
    "    - 데이터: 2010년 1월 1일부터 2020년 5월 19일까지 삼성전자, SK하이닉스, 네이버, KOSPI, 셀트리온, 카카오 주가\n",
    "    - 2020년 5월 1일 이전까지 데이터를 학습셋과 테스트셋으로 활용하여 모델을 만들고, 2020년 5월 1일부터 5월 19일까지 데이터는 성능 평가를 위해 활용합니다."
   ]
  },
  {
   "cell_type": "markdown",
   "id": "042baeda",
   "metadata": {},
   "source": [
    "### 프로젝트 가이드라인\n",
    "\n",
    "1. 머신러닝 Workflow를 구현하여 다양한 실험을 진행해보세요.\n",
    "    - 데이터 불러와서 전처리하고 모델의 하이퍼파라미터를 바꿔가면서 실험할 수 있는 환경을 구축하면 효율적으로 모델의 성능을 향상시킬 수 있습니다. \n",
    "2. Train, Valid, Test Set을 구분하고, 올바른 evaluation metric을 구현하여 모델 성능 평가를 진행해보세요.\n",
    "    - 주식과제의 경우 과거 데이터를 활용하게되면 성능이 잘 나올 수 밖에 없습니다.\n",
    "    - 과제마다 주어진 평가지표를 활용하여 테스트를 진행해보세요.\n",
    "3. 다양한 머신러닝 모델을 사용하기보다 데이터셋에 적합한 여러 모델을 사용해보세요.\n",
    "4. 모델보다 데이터에 집중하여 EDA, feature engineering을 통해 주어진 데이터의 많은 인사이트를 찾아보세요.\n",
    "5. 처음부터 완벽한 모델을 만들기보다 작동하는 코드(또는 파이프라인)를 구현하고나서 전체적인 개선을 시도하세요."
   ]
  },
  {
   "cell_type": "code",
   "execution_count": null,
   "id": "0280769e",
   "metadata": {},
   "outputs": [],
   "source": []
  }
 ],
 "metadata": {
  "kernelspec": {
   "display_name": "Python 3 (ipykernel)",
   "language": "python",
   "name": "python3"
  },
  "language_info": {
   "codemirror_mode": {
    "name": "ipython",
    "version": 3
   },
   "file_extension": ".py",
   "mimetype": "text/x-python",
   "name": "python",
   "nbconvert_exporter": "python",
   "pygments_lexer": "ipython3",
   "version": "3.8.13"
  }
 },
 "nbformat": 4,
 "nbformat_minor": 5
}
