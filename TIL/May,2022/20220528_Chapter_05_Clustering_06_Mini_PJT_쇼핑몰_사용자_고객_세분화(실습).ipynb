{
 "cells": [
  {
   "cell_type": "markdown",
   "id": "wicked-punch",
   "metadata": {
    "id": "wicked-punch"
   },
   "source": [
    "## Mini PJT\n",
    "\n",
    "- 해당 데이터를 고객 단위로 묶어야 합니다.\n",
    "\n",
    "\n",
    "- 데이터를 정제해서, 월별/고객별로 재정렬이 필요합니다. (aggregation)\n",
    "\n",
    "\n",
    "- row가 고객별 데이터로 묶이고 난 다음, 고객들을 유형별로 나눠봅니다.\n",
    "\n",
    "\n",
    "- 여러 가지 클러스터링 알고리즘을 사용하여, 결과를 테스트해봅니다.\n",
    "\n",
    "\n",
    "- 클러스터링을 위한 전처리부터, 평가까지 모든 항목을 하나하나 살펴보면서 데이터를 뜯어봅니다."
   ]
  },
  {
   "cell_type": "markdown",
   "id": "second-release",
   "metadata": {
    "id": "second-release"
   },
   "source": [
    "### Data Description\n",
    "\n",
    "Source : https://www.kaggle.com/c/instacart-market-basket-analysis"
   ]
  },
  {
   "cell_type": "code",
   "execution_count": null,
   "id": "w6vDn8toJOpM",
   "metadata": {
    "id": "w6vDn8toJOpM"
   },
   "outputs": [],
   "source": [
    "from google.colab import drive\n",
    "drive.mount('/content/drive')"
   ]
  },
  {
   "cell_type": "markdown",
   "id": "lonely-encoding",
   "metadata": {
    "id": "lonely-encoding"
   },
   "source": [
    "### 1. 데이터 불러오기 "
   ]
  },
  {
   "cell_type": "code",
   "execution_count": null,
   "id": "bibliographic-satellite",
   "metadata": {
    "id": "bibliographic-satellite"
   },
   "outputs": [],
   "source": [
    "# instacart 데이터를 모두 불러옵니다.\n"
   ]
  },
  {
   "cell_type": "code",
   "execution_count": null,
   "id": "2c468c62",
   "metadata": {
    "id": "2c468c62"
   },
   "outputs": [],
   "source": [
    "# 불러온 모든 테이블을 합칩니다.\n"
   ]
  },
  {
   "cell_type": "markdown",
   "id": "GcnamoqwDRIN",
   "metadata": {
    "id": "GcnamoqwDRIN"
   },
   "source": [
    "### 2. EDA"
   ]
  },
  {
   "cell_type": "code",
   "execution_count": null,
   "id": "42f61f48",
   "metadata": {
    "id": "42f61f48"
   },
   "outputs": [],
   "source": [
    "# 10만개의 거래내역에 대해서 각 물품을 얼마나 샀을까?\n"
   ]
  },
  {
   "cell_type": "markdown",
   "id": "alone-respondent",
   "metadata": {
    "id": "alone-respondent"
   },
   "source": [
    "### 3. 데이터 전처리\n",
    "\n",
    "- 데이터를 transaction 단위로 변경합니다.\n",
    "\n",
    "- 각자의 방법대로 데이터의 단위를 정해봅시다.\n",
    "\n",
    "\n",
    "> User 단위로 어떤 물품을 구매했는지의 정보만 가지는 feature vector로 변환한다. e.g. pd.crosstab, CountVectorizer"
   ]
  },
  {
   "cell_type": "code",
   "execution_count": null,
   "id": "false-month",
   "metadata": {
    "id": "false-month"
   },
   "outputs": [],
   "source": [
    "# transaction 단위로 변경하고, User당 정보로 변환하는 과정까지 마무리합니다.\n"
   ]
  },
  {
   "cell_type": "markdown",
   "id": "crazy-lobby",
   "metadata": {
    "id": "crazy-lobby"
   },
   "source": [
    "### 4. 클러스터링 모델 적용하기\n",
    "\n",
    "- 사용하는 클러스터링 모델은 KMeans로 합니다.\n",
    "\n",
    "(원하시면 AgglomerativeClustering, DBSCAN, SpectralClustering을 사용해보셔도 됩니다. 단, 시간이 매우매우 오래 걸릴수 있으니 주의하세요..)\n",
    "\n",
    "**[K-Means]**\n",
    "\n",
    "- Elbow method를 이용하여 최적의 K값을 찾아보세요.\n",
    "\n",
    "\n",
    "- sparse한 특징을 가지는 데이터를 클러스터링 하기 위해서는 어떤 기법을 사용해야 할까요?\n",
    "\n",
    "\n",
    "- 클러스터링 결과를 시각화해보고, 실루엣 지수도 계산해봅시다."
   ]
  },
  {
   "cell_type": "code",
   "execution_count": null,
   "id": "dJ7d3caU5L_v",
   "metadata": {
    "id": "dJ7d3caU5L_v"
   },
   "outputs": [],
   "source": [
    "# data setting\n"
   ]
  },
  {
   "cell_type": "code",
   "execution_count": null,
   "id": "8fcc8663",
   "metadata": {
    "id": "8fcc8663"
   },
   "outputs": [],
   "source": [
    "# tSNE : 시각화용도의 차원감소 기법. (2차원으로 변환해주는 기법)\n"
   ]
  },
  {
   "cell_type": "code",
   "execution_count": null,
   "id": "uAYkNt7W74WH",
   "metadata": {
    "id": "uAYkNt7W74WH"
   },
   "outputs": [],
   "source": [
    "plt.figure(figsize=(8, 8))\n",
    "plt.scatter(tsne_data[:, 0], tsne_data[:, 1], s=10, c='y')\n",
    "plt.show()"
   ]
  },
  {
   "cell_type": "code",
   "execution_count": null,
   "id": "27929e11",
   "metadata": {
    "id": "27929e11"
   },
   "outputs": [],
   "source": [
    "# elbow method\n"
   ]
  },
  {
   "cell_type": "code",
   "execution_count": null,
   "id": "arctic-ceremony",
   "metadata": {
    "id": "arctic-ceremony"
   },
   "outputs": [],
   "source": [
    "# K-means를 돌려봅시다.\n"
   ]
  },
  {
   "cell_type": "code",
   "execution_count": null,
   "id": "fY4QjCgWlL_K",
   "metadata": {
    "id": "fY4QjCgWlL_K"
   },
   "outputs": [],
   "source": [
    "# 최적의 K는 어떻게 구할까요?\n",
    "# Elbow method : 정해진 K에 대해서 SSE를 계산한 다음, SSE가 가장 많이 꺾이는 K(elbow)가 optimal K라고 판단하는 방법.\n",
    "\n",
    "plt.figure(figsize=(8, 6))\n",
    "plt.title(\"Find optimal K with elbow method\", fontsize=14)\n",
    "plt.xlabel(\"Number of Clusters(K)\", fontsize=10)\n",
    "plt.ylabel(\"SSE\", fontsize=10)\n",
    "plt.plot(range(2, 21), sse)\n",
    "plt.show()"
   ]
  },
  {
   "cell_type": "code",
   "execution_count": null,
   "id": "UdvnArrdmcHd",
   "metadata": {
    "id": "UdvnArrdmcHd"
   },
   "outputs": [],
   "source": [
    "# Silhouette score : 같은 클러스터에 속하는 데이터중 가장 먼 데이터와의 거리와 다른 클러스터에 속하는 데이터 중 가장 가까운 데이터와의 거리 비율을 계산한 지표. [-1, 1]\n",
    "# Reference : https://en.wikipedia.org/wiki/Silhouette_(clustering)\n",
    "\n",
    "plt.figure(figsize=(8, 6))\n",
    "plt.title(\"Find optimal K with silhouette score\", fontsize=14)\n",
    "plt.xlabel(\"Number of Clusters(K)\", fontsize=10)\n",
    "plt.ylabel(\"Silhouette Score\", fontsize=10)\n",
    "plt.plot(range(2, 21), silhouettes)\n",
    "plt.show()"
   ]
  },
  {
   "cell_type": "code",
   "execution_count": null,
   "id": "Ubkfw6Fc_gO9",
   "metadata": {
    "id": "Ubkfw6Fc_gO9"
   },
   "outputs": [],
   "source": [
    "plt.figure(figsize=(8, 8))\n",
    "plt.scatter(tsne_data[:, 0], tsne_data[:, 1], s=10, TODO, cmap=\"Set2\")\n",
    "plt.show()"
   ]
  },
  {
   "cell_type": "code",
   "execution_count": null,
   "id": "e4c74ac8",
   "metadata": {
    "id": "e4c74ac8"
   },
   "outputs": [],
   "source": [
    "# silhouette score with optimal K\n"
   ]
  }
 ],
 "metadata": {
  "accelerator": "GPU",
  "colab": {
   "collapsed_sections": [],
   "name": "20220528-Chapter.05 Clustering-06. Mini PJT. 쇼핑몰 사용자 고객 세분화(실습)",
   "provenance": []
  },
  "kernelspec": {
   "display_name": "Python 3 (ipykernel)",
   "language": "python",
   "name": "python3"
  },
  "language_info": {
   "codemirror_mode": {
    "name": "ipython",
    "version": 3
   },
   "file_extension": ".py",
   "mimetype": "text/x-python",
   "name": "python",
   "nbconvert_exporter": "python",
   "pygments_lexer": "ipython3",
   "version": "3.10.1"
  }
 },
 "nbformat": 4,
 "nbformat_minor": 5
}
