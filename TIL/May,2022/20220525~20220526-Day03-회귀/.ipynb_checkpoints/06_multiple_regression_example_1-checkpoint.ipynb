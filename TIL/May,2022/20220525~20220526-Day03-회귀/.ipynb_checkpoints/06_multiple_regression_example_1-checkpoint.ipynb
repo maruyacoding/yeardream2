{
 "cells": [
  {
   "cell_type": "code",
   "execution_count": null,
   "metadata": {
    "executionInfo": {
     "elapsed": 505,
     "status": "ok",
     "timestamp": 1628833794567,
     "user": {
      "displayName": "Doojin Park",
      "photoUrl": "",
      "userId": "13081019711214908217"
     },
     "user_tz": -540
    },
    "id": "ohFjLuWV89GK"
   },
   "outputs": [],
   "source": [
    "%config InlineBackend.figure_formats = {'png', 'retina'}\n",
    "import numpy as np\n",
    "import pandas as pd\n",
    "import matplotlib.pyplot as plt\n",
    "import seaborn as sns\n",
    "import pickle\n",
    "import warnings\n",
    "warnings.filterwarnings('ignore')"
   ]
  },
  {
   "cell_type": "markdown",
   "metadata": {
    "id": "jgu7fFAZ9Xt1"
   },
   "source": [
    "### 다중회귀분석\n",
    "- 프리미어리그 데이터\n",
    "- MAE \n",
    "    - 득점 : 5.5\n",
    "    - 실점 : 8.05"
   ]
  },
  {
   "cell_type": "code",
   "execution_count": null,
   "metadata": {
    "executionInfo": {
     "elapsed": 36,
     "status": "ok",
     "timestamp": 1628833795121,
     "user": {
      "displayName": "Doojin Park",
      "photoUrl": "",
      "userId": "13081019711214908217"
     },
     "user_tz": -540
    },
    "id": "_it-rWsc9TX5"
   },
   "outputs": [],
   "source": [
    "# 1. 데이터 로드"
   ]
  },
  {
   "cell_type": "code",
   "execution_count": null,
   "metadata": {
    "colab": {
     "base_uri": "https://localhost:8080/",
     "height": 110
    },
    "executionInfo": {
     "elapsed": 36,
     "status": "ok",
     "timestamp": 1628833795122,
     "user": {
      "displayName": "Doojin Park",
      "photoUrl": "",
      "userId": "13081019711214908217"
     },
     "user_tz": -540
    },
    "id": "MnNBfVV5-Lh4",
    "outputId": "a025e42b-9c9d-4a54-972d-93269cb45eef"
   },
   "outputs": [],
   "source": [
    "with open(\"./data/premierleague.pkl\", \"rb\") as file:\n",
    "    datas = pickle.load(file)\n",
    "df = pd.DataFrame(datas, columns=[\"name\", \"gf\", \"ga\", \"points\"])\n",
    "df.tail(2)"
   ]
  },
  {
   "cell_type": "code",
   "execution_count": null,
   "metadata": {
    "executionInfo": {
     "elapsed": 35,
     "status": "ok",
     "timestamp": 1628833795123,
     "user": {
      "displayName": "Doojin Park",
      "photoUrl": "",
      "userId": "13081019711214908217"
     },
     "user_tz": -540
    },
    "id": "dHkLNWqR9xrb"
   },
   "outputs": [],
   "source": [
    "# 2. 데이터 전처리 : feature, target"
   ]
  },
  {
   "cell_type": "code",
   "execution_count": null,
   "metadata": {
    "executionInfo": {
     "elapsed": 34,
     "status": "ok",
     "timestamp": 1628833795123,
     "user": {
      "displayName": "Doojin Park",
      "photoUrl": "",
      "userId": "13081019711214908217"
     },
     "user_tz": -540
    },
    "id": "-Hal0-Ok-fc7"
   },
   "outputs": [],
   "source": [
    "feature = df[[\"gf\", \"ga\"]]\n",
    "target = df[\"points\"]"
   ]
  },
  {
   "cell_type": "code",
   "execution_count": null,
   "metadata": {
    "executionInfo": {
     "elapsed": 37,
     "status": "ok",
     "timestamp": 1628833795126,
     "user": {
      "displayName": "Doojin Park",
      "photoUrl": "",
      "userId": "13081019711214908217"
     },
     "user_tz": -540
    },
    "id": "vkzNVlhG90A8"
   },
   "outputs": [],
   "source": [
    "# 3. 모델 학습"
   ]
  },
  {
   "cell_type": "code",
   "execution_count": null,
   "metadata": {
    "executionInfo": {
     "elapsed": 36,
     "status": "ok",
     "timestamp": 1628833795126,
     "user": {
      "displayName": "Doojin Park",
      "photoUrl": "",
      "userId": "13081019711214908217"
     },
     "user_tz": -540
    },
    "id": "cvdNS4j9-sKp"
   },
   "outputs": [],
   "source": [
    "from sklearn.linear_model import LinearRegression"
   ]
  },
  {
   "cell_type": "code",
   "execution_count": null,
   "metadata": {
    "colab": {
     "base_uri": "https://localhost:8080/"
    },
    "executionInfo": {
     "elapsed": 36,
     "status": "ok",
     "timestamp": 1628833795127,
     "user": {
      "displayName": "Doojin Park",
      "photoUrl": "",
      "userId": "13081019711214908217"
     },
     "user_tz": -540
    },
    "id": "VmYZCkox-zLd",
    "outputId": "c2e9d036-f1f9-4c15-b27d-137a0d6f4b5c"
   },
   "outputs": [],
   "source": [
    "%%time\n",
    "model = LinearRegression().fit(feature, target)"
   ]
  },
  {
   "cell_type": "code",
   "execution_count": null,
   "metadata": {
    "executionInfo": {
     "elapsed": 34,
     "status": "ok",
     "timestamp": 1628833795127,
     "user": {
      "displayName": "Doojin Park",
      "photoUrl": "",
      "userId": "13081019711214908217"
     },
     "user_tz": -540
    },
    "id": "fpvYsxIV92Qz"
   },
   "outputs": [],
   "source": [
    "# 4. 모델 평가 : MAE"
   ]
  },
  {
   "cell_type": "code",
   "execution_count": null,
   "metadata": {
    "executionInfo": {
     "elapsed": 34,
     "status": "ok",
     "timestamp": 1628833795128,
     "user": {
      "displayName": "Doojin Park",
      "photoUrl": "",
      "userId": "13081019711214908217"
     },
     "user_tz": -540
    },
    "id": "X-UduIfu_Cd2"
   },
   "outputs": [],
   "source": [
    "from sklearn.metrics import mean_absolute_error"
   ]
  },
  {
   "cell_type": "code",
   "execution_count": null,
   "metadata": {
    "colab": {
     "base_uri": "https://localhost:8080/"
    },
    "executionInfo": {
     "elapsed": 34,
     "status": "ok",
     "timestamp": 1628833795128,
     "user": {
      "displayName": "Doojin Park",
      "photoUrl": "",
      "userId": "13081019711214908217"
     },
     "user_tz": -540
    },
    "id": "ci2PHbIY_KPT",
    "outputId": "89641340-794d-4911-9953-07789cdcd9d0"
   },
   "outputs": [],
   "source": [
    "# 득점 : 5.5, 실점 : 8.05\n",
    "pred = np.round(model.predict(feature))\n",
    "mae = mean_absolute_error(target, pred)\n",
    "mae"
   ]
  },
  {
   "cell_type": "code",
   "execution_count": null,
   "metadata": {
    "executionInfo": {
     "elapsed": 29,
     "status": "ok",
     "timestamp": 1628833795128,
     "user": {
      "displayName": "Doojin Park",
      "photoUrl": "",
      "userId": "13081019711214908217"
     },
     "user_tz": -540
    },
    "id": "DcUjHi4U93PB"
   },
   "outputs": [],
   "source": [
    "# 5. 모델 사용\n",
    "# 토트넘이 득점을 10점 더 하면 맨유를 앞지를수 있었을까?\n",
    "# 토트넘 : 77, 맨유 : 81"
   ]
  },
  {
   "cell_type": "code",
   "execution_count": null,
   "metadata": {
    "colab": {
     "base_uri": "https://localhost:8080/",
     "height": 142
    },
    "executionInfo": {
     "elapsed": 30,
     "status": "ok",
     "timestamp": 1628833795129,
     "user": {
      "displayName": "Doojin Park",
      "photoUrl": "",
      "userId": "13081019711214908217"
     },
     "user_tz": -540
    },
    "id": "ys804gKwBYgp",
    "outputId": "ed61620b-3819-4be3-bd93-d62e42c43493"
   },
   "outputs": [],
   "source": [
    "df.head(3)"
   ]
  },
  {
   "cell_type": "code",
   "execution_count": null,
   "metadata": {
    "colab": {
     "base_uri": "https://localhost:8080/",
     "height": 80
    },
    "executionInfo": {
     "elapsed": 29,
     "status": "ok",
     "timestamp": 1628833795129,
     "user": {
      "displayName": "Doojin Park",
      "photoUrl": "",
      "userId": "13081019711214908217"
     },
     "user_tz": -540
    },
    "id": "n8P7xYhe_ope",
    "outputId": "76c3012e-9998-48d9-c26a-3ff331aac2ba"
   },
   "outputs": [],
   "source": [
    "sample_data = feature.loc[2:2]\n",
    "sample_data = sample_data.reset_index(drop=True)\n",
    "sample_data[\"gf\"] = 84\n",
    "# sample_data[\"ga\"] = 31\n",
    "sample_data"
   ]
  },
  {
   "cell_type": "code",
   "execution_count": null,
   "metadata": {
    "colab": {
     "base_uri": "https://localhost:8080/"
    },
    "executionInfo": {
     "elapsed": 30,
     "status": "ok",
     "timestamp": 1628833795131,
     "user": {
      "displayName": "Doojin Park",
      "photoUrl": "",
      "userId": "13081019711214908217"
     },
     "user_tz": -540
    },
    "id": "Sl2Ak0jDA51Y",
    "outputId": "686d872a-b569-41e9-f024-844ba1f83299"
   },
   "outputs": [],
   "source": [
    "np.round(model.predict(sample_data))"
   ]
  },
  {
   "cell_type": "code",
   "execution_count": null,
   "metadata": {
    "executionInfo": {
     "elapsed": 28,
     "status": "ok",
     "timestamp": 1628833795131,
     "user": {
      "displayName": "Doojin Park",
      "photoUrl": "",
      "userId": "13081019711214908217"
     },
     "user_tz": -540
    },
    "id": "nFBf4PekBTd3"
   },
   "outputs": [],
   "source": [
    "# 회귀계수확인 : y = 56.9 + 0.57 * x1 - 0.67 * x2"
   ]
  },
  {
   "cell_type": "code",
   "execution_count": null,
   "metadata": {
    "colab": {
     "base_uri": "https://localhost:8080/"
    },
    "executionInfo": {
     "elapsed": 29,
     "status": "ok",
     "timestamp": 1628833795132,
     "user": {
      "displayName": "Doojin Park",
      "photoUrl": "",
      "userId": "13081019711214908217"
     },
     "user_tz": -540
    },
    "id": "mLnl9qOUBpBS",
    "outputId": "5ac9b4fc-c582-45ae-a542-b315ca0e1b2d"
   },
   "outputs": [],
   "source": [
    "model.intercept_, model.coef_"
   ]
  },
  {
   "cell_type": "code",
   "execution_count": null,
   "metadata": {
    "executionInfo": {
     "elapsed": 27,
     "status": "ok",
     "timestamp": 1628833795132,
     "user": {
      "displayName": "Doojin Park",
      "photoUrl": "",
      "userId": "13081019711214908217"
     },
     "user_tz": -540
    },
    "id": "sxaADDZS94e-"
   },
   "outputs": [],
   "source": [
    "# 6. 모델 저장 : RAM > HD"
   ]
  },
  {
   "cell_type": "code",
   "execution_count": null,
   "metadata": {
    "executionInfo": {
     "elapsed": 28,
     "status": "ok",
     "timestamp": 1628833795133,
     "user": {
      "displayName": "Doojin Park",
      "photoUrl": "",
      "userId": "13081019711214908217"
     },
     "user_tz": -540
    },
    "id": "4OEPwgZrCDSd"
   },
   "outputs": [],
   "source": [
    "# 모델 저장\n",
    "with open(\"./data/model.pkl\", \"wb\") as file:\n",
    "    pickle.dump(model, file)"
   ]
  },
  {
   "cell_type": "code",
   "execution_count": null,
   "metadata": {
    "colab": {
     "base_uri": "https://localhost:8080/"
    },
    "executionInfo": {
     "elapsed": 514,
     "status": "ok",
     "timestamp": 1628833795619,
     "user": {
      "displayName": "Doojin Park",
      "photoUrl": "",
      "userId": "13081019711214908217"
     },
     "user_tz": -540
    },
    "id": "KXvIJj35C1Eu",
    "outputId": "09d002d2-ac83-4b3f-d681-82da8d19be40"
   },
   "outputs": [],
   "source": [
    "%ls datas"
   ]
  },
  {
   "cell_type": "code",
   "execution_count": null,
   "metadata": {
    "executionInfo": {
     "elapsed": 6,
     "status": "ok",
     "timestamp": 1628833795620,
     "user": {
      "displayName": "Doojin Park",
      "photoUrl": "",
      "userId": "13081019711214908217"
     },
     "user_tz": -540
    },
    "id": "FgDt4pcYCmXf"
   },
   "outputs": [],
   "source": [
    "# 모델 로드\n",
    "with open(\"./data/model.pkl\", \"rb\") as file:\n",
    "    load_model = pickle.load(file)"
   ]
  },
  {
   "cell_type": "code",
   "execution_count": null,
   "metadata": {
    "colab": {
     "base_uri": "https://localhost:8080/"
    },
    "executionInfo": {
     "elapsed": 6,
     "status": "ok",
     "timestamp": 1628833795620,
     "user": {
      "displayName": "Doojin Park",
      "photoUrl": "",
      "userId": "13081019711214908217"
     },
     "user_tz": -540
    },
    "id": "Y5UifjDnCwKK",
    "outputId": "c3884a10-9f2d-48a6-b526-b84fb5e53b34"
   },
   "outputs": [],
   "source": [
    "# 로드 모델 사용\n",
    "np.round(load_model.predict(sample_data))"
   ]
  },
  {
   "cell_type": "code",
   "execution_count": null,
   "metadata": {
    "executionInfo": {
     "elapsed": 327,
     "status": "ok",
     "timestamp": 1628835211324,
     "user": {
      "displayName": "Doojin Park",
      "photoUrl": "",
      "userId": "13081019711214908217"
     },
     "user_tz": -540
    },
    "id": "Zto4dC_19-mL"
   },
   "outputs": [],
   "source": [
    "# 7. statsmodels 패키지 사용 : 회귀분석 요약표 확인\n",
    "# statsmodels : 더 자세하고 디테일하게 설정 및 모델 학습 결과 요약표를 확인 : 코드 사용이 조금 더 복잡\n",
    "# sklearn : 코드가 간단 : 요약표와 같은 기능을 제공 X"
   ]
  },
  {
   "cell_type": "code",
   "execution_count": null,
   "metadata": {
    "colab": {
     "base_uri": "https://localhost:8080/"
    },
    "executionInfo": {
     "elapsed": 1044,
     "status": "ok",
     "timestamp": 1628835248737,
     "user": {
      "displayName": "Doojin Park",
      "photoUrl": "",
      "userId": "13081019711214908217"
     },
     "user_tz": -540
    },
    "id": "XQEQRV8_-Ine",
    "outputId": "eba61ea5-5b25-4143-b581-2442c965f5bd"
   },
   "outputs": [],
   "source": [
    "import statsmodels.api as sm"
   ]
  },
  {
   "cell_type": "code",
   "execution_count": null,
   "metadata": {
    "colab": {
     "base_uri": "https://localhost:8080/",
     "height": 110
    },
    "executionInfo": {
     "elapsed": 375,
     "status": "ok",
     "timestamp": 1628835914365,
     "user": {
      "displayName": "Doojin Park",
      "photoUrl": "",
      "userId": "13081019711214908217"
     },
     "user_tz": -540
    },
    "id": "8HN2-qhgLwWj",
    "outputId": "94f4d5c5-8dfe-4778-90c6-31cd65dc23ff"
   },
   "outputs": [],
   "source": [
    "df = pd.read_csv(\"./data/premierleague.csv\")\n",
    "df.tail(2)"
   ]
  },
  {
   "cell_type": "code",
   "execution_count": null,
   "metadata": {
    "colab": {
     "base_uri": "https://localhost:8080/",
     "height": 110
    },
    "executionInfo": {
     "elapsed": 629,
     "status": "ok",
     "timestamp": 1628835960223,
     "user": {
      "displayName": "Doojin Park",
      "photoUrl": "",
      "userId": "13081019711214908217"
     },
     "user_tz": -540
    },
    "id": "Jkb1BLDMJXPl",
    "outputId": "bd335b0c-7920-46e9-d47f-ad53b94e4784"
   },
   "outputs": [],
   "source": [
    "# 데이터 전처리 : feature에 상수항 추가\n",
    "feature = df[[\"gf\",\"ga\"]]\n",
    "target = df[\"points\"]\n",
    "sm_feature = sm.add_constant(feature) \n",
    "sm_feature.tail(2)"
   ]
  },
  {
   "cell_type": "code",
   "execution_count": null,
   "metadata": {
    "executionInfo": {
     "elapsed": 324,
     "status": "ok",
     "timestamp": 1628835273081,
     "user": {
      "displayName": "Doojin Park",
      "photoUrl": "",
      "userId": "13081019711214908217"
     },
     "user_tz": -540
    },
    "id": "cl6LP-IBJb4d"
   },
   "outputs": [],
   "source": [
    "# 모델 학습"
   ]
  },
  {
   "cell_type": "code",
   "execution_count": null,
   "metadata": {
    "executionInfo": {
     "elapsed": 568,
     "status": "ok",
     "timestamp": 1628835971660,
     "user": {
      "displayName": "Doojin Park",
      "photoUrl": "",
      "userId": "13081019711214908217"
     },
     "user_tz": -540
    },
    "id": "2gugdZOhKlti"
   },
   "outputs": [],
   "source": [
    "model = sm.OLS(target, sm_feature).fit()"
   ]
  },
  {
   "cell_type": "code",
   "execution_count": null,
   "metadata": {
    "executionInfo": {
     "elapsed": 601,
     "status": "ok",
     "timestamp": 1628835280040,
     "user": {
      "displayName": "Doojin Park",
      "photoUrl": "",
      "userId": "13081019711214908217"
     },
     "user_tz": -540
    },
    "id": "JofbArVtJdYA"
   },
   "outputs": [],
   "source": [
    "# 요약표 확인"
   ]
  },
  {
   "cell_type": "code",
   "execution_count": null,
   "metadata": {
    "colab": {
     "base_uri": "https://localhost:8080/"
    },
    "executionInfo": {
     "elapsed": 398,
     "status": "ok",
     "timestamp": 1628836079001,
     "user": {
      "displayName": "Doojin Park",
      "photoUrl": "",
      "userId": "13081019711214908217"
     },
     "user_tz": -540
    },
    "id": "AVkFjaSXMWK0",
    "outputId": "f45a2ef0-6c15-48a7-bf8c-b8cfa86ab98e"
   },
   "outputs": [],
   "source": [
    "# y = 56.9 + 0.57 * x1 - 0.67 * x2\n",
    "print(model.summary())"
   ]
  },
  {
   "cell_type": "code",
   "execution_count": null,
   "metadata": {
    "executionInfo": {
     "elapsed": 481,
     "status": "ok",
     "timestamp": 1628836265816,
     "user": {
      "displayName": "Doojin Park",
      "photoUrl": "",
      "userId": "13081019711214908217"
     },
     "user_tz": -540
    },
    "id": "QShEaIG-JfAL"
   },
   "outputs": [],
   "source": [
    "# 모델 사용"
   ]
  },
  {
   "cell_type": "code",
   "execution_count": null,
   "metadata": {
    "colab": {
     "base_uri": "https://localhost:8080/"
    },
    "executionInfo": {
     "elapsed": 465,
     "status": "ok",
     "timestamp": 1628836346438,
     "user": {
      "displayName": "Doojin Park",
      "photoUrl": "",
      "userId": "13081019711214908217"
     },
     "user_tz": -540
    },
    "id": "qa0HkKSANiex",
    "outputId": "69dda839-9162-4728-c176-ebefbf61db3b"
   },
   "outputs": [],
   "source": [
    "model.params"
   ]
  },
  {
   "cell_type": "code",
   "execution_count": null,
   "metadata": {
    "colab": {
     "base_uri": "https://localhost:8080/"
    },
    "executionInfo": {
     "elapsed": 537,
     "status": "ok",
     "timestamp": 1628836390015,
     "user": {
      "displayName": "Doojin Park",
      "photoUrl": "",
      "userId": "13081019711214908217"
     },
     "user_tz": -540
    },
    "id": "gstGbGsoNPr8",
    "outputId": "511c41f7-86bc-4944-b4df-e6207a05d0b6"
   },
   "outputs": [],
   "source": [
    "pred = np.round(np.dot(sm_feature, model.params))\n",
    "pred[:5]"
   ]
  },
  {
   "cell_type": "code",
   "execution_count": null,
   "metadata": {
    "colab": {
     "base_uri": "https://localhost:8080/"
    },
    "executionInfo": {
     "elapsed": 487,
     "status": "ok",
     "timestamp": 1628836414133,
     "user": {
      "displayName": "Doojin Park",
      "photoUrl": "",
      "userId": "13081019711214908217"
     },
     "user_tz": -540
    },
    "id": "sDtBFPRHNpxV",
    "outputId": "990e2c5f-5639-4168-aa65-583aec4f6c4d"
   },
   "outputs": [],
   "source": [
    "mean_absolute_error(target, pred)"
   ]
  }
 ],
 "metadata": {
  "colab": {
   "authorship_tag": "ABX9TyOrzrakwb32vyil9dwU9V1+",
   "collapsed_sections": [],
   "name": "04_multiple_regression_example_1.ipynb",
   "provenance": []
  },
  "kernelspec": {
   "display_name": "Python 3 (ipykernel)",
   "language": "python",
   "name": "python3"
  },
  "language_info": {
   "codemirror_mode": {
    "name": "ipython",
    "version": 3
   },
   "file_extension": ".py",
   "mimetype": "text/x-python",
   "name": "python",
   "nbconvert_exporter": "python",
   "pygments_lexer": "ipython3",
   "version": "3.7.12"
  },
  "toc": {
   "base_numbering": 1,
   "nav_menu": {},
   "number_sections": false,
   "sideBar": true,
   "skip_h1_title": false,
   "title_cell": "Table of Contents",
   "title_sidebar": "Contents",
   "toc_cell": false,
   "toc_position": {},
   "toc_section_display": true,
   "toc_window_display": false
  }
 },
 "nbformat": 4,
 "nbformat_minor": 1
}
