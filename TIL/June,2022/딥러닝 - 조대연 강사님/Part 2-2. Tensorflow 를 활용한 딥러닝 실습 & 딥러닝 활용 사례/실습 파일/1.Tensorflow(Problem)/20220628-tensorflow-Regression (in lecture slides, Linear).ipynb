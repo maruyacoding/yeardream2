{
 "cells": [
  {
   "cell_type": "code",
   "execution_count": 1,
   "id": "54cf30bc",
   "metadata": {},
   "outputs": [
    {
     "name": "stdout",
     "output_type": "stream",
     "text": [
      "WARNING:tensorflow:From /opt/homebrew/Caskroom/miniforge/base/envs/dl/lib/python3.8/site-packages/tensorflow/python/compat/v2_compat.py:107: disable_resource_variables (from tensorflow.python.ops.variable_scope) is deprecated and will be removed in a future version.\n",
      "Instructions for updating:\n",
      "non-resource variables are not supported in the long term\n"
     ]
    }
   ],
   "source": [
    "# tensorflow version1을 가져오고 version2의 행동방식을 잠시 꺼두는 코드\n",
    "import tensorflow.compat.v1 as tf\n",
    "tf.disable_v2_behavior()"
   ]
  },
  {
   "cell_type": "code",
   "execution_count": 2,
   "id": "a0fdac2a",
   "metadata": {},
   "outputs": [],
   "source": [
    "import numpy as np\n",
    "import pandas as pd"
   ]
  },
  {
   "cell_type": "markdown",
   "id": "f7f63ce8",
   "metadata": {},
   "source": [
    "## Building a Tensorflow Graph"
   ]
  },
  {
   "cell_type": "code",
   "execution_count": 3,
   "id": "3047a37c",
   "metadata": {},
   "outputs": [
    {
     "name": "stdout",
     "output_type": "stream",
     "text": [
      "Tensor(\"Add:0\", shape=(), dtype=int32)\n"
     ]
    }
   ],
   "source": [
    "# not 8 -> tensorflow 2버전(8)과 1버전(not 8)의 차이!\n",
    "# scaler라서 shape=() , build만 한 상태!\n",
    "a = tf.add(3,5)\n",
    "print(a)"
   ]
  },
  {
   "cell_type": "code",
   "execution_count": 4,
   "id": "44dd3c26",
   "metadata": {},
   "outputs": [
    {
     "name": "stdout",
     "output_type": "stream",
     "text": [
      "Tensor(\"a:0\", shape=(), dtype=int32)\n"
     ]
    }
   ],
   "source": [
    "a = tf.add(3,5, name='a') # name='a'를 사용하여 내부 변수 이름을 직접 지정해줌\n",
    "print(a)"
   ]
  },
  {
   "cell_type": "markdown",
   "id": "87dd19b0",
   "metadata": {},
   "source": [
    "## Executing the Tensorflow Graph"
   ]
  },
  {
   "cell_type": "code",
   "execution_count": 5,
   "id": "3e8d84d2",
   "metadata": {},
   "outputs": [
    {
     "name": "stdout",
     "output_type": "stream",
     "text": [
      "8\n"
     ]
    },
    {
     "name": "stderr",
     "output_type": "stream",
     "text": [
      "2022-06-28 09:23:46.335950: W tensorflow/core/platform/profile_utils/cpu_utils.cc:128] Failed to get CPU frequency: 0 Hz\n"
     ]
    }
   ],
   "source": [
    "a = tf.add(3,5)\n",
    "sess = tf.Session() # 계산 그래프를 실행시켜주는 코드\n",
    "print(sess.run(a))"
   ]
  },
  {
   "cell_type": "code",
   "execution_count": 6,
   "id": "e276d1d9",
   "metadata": {},
   "outputs": [],
   "source": [
    "# Session계산 후 close로 닫아줘야 함\n",
    "# cf. python 파일 IO의 open, close -> with open\n",
    "sess.close()"
   ]
  },
  {
   "cell_type": "code",
   "execution_count": null,
   "id": "5e1f0b2e",
   "metadata": {},
   "outputs": [],
   "source": [
    "a = tf.add(3,5)\n",
    "with tf.Session() as sess : # with문이 끝남과 동시에 sess 날라감\n",
    "    print(sess.run(a))"
   ]
  },
  {
   "cell_type": "code",
   "execution_count": 9,
   "id": "275cf15c",
   "metadata": {},
   "outputs": [],
   "source": [
    "x = 2\n",
    "y = 3\n",
    "op1 = tf.add(x,y)\n",
    "op2 = tf.multiply(x,y)\n",
    "op3 = tf.pow(op2, op1)"
   ]
  },
  {
   "cell_type": "code",
   "execution_count": 8,
   "id": "1a49b831",
   "metadata": {},
   "outputs": [
    {
     "name": "stdout",
     "output_type": "stream",
     "text": [
      "7776\n"
     ]
    }
   ],
   "source": [
    "with tf.Session() as sess:\n",
    "    op3 = sess.run(op3)\n",
    "    print(op3)\n",
    "\n",
    "# op1, op2는 run을 하지 않았는데 실행이 됨, op3의 tensor와 직계로 연결된 것은 run이 실행이 됨"
   ]
  },
  {
   "cell_type": "code",
   "execution_count": 30,
   "id": "52a2ffe7",
   "metadata": {},
   "outputs": [],
   "source": [
    "x = 2\n",
    "y = 3\n",
    "op1 = tf.add(x,y)\n",
    "op2 = tf.multiply(x,y)\n",
    "useless = tf.multiply(x, op1) \n",
    "op3 = tf.pow(op2, op1)"
   ]
  },
  {
   "cell_type": "code",
   "execution_count": 31,
   "id": "ea8ed1d6",
   "metadata": {},
   "outputs": [
    {
     "name": "stdout",
     "output_type": "stream",
     "text": [
      "7776\n"
     ]
    }
   ],
   "source": [
    "with tf.Session() as sess:\n",
    "    op3 = sess.run(op3)\n",
    "    print(op3)\n",
    "    \n",
    "# useless는 op3와 직계로 연결되지 않았기 때문에 tensorflow가 무시해버림 -> tensorflow의 장점"
   ]
  },
  {
   "cell_type": "code",
   "execution_count": 35,
   "id": "00bfc6f4",
   "metadata": {},
   "outputs": [],
   "source": [
    "# 여러 개의 tensor를 동시에 실행하고 싶을 경우에는 list로 전달\n",
    "# with tf.Session() as sess:\n",
    "#     op3, useless = sess.run([op3, useless]) \n",
    "#     print(op3, useless)"
   ]
  },
  {
   "cell_type": "markdown",
   "id": "bd83ce40",
   "metadata": {},
   "source": [
    "# TensorFlow basic - Linear Regression"
   ]
  },
  {
   "cell_type": "markdown",
   "id": "736b1489",
   "metadata": {},
   "source": [
    "## 1. Prepare the data\n",
    "- Practice for Gradient Descent using Boston Housing data"
   ]
  },
  {
   "cell_type": "code",
   "execution_count": 17,
   "id": "c97282e9",
   "metadata": {},
   "outputs": [],
   "source": [
    "import tensorflow.compat.v1 as tf\n",
    "tf.disable_v2_behavior()"
   ]
  },
  {
   "cell_type": "code",
   "execution_count": 18,
   "id": "11d42f72",
   "metadata": {},
   "outputs": [],
   "source": [
    "import pandas as pd\n",
    "import numpy as np\n",
    "import matplotlib.pyplot as plt\n",
    "from sklearn import datasets"
   ]
  },
  {
   "cell_type": "code",
   "execution_count": 19,
   "id": "732ab468",
   "metadata": {},
   "outputs": [
    {
     "name": "stderr",
     "output_type": "stream",
     "text": [
      "/opt/homebrew/Caskroom/miniforge/base/envs/dl/lib/python3.8/site-packages/sklearn/utils/deprecation.py:87: FutureWarning: Function load_boston is deprecated; `load_boston` is deprecated in 1.0 and will be removed in 1.2.\n",
      "\n",
      "    The Boston housing prices dataset has an ethical problem. You can refer to\n",
      "    the documentation of this function for further details.\n",
      "\n",
      "    The scikit-learn maintainers therefore strongly discourage the use of this\n",
      "    dataset unless the purpose of the code is to study and educate about\n",
      "    ethical issues in data science and machine learning.\n",
      "\n",
      "    In this special case, you can fetch the dataset from the original\n",
      "    source::\n",
      "\n",
      "        import pandas as pd\n",
      "        import numpy as np\n",
      "\n",
      "        data_url = \"http://lib.stat.cmu.edu/datasets/boston\"\n",
      "        raw_df = pd.read_csv(data_url, sep=\"\\s+\", skiprows=22, header=None)\n",
      "        data = np.hstack([raw_df.values[::2, :], raw_df.values[1::2, :2]])\n",
      "        target = raw_df.values[1::2, 2]\n",
      "\n",
      "    Alternative datasets include the California housing dataset (i.e.\n",
      "    :func:`~sklearn.datasets.fetch_california_housing`) and the Ames housing\n",
      "    dataset. You can load the datasets as follows::\n",
      "\n",
      "        from sklearn.datasets import fetch_california_housing\n",
      "        housing = fetch_california_housing()\n",
      "\n",
      "    for the California housing dataset and::\n",
      "\n",
      "        from sklearn.datasets import fetch_openml\n",
      "        housing = fetch_openml(name=\"house_prices\", as_frame=True)\n",
      "\n",
      "    for the Ames housing dataset.\n",
      "  warnings.warn(msg, category=FutureWarning)\n"
     ]
    },
    {
     "data": {
      "text/html": [
       "<div>\n",
       "<style scoped>\n",
       "    .dataframe tbody tr th:only-of-type {\n",
       "        vertical-align: middle;\n",
       "    }\n",
       "\n",
       "    .dataframe tbody tr th {\n",
       "        vertical-align: top;\n",
       "    }\n",
       "\n",
       "    .dataframe thead th {\n",
       "        text-align: right;\n",
       "    }\n",
       "</style>\n",
       "<table border=\"1\" class=\"dataframe\">\n",
       "  <thead>\n",
       "    <tr style=\"text-align: right;\">\n",
       "      <th></th>\n",
       "      <th>0</th>\n",
       "      <th>1</th>\n",
       "    </tr>\n",
       "  </thead>\n",
       "  <tbody>\n",
       "    <tr>\n",
       "      <th>0</th>\n",
       "      <td>4.98</td>\n",
       "      <td>24.0</td>\n",
       "    </tr>\n",
       "    <tr>\n",
       "      <th>1</th>\n",
       "      <td>9.14</td>\n",
       "      <td>21.6</td>\n",
       "    </tr>\n",
       "    <tr>\n",
       "      <th>2</th>\n",
       "      <td>4.03</td>\n",
       "      <td>34.7</td>\n",
       "    </tr>\n",
       "    <tr>\n",
       "      <th>3</th>\n",
       "      <td>2.94</td>\n",
       "      <td>33.4</td>\n",
       "    </tr>\n",
       "    <tr>\n",
       "      <th>4</th>\n",
       "      <td>5.33</td>\n",
       "      <td>36.2</td>\n",
       "    </tr>\n",
       "  </tbody>\n",
       "</table>\n",
       "</div>"
      ],
      "text/plain": [
       "      0     1\n",
       "0  4.98  24.0\n",
       "1  9.14  21.6\n",
       "2  4.03  34.7\n",
       "3  2.94  33.4\n",
       "4  5.33  36.2"
      ]
     },
     "execution_count": 19,
     "metadata": {},
     "output_type": "execute_result"
    }
   ],
   "source": [
    "x_data = datasets.load_boston().data[:, 12] # 주변 이웃 중 하위 계층의 비율\n",
    "y_data = datasets.load_boston().target # 집의 가격\n",
    "# x_data, y_data 둘다 numpy array\n",
    "df = pd.DataFrame([x_data, y_data]).transpose()\n",
    "df.head()"
   ]
  },
  {
   "cell_type": "markdown",
   "id": "c40cb382",
   "metadata": {},
   "source": [
    "## 2. Build the model\n",
    "- tf.Variable(초기화 방법)"
   ]
  },
  {
   "cell_type": "code",
   "execution_count": 23,
   "id": "be891bb4",
   "metadata": {},
   "outputs": [],
   "source": [
    "# w, b : parameter 세타\n",
    "\n",
    "# 세타를 랜덤한 값으로 초기화, random_normal에서 normal은 분포(정규분포)\n",
    "# 1개의 값을 정규분포의 값에서 랜덤하게 꺼내줌, (2,3)행렬 값 6개도 랜덤하게 꺼내줌\n",
    "w = tf.Variable(tf.random_normal([1])) \n",
    "b = tf.Variable(tf.random_normal([1]))\n",
    "\n",
    "y_predicted = w * x_data + b # model\n",
    "\n",
    "# tf.add(), tf.multiply()..로 하는 것이 좀 더 좋음"
   ]
  },
  {
   "cell_type": "markdown",
   "id": "f5702b74",
   "metadata": {},
   "source": [
    "## 3. Set the criterion : cost function & Gradient Descent method\n",
    "- 설정\n",
    "    - cost function\n",
    "    - Gradient Descent method\n",
    "    - learning rate"
   ]
  },
  {
   "cell_type": "code",
   "execution_count": 27,
   "id": "af699dfe",
   "metadata": {},
   "outputs": [],
   "source": [
    "loss = tf.reduce_mean(tf.square(y_predicted - y_data)) # MSE\n",
    "\n",
    "# full batch normal Gradient Descent(vanilla gradient descent)\n",
    "optimizer = tf.train.GradientDescentOptimizer(0.001) # learning rate = 0.001\n",
    "\n",
    "train = optimizer.minimize(loss) # MSE를 minimize하게"
   ]
  },
  {
   "cell_type": "markdown",
   "id": "ca812087",
   "metadata": {},
   "source": [
    "## 4. Train the model"
   ]
  },
  {
   "cell_type": "code",
   "execution_count": 28,
   "id": "f8f6e431",
   "metadata": {},
   "outputs": [
    {
     "name": "stdout",
     "output_type": "stream",
     "text": [
      "Step 0: w [0.84947765] b [-1.5010242]\n",
      "loss 379.7929382324219\n",
      "\n",
      "Step 1000: w [0.3875002] b [12.275169]\n",
      "loss 158.2057342529297\n",
      "\n",
      "Step 2000: w [-0.12306242] b [20.77927]\n",
      "loss 84.25015258789062\n",
      "\n",
      "Step 3000: w [-0.4387369] b [26.037249]\n",
      "loss 55.978607177734375\n",
      "\n",
      "Step 4000: w [-0.6339119] b [29.28815]\n",
      "loss 45.17115783691406\n",
      "\n",
      "Step 5000: w [-0.7545861] b [31.29814]\n",
      "loss 41.039710998535156\n",
      "\n",
      "Step 6000: w [-0.82919663] b [32.54088]\n",
      "loss 39.46036148071289\n",
      "\n",
      "Step 7000: w [-0.8753276] b [33.30925]\n",
      "loss 38.856605529785156\n",
      "\n",
      "Step 8000: w [-0.9038493] b [33.784317]\n",
      "loss 38.62580108642578\n",
      "\n",
      "Step 9000: w [-0.9214841] b [34.07805]\n",
      "loss 38.537574768066406\n",
      "\n"
     ]
    }
   ],
   "source": [
    "with tf.Session() as sess :\n",
    "    sess.run(tf.global_variables_initializer()) # 객체를 만들어 줌, tf.Variables 초기화\n",
    "    \n",
    "    for step in range(10000) : # epoch, iteration\n",
    "        sess.run(train) # 실제로 Gradient Descent가 실행되는 코드, 학습 진행\n",
    "        if step % 1000 == 0 :\n",
    "            print('Step {}: w {} b {}'.format(step, sess.run(w), sess.run(b))) # sess.run은 학습 진행 X\n",
    "            print('loss {}'.format(sess.run(loss)))\n",
    "            print()\n",
    "    w_out, b_out = sess.run([w, b])"
   ]
  },
  {
   "cell_type": "markdown",
   "id": "1cf39e42",
   "metadata": {},
   "source": [
    "## 5. Visualize the result"
   ]
  },
  {
   "cell_type": "code",
   "execution_count": 34,
   "id": "5b93b103",
   "metadata": {},
   "outputs": [
    {
     "data": {
      "image/png": "[encoded data removed]",
      "text/plain": [
       "<Figure size 720x720 with 1 Axes>"
      ]
     },
     "metadata": {
      "needs_background": "light"
     },
     "output_type": "display_data"
    }
   ],
   "source": [
    "plt.figure(figsize=(10,10))\n",
    "plt.plot(x_data, y_data, 'bo', label='Real data') # blue 'o' marker\n",
    "plt.plot(x_data, x_data * w_out + b_out, 'ro', label ='Prediction') # red 'o' marker\n",
    "plt.legend()\n",
    "plt.show()\n",
    "\n",
    "# 비선형 모델이 예측을 더 잘할 것으로 보임"
   ]
  },
  {
   "cell_type": "markdown",
   "id": "61fc02e9",
   "metadata": {},
   "source": [
    "## 비선형 모델"
   ]
  },
  {
   "cell_type": "markdown",
   "id": "1e10e40d",
   "metadata": {},
   "source": [
    "## 1. Prepare the data\n",
    "- Practice for Gradient Descent using Boston Housing data"
   ]
  },
  {
   "cell_type": "code",
   "execution_count": 36,
   "id": "43eb9124",
   "metadata": {},
   "outputs": [
    {
     "name": "stderr",
     "output_type": "stream",
     "text": [
      "/opt/homebrew/Caskroom/miniforge/base/envs/dl/lib/python3.8/site-packages/sklearn/utils/deprecation.py:87: FutureWarning: Function load_boston is deprecated; `load_boston` is deprecated in 1.0 and will be removed in 1.2.\n",
      "\n",
      "    The Boston housing prices dataset has an ethical problem. You can refer to\n",
      "    the documentation of this function for further details.\n",
      "\n",
      "    The scikit-learn maintainers therefore strongly discourage the use of this\n",
      "    dataset unless the purpose of the code is to study and educate about\n",
      "    ethical issues in data science and machine learning.\n",
      "\n",
      "    In this special case, you can fetch the dataset from the original\n",
      "    source::\n",
      "\n",
      "        import pandas as pd\n",
      "        import numpy as np\n",
      "\n",
      "        data_url = \"http://lib.stat.cmu.edu/datasets/boston\"\n",
      "        raw_df = pd.read_csv(data_url, sep=\"\\s+\", skiprows=22, header=None)\n",
      "        data = np.hstack([raw_df.values[::2, :], raw_df.values[1::2, :2]])\n",
      "        target = raw_df.values[1::2, 2]\n",
      "\n",
      "    Alternative datasets include the California housing dataset (i.e.\n",
      "    :func:`~sklearn.datasets.fetch_california_housing`) and the Ames housing\n",
      "    dataset. You can load the datasets as follows::\n",
      "\n",
      "        from sklearn.datasets import fetch_california_housing\n",
      "        housing = fetch_california_housing()\n",
      "\n",
      "    for the California housing dataset and::\n",
      "\n",
      "        from sklearn.datasets import fetch_openml\n",
      "        housing = fetch_openml(name=\"house_prices\", as_frame=True)\n",
      "\n",
      "    for the Ames housing dataset.\n",
      "  warnings.warn(msg, category=FutureWarning)\n"
     ]
    },
    {
     "data": {
      "text/html": [
       "<div>\n",
       "<style scoped>\n",
       "    .dataframe tbody tr th:only-of-type {\n",
       "        vertical-align: middle;\n",
       "    }\n",
       "\n",
       "    .dataframe tbody tr th {\n",
       "        vertical-align: top;\n",
       "    }\n",
       "\n",
       "    .dataframe thead th {\n",
       "        text-align: right;\n",
       "    }\n",
       "</style>\n",
       "<table border=\"1\" class=\"dataframe\">\n",
       "  <thead>\n",
       "    <tr style=\"text-align: right;\">\n",
       "      <th></th>\n",
       "      <th>0</th>\n",
       "      <th>1</th>\n",
       "    </tr>\n",
       "  </thead>\n",
       "  <tbody>\n",
       "    <tr>\n",
       "      <th>0</th>\n",
       "      <td>4.98</td>\n",
       "      <td>24.0</td>\n",
       "    </tr>\n",
       "    <tr>\n",
       "      <th>1</th>\n",
       "      <td>9.14</td>\n",
       "      <td>21.6</td>\n",
       "    </tr>\n",
       "    <tr>\n",
       "      <th>2</th>\n",
       "      <td>4.03</td>\n",
       "      <td>34.7</td>\n",
       "    </tr>\n",
       "    <tr>\n",
       "      <th>3</th>\n",
       "      <td>2.94</td>\n",
       "      <td>33.4</td>\n",
       "    </tr>\n",
       "    <tr>\n",
       "      <th>4</th>\n",
       "      <td>5.33</td>\n",
       "      <td>36.2</td>\n",
       "    </tr>\n",
       "  </tbody>\n",
       "</table>\n",
       "</div>"
      ],
      "text/plain": [
       "      0     1\n",
       "0  4.98  24.0\n",
       "1  9.14  21.6\n",
       "2  4.03  34.7\n",
       "3  2.94  33.4\n",
       "4  5.33  36.2"
      ]
     },
     "execution_count": 36,
     "metadata": {},
     "output_type": "execute_result"
    }
   ],
   "source": [
    "x_data = datasets.load_boston().data[:, 12] # 주변 이웃 중 하위 계층의 비율\n",
    "y_data = datasets.load_boston().target # 집의 가격\n",
    "# x_data, y_data 둘다 numpy array\n",
    "df = pd.DataFrame([x_data, y_data]).transpose()\n",
    "df.head()"
   ]
  },
  {
   "cell_type": "code",
   "execution_count": 38,
   "id": "7a8418ef",
   "metadata": {},
   "outputs": [
    {
     "data": {
      "text/plain": [
       "((506,), (506,))"
      ]
     },
     "execution_count": 38,
     "metadata": {},
     "output_type": "execute_result"
    }
   ],
   "source": [
    "x_data.shape, y_data.shape"
   ]
  },
  {
   "cell_type": "markdown",
   "id": "b41d35bf",
   "metadata": {},
   "source": [
    "## 2. Build the model\n",
    "- 2 Hidden layers"
   ]
  },
  {
   "cell_type": "code",
   "execution_count": 47,
   "id": "2d502dc4",
   "metadata": {},
   "outputs": [],
   "source": [
    "# 2차원 이상의 행렬이 들어가야 함\n",
    "_x_data = tf.reshape(x_data, [len(x_data), 1]) # reshappe의 -1 : 알아서 처리해라 / (506, 1)\n",
    "_y_data = tf.reshape(y_data, [len(y_data), 1])\n",
    "\n",
    "W1 = tf.Variable(tf.random_normal([1, 5], dtype = tf.float64))\n",
    "W2 = tf.Variable(tf.random_normal([5, 10], dtype = tf.float64))\n",
    "W_out = tf.Variable(tf.random_normal([10, 1], dtype = tf.float64))\n",
    "\n",
    "hidden1 = tf.nn.elu(tf.matmul(_x_data, W1)) # matrix multi : 행렬곱, 선형 결합\n",
    "hidden2 = tf.nn.elu(tf.matmul(hidden1, W2))\n",
    "output = tf.matmul(hidden2, W_out) # matrix multi : 행렬곱"
   ]
  },
  {
   "cell_type": "markdown",
   "id": "193cfc97",
   "metadata": {},
   "source": [
    "## 3. Set the criterion : cost function & Gradient Descent method"
   ]
  },
  {
   "cell_type": "code",
   "execution_count": 49,
   "id": "15b30db8",
   "metadata": {},
   "outputs": [],
   "source": [
    "# loss = tf.reduce_mean(tf.square(output - _y_data)) # MSE\n",
    "loss = tf.losses.mean_squared_error(output, _y_data)\n",
    "\n",
    "# full batch normal Gradient Descent(vanilla gradient descent)\n",
    "optimizer = tf.train.AdamOptimizer(0.001) # Adam Optimizer / learning rate = 0.001\n",
    "\n",
    "train = optimizer.minimize(loss) # MSE를 minimize하게"
   ]
  },
  {
   "cell_type": "markdown",
   "id": "3b2eb530",
   "metadata": {},
   "source": [
    "## 4. Train the model"
   ]
  },
  {
   "cell_type": "code",
   "execution_count": 50,
   "id": "d23641bc",
   "metadata": {},
   "outputs": [
    {
     "name": "stdout",
     "output_type": "stream",
     "text": [
      "Step 0 || loss : 7036.939453125\n",
      "\n",
      "Step 5000 || loss : 30.932701110839844\n",
      "\n",
      "Step 10000 || loss : 26.2939510345459\n",
      "\n",
      "Step 15000 || loss : 26.16997718811035\n",
      "\n",
      "Step 20000 || loss : 26.166584014892578\n",
      "\n",
      "Step 25000 || loss : 26.177854537963867\n",
      "\n",
      "Step 30000 || loss : 26.1618595123291\n",
      "\n",
      "Step 35000 || loss : 26.152488708496094\n",
      "\n",
      "Step 40000 || loss : 26.147321701049805\n",
      "\n",
      "Step 45000 || loss : 26.14401626586914\n",
      "\n"
     ]
    }
   ],
   "source": [
    "with tf.Session() as sess :\n",
    "    sess.run(tf.global_variables_initializer()) # 객체를 만들어 줌, tf.Variables 초기화\n",
    "    \n",
    "    for step in range(50000) : # epoch, iteration\n",
    "        sess.run(train) # 실제로 Gradient Descent가 실행되는 코드, 학습 진행\n",
    "        if step % 5000 == 0 :\n",
    "            print('Step {} || loss : {}'.format(step, sess.run(loss))) # sess.run은 학습 진행 X\n",
    "            print()\n",
    "    output = sess.run(output)"
   ]
  },
  {
   "cell_type": "markdown",
   "id": "9711c840",
   "metadata": {},
   "source": [
    "## 5. Visualize the result"
   ]
  },
  {
   "cell_type": "code",
   "execution_count": 51,
   "id": "47ce018c",
   "metadata": {},
   "outputs": [
    {
     "data": {
      "image/png": "[encoded data removed]",
      "text/plain": [
       "<Figure size 720x720 with 1 Axes>"
      ]
     },
     "metadata": {
      "needs_background": "light"
     },
     "output_type": "display_data"
    }
   ],
   "source": [
    "plt.figure(figsize=(10,10))\n",
    "plt.plot(x_data, y_data, 'bo', label='Real data') # blue 'o' marker\n",
    "plt.plot(x_data, output, 'ro', label ='Prediction') # red 'o' marker\n",
    "plt.legend()\n",
    "plt.show()"
   ]
  },
  {
   "cell_type": "markdown",
   "id": "cd4b5b31",
   "metadata": {},
   "source": [
    "### Why?\n",
    "- y_data의 차원이 (506,1)이 아니라 (506,)임!\n",
    "- _y\\_data = tf.reshape(y_data, [len(y_data), 1])"
   ]
  },
  {
   "cell_type": "markdown",
   "id": "6063b0d9",
   "metadata": {},
   "source": [
    "### Try other improvements\n",
    "- Other activation functions (tanh, relu)\n",
    "- Other optimizers (Adam, Adagrad, RMSProp)\n",
    "- Other learning rates (0.01, 0.0001)\n",
    "- More learning steps (75000, 1000000)\n",
    "- More layers & nodes (64, 128, 256)"
   ]
  },
  {
   "cell_type": "markdown",
   "id": "62ce5d2d",
   "metadata": {},
   "source": [
    "run돌리는 시점에 train시점과 test시점에 다른 값이 들어가야 함 -> placeholder"
   ]
  }
 ],
 "metadata": {
  "kernelspec": {
   "display_name": "Python 3 (ipykernel)",
   "language": "python",
   "name": "python3"
  },
  "language_info": {
   "codemirror_mode": {
    "name": "ipython",
    "version": 3
   },
   "file_extension": ".py",
   "mimetype": "text/x-python",
   "name": "python",
   "nbconvert_exporter": "python",
   "pygments_lexer": "ipython3",
   "version": "3.8.13"
  }
 },
 "nbformat": 4,
 "nbformat_minor": 5
}
