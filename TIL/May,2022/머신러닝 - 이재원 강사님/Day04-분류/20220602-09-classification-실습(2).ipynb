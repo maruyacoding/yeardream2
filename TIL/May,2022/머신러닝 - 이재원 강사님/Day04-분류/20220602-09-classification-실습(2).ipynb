{
 "cells": [
  {
   "cell_type": "code",
   "execution_count": 1,
   "metadata": {
    "executionInfo": {
     "elapsed": 768,
     "status": "ok",
     "timestamp": 1625728893665,
     "user": {
      "displayName": "정용훈",
      "photoUrl": "",
      "userId": "17415172075506377629"
     },
     "user_tz": -540
    },
    "id": "AtQS-m1xsT0A"
   },
   "outputs": [],
   "source": [
    "# libraries\n",
    "import numpy as np\n",
    "import scipy as sp\n",
    "import pandas as pd\n",
    "import matplotlib.pyplot as plt\n",
    "%matplotlib inline"
   ]
  },
  {
   "cell_type": "code",
   "execution_count": 2,
   "metadata": {
    "executionInfo": {
     "elapsed": 51,
     "status": "ok",
     "timestamp": 1625728893670,
     "user": {
      "displayName": "정용훈",
      "photoUrl": "",
      "userId": "17415172075506377629"
     },
     "user_tz": -540
    },
    "id": "HL92h1ZpsUt5"
   },
   "outputs": [],
   "source": [
    "# read data file\n",
    "df = pd.read_csv('./data/churn.csv')"
   ]
  },
  {
   "cell_type": "code",
   "execution_count": 3,
   "metadata": {},
   "outputs": [
    {
     "data": {
      "text/plain": [
       "Index(['RowNumber', 'CustomerId', 'Surname', 'CreditScore', 'Geography',\n",
       "       'Gender', 'Age', 'Tenure', 'Balance', 'NumOfProducts', 'HasCrCard',\n",
       "       'IsActiveMember', 'EstimatedSalary', 'Exited'],\n",
       "      dtype='object')"
      ]
     },
     "execution_count": 3,
     "metadata": {},
     "output_type": "execute_result"
    }
   ],
   "source": [
    "df.columns"
   ]
  },
  {
   "cell_type": "code",
   "execution_count": 4,
   "metadata": {},
   "outputs": [
    {
     "data": {
      "text/plain": [
       "array(['France', 'Spain', 'Germany'], dtype=object)"
      ]
     },
     "execution_count": 4,
     "metadata": {},
     "output_type": "execute_result"
    }
   ],
   "source": [
    "df['Geography'].unique()"
   ]
  },
  {
   "cell_type": "code",
   "execution_count": 5,
   "metadata": {},
   "outputs": [
    {
     "name": "stdout",
     "output_type": "stream",
     "text": [
      "   CreditScore Geography  Gender  Tenure    Balance  NumOfProducts  HasCrCard  \\\n",
      "0          619    France  Female       2       0.00              1          1   \n",
      "1          608     Spain  Female       1   83807.86              1          0   \n",
      "2          502    France  Female       8  159660.80              3          1   \n",
      "3          699    France  Female       1       0.00              2          0   \n",
      "4          850     Spain  Female       2  125510.82              1          1   \n",
      "\n",
      "   IsActiveMember  EstimatedSalary  Exited  \n",
      "0               1        101348.88       1  \n",
      "1               1        112542.58       0  \n",
      "2               0        113931.57       1  \n",
      "3               0         93826.63       0  \n",
      "4               1         79084.10       0  \n"
     ]
    }
   ],
   "source": [
    "df = df[['CreditScore', 'Geography', 'Gender', 'Tenure', 'Balance', \n",
    "         'NumOfProducts', 'HasCrCard', 'IsActiveMember', 'EstimatedSalary', 'Exited']]\n",
    "print(df.head())"
   ]
  },
  {
   "cell_type": "code",
   "execution_count": 6,
   "metadata": {},
   "outputs": [
    {
     "name": "stdout",
     "output_type": "stream",
     "text": [
      "   France  Germany  Spain\n",
      "0       1        0      0\n",
      "1       0        0      1\n",
      "2       1        0      0\n",
      "3       1        0      0\n",
      "4       0        0      1\n"
     ]
    }
   ],
   "source": [
    "geo_df = pd.get_dummies(df['Geography'])\n",
    "gender_df = pd.get_dummies(df['Gender'])\n",
    "\n",
    "print(geo_df.head())"
   ]
  },
  {
   "cell_type": "code",
   "execution_count": 7,
   "metadata": {},
   "outputs": [],
   "source": [
    "df = pd.concat([df, geo_df, gender_df], axis=1)"
   ]
  },
  {
   "cell_type": "code",
   "execution_count": 8,
   "metadata": {},
   "outputs": [
    {
     "name": "stdout",
     "output_type": "stream",
     "text": [
      "   CreditScore  Tenure    Balance  NumOfProducts  HasCrCard  IsActiveMember  \\\n",
      "0          619       2       0.00              1          1               1   \n",
      "1          608       1   83807.86              1          0               1   \n",
      "2          502       8  159660.80              3          1               0   \n",
      "3          699       1       0.00              2          0               0   \n",
      "4          850       2  125510.82              1          1               1   \n",
      "\n",
      "   EstimatedSalary  Exited  France  Germany  Spain  Female  Male  \n",
      "0        101348.88       1       1        0      0       1     0  \n",
      "1        112542.58       0       0        0      1       1     0  \n",
      "2        113931.57       1       1        0      0       1     0  \n",
      "3         93826.63       0       1        0      0       1     0  \n",
      "4         79084.10       0       0        0      1       1     0  \n"
     ]
    }
   ],
   "source": [
    "df = df.drop(['Geography', 'Gender'], axis=1)\n",
    "print(df.head())"
   ]
  },
  {
   "cell_type": "code",
   "execution_count": 9,
   "metadata": {},
   "outputs": [],
   "source": [
    "Y = df['Exited']\n",
    "\n",
    "X = df.copy()\n",
    "X = X.drop(['Exited'], axis=1)"
   ]
  },
  {
   "cell_type": "code",
   "execution_count": 22,
   "metadata": {},
   "outputs": [
    {
     "data": {
      "text/plain": [
       "0    7963\n",
       "1    2037\n",
       "Name: Exited, dtype: int64"
      ]
     },
     "execution_count": 22,
     "metadata": {},
     "output_type": "execute_result"
    }
   ],
   "source": [
    "df.Exited.value_counts()"
   ]
  },
  {
   "cell_type": "code",
   "execution_count": 28,
   "metadata": {},
   "outputs": [
    {
     "data": {
      "text/html": [
       "<div>\n",
       "<style scoped>\n",
       "    .dataframe tbody tr th:only-of-type {\n",
       "        vertical-align: middle;\n",
       "    }\n",
       "\n",
       "    .dataframe tbody tr th {\n",
       "        vertical-align: top;\n",
       "    }\n",
       "\n",
       "    .dataframe thead th {\n",
       "        text-align: right;\n",
       "    }\n",
       "</style>\n",
       "<table border=\"1\" class=\"dataframe\">\n",
       "  <thead>\n",
       "    <tr style=\"text-align: right;\">\n",
       "      <th></th>\n",
       "      <th>CreditScore</th>\n",
       "      <th>Tenure</th>\n",
       "      <th>Balance</th>\n",
       "      <th>NumOfProducts</th>\n",
       "      <th>HasCrCard</th>\n",
       "      <th>IsActiveMember</th>\n",
       "      <th>EstimatedSalary</th>\n",
       "      <th>Exited</th>\n",
       "      <th>France</th>\n",
       "      <th>Germany</th>\n",
       "      <th>Spain</th>\n",
       "      <th>Female</th>\n",
       "      <th>Male</th>\n",
       "    </tr>\n",
       "  </thead>\n",
       "  <tbody>\n",
       "    <tr>\n",
       "      <th>CreditScore</th>\n",
       "      <td>1.000000</td>\n",
       "      <td>0.000842</td>\n",
       "      <td>0.006268</td>\n",
       "      <td>0.012238</td>\n",
       "      <td>-0.005458</td>\n",
       "      <td>0.025651</td>\n",
       "      <td>-0.001384</td>\n",
       "      <td>-0.027094</td>\n",
       "      <td>-0.008928</td>\n",
       "      <td>0.005538</td>\n",
       "      <td>0.004780</td>\n",
       "      <td>0.002857</td>\n",
       "      <td>-0.002857</td>\n",
       "    </tr>\n",
       "    <tr>\n",
       "      <th>Tenure</th>\n",
       "      <td>0.000842</td>\n",
       "      <td>1.000000</td>\n",
       "      <td>-0.012254</td>\n",
       "      <td>0.013444</td>\n",
       "      <td>0.022583</td>\n",
       "      <td>-0.028362</td>\n",
       "      <td>0.007784</td>\n",
       "      <td>-0.014001</td>\n",
       "      <td>-0.002848</td>\n",
       "      <td>-0.000567</td>\n",
       "      <td>0.003868</td>\n",
       "      <td>-0.014733</td>\n",
       "      <td>0.014733</td>\n",
       "    </tr>\n",
       "    <tr>\n",
       "      <th>Balance</th>\n",
       "      <td>0.006268</td>\n",
       "      <td>-0.012254</td>\n",
       "      <td>1.000000</td>\n",
       "      <td>-0.304180</td>\n",
       "      <td>-0.014858</td>\n",
       "      <td>-0.010084</td>\n",
       "      <td>0.012797</td>\n",
       "      <td>0.118533</td>\n",
       "      <td>-0.231329</td>\n",
       "      <td>0.401110</td>\n",
       "      <td>-0.134892</td>\n",
       "      <td>-0.012087</td>\n",
       "      <td>0.012087</td>\n",
       "    </tr>\n",
       "    <tr>\n",
       "      <th>NumOfProducts</th>\n",
       "      <td>0.012238</td>\n",
       "      <td>0.013444</td>\n",
       "      <td>-0.304180</td>\n",
       "      <td>1.000000</td>\n",
       "      <td>0.003183</td>\n",
       "      <td>0.009612</td>\n",
       "      <td>0.014204</td>\n",
       "      <td>-0.047820</td>\n",
       "      <td>0.001230</td>\n",
       "      <td>-0.010419</td>\n",
       "      <td>0.009039</td>\n",
       "      <td>0.021859</td>\n",
       "      <td>-0.021859</td>\n",
       "    </tr>\n",
       "    <tr>\n",
       "      <th>HasCrCard</th>\n",
       "      <td>-0.005458</td>\n",
       "      <td>0.022583</td>\n",
       "      <td>-0.014858</td>\n",
       "      <td>0.003183</td>\n",
       "      <td>1.000000</td>\n",
       "      <td>-0.011866</td>\n",
       "      <td>-0.009933</td>\n",
       "      <td>-0.007138</td>\n",
       "      <td>0.002467</td>\n",
       "      <td>0.010577</td>\n",
       "      <td>-0.013480</td>\n",
       "      <td>-0.005766</td>\n",
       "      <td>0.005766</td>\n",
       "    </tr>\n",
       "    <tr>\n",
       "      <th>IsActiveMember</th>\n",
       "      <td>0.025651</td>\n",
       "      <td>-0.028362</td>\n",
       "      <td>-0.010084</td>\n",
       "      <td>0.009612</td>\n",
       "      <td>-0.011866</td>\n",
       "      <td>1.000000</td>\n",
       "      <td>-0.011421</td>\n",
       "      <td>-0.156128</td>\n",
       "      <td>0.003317</td>\n",
       "      <td>-0.020486</td>\n",
       "      <td>0.016732</td>\n",
       "      <td>-0.022544</td>\n",
       "      <td>0.022544</td>\n",
       "    </tr>\n",
       "    <tr>\n",
       "      <th>EstimatedSalary</th>\n",
       "      <td>-0.001384</td>\n",
       "      <td>0.007784</td>\n",
       "      <td>0.012797</td>\n",
       "      <td>0.014204</td>\n",
       "      <td>-0.009933</td>\n",
       "      <td>-0.011421</td>\n",
       "      <td>1.000000</td>\n",
       "      <td>0.012097</td>\n",
       "      <td>-0.003332</td>\n",
       "      <td>0.010297</td>\n",
       "      <td>-0.006482</td>\n",
       "      <td>0.008112</td>\n",
       "      <td>-0.008112</td>\n",
       "    </tr>\n",
       "    <tr>\n",
       "      <th>Exited</th>\n",
       "      <td>-0.027094</td>\n",
       "      <td>-0.014001</td>\n",
       "      <td>0.118533</td>\n",
       "      <td>-0.047820</td>\n",
       "      <td>-0.007138</td>\n",
       "      <td>-0.156128</td>\n",
       "      <td>0.012097</td>\n",
       "      <td>1.000000</td>\n",
       "      <td>-0.104955</td>\n",
       "      <td>0.173488</td>\n",
       "      <td>-0.052667</td>\n",
       "      <td>0.106512</td>\n",
       "      <td>-0.106512</td>\n",
       "    </tr>\n",
       "    <tr>\n",
       "      <th>France</th>\n",
       "      <td>-0.008928</td>\n",
       "      <td>-0.002848</td>\n",
       "      <td>-0.231329</td>\n",
       "      <td>0.001230</td>\n",
       "      <td>0.002467</td>\n",
       "      <td>0.003317</td>\n",
       "      <td>-0.003332</td>\n",
       "      <td>-0.104955</td>\n",
       "      <td>1.000000</td>\n",
       "      <td>-0.580359</td>\n",
       "      <td>-0.575418</td>\n",
       "      <td>-0.006772</td>\n",
       "      <td>0.006772</td>\n",
       "    </tr>\n",
       "    <tr>\n",
       "      <th>Germany</th>\n",
       "      <td>0.005538</td>\n",
       "      <td>-0.000567</td>\n",
       "      <td>0.401110</td>\n",
       "      <td>-0.010419</td>\n",
       "      <td>0.010577</td>\n",
       "      <td>-0.020486</td>\n",
       "      <td>0.010297</td>\n",
       "      <td>0.173488</td>\n",
       "      <td>-0.580359</td>\n",
       "      <td>1.000000</td>\n",
       "      <td>-0.332084</td>\n",
       "      <td>0.024628</td>\n",
       "      <td>-0.024628</td>\n",
       "    </tr>\n",
       "    <tr>\n",
       "      <th>Spain</th>\n",
       "      <td>0.004780</td>\n",
       "      <td>0.003868</td>\n",
       "      <td>-0.134892</td>\n",
       "      <td>0.009039</td>\n",
       "      <td>-0.013480</td>\n",
       "      <td>0.016732</td>\n",
       "      <td>-0.006482</td>\n",
       "      <td>-0.052667</td>\n",
       "      <td>-0.575418</td>\n",
       "      <td>-0.332084</td>\n",
       "      <td>1.000000</td>\n",
       "      <td>-0.016889</td>\n",
       "      <td>0.016889</td>\n",
       "    </tr>\n",
       "    <tr>\n",
       "      <th>Female</th>\n",
       "      <td>0.002857</td>\n",
       "      <td>-0.014733</td>\n",
       "      <td>-0.012087</td>\n",
       "      <td>0.021859</td>\n",
       "      <td>-0.005766</td>\n",
       "      <td>-0.022544</td>\n",
       "      <td>0.008112</td>\n",
       "      <td>0.106512</td>\n",
       "      <td>-0.006772</td>\n",
       "      <td>0.024628</td>\n",
       "      <td>-0.016889</td>\n",
       "      <td>1.000000</td>\n",
       "      <td>-1.000000</td>\n",
       "    </tr>\n",
       "    <tr>\n",
       "      <th>Male</th>\n",
       "      <td>-0.002857</td>\n",
       "      <td>0.014733</td>\n",
       "      <td>0.012087</td>\n",
       "      <td>-0.021859</td>\n",
       "      <td>0.005766</td>\n",
       "      <td>0.022544</td>\n",
       "      <td>-0.008112</td>\n",
       "      <td>-0.106512</td>\n",
       "      <td>0.006772</td>\n",
       "      <td>-0.024628</td>\n",
       "      <td>0.016889</td>\n",
       "      <td>-1.000000</td>\n",
       "      <td>1.000000</td>\n",
       "    </tr>\n",
       "  </tbody>\n",
       "</table>\n",
       "</div>"
      ],
      "text/plain": [
       "                 CreditScore    Tenure   Balance  NumOfProducts  HasCrCard  \\\n",
       "CreditScore         1.000000  0.000842  0.006268       0.012238  -0.005458   \n",
       "Tenure              0.000842  1.000000 -0.012254       0.013444   0.022583   \n",
       "Balance             0.006268 -0.012254  1.000000      -0.304180  -0.014858   \n",
       "NumOfProducts       0.012238  0.013444 -0.304180       1.000000   0.003183   \n",
       "HasCrCard          -0.005458  0.022583 -0.014858       0.003183   1.000000   \n",
       "IsActiveMember      0.025651 -0.028362 -0.010084       0.009612  -0.011866   \n",
       "EstimatedSalary    -0.001384  0.007784  0.012797       0.014204  -0.009933   \n",
       "Exited             -0.027094 -0.014001  0.118533      -0.047820  -0.007138   \n",
       "France             -0.008928 -0.002848 -0.231329       0.001230   0.002467   \n",
       "Germany             0.005538 -0.000567  0.401110      -0.010419   0.010577   \n",
       "Spain               0.004780  0.003868 -0.134892       0.009039  -0.013480   \n",
       "Female              0.002857 -0.014733 -0.012087       0.021859  -0.005766   \n",
       "Male               -0.002857  0.014733  0.012087      -0.021859   0.005766   \n",
       "\n",
       "                 IsActiveMember  EstimatedSalary    Exited    France  \\\n",
       "CreditScore            0.025651        -0.001384 -0.027094 -0.008928   \n",
       "Tenure                -0.028362         0.007784 -0.014001 -0.002848   \n",
       "Balance               -0.010084         0.012797  0.118533 -0.231329   \n",
       "NumOfProducts          0.009612         0.014204 -0.047820  0.001230   \n",
       "HasCrCard             -0.011866        -0.009933 -0.007138  0.002467   \n",
       "IsActiveMember         1.000000        -0.011421 -0.156128  0.003317   \n",
       "EstimatedSalary       -0.011421         1.000000  0.012097 -0.003332   \n",
       "Exited                -0.156128         0.012097  1.000000 -0.104955   \n",
       "France                 0.003317        -0.003332 -0.104955  1.000000   \n",
       "Germany               -0.020486         0.010297  0.173488 -0.580359   \n",
       "Spain                  0.016732        -0.006482 -0.052667 -0.575418   \n",
       "Female                -0.022544         0.008112  0.106512 -0.006772   \n",
       "Male                   0.022544        -0.008112 -0.106512  0.006772   \n",
       "\n",
       "                  Germany     Spain    Female      Male  \n",
       "CreditScore      0.005538  0.004780  0.002857 -0.002857  \n",
       "Tenure          -0.000567  0.003868 -0.014733  0.014733  \n",
       "Balance          0.401110 -0.134892 -0.012087  0.012087  \n",
       "NumOfProducts   -0.010419  0.009039  0.021859 -0.021859  \n",
       "HasCrCard        0.010577 -0.013480 -0.005766  0.005766  \n",
       "IsActiveMember  -0.020486  0.016732 -0.022544  0.022544  \n",
       "EstimatedSalary  0.010297 -0.006482  0.008112 -0.008112  \n",
       "Exited           0.173488 -0.052667  0.106512 -0.106512  \n",
       "France          -0.580359 -0.575418 -0.006772  0.006772  \n",
       "Germany          1.000000 -0.332084  0.024628 -0.024628  \n",
       "Spain           -0.332084  1.000000 -0.016889  0.016889  \n",
       "Female           0.024628 -0.016889  1.000000 -1.000000  \n",
       "Male            -0.024628  0.016889 -1.000000  1.000000  "
      ]
     },
     "execution_count": 28,
     "metadata": {},
     "output_type": "execute_result"
    }
   ],
   "source": [
    "df.corr()"
   ]
  },
  {
   "cell_type": "code",
   "execution_count": 10,
   "metadata": {},
   "outputs": [],
   "source": [
    "# # Separating traing & test sets\n",
    "# X = df.iloc[:,:-1]\n",
    "# Y = (df['Y'] > 140).factorize()[0]\n",
    "\n",
    "from sklearn.model_selection import train_test_split\n",
    "xtrain, xtest, ytrain, ytest = train_test_split(X,Y,test_size=0.33,random_state=1) "
   ]
  },
  {
   "cell_type": "code",
   "execution_count": 11,
   "metadata": {},
   "outputs": [
    {
     "data": {
      "text/plain": [
       "2961    0\n",
       "2919    0\n",
       "2136    0\n",
       "4283    0\n",
       "9820    0\n",
       "       ..\n",
       "2895    0\n",
       "7813    1\n",
       "905     1\n",
       "5192    0\n",
       "235     1\n",
       "Name: Exited, Length: 6700, dtype: int64"
      ]
     },
     "execution_count": 11,
     "metadata": {},
     "output_type": "execute_result"
    }
   ],
   "source": [
    "ytrain"
   ]
  },
  {
   "cell_type": "code",
   "execution_count": null,
   "metadata": {
    "executionInfo": {
     "elapsed": 525,
     "status": "ok",
     "timestamp": 1625728898500,
     "user": {
      "displayName": "정용훈",
      "photoUrl": "",
      "userId": "17415172075506377629"
     },
     "user_tz": -540
    },
    "id": "IC28goEfsWtG"
   },
   "outputs": [],
   "source": [
    "####################################################\n",
    "# Linear Regression\n",
    "####################################################"
   ]
  },
  {
   "cell_type": "code",
   "execution_count": 12,
   "metadata": {
    "colab": {
     "base_uri": "https://localhost:8080/"
    },
    "executionInfo": {
     "elapsed": 534,
     "status": "ok",
     "timestamp": 1625728898514,
     "user": {
      "displayName": "정용훈",
      "photoUrl": "",
      "userId": "17415172075506377629"
     },
     "user_tz": -540
    },
    "id": "yaZNWvnRsWqc",
    "outputId": "83f6458c-9c64-493a-d5d6-d7a83038913e"
   },
   "outputs": [],
   "source": [
    "# simple linear regression, Linear Regression\n",
    "from sklearn.linear_model import LogisticRegression\n",
    "\n",
    "lr_model = LogisticRegression().fit(xtrain, ytrain)"
   ]
  },
  {
   "cell_type": "code",
   "execution_count": 14,
   "metadata": {
    "colab": {
     "base_uri": "https://localhost:8080/"
    },
    "executionInfo": {
     "elapsed": 381,
     "status": "ok",
     "timestamp": 1625728898521,
     "user": {
      "displayName": "정용훈",
      "photoUrl": "",
      "userId": "17415172075506377629"
     },
     "user_tz": -540
    },
    "id": "DC_07b3-sWlD",
    "outputId": "7d323ef8-0cae-4305-facd-029a38c6ddb5"
   },
   "outputs": [
    {
     "data": {
      "text/plain": [
       "0.2094"
      ]
     },
     "execution_count": 14,
     "metadata": {},
     "output_type": "execute_result"
    }
   ],
   "source": [
    "from sklearn.metrics import mean_squared_error\n",
    "\n",
    "pred = lr_model.predict(xtest)\n",
    "mse = mean_squared_error(ytest, pred)\n",
    "np.round(mse,4)"
   ]
  },
  {
   "cell_type": "code",
   "execution_count": null,
   "metadata": {
    "id": "mbbRoxPHsltA"
   },
   "outputs": [],
   "source": [
    "####################################################\n",
    "# KNN Classifier\n",
    "####################################################"
   ]
  },
  {
   "cell_type": "code",
   "execution_count": 15,
   "metadata": {
    "id": "5szjzMPOsloS"
   },
   "outputs": [],
   "source": [
    "# simple KNN classification\n",
    "from sklearn.neighbors import KNeighborsClassifier\n",
    "\n",
    "knn_model = KNeighborsClassifier().fit(xtrain, ytrain)"
   ]
  },
  {
   "cell_type": "code",
   "execution_count": 19,
   "metadata": {},
   "outputs": [
    {
     "name": "stdout",
     "output_type": "stream",
     "text": [
      "knn_model classification_report\n",
      "              precision    recall  f1-score   support\n",
      "\n",
      "           0       0.79      0.94      0.86      2609\n",
      "           1       0.24      0.08      0.11       691\n",
      "\n",
      "    accuracy                           0.76      3300\n",
      "   macro avg       0.51      0.51      0.49      3300\n",
      "weighted avg       0.68      0.76      0.70      3300\n",
      "\n"
     ]
    }
   ],
   "source": [
    "from sklearn.metrics import classification_report\n",
    "\n",
    "pred2 = knn_model.predict(xtest)\n",
    "print('knn_model classification_report')\n",
    "print(classification_report(ytest, pred2))"
   ]
  },
  {
   "cell_type": "code",
   "execution_count": null,
   "metadata": {
    "id": "5LYsT7Jjs0CQ"
   },
   "outputs": [],
   "source": [
    "####################################################\n",
    "# Classification Tree\n",
    "####################################################"
   ]
  },
  {
   "cell_type": "code",
   "execution_count": 17,
   "metadata": {
    "id": "DqlXziWJsz_x"
   },
   "outputs": [],
   "source": [
    "# classification tree , SVM, RF\n",
    "from sklearn.tree import DecisionTreeClassifier\n",
    "from sklearn.ensemble import RandomForestClassifier\n",
    "\n",
    "dt_model = DecisionTreeClassifier(random_state=1).fit(xtrain, ytrain)\n",
    "rf_model = RandomForestClassifier(random_state=1).fit(xtrain, ytrain)"
   ]
  },
  {
   "cell_type": "code",
   "execution_count": 25,
   "metadata": {
    "id": "zNshCgWuszd-"
   },
   "outputs": [
    {
     "name": "stdout",
     "output_type": "stream",
     "text": [
      "dt_model classification_report\n",
      "              precision    recall  f1-score   support\n",
      "\n",
      "           0       0.84      0.85      0.85      2609\n",
      "           1       0.41      0.40      0.40       691\n",
      "\n",
      "    accuracy                           0.75      3300\n",
      "   macro avg       0.63      0.62      0.62      3300\n",
      "weighted avg       0.75      0.75      0.75      3300\n",
      "\n",
      "\n",
      "rf_model classification_report\n",
      "              precision    recall  f1-score   support\n",
      "\n",
      "           0       0.83      0.95      0.89      2609\n",
      "           1       0.63      0.29      0.39       691\n",
      "\n",
      "    accuracy                           0.81      3300\n",
      "   macro avg       0.73      0.62      0.64      3300\n",
      "weighted avg       0.79      0.81      0.79      3300\n",
      "\n"
     ]
    }
   ],
   "source": [
    "from sklearn.metrics import classification_report\n",
    "\n",
    "pred3 = dt_model.predict(xtest)\n",
    "print('dt_model classification_report')\n",
    "print(classification_report(ytest, pred3))\n",
    "print('')\n",
    "\n",
    "pred4 = rf_model.predict(xtest)\n",
    "print('rf_model classification_report')\n",
    "print(classification_report(ytest, pred4))\n",
    "\n",
    "# confusion matrix"
   ]
  },
  {
   "cell_type": "code",
   "execution_count": 30,
   "metadata": {},
   "outputs": [
    {
     "data": {
      "text/plain": [
       "array([0.21098637, 0.11191163, 0.20332561, 0.14489901, 0.02027272,\n",
       "       0.03070934, 0.21701668, 0.01039368, 0.02244213, 0.00944173,\n",
       "       0.0091513 , 0.0094498 ])"
      ]
     },
     "execution_count": 30,
     "metadata": {},
     "output_type": "execute_result"
    }
   ],
   "source": [
    "# feature_importances method는 트리 기반 모델에서만 사용 가능!\n",
    "rf_model.feature_importances_ # feature의 중요도"
   ]
  },
  {
   "cell_type": "code",
   "execution_count": 31,
   "metadata": {},
   "outputs": [
    {
     "data": {
      "text/plain": [
       "Index(['CreditScore', 'Tenure', 'Balance', 'NumOfProducts', 'HasCrCard',\n",
       "       'IsActiveMember', 'EstimatedSalary', 'France', 'Germany', 'Spain',\n",
       "       'Female', 'Male'],\n",
       "      dtype='object')"
      ]
     },
     "execution_count": 31,
     "metadata": {},
     "output_type": "execute_result"
    }
   ],
   "source": [
    "xtrain.columns"
   ]
  },
  {
   "cell_type": "code",
   "execution_count": null,
   "metadata": {},
   "outputs": [],
   "source": [
    "# Scaler(Standard, MinMax...)\n",
    "# train with important features only\n",
    "# Correlation(VIF, correlation matrix) - 다중공선성"
   ]
  }
 ],
 "metadata": {
  "colab": {
   "collapsed_sections": [],
   "name": "script02_classification.ipynb",
   "provenance": []
  },
  "kernelspec": {
   "display_name": "Python 3 (ipykernel)",
   "language": "python",
   "name": "python3"
  },
  "language_info": {
   "codemirror_mode": {
    "name": "ipython",
    "version": 3
   },
   "file_extension": ".py",
   "mimetype": "text/x-python",
   "name": "python",
   "nbconvert_exporter": "python",
   "pygments_lexer": "ipython3",
   "version": "3.8.13"
  }
 },
 "nbformat": 4,
 "nbformat_minor": 1
}
