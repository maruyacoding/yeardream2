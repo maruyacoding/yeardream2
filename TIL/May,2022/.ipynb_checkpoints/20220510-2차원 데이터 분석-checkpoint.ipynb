{
 "cells": [
  {
   "cell_type": "code",
   "execution_count": null,
   "id": "e74fdcf2",
   "metadata": {
    "id": "e74fdcf2"
   },
   "outputs": [],
   "source": [
    "import numpy as np\n",
    "import pandas as pd\n",
    "import matplotlib.pyplot as plt\n",
    "import seaborn as sns"
   ]
  },
  {
   "cell_type": "code",
   "execution_count": null,
   "id": "596d97c6",
   "metadata": {
    "id": "596d97c6"
   },
   "outputs": [],
   "source": [
    "%precision 3\n",
    "# pandas DataFrame의 출력을 소수점 이하 3자리로 제한\n",
    "pd.set_option('display.precision', 3)\n",
    "\n",
    "%matplotlib inline"
   ]
  },
  {
   "cell_type": "markdown",
   "id": "62cd7d65",
   "metadata": {
    "id": "62cd7d65"
   },
   "source": [
    "### 2차원 데이터 분석\n",
    "1. 수치를 사용한 지표 : 공분산, 상관계수\n",
    "2. 시각화 그래프 : 산점도, 회귀직선"
   ]
  },
  {
   "cell_type": "markdown",
   "id": "e90c5ff1",
   "metadata": {
    "id": "e90c5ff1"
   },
   "source": [
    "#### 공분산, 상관계수"
   ]
  },
  {
   "cell_type": "code",
   "execution_count": null,
   "id": "0f9bf784",
   "metadata": {
    "id": "0f9bf784"
   },
   "outputs": [],
   "source": [
    "en_scores = [42, 69, 56, 41, 57, 48, 65, 49, 65, 58]\n",
    "ma_scores = [65, 80, 63, 76, 63, 60, 81, 78, 82, 66]"
   ]
  },
  {
   "cell_type": "code",
   "execution_count": null,
   "id": "0ffca6b5",
   "metadata": {
    "id": "0ffca6b5"
   },
   "outputs": [],
   "source": [
    "scores_df = pd.DataFrame(\n",
    "    {\n",
    "        'english' : en_scores,\n",
    "        'mathematics' : ma_scores\n",
    "    },\n",
    "    index = pd.Index(\n",
    "        [\n",
    "        'A', 'B', 'C', 'D', 'E',\n",
    "        'F', 'G', 'H', 'I', 'J'\n",
    "        ],\n",
    "        name = 'student'\n",
    "    )\n",
    ")"
   ]
  },
  {
   "cell_type": "code",
   "execution_count": null,
   "id": "4d4edc4f",
   "metadata": {
    "id": "4d4edc4f",
    "outputId": "c52956d0-464e-4159-83ad-e1ee1eff7456"
   },
   "outputs": [
    {
     "data": {
      "text/html": [
       "<div>\n",
       "<style scoped>\n",
       "    .dataframe tbody tr th:only-of-type {\n",
       "        vertical-align: middle;\n",
       "    }\n",
       "\n",
       "    .dataframe tbody tr th {\n",
       "        vertical-align: top;\n",
       "    }\n",
       "\n",
       "    .dataframe thead th {\n",
       "        text-align: right;\n",
       "    }\n",
       "</style>\n",
       "<table border=\"1\" class=\"dataframe\">\n",
       "  <thead>\n",
       "    <tr style=\"text-align: right;\">\n",
       "      <th></th>\n",
       "      <th>english</th>\n",
       "      <th>mathematics</th>\n",
       "    </tr>\n",
       "    <tr>\n",
       "      <th>student</th>\n",
       "      <th></th>\n",
       "      <th></th>\n",
       "    </tr>\n",
       "  </thead>\n",
       "  <tbody>\n",
       "    <tr>\n",
       "      <th>A</th>\n",
       "      <td>42</td>\n",
       "      <td>65</td>\n",
       "    </tr>\n",
       "    <tr>\n",
       "      <th>B</th>\n",
       "      <td>69</td>\n",
       "      <td>80</td>\n",
       "    </tr>\n",
       "    <tr>\n",
       "      <th>C</th>\n",
       "      <td>56</td>\n",
       "      <td>63</td>\n",
       "    </tr>\n",
       "    <tr>\n",
       "      <th>D</th>\n",
       "      <td>41</td>\n",
       "      <td>76</td>\n",
       "    </tr>\n",
       "    <tr>\n",
       "      <th>E</th>\n",
       "      <td>57</td>\n",
       "      <td>63</td>\n",
       "    </tr>\n",
       "    <tr>\n",
       "      <th>F</th>\n",
       "      <td>48</td>\n",
       "      <td>60</td>\n",
       "    </tr>\n",
       "    <tr>\n",
       "      <th>G</th>\n",
       "      <td>65</td>\n",
       "      <td>81</td>\n",
       "    </tr>\n",
       "    <tr>\n",
       "      <th>H</th>\n",
       "      <td>49</td>\n",
       "      <td>78</td>\n",
       "    </tr>\n",
       "    <tr>\n",
       "      <th>I</th>\n",
       "      <td>65</td>\n",
       "      <td>82</td>\n",
       "    </tr>\n",
       "    <tr>\n",
       "      <th>J</th>\n",
       "      <td>58</td>\n",
       "      <td>66</td>\n",
       "    </tr>\n",
       "  </tbody>\n",
       "</table>\n",
       "</div>"
      ],
      "text/plain": [
       "         english  mathematics\n",
       "student                      \n",
       "A             42           65\n",
       "B             69           80\n",
       "C             56           63\n",
       "D             41           76\n",
       "E             57           63\n",
       "F             48           60\n",
       "G             65           81\n",
       "H             49           78\n",
       "I             65           82\n",
       "J             58           66"
      ]
     },
     "execution_count": 18,
     "metadata": {},
     "output_type": "execute_result"
    }
   ],
   "source": [
    "scores_df"
   ]
  },
  {
   "cell_type": "code",
   "execution_count": null,
   "id": "0b2196d2",
   "metadata": {
    "id": "0b2196d2",
    "outputId": "5c943562-0938-456c-fdf3-f5eefc807926"
   },
   "outputs": [
    {
     "data": {
      "text/html": [
       "<div>\n",
       "<style scoped>\n",
       "    .dataframe tbody tr th:only-of-type {\n",
       "        vertical-align: middle;\n",
       "    }\n",
       "\n",
       "    .dataframe tbody tr th {\n",
       "        vertical-align: top;\n",
       "    }\n",
       "\n",
       "    .dataframe thead th {\n",
       "        text-align: right;\n",
       "    }\n",
       "</style>\n",
       "<table border=\"1\" class=\"dataframe\">\n",
       "  <thead>\n",
       "    <tr style=\"text-align: right;\">\n",
       "      <th></th>\n",
       "      <th>english</th>\n",
       "      <th>mathematics</th>\n",
       "      <th>english_deviation</th>\n",
       "      <th>mathematics_deviation</th>\n",
       "      <th>product of deviations</th>\n",
       "    </tr>\n",
       "    <tr>\n",
       "      <th>student</th>\n",
       "      <th></th>\n",
       "      <th></th>\n",
       "      <th></th>\n",
       "      <th></th>\n",
       "      <th></th>\n",
       "    </tr>\n",
       "  </thead>\n",
       "  <tbody>\n",
       "    <tr>\n",
       "      <th>A</th>\n",
       "      <td>42</td>\n",
       "      <td>65</td>\n",
       "      <td>-13.0</td>\n",
       "      <td>-6.4</td>\n",
       "      <td>83.2</td>\n",
       "    </tr>\n",
       "    <tr>\n",
       "      <th>B</th>\n",
       "      <td>69</td>\n",
       "      <td>80</td>\n",
       "      <td>14.0</td>\n",
       "      <td>8.6</td>\n",
       "      <td>120.4</td>\n",
       "    </tr>\n",
       "    <tr>\n",
       "      <th>C</th>\n",
       "      <td>56</td>\n",
       "      <td>63</td>\n",
       "      <td>1.0</td>\n",
       "      <td>-8.4</td>\n",
       "      <td>-8.4</td>\n",
       "    </tr>\n",
       "    <tr>\n",
       "      <th>D</th>\n",
       "      <td>41</td>\n",
       "      <td>76</td>\n",
       "      <td>-14.0</td>\n",
       "      <td>4.6</td>\n",
       "      <td>-64.4</td>\n",
       "    </tr>\n",
       "    <tr>\n",
       "      <th>E</th>\n",
       "      <td>57</td>\n",
       "      <td>63</td>\n",
       "      <td>2.0</td>\n",
       "      <td>-8.4</td>\n",
       "      <td>-16.8</td>\n",
       "    </tr>\n",
       "    <tr>\n",
       "      <th>F</th>\n",
       "      <td>48</td>\n",
       "      <td>60</td>\n",
       "      <td>-7.0</td>\n",
       "      <td>-11.4</td>\n",
       "      <td>79.8</td>\n",
       "    </tr>\n",
       "    <tr>\n",
       "      <th>G</th>\n",
       "      <td>65</td>\n",
       "      <td>81</td>\n",
       "      <td>10.0</td>\n",
       "      <td>9.6</td>\n",
       "      <td>96.0</td>\n",
       "    </tr>\n",
       "    <tr>\n",
       "      <th>H</th>\n",
       "      <td>49</td>\n",
       "      <td>78</td>\n",
       "      <td>-6.0</td>\n",
       "      <td>6.6</td>\n",
       "      <td>-39.6</td>\n",
       "    </tr>\n",
       "    <tr>\n",
       "      <th>I</th>\n",
       "      <td>65</td>\n",
       "      <td>82</td>\n",
       "      <td>10.0</td>\n",
       "      <td>10.6</td>\n",
       "      <td>106.0</td>\n",
       "    </tr>\n",
       "    <tr>\n",
       "      <th>J</th>\n",
       "      <td>58</td>\n",
       "      <td>66</td>\n",
       "      <td>3.0</td>\n",
       "      <td>-5.4</td>\n",
       "      <td>-16.2</td>\n",
       "    </tr>\n",
       "  </tbody>\n",
       "</table>\n",
       "</div>"
      ],
      "text/plain": [
       "         english  mathematics  english_deviation  mathematics_deviation  \\\n",
       "student                                                                   \n",
       "A             42           65              -13.0                   -6.4   \n",
       "B             69           80               14.0                    8.6   \n",
       "C             56           63                1.0                   -8.4   \n",
       "D             41           76              -14.0                    4.6   \n",
       "E             57           63                2.0                   -8.4   \n",
       "F             48           60               -7.0                  -11.4   \n",
       "G             65           81               10.0                    9.6   \n",
       "H             49           78               -6.0                    6.6   \n",
       "I             65           82               10.0                   10.6   \n",
       "J             58           66                3.0                   -5.4   \n",
       "\n",
       "         product of deviations  \n",
       "student                         \n",
       "A                         83.2  \n",
       "B                        120.4  \n",
       "C                         -8.4  \n",
       "D                        -64.4  \n",
       "E                        -16.8  \n",
       "F                         79.8  \n",
       "G                         96.0  \n",
       "H                        -39.6  \n",
       "I                        106.0  \n",
       "J                        -16.2  "
      ]
     },
     "execution_count": 24,
     "metadata": {},
     "output_type": "execute_result"
    }
   ],
   "source": [
    "# 공분산 계산 방법(직접 계산)\n",
    "summary_df = scores_df.copy()\n",
    "summary_df['english_deviation'] = \\\n",
    "    summary_df['english'] - summary_df['english'].mean()\n",
    "summary_df['mathematics_deviation']  = \\\n",
    "    summary_df['mathematics'] - summary_df['mathematics'].mean()\n",
    "summary_df['product of deviations'] = \\\n",
    "    summary_df['english_deviation'] * summary_df['mathematics_deviation']\n",
    "summary_df"
   ]
  },
  {
   "cell_type": "code",
   "execution_count": null,
   "id": "dfb85833",
   "metadata": {
    "id": "dfb85833",
    "outputId": "e979834e-866c-4d33-dcd6-066e921af7c6"
   },
   "outputs": [
    {
     "data": {
      "text/plain": [
       "34.000"
      ]
     },
     "execution_count": 25,
     "metadata": {},
     "output_type": "execute_result"
    }
   ],
   "source": [
    "summary_df['product of deviations'].mean()"
   ]
  },
  {
   "cell_type": "code",
   "execution_count": null,
   "id": "c13491bc",
   "metadata": {
    "id": "c13491bc",
    "outputId": "93092804-9d17-4939-e0fb-5cccee70be11"
   },
   "outputs": [
    {
     "data": {
      "text/plain": [
       "array([[86.  , 34.  ],\n",
       "       [34.  , 68.44]])"
      ]
     },
     "execution_count": 27,
     "metadata": {},
     "output_type": "execute_result"
    }
   ],
   "source": [
    "# 공분산 계산 방법(numpy)\n",
    "# numpy.cov 사용 -> 공분산 행렬(Covariance Matrix)로 표현됨\n",
    "\n",
    "np.cov(summary_df['english'], summary_df['mathematics'], ddof=0)"
   ]
  },
  {
   "cell_type": "code",
   "execution_count": null,
   "id": "e224a3b5",
   "metadata": {
    "id": "e224a3b5",
    "outputId": "f51e107d-891f-48ff-865e-a06642265fa2"
   },
   "outputs": [
    {
     "data": {
      "text/plain": [
       "86.000"
      ]
     },
     "metadata": {},
     "output_type": "display_data"
    },
    {
     "data": {
      "text/plain": [
       "68.440"
      ]
     },
     "metadata": {},
     "output_type": "display_data"
    }
   ],
   "source": [
    "# 영어, 수학 분산\n",
    "display(np.var(summary_df['english'], ddof=0))\n",
    "display(np.var(summary_df['mathematics'], ddof=0))"
   ]
  },
  {
   "cell_type": "code",
   "execution_count": null,
   "id": "dfea98ca",
   "metadata": {
    "id": "dfea98ca"
   },
   "outputs": [],
   "source": [
    "# 단위에 의존하지 않는 상관을 나타내는 지표가 필요 -> 상관계수\n",
    "# 상관계수"
   ]
  },
  {
   "cell_type": "code",
   "execution_count": null,
   "id": "cfe88d00",
   "metadata": {
    "id": "cfe88d00",
    "outputId": "52778f60-264b-48b9-9820-9f7f90db9ae9"
   },
   "outputs": [
    {
     "data": {
      "text/plain": [
       "0.443"
      ]
     },
     "execution_count": 41,
     "metadata": {},
     "output_type": "execute_result"
    }
   ],
   "source": [
    "# 상관계수 계산 방법(직접 계산)\n",
    "# 영어와 수학의 Convariance / (영어 표준편차 * 수학 표준편차)\n",
    "\n",
    "np.cov(summary_df['english'], summary_df['mathematics'], ddof=0)[0,1] / (np.std(summary_df['english']) * np.std(summary_df['mathematics']))"
   ]
  },
  {
   "cell_type": "code",
   "execution_count": null,
   "id": "5d6cf380",
   "metadata": {
    "id": "5d6cf380",
    "outputId": "b326e6ec-582c-407e-c9d3-841f0e49a60d"
   },
   "outputs": [
    {
     "data": {
      "text/plain": [
       "0.443"
      ]
     },
     "execution_count": 42,
     "metadata": {},
     "output_type": "execute_result"
    }
   ],
   "source": [
    "# 상관계수 계산 방법(numpy)\n",
    "# numpy.corrcoef() 함수 사용 -> matrix\n",
    "np.corrcoef(summary_df['english'], summary_df['mathematics'])[0,1]"
   ]
  },
  {
   "cell_type": "code",
   "execution_count": null,
   "id": "8563a3df",
   "metadata": {
    "id": "8563a3df",
    "outputId": "82d8761c-120b-4284-c730-d4ba95b32518"
   },
   "outputs": [
    {
     "data": {
      "text/html": [
       "<div>\n",
       "<style scoped>\n",
       "    .dataframe tbody tr th:only-of-type {\n",
       "        vertical-align: middle;\n",
       "    }\n",
       "\n",
       "    .dataframe tbody tr th {\n",
       "        vertical-align: top;\n",
       "    }\n",
       "\n",
       "    .dataframe thead th {\n",
       "        text-align: right;\n",
       "    }\n",
       "</style>\n",
       "<table border=\"1\" class=\"dataframe\">\n",
       "  <thead>\n",
       "    <tr style=\"text-align: right;\">\n",
       "      <th></th>\n",
       "      <th>english</th>\n",
       "      <th>mathematics</th>\n",
       "    </tr>\n",
       "  </thead>\n",
       "  <tbody>\n",
       "    <tr>\n",
       "      <th>english</th>\n",
       "      <td>1.000</td>\n",
       "      <td>0.443</td>\n",
       "    </tr>\n",
       "    <tr>\n",
       "      <th>mathematics</th>\n",
       "      <td>0.443</td>\n",
       "      <td>1.000</td>\n",
       "    </tr>\n",
       "  </tbody>\n",
       "</table>\n",
       "</div>"
      ],
      "text/plain": [
       "             english  mathematics\n",
       "english        1.000        0.443\n",
       "mathematics    0.443        1.000"
      ]
     },
     "execution_count": 44,
     "metadata": {},
     "output_type": "execute_result"
    }
   ],
   "source": [
    "# 상관계수 계산 방법(pandas)\n",
    "scores_df.corr()"
   ]
  },
  {
   "cell_type": "markdown",
   "id": "035becbb",
   "metadata": {
    "id": "035becbb"
   },
   "source": [
    "#### 산점도, 회귀직선"
   ]
  },
  {
   "cell_type": "code",
   "execution_count": null,
   "id": "a9e312b8",
   "metadata": {
    "id": "a9e312b8",
    "outputId": "d4c7cfca-7f46-4124-ad83-2ba7fb02e087"
   },
   "outputs": [
    {
     "data": {
      "image/png": "[encoded data removed]",
      "text/plain": [
       "<Figure size 576x576 with 1 Axes>"
      ]
     },
     "metadata": {
      "needs_background": "light"
     },
     "output_type": "display_data"
    }
   ],
   "source": [
    "# 산점도 시각화\n",
    "\n",
    "fig = plt.figure(figsize=(8,8))\n",
    "ax = fig.add_subplot(1,1,1)\n",
    "\n",
    "ax.scatter(scores_df.english, scores_df.mathematics)\n",
    "ax.set_xlabel('english')\n",
    "ax.set_ylabel('mathematics')\n",
    "\n",
    "plt.show()"
   ]
  },
  {
   "cell_type": "code",
   "execution_count": null,
   "id": "cdb73f86",
   "metadata": {
    "id": "cdb73f86"
   },
   "outputs": [],
   "source": [
    "# 회귀직선 : 1차 함수를 최대한 만족하는 직선을 찾는 것\n",
    "# numpy.ployfit(), numpy.poly1d 활용"
   ]
  },
  {
   "cell_type": "code",
   "execution_count": null,
   "id": "c32d3da8",
   "metadata": {
    "id": "c32d3da8",
    "outputId": "7c367d16-3de3-47be-c4a1-8467043a5a90"
   },
   "outputs": [
    {
     "data": {
      "text/plain": [
       "array([ 0.395, 49.656])"
      ]
     },
     "execution_count": 49,
     "metadata": {},
     "output_type": "execute_result"
    }
   ],
   "source": [
    "# 회귀직선 계산방법\n",
    "\n",
    "# 계수 beta_0과 beta_1을 구한다\n",
    "poly_fit = np.polyfit(scores_df.english, scores_df.mathematics, 1)\n",
    "\n",
    "# beta_0 + beta_1 * x를 반환하는 함수 작성\n",
    "poly_1d = np.poly1d(poly_fit)\n",
    "\n",
    "# 직선을 그리기 위해 x좌표 생성\n",
    "xs= np.linspace(scores_df.english.min(), scores_df.english.max())\n",
    "\n",
    "# xs에 대응하는 y좌표 연산\n",
    "ys = poly_1d(xs)\n",
    "\n",
    "poly_fit"
   ]
  },
  {
   "cell_type": "code",
   "execution_count": null,
   "id": "4946e44d",
   "metadata": {
    "id": "4946e44d",
    "outputId": "57936d03-bb34-4b4b-fe58-d82e2c87b472"
   },
   "outputs": [
    {
     "data": {
      "image/png": "[encoded data removed]",
      "text/plain": [
       "<Figure size 576x576 with 1 Axes>"
      ]
     },
     "metadata": {
      "needs_background": "light"
     },
     "output_type": "display_data"
    }
   ],
   "source": [
    "# 회귀직선 시각화\n",
    "fig = plt.figure(figsize = (8,8))\n",
    "ax = fig.add_subplot(1,1,1)\n",
    "ax.scatter(scores_df.english, scores_df.mathematics, label = 'score')\n",
    "ax.plot(\n",
    "    xs, ys, color='gray',\n",
    "    label = f'{poly_fit[1]:.2f}+{poly_fit[0]:.2f}x'\n",
    ")\n",
    "ax.set_xlabel('english')\n",
    "ax.set_ylabel('mathematics')\n",
    "\n",
    "#범례 표시\n",
    "ax.legend(loc='upper left')\n",
    "\n",
    "plt.show()"
   ]
  },
  {
   "cell_type": "code",
   "execution_count": null,
   "id": "13824cdd",
   "metadata": {
    "id": "13824cdd",
    "outputId": "ebb796d9-22b8-43a0-f965-f35f7dc7a4dd"
   },
   "outputs": [
    {
     "data": {
      "image/png": "[encoded data removed]",
      "text/plain": [
       "<Figure size 720x576 with 2 Axes>"
      ]
     },
     "metadata": {
      "needs_background": "light"
     },
     "output_type": "display_data"
    }
   ],
   "source": [
    "# 히트맵 시각화\n",
    "\n",
    "fig = plt.figure(figsize=(10,8))\n",
    "ax = fig.add_subplot(1,1,1)\n",
    "\n",
    "c = ax.hist2d(\n",
    "    scores_df.english, scores_df.mathematics,\n",
    "    bins =[6,5], range = [(40,70), (60,85)]\n",
    ")\n",
    "ax.set_xlabel('english')\n",
    "ax.set_ylabel('mathematics')\n",
    "ax.set_xticks(c[1])\n",
    "ax.set_yticks(c[2])\n",
    "\n",
    "# 컬러 바 표시\n",
    "fig.colorbar(c[3], ax=ax)\n",
    "plt.show()"
   ]
  }
 ],
 "metadata": {
  "colab": {
   "collapsed_sections": [],
   "name": "20220510-2차원 데이터 분석.ipynb",
   "provenance": []
  },
  "kernelspec": {
   "display_name": "Python 3 (ipykernel)",
   "language": "python",
   "name": "python3"
  },
  "language_info": {
   "codemirror_mode": {
    "name": "ipython",
    "version": 3
   },
   "file_extension": ".py",
   "mimetype": "text/x-python",
   "name": "python",
   "nbconvert_exporter": "python",
   "pygments_lexer": "ipython3",
   "version": "3.8.13"
  }
 },
 "nbformat": 4,
 "nbformat_minor": 5
}
