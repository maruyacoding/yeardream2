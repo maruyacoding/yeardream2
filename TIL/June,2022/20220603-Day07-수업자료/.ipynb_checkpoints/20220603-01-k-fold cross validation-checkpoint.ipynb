{
 "cells": [
  {
   "cell_type": "markdown",
   "metadata": {},
   "source": [
    "1. Regression\n",
    "2. Classification\n",
    "3. Clustering"
   ]
  },
  {
   "cell_type": "markdown",
   "metadata": {
    "id": "UWcYQUUDDQ10"
   },
   "source": [
    "# k-fold\n",
    "- 교차 검증을 통해 모델의 과적합 정도를 판단할수 있습니다.\n",
    "- https://scikit-learn.org/stable/modules/cross_validation.html\n",
    "\n",
    "- 장점\n",
    "    - 특정 데이터셋이대한 과적합 방지(Overfitting)\n",
    "    - 더욱 일반화된 모델 생성 가능\n",
    "    - 데이터셋 규모가 적을때 과소적합 방지(Underfitting)\n",
    "- 단점\n",
    "    - 모델 훈련 및 평가 소요시간 증가(반복학습 횟수 증가) -> 병렬학습\n",
    "    \n",
    "    \n",
    "- 시계열 데이터에서는 사용하면 안됨!! (서로에게 영향이 있는 데이터인 경우)"
   ]
  },
  {
   "cell_type": "markdown",
   "metadata": {
    "id": "ojDMuurxDQ14"
   },
   "source": [
    "## 1. 데이터 로드"
   ]
  },
  {
   "cell_type": "code",
   "execution_count": 1,
   "metadata": {
    "executionInfo": {
     "elapsed": 761,
     "status": "ok",
     "timestamp": 1652422476083,
     "user": {
      "displayName": "Doojin Park",
      "userId": "13081019711214908217"
     },
     "user_tz": -540
    },
    "id": "YZmuspa_DegP"
   },
   "outputs": [],
   "source": [
    "import pandas as pd"
   ]
  },
  {
   "cell_type": "code",
   "execution_count": 4,
   "metadata": {
    "colab": {
     "base_uri": "https://localhost:8080/",
     "height": 81
    },
    "executionInfo": {
     "elapsed": 312,
     "status": "ok",
     "timestamp": 1652422477597,
     "user": {
      "displayName": "Doojin Park",
      "userId": "13081019711214908217"
     },
     "user_tz": -540
    },
    "id": "GfMqfWcVDdHX",
    "outputId": "e9d79a19-2e0c-436d-847f-aef804d8e9b2"
   },
   "outputs": [
    {
     "data": {
      "text/html": [
       "<div>\n",
       "<style scoped>\n",
       "    .dataframe tbody tr th:only-of-type {\n",
       "        vertical-align: middle;\n",
       "    }\n",
       "\n",
       "    .dataframe tbody tr th {\n",
       "        vertical-align: top;\n",
       "    }\n",
       "\n",
       "    .dataframe thead th {\n",
       "        text-align: right;\n",
       "    }\n",
       "</style>\n",
       "<table border=\"1\" class=\"dataframe\">\n",
       "  <thead>\n",
       "    <tr style=\"text-align: right;\">\n",
       "      <th></th>\n",
       "      <th>PassengerId</th>\n",
       "      <th>Survived</th>\n",
       "      <th>Pclass</th>\n",
       "      <th>Name</th>\n",
       "      <th>Sex</th>\n",
       "      <th>Age</th>\n",
       "      <th>SibSp</th>\n",
       "      <th>Parch</th>\n",
       "      <th>Ticket</th>\n",
       "      <th>Fare</th>\n",
       "      <th>Cabin</th>\n",
       "      <th>Embarked</th>\n",
       "    </tr>\n",
       "  </thead>\n",
       "  <tbody>\n",
       "    <tr>\n",
       "      <th>890</th>\n",
       "      <td>891</td>\n",
       "      <td>0</td>\n",
       "      <td>3</td>\n",
       "      <td>Dooley, Mr. Patrick</td>\n",
       "      <td>male</td>\n",
       "      <td>32.0</td>\n",
       "      <td>0</td>\n",
       "      <td>0</td>\n",
       "      <td>370376</td>\n",
       "      <td>7.75</td>\n",
       "      <td>NaN</td>\n",
       "      <td>Q</td>\n",
       "    </tr>\n",
       "  </tbody>\n",
       "</table>\n",
       "</div>"
      ],
      "text/plain": [
       "     PassengerId  Survived  Pclass                 Name   Sex   Age  SibSp  \\\n",
       "890          891         0       3  Dooley, Mr. Patrick  male  32.0      0   \n",
       "\n",
       "     Parch  Ticket  Fare Cabin Embarked  \n",
       "890      0  370376  7.75   NaN        Q  "
      ]
     },
     "execution_count": 4,
     "metadata": {},
     "output_type": "execute_result"
    }
   ],
   "source": [
    "df = pd.read_csv(\"./data/titanic_train.csv\")\n",
    "df.tail(1)"
   ]
  },
  {
   "cell_type": "markdown",
   "metadata": {
    "id": "dIjixslzDQ16"
   },
   "source": [
    "## 2. 데이터 전처리"
   ]
  },
  {
   "cell_type": "code",
   "execution_count": 5,
   "metadata": {
    "colab": {
     "base_uri": "https://localhost:8080/",
     "height": 81
    },
    "executionInfo": {
     "elapsed": 7,
     "status": "ok",
     "timestamp": 1652422498747,
     "user": {
      "displayName": "Doojin Park",
      "userId": "13081019711214908217"
     },
     "user_tz": -540
    },
    "id": "wgcf2Zn2DQ16",
    "outputId": "0017294b-2750-4530-c0a0-d6310bb64686"
   },
   "outputs": [
    {
     "data": {
      "text/html": [
       "<div>\n",
       "<style scoped>\n",
       "    .dataframe tbody tr th:only-of-type {\n",
       "        vertical-align: middle;\n",
       "    }\n",
       "\n",
       "    .dataframe tbody tr th {\n",
       "        vertical-align: top;\n",
       "    }\n",
       "\n",
       "    .dataframe thead th {\n",
       "        text-align: right;\n",
       "    }\n",
       "</style>\n",
       "<table border=\"1\" class=\"dataframe\">\n",
       "  <thead>\n",
       "    <tr style=\"text-align: right;\">\n",
       "      <th></th>\n",
       "      <th>Survived</th>\n",
       "      <th>Pclass</th>\n",
       "      <th>Age</th>\n",
       "      <th>SibSp</th>\n",
       "      <th>Parch</th>\n",
       "      <th>Fare</th>\n",
       "      <th>female</th>\n",
       "      <th>male</th>\n",
       "      <th>C</th>\n",
       "      <th>Q</th>\n",
       "      <th>S</th>\n",
       "    </tr>\n",
       "  </thead>\n",
       "  <tbody>\n",
       "    <tr>\n",
       "      <th>711</th>\n",
       "      <td>0</td>\n",
       "      <td>3</td>\n",
       "      <td>32.0</td>\n",
       "      <td>0</td>\n",
       "      <td>0</td>\n",
       "      <td>7.75</td>\n",
       "      <td>0</td>\n",
       "      <td>1</td>\n",
       "      <td>0</td>\n",
       "      <td>1</td>\n",
       "      <td>0</td>\n",
       "    </tr>\n",
       "  </tbody>\n",
       "</table>\n",
       "</div>"
      ],
      "text/plain": [
       "     Survived  Pclass   Age  SibSp  Parch  Fare  female  male  C  Q  S\n",
       "711         0       3  32.0      0      0  7.75       0     1  0  1  0"
      ]
     },
     "execution_count": 5,
     "metadata": {},
     "output_type": "execute_result"
    }
   ],
   "source": [
    "df = pd.read_csv(\"./data/titanic_train.csv\")\n",
    "\n",
    "# 필요한 컬럼만 필터링\n",
    "columns = ['Survived', 'Pclass', 'Sex', 'Age', 'SibSp', 'Parch', 'Fare', 'Embarked']\n",
    "df = df[columns]\n",
    "\n",
    "# 결측 데이터 제거\n",
    "df.dropna(inplace=True)\n",
    "df.reset_index(drop=True, inplace=True)\n",
    "\n",
    "# sex, embarked : 더미변수화\n",
    "dummy_sex = pd.get_dummies(df[\"Sex\"])\n",
    "dummy_embarked = pd.get_dummies(df[\"Embarked\"])\n",
    "df = pd.concat([df, dummy_sex, dummy_embarked], axis=1).drop(columns=[\"Sex\", \"Embarked\"])\n",
    "\n",
    "df.tail(1)"
   ]
  },
  {
   "cell_type": "markdown",
   "metadata": {
    "id": "ofyU31X_DQ17"
   },
   "source": [
    "## 3. 데이터셋 나누기"
   ]
  },
  {
   "cell_type": "code",
   "execution_count": 6,
   "metadata": {
    "executionInfo": {
     "elapsed": 741,
     "status": "ok",
     "timestamp": 1652422526576,
     "user": {
      "displayName": "Doojin Park",
      "userId": "13081019711214908217"
     },
     "user_tz": -540
    },
    "id": "GL1aujDrDQ17"
   },
   "outputs": [],
   "source": [
    "from sklearn.model_selection import train_test_split"
   ]
  },
  {
   "cell_type": "code",
   "execution_count": 7,
   "metadata": {
    "executionInfo": {
     "elapsed": 2,
     "status": "ok",
     "timestamp": 1652422528325,
     "user": {
      "displayName": "Doojin Park",
      "userId": "13081019711214908217"
     },
     "user_tz": -540
    },
    "id": "nnX10F2bDQ18"
   },
   "outputs": [],
   "source": [
    "df_x = df.drop(columns=[\"Survived\"])\n",
    "df_y = df[\"Survived\"]"
   ]
  },
  {
   "cell_type": "code",
   "execution_count": 8,
   "metadata": {
    "colab": {
     "base_uri": "https://localhost:8080/"
    },
    "executionInfo": {
     "elapsed": 436,
     "status": "ok",
     "timestamp": 1652422529177,
     "user": {
      "displayName": "Doojin Park",
      "userId": "13081019711214908217"
     },
     "user_tz": -540
    },
    "id": "UEGojOchDQ18",
    "outputId": "15e9eaf8-3b5d-44a7-81e8-336c0df33991"
   },
   "outputs": [
    {
     "data": {
      "text/plain": [
       "(569, 143, 569, 143)"
      ]
     },
     "execution_count": 8,
     "metadata": {},
     "output_type": "execute_result"
    }
   ],
   "source": [
    "train_x, test_x, train_y, test_y = train_test_split(df_x, df_y, test_size=0.2, random_state=1)\n",
    "len(train_x), len(test_x), len(train_y), len(test_y)"
   ]
  },
  {
   "cell_type": "markdown",
   "metadata": {
    "id": "CA88dkVzDQ19"
   },
   "source": [
    "## 4. 모델링"
   ]
  },
  {
   "cell_type": "markdown",
   "metadata": {
    "id": "m0O-yRYfDQ19"
   },
   "source": [
    "### 4.1 decision tree"
   ]
  },
  {
   "cell_type": "code",
   "execution_count": 9,
   "metadata": {
    "executionInfo": {
     "elapsed": 633,
     "status": "ok",
     "timestamp": 1652422547777,
     "user": {
      "displayName": "Doojin Park",
      "userId": "13081019711214908217"
     },
     "user_tz": -540
    },
    "id": "neekeh5fDQ1-"
   },
   "outputs": [],
   "source": [
    "from sklearn.tree import DecisionTreeClassifier"
   ]
  },
  {
   "cell_type": "code",
   "execution_count": 10,
   "metadata": {
    "executionInfo": {
     "elapsed": 312,
     "status": "ok",
     "timestamp": 1652422556572,
     "user": {
      "displayName": "Doojin Park",
      "userId": "13081019711214908217"
     },
     "user_tz": -540
    },
    "id": "t490Nz7vDyhD"
   },
   "outputs": [],
   "source": [
    "import numpy as np"
   ]
  },
  {
   "cell_type": "code",
   "execution_count": 11,
   "metadata": {
    "colab": {
     "base_uri": "https://localhost:8080/"
    },
    "executionInfo": {
     "elapsed": 3,
     "status": "ok",
     "timestamp": 1652422557828,
     "user": {
      "displayName": "Doojin Park",
      "userId": "13081019711214908217"
     },
     "user_tz": -540
    },
    "id": "zvgZpnqvDQ1-",
    "outputId": "dfda1507-370f-4073-f04c-145f42f9f295"
   },
   "outputs": [
    {
     "data": {
      "text/plain": [
       "78.32"
      ]
     },
     "execution_count": 11,
     "metadata": {},
     "output_type": "execute_result"
    }
   ],
   "source": [
    "dt_model = DecisionTreeClassifier(random_state=0).fit(train_x, train_y)\n",
    "score = dt_model.score(test_x, test_y) * 100\n",
    "np.round(score, 2)"
   ]
  },
  {
   "cell_type": "markdown",
   "metadata": {
    "id": "KQbzG2sIDQ1-"
   },
   "source": [
    "### 4.2 random forest"
   ]
  },
  {
   "cell_type": "code",
   "execution_count": 12,
   "metadata": {
    "executionInfo": {
     "elapsed": 4,
     "status": "ok",
     "timestamp": 1652422567755,
     "user": {
      "displayName": "Doojin Park",
      "userId": "13081019711214908217"
     },
     "user_tz": -540
    },
    "id": "DL8msgkuDQ1_"
   },
   "outputs": [],
   "source": [
    "from sklearn.ensemble import RandomForestClassifier"
   ]
  },
  {
   "cell_type": "code",
   "execution_count": 13,
   "metadata": {
    "colab": {
     "base_uri": "https://localhost:8080/"
    },
    "executionInfo": {
     "elapsed": 408,
     "status": "ok",
     "timestamp": 1652422568160,
     "user": {
      "displayName": "Doojin Park",
      "userId": "13081019711214908217"
     },
     "user_tz": -540
    },
    "id": "m1BzcGjjDQ1_",
    "outputId": "c37510c9-bd14-4ea2-e553-4145b3b3e2a3"
   },
   "outputs": [
    {
     "data": {
      "text/plain": [
       "76.92"
      ]
     },
     "execution_count": 13,
     "metadata": {},
     "output_type": "execute_result"
    }
   ],
   "source": [
    "rf_model = RandomForestClassifier(random_state=0).fit(train_x, train_y)\n",
    "score = rf_model.score(test_x, test_y) * 100\n",
    "np.round(score, 2)\n",
    "# 데이터 수가 적고, feature가 많지 않아서 Decision Tree보다 성능이 낮게 나옴!"
   ]
  },
  {
   "cell_type": "markdown",
   "metadata": {
    "id": "ZdQQhTSXDQ1_"
   },
   "source": [
    "## 5. k-fold cross validation score\n",
    "- https://scikit-learn.org/stable/modules/cross_validation.html\n",
    "- 분산이 크면 데이터에 따라서 모델의 정확도 차이가 크므로 과적합의 위험이 크다.\n",
    "- 모델링 결과에서 Decision Tree 알고리즘이 정확도가 더 높게 나왔지만 cross validation score로 확인해보면 random forest가 더 높다.\n",
    "- Decision Tree 모델의 결과가 과적합될 가능성이 크다."
   ]
  },
  {
   "cell_type": "code",
   "execution_count": 14,
   "metadata": {
    "executionInfo": {
     "elapsed": 282,
     "status": "ok",
     "timestamp": 1652422628559,
     "user": {
      "displayName": "Doojin Park",
      "userId": "13081019711214908217"
     },
     "user_tz": -540
    },
    "id": "WbjKRMWODQ1_"
   },
   "outputs": [],
   "source": [
    "from sklearn.model_selection import cross_val_score"
   ]
  },
  {
   "cell_type": "markdown",
   "metadata": {
    "id": "SFUeuke6DQ2A"
   },
   "source": [
    "### 5.1 decision tree"
   ]
  },
  {
   "cell_type": "code",
   "execution_count": 15,
   "metadata": {
    "colab": {
     "base_uri": "https://localhost:8080/"
    },
    "executionInfo": {
     "elapsed": 278,
     "status": "ok",
     "timestamp": 1652422661834,
     "user": {
      "displayName": "Doojin Park",
      "userId": "13081019711214908217"
     },
     "user_tz": -540
    },
    "id": "KAd9fW7KDQ2A",
    "outputId": "0cc98b1b-6e44-4ae3-b03d-00fdcdcf71cd"
   },
   "outputs": [
    {
     "data": {
      "text/plain": [
       "(0.6714285714285715, 0.017310657596371883)"
      ]
     },
     "execution_count": 15,
     "metadata": {},
     "output_type": "execute_result"
    }
   ],
   "source": [
    "# 학습된 데이터나 학습안된 데이터 사용하는 것은 둘다 상관없음!\n",
    "scores = cross_val_score(dt_model, test_x, test_y, cv=10) # cross validation 10번 시행\n",
    "scores.mean(), scores.var()\n",
    "# 성능 차이가 일정하지 않다."
   ]
  },
  {
   "cell_type": "markdown",
   "metadata": {
    "id": "ykEwerCiDQ2A"
   },
   "source": [
    "### 5.2 random forest"
   ]
  },
  {
   "cell_type": "code",
   "execution_count": 16,
   "metadata": {
    "colab": {
     "base_uri": "https://localhost:8080/"
    },
    "executionInfo": {
     "elapsed": 3569,
     "status": "ok",
     "timestamp": 1652422666791,
     "user": {
      "displayName": "Doojin Park",
      "userId": "13081019711214908217"
     },
     "user_tz": -540
    },
    "id": "Nkm-yB3rDQ2A",
    "outputId": "050ab2c0-4a9b-4ad4-813f-c7d9bb1e9546"
   },
   "outputs": [
    {
     "data": {
      "text/plain": [
       "(0.7285714285714285, 0.01384126984126984)"
      ]
     },
     "execution_count": 16,
     "metadata": {},
     "output_type": "execute_result"
    }
   ],
   "source": [
    "scores = cross_val_score(rf_model, test_x, test_y, cv=10) # cross validation 10번 시행\n",
    "scores.mean(), scores.var()"
   ]
  },
  {
   "cell_type": "code",
   "execution_count": null,
   "metadata": {
    "id": "t9wtEJNRENqa"
   },
   "outputs": [],
   "source": []
  }
 ],
 "metadata": {
  "colab": {
   "collapsed_sections": [],
   "name": "02_k-fold.ipynb",
   "provenance": []
  },
  "kernelspec": {
   "display_name": "Python 3 (ipykernel)",
   "language": "python",
   "name": "python3"
  },
  "language_info": {
   "codemirror_mode": {
    "name": "ipython",
    "version": 3
   },
   "file_extension": ".py",
   "mimetype": "text/x-python",
   "name": "python",
   "nbconvert_exporter": "python",
   "pygments_lexer": "ipython3",
   "version": "3.8.13"
  },
  "toc": {
   "base_numbering": 1,
   "nav_menu": {},
   "number_sections": false,
   "sideBar": true,
   "skip_h1_title": false,
   "title_cell": "Table of Contents",
   "title_sidebar": "Contents",
   "toc_cell": false,
   "toc_position": {},
   "toc_section_display": true,
   "toc_window_display": false
  }
 },
 "nbformat": 4,
 "nbformat_minor": 1
}
