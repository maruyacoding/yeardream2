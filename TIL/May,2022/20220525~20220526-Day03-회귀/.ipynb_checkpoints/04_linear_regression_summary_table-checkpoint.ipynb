{
 "cells": [
  {
   "cell_type": "markdown",
   "metadata": {
    "id": "uyHpTJWYyLkg"
   },
   "source": [
    "### 회귀분석 결과표 \n",
    "- 회귀분석 수행후 결과표가 갖는 의미를 확인합니다\n",
    "- 의미에 대한 자세한 내용은 뒤에 학습합니다."
   ]
  },
  {
   "cell_type": "code",
   "execution_count": null,
   "metadata": {
    "executionInfo": {
     "elapsed": 1079,
     "status": "ok",
     "timestamp": 1628836592843,
     "user": {
      "displayName": "Doojin Park",
      "photoUrl": "",
      "userId": "13081019711214908217"
     },
     "user_tz": -540
    },
    "id": "-bkiAj1YyLki"
   },
   "outputs": [],
   "source": [
    "%config InlineBackend.figure_formats = {'png', 'retina'}\n",
    "\n",
    "import numpy as np\n",
    "import pandas as pd\n",
    "import matplotlib as mpl\n",
    "import matplotlib.pyplot as plt\n",
    "import seaborn as sns\n",
    "import warnings\n",
    "warnings.filterwarnings('ignore')"
   ]
  },
  {
   "cell_type": "markdown",
   "metadata": {
    "id": "V_4GvdBnyLkj"
   },
   "source": [
    "#### Index\n",
    "- Sample Datas 생성\n",
    "- 결과표 출력\n",
    "- 결과표 해석"
   ]
  },
  {
   "cell_type": "code",
   "execution_count": null,
   "metadata": {
    "colab": {
     "base_uri": "https://localhost:8080/"
    },
    "executionInfo": {
     "elapsed": 1431,
     "status": "ok",
     "timestamp": 1628836596969,
     "user": {
      "displayName": "Doojin Park",
      "photoUrl": "",
      "userId": "13081019711214908217"
     },
     "user_tz": -540
    },
    "id": "d4jN15b-yLkk",
    "outputId": "b5695878-a10b-44dd-fdab-b2359d820388"
   },
   "outputs": [],
   "source": [
    "import statsmodels.api as sm\n",
    "from sklearn.datasets import make_regression"
   ]
  },
  {
   "cell_type": "markdown",
   "metadata": {
    "id": "U3WBBMBVyLkk"
   },
   "source": [
    "### 1. Sample Datas 생성\n",
    "- noise가 5인 샘플 데이터 생성\n",
    "- noise가 100인 샘플 데이터 생성\n",
    "- 정규분포 데이터 생성"
   ]
  },
  {
   "cell_type": "code",
   "execution_count": null,
   "metadata": {
    "executionInfo": {
     "elapsed": 485,
     "status": "ok",
     "timestamp": 1628836600768,
     "user": {
      "displayName": "Doojin Park",
      "photoUrl": "",
      "userId": "13081019711214908217"
     },
     "user_tz": -540
    },
    "id": "j1iIkPSmyLkk"
   },
   "outputs": [],
   "source": [
    "featrue_1, target_1 = make_regression(n_samples=20000, n_features=1, noise=5, random_state=1)\n",
    "featrue_2, target_2 = make_regression(n_samples=20000, n_features=1, noise=100, random_state=1)\n",
    "featrue_3, target_3 = np.random.randn(1000), np.random.randn(1000) # 정규분포로 생성"
   ]
  },
  {
   "cell_type": "markdown",
   "metadata": {
    "id": "TLqz3z_NyLkl"
   },
   "source": [
    "샘플 데이터의 그래프 그리기"
   ]
  },
  {
   "cell_type": "code",
   "execution_count": null,
   "metadata": {
    "colab": {
     "base_uri": "https://localhost:8080/",
     "height": 210
    },
    "executionInfo": {
     "elapsed": 1295,
     "status": "ok",
     "timestamp": 1628836679016,
     "user": {
      "displayName": "Doojin Park",
      "photoUrl": "",
      "userId": "13081019711214908217"
     },
     "user_tz": -540
    },
    "id": "ZyKFJ3oLyLkl",
    "outputId": "2508dc92-2fac-4cc4-96f5-bd1230124ac6"
   },
   "outputs": [],
   "source": [
    "plt.figure(figsize=(20, 3))\n",
    "\n",
    "plt.subplot(131)\n",
    "plt.scatter(featrue_1, target_1)\n",
    "\n",
    "plt.subplot(132)\n",
    "plt.scatter(featrue_2, target_2)\n",
    "\n",
    "plt.subplot(133)\n",
    "plt.scatter(featrue_3, target_3)\n",
    "\n",
    "plt.show()"
   ]
  },
  {
   "cell_type": "markdown",
   "metadata": {
    "id": "eEkpX00XyLkn"
   },
   "source": [
    "샘플 데이터를 이용한 선형회귀모델 생성"
   ]
  },
  {
   "cell_type": "code",
   "execution_count": null,
   "metadata": {
    "executionInfo": {
     "elapsed": 299,
     "status": "ok",
     "timestamp": 1628836735278,
     "user": {
      "displayName": "Doojin Park",
      "photoUrl": "",
      "userId": "13081019711214908217"
     },
     "user_tz": -540
    },
    "id": "6fw4bWgAyLkn"
   },
   "outputs": [],
   "source": [
    "train_featrue_1 = sm.add_constant(featrue_1)           # constant 값 추가\n",
    "model_1 = sm.OLS(target_1, train_featrue_1).fit()      # 모델 학습\n",
    "pred_datas_1 = np.dot(train_featrue_1, model_1.params) # 예측값 구하기\n",
    "\n",
    "train_featrue_2 = sm.add_constant(featrue_2)\n",
    "model_2 = sm.OLS(target_2, train_featrue_2).fit()\n",
    "pred_datas_2 = np.dot(train_featrue_2, model_2.params)\n",
    "\n",
    "train_featrue_3 = sm.add_constant(featrue_3)\n",
    "model_3 = sm.OLS(target_3, train_featrue_3).fit()\n",
    "pred_datas_3 = np.dot(train_featrue_3, model_3.params)"
   ]
  },
  {
   "cell_type": "markdown",
   "metadata": {
    "id": "8U3fOWoNyLko"
   },
   "source": [
    "### 2. 결과표 출력"
   ]
  },
  {
   "cell_type": "code",
   "execution_count": null,
   "metadata": {
    "colab": {
     "base_uri": "https://localhost:8080/"
    },
    "executionInfo": {
     "elapsed": 383,
     "status": "ok",
     "timestamp": 1628836765784,
     "user": {
      "displayName": "Doojin Park",
      "photoUrl": "",
      "userId": "13081019711214908217"
     },
     "user_tz": -540
    },
    "id": "OX1S_TXIyLko",
    "outputId": "4d7efdc9-6c58-4a48-ad40-aa5c0772270f"
   },
   "outputs": [],
   "source": [
    "print(model_1.summary2())"
   ]
  },
  {
   "cell_type": "code",
   "execution_count": null,
   "metadata": {
    "colab": {
     "base_uri": "https://localhost:8080/"
    },
    "executionInfo": {
     "elapsed": 355,
     "status": "ok",
     "timestamp": 1628836750097,
     "user": {
      "displayName": "Doojin Park",
      "photoUrl": "",
      "userId": "13081019711214908217"
     },
     "user_tz": -540
    },
    "id": "vDH9zmLOyLko",
    "outputId": "28e5298b-e32c-411c-f37f-37ee20b14d83"
   },
   "outputs": [],
   "source": [
    "print(model_2.summary2())"
   ]
  },
  {
   "cell_type": "code",
   "execution_count": null,
   "metadata": {
    "colab": {
     "base_uri": "https://localhost:8080/"
    },
    "executionInfo": {
     "elapsed": 6,
     "status": "ok",
     "timestamp": 1628836751778,
     "user": {
      "displayName": "Doojin Park",
      "photoUrl": "",
      "userId": "13081019711214908217"
     },
     "user_tz": -540
    },
    "id": "rpOf_0GkyLkp",
    "outputId": "a320342f-cfdb-429b-93e2-dc2442db2224"
   },
   "outputs": [],
   "source": [
    "print(model_3.summary2())"
   ]
  },
  {
   "cell_type": "markdown",
   "metadata": {
    "id": "uENm_Ng9yLkp"
   },
   "source": [
    "#### 결과표 정리"
   ]
  },
  {
   "cell_type": "markdown",
   "metadata": {
    "id": "Ay5W98wYyLkp"
   },
   "source": [
    "#### Sample Data 1\n",
    "\n",
    "```\n",
    "R-squared:     0.989\n",
    "\n",
    "            Coef.    Std.Err.       t       P>|t| \n",
    "--------------------------------------------------\n",
    "const      -0.0134     0.0354     -0.3800   0.7039\n",
    "x1         48.3830     0.0354   1368.6758   0.0000\n",
    "```"
   ]
  },
  {
   "cell_type": "markdown",
   "metadata": {
    "id": "rMqQeNn9yLkp"
   },
   "source": [
    "#### Sample Data 2\n",
    "\n",
    "```\n",
    "R-squared:     0.190\n",
    "\n",
    "            Coef.     Std.Err.       t       P>|t|\n",
    "--------------------------------------------------\n",
    "const    -0.2687      0.7070    -0.3800    0.7039 \n",
    "x1       48.4019      0.7070    68.4605    0.0000\n",
    "```"
   ]
  },
  {
   "cell_type": "markdown",
   "metadata": {
    "id": "LnIxjDkAyLkq"
   },
   "source": [
    "#### Sample Data 3\n",
    "\n",
    "```\n",
    "R-squared:     0.000\n",
    "\n",
    "         Coef.    Std.Err.      t      P>|t| \n",
    "---------------------------------------------\n",
    "const   -0.0417     0.0311   -1.3401   0.1805\n",
    "x1      -0.0037     0.0309   -0.1199   0.9046\n",
    "```"
   ]
  },
  {
   "cell_type": "markdown",
   "metadata": {
    "id": "waMRUfqkyLkq"
   },
   "source": [
    "### 3. 결과표 해석\n",
    "- 1. Coef.\n",
    "    - 회귀계수\n",
    "    - 추세선의 파라미터\n",
    "- 2. Std.Err.\n",
    "    - 표준오차\n",
    "    - 모집단의 여러개의 표본평균에 대한 표준편차\n",
    "        - 표준오차가 작으면 회귀계수가 우연일 확률이 낮다.\n",
    "        - 표준오차가 크면 회귀계수가 우연일 확률이 크다.\n",
    "- 3. t\n",
    "    - t-test\n",
    "    - 회귀계수가 우연인지 아닌지에 대한 확률(표준오차와 반대)\n",
    "        - t-test의 절대값이 클수록 우연일 확률이 낮다. (0과 멀리 떨어질수록)\n",
    "        - t-test의 절대값이 작을수록 우연일 확률이 크다. (0에 가까울수록)\n",
    "- 4. P>|t|\n",
    "    - 유의확률 : probability value\n",
    "    - 0.05 이하면 유의하다로 판단 \n",
    "    - 연구가설이 맞다는것을 증명\n",
    "- 5. R-squared\n",
    "    - 모델의 분산 설명력\n",
    "    - 높을수록 모델이 데이터를 잘 설명 -> 잘 예측"
   ]
  },
  {
   "cell_type": "markdown",
   "metadata": {
    "id": "FYb_GI3-yLkq"
   },
   "source": [
    "#### 3.1 회귀계수(Coef.)\n",
    "- $\\hat{y} = a + bx$\n",
    "- const : $a$ : 절편(constant)\n",
    "- x1 : $b$ : 기울기(slope)"
   ]
  },
  {
   "cell_type": "markdown",
   "metadata": {
    "id": "1FE52KC1yLkq"
   },
   "source": [
    "#### Sample Data 1\n",
    "\n",
    "```\n",
    "R-squared:     0.989\n",
    "\n",
    "            Coef.    Std.Err.       t       P>|t| \n",
    "--------------------------------------------------\n",
    "const      -0.0134     0.0354     -0.3800   0.7039\n",
    "x1         48.3830     0.0354   1368.6758   0.0000\n",
    "```"
   ]
  },
  {
   "cell_type": "markdown",
   "metadata": {
    "id": "-guiQ92zyLkq"
   },
   "source": [
    "#### 추세선 수식\n",
    "- $\\hat{y} = -0.0134 + 48.3830x$"
   ]
  },
  {
   "cell_type": "code",
   "execution_count": null,
   "metadata": {
    "colab": {
     "base_uri": "https://localhost:8080/",
     "height": 210
    },
    "executionInfo": {
     "elapsed": 25,
     "status": "ok",
     "timestamp": 1628812481469,
     "user": {
      "displayName": "Doojin Park",
      "photoUrl": "",
      "userId": "13081019711214908217"
     },
     "user_tz": -540
    },
    "id": "u-16oWmryLkr",
    "outputId": "720e5a5e-2907-4ea1-9a65-e121c2afb383"
   },
   "outputs": [],
   "source": [
    "plt.figure(figsize=(20, 3))\n",
    "\n",
    "plt.scatter(featrue_1, target_1)\n",
    "plt.plot(featrue_1, pred_datas_1, \"r-\")\n",
    "plt.show()"
   ]
  },
  {
   "cell_type": "markdown",
   "metadata": {
    "id": "5Xa4T8_lyLkr"
   },
   "source": [
    "#### 3.2 표준오차 ( Std.Err. )\n",
    "- 모집단에서 추출한 여러개의 표본에 대한 표본평균의 표준편차를 표준오차라고 합니다.\n",
    "- 회귀방정식은 비슷하지만 데이터의 퍼짐 정도가 다른 두개의 샘플 데이터(sample_1, sample_2)를 비교합니다.\n",
    "- 수식\n",
    "    - $ s(표준편차) = \\sqrt{\\frac{\\sum_{i=1}^n{(x_i-\\bar{x})^2}}{n}}, (\\bar{x}:평균) $\n",
    "    - $ SE = \\frac{s(표준편차)}{\\sqrt{n}} $"
   ]
  },
  {
   "cell_type": "markdown",
   "metadata": {
    "id": "mud16uQJyLkr"
   },
   "source": [
    "#### Sample Data 1\n",
    "\n",
    "```\n",
    "R-squared:     0.989\n",
    "\n",
    "            Coef.    Std.Err.       t       P>|t| \n",
    "--------------------------------------------------\n",
    "const      -0.0134     0.0354     -0.3800   0.7039\n",
    "x1         48.3830     0.0354   1368.6758   0.0000\n",
    "```"
   ]
  },
  {
   "cell_type": "markdown",
   "metadata": {
    "id": "8P2C32TxyLkr"
   },
   "source": [
    "#### Sample Data 2\n",
    "\n",
    "```\n",
    "R-squared:     0.190\n",
    "\n",
    "            Coef.     Std.Err.       t       P>|t|\n",
    "--------------------------------------------------\n",
    "const    -0.2687      0.7070    -0.3800    0.7039 \n",
    "x1       48.4019      0.7070    68.4605    0.0000\n",
    "```"
   ]
  },
  {
   "cell_type": "code",
   "execution_count": null,
   "metadata": {
    "colab": {
     "base_uri": "https://localhost:8080/",
     "height": 210
    },
    "executionInfo": {
     "elapsed": 24,
     "status": "ok",
     "timestamp": 1628812481470,
     "user": {
      "displayName": "Doojin Park",
      "photoUrl": "",
      "userId": "13081019711214908217"
     },
     "user_tz": -540
    },
    "id": "StyhRQEwyLkr",
    "outputId": "cad384b8-7b30-4216-a5d8-eee13e96f6f7"
   },
   "outputs": [],
   "source": [
    "plt.figure(figsize=(20, 3))\n",
    "\n",
    "plt.subplot(121)\n",
    "plt.scatter(featrue_1, target_1)\n",
    "plt.plot(featrue_1, pred_datas_1, \"r-\")\n",
    "\n",
    "plt.subplot(122)\n",
    "plt.scatter(featrue_2, target_2)\n",
    "plt.plot(featrue_2, pred_datas_2, \"r-\")\n",
    "\n",
    "plt.show()"
   ]
  },
  {
   "cell_type": "markdown",
   "metadata": {
    "id": "8NROzf5jyLks"
   },
   "source": [
    "#### 샘플데이터의 생성 및 회귀계수의 확인\n",
    "- 서로 다른 데이터지만 같은 추세선 방정식이 나옵니다.\n",
    "- $x$가 1증가 할때 $y$는 48.4이 증가합니다.\n",
    "- 좌측 데이터는 추세선에 모여있고, 우측에 있는 데이터는 추세선에서 퍼져있습니다.\n",
    "- 최소제곱법은 오차의 제곱합이 최소가 되는 추세선을 구해줄뿐 회귀계수가 우연인지(유의한지) 아닌지를 알수 없습니다.\n",
    "    - \"유의하다\"라는 표현은 해당 feature(독립변수)가 target(종속변수)에 의미가 있다라는 의미 입니다.\n",
    "- 48.4라는 회귀계수가 우연인지 아닌지 판단할때 표준오차를 사용합니다.\n",
    "    - 샘플 데이터의 표준 오차\n",
    "        - Sample Data 1 : 0.0354\n",
    "        - Sample Data 2 : 0.7070\n",
    "- 결론\n",
    "    - Sample Data 2의 표준오차가 크기 때문에 회귀계수 48.4은 Sample Data 1 보다 우연히 나온 결과일 확률이 높다고 할수 있습니다."
   ]
  },
  {
   "cell_type": "code",
   "execution_count": null,
   "metadata": {
    "colab": {
     "base_uri": "https://localhost:8080/"
    },
    "executionInfo": {
     "elapsed": 23,
     "status": "ok",
     "timestamp": 1628812481471,
     "user": {
      "displayName": "Doojin Park",
      "photoUrl": "",
      "userId": "13081019711214908217"
     },
     "user_tz": -540
    },
    "id": "tMJfEU6SyLks",
    "outputId": "807b2f75-f21f-4be2-c29b-a64a788bffbd"
   },
   "outputs": [],
   "source": [
    "# 추세선의 기울기값, 회귀계수 확인\n",
    "np.round(model_1.params[1], 1), np.round(model_2.params[1], 1)"
   ]
  },
  {
   "cell_type": "code",
   "execution_count": null,
   "metadata": {
    "colab": {
     "base_uri": "https://localhost:8080/"
    },
    "executionInfo": {
     "elapsed": 19,
     "status": "ok",
     "timestamp": 1628812481471,
     "user": {
      "displayName": "Doojin Park",
      "photoUrl": "",
      "userId": "13081019711214908217"
     },
     "user_tz": -540
    },
    "id": "94h96YxhyLks",
    "outputId": "467cd90f-7c34-4ccd-8477-ad1727c74f61"
   },
   "outputs": [],
   "source": [
    "# 모델의 표준오차 확인\n",
    "model_1.bse[1], model_2.bse[1]"
   ]
  },
  {
   "cell_type": "markdown",
   "metadata": {
    "id": "LpKjrzn-yLks"
   },
   "source": [
    "#### 3.3 t-test\n",
    "- 원래 t-test는 두개의 집단이 같은지 다른지를 확인하기 위해서 사용합니다.\n",
    "    - 두집단의 평균이 같으면 두집단은 같은 데이터 입니다.\n",
    "    - $H_0: Mean_1 - Mean_2 = 0$ : 같은 데이터\n",
    "    - $H_0: Mean_1 - Mean_2 \\neq 0$ : 다른 데이터\n",
    "- 회기분석에서의 t-test는 회귀계수가 우연인지 아닌지에 대한 확률을 구하는 방법입니다.\n",
    "    - 추세선 방정식 : $\\hat{y} = a + bx$\n",
    "    - 기울기 $b$ 가 0이면 독립변수와 종속변수는 아무런 관계가 없습니다.\n",
    "    - $H_0: b = 0$ : 독립변수와 종속변수가 관계 없음\n",
    "    - $H_0: b \\neq 0$ : 독립변수와 종속변수가 관계 있음"
   ]
  },
  {
   "cell_type": "code",
   "execution_count": null,
   "metadata": {
    "colab": {
     "base_uri": "https://localhost:8080/",
     "height": 210
    },
    "executionInfo": {
     "elapsed": 1481,
     "status": "ok",
     "timestamp": 1628812482935,
     "user": {
      "displayName": "Doojin Park",
      "photoUrl": "",
      "userId": "13081019711214908217"
     },
     "user_tz": -540
    },
    "id": "NIpxL6RjyLkt",
    "outputId": "c058c14c-a40e-4b9c-eaa6-bf36e61226ed"
   },
   "outputs": [],
   "source": [
    "plt.figure(figsize=(20, 3))\n",
    "\n",
    "plt.subplot(131)\n",
    "plt.scatter(featrue_1, target_1)\n",
    "plt.plot(featrue_1, pred_datas_1, \"r-\")\n",
    "\n",
    "plt.subplot(132)\n",
    "plt.scatter(featrue_2, target_2)\n",
    "plt.plot(featrue_2, pred_datas_2, \"r-\")\n",
    "\n",
    "plt.subplot(133)\n",
    "plt.scatter(featrue_3, target_3)\n",
    "plt.plot(featrue_3, pred_datas_3, \"r-\")\n",
    "\n",
    "plt.show()"
   ]
  },
  {
   "cell_type": "code",
   "execution_count": null,
   "metadata": {
    "colab": {
     "base_uri": "https://localhost:8080/"
    },
    "executionInfo": {
     "elapsed": 19,
     "status": "ok",
     "timestamp": 1628812482936,
     "user": {
      "displayName": "Doojin Park",
      "photoUrl": "",
      "userId": "13081019711214908217"
     },
     "user_tz": -540
    },
    "id": "p-pID-jwyLkt",
    "outputId": "a7005e57-74cf-45d3-fa0a-1f21ed0a2930"
   },
   "outputs": [],
   "source": [
    "# 추세선의 기울기값, 회귀계수 확인\n",
    "model_1.params[1], model_2.params[1], model_3.params[1]"
   ]
  },
  {
   "cell_type": "code",
   "execution_count": null,
   "metadata": {
    "colab": {
     "base_uri": "https://localhost:8080/"
    },
    "executionInfo": {
     "elapsed": 17,
     "status": "ok",
     "timestamp": 1628812482937,
     "user": {
      "displayName": "Doojin Park",
      "photoUrl": "",
      "userId": "13081019711214908217"
     },
     "user_tz": -540
    },
    "id": "6nTf_CidyLkt",
    "outputId": "0537e6ad-3bc1-4799-ca1a-21850919d8de"
   },
   "outputs": [],
   "source": [
    "# 모델의 표준오차 확인\n",
    "model_1.bse[1], model_2.bse[1], model_3.bse[1]"
   ]
  },
  {
   "cell_type": "markdown",
   "metadata": {
    "id": "yeMShwkqyLku"
   },
   "source": [
    "- Sample Data 1 은 유의 하다, Sample Data 2, Sample Data 3 은 유의하지 않습니다.\n",
    "- t-test 계산법\n",
    "    - $\\hat{y} = a + bx$\n",
    "    - t-value $ = \\frac{b}{SE_b} = \\frac{회기계수}{표준오차}$\n",
    "    - Sample Data 1 의 t-value = $ = \\frac{48.3830}{0.0354}$ = 1366.7514\n",
    "    - Sample Data 2 의 t-value = $ = \\frac{48.4019}{0.7070}$ = 68.4609\n",
    "    - Sample Data 3 의 t-value = $ = \\frac{-0.0037}{0.0309}$ = -0.1199"
   ]
  },
  {
   "cell_type": "markdown",
   "metadata": {
    "id": "ElX8E58LyLku"
   },
   "source": [
    "- Sample Data 3 해석\n",
    "    - 표준오차(0.0309)만 보면 유의미한 분석인것 같습니다.\n",
    "    - 회귀분석을할때 가장 먼저확인해 봐야하는것이 기울기($b$)가 0인지 아닌지를 확인해야 합니다.\n",
    "        - 기울기가 0이면 독립변수와 종속변수는 아무런 관계가 없다. -> 유의하지 않다.\n",
    "    - x 데이터가 y에 미치는 영향이 거의 0이므로 x 데이터는 y데이터에 영향을 거의 미치지 못합니다.\n",
    "    - x 데이터로 y 데이터의 예측이 거의 불가능하므로 y 값을 예측하는데 x 값은 의미가 없습니다.\n",
    "    - t-test 값도 $b$가 거의 0이기때문에 아주 낮게 나옵니다."
   ]
  },
  {
   "cell_type": "markdown",
   "metadata": {
    "id": "bm0zE45CyLku"
   },
   "source": [
    "#### 3.4 p-value\n",
    "- 어떤 사건이 우연히 발생할 확률\n",
    "- 0 ~ 1 사이의 값을 가짐\n",
    "- 0.05의 수치는 사건이 우연히 발생할 확률이 5%보다 작다라는 의미\n",
    "- t-test값이 낮을수록 p-value 값은 높아짐"
   ]
  },
  {
   "cell_type": "markdown",
   "metadata": {
    "id": "n-tLHa6RyLku"
   },
   "source": [
    "#### 3.5 R-squared\n",
    "- 회귀분석\n",
    "    - 종속변수와 독립변수의 인과관계를 논리적, 이론적으로 전제합니다.\n",
    "    - 회귀분석은 독립변수와 종속변수의 직선관계만 분석 가능합니다. (산포도 확인)\n",
    "    - 독립변수를 이용하여 종속변수를 설명합니다.\n",
    "    - 독립변수가 1 증가할때 종속변수는 회귀계수($b$)만큼 증가합니다.\n",
    "    - 회귀분석은 종속변수의 분산을 독립변수로 설명하는 과정입니다."
   ]
  },
  {
   "cell_type": "markdown",
   "metadata": {
    "id": "KiQKN4uiyLku"
   },
   "source": [
    "#### R-squared란?\n",
    "- 종속변수 Y의 분산의 일부를 독립변수 X가 설명합니다.\n",
    "- 모델의 분산 설명력이라고 할수 있습니다.\n",
    "- 값이 높을수록 모델이 데이터를 잘 설명한다고 할수 있습니다.\n",
    "- 설명하고 남은 오차는 알수 없는 오차 입니다.\n",
    "- $R^2 = \\frac{설명된분산}{종속변수의 전체분산} = 1 - \\frac{SSE}{SST}$\n",
    "- SST(sum of square total)\n",
    "    - $SST = \\sum(y_i-\\bar{y_i})^2$\n",
    "- SSE(sum of square error)\n",
    "    - $SSE = \\sum(y_i-\\hat{y_i})^2$\n",
    "- $R^2 = 0$ : 모델의 설명력 0%\n",
    "- $R^2 = 1$ : 모델의 설명력 100%\n",
    "- SSE가 클수록 $R^2$가 0에 근접\n",
    "- SST가 클수록 $R^2$이 1에 근접\n",
    "- 추세선의 데이터가 평균에서 멀리 떨어진 데이터 일수록 오차의 영향이 작아짐"
   ]
  },
  {
   "cell_type": "markdown",
   "metadata": {
    "id": "5HOWyStIyLku"
   },
   "source": [
    "<img src=\"imgs/1.png\" style=\"width:50%; margin-top:30px;\">"
   ]
  },
  {
   "cell_type": "code",
   "execution_count": null,
   "metadata": {
    "colab": {
     "base_uri": "https://localhost:8080/"
    },
    "executionInfo": {
     "elapsed": 15,
     "status": "ok",
     "timestamp": 1628812482938,
     "user": {
      "displayName": "Doojin Park",
      "photoUrl": "",
      "userId": "13081019711214908217"
     },
     "user_tz": -540
    },
    "id": "RGO2-b7fyLku",
    "outputId": "1c09835f-4859-481f-fd13-f4ce4df9d864"
   },
   "outputs": [],
   "source": [
    "# 샘플 데이터의 R-squared : model_1이 데이터에 대해서 가장 잘 설명\n",
    "model_1.rsquared, model_2.rsquared, model_3.rsquared"
   ]
  },
  {
   "cell_type": "markdown",
   "metadata": {
    "id": "B1zJOeNpyLku"
   },
   "source": [
    "- R-squared가 높으면 항상 좋은가?\n",
    "    - 그렇지 않습니다.\n",
    "    - 잔차도(residual plot)가 랜덤하게 분포하는것을 확인해야 합니다.\n",
    "    - 독립변수를 무조건 많이 넣어도 R-squared를 증가시킵니다.\n",
    "    - 높은 R-squared는 과적합(overfitting) 문제로부터 자유롭지 못합니다."
   ]
  },
  {
   "cell_type": "markdown",
   "metadata": {
    "id": "WYdRRT3kyLkv"
   },
   "source": [
    "- 잔차도 : residual\n",
    "    - 독립변수 X가 종속변수의 분산을 설명하고 남은 부분은 Random한 오차입니다.\n",
    "    - 잔차도 그래프에 패턴이 보이면 높은 R-squared가 의미 없습니다.\n",
    "    - adj. R-squared  : 잔차도가 감안된  R-squared\n",
    "    - R-squared와 adj. R-squared가 차이가 크면 잔차도 문제가 있다. 그러므로 R-squared가 높은게 의미가 없다.\n",
    "    - 그래프를 그려봤을때 균일한 잔차가 나오면 모델이 좋다라고 할수 있습니다."
   ]
  },
  {
   "cell_type": "code",
   "execution_count": null,
   "metadata": {
    "colab": {
     "base_uri": "https://localhost:8080/"
    },
    "executionInfo": {
     "elapsed": 13,
     "status": "ok",
     "timestamp": 1628812482938,
     "user": {
      "displayName": "Doojin Park",
      "photoUrl": "",
      "userId": "13081019711214908217"
     },
     "user_tz": -540
    },
    "id": "InMvJQjkyLkv",
    "outputId": "84f82a81-9f30-430c-886d-c3ca693329f2"
   },
   "outputs": [],
   "source": [
    "# 모델 차체가 잔차가 0이 되도록 문제를 풀기 때문에 잔차의 합은 0에 가까움\n",
    "np.sum(model_1.resid), np.sum(model_2.resid), np.sum(model_3.resid)"
   ]
  },
  {
   "cell_type": "code",
   "execution_count": null,
   "metadata": {
    "colab": {
     "base_uri": "https://localhost:8080/",
     "height": 321
    },
    "executionInfo": {
     "elapsed": 12,
     "status": "ok",
     "timestamp": 1628812482938,
     "user": {
      "displayName": "Doojin Park",
      "photoUrl": "",
      "userId": "13081019711214908217"
     },
     "user_tz": -540
    },
    "id": "JX9HTrvLyLkv",
    "outputId": "98387f9e-1fc9-48b8-e5d3-9feb5aae49fa"
   },
   "outputs": [],
   "source": [
    "plt.figure(figsize=(20, 5))\n",
    "\n",
    "plt.subplot(311)\n",
    "plt.plot(model_1.resid)\n",
    "\n",
    "plt.subplot(312)\n",
    "plt.plot(model_2.resid)\n",
    "\n",
    "plt.subplot(313)\n",
    "plt.plot(model_3.resid)\n",
    "\n",
    "plt.show()"
   ]
  },
  {
   "cell_type": "markdown",
   "metadata": {
    "id": "JNG5D4m_yLkv"
   },
   "source": [
    "- 과적합 : overfitting\n",
    "    - 우리는 모집단을 분석하는게 아니라 표본 집단만 분석합니다.\n",
    "    - 표본 집단으로만 모델을 만들기 때문에 표본집단에서만 예측을 잘하는 문제를 과적합이라고 합니다.\n",
    "    - 판단 및 해결책\n",
    "        - cross-validation 사용\n",
    "        - 표본을 랜덤하게 나눠서 나눠진 표본별로 모델을 확인해서 정확도를 확인하는 방법입니다."
   ]
  },
  {
   "cell_type": "markdown",
   "metadata": {
    "id": "bHoydc7DyLkv"
   },
   "source": [
    "#### 결과 요약\n",
    "- 회귀분석모델에서 좋은 모델을 만들기 위해서 feature selection과 nomalization을 잘해야 함\n",
    "- feature selection을 잘 하기 위해서 요약표를 참고\n",
    "- 요약표에서 중요한 내용\n",
    "    - R-squared\n",
    "        - 모델의 분산 설명력 의미 \n",
    "        - 0 ~ 1 사이의 값을 가지며 1과 가까울수록 모델의 정확도가 올라감\n",
    "    - coef. \n",
    "        - 회귀계수\n",
    "        - 너무 0과 가까우면 모델에 영향을 거의 안 주게 되므로 계산량만 증가시킴\n",
    "    - std.err.\n",
    "        - 표준 에러\n",
    "        - 회귀모델에서 평균에 대한 추세선의 데이터 퍼짐 정도를 나타냄\n",
    "        - 높을수록 추세선의 신뢰도가 떨어짐\n",
    "        - 그렇다고 낮은게 항상 좋은것은 아님 > 회귀계수가 0과 가까우면 낮게 나옴\n",
    "    - t\n",
    "        - t-test\n",
    "        - 회귀계수가 우연인지 확인하는 지표\n",
    "        - 0과 가까울수록 우연일 확률이 높음\n",
    "    - P>|t|\n",
    "        - p-value\n",
    "        - t-test를 0 ~ 1 사이의 수치로 변환 한것\n",
    "        - 대체로 0.05 이하의 수치를 가지면 해당 feature는 유의한것으로 판단\n",
    "- 잔차도\n",
    "    - 실제 데이터와 예측 데이터의 오차에 대한 분산\n",
    "    - 그래프로 그려봤을때 일정한 잔차가 나오는 모델이 좋은 모델"
   ]
  }
 ],
 "metadata": {
  "colab": {
   "collapsed_sections": [],
   "name": "05_linear_regression_summary_table.ipynb",
   "provenance": []
  },
  "kernelspec": {
   "display_name": "Python 3 (ipykernel)",
   "language": "python",
   "name": "python3"
  },
  "language_info": {
   "codemirror_mode": {
    "name": "ipython",
    "version": 3
   },
   "file_extension": ".py",
   "mimetype": "text/x-python",
   "name": "python",
   "nbconvert_exporter": "python",
   "pygments_lexer": "ipython3",
   "version": "3.7.12"
  },
  "toc": {
   "base_numbering": 1,
   "nav_menu": {},
   "number_sections": false,
   "sideBar": true,
   "skip_h1_title": false,
   "title_cell": "Table of Contents",
   "title_sidebar": "Contents",
   "toc_cell": false,
   "toc_position": {},
   "toc_section_display": true,
   "toc_window_display": false
  },
  "varInspector": {
   "cols": {
    "lenName": 16,
    "lenType": 16,
    "lenVar": 40
   },
   "kernels_config": {
    "python": {
     "delete_cmd_postfix": "",
     "delete_cmd_prefix": "del ",
     "library": "var_list.py",
     "varRefreshCmd": "print(var_dic_list())"
    },
    "r": {
     "delete_cmd_postfix": ") ",
     "delete_cmd_prefix": "rm(",
     "library": "var_list.r",
     "varRefreshCmd": "cat(var_dic_list()) "
    }
   },
   "types_to_exclude": [
    "module",
    "function",
    "builtin_function_or_method",
    "instance",
    "_Feature"
   ],
   "window_display": false
  }
 },
 "nbformat": 4,
 "nbformat_minor": 1
}
