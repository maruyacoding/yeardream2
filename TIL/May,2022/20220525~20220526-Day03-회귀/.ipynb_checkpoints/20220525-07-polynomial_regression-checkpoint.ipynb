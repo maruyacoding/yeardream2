{
 "cells": [
  {
   "cell_type": "markdown",
   "metadata": {
    "id": "gy_xay7JpMmj"
   },
   "source": [
    "## 다항회귀분석 : polynomial regression\n",
    "### Index\n",
    "1. 샘플데이터 생성\n",
    "2. 선형회귀 분석\n",
    "3. 다항회귀 분석\n",
    "4. 과대적합과 과소적합"
   ]
  },
  {
   "cell_type": "code",
   "execution_count": null,
   "metadata": {
    "executionInfo": {
     "elapsed": 969,
     "status": "ok",
     "timestamp": 1628843658160,
     "user": {
      "displayName": "Doojin Park",
      "photoUrl": "",
      "userId": "13081019711214908217"
     },
     "user_tz": -540
    },
    "id": "m4eCQHsnpMml"
   },
   "outputs": [],
   "source": [
    "%config InlineBackend.figure_formats = {'png', 'retina'}\n",
    "\n",
    "import warnings\n",
    "warnings.filterwarnings('ignore')\n",
    "\n",
    "import numpy as np\n",
    "import pandas as pd\n",
    "import matplotlib as mpl\n",
    "import matplotlib.pyplot as plt\n",
    "import seaborn as sns"
   ]
  },
  {
   "cell_type": "markdown",
   "metadata": {
    "id": "n2zJkPZHpMmm"
   },
   "source": [
    "#### 1. 샘플데이터 생성\n",
    "- $Y= 0.5X^2 + X + 2 + \\varepsilon$"
   ]
  },
  {
   "cell_type": "code",
   "execution_count": null,
   "metadata": {
    "executionInfo": {
     "elapsed": 361,
     "status": "ok",
     "timestamp": 1628843676945,
     "user": {
      "displayName": "Doojin Park",
      "photoUrl": "",
      "userId": "13081019711214908217"
     },
     "user_tz": -540
    },
    "id": "dqF-vvd5pMmn"
   },
   "outputs": [],
   "source": [
    "m = 100\n",
    "np.random.seed(0)\n",
    "x = 6 * np.random.rand(m, 1) - 3\n",
    "y = 0.5 * x ** 2 + x + 2 + np.random.randn(m, 1)"
   ]
  },
  {
   "cell_type": "code",
   "execution_count": null,
   "metadata": {
    "colab": {
     "base_uri": "https://localhost:8080/"
    },
    "executionInfo": {
     "elapsed": 506,
     "status": "ok",
     "timestamp": 1628843680107,
     "user": {
      "displayName": "Doojin Park",
      "photoUrl": "",
      "userId": "13081019711214908217"
     },
     "user_tz": -540
    },
    "id": "4pr5e-cvpMmn",
    "outputId": "05dd237d-8d3a-432c-a190-5aa3d7b4754e"
   },
   "outputs": [],
   "source": [
    "x[:3], y[:3]"
   ]
  },
  {
   "cell_type": "code",
   "execution_count": null,
   "metadata": {
    "colab": {
     "base_uri": "https://localhost:8080/",
     "height": 265
    },
    "executionInfo": {
     "elapsed": 735,
     "status": "ok",
     "timestamp": 1628843691265,
     "user": {
      "displayName": "Doojin Park",
      "photoUrl": "",
      "userId": "13081019711214908217"
     },
     "user_tz": -540
    },
    "id": "XDC_C5AupMmp",
    "outputId": "cc71ecfc-76ea-4ac8-e79a-d36654281f02"
   },
   "outputs": [],
   "source": [
    "# 산점도\n",
    "plt.scatter(x, y)\n",
    "plt.show()"
   ]
  },
  {
   "cell_type": "markdown",
   "metadata": {
    "id": "m9vY6kdxpMmq"
   },
   "source": [
    "#### 2. 선형회귀분석\n",
    "- statsmodels 사용\n",
    "- sklearn 사용"
   ]
  },
  {
   "cell_type": "markdown",
   "metadata": {
    "id": "s2OVKw99pMmr"
   },
   "source": [
    "##### statsmodels 사용"
   ]
  },
  {
   "cell_type": "code",
   "execution_count": null,
   "metadata": {
    "colab": {
     "base_uri": "https://localhost:8080/"
    },
    "executionInfo": {
     "elapsed": 1458,
     "status": "ok",
     "timestamp": 1628843767616,
     "user": {
      "displayName": "Doojin Park",
      "photoUrl": "",
      "userId": "13081019711214908217"
     },
     "user_tz": -540
    },
    "id": "CuIn_16mpMms",
    "outputId": "b20f5413-3334-4c27-89e2-8754e5bdcb20"
   },
   "outputs": [],
   "source": [
    "import statsmodels.api as sm\n",
    "from sklearn.metrics import mean_absolute_error\n",
    "\n",
    "# 상수항 추가\n",
    "feature = sm.add_constant(x, has_constant='add')\n",
    "\n",
    "x[:2], feature[:2]"
   ]
  },
  {
   "cell_type": "code",
   "execution_count": null,
   "metadata": {
    "id": "RZkNPXg3pMms",
    "outputId": "d9a85cc1-c1c3-40d5-f4fc-6de5602ba3f4"
   },
   "outputs": [],
   "source": [
    "# 모델 학습\n",
    "model_1 = sm.OLS(y, feature).fit()\n",
    "\n",
    "# 예측값 구하기\n",
    "pred_1 = np.dot(feature, model_1.params)\n",
    "\n",
    "y[:2], pred_1[:2]"
   ]
  },
  {
   "cell_type": "code",
   "execution_count": null,
   "metadata": {
    "id": "NGhfDlH6pMmt",
    "outputId": "e8e7bcf3-0709-49f4-eea9-3bf397904900"
   },
   "outputs": [],
   "source": [
    "# 그래프 그리기\n",
    "plt.scatter(x, y) # 실제 데이터\n",
    "plt.plot(x, pred_1, \"r\") # 예측 데이터 추세선\n",
    "plt.show()"
   ]
  },
  {
   "cell_type": "code",
   "execution_count": null,
   "metadata": {
    "id": "kce_ImW1pMmt",
    "outputId": "762ddb22-0cd7-41a3-dbb9-372309ff5b1b"
   },
   "outputs": [],
   "source": [
    "# 회귀계수 출력, 모델 평가(MAE) : MAE > 1.2760\n",
    "model_1.params, mean_absolute_error(pred_1, y)"
   ]
  },
  {
   "cell_type": "code",
   "execution_count": null,
   "metadata": {
    "id": "zqkJP6dGpMmu",
    "outputId": "ac58198e-f463-460c-ceb9-efbc74236f33"
   },
   "outputs": [],
   "source": [
    "# 0번째 데이터를 계산한결과와 0번째 예측 결과의 데이터가 같음\n",
    "np.dot(feature[0], model_1.params), pred_1[0]"
   ]
  },
  {
   "cell_type": "markdown",
   "metadata": {
    "id": "M74MwyT2pMmu"
   },
   "source": [
    "#### sklearn 사용"
   ]
  },
  {
   "cell_type": "code",
   "execution_count": null,
   "metadata": {
    "colab": {
     "base_uri": "https://localhost:8080/",
     "height": 282
    },
    "executionInfo": {
     "elapsed": 387,
     "status": "ok",
     "timestamp": 1628843772195,
     "user": {
      "displayName": "Doojin Park",
      "photoUrl": "",
      "userId": "13081019711214908217"
     },
     "user_tz": -540
    },
    "id": "3JdaoiuVpMmv",
    "outputId": "b64bb599-915b-42c7-db8c-084bac74181d"
   },
   "outputs": [],
   "source": [
    "from sklearn.linear_model import LinearRegression\n",
    "\n",
    "# 모델 학습\n",
    "model_2 = LinearRegression().fit(x, y)\n",
    "\n",
    "# 예측값 구하기\n",
    "pred_2 = model_2.predict(x)\n",
    "\n",
    "# 그래프 그리기\n",
    "plt.scatter(x, y) # 실제 데이터\n",
    "plt.plot(x, pred_2, \"r\") # 예측 데이터 추세선\n",
    "plt.show()\n",
    "\n",
    "# 회귀계수 출력, 모델 평가(MAE)\n",
    "model_2.intercept_, model_2.coef_, mean_absolute_error(pred_2, y)"
   ]
  },
  {
   "cell_type": "markdown",
   "metadata": {
    "id": "UE6kr50UpMmv"
   },
   "source": [
    "#### 3. 다항회귀분석\n",
    "- statsmodels 사용\n",
    "- sklearn 사용"
   ]
  },
  {
   "cell_type": "code",
   "execution_count": null,
   "metadata": {
    "id": "cLgg6IY8pMmv",
    "outputId": "5e4a410f-bd61-4137-fe73-b552d37372fb"
   },
   "outputs": [],
   "source": [
    "# 2차 방정식으로 만들기\n",
    "x[:3], x[:3]**2, np.c_[x[:3], x[:3]**2]"
   ]
  },
  {
   "cell_type": "code",
   "execution_count": null,
   "metadata": {
    "colab": {
     "base_uri": "https://localhost:8080/"
    },
    "executionInfo": {
     "elapsed": 495,
     "status": "ok",
     "timestamp": 1628843870882,
     "user": {
      "displayName": "Doojin Park",
      "photoUrl": "",
      "userId": "13081019711214908217"
     },
     "user_tz": -540
    },
    "id": "YFWX_XPdpMmw",
    "outputId": "b2cfea80-3119-4022-f475-5ec091a88331"
   },
   "outputs": [],
   "source": [
    "# feature값 행렬 데이터로 변경\n",
    "from sklearn.preprocessing import PolynomialFeatures\n",
    "\n",
    "# 모델의 학습은 선형대수로 계산이 되기 때문에 제곱한 feature를 추가\n",
    "poly_features = PolynomialFeatures(degree=2, include_bias=False) # 2차방정식\n",
    "x_poly = poly_features.fit_transform(x)\n",
    "\n",
    "np.hstack([x[0], x[0]**2]), x_poly[0]"
   ]
  },
  {
   "cell_type": "markdown",
   "metadata": {
    "id": "1za4MGeQpMmx"
   },
   "source": [
    "##### statsmodels 사용"
   ]
  },
  {
   "cell_type": "code",
   "execution_count": null,
   "metadata": {
    "id": "Z40DXOK5pMmx",
    "outputId": "886b2b0d-6925-4c17-e84a-cd017d038002"
   },
   "outputs": [],
   "source": [
    "# statsmodels 사용\n",
    "import statsmodels.api as sm\n",
    "from sklearn.metrics import mean_absolute_error, r2_score\n",
    "\n",
    "# 상수항 추가\n",
    "feature = sm.add_constant(x_poly, has_constant='add')\n",
    "\n",
    "feature[:2]"
   ]
  },
  {
   "cell_type": "code",
   "execution_count": null,
   "metadata": {
    "id": "Ltj15mowpMmx",
    "outputId": "57a872f8-ac41-44f2-cb95-f3ff416a22bf"
   },
   "outputs": [],
   "source": [
    "# 모델 학습\n",
    "model_3 = sm.OLS(y, feature).fit()\n",
    "\n",
    "# 예측값 구하기\n",
    "pred_3 = np.dot(feature, model_3.params)\n",
    "\n",
    "y[:2][:, 0], pred_3[:2]"
   ]
  },
  {
   "cell_type": "code",
   "execution_count": null,
   "metadata": {
    "id": "qia4e81gpMmx",
    "outputId": "f70ac512-a5eb-4f8e-8506-c0f36ff1deda"
   },
   "outputs": [],
   "source": [
    "# 그래프 그리기\n",
    "plt.scatter(x, y) # 실제 데이터\n",
    "\n",
    "# 예측 데이터 추세선\n",
    "# plt.scatter(x, pred_3)\n",
    "df = pd.DataFrame({\"x\": x.reshape(1, -1)[0], \"pred_3\": pred_3}).sort_values(\"x\") # 정렬\n",
    "plt.plot(df[\"x\"], df[\"pred_3\"], \"r\")\n",
    "\n",
    "plt.show()"
   ]
  },
  {
   "cell_type": "code",
   "execution_count": null,
   "metadata": {
    "id": "RoBODH13pMmy",
    "outputId": "f7da89a5-f86f-401e-93a6-ae6fb33000f5"
   },
   "outputs": [],
   "source": [
    "# 회귀계수 출력, 모델 평가(MAE) : 0.827\n",
    "model_3.params, mean_absolute_error(pred_3, y)"
   ]
  },
  {
   "cell_type": "markdown",
   "metadata": {
    "id": "rejQpRy5pMmy"
   },
   "source": [
    "##### sklearn 사용"
   ]
  },
  {
   "cell_type": "code",
   "execution_count": null,
   "metadata": {
    "colab": {
     "base_uri": "https://localhost:8080/",
     "height": 282
    },
    "executionInfo": {
     "elapsed": 489,
     "status": "ok",
     "timestamp": 1628843990434,
     "user": {
      "displayName": "Doojin Park",
      "photoUrl": "",
      "userId": "13081019711214908217"
     },
     "user_tz": -540
    },
    "id": "OwTP-61hpMmy",
    "outputId": "e20a0bef-5cd3-45ed-a9a5-2f6d14b2eeab"
   },
   "outputs": [],
   "source": [
    "from sklearn.linear_model import LinearRegression\n",
    "\n",
    "# 모델 학습\n",
    "model_4 = LinearRegression().fit(x_poly, y)\n",
    "\n",
    "# 예측값 구하기\n",
    "pred_4 = model_4.predict(x_poly)\n",
    "\n",
    "# 그래프 그리기\n",
    "plt.scatter(x, y) # 실제 데이터\n",
    "\n",
    "# 예측 데이터 추세선\n",
    "# plt.scatter(x, pred_4)\n",
    "df = pd.DataFrame({\"x\": x.reshape(1, -1)[0], \"pred_4\": pred_4.reshape(1,-1)[0]}).sort_values(\"x\") # 정렬\n",
    "plt.plot(df[\"x\"], df[\"pred_4\"], \"r\")\n",
    "\n",
    "plt.show()\n",
    "\n",
    "# 회귀계수 출력, 모델 평가(MAE)\n",
    "model_4.intercept_, model_4.coef_, mean_absolute_error(pred_4, y)"
   ]
  },
  {
   "cell_type": "markdown",
   "metadata": {
    "id": "O-cPDQNhpMmz"
   },
   "source": [
    "#### 다항회귀식\n",
    "- $Y=0.5X^2+X+2$\n",
    "- $\\hat{Y} = 0.44978823*X^2 + 0.97906552*X  + 2.34050076$"
   ]
  },
  {
   "cell_type": "markdown",
   "metadata": {
    "id": "jcarrUkZpMmz"
   },
   "source": [
    "#### 최적의 차원을 구하는 방법\n",
    "- 기울기값이 급격하게 감소하는 지점이 최적의 차원 - 2차원이 최적"
   ]
  },
  {
   "cell_type": "code",
   "execution_count": null,
   "metadata": {
    "executionInfo": {
     "elapsed": 408,
     "status": "ok",
     "timestamp": 1628844115112,
     "user": {
      "displayName": "Doojin Park",
      "photoUrl": "",
      "userId": "13081019711214908217"
     },
     "user_tz": -540
    },
    "id": "2aSUpQBUpMmz"
   },
   "outputs": [],
   "source": [
    "def get_mae(degree):\n",
    "    \n",
    "    # degree 차원으로 feature를 만듦\n",
    "    poly_features = PolynomialFeatures(degree=degree, include_bias=False)\n",
    "    x_poly = poly_features.fit_transform(x)\n",
    "    \n",
    "    # 모델 학습\n",
    "    model = LinearRegression().fit(x_poly, y)\n",
    "    \n",
    "    # 데이터 예측\n",
    "    pred = model.predict(poly_features.fit_transform(x))\n",
    "    \n",
    "    # MAE 구함\n",
    "    return mean_absolute_error(y, pred)"
   ]
  },
  {
   "cell_type": "code",
   "execution_count": null,
   "metadata": {
    "colab": {
     "base_uri": "https://localhost:8080/",
     "height": 265
    },
    "executionInfo": {
     "elapsed": 365,
     "status": "ok",
     "timestamp": 1628844117221,
     "user": {
      "displayName": "Doojin Park",
      "photoUrl": "",
      "userId": "13081019711214908217"
     },
     "user_tz": -540
    },
    "id": "jtI8aNDapMmz",
    "outputId": "e927f276-c73e-43b4-e8c6-9818b7eb2348"
   },
   "outputs": [],
   "source": [
    "# 1차원 부터 10차원까지 mae 결과를 구해서 그래프로 그리기\n",
    "degrees = range(1, 10)\n",
    "maes = [get_mae(degree) for degree in degrees]\n",
    "plt.plot(degrees, maes)\n",
    "plt.show()"
   ]
  },
  {
   "cell_type": "markdown",
   "metadata": {
    "id": "5PoAmLh7pMmz"
   },
   "source": [
    "#### 과대적합과 과소적합\n",
    "- 과소적합 : 1차원 \n",
    "- 과대적합(과적합) : 3차원 이상"
   ]
  }
 ],
 "metadata": {
  "colab": {
   "collapsed_sections": [],
   "name": "07_polynomial_regression.ipynb",
   "provenance": []
  },
  "kernelspec": {
   "display_name": "Python 3 (ipykernel)",
   "language": "python",
   "name": "python3"
  },
  "language_info": {
   "codemirror_mode": {
    "name": "ipython",
    "version": 3
   },
   "file_extension": ".py",
   "mimetype": "text/x-python",
   "name": "python",
   "nbconvert_exporter": "python",
   "pygments_lexer": "ipython3",
   "version": "3.8.13"
  },
  "toc": {
   "base_numbering": 1,
   "nav_menu": {},
   "number_sections": false,
   "sideBar": true,
   "skip_h1_title": false,
   "title_cell": "Table of Contents",
   "title_sidebar": "Contents",
   "toc_cell": false,
   "toc_position": {},
   "toc_section_display": true,
   "toc_window_display": false
  },
  "varInspector": {
   "cols": {
    "lenName": 16,
    "lenType": 16,
    "lenVar": 40
   },
   "kernels_config": {
    "python": {
     "delete_cmd_postfix": "",
     "delete_cmd_prefix": "del ",
     "library": "var_list.py",
     "varRefreshCmd": "print(var_dic_list())"
    },
    "r": {
     "delete_cmd_postfix": ") ",
     "delete_cmd_prefix": "rm(",
     "library": "var_list.r",
     "varRefreshCmd": "cat(var_dic_list()) "
    }
   },
   "types_to_exclude": [
    "module",
    "function",
    "builtin_function_or_method",
    "instance",
    "_Feature"
   ],
   "window_display": false
  }
 },
 "nbformat": 4,
 "nbformat_minor": 1
}
