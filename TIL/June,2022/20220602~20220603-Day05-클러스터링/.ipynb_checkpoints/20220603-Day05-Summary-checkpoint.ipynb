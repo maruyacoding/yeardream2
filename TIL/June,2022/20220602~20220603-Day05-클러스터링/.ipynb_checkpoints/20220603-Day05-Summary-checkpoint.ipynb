{
 "cells": [
  {
   "cell_type": "markdown",
   "id": "017ffc4c",
   "metadata": {},
   "source": [
    "1. Random Forest\n",
    "    - 의사결정나무(Decision Tree)의 단점을 보완\n",
    "        - 계층적 구조로 에러 발생시 다음 단계로 전파되는 구조\n",
    "        - data와 feature의 미세한 변화에도 모델 전체가 흔들림\n",
    "        - 과적합의 위험: Low Bias, Low Variance([참고](https://bywords.tistory.com/entry/%EB%B2%88%EC%97%AD-%EC%9C%A0%EC%B9%98%EC%9B%90%EC%83%9D%EB%8F%84-%EC%9D%B4%ED%95%B4%ED%95%A0-%EC%88%98-%EC%9E%88%EB%8A%94-biasvariance-tradeoff))\n",
    "    - 앙상블: 여러 모델의 예측을 여러 방법으로 통합하여 하나의 모델을 만드는 방법\n",
    "        - base 모델이 서로 독립적이고, 무작위 예측보다 성능이 좋은 모델을 앙상블에 활용\n",
    "    - 랜덤포레스트: 다수의 decision tree의 예측을 종합하는 앙상블 방법\n",
    "    - Bootstrap 기법을 이용하여 다수의 train data를 생성하여 모델 학습 후 앙상블\n",
    "    - Bagging과 Boosting 이해하기([참고](https://ybeaning.tistory.com/17))\n",
    "    - Aggregating의 3가지 방법!\n",
    "\n",
    "\n",
    "2. Classification 실습 -> random forest, svm 등등 -> rf feature_importances_ : 어떤 feature가 예측을 할 때 도움이 됐는지 찾아준다!\n",
    "    - svm: coef_\n",
    "\n",
    "\n",
    "3. K-means Clustering(비지도학습)\n",
    "    - 알고리즘 수행 절차\n",
    "        - k개의 중심 좌표 생성\n",
    "        - 각 데이터와 중심 좌표 사이의 거리를 계산하여 가까운 중심 좌표로 군집을 할당\n",
    "        - 할당된 군집을 기반으로 새로운 중심 좌표를 계산\n",
    "        - 모든 데이터의 클러스터 할당이 바뀌지 않을때까지 반복\n",
    "    - k개의 cluster를 찾는 알고리즘이다. \n",
    "    - 평가하는 방법이 매우 중요하다!\n",
    "    - sklearn의 argument\n",
    "        - n_clusters: 군집의 갯수\n",
    "        - init: 초기화 방법. \"random\"이면 무작위, \"k-means++\"이면 K-평균++ 방법\n",
    "        - n_init: 초기 중심위치 시도 횟수. 디폴트는 10이고 10개의 무작위 중심위치 목록 중 가장 좋은 값을 선택\n",
    "        - max_iter: 최대 반복 횟수\n",
    "        - random_state: 시드값"
   ]
  },
  {
   "cell_type": "code",
   "execution_count": null,
   "id": "096bee18",
   "metadata": {},
   "outputs": [],
   "source": []
  }
 ],
 "metadata": {
  "kernelspec": {
   "display_name": "Python 3 (ipykernel)",
   "language": "python",
   "name": "python3"
  },
  "language_info": {
   "codemirror_mode": {
    "name": "ipython",
    "version": 3
   },
   "file_extension": ".py",
   "mimetype": "text/x-python",
   "name": "python",
   "nbconvert_exporter": "python",
   "pygments_lexer": "ipython3",
   "version": "3.8.13"
  }
 },
 "nbformat": 4,
 "nbformat_minor": 5
}
