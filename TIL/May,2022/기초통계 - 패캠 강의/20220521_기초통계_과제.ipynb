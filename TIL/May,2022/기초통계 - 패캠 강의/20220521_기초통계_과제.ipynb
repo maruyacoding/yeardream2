{
 "cells": [
  {
   "cell_type": "markdown",
   "metadata": {
    "id": "QFRtwO-C5LPd"
   },
   "source": [
    "# 기초 통계 및 연습하기"
   ]
  },
  {
   "cell_type": "markdown",
   "metadata": {
    "id": "q06plQBk5SHl"
   },
   "source": [
    "## P1. 수영교실\n",
    "- 평균값, 중앙값, 최빈값에 대한 이해"
   ]
  },
  {
   "cell_type": "code",
   "execution_count": null,
   "metadata": {
    "id": "JdHFDylD4t05"
   },
   "outputs": [],
   "source": [
    "import numpy as np\n",
    "import pandas as pd\n",
    "import matplotlib.pyplot as plt\n",
    "import seaborn as sns\n",
    "\n",
    "%matplotlib inline"
   ]
  },
  {
   "cell_type": "code",
   "execution_count": null,
   "metadata": {
    "id": "V7yFfRbi5IrA"
   },
   "outputs": [],
   "source": [
    "# 수영교실에 참석하고 있는 사람들의 나이를 나타낸 것\n",
    "swim = [1,1,1,2,2,2,2,3,3,31,31,32,32,32,32,33,33,33]\n",
    "swim = pd.DataFrame(swim)\n",
    "swim.columns = ['age']"
   ]
  },
  {
   "cell_type": "markdown",
   "metadata": {
    "id": "bk3OhJ4o8CK5"
   },
   "source": [
    "1. 평균, 중앙값을 계산해보세요."
   ]
  },
  {
   "cell_type": "code",
   "execution_count": null,
   "metadata": {
    "colab": {
     "base_uri": "https://localhost:8080/"
    },
    "id": "g47CZDpW5eVH",
    "outputId": "3fbbb825-4fab-4d80-8fd8-8f520246c3f5"
   },
   "outputs": [
    {
     "data": {
      "text/plain": [
       "age    17.0\n",
       "dtype: float64"
      ]
     },
     "execution_count": 3,
     "metadata": {},
     "output_type": "execute_result"
    }
   ],
   "source": [
    "# 평균값\n",
    "swim.mean()"
   ]
  },
  {
   "cell_type": "code",
   "execution_count": null,
   "metadata": {
    "colab": {
     "base_uri": "https://localhost:8080/"
    },
    "id": "YtP3R6Ku5hnX",
    "outputId": "129e8384-d3c6-43bb-906c-1d21dc20319d"
   },
   "outputs": [
    {
     "data": {
      "text/plain": [
       "age    17.0\n",
       "dtype: float64"
      ]
     },
     "execution_count": 4,
     "metadata": {},
     "output_type": "execute_result"
    }
   ],
   "source": [
    "# 중앙값\n",
    "swim.median()"
   ]
  },
  {
   "cell_type": "markdown",
   "metadata": {
    "id": "psVmXB8W8MOb"
   },
   "source": [
    "2. 평균, 중앙값이 위의 데이터를 대표하는 값으로 적합한지 생각을 적어보세요.\n",
    "> 데이터 값이 작은 값, 큰 값으로 크게 두 개의 분류로 나눠질 정도로 차이가 커서 평균이나 중앙값으로 대표값을 선정하는 것은 적합하지 않다고 생각합니다."
   ]
  },
  {
   "cell_type": "markdown",
   "metadata": {
    "id": "xV7LHKQQ8jQZ"
   },
   "source": [
    "3. 최빈값을 구해보세요."
   ]
  },
  {
   "cell_type": "code",
   "execution_count": null,
   "metadata": {
    "colab": {
     "base_uri": "https://localhost:8080/",
     "height": 112
    },
    "id": "7om8YnUD5rHB",
    "outputId": "f6e9a139-c967-420c-e0bf-52fb0f06dc62"
   },
   "outputs": [
    {
     "data": {
      "text/html": [
       "\n",
       "  <div id=\"df-2d491e24-b3bc-4adf-9762-0560d34b5d31\">\n",
       "    <div class=\"colab-df-container\">\n",
       "      <div>\n",
       "<style scoped>\n",
       "    .dataframe tbody tr th:only-of-type {\n",
       "        vertical-align: middle;\n",
       "    }\n",
       "\n",
       "    .dataframe tbody tr th {\n",
       "        vertical-align: top;\n",
       "    }\n",
       "\n",
       "    .dataframe thead th {\n",
       "        text-align: right;\n",
       "    }\n",
       "</style>\n",
       "<table border=\"1\" class=\"dataframe\">\n",
       "  <thead>\n",
       "    <tr style=\"text-align: right;\">\n",
       "      <th></th>\n",
       "      <th>age</th>\n",
       "    </tr>\n",
       "  </thead>\n",
       "  <tbody>\n",
       "    <tr>\n",
       "      <th>0</th>\n",
       "      <td>2</td>\n",
       "    </tr>\n",
       "    <tr>\n",
       "      <th>1</th>\n",
       "      <td>32</td>\n",
       "    </tr>\n",
       "  </tbody>\n",
       "</table>\n",
       "</div>\n",
       "      <button class=\"colab-df-convert\" onclick=\"convertToInteractive('df-2d491e24-b3bc-4adf-9762-0560d34b5d31')\"\n",
       "              title=\"Convert this dataframe to an interactive table.\"\n",
       "              style=\"display:none;\">\n",
       "        \n",
       "  <svg xmlns=\"http://www.w3.org/2000/svg\" height=\"24px\"viewBox=\"0 0 24 24\"\n",
       "       width=\"24px\">\n",
       "    <path d=\"M0 0h24v24H0V0z\" fill=\"none\"/>\n",
       "    <path d=\"M18.56 5.44l.94 2.06.94-2.06 2.06-.94-2.06-.94-.94-2.06-.94 2.06-2.06.94zm-11 1L8.5 8.5l.94-2.06 2.06-.94-2.06-.94L8.5 2.5l-.94 2.06-2.06.94zm10 10l.94 2.06.94-2.06 2.06-.94-2.06-.94-.94-2.06-.94 2.06-2.06.94z\"/><path d=\"M17.41 7.96l-1.37-1.37c-.4-.4-.92-.59-1.43-.59-.52 0-1.04.2-1.43.59L10.3 9.45l-7.72 7.72c-.78.78-.78 2.05 0 2.83L4 21.41c.39.39.9.59 1.41.59.51 0 1.02-.2 1.41-.59l7.78-7.78 2.81-2.81c.8-.78.8-2.07 0-2.86zM5.41 20L4 18.59l7.72-7.72 1.47 1.35L5.41 20z\"/>\n",
       "  </svg>\n",
       "      </button>\n",
       "      \n",
       "  <style>\n",
       "    .colab-df-container {\n",
       "      display:flex;\n",
       "      flex-wrap:wrap;\n",
       "      gap: 12px;\n",
       "    }\n",
       "\n",
       "    .colab-df-convert {\n",
       "      background-color: #E8F0FE;\n",
       "      border: none;\n",
       "      border-radius: 50%;\n",
       "      cursor: pointer;\n",
       "      display: none;\n",
       "      fill: #1967D2;\n",
       "      height: 32px;\n",
       "      padding: 0 0 0 0;\n",
       "      width: 32px;\n",
       "    }\n",
       "\n",
       "    .colab-df-convert:hover {\n",
       "      background-color: #E2EBFA;\n",
       "      box-shadow: 0px 1px 2px rgba(60, 64, 67, 0.3), 0px 1px 3px 1px rgba(60, 64, 67, 0.15);\n",
       "      fill: #174EA6;\n",
       "    }\n",
       "\n",
       "    [theme=dark] .colab-df-convert {\n",
       "      background-color: #3B4455;\n",
       "      fill: #D2E3FC;\n",
       "    }\n",
       "\n",
       "    [theme=dark] .colab-df-convert:hover {\n",
       "      background-color: #434B5C;\n",
       "      box-shadow: 0px 1px 3px 1px rgba(0, 0, 0, 0.15);\n",
       "      filter: drop-shadow(0px 1px 2px rgba(0, 0, 0, 0.3));\n",
       "      fill: #FFFFFF;\n",
       "    }\n",
       "  </style>\n",
       "\n",
       "      <script>\n",
       "        const buttonEl =\n",
       "          document.querySelector('#df-2d491e24-b3bc-4adf-9762-0560d34b5d31 button.colab-df-convert');\n",
       "        buttonEl.style.display =\n",
       "          google.colab.kernel.accessAllowed ? 'block' : 'none';\n",
       "\n",
       "        async function convertToInteractive(key) {\n",
       "          const element = document.querySelector('#df-2d491e24-b3bc-4adf-9762-0560d34b5d31');\n",
       "          const dataTable =\n",
       "            await google.colab.kernel.invokeFunction('convertToInteractive',\n",
       "                                                     [key], {});\n",
       "          if (!dataTable) return;\n",
       "\n",
       "          const docLinkHtml = 'Like what you see? Visit the ' +\n",
       "            '<a target=\"_blank\" href=https://colab.research.google.com/notebooks/data_table.ipynb>data table notebook</a>'\n",
       "            + ' to learn more about interactive tables.';\n",
       "          element.innerHTML = '';\n",
       "          dataTable['output_type'] = 'display_data';\n",
       "          await google.colab.output.renderOutput(dataTable, element);\n",
       "          const docLink = document.createElement('div');\n",
       "          docLink.innerHTML = docLinkHtml;\n",
       "          element.appendChild(docLink);\n",
       "        }\n",
       "      </script>\n",
       "    </div>\n",
       "  </div>\n",
       "  "
      ],
      "text/plain": [
       "   age\n",
       "0    2\n",
       "1   32"
      ]
     },
     "execution_count": 5,
     "metadata": {},
     "output_type": "execute_result"
    }
   ],
   "source": [
    "# 최빈값\n",
    "swim.mode()"
   ]
  },
  {
   "cell_type": "code",
   "execution_count": null,
   "metadata": {
    "colab": {
     "base_uri": "https://localhost:8080/",
     "height": 497
    },
    "id": "u7JVIT2sCr38",
    "outputId": "9b5ff01f-a2cf-41b0-b347-97541dde2a04"
   },
   "outputs": [
    {
     "data": {
      "image/png": "[encoded data removed]",
      "text/plain": [
       "<Figure size 720x576 with 1 Axes>"
      ]
     },
     "metadata": {
      "needs_background": "light"
     },
     "output_type": "display_data"
    }
   ],
   "source": [
    "# swim data의 분포도 확인\n",
    "plt.figure(figsize=(10,8))\n",
    "sns.histplot(data=swim, x=swim.age, bins=50 )\n",
    "plt.show()"
   ]
  },
  {
   "cell_type": "markdown",
   "metadata": {
    "id": "crvJksNc8hfp"
   },
   "source": [
    "4. 최빈값이 위의 데이터를 대표하는 값으로 적합한지 생각을 적어보세요.\n",
    "> 데이터가 크게 2개의 분류로 나눠지기 때문에 최빈값을 대표값으로 선정하는 것이 적합하다고 생각합니다."
   ]
  },
  {
   "cell_type": "markdown",
   "metadata": {
    "id": "a-GacHaO9tWx"
   },
   "source": [
    "5. 도수분포표를 그려보세요."
   ]
  },
  {
   "cell_type": "code",
   "execution_count": null,
   "metadata": {
    "id": "xT6xbuumtsQ9"
   },
   "outputs": [],
   "source": [
    "swim = np.array(swim)"
   ]
  },
  {
   "cell_type": "code",
   "execution_count": null,
   "metadata": {
    "colab": {
     "base_uri": "https://localhost:8080/"
    },
    "id": "wotg3ejg8M8N",
    "outputId": "237684a5-2de3-47a2-c82c-169d5050fc91"
   },
   "outputs": [
    {
     "data": {
      "text/plain": [
       "array([9, 0, 0, 9, 0])"
      ]
     },
     "execution_count": 56,
     "metadata": {},
     "output_type": "execute_result"
    }
   ],
   "source": [
    "freq, _ = np.histogram(swim, bins = 5, range=(0,50))\n",
    "freq"
   ]
  },
  {
   "cell_type": "code",
   "execution_count": null,
   "metadata": {
    "colab": {
     "base_uri": "https://localhost:8080/",
     "height": 238
    },
    "id": "HBCqWjurlR_-",
    "outputId": "9de3f45f-5447-491f-95b6-1385b1c56243"
   },
   "outputs": [
    {
     "data": {
      "text/html": [
       "\n",
       "  <div id=\"df-dfd9e8f0-24d7-464b-8b72-f6a74042c09e\">\n",
       "    <div class=\"colab-df-container\">\n",
       "      <div>\n",
       "<style scoped>\n",
       "    .dataframe tbody tr th:only-of-type {\n",
       "        vertical-align: middle;\n",
       "    }\n",
       "\n",
       "    .dataframe tbody tr th {\n",
       "        vertical-align: top;\n",
       "    }\n",
       "\n",
       "    .dataframe thead th {\n",
       "        text-align: right;\n",
       "    }\n",
       "</style>\n",
       "<table border=\"1\" class=\"dataframe\">\n",
       "  <thead>\n",
       "    <tr style=\"text-align: right;\">\n",
       "      <th></th>\n",
       "      <th>frequency</th>\n",
       "    </tr>\n",
       "    <tr>\n",
       "      <th>class</th>\n",
       "      <th></th>\n",
       "    </tr>\n",
       "  </thead>\n",
       "  <tbody>\n",
       "    <tr>\n",
       "      <th>0~10</th>\n",
       "      <td>9</td>\n",
       "    </tr>\n",
       "    <tr>\n",
       "      <th>10~20</th>\n",
       "      <td>0</td>\n",
       "    </tr>\n",
       "    <tr>\n",
       "      <th>20~30</th>\n",
       "      <td>0</td>\n",
       "    </tr>\n",
       "    <tr>\n",
       "      <th>30~40</th>\n",
       "      <td>9</td>\n",
       "    </tr>\n",
       "    <tr>\n",
       "      <th>40~50</th>\n",
       "      <td>0</td>\n",
       "    </tr>\n",
       "  </tbody>\n",
       "</table>\n",
       "</div>\n",
       "      <button class=\"colab-df-convert\" onclick=\"convertToInteractive('df-dfd9e8f0-24d7-464b-8b72-f6a74042c09e')\"\n",
       "              title=\"Convert this dataframe to an interactive table.\"\n",
       "              style=\"display:none;\">\n",
       "        \n",
       "  <svg xmlns=\"http://www.w3.org/2000/svg\" height=\"24px\"viewBox=\"0 0 24 24\"\n",
       "       width=\"24px\">\n",
       "    <path d=\"M0 0h24v24H0V0z\" fill=\"none\"/>\n",
       "    <path d=\"M18.56 5.44l.94 2.06.94-2.06 2.06-.94-2.06-.94-.94-2.06-.94 2.06-2.06.94zm-11 1L8.5 8.5l.94-2.06 2.06-.94-2.06-.94L8.5 2.5l-.94 2.06-2.06.94zm10 10l.94 2.06.94-2.06 2.06-.94-2.06-.94-.94-2.06-.94 2.06-2.06.94z\"/><path d=\"M17.41 7.96l-1.37-1.37c-.4-.4-.92-.59-1.43-.59-.52 0-1.04.2-1.43.59L10.3 9.45l-7.72 7.72c-.78.78-.78 2.05 0 2.83L4 21.41c.39.39.9.59 1.41.59.51 0 1.02-.2 1.41-.59l7.78-7.78 2.81-2.81c.8-.78.8-2.07 0-2.86zM5.41 20L4 18.59l7.72-7.72 1.47 1.35L5.41 20z\"/>\n",
       "  </svg>\n",
       "      </button>\n",
       "      \n",
       "  <style>\n",
       "    .colab-df-container {\n",
       "      display:flex;\n",
       "      flex-wrap:wrap;\n",
       "      gap: 12px;\n",
       "    }\n",
       "\n",
       "    .colab-df-convert {\n",
       "      background-color: #E8F0FE;\n",
       "      border: none;\n",
       "      border-radius: 50%;\n",
       "      cursor: pointer;\n",
       "      display: none;\n",
       "      fill: #1967D2;\n",
       "      height: 32px;\n",
       "      padding: 0 0 0 0;\n",
       "      width: 32px;\n",
       "    }\n",
       "\n",
       "    .colab-df-convert:hover {\n",
       "      background-color: #E2EBFA;\n",
       "      box-shadow: 0px 1px 2px rgba(60, 64, 67, 0.3), 0px 1px 3px 1px rgba(60, 64, 67, 0.15);\n",
       "      fill: #174EA6;\n",
       "    }\n",
       "\n",
       "    [theme=dark] .colab-df-convert {\n",
       "      background-color: #3B4455;\n",
       "      fill: #D2E3FC;\n",
       "    }\n",
       "\n",
       "    [theme=dark] .colab-df-convert:hover {\n",
       "      background-color: #434B5C;\n",
       "      box-shadow: 0px 1px 3px 1px rgba(0, 0, 0, 0.15);\n",
       "      filter: drop-shadow(0px 1px 2px rgba(0, 0, 0, 0.3));\n",
       "      fill: #FFFFFF;\n",
       "    }\n",
       "  </style>\n",
       "\n",
       "      <script>\n",
       "        const buttonEl =\n",
       "          document.querySelector('#df-dfd9e8f0-24d7-464b-8b72-f6a74042c09e button.colab-df-convert');\n",
       "        buttonEl.style.display =\n",
       "          google.colab.kernel.accessAllowed ? 'block' : 'none';\n",
       "\n",
       "        async function convertToInteractive(key) {\n",
       "          const element = document.querySelector('#df-dfd9e8f0-24d7-464b-8b72-f6a74042c09e');\n",
       "          const dataTable =\n",
       "            await google.colab.kernel.invokeFunction('convertToInteractive',\n",
       "                                                     [key], {});\n",
       "          if (!dataTable) return;\n",
       "\n",
       "          const docLinkHtml = 'Like what you see? Visit the ' +\n",
       "            '<a target=\"_blank\" href=https://colab.research.google.com/notebooks/data_table.ipynb>data table notebook</a>'\n",
       "            + ' to learn more about interactive tables.';\n",
       "          element.innerHTML = '';\n",
       "          dataTable['output_type'] = 'display_data';\n",
       "          await google.colab.output.renderOutput(dataTable, element);\n",
       "          const docLink = document.createElement('div');\n",
       "          docLink.innerHTML = docLinkHtml;\n",
       "          element.appendChild(docLink);\n",
       "        }\n",
       "      </script>\n",
       "    </div>\n",
       "  </div>\n",
       "  "
      ],
      "text/plain": [
       "       frequency\n",
       "class           \n",
       "0~10           9\n",
       "10~20          0\n",
       "20~30          0\n",
       "30~40          9\n",
       "40~50          0"
      ]
     },
     "execution_count": 57,
     "metadata": {},
     "output_type": "execute_result"
    }
   ],
   "source": [
    "# 0~10, 10~20 문자열 리스트 작성\n",
    "freq_class = [f'{i}~{i+10}' for i in range(0, 50, 10)]\n",
    "\n",
    "# freq_class 인덱스로 DataFrame을 작성\n",
    "freq_hist_df = pd.DataFrame({'frequency' : freq}, index = pd.Index(freq_class, name = 'class'))\n",
    "freq_hist_df"
   ]
  },
  {
   "cell_type": "code",
   "execution_count": null,
   "metadata": {
    "colab": {
     "base_uri": "https://localhost:8080/"
    },
    "id": "L8h1KMBam7jh",
    "outputId": "bed22259-0d5c-4d0a-8f6d-037d5d15893d"
   },
   "outputs": [
    {
     "data": {
      "text/plain": [
       "[5, 15, 25, 35, 45]"
      ]
     },
     "execution_count": 58,
     "metadata": {},
     "output_type": "execute_result"
    }
   ],
   "source": [
    "# 계급값\n",
    "class_value = [(i+(i+10))//2 for i in range(0, 50, 10)]\n",
    "class_value"
   ]
  },
  {
   "cell_type": "code",
   "execution_count": null,
   "metadata": {
    "colab": {
     "base_uri": "https://localhost:8080/"
    },
    "id": "iVfDjkB0nJGb",
    "outputId": "aec8eda6-d66f-4e95-af39-bddd15c5ca38"
   },
   "outputs": [
    {
     "data": {
      "text/plain": [
       "array([0.5, 0. , 0. , 0.5, 0. ])"
      ]
     },
     "execution_count": 59,
     "metadata": {},
     "output_type": "execute_result"
    }
   ],
   "source": [
    "# 상대도수 : 데이터가 어느 정도의 비율을 차지하고 있는지\n",
    "rel_freq = freq / freq.sum()\n",
    "rel_freq"
   ]
  },
  {
   "cell_type": "code",
   "execution_count": null,
   "metadata": {
    "colab": {
     "base_uri": "https://localhost:8080/"
    },
    "id": "7XBrL3T1nWso",
    "outputId": "196d2186-7756-480c-9484-10b3acc2a6c4"
   },
   "outputs": [
    {
     "data": {
      "text/plain": [
       "array([0.5, 0.5, 0.5, 1. , 1. ])"
      ]
     },
     "execution_count": 60,
     "metadata": {},
     "output_type": "execute_result"
    }
   ],
   "source": [
    "# 누적상대도수 : 상대도수의 합\n",
    "cum_rel_freq = np.cumsum(rel_freq)\n",
    "cum_rel_freq"
   ]
  },
  {
   "cell_type": "code",
   "execution_count": null,
   "metadata": {
    "colab": {
     "base_uri": "https://localhost:8080/",
     "height": 238
    },
    "id": "AA51gSywnmOz",
    "outputId": "bb4d5c43-aaff-4456-bd26-3a724ae200e4"
   },
   "outputs": [
    {
     "data": {
      "text/html": [
       "\n",
       "  <div id=\"df-219fe04a-164c-46e4-adec-c4ee6f5a4065\">\n",
       "    <div class=\"colab-df-container\">\n",
       "      <div>\n",
       "<style scoped>\n",
       "    .dataframe tbody tr th:only-of-type {\n",
       "        vertical-align: middle;\n",
       "    }\n",
       "\n",
       "    .dataframe tbody tr th {\n",
       "        vertical-align: top;\n",
       "    }\n",
       "\n",
       "    .dataframe thead th {\n",
       "        text-align: right;\n",
       "    }\n",
       "</style>\n",
       "<table border=\"1\" class=\"dataframe\">\n",
       "  <thead>\n",
       "    <tr style=\"text-align: right;\">\n",
       "      <th></th>\n",
       "      <th>class value</th>\n",
       "      <th>frequency</th>\n",
       "      <th>relative frequency</th>\n",
       "      <th>cumulative relative frequency</th>\n",
       "    </tr>\n",
       "    <tr>\n",
       "      <th>class</th>\n",
       "      <th></th>\n",
       "      <th></th>\n",
       "      <th></th>\n",
       "      <th></th>\n",
       "    </tr>\n",
       "  </thead>\n",
       "  <tbody>\n",
       "    <tr>\n",
       "      <th>0~10</th>\n",
       "      <td>5</td>\n",
       "      <td>9</td>\n",
       "      <td>0.5</td>\n",
       "      <td>0.5</td>\n",
       "    </tr>\n",
       "    <tr>\n",
       "      <th>10~20</th>\n",
       "      <td>15</td>\n",
       "      <td>0</td>\n",
       "      <td>0.0</td>\n",
       "      <td>0.5</td>\n",
       "    </tr>\n",
       "    <tr>\n",
       "      <th>20~30</th>\n",
       "      <td>25</td>\n",
       "      <td>0</td>\n",
       "      <td>0.0</td>\n",
       "      <td>0.5</td>\n",
       "    </tr>\n",
       "    <tr>\n",
       "      <th>30~40</th>\n",
       "      <td>35</td>\n",
       "      <td>9</td>\n",
       "      <td>0.5</td>\n",
       "      <td>1.0</td>\n",
       "    </tr>\n",
       "    <tr>\n",
       "      <th>40~50</th>\n",
       "      <td>45</td>\n",
       "      <td>0</td>\n",
       "      <td>0.0</td>\n",
       "      <td>1.0</td>\n",
       "    </tr>\n",
       "  </tbody>\n",
       "</table>\n",
       "</div>\n",
       "      <button class=\"colab-df-convert\" onclick=\"convertToInteractive('df-219fe04a-164c-46e4-adec-c4ee6f5a4065')\"\n",
       "              title=\"Convert this dataframe to an interactive table.\"\n",
       "              style=\"display:none;\">\n",
       "        \n",
       "  <svg xmlns=\"http://www.w3.org/2000/svg\" height=\"24px\"viewBox=\"0 0 24 24\"\n",
       "       width=\"24px\">\n",
       "    <path d=\"M0 0h24v24H0V0z\" fill=\"none\"/>\n",
       "    <path d=\"M18.56 5.44l.94 2.06.94-2.06 2.06-.94-2.06-.94-.94-2.06-.94 2.06-2.06.94zm-11 1L8.5 8.5l.94-2.06 2.06-.94-2.06-.94L8.5 2.5l-.94 2.06-2.06.94zm10 10l.94 2.06.94-2.06 2.06-.94-2.06-.94-.94-2.06-.94 2.06-2.06.94z\"/><path d=\"M17.41 7.96l-1.37-1.37c-.4-.4-.92-.59-1.43-.59-.52 0-1.04.2-1.43.59L10.3 9.45l-7.72 7.72c-.78.78-.78 2.05 0 2.83L4 21.41c.39.39.9.59 1.41.59.51 0 1.02-.2 1.41-.59l7.78-7.78 2.81-2.81c.8-.78.8-2.07 0-2.86zM5.41 20L4 18.59l7.72-7.72 1.47 1.35L5.41 20z\"/>\n",
       "  </svg>\n",
       "      </button>\n",
       "      \n",
       "  <style>\n",
       "    .colab-df-container {\n",
       "      display:flex;\n",
       "      flex-wrap:wrap;\n",
       "      gap: 12px;\n",
       "    }\n",
       "\n",
       "    .colab-df-convert {\n",
       "      background-color: #E8F0FE;\n",
       "      border: none;\n",
       "      border-radius: 50%;\n",
       "      cursor: pointer;\n",
       "      display: none;\n",
       "      fill: #1967D2;\n",
       "      height: 32px;\n",
       "      padding: 0 0 0 0;\n",
       "      width: 32px;\n",
       "    }\n",
       "\n",
       "    .colab-df-convert:hover {\n",
       "      background-color: #E2EBFA;\n",
       "      box-shadow: 0px 1px 2px rgba(60, 64, 67, 0.3), 0px 1px 3px 1px rgba(60, 64, 67, 0.15);\n",
       "      fill: #174EA6;\n",
       "    }\n",
       "\n",
       "    [theme=dark] .colab-df-convert {\n",
       "      background-color: #3B4455;\n",
       "      fill: #D2E3FC;\n",
       "    }\n",
       "\n",
       "    [theme=dark] .colab-df-convert:hover {\n",
       "      background-color: #434B5C;\n",
       "      box-shadow: 0px 1px 3px 1px rgba(0, 0, 0, 0.15);\n",
       "      filter: drop-shadow(0px 1px 2px rgba(0, 0, 0, 0.3));\n",
       "      fill: #FFFFFF;\n",
       "    }\n",
       "  </style>\n",
       "\n",
       "      <script>\n",
       "        const buttonEl =\n",
       "          document.querySelector('#df-219fe04a-164c-46e4-adec-c4ee6f5a4065 button.colab-df-convert');\n",
       "        buttonEl.style.display =\n",
       "          google.colab.kernel.accessAllowed ? 'block' : 'none';\n",
       "\n",
       "        async function convertToInteractive(key) {\n",
       "          const element = document.querySelector('#df-219fe04a-164c-46e4-adec-c4ee6f5a4065');\n",
       "          const dataTable =\n",
       "            await google.colab.kernel.invokeFunction('convertToInteractive',\n",
       "                                                     [key], {});\n",
       "          if (!dataTable) return;\n",
       "\n",
       "          const docLinkHtml = 'Like what you see? Visit the ' +\n",
       "            '<a target=\"_blank\" href=https://colab.research.google.com/notebooks/data_table.ipynb>data table notebook</a>'\n",
       "            + ' to learn more about interactive tables.';\n",
       "          element.innerHTML = '';\n",
       "          dataTable['output_type'] = 'display_data';\n",
       "          await google.colab.output.renderOutput(dataTable, element);\n",
       "          const docLink = document.createElement('div');\n",
       "          docLink.innerHTML = docLinkHtml;\n",
       "          element.appendChild(docLink);\n",
       "        }\n",
       "      </script>\n",
       "    </div>\n",
       "  </div>\n",
       "  "
      ],
      "text/plain": [
       "       class value  frequency  relative frequency  \\\n",
       "class                                               \n",
       "0~10             5          9                 0.5   \n",
       "10~20           15          0                 0.0   \n",
       "20~30           25          0                 0.0   \n",
       "30~40           35          9                 0.5   \n",
       "40~50           45          0                 0.0   \n",
       "\n",
       "       cumulative relative frequency  \n",
       "class                                 \n",
       "0~10                             0.5  \n",
       "10~20                            0.5  \n",
       "20~30                            0.5  \n",
       "30~40                            1.0  \n",
       "40~50                            1.0  "
      ]
     },
     "execution_count": 61,
     "metadata": {},
     "output_type": "execute_result"
    }
   ],
   "source": [
    "# 계급값과 상대도수와 누적상대도수를 도수분포표에 추가\n",
    "freq_hist_df['class value'] = class_value\n",
    "freq_hist_df['relative frequency'] = rel_freq\n",
    "freq_hist_df['cumulative relative frequency'] = cum_rel_freq\n",
    "freq_hist_df = freq_hist_df[['class value','frequency', 'relative frequency', 'cumulative relative frequency' ]]\n",
    "freq_hist_df"
   ]
  },
  {
   "cell_type": "markdown",
   "metadata": {
    "id": "0k_6SJhbmD8a"
   },
   "source": [
    "6. 히스토그램을 그려보세요.\n",
    "> 히스토그램은 도수분포표를 막대그래프로 나타낸 것"
   ]
  },
  {
   "cell_type": "code",
   "execution_count": null,
   "metadata": {
    "colab": {
     "base_uri": "https://localhost:8080/",
     "height": 392
    },
    "id": "sdsUg1sjr9ZF",
    "outputId": "824a53d9-5cb4-4b80-b7d1-9fa16fc8143a"
   },
   "outputs": [
    {
     "data": {
      "image/png": "[encoded data removed]",
      "text/plain": [
       "<Figure size 720x432 with 1 Axes>"
      ]
     },
     "metadata": {
      "needs_background": "light"
     },
     "output_type": "display_data"
    }
   ],
   "source": [
    "# 히스토그램 시각화\n",
    "fig = plt.figure(figsize=(10,6))\n",
    "ax = fig.add_subplot(111)\n",
    "\n",
    "freq, _, _ = ax.hist(swim, bins = 5, range=(0, 50))\n",
    "ax.set_xlabel('age')\n",
    "ax.set_ylabel('person count')\n",
    "ax.set_xticks(np.linspace(0,50, 5+1))\n",
    "ax.set_yticks(np.arange(0, freq_hist_df.frequency.values.max()+1+1))\n",
    "plt.show()"
   ]
  },
  {
   "cell_type": "markdown",
   "metadata": {
    "id": "GN4Z-4j1y30t"
   },
   "source": [
    "7. 이 교실을 대표하는 나이를 2개 고른다면, 어떤 나이가 적합한지 생각을 적어보세요.\n",
    "> 2, 32가 대표하는 나이입니다. <br>그 이유는 나이에 대한 도수분포표와 히스토그램을 해본 결과, 0\\~10, 30\\~40 계급에만 데이터가 있고, 나머지 계급에는 데이터가 없기 때문입니다. 2개의 계급의 최빈값이 각각 2, 32이기 때문에 2, 32가 대표하는 나이입니다."
   ]
  },
  {
   "cell_type": "markdown",
   "metadata": {
    "id": "mgrJlr4Az0io"
   },
   "source": [
    "## P2. 이 달의 판매 실적\n",
    "- 분산과 표준편차에 대한 이해\n"
   ]
  },
  {
   "cell_type": "markdown",
   "metadata": {
    "id": "INQdLzWZ1CIR"
   },
   "source": [
    "1. 각 사원의 표준편차를 구해보세요."
   ]
  },
  {
   "cell_type": "code",
   "execution_count": null,
   "metadata": {
    "id": "TxlInZDHADct"
   },
   "outputs": [],
   "source": [
    "# 세 명의 사원의 이번달 물품 판매 실적이다.\n",
    "\n",
    "a = [70, 90, 90, 100, 100, 100, 100, 110, 110, 130]\n",
    "a = pd.DataFrame(a)\n",
    "\n",
    "b = [70, 80, 90, 90, 100, 100, 110, 110, 120, 130]\n",
    "b = pd.DataFrame(b)\n",
    "\n",
    "c = [30, 30, 60, 70, 70, 100, 100, 100, 110, 130, 300]\n",
    "c = pd.DataFrame(c)"
   ]
  },
  {
   "cell_type": "code",
   "execution_count": null,
   "metadata": {
    "colab": {
     "base_uri": "https://localhost:8080/"
    },
    "id": "eb4I_0SnBGOK",
    "outputId": "b6c48506-f149-486f-8dc5-2d5683cfacf6"
   },
   "outputs": [
    {
     "name": "stdout",
     "output_type": "stream",
     "text": [
      "0    14.832397\n",
      "dtype: float64\n",
      "0    17.320508\n",
      "dtype: float64\n",
      "0    70.194535\n",
      "dtype: float64\n"
     ]
    }
   ],
   "source": [
    "print(np.std(a))\n",
    "print(np.std(b))\n",
    "print(np.std(c))"
   ]
  },
  {
   "cell_type": "code",
   "execution_count": null,
   "metadata": {
    "colab": {
     "base_uri": "https://localhost:8080/",
     "height": 487
    },
    "id": "CAhE4AZSDIUi",
    "outputId": "af3ccf6f-2513-4129-f52b-93d7bf9229b8"
   },
   "outputs": [
    {
     "data": {
      "image/png": "[encoded data removed]",
      "text/plain": [
       "<Figure size 720x576 with 3 Axes>"
      ]
     },
     "metadata": {
      "needs_background": "light"
     },
     "output_type": "display_data"
    }
   ],
   "source": [
    "plt.figure(figsize=(10,8))\n",
    "\n",
    "plt.subplot(1,3,1)\n",
    "sns.boxplot(data=a)\n",
    "plt.ylim(0,400)\n",
    "\n",
    "plt.subplot(1,3,2)\n",
    "sns.boxplot(data=b)\n",
    "plt.ylim(0,400)\n",
    "\n",
    "plt.subplot(1,3,3)\n",
    "sns.boxplot(data=c)\n",
    "plt.ylim(0,400)\n",
    "\n",
    "plt.show()"
   ]
  },
  {
   "cell_type": "markdown",
   "metadata": {
    "id": "bg5GldEz1Eow"
   },
   "source": [
    "2. 세 사원 중에 누가 가장 안정적인 판매 실력을 가지고 있나요?\n",
    "> a 사원의 표준편차가 가장 낮으므로 a 사원의 판매 실력이 안정적이라고 할 수 있습니다."
   ]
  },
  {
   "cell_type": "markdown",
   "metadata": {
    "id": "x_zbh1y77wID"
   },
   "source": [
    "## P3. 향수공장\n",
    "- 모집단과 표본 추출 이해하기"
   ]
  },
  {
   "cell_type": "code",
   "execution_count": null,
   "metadata": {
    "colab": {
     "base_uri": "https://localhost:8080/"
    },
    "id": "F5pkgtsq1IC4",
    "outputId": "dd5d1117-497a-4466-a768-51a012125f1f"
   },
   "outputs": [
    {
     "data": {
      "text/plain": [
       "array([61.9, 62.6, 63.3, 64.8, 65.1, 66.4, 67.1, 67.2, 68.7, 69.9])"
      ]
     },
     "execution_count": 14,
     "metadata": {},
     "output_type": "execute_result"
    }
   ],
   "source": [
    "# 향수 공장에서 생산되는 향수를 무작위로 10개 추출하여 무게를 측정한 것이다.\n",
    "perfume = [61.9, 62.6, 63.3, 64.8, 65.1, 66.4, 67.1, 67.2, 68.7, 69.9]\n",
    "perfume = np.array(perfume)\n",
    "perfume"
   ]
  },
  {
   "cell_type": "markdown",
   "metadata": {
    "id": "jElkhlRJ70Jn"
   },
   "source": [
    "1. 표본 집단의 평균을 계산해보세요."
   ]
  },
  {
   "cell_type": "code",
   "execution_count": null,
   "metadata": {
    "colab": {
     "base_uri": "https://localhost:8080/"
    },
    "id": "f42YTI860Jpq",
    "outputId": "4c3a33d4-23b5-4270-c407-fb5b80778a99"
   },
   "outputs": [
    {
     "data": {
      "text/plain": [
       "65.7"
      ]
     },
     "execution_count": 15,
     "metadata": {},
     "output_type": "execute_result"
    }
   ],
   "source": [
    "np.mean(perfume)"
   ]
  },
  {
   "cell_type": "markdown",
   "metadata": {
    "id": "NVb0Dm9r8UU6"
   },
   "source": [
    "2. 계산한 표본 집단의 평균으로 모집단을 추청해도 되는지 생각을 적어보세요.\n",
    "> 모집단에서 표본 집단을 10개로 1번 무작위 추출한 걸 가지고 표본 평균 낸 것을 바로 모평균이라고 추청하면 안된다고 생각한다.<br> 적어도 여러번 무작위 추출 후 표본 평균들의 평균을 가지고 모평균이라고 추정해야한다고 생각한다."
   ]
  },
  {
   "cell_type": "markdown",
   "metadata": {
    "id": "y0L7DM568wRw"
   },
   "source": [
    "3. 해당 표본이 특정 작업장에서만 나온 것이라고 가정하면 어떤 문제가 생기는지 적어보세요.\n",
    "> 표본집단을 만들 때, 여러 작업장에서 무작위 추출을 하여 표본집단을 분석한 것을 토대로 모집단의 모수들을 추정해야 하는데, 특정 작업장에서만 나온 것을 분석하면 모집단의 모수를 추정할 수는 없다."
   ]
  },
  {
   "cell_type": "markdown",
   "metadata": {
    "id": "BmBuiMlvEcU_"
   },
   "source": [
    "4. 모집단의 크기가 10,000개라고 할 때 표본의 크기가 적절한지에 대해 생각을 적어보세요.\n",
    "> 표본의 크기가 너무 작은 경우가 아니라면 여러 번 무작위 추출을 하면 상관없다고 생각한다. "
   ]
  },
  {
   "cell_type": "markdown",
   "metadata": {
    "id": "oBtkRBIT9J4P"
   },
   "source": [
    "## P4. 야외콘서트\n",
    "- 이변량 데이터와 상관관계 파악하기"
   ]
  },
  {
   "cell_type": "code",
   "execution_count": null,
   "metadata": {
    "id": "-SdysJKC8Tap"
   },
   "outputs": [],
   "source": [
    "# 야외 콘서트가 열렸을 때마다 일조량과 관객 수를 조사하여 나타낸 것이다.\n",
    "x = [1.9, 2.5, 3.2, 3.8, 4.7, 5.5, 5.9, 7.2] # 일조량 (시간)\n",
    "y = [22, 33, 30, 42, 38, 49, 42, 55] # 공연 관객 수 (100명)\n",
    "x = np.array(x)\n",
    "y = np.array(y)"
   ]
  },
  {
   "cell_type": "markdown",
   "metadata": {
    "id": "BdycROfqOB56"
   },
   "source": [
    "1. 상관계수를 계산해보세요."
   ]
  },
  {
   "cell_type": "code",
   "execution_count": null,
   "metadata": {
    "id": "AerbybQAN45v"
   },
   "outputs": [],
   "source": [
    "# 공분산을 먼저 구해보자\n",
    "mean_x = np.mean(x)\n",
    "mean_y = np.mean(y)"
   ]
  },
  {
   "cell_type": "code",
   "execution_count": null,
   "metadata": {
    "colab": {
     "base_uri": "https://localhost:8080/"
    },
    "id": "b_3JHAVyOMW3",
    "outputId": "55593829-7d43-4bdc-826b-72e552a04f62"
   },
   "outputs": [
    {
     "data": {
      "text/plain": [
       "15.3546875"
      ]
     },
     "execution_count": 40,
     "metadata": {},
     "output_type": "execute_result"
    }
   ],
   "source": [
    "np.sum((x - mean_x) * (y - mean_y)) / len(x)"
   ]
  },
  {
   "cell_type": "code",
   "execution_count": null,
   "metadata": {
    "colab": {
     "base_uri": "https://localhost:8080/"
    },
    "id": "O3jF-mUMPA4g",
    "outputId": "44a725cf-3bc3-45aa-aa34-5c029a966d81"
   },
   "outputs": [
    {
     "data": {
      "text/plain": [
       "array([[ 2.87734375, 15.3546875 ],\n",
       "       [15.3546875 , 97.609375  ]])"
      ]
     },
     "execution_count": 41,
     "metadata": {},
     "output_type": "execute_result"
    }
   ],
   "source": [
    "np.cov(x,y,ddof=0)"
   ]
  },
  {
   "cell_type": "code",
   "execution_count": null,
   "metadata": {
    "colab": {
     "base_uri": "https://localhost:8080/"
    },
    "id": "_2nzymOqGLhZ",
    "outputId": "6e3d3f7a-335d-40ec-9491-8d112b853ff3"
   },
   "outputs": [
    {
     "data": {
      "text/plain": [
       "0.9162191008669328"
      ]
     },
     "execution_count": 44,
     "metadata": {},
     "output_type": "execute_result"
    }
   ],
   "source": [
    "# 상관계수를 구해보자.\n",
    "\n",
    "(np.sum((x - mean_x) * (y - mean_y)) / len(x)) / (np.std(x, ddof=0) * np.std(y, ddof=0))"
   ]
  },
  {
   "cell_type": "code",
   "execution_count": null,
   "metadata": {
    "colab": {
     "base_uri": "https://localhost:8080/"
    },
    "id": "fmMklzeUBmqr",
    "outputId": "4cc3e6e2-0f1d-4a2b-c1af-bbce2daa028e"
   },
   "outputs": [
    {
     "data": {
      "text/plain": [
       "0.9162191008669327"
      ]
     },
     "execution_count": 45,
     "metadata": {},
     "output_type": "execute_result"
    }
   ],
   "source": [
    "np.cov(x,y, ddof=0)[0][1] / (np.std(x, ddof=0) * np.std(y, ddof=0))"
   ]
  },
  {
   "cell_type": "code",
   "execution_count": null,
   "metadata": {
    "colab": {
     "base_uri": "https://localhost:8080/"
    },
    "id": "eUsgk6fDE27n",
    "outputId": "af4b45d9-6d65-4435-fc0b-e61d027638a5"
   },
   "outputs": [
    {
     "data": {
      "text/plain": [
       "0.9162191008669328"
      ]
     },
     "execution_count": 46,
     "metadata": {},
     "output_type": "execute_result"
    }
   ],
   "source": [
    "np.corrcoef(x,y)[0][1]"
   ]
  },
  {
   "cell_type": "markdown",
   "metadata": {
    "id": "7PA1tAX3CPbN"
   },
   "source": [
    "2. 일조량(x)와 공연 관객 수(y)는 어떤 상관관계를 가지는지 생각을 적어주세요.\n",
    "> 상관계수가 약 0.92로 나온 것을 보아 일조량과 공연 관객 수는 양의 상관관계에 있다고 말할 수 있다."
   ]
  }
 ],
 "metadata": {
  "colab": {
   "collapsed_sections": [],
   "name": "20220521-기초통계 과제",
   "provenance": []
  },
  "kernelspec": {
   "display_name": "Python 3",
   "name": "python3"
  },
  "language_info": {
   "name": "python"
  }
 },
 "nbformat": 4,
 "nbformat_minor": 0
}
