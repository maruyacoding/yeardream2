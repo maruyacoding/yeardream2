{
 "cells": [
  {
   "cell_type": "code",
   "execution_count": 1,
   "metadata": {
    "executionInfo": {
     "elapsed": 776,
     "status": "ok",
     "timestamp": 1652283364624,
     "user": {
      "displayName": "Doojin Park",
      "userId": "13081019711214908217"
     },
     "user_tz": -540
    },
    "id": "Kbsm6SydDoel"
   },
   "outputs": [],
   "source": [
    "%config InlineBackend.figure_formats = {'png', 'retina'}\n",
    "import numpy as np\n",
    "import pandas as pd\n",
    "import matplotlib.pyplot as plt\n",
    "import seaborn as sns\n",
    "import warnings\n",
    "warnings.filterwarnings('ignore')"
   ]
  },
  {
   "cell_type": "markdown",
   "metadata": {},
   "source": [
    "- mnist dataset\n",
    "    - black and white(흑백)\n",
    "    - RGB : (0, 0, 255)"
   ]
  },
  {
   "cell_type": "markdown",
   "metadata": {
    "id": "oQpm8IvAD4NH"
   },
   "source": [
    "### 손글씨 분류 모델 만들기"
   ]
  },
  {
   "cell_type": "code",
   "execution_count": 2,
   "metadata": {
    "executionInfo": {
     "elapsed": 3,
     "status": "ok",
     "timestamp": 1652283364624,
     "user": {
      "displayName": "Doojin Park",
      "userId": "13081019711214908217"
     },
     "user_tz": -540
    },
    "id": "PUBJBr5UD2jO"
   },
   "outputs": [],
   "source": [
    "# 1. 데이터 로드"
   ]
  },
  {
   "cell_type": "code",
   "execution_count": 3,
   "metadata": {
    "executionInfo": {
     "elapsed": 3,
     "status": "ok",
     "timestamp": 1652283364624,
     "user": {
      "displayName": "Doojin Park",
      "userId": "13081019711214908217"
     },
     "user_tz": -540
    },
    "id": "sH9ayjBVEUqM"
   },
   "outputs": [],
   "source": [
    "from sklearn import datasets"
   ]
  },
  {
   "cell_type": "code",
   "execution_count": 4,
   "metadata": {
    "executionInfo": {
     "elapsed": 281,
     "status": "ok",
     "timestamp": 1652283364903,
     "user": {
      "displayName": "Doojin Park",
      "userId": "13081019711214908217"
     },
     "user_tz": -540
    },
    "id": "4u7zOHVHEacU"
   },
   "outputs": [],
   "source": [
    "mnist = datasets.load_digits() # 8 * 8 이미지, 1797개\n",
    "# 이미지 분석에서 사용되는 대표적인 벤치마킹 데이터셋"
   ]
  },
  {
   "cell_type": "code",
   "execution_count": 35,
   "metadata": {},
   "outputs": [
    {
     "data": {
      "text/plain": [
       "{'data': array([[ 0.,  0.,  5., ...,  0.,  0.,  0.],\n",
       "        [ 0.,  0.,  0., ..., 10.,  0.,  0.],\n",
       "        [ 0.,  0.,  0., ..., 16.,  9.,  0.],\n",
       "        ...,\n",
       "        [ 0.,  0.,  1., ...,  6.,  0.,  0.],\n",
       "        [ 0.,  0.,  2., ..., 12.,  0.,  0.],\n",
       "        [ 0.,  0., 10., ..., 12.,  1.,  0.]]),\n",
       " 'target': array([0, 1, 2, ..., 8, 9, 8]),\n",
       " 'frame': None,\n",
       " 'feature_names': ['pixel_0_0',\n",
       "  'pixel_0_1',\n",
       "  'pixel_0_2',\n",
       "  'pixel_0_3',\n",
       "  'pixel_0_4',\n",
       "  'pixel_0_5',\n",
       "  'pixel_0_6',\n",
       "  'pixel_0_7',\n",
       "  'pixel_1_0',\n",
       "  'pixel_1_1',\n",
       "  'pixel_1_2',\n",
       "  'pixel_1_3',\n",
       "  'pixel_1_4',\n",
       "  'pixel_1_5',\n",
       "  'pixel_1_6',\n",
       "  'pixel_1_7',\n",
       "  'pixel_2_0',\n",
       "  'pixel_2_1',\n",
       "  'pixel_2_2',\n",
       "  'pixel_2_3',\n",
       "  'pixel_2_4',\n",
       "  'pixel_2_5',\n",
       "  'pixel_2_6',\n",
       "  'pixel_2_7',\n",
       "  'pixel_3_0',\n",
       "  'pixel_3_1',\n",
       "  'pixel_3_2',\n",
       "  'pixel_3_3',\n",
       "  'pixel_3_4',\n",
       "  'pixel_3_5',\n",
       "  'pixel_3_6',\n",
       "  'pixel_3_7',\n",
       "  'pixel_4_0',\n",
       "  'pixel_4_1',\n",
       "  'pixel_4_2',\n",
       "  'pixel_4_3',\n",
       "  'pixel_4_4',\n",
       "  'pixel_4_5',\n",
       "  'pixel_4_6',\n",
       "  'pixel_4_7',\n",
       "  'pixel_5_0',\n",
       "  'pixel_5_1',\n",
       "  'pixel_5_2',\n",
       "  'pixel_5_3',\n",
       "  'pixel_5_4',\n",
       "  'pixel_5_5',\n",
       "  'pixel_5_6',\n",
       "  'pixel_5_7',\n",
       "  'pixel_6_0',\n",
       "  'pixel_6_1',\n",
       "  'pixel_6_2',\n",
       "  'pixel_6_3',\n",
       "  'pixel_6_4',\n",
       "  'pixel_6_5',\n",
       "  'pixel_6_6',\n",
       "  'pixel_6_7',\n",
       "  'pixel_7_0',\n",
       "  'pixel_7_1',\n",
       "  'pixel_7_2',\n",
       "  'pixel_7_3',\n",
       "  'pixel_7_4',\n",
       "  'pixel_7_5',\n",
       "  'pixel_7_6',\n",
       "  'pixel_7_7'],\n",
       " 'target_names': array([0, 1, 2, 3, 4, 5, 6, 7, 8, 9]),\n",
       " 'images': array([[[ 0.,  0.,  5., ...,  1.,  0.,  0.],\n",
       "         [ 0.,  0., 13., ..., 15.,  5.,  0.],\n",
       "         [ 0.,  3., 15., ..., 11.,  8.,  0.],\n",
       "         ...,\n",
       "         [ 0.,  4., 11., ..., 12.,  7.,  0.],\n",
       "         [ 0.,  2., 14., ..., 12.,  0.,  0.],\n",
       "         [ 0.,  0.,  6., ...,  0.,  0.,  0.]],\n",
       " \n",
       "        [[ 0.,  0.,  0., ...,  5.,  0.,  0.],\n",
       "         [ 0.,  0.,  0., ...,  9.,  0.,  0.],\n",
       "         [ 0.,  0.,  3., ...,  6.,  0.,  0.],\n",
       "         ...,\n",
       "         [ 0.,  0.,  1., ...,  6.,  0.,  0.],\n",
       "         [ 0.,  0.,  1., ...,  6.,  0.,  0.],\n",
       "         [ 0.,  0.,  0., ..., 10.,  0.,  0.]],\n",
       " \n",
       "        [[ 0.,  0.,  0., ..., 12.,  0.,  0.],\n",
       "         [ 0.,  0.,  3., ..., 14.,  0.,  0.],\n",
       "         [ 0.,  0.,  8., ..., 16.,  0.,  0.],\n",
       "         ...,\n",
       "         [ 0.,  9., 16., ...,  0.,  0.,  0.],\n",
       "         [ 0.,  3., 13., ..., 11.,  5.,  0.],\n",
       "         [ 0.,  0.,  0., ..., 16.,  9.,  0.]],\n",
       " \n",
       "        ...,\n",
       " \n",
       "        [[ 0.,  0.,  1., ...,  1.,  0.,  0.],\n",
       "         [ 0.,  0., 13., ...,  2.,  1.,  0.],\n",
       "         [ 0.,  0., 16., ..., 16.,  5.,  0.],\n",
       "         ...,\n",
       "         [ 0.,  0., 16., ..., 15.,  0.,  0.],\n",
       "         [ 0.,  0., 15., ..., 16.,  0.,  0.],\n",
       "         [ 0.,  0.,  2., ...,  6.,  0.,  0.]],\n",
       " \n",
       "        [[ 0.,  0.,  2., ...,  0.,  0.,  0.],\n",
       "         [ 0.,  0., 14., ..., 15.,  1.,  0.],\n",
       "         [ 0.,  4., 16., ..., 16.,  7.,  0.],\n",
       "         ...,\n",
       "         [ 0.,  0.,  0., ..., 16.,  2.,  0.],\n",
       "         [ 0.,  0.,  4., ..., 16.,  2.,  0.],\n",
       "         [ 0.,  0.,  5., ..., 12.,  0.,  0.]],\n",
       " \n",
       "        [[ 0.,  0., 10., ...,  1.,  0.,  0.],\n",
       "         [ 0.,  2., 16., ...,  1.,  0.,  0.],\n",
       "         [ 0.,  0., 15., ..., 15.,  0.,  0.],\n",
       "         ...,\n",
       "         [ 0.,  4., 16., ..., 16.,  6.,  0.],\n",
       "         [ 0.,  8., 16., ..., 16.,  8.,  0.],\n",
       "         [ 0.,  1.,  8., ..., 12.,  1.,  0.]]]),\n",
       " 'DESCR': \".. _digits_dataset:\\n\\nOptical recognition of handwritten digits dataset\\n--------------------------------------------------\\n\\n**Data Set Characteristics:**\\n\\n    :Number of Instances: 1797\\n    :Number of Attributes: 64\\n    :Attribute Information: 8x8 image of integer pixels in the range 0..16.\\n    :Missing Attribute Values: None\\n    :Creator: E. Alpaydin (alpaydin '@' boun.edu.tr)\\n    :Date: July; 1998\\n\\nThis is a copy of the test set of the UCI ML hand-written digits datasets\\nhttps://archive.ics.uci.edu/ml/datasets/Optical+Recognition+of+Handwritten+Digits\\n\\nThe data set contains images of hand-written digits: 10 classes where\\neach class refers to a digit.\\n\\nPreprocessing programs made available by NIST were used to extract\\nnormalized bitmaps of handwritten digits from a preprinted form. From a\\ntotal of 43 people, 30 contributed to the training set and different 13\\nto the test set. 32x32 bitmaps are divided into nonoverlapping blocks of\\n4x4 and the number of on pixels are counted in each block. This generates\\nan input matrix of 8x8 where each element is an integer in the range\\n0..16. This reduces dimensionality and gives invariance to small\\ndistortions.\\n\\nFor info on NIST preprocessing routines, see M. D. Garris, J. L. Blue, G.\\nT. Candela, D. L. Dimmick, J. Geist, P. J. Grother, S. A. Janet, and C.\\nL. Wilson, NIST Form-Based Handprint Recognition System, NISTIR 5469,\\n1994.\\n\\n.. topic:: References\\n\\n  - C. Kaynak (1995) Methods of Combining Multiple Classifiers and Their\\n    Applications to Handwritten Digit Recognition, MSc Thesis, Institute of\\n    Graduate Studies in Science and Engineering, Bogazici University.\\n  - E. Alpaydin, C. Kaynak (1998) Cascading Classifiers, Kybernetika.\\n  - Ken Tang and Ponnuthurai N. Suganthan and Xi Yao and A. Kai Qin.\\n    Linear dimensionalityreduction using relevance weighted LDA. School of\\n    Electrical and Electronic Engineering Nanyang Technological University.\\n    2005.\\n  - Claudio Gentile. A New Approximate Maximal Margin Classification\\n    Algorithm. NIPS. 2000.\\n\"}"
      ]
     },
     "execution_count": 35,
     "metadata": {},
     "output_type": "execute_result"
    }
   ],
   "source": [
    "mnist"
   ]
  },
  {
   "cell_type": "code",
   "execution_count": 5,
   "metadata": {},
   "outputs": [
    {
     "data": {
      "text/plain": [
       "array([[ 0.,  0.,  5., ...,  0.,  0.,  0.],\n",
       "       [ 0.,  0.,  0., ..., 10.,  0.,  0.],\n",
       "       [ 0.,  0.,  0., ..., 16.,  9.,  0.],\n",
       "       ...,\n",
       "       [ 0.,  0.,  1., ...,  6.,  0.,  0.],\n",
       "       [ 0.,  0.,  2., ..., 12.,  0.,  0.],\n",
       "       [ 0.,  0., 10., ..., 12.,  1.,  0.]])"
      ]
     },
     "execution_count": 5,
     "metadata": {},
     "output_type": "execute_result"
    }
   ],
   "source": [
    "mnist.data"
   ]
  },
  {
   "cell_type": "code",
   "execution_count": 6,
   "metadata": {
    "executionInfo": {
     "elapsed": 8,
     "status": "ok",
     "timestamp": 1652283364903,
     "user": {
      "displayName": "Doojin Park",
      "userId": "13081019711214908217"
     },
     "user_tz": -540
    },
    "id": "ZM_3WdTCEGz0"
   },
   "outputs": [],
   "source": [
    "# 2. 데이터 전처리"
   ]
  },
  {
   "cell_type": "code",
   "execution_count": 7,
   "metadata": {
    "colab": {
     "base_uri": "https://localhost:8080/"
    },
    "executionInfo": {
     "elapsed": 8,
     "status": "ok",
     "timestamp": 1652283364903,
     "user": {
      "displayName": "Doojin Park",
      "userId": "13081019711214908217"
     },
     "user_tz": -540
    },
    "id": "4FT4fnTwEqry",
    "outputId": "8ab04ffc-fdeb-4f66-a252-ec5ea0683ccb"
   },
   "outputs": [
    {
     "data": {
      "text/plain": [
       "dict_keys(['data', 'target', 'frame', 'feature_names', 'target_names', 'images', 'DESCR'])"
      ]
     },
     "execution_count": 7,
     "metadata": {},
     "output_type": "execute_result"
    }
   ],
   "source": [
    "mnist.keys()"
   ]
  },
  {
   "cell_type": "code",
   "execution_count": 8,
   "metadata": {},
   "outputs": [
    {
     "name": "stdout",
     "output_type": "stream",
     "text": [
      "1797\n"
     ]
    }
   ],
   "source": [
    "print(len(mnist[\"data\"]))"
   ]
  },
  {
   "cell_type": "code",
   "execution_count": 9,
   "metadata": {
    "colab": {
     "base_uri": "https://localhost:8080/"
    },
    "executionInfo": {
     "elapsed": 8,
     "status": "ok",
     "timestamp": 1652283364905,
     "user": {
      "displayName": "Doojin Park",
      "userId": "13081019711214908217"
     },
     "user_tz": -540
    },
    "id": "uzPq7moXEzQd",
    "outputId": "2dd766e3-9518-4ea5-dc30-9971d3cf227d"
   },
   "outputs": [
    {
     "name": "stdout",
     "output_type": "stream",
     "text": [
      "[ 0.  0.  5. 13.  9.  1.  0.  0.  0.  0. 13. 15. 10. 15.  5.  0.  0.  3.\n",
      " 15.  2.  0. 11.  8.  0.  0.  4. 12.  0.  0.  8.  8.  0.  0.  5.  8.  0.\n",
      "  0.  9.  8.  0.  0.  4. 11.  0.  1. 12.  7.  0.  0.  2. 14.  5. 10. 12.\n",
      "  0.  0.  0.  0.  6. 13. 10.  0.  0.  0.]\n"
     ]
    },
    {
     "data": {
      "text/plain": [
       "array([[ 0.,  0.,  5., 13.,  9.,  1.,  0.,  0.],\n",
       "       [ 0.,  0., 13., 15., 10., 15.,  5.,  0.],\n",
       "       [ 0.,  3., 15.,  2.,  0., 11.,  8.,  0.],\n",
       "       [ 0.,  4., 12.,  0.,  0.,  8.,  8.,  0.],\n",
       "       [ 0.,  5.,  8.,  0.,  0.,  9.,  8.,  0.],\n",
       "       [ 0.,  4., 11.,  0.,  1., 12.,  7.,  0.],\n",
       "       [ 0.,  2., 14.,  5., 10., 12.,  0.,  0.],\n",
       "       [ 0.,  0.,  6., 13., 10.,  0.,  0.,  0.]])"
      ]
     },
     "execution_count": 9,
     "metadata": {},
     "output_type": "execute_result"
    }
   ],
   "source": [
    "data = mnist[\"data\"][0]\n",
    "print(data)\n",
    "\n",
    "# 원래의 행렬 데이터로 변환 8X8\n",
    "img = data.reshape(8, 8)\n",
    "img"
   ]
  },
  {
   "cell_type": "code",
   "execution_count": 10,
   "metadata": {
    "colab": {
     "base_uri": "https://localhost:8080/",
     "height": 265
    },
    "executionInfo": {
     "elapsed": 347,
     "status": "ok",
     "timestamp": 1652283365247,
     "user": {
      "displayName": "Doojin Park",
      "userId": "13081019711214908217"
     },
     "user_tz": -540
    },
    "id": "m7KYG2omFUbu",
    "outputId": "4e3b75ad-7ddb-47cb-8701-94da8c8e82c8"
   },
   "outputs": [
    {
     "data": {
      "image/png": "[encoded data removed]",
      "text/plain": [
       "<Figure size 432x288 with 1 Axes>"
      ]
     },
     "metadata": {
      "image/png": {
       "height": 248,
       "width": 245
      },
      "needs_background": "light"
     },
     "output_type": "display_data"
    }
   ],
   "source": [
    "# 이미지 출력\n",
    "plt.imshow(img, cmap=plt.cm.bone)\n",
    "plt.show()"
   ]
  },
  {
   "cell_type": "code",
   "execution_count": 11,
   "metadata": {
    "executionInfo": {
     "elapsed": 5,
     "status": "ok",
     "timestamp": 1652283365247,
     "user": {
      "displayName": "Doojin Park",
      "userId": "13081019711214908217"
     },
     "user_tz": -540
    },
    "id": "Gp8AMD4AFrXg"
   },
   "outputs": [],
   "source": [
    "# mnist.data[1000:1002], mnist.target[1000:1002]"
   ]
  },
  {
   "cell_type": "code",
   "execution_count": 12,
   "metadata": {
    "executionInfo": {
     "elapsed": 5,
     "status": "ok",
     "timestamp": 1652283365248,
     "user": {
      "displayName": "Doojin Park",
      "userId": "13081019711214908217"
     },
     "user_tz": -540
    },
    "id": "FxPKm6DvF5L5"
   },
   "outputs": [],
   "source": [
    "from sklearn.model_selection import train_test_split"
   ]
  },
  {
   "cell_type": "code",
   "execution_count": 13,
   "metadata": {
    "executionInfo": {
     "elapsed": 5,
     "status": "ok",
     "timestamp": 1652283365248,
     "user": {
      "displayName": "Doojin Park",
      "userId": "13081019711214908217"
     },
     "user_tz": -540
    },
    "id": "3mdGSRWBGEvX"
   },
   "outputs": [],
   "source": [
    "train_x, test_x, train_y, test_y = train_test_split(\n",
    "    mnist.data, mnist.target, test_size=0.3, random_state=0)"
   ]
  },
  {
   "cell_type": "code",
   "execution_count": 14,
   "metadata": {
    "executionInfo": {
     "elapsed": 6,
     "status": "ok",
     "timestamp": 1652283365249,
     "user": {
      "displayName": "Doojin Park",
      "userId": "13081019711214908217"
     },
     "user_tz": -540
    },
    "id": "g7d5DVYkEKD-"
   },
   "outputs": [],
   "source": [
    "# 3. 모델 학습 : svm : linear, rbf"
   ]
  },
  {
   "cell_type": "code",
   "execution_count": 15,
   "metadata": {
    "executionInfo": {
     "elapsed": 676,
     "status": "ok",
     "timestamp": 1652283365919,
     "user": {
      "displayName": "Doojin Park",
      "userId": "13081019711214908217"
     },
     "user_tz": -540
    },
    "id": "bWyo14dFGbTc"
   },
   "outputs": [],
   "source": [
    "from sklearn.svm import SVC"
   ]
  },
  {
   "cell_type": "code",
   "execution_count": 16,
   "metadata": {
    "executionInfo": {
     "elapsed": 25,
     "status": "ok",
     "timestamp": 1652283365920,
     "user": {
      "displayName": "Doojin Park",
      "userId": "13081019711214908217"
     },
     "user_tz": -540
    },
    "id": "Km5NTwOeGmMB"
   },
   "outputs": [],
   "source": [
    "linear_model = SVC( kernel=\"linear\").fit(train_x, train_y)"
   ]
  },
  {
   "cell_type": "code",
   "execution_count": 17,
   "metadata": {
    "executionInfo": {
     "elapsed": 25,
     "status": "ok",
     "timestamp": 1652283365920,
     "user": {
      "displayName": "Doojin Park",
      "userId": "13081019711214908217"
     },
     "user_tz": -540
    },
    "id": "X69Pj4BUG5rw"
   },
   "outputs": [],
   "source": [
    "rbf_model = SVC(kernel=\"rbf\", C=10).fit(train_x, train_y)"
   ]
  },
  {
   "cell_type": "code",
   "execution_count": 18,
   "metadata": {
    "executionInfo": {
     "elapsed": 25,
     "status": "ok",
     "timestamp": 1652283365921,
     "user": {
      "displayName": "Doojin Park",
      "userId": "13081019711214908217"
     },
     "user_tz": -540
    },
    "id": "ZClHV7hcEMc_"
   },
   "outputs": [],
   "source": [
    "# 4. 모델 평가"
   ]
  },
  {
   "cell_type": "code",
   "execution_count": 19,
   "metadata": {
    "colab": {
     "base_uri": "https://localhost:8080/"
    },
    "executionInfo": {
     "elapsed": 25,
     "status": "ok",
     "timestamp": 1652283365921,
     "user": {
      "displayName": "Doojin Park",
      "userId": "13081019711214908217"
     },
     "user_tz": -540
    },
    "id": "P6WDbeZjHPes",
    "outputId": "5697893c-3e54-4ddf-c4b1-363a945bdfaa"
   },
   "outputs": [
    {
     "data": {
      "text/plain": [
       "(0.9740740740740741, 0.9925925925925926)"
      ]
     },
     "execution_count": 19,
     "metadata": {},
     "output_type": "execute_result"
    }
   ],
   "source": [
    "linear_score = linear_model.score(test_x, test_y)\n",
    "rbf_score = rbf_model.score(test_x, test_y)\n",
    "linear_score, rbf_score\n",
    "# rbf 모델의 성능이 더 좋은 것을 확인"
   ]
  },
  {
   "cell_type": "code",
   "execution_count": 38,
   "metadata": {},
   "outputs": [
    {
     "name": "stdout",
     "output_type": "stream",
     "text": [
      "{'degree': 3, 'score': 0.9888888888888889}\n",
      "{'degree': 4, 'score': 0.9833333333333333}\n",
      "{'degree': 5, 'score': 0.9777777777777777}\n",
      "{'degree': 6, 'score': 0.9796296296296296}\n",
      "{'degree': 7, 'score': 0.9703703703703703}\n",
      "{'degree': 8, 'score': 0.9666666666666667}\n",
      "{'degree': 9, 'score': 0.9629629629629629}\n",
      "{'degree': 10, 'score': 0.9592592592592593}\n",
      "{'gamma': 0.001, 'C': 1, 'score': 0.9925925925925926}\n",
      "{'gamma': 0.001, 'C': 2, 'score': 0.9907407407407407}\n",
      "{'gamma': 0.001, 'C': 3, 'score': 0.9907407407407407}\n",
      "{'gamma': 0.001, 'C': 4, 'score': 0.9907407407407407}\n",
      "{'gamma': 0.001, 'C': 5, 'score': 0.9907407407407407}\n",
      "{'gamma': 0.001, 'C': 6, 'score': 0.9907407407407407}\n",
      "{'gamma': 0.001, 'C': 7, 'score': 0.9907407407407407}\n",
      "{'gamma': 0.001, 'C': 8, 'score': 0.9907407407407407}\n",
      "{'gamma': 0.001, 'C': 9, 'score': 0.9907407407407407}\n",
      "{'gamma': 0.001, 'C': 10, 'score': 0.9907407407407407}\n",
      "{'gamma': 0.002, 'C': 1, 'score': 0.9907407407407407}\n",
      "{'gamma': 0.002, 'C': 2, 'score': 0.9907407407407407}\n",
      "{'gamma': 0.002, 'C': 3, 'score': 0.9907407407407407}\n",
      "{'gamma': 0.002, 'C': 4, 'score': 0.9907407407407407}\n",
      "{'gamma': 0.002, 'C': 5, 'score': 0.9907407407407407}\n",
      "{'gamma': 0.002, 'C': 6, 'score': 0.9907407407407407}\n",
      "{'gamma': 0.002, 'C': 7, 'score': 0.9907407407407407}\n",
      "{'gamma': 0.002, 'C': 8, 'score': 0.9907407407407407}\n",
      "{'gamma': 0.002, 'C': 9, 'score': 0.9907407407407407}\n",
      "{'gamma': 0.002, 'C': 10, 'score': 0.9907407407407407}\n",
      "{'gamma': 0.003, 'C': 1, 'score': 0.987037037037037}\n",
      "{'gamma': 0.003, 'C': 2, 'score': 0.987037037037037}\n",
      "{'gamma': 0.003, 'C': 3, 'score': 0.987037037037037}\n",
      "{'gamma': 0.003, 'C': 4, 'score': 0.987037037037037}\n",
      "{'gamma': 0.003, 'C': 5, 'score': 0.987037037037037}\n",
      "{'gamma': 0.003, 'C': 6, 'score': 0.987037037037037}\n",
      "{'gamma': 0.003, 'C': 7, 'score': 0.987037037037037}\n",
      "{'gamma': 0.003, 'C': 8, 'score': 0.987037037037037}\n",
      "{'gamma': 0.003, 'C': 9, 'score': 0.987037037037037}\n",
      "{'gamma': 0.003, 'C': 10, 'score': 0.987037037037037}\n",
      "{'gamma': 0.004, 'C': 1, 'score': 0.9796296296296296}\n",
      "{'gamma': 0.004, 'C': 2, 'score': 0.9814814814814815}\n",
      "{'gamma': 0.004, 'C': 3, 'score': 0.9814814814814815}\n",
      "{'gamma': 0.004, 'C': 4, 'score': 0.9814814814814815}\n",
      "{'gamma': 0.004, 'C': 5, 'score': 0.9814814814814815}\n",
      "{'gamma': 0.004, 'C': 6, 'score': 0.9814814814814815}\n",
      "{'gamma': 0.004, 'C': 7, 'score': 0.9814814814814815}\n",
      "{'gamma': 0.004, 'C': 8, 'score': 0.9814814814814815}\n",
      "{'gamma': 0.004, 'C': 9, 'score': 0.9814814814814815}\n",
      "{'gamma': 0.004, 'C': 10, 'score': 0.9814814814814815}\n",
      "{'gamma': 0.005, 'C': 1, 'score': 0.9740740740740741}\n",
      "{'gamma': 0.005, 'C': 2, 'score': 0.9777777777777777}\n",
      "{'gamma': 0.005, 'C': 3, 'score': 0.9777777777777777}\n",
      "{'gamma': 0.005, 'C': 4, 'score': 0.9777777777777777}\n",
      "{'gamma': 0.005, 'C': 5, 'score': 0.9777777777777777}\n",
      "{'gamma': 0.005, 'C': 6, 'score': 0.9777777777777777}\n",
      "{'gamma': 0.005, 'C': 7, 'score': 0.9777777777777777}\n",
      "{'gamma': 0.005, 'C': 8, 'score': 0.9777777777777777}\n",
      "{'gamma': 0.005, 'C': 9, 'score': 0.9777777777777777}\n",
      "{'gamma': 0.005, 'C': 10, 'score': 0.9777777777777777}\n",
      "{'gamma': 0.006, 'C': 1, 'score': 0.9611111111111111}\n",
      "{'gamma': 0.006, 'C': 2, 'score': 0.9629629629629629}\n",
      "{'gamma': 0.006, 'C': 3, 'score': 0.9629629629629629}\n",
      "{'gamma': 0.006, 'C': 4, 'score': 0.9629629629629629}\n",
      "{'gamma': 0.006, 'C': 5, 'score': 0.9629629629629629}\n",
      "{'gamma': 0.006, 'C': 6, 'score': 0.9629629629629629}\n",
      "{'gamma': 0.006, 'C': 7, 'score': 0.9629629629629629}\n",
      "{'gamma': 0.006, 'C': 8, 'score': 0.9629629629629629}\n",
      "{'gamma': 0.006, 'C': 9, 'score': 0.9629629629629629}\n",
      "{'gamma': 0.006, 'C': 10, 'score': 0.9629629629629629}\n",
      "{'gamma': 0.007, 'C': 1, 'score': 0.9388888888888889}\n",
      "{'gamma': 0.007, 'C': 2, 'score': 0.9425925925925925}\n",
      "{'gamma': 0.007, 'C': 3, 'score': 0.9425925925925925}\n",
      "{'gamma': 0.007, 'C': 4, 'score': 0.9425925925925925}\n",
      "{'gamma': 0.007, 'C': 5, 'score': 0.9425925925925925}\n",
      "{'gamma': 0.007, 'C': 6, 'score': 0.9425925925925925}\n",
      "{'gamma': 0.007, 'C': 7, 'score': 0.9425925925925925}\n",
      "{'gamma': 0.007, 'C': 8, 'score': 0.9425925925925925}\n",
      "{'gamma': 0.007, 'C': 9, 'score': 0.9425925925925925}\n",
      "{'gamma': 0.007, 'C': 10, 'score': 0.9425925925925925}\n",
      "{'gamma': 0.008, 'C': 1, 'score': 0.9148148148148149}\n",
      "{'gamma': 0.008, 'C': 2, 'score': 0.924074074074074}\n",
      "{'gamma': 0.008, 'C': 3, 'score': 0.924074074074074}\n",
      "{'gamma': 0.008, 'C': 4, 'score': 0.924074074074074}\n",
      "{'gamma': 0.008, 'C': 5, 'score': 0.924074074074074}\n",
      "{'gamma': 0.008, 'C': 6, 'score': 0.924074074074074}\n",
      "{'gamma': 0.008, 'C': 7, 'score': 0.924074074074074}\n",
      "{'gamma': 0.008, 'C': 8, 'score': 0.924074074074074}\n",
      "{'gamma': 0.008, 'C': 9, 'score': 0.924074074074074}\n",
      "{'gamma': 0.008, 'C': 10, 'score': 0.924074074074074}\n",
      "{'gamma': 0.009000000000000001, 'C': 1, 'score': 0.8814814814814815}\n",
      "{'gamma': 0.009000000000000001, 'C': 2, 'score': 0.8851851851851852}\n",
      "{'gamma': 0.009000000000000001, 'C': 3, 'score': 0.8851851851851852}\n",
      "{'gamma': 0.009000000000000001, 'C': 4, 'score': 0.8851851851851852}\n",
      "{'gamma': 0.009000000000000001, 'C': 5, 'score': 0.8851851851851852}\n",
      "{'gamma': 0.009000000000000001, 'C': 6, 'score': 0.8851851851851852}\n",
      "{'gamma': 0.009000000000000001, 'C': 7, 'score': 0.8851851851851852}\n",
      "{'gamma': 0.009000000000000001, 'C': 8, 'score': 0.8851851851851852}\n",
      "{'gamma': 0.009000000000000001, 'C': 9, 'score': 0.8851851851851852}\n",
      "{'gamma': 0.009000000000000001, 'C': 10, 'score': 0.8851851851851852}\n",
      "{'gamma': 0.010000000000000002, 'C': 1, 'score': 0.8351851851851851}\n",
      "{'gamma': 0.010000000000000002, 'C': 2, 'score': 0.8481481481481481}\n",
      "{'gamma': 0.010000000000000002, 'C': 3, 'score': 0.8481481481481481}\n",
      "{'gamma': 0.010000000000000002, 'C': 4, 'score': 0.8481481481481481}\n",
      "{'gamma': 0.010000000000000002, 'C': 5, 'score': 0.8481481481481481}\n",
      "{'gamma': 0.010000000000000002, 'C': 6, 'score': 0.8481481481481481}\n",
      "{'gamma': 0.010000000000000002, 'C': 7, 'score': 0.8481481481481481}\n",
      "{'gamma': 0.010000000000000002, 'C': 8, 'score': 0.8481481481481481}\n",
      "{'gamma': 0.010000000000000002, 'C': 9, 'score': 0.8481481481481481}\n",
      "{'gamma': 0.010000000000000002, 'C': 10, 'score': 0.8481481481481481}\n"
     ]
    }
   ],
   "source": [
    "# rbf_model -> gamma, C -> 조합을 만들어서 계산해보자\n",
    "\n",
    "# gamma = 0.1 - 1.0 \n",
    "# c = 1 ~ 10\n",
    "# kernel = linear, poly, rbf\n",
    "# poly - degree = 3 - 10\n",
    "\n",
    "# Grid Search\n",
    "kernel_list = ['poly', 'rbf']\n",
    "degree_list = np.arange(3,11,1)\n",
    "gamma_list = np.arange(0.001, 0.011, 0.001)\n",
    "C_list = np.arange(1,11,1)\n",
    "\n",
    "result_dict = {}\n",
    "ct = 0\n",
    "\n",
    "for kernel in kernel_list :\n",
    "    if kernel == 'poly' : # poly\n",
    "        for degree in degree_list :\n",
    "            model = SVC(degree = degree, kernel = 'poly')\n",
    "            model.fit(train_x, train_y)\n",
    "            score = model.score(test_x, test_y)\n",
    "            result_dict[ct] = {'degree' : degree, 'score' : score }\n",
    "            print(result_dict[ct])\n",
    "            \n",
    "    else : # rbf\n",
    "        for gamma in gamma_list :\n",
    "            for C in C_list :\n",
    "                model = SVC(kernel ='rbf', gamma = gamma, C = C)\n",
    "                model.fit(train_x, train_y)\n",
    "                score = model.score(test_x, test_y)\n",
    "                result_dict[ct] = {'gamma' : gamma, 'C' : C , 'score' : score}\n",
    "                print(result_dict[ct])\n"
   ]
  },
  {
   "cell_type": "code",
   "execution_count": 23,
   "metadata": {},
   "outputs": [],
   "source": [
    "# GridSearchCV 모듈 사용해서 간단하게 GridSearch 가능\n",
    "from sklearn.model_selection  import GridSearchCV"
   ]
  },
  {
   "cell_type": "code",
   "execution_count": 42,
   "metadata": {},
   "outputs": [
    {
     "data": {
      "text/plain": [
       "0.9888888888888889"
      ]
     },
     "execution_count": 42,
     "metadata": {},
     "output_type": "execute_result"
    }
   ],
   "source": [
    "# kernel - poly degree가 3인 경우의 성능이 가장 좋음\n",
    "models = SVC(kernel ='poly', degree = 3)\n",
    "models.fit(train_x, train_y)\n",
    "models.score(test_x, test_y)"
   ]
  },
  {
   "cell_type": "code",
   "execution_count": 41,
   "metadata": {},
   "outputs": [
    {
     "data": {
      "text/plain": [
       "0.9925925925925926"
      ]
     },
     "execution_count": 41,
     "metadata": {},
     "output_type": "execute_result"
    }
   ],
   "source": [
    "# kernel - rbf gamma가 0.01, C가 1 인 경우의 성능이 가장 좋음\n",
    "models2 = SVC(kernel ='rbf', gamma = 0.001, C=1)\n",
    "models2.fit(train_x, train_y)\n",
    "models2.score(test_x, test_y)"
   ]
  },
  {
   "cell_type": "code",
   "execution_count": 31,
   "metadata": {
    "executionInfo": {
     "elapsed": 24,
     "status": "ok",
     "timestamp": 1652283365921,
     "user": {
      "displayName": "Doojin Park",
      "userId": "13081019711214908217"
     },
     "user_tz": -540
    },
    "id": "RfCHQf-XHiBN"
   },
   "outputs": [],
   "source": [
    "# c : 10 : 0.99259 > 과적합확인\n",
    "# c : 1 : 0.99074\n",
    "# c : 0.1 : 0.9481"
   ]
  },
  {
   "cell_type": "code",
   "execution_count": 32,
   "metadata": {
    "executionInfo": {
     "elapsed": 24,
     "status": "ok",
     "timestamp": 1652283365921,
     "user": {
      "displayName": "Doojin Park",
      "userId": "13081019711214908217"
     },
     "user_tz": -540
    },
    "id": "BTngAKFkEPct"
   },
   "outputs": [],
   "source": [
    "# 5. 모델 사용"
   ]
  },
  {
   "cell_type": "code",
   "execution_count": 43,
   "metadata": {},
   "outputs": [],
   "source": [
    "# import PIL.Image as pil\n",
    "from PIL import Image\n",
    "\n",
    "im = Image.open('*.jpeg') \n",
    "im.size \n",
    "# 모델이 예측할 수 있는 사이즈로 변경시켜줘야함"
   ]
  },
  {
   "cell_type": "code",
   "execution_count": 44,
   "metadata": {},
   "outputs": [
    {
     "data": {
      "image/png": "[encoded data removed]",
      "text/plain": [
       "<PIL.PngImagePlugin.PngImageFile image mode=RGBA size=146x146>"
      ]
     },
     "execution_count": 44,
     "metadata": {},
     "output_type": "execute_result"
    }
   ],
   "source": [
    "import PIL.Image as pil\n",
    "\n",
    "sample_data = pil.open(\"./imgs/data_1.png\")\n",
    "sample_data"
   ]
  },
  {
   "cell_type": "code",
   "execution_count": null,
   "metadata": {
    "executionInfo": {
     "elapsed": 22,
     "status": "ok",
     "timestamp": 1652283365922,
     "user": {
      "displayName": "Doojin Park",
      "userId": "13081019711214908217"
     },
     "user_tz": -540
    },
    "id": "ILnVSKMSI3wc"
   },
   "outputs": [],
   "source": [
    "# 이미지 사이즈를 8 * 8로 축소"
   ]
  },
  {
   "cell_type": "code",
   "execution_count": 45,
   "metadata": {
    "colab": {
     "base_uri": "https://localhost:8080/",
     "height": 34
    },
    "executionInfo": {
     "elapsed": 22,
     "status": "ok",
     "timestamp": 1652283365923,
     "user": {
      "displayName": "Doojin Park",
      "userId": "13081019711214908217"
     },
     "user_tz": -540
    },
    "id": "P91aKR-JJZxc",
    "outputId": "60ef3f19-b1fa-41f1-aab1-3579a1936481"
   },
   "outputs": [
    {
     "data": {
      "image/png": "[encoded data removed]",
      "text/plain": [
       "<PIL.Image.Image image mode=RGBA size=8x8>"
      ]
     },
     "execution_count": 45,
     "metadata": {},
     "output_type": "execute_result"
    }
   ],
   "source": [
    "# 모델을 8x8로 이미지를 학습해줬기 때문에 8x8사이즈로 변환해줘야함\n",
    "data1 = sample_data.resize((8, 8))\n",
    "data1"
   ]
  },
  {
   "cell_type": "code",
   "execution_count": null,
   "metadata": {
    "executionInfo": {
     "elapsed": 21,
     "status": "ok",
     "timestamp": 1652283365923,
     "user": {
      "displayName": "Doojin Park",
      "userId": "13081019711214908217"
     },
     "user_tz": -540
    },
    "id": "mg41a5XUI3cO"
   },
   "outputs": [],
   "source": [
    "# 흑백 이미지로 변경"
   ]
  },
  {
   "cell_type": "code",
   "execution_count": 46,
   "metadata": {
    "colab": {
     "base_uri": "https://localhost:8080/"
    },
    "executionInfo": {
     "elapsed": 20,
     "status": "ok",
     "timestamp": 1652283365923,
     "user": {
      "displayName": "Doojin Park",
      "userId": "13081019711214908217"
     },
     "user_tz": -540
    },
    "id": "DpHakIkvJnO9",
    "outputId": "35125ba5-d2e2-457a-b0db-2c439948b3a1"
   },
   "outputs": [
    {
     "data": {
      "text/plain": [
       "(8, 8, 4)"
      ]
     },
     "execution_count": 46,
     "metadata": {},
     "output_type": "execute_result"
    }
   ],
   "source": [
    "np.array(data1).shape"
   ]
  },
  {
   "cell_type": "code",
   "execution_count": 47,
   "metadata": {
    "colab": {
     "base_uri": "https://localhost:8080/"
    },
    "executionInfo": {
     "elapsed": 17,
     "status": "ok",
     "timestamp": 1652283365923,
     "user": {
      "displayName": "Doojin Park",
      "userId": "13081019711214908217"
     },
     "user_tz": -540
    },
    "id": "trN-IlXGJaLy",
    "outputId": "510c625a-fa88-4d80-d19d-3380fe05b8ca"
   },
   "outputs": [
    {
     "data": {
      "text/plain": [
       "(8, 8)"
      ]
     },
     "execution_count": 47,
     "metadata": {},
     "output_type": "execute_result"
    }
   ],
   "source": [
    "data2 = np.array(data1).mean(axis=2)\n",
    "data2.shape"
   ]
  },
  {
   "cell_type": "code",
   "execution_count": null,
   "metadata": {
    "executionInfo": {
     "elapsed": 594,
     "status": "ok",
     "timestamp": 1652283366502,
     "user": {
      "displayName": "Doojin Park",
      "userId": "13081019711214908217"
     },
     "user_tz": -540
    },
    "id": "3IlLVrCdJIGm"
   },
   "outputs": [],
   "source": [
    "# 흑백 전환 : 양각 > 음각"
   ]
  },
  {
   "cell_type": "code",
   "execution_count": 48,
   "metadata": {
    "colab": {
     "base_uri": "https://localhost:8080/",
     "height": 102
    },
    "executionInfo": {
     "elapsed": 16,
     "status": "ok",
     "timestamp": 1652283366503,
     "user": {
      "displayName": "Doojin Park",
      "userId": "13081019711214908217"
     },
     "user_tz": -540
    },
    "id": "sKUHdPnOJauE",
    "outputId": "8cdbf2d8-f2b8-4ecd-dcec-d04f513a21a5"
   },
   "outputs": [
    {
     "data": {
      "image/png": "[encoded data removed]",
      "text/plain": [
       "<Figure size 144x72 with 1 Axes>"
      ]
     },
     "metadata": {
      "image/png": {
       "height": 85,
       "width": 82
      },
      "needs_background": "light"
     },
     "output_type": "display_data"
    }
   ],
   "source": [
    "plt.figure(figsize=(2, 1))\n",
    "plt.imshow(data2, cmap=plt.cm.bone)\n",
    "plt.show()"
   ]
  },
  {
   "cell_type": "code",
   "execution_count": 49,
   "metadata": {
    "colab": {
     "base_uri": "https://localhost:8080/"
    },
    "executionInfo": {
     "elapsed": 14,
     "status": "ok",
     "timestamp": 1652283366503,
     "user": {
      "displayName": "Doojin Park",
      "userId": "13081019711214908217"
     },
     "user_tz": -540
    },
    "id": "l0HRUf_mKHt5",
    "outputId": "0f3e6ae1-df14-43c6-e482-04b76228edae"
   },
   "outputs": [
    {
     "data": {
      "text/plain": [
       "array([[  0.  ,   0.  ,  30.75,  81.75,  35.25,   0.  ,   0.  ,   0.  ],\n",
       "       [  0.  ,  70.5 , 171.  , 156.  , 153.75,   8.25,   0.  ,   0.  ],\n",
       "       [ 33.75, 175.5 ,  61.5 ,  19.5 , 171.75,  25.5 ,   0.  ,   0.  ],\n",
       "       [ 84.75, 141.  ,   0.  ,  22.5 , 171.  ,  24.75,   0.  ,   0.  ],\n",
       "       [ 17.25,  24.75,   0.  ,  60.75, 159.75,   0.75,   0.  ,   0.  ],\n",
       "       [  0.  ,   0.  ,   1.5 , 146.25, 172.5 , 117.75,  90.75,  18.75],\n",
       "       [  0.  ,   8.25, 117.  , 175.5 , 113.25, 106.5 , 145.5 ,  79.5 ],\n",
       "       [  0.  ,  34.5 , 164.25,  46.5 ,   0.  ,   0.  ,   0.75,   4.5 ]])"
      ]
     },
     "execution_count": 49,
     "metadata": {},
     "output_type": "execute_result"
    }
   ],
   "source": [
    "data3 = np.ones(data2.shape) * 255 - data2\n",
    "data3"
   ]
  },
  {
   "cell_type": "code",
   "execution_count": 50,
   "metadata": {
    "colab": {
     "base_uri": "https://localhost:8080/",
     "height": 102
    },
    "executionInfo": {
     "elapsed": 13,
     "status": "ok",
     "timestamp": 1652283366504,
     "user": {
      "displayName": "Doojin Park",
      "userId": "13081019711214908217"
     },
     "user_tz": -540
    },
    "id": "-8IrsVLtKbwM",
    "outputId": "82922b7b-b7fd-4daf-a9d9-0002c84aa5cd"
   },
   "outputs": [
    {
     "data": {
      "image/png": "[encoded data removed]",
      "text/plain": [
       "<Figure size 144x72 with 1 Axes>"
      ]
     },
     "metadata": {
      "image/png": {
       "height": 85,
       "width": 82
      },
      "needs_background": "light"
     },
     "output_type": "display_data"
    }
   ],
   "source": [
    "plt.figure(figsize=(2, 1))\n",
    "plt.imshow(data3, cmap=plt.cm.bone)\n",
    "plt.show()"
   ]
  },
  {
   "cell_type": "code",
   "execution_count": 51,
   "metadata": {
    "executionInfo": {
     "elapsed": 13,
     "status": "ok",
     "timestamp": 1652283366505,
     "user": {
      "displayName": "Doojin Park",
      "userId": "13081019711214908217"
     },
     "user_tz": -540
    },
    "id": "38pqtoHdJSOh"
   },
   "outputs": [],
   "source": [
    "# 색상범위 256 > 16"
   ]
  },
  {
   "cell_type": "code",
   "execution_count": 52,
   "metadata": {
    "colab": {
     "base_uri": "https://localhost:8080/"
    },
    "executionInfo": {
     "elapsed": 13,
     "status": "ok",
     "timestamp": 1652283366505,
     "user": {
      "displayName": "Doojin Park",
      "userId": "13081019711214908217"
     },
     "user_tz": -540
    },
    "id": "zlKL0bwIJbEy",
    "outputId": "99875f80-1b44-46e3-e6ac-3a34f1823eee"
   },
   "outputs": [
    {
     "data": {
      "text/plain": [
       "array([[ 0.,  0.,  2.,  5.,  2.,  0.,  0.,  0.],\n",
       "       [ 0.,  4., 11., 10., 10.,  1.,  0.,  0.],\n",
       "       [ 2., 11.,  4.,  1., 11.,  2.,  0.,  0.],\n",
       "       [ 5.,  9.,  0.,  1., 11.,  2.,  0.,  0.],\n",
       "       [ 1.,  2.,  0.,  4., 10.,  0.,  0.,  0.],\n",
       "       [ 0.,  0.,  0.,  9., 11.,  7.,  6.,  1.],\n",
       "       [ 0.,  1.,  7., 11.,  7.,  7.,  9.,  5.],\n",
       "       [ 0.,  2., 10.,  3.,  0.,  0.,  0.,  0.]])"
      ]
     },
     "execution_count": 52,
     "metadata": {},
     "output_type": "execute_result"
    }
   ],
   "source": [
    "data4 = np.round(data3 / 16)\n",
    "data4"
   ]
  },
  {
   "cell_type": "code",
   "execution_count": 53,
   "metadata": {
    "colab": {
     "base_uri": "https://localhost:8080/"
    },
    "executionInfo": {
     "elapsed": 10,
     "status": "ok",
     "timestamp": 1652283366505,
     "user": {
      "displayName": "Doojin Park",
      "userId": "13081019711214908217"
     },
     "user_tz": -540
    },
    "id": "z6EmeupGKyeS",
    "outputId": "78f73ad2-d08c-404c-a494-e8cf5c5dde43"
   },
   "outputs": [
    {
     "data": {
      "text/plain": [
       "array([2])"
      ]
     },
     "execution_count": 53,
     "metadata": {},
     "output_type": "execute_result"
    }
   ],
   "source": [
    "rbf_model.predict(data4.reshape(1, -1))"
   ]
  },
  {
   "cell_type": "code",
   "execution_count": null,
   "metadata": {},
   "outputs": [],
   "source": []
  }
 ],
 "metadata": {
  "colab": {
   "authorship_tag": "ABX9TyPmUlxnaaM1bRUyZUBxKzgI",
   "collapsed_sections": [],
   "name": "08_svm_mnist.ipynb",
   "provenance": []
  },
  "kernelspec": {
   "display_name": "Python 3 (ipykernel)",
   "language": "python",
   "name": "python3"
  },
  "language_info": {
   "codemirror_mode": {
    "name": "ipython",
    "version": 3
   },
   "file_extension": ".py",
   "mimetype": "text/x-python",
   "name": "python",
   "nbconvert_exporter": "python",
   "pygments_lexer": "ipython3",
   "version": "3.8.13"
  }
 },
 "nbformat": 4,
 "nbformat_minor": 1
}
