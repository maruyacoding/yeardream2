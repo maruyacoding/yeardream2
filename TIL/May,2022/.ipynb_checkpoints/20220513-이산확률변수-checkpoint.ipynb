{
 "cells": [
  {
   "cell_type": "code",
   "execution_count": 1,
   "id": "f93b609c",
   "metadata": {},
   "outputs": [],
   "source": [
    "import numpy as np\n",
    "import matplotlib.pyplot as plt\n",
    "\n",
    "%precision 3\n",
    "%matplotlib inline"
   ]
  },
  {
   "cell_type": "markdown",
   "id": "0cbbd12d",
   "metadata": {},
   "source": [
    "### 1차원 이산형 확률변수"
   ]
  },
  {
   "cell_type": "markdown",
   "id": "e466141b",
   "metadata": {},
   "source": [
    "#### 확률 질량 함수(Probability Mass Function)"
   ]
  },
  {
   "cell_type": "code",
   "execution_count": 2,
   "id": "3e65c3f6",
   "metadata": {},
   "outputs": [],
   "source": [
    "x_set = np.array([1,2,3,4,5,6])"
   ]
  },
  {
   "cell_type": "code",
   "execution_count": 3,
   "id": "4baa1732",
   "metadata": {},
   "outputs": [],
   "source": [
    "def f(x) :\n",
    "    if x in x_set :\n",
    "        return x/21\n",
    "    else :\n",
    "        return 0"
   ]
  },
  {
   "cell_type": "code",
   "execution_count": 7,
   "id": "857b90dc",
   "metadata": {},
   "outputs": [
    {
     "data": {
      "text/plain": [
       "{1: 0.048, 2: 0.095, 3: 0.143, 4: 0.190, 5: 0.238, 6: 0.286}"
      ]
     },
     "execution_count": 7,
     "metadata": {},
     "output_type": "execute_result"
    }
   ],
   "source": [
    "# 확률 p_k = p(x_k) 계산\n",
    "prob = np.array([f(x_k) for x_k in x_set])\n",
    "\n",
    "# x_k와 p_k의 대응을 dictionary type으로 표시\n",
    "dict(zip(x_set, prob))"
   ]
  },
  {
   "cell_type": "code",
   "execution_count": 8,
   "id": "e0cbedfb",
   "metadata": {},
   "outputs": [
    {
     "data": {
      "text/plain": [
       "True"
      ]
     },
     "execution_count": 8,
     "metadata": {},
     "output_type": "execute_result"
    }
   ],
   "source": [
    "# 확률은 절대적으로 0 이상이어야 한다.\n",
    "np.all(prob >= 0)"
   ]
  },
  {
   "cell_type": "code",
   "execution_count": 9,
   "id": "8770fabc",
   "metadata": {},
   "outputs": [
    {
     "data": {
      "text/plain": [
       "1.000"
      ]
     },
     "execution_count": 9,
     "metadata": {},
     "output_type": "execute_result"
    }
   ],
   "source": [
    "# 모든 확률을 더하면 1이 되어야 한다.\n",
    "np.sum(prob)"
   ]
  },
  {
   "cell_type": "markdown",
   "id": "a20df08a",
   "metadata": {},
   "source": [
    "#### 누적분포함수(CumulativeDistribution Function:  CDF)"
   ]
  },
  {
   "cell_type": "code",
   "execution_count": 12,
   "id": "e3b9eac8",
   "metadata": {},
   "outputs": [],
   "source": [
    "def F(x) :\n",
    "    return np.sum([f(x_k) for x_k in x_set if x_k <= x])"
   ]
  },
  {
   "cell_type": "code",
   "execution_count": 13,
   "id": "128e9560",
   "metadata": {},
   "outputs": [
    {
     "data": {
      "text/plain": [
       "0.286"
      ]
     },
     "execution_count": 13,
     "metadata": {},
     "output_type": "execute_result"
    }
   ],
   "source": [
    "F(3)"
   ]
  },
  {
   "cell_type": "code",
   "execution_count": 15,
   "id": "6573eea7",
   "metadata": {},
   "outputs": [
    {
     "data": {
      "text/plain": [
       "{5: 0.048, 7: 0.095, 9: 0.143, 11: 0.190, 13: 0.238, 15: 0.286}"
      ]
     },
     "execution_count": 15,
     "metadata": {},
     "output_type": "execute_result"
    }
   ],
   "source": [
    "# 2x+3으로 변환된 확률변수 Y 계산\n",
    "\n",
    "y_set = np.array([2*x_k + 3 for x_k in x_set])\n",
    "prob = np.array([f(x_k) for x_k in x_set])\n",
    "dict(zip(y_set, prob))"
   ]
  },
  {
   "cell_type": "markdown",
   "id": "9bb3ed4b",
   "metadata": {},
   "source": [
    "#### 1차원 이산형 확률변수 지표\n",
    "1. 기대값\n",
    "2. 분산"
   ]
  },
  {
   "cell_type": "code",
   "execution_count": 17,
   "id": "f62ebdcb",
   "metadata": {},
   "outputs": [
    {
     "data": {
      "text/plain": [
       "4.333"
      ]
     },
     "execution_count": 17,
     "metadata": {},
     "output_type": "execute_result"
    }
   ],
   "source": [
    "# 기대값(Expectation, Expected Value) \n",
    "np.sum([x_k*f(x_k) for x_k in x_set])"
   ]
  },
  {
   "cell_type": "code",
   "execution_count": 18,
   "id": "e74785ca",
   "metadata": {},
   "outputs": [
    {
     "data": {
      "text/plain": [
       "4.332"
      ]
     },
     "execution_count": 18,
     "metadata": {},
     "output_type": "execute_result"
    }
   ],
   "source": [
    "# 이상적인 기대값 계산 방법 (100만번 시행)\n",
    "sample = np.random.choice(x_set, int(1e6), p=prob)\n",
    "np.mean(sample)"
   ]
  },
  {
   "cell_type": "code",
   "execution_count": 23,
   "id": "03697a9a",
   "metadata": {},
   "outputs": [],
   "source": [
    "# 변환된 확률변수 g(X)의 기대값\n",
    "\n",
    "# g(X) = x 일 때\n",
    "def E(x, g=lambda  x:x):\n",
    "    x_set, f=x\n",
    "    return np.sum([g(x_k) * f(x_k) for x_k in x_set])"
   ]
  },
  {
   "cell_type": "code",
   "execution_count": 25,
   "id": "6946b3f8",
   "metadata": {},
   "outputs": [
    {
     "data": {
      "text/plain": [
       "4.333"
      ]
     },
     "execution_count": 25,
     "metadata": {},
     "output_type": "execute_result"
    }
   ],
   "source": [
    "E(x)"
   ]
  },
  {
   "cell_type": "code",
   "execution_count": 27,
   "id": "f84befd8",
   "metadata": {},
   "outputs": [
    {
     "data": {
      "text/plain": [
       "11.667"
      ]
     },
     "execution_count": 27,
     "metadata": {},
     "output_type": "execute_result"
    }
   ],
   "source": [
    "# g(x) = 2x+3 일 때\n",
    "\n",
    "E(x, g=lambda x:2*x+3)"
   ]
  },
  {
   "cell_type": "code",
   "execution_count": 28,
   "id": "8255e8d1",
   "metadata": {},
   "outputs": [
    {
     "data": {
      "text/plain": [
       "11.667"
      ]
     },
     "execution_count": 28,
     "metadata": {},
     "output_type": "execute_result"
    }
   ],
   "source": [
    "2*E(x) + 3"
   ]
  },
  {
   "cell_type": "code",
   "execution_count": 29,
   "id": "c614ed1c",
   "metadata": {},
   "outputs": [
    {
     "data": {
      "text/plain": [
       "2.222"
      ]
     },
     "execution_count": 29,
     "metadata": {},
     "output_type": "execute_result"
    }
   ],
   "source": [
    "# 분산\n",
    "mean = E(x)\n",
    "np.sum([(x_k-mean)**2*f(x_k) for x_k in x_set])"
   ]
  },
  {
   "cell_type": "code",
   "execution_count": 31,
   "id": "f4ad070e",
   "metadata": {},
   "outputs": [],
   "source": [
    "# 변환된 확률변수의 g(x)의 분산\n",
    "# 분산 계산함수 정의\n",
    "\n",
    "def V(x, g=lambda x:x) :\n",
    "    x_set, f=x\n",
    "    mean = E(x, g)\n",
    "    return np.sum([(g(x_k)-mean)**2*f(x_k) for x_k in x_set])"
   ]
  },
  {
   "cell_type": "code",
   "execution_count": 34,
   "id": "a8f3df56",
   "metadata": {},
   "outputs": [
    {
     "data": {
      "text/plain": [
       "2.222"
      ]
     },
     "execution_count": 34,
     "metadata": {},
     "output_type": "execute_result"
    }
   ],
   "source": [
    "# g(x) = x 일 때\n",
    "\n",
    "V(x)"
   ]
  },
  {
   "cell_type": "code",
   "execution_count": 36,
   "id": "e37facf5",
   "metadata": {},
   "outputs": [
    {
     "data": {
      "text/plain": [
       "8.889"
      ]
     },
     "execution_count": 36,
     "metadata": {},
     "output_type": "execute_result"
    }
   ],
   "source": [
    "# g(X) = 2x+3 일 때\n",
    "\n",
    "V(x, lambda x : 2*x+3)"
   ]
  },
  {
   "cell_type": "code",
   "execution_count": 40,
   "id": "cc09b2c8",
   "metadata": {},
   "outputs": [
    {
     "data": {
      "text/plain": [
       "8.889"
      ]
     },
     "metadata": {},
     "output_type": "display_data"
    },
    {
     "data": {
      "text/plain": [
       "8.889"
      ]
     },
     "metadata": {},
     "output_type": "display_data"
    }
   ],
   "source": [
    "# 분산의 선형성\n",
    "# V(2x+3) = 2^2V(x)\n",
    "\n",
    "display(V(x, lambda x:2*x + 3))\n",
    "display(2**2 * V(x))"
   ]
  },
  {
   "cell_type": "markdown",
   "id": "c70810b4",
   "metadata": {},
   "source": [
    "### 2차원 이산형 확률변수"
   ]
  },
  {
   "cell_type": "markdown",
   "id": "31f00e59",
   "metadata": {},
   "source": [
    "#### 결합확률분포(Joint Probability Distribution)"
   ]
  },
  {
   "cell_type": "code",
   "execution_count": 41,
   "id": "20de5f9a",
   "metadata": {},
   "outputs": [],
   "source": [
    "# X는 불공정한 주사위 A, B 2개의 눈을 더한 것, Y는 불공정한 주사위 A눈으로 가정\n",
    "x_set = np.arange(2,13)\n",
    "y_set = np.arange(1,7)"
   ]
  },
  {
   "cell_type": "code",
   "execution_count": 48,
   "id": "8df98505",
   "metadata": {},
   "outputs": [],
   "source": [
    "def f_xy(x,y) :\n",
    "    if 1<=y<=6 and 1<=x-y<=6 :\n",
    "        return y*(x-y) / 441\n",
    "    else : \n",
    "        return 0"
   ]
  },
  {
   "cell_type": "code",
   "execution_count": 49,
   "id": "7977ab4b",
   "metadata": {},
   "outputs": [
    {
     "data": {
      "text/plain": [
       "[array([ 2,  3,  4,  5,  6,  7,  8,  9, 10, 11, 12]),\n",
       " array([1, 2, 3, 4, 5, 6]),\n",
       " <function __main__.f_xy(x, y)>]"
      ]
     },
     "execution_count": 49,
     "metadata": {},
     "output_type": "execute_result"
    }
   ],
   "source": [
    "# 확률변수\n",
    "xy = [x_set, y_set, f_xy]\n",
    "xy"
   ]
  },
  {
   "cell_type": "code",
   "execution_count": 58,
   "id": "a1213c08",
   "metadata": {},
   "outputs": [
    {
     "data": {
      "text/plain": [
       "(11, 6)"
      ]
     },
     "execution_count": 58,
     "metadata": {},
     "output_type": "execute_result"
    }
   ],
   "source": [
    "prob = np.array(\n",
    "    [\n",
    "        [\n",
    "            f_xy(x_i, y_j)\n",
    "            for y_j in y_set\n",
    "        ]\n",
    "        for x_i in x_set\n",
    "    ]\n",
    ")\n",
    "prob.shape"
   ]
  },
  {
   "cell_type": "code",
   "execution_count": 62,
   "id": "f5a909b2",
   "metadata": {},
   "outputs": [
    {
     "data": {
      "image/png": "[encoded data removed]",
      "text/plain": [
       "<Figure size 720x576 with 2 Axes>"
      ]
     },
     "metadata": {
      "needs_background": "light"
     },
     "output_type": "display_data"
    }
   ],
   "source": [
    "# 2차원 이산형 확률변수 시각화\n",
    "\n",
    "fig = plt.figure(figsize=(10,8))\n",
    "ax = fig.add_subplot(1,1,1)\n",
    "\n",
    "c= ax.pcolor(prob)\n",
    "ax.set_xticks(np.arange(prob.shape[1])+0.5, minor = False)\n",
    "ax.set_yticks(np.arange(prob.shape[0])+0.5, minor = False)\n",
    "ax.set_xticklabels(np.arange(1,7), minor = False)\n",
    "ax.set_yticklabels(np.arange(2,13), minor = False)\n",
    "\n",
    "# y축을 내림차순의 숫자가 되도록 위 아래를 반전한다.\n",
    "ax.invert_yaxis()\n",
    "# x축 눈금을 그래프 위쪽에 표시\n",
    "ax.xaxis.tick_top()\n",
    "fig.colorbar(c, ax=ax)\n",
    "plt.show()"
   ]
  },
  {
   "cell_type": "code",
   "execution_count": 63,
   "id": "a4f54fde",
   "metadata": {},
   "outputs": [
    {
     "data": {
      "text/plain": [
       "True"
      ]
     },
     "execution_count": 63,
     "metadata": {},
     "output_type": "execute_result"
    }
   ],
   "source": [
    "# 확률은 절대적으로 0 이상이어야 한다.\n",
    "np.all(prob>=0)"
   ]
  },
  {
   "cell_type": "code",
   "execution_count": 64,
   "id": "a05860c5",
   "metadata": {},
   "outputs": [
    {
     "data": {
      "text/plain": [
       "1.000"
      ]
     },
     "execution_count": 64,
     "metadata": {},
     "output_type": "execute_result"
    }
   ],
   "source": [
    "# 모든 확률을 더하면 1이 되어야 한다.\n",
    "np.sum(prob)"
   ]
  },
  {
   "cell_type": "markdown",
   "id": "b32ce055",
   "metadata": {},
   "source": [
    "#### 주변확률분포(Marginal Probability Distribution)\n",
    "- '결합확률분포'에 의해 동시에 정의된 후 개별 확률변수의 확률분포만을 다시 살펴볼때 '주변확률분포'라고 한다."
   ]
  },
  {
   "cell_type": "code",
   "execution_count": 65,
   "id": "1e6e0969",
   "metadata": {},
   "outputs": [],
   "source": [
    "# 주변확률분포 정의\n",
    "\n",
    "def f_x(x):\n",
    "    return np.sum(\n",
    "        [\n",
    "            f_xy(x, y_k)\n",
    "            for y_k in y_set\n",
    "        ]\n",
    "    )\n",
    "\n",
    "def f_y(y):\n",
    "    return np.sum(\n",
    "        [\n",
    "            f_xy(x_k, y)\n",
    "            for x_k in x_set\n",
    "        ]\n",
    "    )"
   ]
  },
  {
   "cell_type": "code",
   "execution_count": 68,
   "id": "dc4da3f8",
   "metadata": {},
   "outputs": [],
   "source": [
    "x = [x_set, f_x]\n",
    "y = [y_set, f_y]"
   ]
  },
  {
   "cell_type": "code",
   "execution_count": 70,
   "id": "b48d7956",
   "metadata": {},
   "outputs": [],
   "source": [
    "prob_x = np.array(\n",
    "    [\n",
    "        f_x(x_k)\n",
    "        for x_k in x_set\n",
    "    ]\n",
    ")\n",
    "\n",
    "prob_y = np.array(\n",
    "    [\n",
    "        f_y(y_k)\n",
    "        for y_k in y_set\n",
    "    ]\n",
    ")"
   ]
  },
  {
   "cell_type": "code",
   "execution_count": 73,
   "id": "420bce2f",
   "metadata": {},
   "outputs": [
    {
     "data": {
      "image/png": "[encoded data removed]",
      "text/plain": [
       "<Figure size 864x432 with 2 Axes>"
      ]
     },
     "metadata": {
      "needs_background": "light"
     },
     "output_type": "display_data"
    }
   ],
   "source": [
    "# 주변확률분포 fx(x), fy(y) 시각화\n",
    "\n",
    "fig = plt.figure(figsize=(12,6))\n",
    "ax1 = fig.add_subplot(1,2,1)\n",
    "ax2 = fig.add_subplot(1,2,2)\n",
    "\n",
    "ax1.bar(x_set, prob_x)\n",
    "ax1.set_title('X_marginal probability distribution')\n",
    "ax1.set_xlabel('X_value')\n",
    "ax1.set_ylabel('probability')\n",
    "ax1.set_xticks(x_set)\n",
    "\n",
    "ax2.bar(y_set, prob_y)\n",
    "ax2.set_title('Y_marginal probability distribution')\n",
    "ax2.set_xlabel('Y_value')\n",
    "ax2.set_ylabel('probability')\n",
    "\n",
    "plt.show()"
   ]
  },
  {
   "cell_type": "markdown",
   "id": "732be0cf",
   "metadata": {},
   "source": [
    "#### 2차원 이산형 확률변수 지표\n",
    "1. 기대값\n",
    "2. 분산\n",
    "3. 공분산\n",
    "4. 상관계수"
   ]
  },
  {
   "cell_type": "code",
   "execution_count": 75,
   "id": "9c9751b1",
   "metadata": {},
   "outputs": [
    {
     "data": {
      "text/plain": [
       "8.667"
      ]
     },
     "execution_count": 75,
     "metadata": {},
     "output_type": "execute_result"
    }
   ],
   "source": [
    "# 기대값 x에 대한 구현\n",
    "np.sum(\n",
    "    [\n",
    "        x_i * f_xy(x_i, y_j)\n",
    "        for x_i in x_set\n",
    "        for y_j in y_set\n",
    "    ]\n",
    ")"
   ]
  },
  {
   "cell_type": "code",
   "execution_count": 76,
   "id": "bdb15898",
   "metadata": {},
   "outputs": [],
   "source": [
    "# 기대값의 일반화 구현 및 기대값 x, 기대값 y 계산\n",
    "\n",
    "def E(xy, g):\n",
    "    x_set, y_set, f_xy = xy\n",
    "    return np.sum(\n",
    "        [\n",
    "            g(x_i, y_j) * f_xy(x_i, y_j)\n",
    "            for x_i in x_set\n",
    "            for y_j in y_set\n",
    "        ]\n",
    "    )"
   ]
  },
  {
   "cell_type": "code",
   "execution_count": 77,
   "id": "859da2ac",
   "metadata": {},
   "outputs": [
    {
     "data": {
      "text/plain": [
       "8.667"
      ]
     },
     "execution_count": 77,
     "metadata": {},
     "output_type": "execute_result"
    }
   ],
   "source": [
    "mean_x = E(xy, lambda x, y : x)\n",
    "mean_x"
   ]
  },
  {
   "cell_type": "code",
   "execution_count": 78,
   "id": "b73ae76a",
   "metadata": {},
   "outputs": [
    {
     "data": {
      "text/plain": [
       "4.333"
      ]
     },
     "execution_count": 78,
     "metadata": {},
     "output_type": "execute_result"
    }
   ],
   "source": [
    "mean_y = E(xy, lambda x, y : y)\n",
    "mean_y"
   ]
  },
  {
   "cell_type": "code",
   "execution_count": 79,
   "id": "d0a72afb",
   "metadata": {},
   "outputs": [],
   "source": [
    "# 기대값의 선형성\n",
    "a, b = 2, 3"
   ]
  },
  {
   "cell_type": "code",
   "execution_count": 80,
   "id": "b2158714",
   "metadata": {},
   "outputs": [
    {
     "data": {
      "text/plain": [
       "30.333"
      ]
     },
     "execution_count": 80,
     "metadata": {},
     "output_type": "execute_result"
    }
   ],
   "source": [
    "E(xy, lambda x,y : a*x + b*y)"
   ]
  },
  {
   "cell_type": "code",
   "execution_count": 82,
   "id": "de8eea38",
   "metadata": {},
   "outputs": [
    {
     "data": {
      "text/plain": [
       "30.333"
      ]
     },
     "execution_count": 82,
     "metadata": {},
     "output_type": "execute_result"
    }
   ],
   "source": [
    "a * mean_x + b * mean_y"
   ]
  },
  {
   "cell_type": "code",
   "execution_count": 83,
   "id": "17547ab2",
   "metadata": {},
   "outputs": [
    {
     "data": {
      "text/plain": [
       "4.444"
      ]
     },
     "execution_count": 83,
     "metadata": {},
     "output_type": "execute_result"
    }
   ],
   "source": [
    "# 분산\n",
    "#  x에 대한 분산\n",
    "\n",
    "np.sum(\n",
    "    [\n",
    "        (x_i - mean_x)**2 * f_xy(x_i, y_j)\n",
    "        for x_i in x_set\n",
    "        for y_j in y_set\n",
    "    ]\n",
    ")"
   ]
  },
  {
   "cell_type": "code",
   "execution_count": 88,
   "id": "b255692d",
   "metadata": {},
   "outputs": [],
   "source": [
    "# 분산의 일반화, 분산 계산식 정의\n",
    "\n",
    "def V(xy,g):\n",
    "    x_set, y_set, f_xy = xy\n",
    "    mean = E(xy, g)\n",
    "    return np.sum(\n",
    "        [\n",
    "            (g(x_i, y_j) - mean)** 2 * f_xy(x_i, y_j)\n",
    "            for x_i in x_set\n",
    "            for y_j in y_set\n",
    "        ]\n",
    "    )"
   ]
  },
  {
   "cell_type": "code",
   "execution_count": 89,
   "id": "361b75eb",
   "metadata": {},
   "outputs": [
    {
     "data": {
      "text/plain": [
       "4.444"
      ]
     },
     "execution_count": 89,
     "metadata": {},
     "output_type": "execute_result"
    }
   ],
   "source": [
    "var_x = V(xy, g=lambda x,y : x)\n",
    "var_x"
   ]
  },
  {
   "cell_type": "code",
   "execution_count": 90,
   "id": "a764592b",
   "metadata": {},
   "outputs": [
    {
     "data": {
      "text/plain": [
       "2.222"
      ]
     },
     "execution_count": 90,
     "metadata": {},
     "output_type": "execute_result"
    }
   ],
   "source": [
    "var_y = V(xy, g=lambda x,y : y)\n",
    "var_y"
   ]
  },
  {
   "cell_type": "code",
   "execution_count": 92,
   "id": "cc6cd096",
   "metadata": {},
   "outputs": [],
   "source": [
    "# 공분산\n",
    "# 공분산 사용시 x,y사이에 어느정도 상관이 있는지 알 수 있다\n",
    "# 공분산 계산식 정의\n",
    "\n",
    "def cov(xy) :\n",
    "    x_set, y_set, f_xy = xy\n",
    "    mean_x = E(xy, lambda x, y : x)\n",
    "    mean_y = E(xy, lambda x, y : y)\n",
    "    return np.sum(\n",
    "        [\n",
    "            (x_i - mean_x) * (y_j - mean_y) * f_xy(x_i, y_j)\n",
    "            for x_i in x_set\n",
    "            for y_j in y_set\n",
    "        ]\n",
    "    )"
   ]
  },
  {
   "cell_type": "code",
   "execution_count": 93,
   "id": "1906da3d",
   "metadata": {},
   "outputs": [
    {
     "data": {
      "text/plain": [
       "2.222"
      ]
     },
     "execution_count": 93,
     "metadata": {},
     "output_type": "execute_result"
    }
   ],
   "source": [
    "cov_xy = cov(xy)\n",
    "cov_xy"
   ]
  },
  {
   "cell_type": "code",
   "execution_count": 94,
   "id": "a4eb6674",
   "metadata": {},
   "outputs": [
    {
     "data": {
      "text/plain": [
       "64.444"
      ]
     },
     "execution_count": 94,
     "metadata": {},
     "output_type": "execute_result"
    }
   ],
   "source": [
    "# 공분산 - 분산과 공분산의 공식\n",
    "\n",
    "V(xy, lambda x, y : 2*x + 3*y)"
   ]
  },
  {
   "cell_type": "code",
   "execution_count": 95,
   "id": "c5e66f74",
   "metadata": {},
   "outputs": [
    {
     "data": {
      "text/plain": [
       "64.444"
      ]
     },
     "execution_count": 95,
     "metadata": {},
     "output_type": "execute_result"
    }
   ],
   "source": [
    "2**2 * var_x + 3**2 * var_y + 2*2*3 * cov_xy "
   ]
  },
  {
   "cell_type": "code",
   "execution_count": 96,
   "id": "8a823dca",
   "metadata": {},
   "outputs": [
    {
     "data": {
      "text/plain": [
       "0.707"
      ]
     },
     "execution_count": 96,
     "metadata": {},
     "output_type": "execute_result"
    }
   ],
   "source": [
    "# 상관계수 : 공분산 / x표준편차 * y표준편차\n",
    "\n",
    "cov_xy / np.sqrt(var_x * var_y)"
   ]
  },
  {
   "cell_type": "code",
   "execution_count": null,
   "id": "5d682420",
   "metadata": {},
   "outputs": [],
   "source": []
  }
 ],
 "metadata": {
  "kernelspec": {
   "display_name": "Python 3 (ipykernel)",
   "language": "python",
   "name": "python3"
  },
  "language_info": {
   "codemirror_mode": {
    "name": "ipython",
    "version": 3
   },
   "file_extension": ".py",
   "mimetype": "text/x-python",
   "name": "python",
   "nbconvert_exporter": "python",
   "pygments_lexer": "ipython3",
   "version": "3.8.13"
  }
 },
 "nbformat": 4,
 "nbformat_minor": 5
}
