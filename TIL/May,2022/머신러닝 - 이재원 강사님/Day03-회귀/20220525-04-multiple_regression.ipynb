{
 "cells": [
  {
   "cell_type": "markdown",
   "metadata": {},
   "source": [
    "## 다중선형회귀분석"
   ]
  },
  {
   "cell_type": "markdown",
   "metadata": {},
   "source": [
    "#### 다중 선형 회귀계수의 추정"
   ]
  },
  {
   "cell_type": "markdown",
   "metadata": {},
   "source": [
    "- 단순 선형 회귀 분석\n",
    "    - 변수가 1개인 경우\n",
    "    - $\\hat{Y}=\\hat\\beta_0 + \\hat\\beta_1X$\n",
    "\n",
    "\n",
    "- 다중 선형 회귀 분석 \n",
    "    - 변수가 여러개인 경우\n",
    "    - $\\hat{Y}=\\hat\\beta_0 + \\hat\\beta_1X_1 + \\hat\\beta_2X_2 + ... + \\hat\\beta_nX_n$\n",
    "    - 잔차의 제곱\n",
    "        - $SSE = \\sum_{i=1}^ne_i^2 = e_1^2 + e_2^2 + ... + e_n^2$"
   ]
  },
  {
   "cell_type": "markdown",
   "metadata": {},
   "source": [
    "각 변수에 대해 편미분하여 수식으로 표현"
   ]
  },
  {
   "cell_type": "markdown",
   "metadata": {},
   "source": [
    "$$ y_1 = \\beta_0 + \\beta_1x_{11} + \\beta_2x_{12} + ... + \\beta_kx_{1k} + \\varepsilon_1$$\n",
    "$$ y_2 = \\beta_0 + \\beta_1x_{21} + \\beta_2x_{22} + ... + \\beta_kx_{2k} + \\varepsilon_2$$\n",
    "$$ \\vdots $$ \n",
    "$$ y_n = \\beta_0 + \\beta_1x_{n1} + \\beta_2x_{n2} + ... + \\beta_kx_{nk} + \\varepsilon_n$$"
   ]
  },
  {
   "cell_type": "markdown",
   "metadata": {},
   "source": [
    "행렬로 표현"
   ]
  },
  {
   "cell_type": "markdown",
   "metadata": {},
   "source": [
    "$$\n",
    "\\begin{bmatrix}\n",
    "y_1\\\\\n",
    "y_2\\\\\n",
    "\\vdots\\\\\n",
    "y_n\\\\\n",
    "\\end{bmatrix}\n",
    "=\n",
    "\\begin{bmatrix}\n",
    "1 x_{11} x_{12} ... x_{1k}\\\\\n",
    "1 x_{21} x_{22} ... x_{2k}\\\\\n",
    "\\vdots\\\\\n",
    "1 x_{n1} x_{n2} ... x_{nk}\\\\\n",
    "\\end{bmatrix}\n",
    "\\begin{bmatrix}\n",
    "\\beta_0\\\\\n",
    "\\beta_1\\\\\n",
    "\\vdots\\\\\n",
    "\\beta_k\\\\\n",
    "\\end{bmatrix}\n",
    "+\n",
    "\\begin{bmatrix}\n",
    "\\varepsilon_0\\\\\n",
    "\\varepsilon_1\\\\\n",
    "\\vdots\\\\\n",
    "\\varepsilon_k\\\\\n",
    "\\end{bmatrix}\n",
    "$$\n"
   ]
  },
  {
   "cell_type": "markdown",
   "metadata": {},
   "source": [
    "$$y = X\\beta + \\varepsilon$$\n",
    "$$\\varepsilon=(\\varepsilon_1, \\varepsilon_2, ..., \\varepsilon_n)'$$"
   ]
  },
  {
   "cell_type": "markdown",
   "metadata": {},
   "source": [
    "최소제곱법을 구하기 위한 잔차 수식"
   ]
  },
  {
   "cell_type": "markdown",
   "metadata": {},
   "source": [
    "$$\\sum_{i=1}^n\\varepsilon_i^2 = \\varepsilon'\\varepsilon = (y-X\\beta)'(y-X\\beta)$$\n",
    "$$=y'y-2\\beta'X'y+\\beta'X'X\\beta$$"
   ]
  },
  {
   "cell_type": "markdown",
   "metadata": {},
   "source": [
    "최소제곱법을 구하기 위한 편미분 수식"
   ]
  },
  {
   "cell_type": "markdown",
   "metadata": {},
   "source": [
    "$$\\frac{\\partial{L}}{\\partial\\beta} = 2X'X\\beta-2X'y=0$$\n",
    "$$\\Rightarrow X'X\\beta = X'y$$\n",
    "$$\\Rightarrow \\beta = (X'X)^{-1}X'y$$"
   ]
  },
  {
   "cell_type": "markdown",
   "metadata": {},
   "source": [
    "역행렬 구하는 방법\n",
    "- $ad-bc$가 0이 되면 안되기때문에 다중공선성 문제를 해결해서 회귀분석을 수행해야합니다.\n",
    "- 단순 선형회귀 분석과 다르게 다중 선형 회귀 분석은 다중공선성을 주의해야 합니다.\n",
    "- feature의 상관관계가 높으면 역행렬이 구해지지 않습니다."
   ]
  },
  {
   "cell_type": "markdown",
   "metadata": {},
   "source": [
    "$$\n",
    "A=\n",
    "\\begin{bmatrix}\n",
    "a \\quad b\\\\\n",
    "c \\quad d\\\\\n",
    "\\end{bmatrix}\n",
    "$$\n",
    "\n",
    "$$\n",
    "A^{-1}=\n",
    "\\frac{1}{ad-bc}\n",
    "\\begin{bmatrix}\n",
    "d \\quad -b\\\\\n",
    "-c\\quad a\\\\\n",
    "\\end{bmatrix}\n",
    "$$"
   ]
  },
  {
   "cell_type": "markdown",
   "metadata": {},
   "source": [
    "#### 다중공선성(Multicollinearity) 문제\n",
    "- 독립변수들이 강한 선형관계에 있을때 다중 공선성이 있다고 할수 있다.\n",
    "- 종속변수를 설명하기 위한 독립변수가 매우 비슷한 영역을 설명하고 있다.\n",
    "- 다중공선성이 있으면 잘못된 변수의 해석이나 예측의 정확도 하락의 결과를 가져올수 있다.\n",
    "- 아래의 수식에서 $ad-bc$가 0이 나오면 문제를 풀수 없다.\n",
    "- 비슷한 독립변수가 존재하면 하나의 독립변수만 사용하는 방법으로 해결"
   ]
  },
  {
   "cell_type": "markdown",
   "metadata": {},
   "source": [
    "$$\n",
    "\\begin{bmatrix}\n",
    "1 \\quad 2\\\\\n",
    "2 \\quad 4\\\\\n",
    "\\end{bmatrix}^{-1}\n",
    "\\begin{bmatrix}\n",
    "3\\\\\n",
    "5\\\\\n",
    "\\end{bmatrix}\n",
    "=\n",
    "\\begin{bmatrix}\n",
    "a\\\\\n",
    "b\\\\\n",
    "\\end{bmatrix}\n",
    "$$"
   ]
  },
  {
   "cell_type": "markdown",
   "metadata": {},
   "source": [
    "$$\n",
    "A^{-1}=\n",
    "\\frac{1}{ad-bc}\n",
    "\\begin{bmatrix}\n",
    "d \\quad -b\\\\\n",
    "-c\\quad a\\\\\n",
    "\\end{bmatrix}\n",
    "$$"
   ]
  },
  {
   "cell_type": "markdown",
   "metadata": {},
   "source": [
    "$$ad-bc = 0$$"
   ]
  },
  {
   "cell_type": "markdown",
   "metadata": {},
   "source": [
    "- 역행렬을 구할수 없음 > 모델을 만들수 없음\n",
    "- 역행렬을 구할수 있다고 하더라도 굉장히 작은 수가 나오면 추세선의 회귀계수가 작아져서 의미 없는 모델이 됨"
   ]
  },
  {
   "cell_type": "code",
   "execution_count": 1,
   "metadata": {},
   "outputs": [],
   "source": [
    "%config InlineBackend.figure_formats = {'png', 'retina'}\n",
    "\n",
    "import numpy as np\n",
    "import pandas as pd\n",
    "import matplotlib as mpl\n",
    "import matplotlib.pyplot as plt\n",
    "import seaborn as sns\n",
    "\n",
    "import warnings\n",
    "warnings.filterwarnings('ignore')"
   ]
  },
  {
   "cell_type": "markdown",
   "metadata": {},
   "source": [
    "#### 광고 데이터를 활용한 다중 선형회귀 분석"
   ]
  },
  {
   "cell_type": "code",
   "execution_count": 2,
   "metadata": {},
   "outputs": [
    {
     "data": {
      "text/html": [
       "<div>\n",
       "<style scoped>\n",
       "    .dataframe tbody tr th:only-of-type {\n",
       "        vertical-align: middle;\n",
       "    }\n",
       "\n",
       "    .dataframe tbody tr th {\n",
       "        vertical-align: top;\n",
       "    }\n",
       "\n",
       "    .dataframe thead th {\n",
       "        text-align: right;\n",
       "    }\n",
       "</style>\n",
       "<table border=\"1\" class=\"dataframe\">\n",
       "  <thead>\n",
       "    <tr style=\"text-align: right;\">\n",
       "      <th></th>\n",
       "      <th>TV</th>\n",
       "      <th>radio</th>\n",
       "      <th>newspaper</th>\n",
       "      <th>sales</th>\n",
       "    </tr>\n",
       "  </thead>\n",
       "  <tbody>\n",
       "    <tr>\n",
       "      <th>198</th>\n",
       "      <td>283.6</td>\n",
       "      <td>42.0</td>\n",
       "      <td>66.2</td>\n",
       "      <td>25.5</td>\n",
       "    </tr>\n",
       "    <tr>\n",
       "      <th>199</th>\n",
       "      <td>232.1</td>\n",
       "      <td>8.6</td>\n",
       "      <td>8.7</td>\n",
       "      <td>13.4</td>\n",
       "    </tr>\n",
       "  </tbody>\n",
       "</table>\n",
       "</div>"
      ],
      "text/plain": [
       "        TV  radio  newspaper  sales\n",
       "198  283.6   42.0       66.2   25.5\n",
       "199  232.1    8.6        8.7   13.4"
      ]
     },
     "execution_count": 2,
     "metadata": {},
     "output_type": "execute_result"
    }
   ],
   "source": [
    "df = pd.read_csv(\"./data/advertising.csv\")\n",
    "df.tail(2)"
   ]
  },
  {
   "cell_type": "markdown",
   "metadata": {},
   "source": [
    "#### feature들의 다중공선성 확인 방법 1\n",
    "- scatter plot을 그림"
   ]
  },
  {
   "cell_type": "code",
   "execution_count": 3,
   "metadata": {},
   "outputs": [
    {
     "data": {
      "image/png": "[encoded data removed]",
      "text/plain": [
       "<Figure size 432x288 with 1 Axes>"
      ]
     },
     "metadata": {
      "image/png": {
       "height": 248,
       "width": 368
      },
      "needs_background": "light"
     },
     "output_type": "display_data"
    }
   ],
   "source": [
    "plt.scatter(df[\"TV\"], df[\"sales\"], label=\"TV\")\n",
    "plt.scatter(df[\"radio\"], df[\"sales\"], label=\"radio\")\n",
    "plt.scatter(df[\"newspaper\"], df[\"sales\"], label=\"newspaper\")\n",
    "plt.legend()\n",
    "plt.show()"
   ]
  },
  {
   "cell_type": "code",
   "execution_count": null,
   "metadata": {},
   "outputs": [],
   "source": [
    "# radio, newspaper가 tv에 비해서 상관계수가 높다는것을 확인"
   ]
  },
  {
   "cell_type": "markdown",
   "metadata": {},
   "source": [
    "#### feature들의 다중공선성 확인 방법 2\n",
    "- feature들 사이의 상관계수를 확인"
   ]
  },
  {
   "cell_type": "code",
   "execution_count": 4,
   "metadata": {},
   "outputs": [
    {
     "data": {
      "image/png": "[encoded data removed]",
      "text/plain": [
       "<Figure size 432x288 with 2 Axes>"
      ]
     },
     "metadata": {
      "image/png": {
       "height": 252,
       "width": 349
      },
      "needs_background": "light"
     },
     "output_type": "display_data"
    }
   ],
   "source": [
    "sns.heatmap(df.drop(columns=[\"sales\"]).corr(), annot=True)\n",
    "plt.show()\n",
    "# 위의 그래프에서는 상관계수가 매우 높을 것이라고 예상했지만,\n",
    "# 상관계수를 찍어보니 상대적으로 상관계수가 예상보다는 낮음을 확인"
   ]
  },
  {
   "cell_type": "markdown",
   "metadata": {},
   "source": [
    "3개를 가지고 상관계수를 구할 수 있을까요?\n",
    "- x1, x2는 관계가 있는데 x1, x3는 관계가 없고\n",
    "    x2, x3는 관계가 있을 수 있음<br> -> 이런 경우 전부 다 사용함 (모든 경우의 수를 다 따지기에는 시간이 오래 걸리니 그냥 다 포함시킴)<br> -> 이후 모델에게 feature중 뭐가 중요한지 질문!\n",
    "    \n",
    "- 이를 해결하기 위한 정확한 정답은 없음, 여러가지 방법을 시도하며 최선의 방법을 찾는 것!\n",
    "    \n",
    "각각의 feature들은 다 독립적이여야 한다. (이것이 feature engineering의 실력)"
   ]
  },
  {
   "cell_type": "code",
   "execution_count": null,
   "metadata": {},
   "outputs": [],
   "source": [
    "# radio와 newspaper의 상관계수가 다른 feature들에 대한 상관계수보다 상대적으로 높다는것을 확인"
   ]
  },
  {
   "cell_type": "markdown",
   "metadata": {},
   "source": [
    "#### feature들의 다중공선성 확인 방법 3\n",
    "- VIF(Variance inflation factor)\n",
    "    - 분산 팽창 요인\n",
    "    - 변수들간의 correlation을 진단하는 방법\n",
    "    - 특정 feature를 y값으로 설정하여 모델을 만들었을때 나오는 결정계수(r-squared)로 아래의 수식을 연산"
   ]
  },
  {
   "cell_type": "markdown",
   "metadata": {},
   "source": [
    "$$VIF_i = \\frac{1}{1-R_i^2}$$"
   ]
  },
  {
   "cell_type": "markdown",
   "metadata": {},
   "source": [
    "- VIF가 10이상인 경우 다중공선성으로 판단(10이라는 수치가 절대적이진 않다)\n",
    "- 결정계수가 $R_i^2$ 이 커질수록 VIF 지표가 커짐 > 다중공선성이 있는 factor로 판단\n"
   ]
  },
  {
   "cell_type": "code",
   "execution_count": 5,
   "metadata": {},
   "outputs": [
    {
     "data": {
      "text/html": [
       "<div>\n",
       "<style scoped>\n",
       "    .dataframe tbody tr th:only-of-type {\n",
       "        vertical-align: middle;\n",
       "    }\n",
       "\n",
       "    .dataframe tbody tr th {\n",
       "        vertical-align: top;\n",
       "    }\n",
       "\n",
       "    .dataframe thead th {\n",
       "        text-align: right;\n",
       "    }\n",
       "</style>\n",
       "<table border=\"1\" class=\"dataframe\">\n",
       "  <thead>\n",
       "    <tr style=\"text-align: right;\">\n",
       "      <th></th>\n",
       "      <th>TV</th>\n",
       "      <th>radio</th>\n",
       "      <th>newspaper</th>\n",
       "    </tr>\n",
       "  </thead>\n",
       "  <tbody>\n",
       "    <tr>\n",
       "      <th>198</th>\n",
       "      <td>283.6</td>\n",
       "      <td>42.0</td>\n",
       "      <td>66.2</td>\n",
       "    </tr>\n",
       "    <tr>\n",
       "      <th>199</th>\n",
       "      <td>232.1</td>\n",
       "      <td>8.6</td>\n",
       "      <td>8.7</td>\n",
       "    </tr>\n",
       "  </tbody>\n",
       "</table>\n",
       "</div>"
      ],
      "text/plain": [
       "        TV  radio  newspaper\n",
       "198  283.6   42.0       66.2\n",
       "199  232.1    8.6        8.7"
      ]
     },
     "execution_count": 5,
     "metadata": {},
     "output_type": "execute_result"
    }
   ],
   "source": [
    "features_df = df.drop(columns=[\"sales\"])\n",
    "features_df.tail(2)"
   ]
  },
  {
   "cell_type": "code",
   "execution_count": null,
   "metadata": {},
   "outputs": [],
   "source": [
    "# VIF 지표 : 직접 연산"
   ]
  },
  {
   "cell_type": "code",
   "execution_count": 6,
   "metadata": {},
   "outputs": [],
   "source": [
    "import statsmodels.api as sm"
   ]
  },
  {
   "cell_type": "code",
   "execution_count": 7,
   "metadata": {},
   "outputs": [
    {
     "data": {
      "text/plain": [
       "2.486771835198193"
      ]
     },
     "execution_count": 7,
     "metadata": {},
     "output_type": "execute_result"
    }
   ],
   "source": [
    "feature = features_df[[\"radio\", \"newspaper\"]]\n",
    "target = features_df[\"TV\"]\n",
    "model = sm.OLS(target, feature).fit()\n",
    "1 / (1 - model.rsquared)"
   ]
  },
  {
   "cell_type": "code",
   "execution_count": null,
   "metadata": {},
   "outputs": [],
   "source": [
    "# VIF 지표 : 함수 사용"
   ]
  },
  {
   "cell_type": "code",
   "execution_count": 8,
   "metadata": {},
   "outputs": [],
   "source": [
    "from statsmodels.stats.outliers_influence import variance_inflation_factor"
   ]
  },
  {
   "cell_type": "code",
   "execution_count": 9,
   "metadata": {},
   "outputs": [
    {
     "data": {
      "text/plain": [
       "2.486771835198193"
      ]
     },
     "execution_count": 9,
     "metadata": {},
     "output_type": "execute_result"
    }
   ],
   "source": [
    "variance_inflation_factor(features_df.values, 0)"
   ]
  },
  {
   "cell_type": "code",
   "execution_count": null,
   "metadata": {},
   "outputs": [],
   "source": [
    "# 데이터 프레임으로 출력"
   ]
  },
  {
   "cell_type": "code",
   "execution_count": 10,
   "metadata": {},
   "outputs": [
    {
     "data": {
      "text/html": [
       "<div>\n",
       "<style scoped>\n",
       "    .dataframe tbody tr th:only-of-type {\n",
       "        vertical-align: middle;\n",
       "    }\n",
       "\n",
       "    .dataframe tbody tr th {\n",
       "        vertical-align: top;\n",
       "    }\n",
       "\n",
       "    .dataframe thead th {\n",
       "        text-align: right;\n",
       "    }\n",
       "</style>\n",
       "<table border=\"1\" class=\"dataframe\">\n",
       "  <thead>\n",
       "    <tr style=\"text-align: right;\">\n",
       "      <th></th>\n",
       "      <th>VIF Factor</th>\n",
       "      <th>features</th>\n",
       "    </tr>\n",
       "  </thead>\n",
       "  <tbody>\n",
       "    <tr>\n",
       "      <th>0</th>\n",
       "      <td>2.486772</td>\n",
       "      <td>TV</td>\n",
       "    </tr>\n",
       "    <tr>\n",
       "      <th>1</th>\n",
       "      <td>3.285462</td>\n",
       "      <td>radio</td>\n",
       "    </tr>\n",
       "    <tr>\n",
       "      <th>2</th>\n",
       "      <td>3.055245</td>\n",
       "      <td>newspaper</td>\n",
       "    </tr>\n",
       "  </tbody>\n",
       "</table>\n",
       "</div>"
      ],
      "text/plain": [
       "   VIF Factor   features\n",
       "0    2.486772         TV\n",
       "1    3.285462      radio\n",
       "2    3.055245  newspaper"
      ]
     },
     "execution_count": 10,
     "metadata": {},
     "output_type": "execute_result"
    }
   ],
   "source": [
    "pd.DataFrame({\n",
    "    \"VIF Factor\": [variance_inflation_factor(features_df.values, idx) for idx in range(features_df.shape[1])],\n",
    "    \"features\": features_df.columns,\n",
    "})"
   ]
  },
  {
   "cell_type": "code",
   "execution_count": null,
   "metadata": {},
   "outputs": [],
   "source": [
    "# VIF 지표로는 빼야할 feature가 없는걸로 나옴 > 모든 지표가 절대적이지 않음"
   ]
  },
  {
   "cell_type": "markdown",
   "metadata": {},
   "source": [
    "- 다중공선성 확인 방법 1, 2에서는 newspaper를 빼도 된다로 판단\n",
    "- 다중공선성 확인 방법 3에서는 newspaper를 빼면 안된다로 판단\n",
    "- 결과는 직접 요약표를 보고 판단 "
   ]
  },
  {
   "cell_type": "markdown",
   "metadata": {},
   "source": [
    "#### 모델 생성해서 요약표로 확인"
   ]
  },
  {
   "cell_type": "markdown",
   "metadata": {},
   "source": [
    "- 모든 feature 사용"
   ]
  },
  {
   "cell_type": "code",
   "execution_count": 11,
   "metadata": {},
   "outputs": [
    {
     "name": "stdout",
     "output_type": "stream",
     "text": [
      "                 Results: Ordinary least squares\n",
      "=================================================================\n",
      "Model:              OLS              Adj. R-squared:     0.896   \n",
      "Dependent Variable: sales            AIC:                780.3622\n",
      "Date:               2022-05-25 16:14 BIC:                793.5555\n",
      "No. Observations:   200              Log-Likelihood:     -386.18 \n",
      "Df Model:           3                F-statistic:        570.3   \n",
      "Df Residuals:       196              Prob (F-statistic): 1.58e-96\n",
      "R-squared:          0.897            Scale:              2.8409  \n",
      "------------------------------------------------------------------\n",
      "                Coef.   Std.Err.     t     P>|t|    [0.025  0.975]\n",
      "------------------------------------------------------------------\n",
      "const           2.9389    0.3119   9.4223  0.0000   2.3238  3.5540\n",
      "TV              0.0458    0.0014  32.8086  0.0000   0.0430  0.0485\n",
      "radio           0.1885    0.0086  21.8935  0.0000   0.1715  0.2055\n",
      "newspaper      -0.0010    0.0059  -0.1767  0.8599  -0.0126  0.0105\n",
      "-----------------------------------------------------------------\n",
      "Omnibus:             60.414       Durbin-Watson:          2.084  \n",
      "Prob(Omnibus):       0.000        Jarque-Bera (JB):       151.241\n",
      "Skew:                -1.327       Prob(JB):               0.000  \n",
      "Kurtosis:            6.332        Condition No.:          454    \n",
      "=================================================================\n",
      "\n"
     ]
    }
   ],
   "source": [
    "feature_1 = sm.add_constant(df[[\"TV\", \"radio\", \"newspaper\"]])\n",
    "model_1 = sm.OLS(df[\"sales\"], feature_1).fit()\n",
    "print(model_1.summary2()) # OLS안에 summary모듈 사용"
   ]
  },
  {
   "cell_type": "code",
   "execution_count": null,
   "metadata": {},
   "outputs": [],
   "source": [
    "# newspaper의 coef(회귀계수) 값이 너무 작으므로 모델에 거의 영향을 안 미침\n",
    "# t-test 가 0에 가까우므로 newspaper의 회귀계수값에 대한 신뢰도가 낮음\n",
    "# p-value 값이 0.05보다 한참 높으므로 newspaper의 회귀계수값에 대한 신뢰도가 낮음"
   ]
  },
  {
   "cell_type": "markdown",
   "metadata": {},
   "source": [
    "- newspaper 제외"
   ]
  },
  {
   "cell_type": "code",
   "execution_count": 12,
   "metadata": {},
   "outputs": [
    {
     "name": "stdout",
     "output_type": "stream",
     "text": [
      "                 Results: Ordinary least squares\n",
      "=================================================================\n",
      "Model:              OLS              Adj. R-squared:     0.896   \n",
      "Dependent Variable: sales            AIC:                778.3941\n",
      "Date:               2022-05-25 16:14 BIC:                788.2891\n",
      "No. Observations:   200              Log-Likelihood:     -386.20 \n",
      "Df Model:           2                F-statistic:        859.6   \n",
      "Df Residuals:       197              Prob (F-statistic): 4.83e-98\n",
      "R-squared:          0.897            Scale:              2.8270  \n",
      "--------------------------------------------------------------------\n",
      "         Coef.     Std.Err.       t       P>|t|     [0.025    0.975]\n",
      "--------------------------------------------------------------------\n",
      "const    2.9211      0.2945     9.9192    0.0000    2.3403    3.5019\n",
      "TV       0.0458      0.0014    32.9087    0.0000    0.0430    0.0485\n",
      "radio    0.1880      0.0080    23.3824    0.0000    0.1721    0.2038\n",
      "-----------------------------------------------------------------\n",
      "Omnibus:             60.022       Durbin-Watson:          2.081  \n",
      "Prob(Omnibus):       0.000        Jarque-Bera (JB):       148.679\n",
      "Skew:                -1.323       Prob(JB):               0.000  \n",
      "Kurtosis:            6.292        Condition No.:          425    \n",
      "=================================================================\n",
      "\n"
     ]
    }
   ],
   "source": [
    "feature_2 = sm.add_constant(df[[\"TV\", \"radio\"]])\n",
    "model_2 = sm.OLS(df[\"sales\"], feature_2).fit()\n",
    "print(model_2.summary2())"
   ]
  },
  {
   "cell_type": "code",
   "execution_count": null,
   "metadata": {},
   "outputs": [],
   "source": [
    "# newspaper를 제거해도 r-squared에 대한 값이 작아지지 않음 > newspaper를 추가하면 연산만 늘어날뿐"
   ]
  },
  {
   "cell_type": "markdown",
   "metadata": {},
   "source": [
    "- 모델의 성능 평가 (MAE)\n",
    "    - 데이터셋 분리하지 않음"
   ]
  },
  {
   "cell_type": "code",
   "execution_count": 13,
   "metadata": {},
   "outputs": [],
   "source": [
    "from sklearn.metrics import mean_absolute_error"
   ]
  },
  {
   "cell_type": "code",
   "execution_count": 14,
   "metadata": {},
   "outputs": [],
   "source": [
    "pred_1 = model_1.predict(feature_1) # 전체 다 넣은 것\n",
    "pred_2 = model_2.predict(feature_2) # newspaper 제거 한 features"
   ]
  },
  {
   "cell_type": "code",
   "execution_count": 15,
   "metadata": {},
   "outputs": [
    {
     "data": {
      "text/plain": [
       "1.252"
      ]
     },
     "execution_count": 15,
     "metadata": {},
     "output_type": "execute_result"
    }
   ],
   "source": [
    "# 모든 feature 사용\n",
    "np.round(mean_absolute_error(df[\"sales\"], pred_1), 3)"
   ]
  },
  {
   "cell_type": "code",
   "execution_count": 16,
   "metadata": {},
   "outputs": [
    {
     "data": {
      "text/plain": [
       "1.254"
      ]
     },
     "execution_count": 16,
     "metadata": {},
     "output_type": "execute_result"
    }
   ],
   "source": [
    "# tv, radio 사용\n",
    "np.round(mean_absolute_error(df[\"sales\"], pred_2), 3)"
   ]
  },
  {
   "cell_type": "code",
   "execution_count": null,
   "metadata": {},
   "outputs": [],
   "source": [
    "# > 모델의 성능에는 거의 차이가 없음"
   ]
  },
  {
   "cell_type": "markdown",
   "metadata": {},
   "source": [
    "#### 결론\n",
    "- 모든 변수를 넣고 학습하는것 보다 중요 변수를 넣고 학습하는것이 더 좋습니다.\n",
    "    - 예측성능 및 학습속도 : 변수의 갯수가 작아질수록 수식이 간단해져 학습 및 예측 속도가 빨라짐\n",
    "    - 활용도 : 변수의 갯수가 작을수록 데이터를 관리하기가 쉬워짐"
   ]
  },
  {
   "cell_type": "markdown",
   "metadata": {},
   "source": [
    "#### 모형의 성능 지표\n",
    "\n",
    "\n",
    "- MSE : Mean Squared Error\n",
    "    - 작으면 작을수록 좋지만 과적합의 오류가 생길수 있음\n",
    "    - $MSE = \\frac{1}{n}\\sum_{i=1}^{n}(y_i - \\hat{f}(x_i))^2$\n",
    "        - $n$ : 데이터의 갯수\n",
    "        - $y_i$ : 실제 종속변수\n",
    "        - $\\hat{f}(x_i)$ : 예측한 종속변수\n",
    "    - 결과로 나오는 수치가 모델이 어느정도로 좋은 지 알수 없음\n",
    "    - 다른 모델과 비교할때 상대적으로 값이 낮으면 모델이 더 좋다만 확인 가능\n",
    "\n",
    "\n",
    "- RMSE : Root Mean Square Error\n",
    "    - $\\sqrt{MSE}$\n",
    "\n",
    "\n",
    "- MAE : Mean Absolute Error \n",
    "    - $MAE = \\frac{1}{n}\\sum_{i=1}^{n}|y_i - \\hat{f}(x_i)|$\n",
    "    - 잔차의 절대값을 확인할수 있음\n",
    "    \n",
    "    \n",
    "- MAPE : Mean Absolute Percentage Error     \n",
    "    - $MAPE = \\frac{100}{n} \\frac{\\sum_{i=1}^{n}|{y_i - \\hat{f}(x_i)}|}{\\sum_{i=1}^n|y_i|} $\n",
    "    - 0% ~ 100%의 값을 가져 0에 가까워질수록 모델의 성능이 좋다고 해석할수 있음"
   ]
  },
  {
   "cell_type": "code",
   "execution_count": 17,
   "metadata": {},
   "outputs": [
    {
     "data": {
      "text/plain": [
       "(1.252, 1.2537, 0.04464, 0.0447)"
      ]
     },
     "execution_count": 17,
     "metadata": {},
     "output_type": "execute_result"
    }
   ],
   "source": [
    "# 모든 feature 사용\n",
    "mae_1 = mean_absolute_error(pred_1, df[\"sales\"])\n",
    "mape_1 = mae_1 / np.sum(df[\"sales\"]) * 100\n",
    "\n",
    "# tv, radio 사용\n",
    "mae_2 = mean_absolute_error(pred_2, df[\"sales\"])\n",
    "mape_2 = mae_2 / np.sum(df[\"sales\"]) * 100\n",
    "\n",
    "np.round(mae_1, 4), np.round(mae_2, 4), np.round(mape_1, 5), np.round(mape_2, 5)\n",
    "# 두 개의 결과가 큰 차이가 있지는 않다"
   ]
  },
  {
   "cell_type": "code",
   "execution_count": null,
   "metadata": {},
   "outputs": [],
   "source": []
  }
 ],
 "metadata": {
  "kernelspec": {
   "display_name": "Python 3 (ipykernel)",
   "language": "python",
   "name": "python3"
  },
  "language_info": {
   "codemirror_mode": {
    "name": "ipython",
    "version": 3
   },
   "file_extension": ".py",
   "mimetype": "text/x-python",
   "name": "python",
   "nbconvert_exporter": "python",
   "pygments_lexer": "ipython3",
   "version": "3.8.13"
  },
  "toc": {
   "base_numbering": 1,
   "nav_menu": {},
   "number_sections": false,
   "sideBar": true,
   "skip_h1_title": false,
   "title_cell": "Table of Contents",
   "title_sidebar": "Contents",
   "toc_cell": false,
   "toc_position": {},
   "toc_section_display": true,
   "toc_window_display": false
  },
  "varInspector": {
   "cols": {
    "lenName": 16,
    "lenType": 16,
    "lenVar": 40
   },
   "kernels_config": {
    "python": {
     "delete_cmd_postfix": "",
     "delete_cmd_prefix": "del ",
     "library": "var_list.py",
     "varRefreshCmd": "print(var_dic_list())"
    },
    "r": {
     "delete_cmd_postfix": ") ",
     "delete_cmd_prefix": "rm(",
     "library": "var_list.r",
     "varRefreshCmd": "cat(var_dic_list()) "
    }
   },
   "types_to_exclude": [
    "module",
    "function",
    "builtin_function_or_method",
    "instance",
    "_Feature"
   ],
   "window_display": false
  }
 },
 "nbformat": 4,
 "nbformat_minor": 4
}
