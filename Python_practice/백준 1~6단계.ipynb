{
 "cells": [
  {
   "cell_type": "markdown",
   "metadata": {
    "id": "LlHz-wjtBVPj"
   },
   "source": [
    "#백준 사이트\n",
    "\n",
    "참고한 단계별 백준 문제\n",
    "https://www.acmicpc.net/step"
   ]
  },
  {
   "cell_type": "markdown",
   "metadata": {
    "id": "oksdTQjzBZwy"
   },
   "source": [
    "# 1단계 입출력과 사칙연산"
   ]
  },
  {
   "cell_type": "code",
   "execution_count": null,
   "metadata": {
    "colab": {
     "base_uri": "https://localhost:8080/"
    },
    "id": "BZtQFu8oBZmV",
    "outputId": "cc93be58-5ac8-4fb5-acfd-89f52485103f"
   },
   "outputs": [
    {
     "name": "stdout",
     "output_type": "stream",
     "text": [
      "Hello World!\n"
     ]
    }
   ],
   "source": [
    "# 1\n",
    "# Hello World!를 출력하시오.\n",
    "\n",
    "print('Hello World!')"
   ]
  },
  {
   "cell_type": "code",
   "execution_count": null,
   "metadata": {
    "colab": {
     "base_uri": "https://localhost:8080/"
    },
    "id": "YckK7e4yCqTo",
    "outputId": "57144a91-890f-4f7c-8d87-e1f3119101f1"
   },
   "outputs": [
    {
     "name": "stdout",
     "output_type": "stream",
     "text": [
      "강한친구 대한육군\n",
      "강한친구 대한육군\n"
     ]
    }
   ],
   "source": [
    "# 2\n",
    "# ACM-ICPC 인터넷 예선, Regional, 그리고 World Finals까지 이미 2회씩 진출해버린 kriii는 미련을 버리지 못하고 왠지 모르게 올해에도 파주 World Finals 준비 캠프에 참여했다.\n",
    "# 대회를 뜰 줄 모르는 지박령 kriii를 위해서 격려의 문구를 출력해주자.\n",
    "\n",
    "print('강한친구 대한육군')\n",
    "print('강한친구 대한육군')"
   ]
  },
  {
   "cell_type": "code",
   "execution_count": null,
   "metadata": {
    "colab": {
     "base_uri": "https://localhost:8080/"
    },
    "id": "YxqmA63EDh50",
    "outputId": "248ea51a-4d3a-4710-edff-9f4637b6739d"
   },
   "outputs": [
    {
     "name": "stdout",
     "output_type": "stream",
     "text": [
      "\\    /\\\n",
      " )  ( ')\n",
      "(  /  )\n",
      " \\(__)|\n"
     ]
    }
   ],
   "source": [
    "# 3\n",
    "# 아래 예제와 같이 고양이를 출력하시오.\n",
    "\n",
    "# \\    /\\\n",
    "#  )  ( ')\n",
    "# (  /  )\n",
    "#  \\(__)|\n",
    "\n",
    "print('\\    /\\\\')\n",
    "print(\" )  ( ')\")\n",
    "print('(  /  )')\n",
    "print(' \\\\(__)|')"
   ]
  },
  {
   "cell_type": "code",
   "execution_count": null,
   "metadata": {
    "colab": {
     "base_uri": "https://localhost:8080/"
    },
    "id": "d4RZYZCxD9e_",
    "outputId": "5ac401e9-6023-4179-bcda-f887d6f13e95"
   },
   "outputs": [
    {
     "name": "stdout",
     "output_type": "stream",
     "text": [
      "|\\_/|\n",
      "|q p|   /}\n",
      "( 0 )\"\"\"\\\n",
      "|\"^\"\\₩    |\n",
      "||_/=\\\\__|\n"
     ]
    }
   ],
   "source": [
    "# 4\n",
    "# 아래 예제와 같이 개를 출력하시오.\n",
    "\n",
    "# |\\_/|\n",
    "# |q p|   /}\n",
    "# ( 0 )\"\"\"\\\n",
    "# |\"^\"`    |\n",
    "# ||_/=\\\\__|\n",
    "\n",
    "print('|\\\\_/|')\n",
    "print('|q p|   /}')\n",
    "print('( 0 )\"\"\"\\\\')\n",
    "print('|\\\"^\"\\`    |')\n",
    "print('||_/=\\\\\\\\__|')\n",
    "\n",
    "# 틀림!"
   ]
  },
  {
   "cell_type": "code",
   "execution_count": null,
   "metadata": {
    "colab": {
     "base_uri": "https://localhost:8080/"
    },
    "id": "rvDHNOuk8IvL",
    "outputId": "b54f2588-89db-42a3-fbf3-e1ac75076dbd"
   },
   "outputs": [
    {
     "name": "stdout",
     "output_type": "stream",
     "text": [
      "         ,r'\"7\n",
      "r`-_   ,'  ,/\n",
      " \\. \". L_r'\n",
      "   `~\\/\n",
      "      |\n",
      "      |\n"
     ]
    }
   ],
   "source": [
    "# 4-1\n",
    "# 아래 예제와 같이 새싹을 출력하시오.\n",
    "\n",
    "#          ,r'\"7\n",
    "# r`-_   ,'  ,/\n",
    "#  \\. \". L_r'\n",
    "#    `~\\/\n",
    "#       |\n",
    "#       |\n",
    "\n",
    "print('         ,r\\'\\\"7')\n",
    "print('r`-_   ,\\'  ,/')\n",
    "print(' \\\\. \". L_r\\'')\n",
    "print('   `~\\\\/')\n",
    "print('      |')\n",
    "print('      |')"
   ]
  },
  {
   "cell_type": "code",
   "execution_count": null,
   "metadata": {
    "colab": {
     "base_uri": "https://localhost:8080/"
    },
    "id": "r0kXNBvtE9lz",
    "outputId": "538c87a9-e36b-4d35-ad1e-676d9d007f61"
   },
   "outputs": [
    {
     "name": "stdout",
     "output_type": "stream",
     "text": [
      "3\n",
      "4\n",
      "7\n",
      "3 7\n",
      "10\n",
      "20\n",
      "35\n"
     ]
    }
   ],
   "source": [
    "# 5\n",
    "# 두 정수 A와 B를 입력받은 다음, A+B를 출력하는 프로그램을 작성하시오.\n",
    "\n",
    "# 입력 : 첫째 줄에 A와 B가 주어진다. (0 < A, B < 10)\n",
    "\n",
    "# 출력 : 첫째 줄에 A+B를 출력한다.\n",
    "\n",
    "a = int(input())\n",
    "b = int(input())\n",
    "print(a+b)\n",
    "# 런타임에러\n",
    "\n",
    "a, b = map(int, input().split())\n",
    "print(a+b)\n",
    "# spilt() : 변수를 나누어 리스트로 저장하는 용도\n",
    "# map() : map(함수, 리스트) 입력받은 요소의 수행된 결과를 묶어서 반환하는 함수\n",
    "# 따라서, input()을 공백을 기준으로 나누어 리스트로 저장, int함수를 사용\n",
    "a, b = map(int, [20,35])\n",
    "print(a);print(b)"
   ]
  },
  {
   "cell_type": "code",
   "execution_count": null,
   "metadata": {
    "colab": {
     "base_uri": "https://localhost:8080/"
    },
    "id": "7ow6rqdXHAQz",
    "outputId": "3600cc99-c4f9-4c37-84d9-8249df5ed266"
   },
   "outputs": [
    {
     "name": "stdout",
     "output_type": "stream",
     "text": [
      "5 3\n",
      "2\n"
     ]
    }
   ],
   "source": [
    "# 6\n",
    "# 두 정수 A와 B를 입력받은 다음, A-B를 출력하는 프로그램을 작성하시오.\n",
    "# 첫째 줄에 A와 B가 주어진다. (0 < A, B < 10)\n",
    "# 첫째 줄에 A-B를 출력한다.\n",
    "\n",
    "a, b = map(int, input().split())\n",
    "print(a-b)"
   ]
  },
  {
   "cell_type": "code",
   "execution_count": null,
   "metadata": {
    "colab": {
     "base_uri": "https://localhost:8080/"
    },
    "id": "WuozBBHYMlg-",
    "outputId": "b375b025-3b11-4e96-dd63-082e32d80c5a"
   },
   "outputs": [
    {
     "name": "stdout",
     "output_type": "stream",
     "text": [
      "4 5\n",
      "20\n"
     ]
    }
   ],
   "source": [
    "# 7\n",
    "# 두 정수 A와 B를 입력받은 다음, A×B를 출력하는 프로그램을 작성하시오.\n",
    "# 첫째 줄에 A와 B가 주어진다. (0 < A, B < 10)\n",
    "# 첫째 줄에 A×B를 출력한다.\n",
    "\n",
    "a, b = map(int, input().split())\n",
    "print(a*b)"
   ]
  },
  {
   "cell_type": "code",
   "execution_count": null,
   "metadata": {
    "colab": {
     "base_uri": "https://localhost:8080/"
    },
    "id": "-N1hY2cTNRWV",
    "outputId": "90c2e61a-2055-4d61-d5b7-c840f21b2423"
   },
   "outputs": [
    {
     "name": "stdout",
     "output_type": "stream",
     "text": [
      "1 3\n",
      "0.3333333333333333\n"
     ]
    }
   ],
   "source": [
    "# 8\n",
    "# 두 정수 A와 B를 입력받은 다음, A/B를 출력하는 프로그램을 작성하시오.\n",
    "# 첫째 줄에 A와 B가 주어진다. (0 < A, B < 10)\n",
    "# 첫째 줄에 A/B를 출력한다. 실제 정답과 출력값의 절대오차 또는 상대오차가 10-9 이하이면 정답이다.\n",
    "\n",
    "a, b = map(int, input().split())\n",
    "print(a/b)"
   ]
  },
  {
   "cell_type": "code",
   "execution_count": null,
   "metadata": {
    "colab": {
     "base_uri": "https://localhost:8080/"
    },
    "id": "9bcX5yi3N9iC",
    "outputId": "f679e786-424a-4f57-f8a3-145073c77e16"
   },
   "outputs": [
    {
     "name": "stdout",
     "output_type": "stream",
     "text": [
      "3 4\n",
      "7\n",
      "-1\n",
      "12\n",
      "0.75\n",
      "3\n"
     ]
    }
   ],
   "source": [
    "# 9\n",
    "# 두 자연수 A와 B가 주어진다. 이때, A+B, A-B, A*B, A/B(몫), A%B(나머지)를 출력하는 프로그램을 작성하시오. \n",
    "# 두 자연수 A와 B가 주어진다. (1 ≤ A, B ≤ 10,000)\n",
    "# 첫째 줄에 A+B, 둘째 줄에 A-B, 셋째 줄에 A*B, 넷째 줄에 A/B, 다섯째 줄에 A%B를 출력한다.\n",
    "\n",
    "\n",
    "a, b = map(int, input().split())\n",
    "\n",
    "print(a+b)\n",
    "print(a-b)\n",
    "print(a*b)\n",
    "print(a//b) # / : 나누기 // : 나눈 후 몫을 반환\n",
    "print(a%b)"
   ]
  },
  {
   "cell_type": "code",
   "execution_count": null,
   "metadata": {
    "colab": {
     "base_uri": "https://localhost:8080/"
    },
    "id": "UACEkj3vOjD3",
    "outputId": "9c560f47-27a2-4146-a585-d2d8cbdb8b51"
   },
   "outputs": [
    {
     "name": "stdout",
     "output_type": "stream",
     "text": [
      "joonas\n",
      "joonas??!\n"
     ]
    }
   ],
   "source": [
    "# 10\n",
    "# 첫째 줄에 준하가 가입하려고 하는 사이트에 이미 존재하는 아이디가 주어진다. 아이디는 알파벳 소문자로만 이루어져 있으며, 길이는 50자를 넘지 않는다.\n",
    "# 첫째 줄에 준하의 놀람을 출력한다. 놀람은 아이디 뒤에 ??!를 붙여서 나타낸다.\n",
    "\n",
    "\n",
    "id = input()\n",
    "print(id+'??!')"
   ]
  },
  {
   "cell_type": "code",
   "execution_count": null,
   "metadata": {
    "colab": {
     "base_uri": "https://localhost:8080/"
    },
    "id": "i3eUUvtiR47l",
    "outputId": "4d7a58e6-65b7-4c82-d061-3c9d2e802e83"
   },
   "outputs": [
    {
     "name": "stdout",
     "output_type": "stream",
     "text": [
      "2541\n",
      "1998\n"
     ]
    }
   ],
   "source": [
    "# 11\n",
    "# 서기 연도를 알아보고 싶은 불기 연도 y가 주어진다. (1000 ≤ y ≤ 3000)\n",
    "# 불기 연도를 서기 연도로 변환한 결과를 출력한다.\n",
    "\n",
    "y=int(input())\n",
    "print(y-543)"
   ]
  },
  {
   "cell_type": "code",
   "execution_count": null,
   "metadata": {
    "colab": {
     "base_uri": "https://localhost:8080/"
    },
    "id": "-X-y-x7FTInH",
    "outputId": "1cbc5c0b-00b7-49a3-9faa-4b8c4aeb5c8e"
   },
   "outputs": [
    {
     "name": "stdout",
     "output_type": "stream",
     "text": [
      "5 8 4\n",
      "1\n",
      "1\n",
      "0\n",
      "0\n"
     ]
    }
   ],
   "source": [
    "# 12\n",
    "# 첫째 줄에 A, B, C가 순서대로 주어진다. (2 ≤ A, B, C ≤ 10000)\n",
    "# 첫째 줄에 (A+B)%C, 둘째 줄에 ((A%C) + (B%C))%C, 셋째 줄에 (A×B)%C, 넷째 줄에 ((A%C) × (B%C))%C를 출력한다.\n",
    "\n",
    "a, b, c = map(int, input().split())\n",
    "print((a+b)%c) \n",
    "print(((a%c)+(b%c))%c)\n",
    "print((a*b)%c)\n",
    "print(((a%c)*(b%c))%c)\n",
    "\n",
    "# % : 나눈 후 나머지 반환"
   ]
  },
  {
   "cell_type": "code",
   "execution_count": null,
   "metadata": {
    "colab": {
     "base_uri": "https://localhost:8080/"
    },
    "id": "NtwvHzR9UB8y",
    "outputId": "a3d5bc80-297f-450f-9411-8c4711b001c7"
   },
   "outputs": [
    {
     "name": "stdout",
     "output_type": "stream",
     "text": [
      "472\n",
      "385\n",
      "2360\n",
      "3776\n",
      "1416\n",
      "181720\n"
     ]
    }
   ],
   "source": [
    "# 13\n",
    "# 첫째 줄에 (1)의 위치에 들어갈 세 자리 자연수가, 둘째 줄에 (2)의 위치에 들어갈 세자리 자연수가 주어진다.\n",
    "# 첫째 줄부터 넷째 줄까지 차례대로 (3), (4), (5), (6)에 들어갈 값을 출력한다.\n",
    "\n",
    "a = int(input())\n",
    "b= str(input())\n",
    "\n",
    "print( a * int(b[2]) )\n",
    "print( a * int(b[1]) )\n",
    "print( a * int(b[0]) )\n",
    "print( a * int(b) )\n"
   ]
  },
  {
   "cell_type": "markdown",
   "metadata": {
    "id": "Q6u0xLAAYOfn"
   },
   "source": [
    "# 2단계 조건문"
   ]
  },
  {
   "cell_type": "code",
   "execution_count": null,
   "metadata": {
    "colab": {
     "base_uri": "https://localhost:8080/"
    },
    "id": "EkyR6whlYR32",
    "outputId": "4c1d6495-e5c1-44f7-a276-ae0d33f70e6f"
   },
   "outputs": [
    {
     "name": "stdout",
     "output_type": "stream",
     "text": [
      "300 500\n",
      "<\n"
     ]
    }
   ],
   "source": [
    "# 1\n",
    "# 첫째 줄에 A와 B가 주어진다. A와 B는 공백 한 칸으로 구분되어져 있다.\n",
    "\n",
    "# 첫째 줄에 다음 세 가지 중 하나를 출력한다.\n",
    "\n",
    "# A가 B보다 큰 경우에는 '>'를 출력한다.\n",
    "# A가 B보다 작은 경우에는 '<'를 출력한다.\n",
    "# A와 B가 같은 경우에는 '=='를 출력한다.\n",
    "\n",
    "# 제한 : -10,000 ≤ A, B ≤ 10,000\n",
    "\n",
    "A, B = map(int, input().split())\n",
    "\n",
    "if A > B :\n",
    "    print('>')\n",
    "elif A < B :\n",
    "    print('<')\n",
    "elif A == B :\n",
    "    print('==')"
   ]
  },
  {
   "cell_type": "code",
   "execution_count": null,
   "metadata": {
    "colab": {
     "base_uri": "https://localhost:8080/"
    },
    "id": "RCRrKm6c9SbT",
    "outputId": "5163129f-8c74-4a2a-dc9e-2582f529eeaa"
   },
   "outputs": [
    {
     "name": "stdout",
     "output_type": "stream",
     "text": [
      "86\n",
      "B\n"
     ]
    }
   ],
   "source": [
    "# 2\n",
    "# 시험 점수를 입력받아 90 ~ 100점은 A,\n",
    "# 80 ~ 89점은 B, 70 ~ 79점은 C, \n",
    "# 60 ~ 69점은 D, 나머지 점수는 F를 출력하는 프로그램을 작성하시오.\n",
    "\n",
    "num = int(input())\n",
    "\n",
    "if 90 <= num <= 100 :\n",
    "    print('A')\n",
    "elif 80 <= num < 90 :\n",
    "    print('B')\n",
    "elif 70 <= num < 80 :\n",
    "    print('C')\n",
    "elif 60 <= num < 70 :\n",
    "    print('D')\n",
    "else :\n",
    "    print('F')"
   ]
  },
  {
   "cell_type": "code",
   "execution_count": null,
   "metadata": {
    "colab": {
     "base_uri": "https://localhost:8080/"
    },
    "id": "MlmADgqe-AWz",
    "outputId": "131b29a5-23fd-446c-8e70-82b78793779b"
   },
   "outputs": [
    {
     "name": "stdout",
     "output_type": "stream",
     "text": [
      "2000\n",
      "1\n"
     ]
    }
   ],
   "source": [
    "# 3\n",
    "# 연도가 주어졌을 때, 윤년이면 1, 아니면 0을 출력하는 프로그램을 작성하시오.\n",
    "# 윤년은 연도가 4의 배수이면서, 100의 배수가 아닐 때 또는 400의 배수일 때이다.\n",
    "# 예를 들어, 2012년은 4의 배수이면서 100의 배수가 아니라서 윤년이다. \n",
    "# 1900년은 100의 배수이고 400의 배수는 아니기 때문에 윤년이 아니다. \n",
    "# 하지만, 2000년은 400의 배수이기 때문에 윤년이다.\n",
    "\n",
    "y = int(input())\n",
    "\n",
    "if (y % 4 == 0 and y % 100 != 0) or y % 400 == 0 :\n",
    "    print(1)\n",
    "else :\n",
    "    print(0)"
   ]
  },
  {
   "cell_type": "code",
   "execution_count": null,
   "metadata": {
    "colab": {
     "base_uri": "https://localhost:8080/"
    },
    "id": "vYu0Voxh-9w1",
    "outputId": "ae8306a2-e805-440c-936b-ccbc1db11eed"
   },
   "outputs": [
    {
     "name": "stdout",
     "output_type": "stream",
     "text": [
      "3\n",
      "-1\n",
      "4\n"
     ]
    }
   ],
   "source": [
    "# 4\n",
    "# 흔한 수학 문제 중 하나는 주어진 점이 어느 사분면에 속하는지 알아내는 것이다. \n",
    "# 사분면은 아래 그림처럼 1부터 4까지 번호를 갖는다. \"Quadrant n\"은 \"제n사분면\"이라는 뜻이다.\n",
    "# 예를 들어, 좌표가 (12, 5)인 점 A는 x좌표와 y좌표가 모두 양수이므로 제1사분면에 속한다. \n",
    "# 점 B는 x좌표가 음수이고 y좌표가 양수이므로 제2사분면에 속한다.\n",
    "# 점의 좌표를 입력받아 그 점이 어느 사분면에 속하는지 알아내는 프로그램을 작성하시오. \n",
    "# 단, x좌표와 y좌표는 모두 양수나 음수라고 가정한다.\n",
    "\n",
    "x = int(input())\n",
    "y = int(input())\n",
    "\n",
    "if x > 0 and y > 0 :\n",
    "    print('1')\n",
    "elif x < 0 and y > 0 :\n",
    "    print('2')\n",
    "elif x < 0 and y < 0 :\n",
    "    print('3')\n",
    "else :\n",
    "    print('4')"
   ]
  },
  {
   "cell_type": "code",
   "execution_count": null,
   "metadata": {
    "colab": {
     "base_uri": "https://localhost:8080/"
    },
    "id": "6rVcTapJ_nz1",
    "outputId": "b37821f7-2835-4b0a-d9c2-f7c4c09f50ba"
   },
   "outputs": [
    {
     "name": "stdout",
     "output_type": "stream",
     "text": [
      "13 24\n",
      "12 39\n"
     ]
    }
   ],
   "source": [
    "# 5\n",
    "# 첫째 줄에 두 정수 H와 M이 주어진다. \n",
    "# (0 ≤ H ≤ 23, 0 ≤ M ≤ 59) 그리고 이것은 현재 상근이가 설정한 놓은 알람 시간 H시 M분을 의미한다.\n",
    "# 입력 시간은 24시간 표현을 사용한다. \n",
    "# 24시간 표현에서 하루의 시작은 0:0(자정)이고, 끝은 23:59(다음날 자정 1분 전)이다. \n",
    "# 시간을 나타낼 때, 불필요한 0은 사용하지 않는다.\n",
    "\n",
    "\n",
    "H, M = map(int, input().split())\n",
    "\n",
    "if M > 44 :\n",
    "    print(H, M-45)\n",
    "elif H > 0 and M < 45 :\n",
    "    print(H-1, M+15)\n",
    "else :\n",
    "    print(23, M+15)"
   ]
  },
  {
   "cell_type": "code",
   "execution_count": null,
   "metadata": {
    "colab": {
     "base_uri": "https://localhost:8080/"
    },
    "id": "kjwp4iaJiIVO",
    "outputId": "332a44f3-15b8-4136-92c7-043d10ac4e53"
   },
   "outputs": [
    {
     "name": "stdout",
     "output_type": "stream",
     "text": [
      "25 10\n",
      "90\n",
      "2 40\n"
     ]
    }
   ],
   "source": [
    "# 6\n",
    "# 첫째 줄에는 현재 시각이 나온다. \n",
    "# 현재 시각은 시 A (0 ≤ A ≤ 23) 와 분 B (0 ≤ B ≤ 59)가 정수로 빈칸을 사이에 두고 순서대로 주어진다. \n",
    "# 두 번째 줄에는 요리하는 데 필요한 시간 C (0 ≤ C ≤ 1,000)가 분 단위로 주어진다. \n",
    "\n",
    "# 첫째 줄에 종료되는 시각의 시와 분을 공백을 사이에 두고 출력한다. \n",
    "# (단, 시는 0부터 23까지의 정수, 분은 0부터 59까지의 정수이다. \n",
    "# 디지털 시계는 23시 59분에서 1분이 지나면 0시 0분이 된다.)\n",
    "\n",
    "\n",
    "H, M = map(int, input().split())\n",
    "C = int(input())\n",
    "H = ( H + int((M+C)/60) ) % 24\n",
    "M = int(( M+C ) % 60)\n",
    "print(H,M)"
   ]
  },
  {
   "cell_type": "code",
   "execution_count": null,
   "metadata": {
    "colab": {
     "base_uri": "https://localhost:8080/"
    },
    "id": "HbjTNUPAkr4M",
    "outputId": "a4291a62-20f9-4442-df86-8642b8b7cd51"
   },
   "outputs": [
    {
     "name": "stdout",
     "output_type": "stream",
     "text": [
      "5 2 6\n",
      "600\n"
     ]
    }
   ],
   "source": [
    "# # 7\n",
    "# 1에서부터 6까지의 눈을 가진 3개의 주사위를 던져서 다음과 같은 규칙에 따라 상금을 받는 게임이 있다. \n",
    "\n",
    "# 같은 눈이 3개가 나오면 10,000원+(같은 눈)×1,000원의 상금을 받게 된다. \n",
    "# 같은 눈이 2개만 나오는 경우에는 1,000원+(같은 눈)×100원의 상금을 받게 된다. \n",
    "# 모두 다른 눈이 나오는 경우에는 (그 중 가장 큰 눈)×100원의 상금을 받게 된다.  \n",
    "# 예를 들어, 3개의 눈 3, 3, 6이 주어지면 상금은 1,000+3×100으로 계산되어 1,300원을 받게 된다. 또 3개의 눈이 2, 2, 2로 주어지면 10,000+2×1,000 으로 계산되어 12,000원을 받게 된다. 3개의 눈이 6, 2, 5로 주어지면 그중 가장 큰 값이 6이므로 6×100으로 계산되어 600원을 상금으로 받게 된다.\n",
    "\n",
    "# 3개 주사위의 나온 눈이 주어질 때, 상금을 계산하는 프로그램을 작성 하시오.\n",
    "\n",
    "# 첫째 줄에 3개의 눈이 빈칸을 사이에 두고 각각 주어진다. \n",
    "# 첫째 줄에 게임의 상금을 출력 한다.\n",
    "\n",
    "\n",
    "a, b, c =map(int,input().split())\n",
    "\n",
    "if a == b == c :\n",
    "    print( 10000 + a * 1000 )\n",
    "elif a == b :\n",
    "    print( 1000 + a*100 )\n",
    "elif a == c :\n",
    "    print ( 1000 + a*100 )\n",
    "elif b == c :\n",
    "    print( 1000 + b*100 )\n",
    "else :\n",
    "    print(100*max(a,b,c))\n",
    "\n",
    "# max함수 사용"
   ]
  },
  {
   "cell_type": "markdown",
   "metadata": {
    "id": "MOKAYqkXqOXQ"
   },
   "source": [
    "# 3단계 반복문"
   ]
  },
  {
   "cell_type": "code",
   "execution_count": null,
   "metadata": {
    "colab": {
     "base_uri": "https://localhost:8080/"
    },
    "id": "SUeHBpa_qTY8",
    "outputId": "2b9169f4-6557-4aa5-add6-5a4da48d4d21"
   },
   "outputs": [
    {
     "name": "stdout",
     "output_type": "stream",
     "text": [
      "2\n",
      "2 * 1 = 2\n",
      "2 * 2 = 4\n",
      "2 * 3 = 6\n",
      "2 * 4 = 8\n",
      "2 * 5 = 10\n",
      "2 * 6 = 12\n",
      "2 * 7 = 14\n",
      "2 * 8 = 16\n",
      "2 * 9 = 18\n"
     ]
    }
   ],
   "source": [
    "# 1.\n",
    "# N을 입력받은 뒤, 구구단 N단을 출력하는 프로그램을 작성하시오. 출력 형식에 맞춰서 출력하면 된다.\n",
    "# 첫째 줄에 N이 주어진다. N은 1보다 크거나 같고, 9보다 작거나 같다.\n",
    "# 출력형식과 같게 N*1부터 N*9까지 출력한다.\n",
    "\n",
    "n = int(input())\n",
    "\n",
    "for j in range(1,10) :\n",
    "    print(f'{n} * {j} = {n*j}')"
   ]
  },
  {
   "cell_type": "code",
   "execution_count": null,
   "metadata": {
    "colab": {
     "base_uri": "https://localhost:8080/"
    },
    "id": "yYex1ERlqoX8",
    "outputId": "2ccc76f0-a21e-4605-d562-a3b98630def2"
   },
   "outputs": [
    {
     "name": "stdout",
     "output_type": "stream",
     "text": [
      "5\n",
      "1 1\n",
      "2\n",
      "2 3\n",
      "5\n",
      "3 4\n",
      "7\n",
      "9 8\n",
      "17\n",
      "5 2\n",
      "7\n"
     ]
    }
   ],
   "source": [
    "# 2\n",
    "# 두 정수 A와 B를 입력받은 다음, A+B를 출력하는 프로그램을 작성하시오.\n",
    "# 첫째 줄에 테스트 케이스의 개수 T가 주어진다.\n",
    "# 각 테스트 케이스는 한 줄로 이루어져 있으며, 각 줄에 A와 B가 주어진다. (0 < A, B < 10)\n",
    "# 각 테스트 케이스마다 A+B를 출력한다.\n",
    "\n",
    "T = int(input())\n",
    "\n",
    "for i in range(T) :\n",
    "    a, b = map(int, input().split())\n",
    "    print(a+b)"
   ]
  },
  {
   "cell_type": "code",
   "execution_count": null,
   "metadata": {
    "colab": {
     "base_uri": "https://localhost:8080/"
    },
    "id": "KFPJFMOZrnZM",
    "outputId": "d5986581-553e-49d3-bb3f-2f1dee933c9a"
   },
   "outputs": [
    {
     "name": "stdout",
     "output_type": "stream",
     "text": [
      "5\n",
      "15\n"
     ]
    }
   ],
   "source": [
    "# 3\n",
    "# n이 주어졌을 때, 1부터 n까지 합을 구하는 프로그램을 작성하시오.\n",
    "# 첫째 줄에 n (1 ≤ n ≤ 10,000)이 주어진다.\n",
    "# 1부터 n까지 합을 출력한다.\n",
    "\n",
    "n = int(input())\n",
    "total = 0\n",
    "\n",
    "for i in range(1, n+1) :\n",
    "    total += i\n",
    "print(total)"
   ]
  },
  {
   "cell_type": "code",
   "execution_count": null,
   "metadata": {
    "colab": {
     "base_uri": "https://localhost:8080/",
     "height": 248
    },
    "id": "dyfOsaACspjf",
    "outputId": "fdf668bd-dfce-415e-c269-891c7bb5f37f"
   },
   "outputs": [
    {
     "ename": "ValueError",
     "evalue": "ignored",
     "output_type": "error",
     "traceback": [
      "\u001b[0;31m---------------------------------------------------------------------------\u001b[0m",
      "\u001b[0;31mValueError\u001b[0m                                Traceback (most recent call last)",
      "\u001b[0;32m<ipython-input-50-5fa10828cdef>\u001b[0m in \u001b[0;36m<module>\u001b[0;34m()\u001b[0m\n\u001b[1;32m      6\u001b[0m \u001b[0;32mimport\u001b[0m \u001b[0msys\u001b[0m\u001b[0;34m\u001b[0m\u001b[0;34m\u001b[0m\u001b[0m\n\u001b[1;32m      7\u001b[0m \u001b[0;34m\u001b[0m\u001b[0m\n\u001b[0;32m----> 8\u001b[0;31m \u001b[0mT\u001b[0m \u001b[0;34m=\u001b[0m \u001b[0mint\u001b[0m\u001b[0;34m(\u001b[0m\u001b[0msys\u001b[0m\u001b[0;34m.\u001b[0m\u001b[0mstdin\u001b[0m\u001b[0;34m.\u001b[0m\u001b[0mreadline\u001b[0m\u001b[0;34m(\u001b[0m\u001b[0;34m)\u001b[0m\u001b[0;34m)\u001b[0m\u001b[0;34m\u001b[0m\u001b[0;34m\u001b[0m\u001b[0m\n\u001b[0m\u001b[1;32m      9\u001b[0m \u001b[0;34m\u001b[0m\u001b[0m\n\u001b[1;32m     10\u001b[0m \u001b[0;32mfor\u001b[0m \u001b[0mi\u001b[0m \u001b[0;32min\u001b[0m \u001b[0mrange\u001b[0m\u001b[0;34m(\u001b[0m\u001b[0mT\u001b[0m\u001b[0;34m)\u001b[0m \u001b[0;34m:\u001b[0m\u001b[0;34m\u001b[0m\u001b[0;34m\u001b[0m\u001b[0m\n",
      "\u001b[0;31mValueError\u001b[0m: invalid literal for int() with base 10: ''"
     ]
    }
   ],
   "source": [
    "# 4\n",
    "# 첫 줄에 테스트케이스의 개수 T가 주어진다. T는 최대 1,000,000이다. \n",
    "# 다음 T줄에는 각각 두 정수 A와 B가 주어진다. A와 B는 1 이상, 1,000 이하이다.\n",
    "# 각 테스트케이스마다 A+B를 한 줄에 하나씩 순서대로 출력한다.\n",
    "\n",
    "import sys\n",
    "\n",
    "T = int(sys.stdin.readline())\n",
    "\n",
    "for i in range(T) :\n",
    "    a, b = map(int, sys.stdin.readline().split())\n",
    "    print(a+b)\n",
    "\n",
    "# sys.stdin.readline() == input()\n",
    "# 구글 코랩에서는 sys.stdin.readline() 작동 X"
   ]
  },
  {
   "cell_type": "markdown",
   "metadata": {
    "id": "Oa4JZJhkthB9"
   },
   "source": [
    "sys 모듈은 파이썬 인터프리터가 제공하는 변수와 함수를 직접 제어할 수 있게 해주는 모듈\n",
    "\n",
    "input과 sys.stdin.readline의 차이점\n",
    "- input() 내장 함수는 parameter로 prompt message를 받을 수 있다. 따라서 입력받기 전 prompt message를 출력해야 한다.\n",
    "\n",
    "- 하지만, sys.stdin.readline()은 prompt message를 인수로 받지 않는다.\n",
    "\n",
    "- input() 내장 함수는 입력받은 값의 개행 문자를 삭제시켜서 리턴한다. 즉 입력받은 문자열에 rstrip() 함수를 적용시켜서 리턴한다.\n",
    "\n",
    "- 반면에 sys.stdin.readline()은 개행 문자를 포함한 값을 리턴한다."
   ]
  },
  {
   "cell_type": "code",
   "execution_count": null,
   "metadata": {
    "colab": {
     "base_uri": "https://localhost:8080/"
    },
    "id": "yE04oUaQtTyr",
    "outputId": "058e8275-cd6e-48f4-ff58-3b1b3c36e8cb"
   },
   "outputs": [
    {
     "name": "stdout",
     "output_type": "stream",
     "text": [
      "5\n",
      "1\n",
      "2\n",
      "3\n",
      "4\n",
      "5\n"
     ]
    }
   ],
   "source": [
    "# 5\n",
    "# 자연수 N이 주어졌을 때, 1부터 N까지 한 줄에 하나씩 출력하는 프로그램을 작성하시오.\n",
    "# 첫째 줄에 100,000보다 작거나 같은 자연수 N이 주어진다.\n",
    "# 첫째 줄부터 N번째 줄 까지 차례대로 출력한다.\n",
    "\n",
    "n = int(input())\n",
    "\n",
    "for i in range(1, n+1) :\n",
    "    print(i)"
   ]
  },
  {
   "cell_type": "code",
   "execution_count": null,
   "metadata": {
    "colab": {
     "base_uri": "https://localhost:8080/"
    },
    "id": "kAffGz_3ya5W",
    "outputId": "68b6c443-afb3-488d-df61-0b79778455df"
   },
   "outputs": [
    {
     "name": "stdout",
     "output_type": "stream",
     "text": [
      "5\n",
      "5\n",
      "4\n",
      "3\n",
      "2\n",
      "1\n"
     ]
    }
   ],
   "source": [
    "# 6\n",
    "# 자연수 N이 주어졌을 때, N부터 1까지 한 줄에 하나씩 출력하는 프로그램을 작성하시오.\n",
    "# 첫째 줄에 100,000보다 작거나 같은 자연수 N이 주어진다.\n",
    "# 첫째 줄부터 N번째 줄 까지 차례대로 출력한다.\n",
    "\n",
    "n = int(input())\n",
    "\n",
    "for i in range(n, 0, -1) :\n",
    "    print(i)"
   ]
  },
  {
   "cell_type": "code",
   "execution_count": null,
   "metadata": {
    "colab": {
     "base_uri": "https://localhost:8080/"
    },
    "id": "d3hWreA_yq8z",
    "outputId": "fe8a48ea-1e26-4db6-a30b-4fd561869d04"
   },
   "outputs": [
    {
     "name": "stdout",
     "output_type": "stream",
     "text": [
      "5\n",
      "1 1\n",
      "Case #1: 2\n",
      "2 3\n",
      "Case #2: 5\n",
      "3 4\n",
      "Case #3: 7\n",
      "9 8\n",
      "Case #4: 17\n",
      "5 2\n",
      "Case #5: 7\n"
     ]
    }
   ],
   "source": [
    "# 7\n",
    "# 첫째 줄에 테스트 케이스의 개수 T가 주어진다.\n",
    "# 각 테스트 케이스는 한 줄로 이루어져 있으며, 각 줄에 A와 B가 주어진다. (0 < A, B < 10)\n",
    "# 각 테스트 케이스마다 \"Case #x: \"를 출력한 다음, A+B를 출력한다. 테스트 케이스 번호는 1부터 시작한다.\n",
    "\n",
    "T = int(input())\n",
    "\n",
    "for i in range(T) :\n",
    "    a, b = map(int, input().split())\n",
    "    print(f'Case #{i+1}: {a+b}')\n"
   ]
  },
  {
   "cell_type": "code",
   "execution_count": null,
   "metadata": {
    "colab": {
     "base_uri": "https://localhost:8080/"
    },
    "id": "9qtZw1kkzNkq",
    "outputId": "31bc0d81-a5e1-4b9b-cfa3-10989730547c"
   },
   "outputs": [
    {
     "name": "stdout",
     "output_type": "stream",
     "text": [
      "5\n",
      "1 1\n",
      "Case #1: 1 + 1 = 2\n",
      "2 3\n",
      "Case #2: 2 + 3 = 5\n",
      "3 4\n",
      "Case #3: 3 + 4 = 7\n",
      "9 8\n",
      "Case #4: 9 + 8 = 17\n",
      "5 2\n",
      "Case #5: 5 + 2 = 7\n"
     ]
    }
   ],
   "source": [
    "# 8\n",
    "# 첫째 줄에 테스트 케이스의 개수 T가 주어진다.\n",
    "# 각 테스트 케이스는 한 줄로 이루어져 있으며, 각 줄에 A와 B가 주어진다. (0 < A, B < 10)\n",
    "# 각 테스트 케이스마다 \"Case #x: A + B = C\" 형식으로 출력한다. \n",
    "# x는 테스트 케이스 번호이고 1부터 시작하며, C는 A+B이다.\n",
    "\n",
    "T = int(input())\n",
    "\n",
    "for i in range(T) :\n",
    "    a, b = map(int, input().split())\n",
    "    print(f'Case #{i+1}: {a} + {b} = {a+b}')"
   ]
  },
  {
   "cell_type": "code",
   "execution_count": null,
   "metadata": {
    "colab": {
     "base_uri": "https://localhost:8080/"
    },
    "id": "-95HHPvWztFc",
    "outputId": "fe5b3cab-2a77-4620-f7eb-0735dd8bf347"
   },
   "outputs": [
    {
     "name": "stdout",
     "output_type": "stream",
     "text": [
      "5\n",
      "*\n",
      "**\n",
      "***\n",
      "****\n",
      "*****\n"
     ]
    }
   ],
   "source": [
    "# 9\n",
    "# 첫째 줄에 N(1 ≤ N ≤ 100)이 주어진다.\n",
    "# 첫째 줄부터 N번째 줄까지 차례대로 별을 출력한다.\n",
    "\n",
    "a = int(input())\n",
    "\n",
    "for i in range(a) :\n",
    "    print('*' * (i+1))"
   ]
  },
  {
   "cell_type": "code",
   "execution_count": null,
   "metadata": {
    "colab": {
     "base_uri": "https://localhost:8080/"
    },
    "id": "DDPstyFU0HN-",
    "outputId": "440e893c-50ae-4d0f-d377-7b4f56946a6b"
   },
   "outputs": [
    {
     "name": "stdout",
     "output_type": "stream",
     "text": [
      "5\n",
      "    *\n",
      "   **\n",
      "  ***\n",
      " ****\n",
      "*****\n"
     ]
    }
   ],
   "source": [
    "# 10\n",
    "# 첫째 줄에 N(1 ≤ N ≤ 100)이 주어진다.\n",
    "# 첫째 줄부터 N번째 줄까지 차례대로 별을 출력한다.\n",
    "# 하지만, 오른쪽을 기준으로 정렬한 별(예제 참고)을 출력하시오.\n",
    "\n",
    "\n",
    "a = int(input())\n",
    "\n",
    "for i in range(a) :\n",
    "    print(\" \" * (a-i-1)+'*' * (i+1) )\n"
   ]
  },
  {
   "cell_type": "code",
   "execution_count": null,
   "metadata": {
    "colab": {
     "base_uri": "https://localhost:8080/"
    },
    "id": "7slTgTaY0rQY",
    "outputId": "89d79869-af1b-43ed-c6ab-ff6ef27ddea6"
   },
   "outputs": [
    {
     "name": "stdout",
     "output_type": "stream",
     "text": [
      "10 5\n",
      "1 10 4 9 2 3 8 5 7 6\n",
      "1 4 2 3 "
     ]
    }
   ],
   "source": [
    "# 11\n",
    "# 첫째 줄에 N과 X가 주어진다. (1 ≤ N, X ≤ 10,000)\n",
    "# 둘째 줄에 수열 A를 이루는 정수 N개가 주어진다. 주어지는 정수는 모두 1보다 크거나 같고, 10,000보다 작거나 같은 정수이다.\n",
    "# X보다 작은 수를 입력받은 순서대로 공백으로 구분해 출력한다. X보다 작은 수는 적어도 하나 존재한다.\n",
    "\n",
    "N, X = map(int, input().split())\n",
    "\n",
    "A = list(map(int, input().split()))\n",
    "\n",
    "for i in range(N) :\n",
    "    if A[i] < X :\n",
    "        print(A[i], end = \" \")\n"
   ]
  },
  {
   "cell_type": "code",
   "execution_count": null,
   "metadata": {
    "colab": {
     "base_uri": "https://localhost:8080/"
    },
    "id": "6g0F-9hv2f0T",
    "outputId": "f37dfc28-add4-4ff8-c947-e46aac504162"
   },
   "outputs": [
    {
     "name": "stdout",
     "output_type": "stream",
     "text": [
      "1 1\n",
      "2\n",
      "2 3\n",
      "5\n",
      "3 4\n",
      "7\n",
      "9 8\n",
      "17\n",
      "5 2\n",
      "7\n",
      "0 0\n"
     ]
    }
   ],
   "source": [
    "# 12\n",
    "# 입력은 여러 개의 테스트 케이스로 이루어져 있다.\n",
    "# 각 테스트 케이스는 한 줄로 이루어져 있으며, 각 줄에 A와 B가 주어진다. (0 < A, B < 10)\n",
    "# 입력의 마지막에는 0 두 개가 들어온다.\n",
    "# 각 테스트 케이스마다 A+B를 출력한다.\n",
    "\n",
    "while True :\n",
    "    a, b = map(int, input().split())\n",
    "    if a == 0 and b == 0 :\n",
    "        break\n",
    "    print(a+b)"
   ]
  },
  {
   "cell_type": "code",
   "execution_count": null,
   "metadata": {
    "colab": {
     "base_uri": "https://localhost:8080/"
    },
    "id": "MaDBS4WzJuz0",
    "outputId": "50b6f4e7-30e6-4da1-fd38-4573614fc063"
   },
   "outputs": [
    {
     "name": "stdout",
     "output_type": "stream",
     "text": [
      "1 1\n",
      "2\n",
      "2 3\n",
      "5\n",
      "3 4\n",
      "7\n",
      "9 8\n",
      "17\n",
      "5 2\n",
      "7\n",
      "r\n"
     ]
    }
   ],
   "source": [
    "# 13\n",
    "# 입력은 여러 개의 테스트 케이스로 이루어져 있다.\n",
    "# 각 테스트 케이스는 한 줄로 이루어져 있으며, 각 줄에 A와 B가 주어진다. (0 < A, B < 10)\n",
    "# 각 테스트 케이스마다 A+B를 출력한다.\n",
    "\n",
    "while True :\n",
    "    try :\n",
    "        a, b = map(int, input().split())\n",
    "    except :\n",
    "        break\n",
    "    print(a+b)\n",
    "\n",
    "# while 문의 try, break\n",
    "# 1. try : 구동시킬 코드\n",
    "# 2. except : try에서 구동되는 코드 실행시 에러가 발생하면 할 동작"
   ]
  },
  {
   "cell_type": "code",
   "execution_count": null,
   "metadata": {
    "colab": {
     "base_uri": "https://localhost:8080/"
    },
    "id": "d2wZxg3OK1id",
    "outputId": "b2b5471c-9fc5-494c-9d99-c7b70755a9a7"
   },
   "outputs": [
    {
     "name": "stdout",
     "output_type": "stream",
     "text": [
      "88\n",
      "20\n"
     ]
    }
   ],
   "source": [
    "# 14\n",
    "# 0보다 크거나 같고, 99보다 작거나 같은 정수가 주어질 때 다음과 같은 연산을 할 수 있다. \n",
    "# 먼저 주어진 수가 10보다 작다면 앞에 0을 붙여 두 자리 수로 만들고, 각 자리의 숫자를 더한다. \n",
    "# 그 다음, 주어진 수의 가장 오른쪽 자리 수와 앞에서 구한 합의 가장 오른쪽 자리 수를 이어 붙이면 새로운 수를 만들 수 있다. 다음 예를 보자.\n",
    "# 26부터 시작한다. 2+6 = 8이다. 새로운 수는 68이다. 6+8 = 14이다. 새로운 수는 84이다. 8+4 = 12이다. 새로운 수는 42이다. 4+2 = 6이다. 새로운 수는 26이다.\n",
    "# 위의 예는 4번만에 원래 수로 돌아올 수 있다. 따라서 26의 사이클의 길이는 4이다.\n",
    "# N이 주어졌을 때, N의 사이클의 길이를 구하는 프로그램을 작성하시오.\n",
    "# 첫째 줄에 N이 주어진다. N은 0보다 크거나 같고, 99보다 작거나 같은 정수이다.\n",
    "# 첫째 줄에 N의 사이클 길이를 출력한다.\n",
    "\n",
    "n = int(input())\n",
    "num = n\n",
    "count = 0\n",
    "\n",
    "while True :\n",
    "    a = num // 10 # 몫\n",
    "    b = num % 10 # 나머지\n",
    "    c = (a+b) % 10 # 나머지\n",
    "    num = (b * 10) + c\n",
    "\n",
    "    count += 1\n",
    "    if num == n :\n",
    "        break\n",
    "\n",
    "print(count)"
   ]
  },
  {
   "cell_type": "markdown",
   "metadata": {
    "id": "vjSvoDvMPfne"
   },
   "source": [
    "# 4단계 1차원 배열"
   ]
  },
  {
   "cell_type": "code",
   "execution_count": null,
   "metadata": {
    "colab": {
     "base_uri": "https://localhost:8080/"
    },
    "id": "NR4fpZxHPhaC",
    "outputId": "62eda13e-5a57-4bc7-ad6d-7142fc1a21b2"
   },
   "outputs": [
    {
     "name": "stdout",
     "output_type": "stream",
     "text": [
      "5\n",
      "20 10 35 30 7\n",
      "7 35\n"
     ]
    }
   ],
   "source": [
    "# 1\n",
    "# 첫째 줄에 정수의 개수 N (1 ≤ N ≤ 1,000,000)이 주어진다. 둘째 줄에는 N개의 정수를 공백으로 구분해서 주어진다. \n",
    "# 모든 정수는 -1,000,000보다 크거나 같고, 1,000,000보다 작거나 같은 정수이다.\n",
    "# 첫째 줄에 주어진 정수 N개의 최솟값과 최댓값을 공백으로 구분해 출력한다.\n",
    "\n",
    "n = int(input())\n",
    "my_list = list(map(int, input().split()))\n",
    "print(min(my_list), max(my_list))"
   ]
  },
  {
   "cell_type": "code",
   "execution_count": null,
   "metadata": {
    "colab": {
     "base_uri": "https://localhost:8080/"
    },
    "id": "h7ueVuwyQpve",
    "outputId": "5f2120e0-af90-4d11-8530-d4c079b2f88b"
   },
   "outputs": [
    {
     "name": "stdout",
     "output_type": "stream",
     "text": [
      "3\n",
      "29\n",
      "38\n",
      "12\n",
      "57\n",
      "74\n",
      "40\n",
      "85\n",
      "61\n",
      "85\n",
      "8\n"
     ]
    }
   ],
   "source": [
    "# 2\n",
    "# 9개의 서로 다른 자연수가 주어질 때, 이들 중 최댓값을 찾고 그 최댓값이 몇 번째 수인지를 구하는 프로그램을 작성하시오.\n",
    "# 예를 들어, 서로 다른 9개의 자연수\n",
    "# 3, 29, 38, 12, 57, 74, 40, 85, 61\n",
    "# 이 주어지면, 이들 중 최댓값은 85이고, 이 값은 8번째 수이다.\n",
    "# 첫째 줄에 최댓값을 출력하고, 둘째 줄에 최댓값이 몇 번째 수인지를 출력한다.\n",
    "\n",
    "num = [ int(input()) for _ in range(9) ]\n",
    "\n",
    "print(max(num));print(num.index(max(num))+1)"
   ]
  },
  {
   "cell_type": "code",
   "execution_count": null,
   "metadata": {
    "colab": {
     "base_uri": "https://localhost:8080/"
    },
    "id": "ILclRvJsRqtb",
    "outputId": "136be36d-3051-400d-acec-1593d8771330"
   },
   "outputs": [
    {
     "name": "stdout",
     "output_type": "stream",
     "text": [
      "150\n",
      "266\n",
      "427\n",
      "3\n",
      "1\n",
      "0\n",
      "2\n",
      "0\n",
      "0\n",
      "0\n",
      "2\n",
      "0\n",
      "0\n"
     ]
    }
   ],
   "source": [
    "# 3\n",
    "# 세 개의 자연수 A, B, C가 주어질 때 A × B × C를 계산한 결과에 \n",
    "# 0부터 9까지 각각의 숫자가 몇 번씩 쓰였는지를 구하는 프로그램을 작성하시오.\n",
    "# 예를 들어 A = 150, B = 266, C = 427 이라면 A × B × C = 150 × 266 × 427 = 17037300 이 되고, \n",
    "# 계산한 결과 17037300 에는 0이 3번, 1이 1번, 3이 2번, 7이 2번 쓰였다.\n",
    "\n",
    "\n",
    "a = int(input())\n",
    "b = int(input())\n",
    "c = int(input())\n",
    "num = str(a * b * c)\n",
    "my_list = list(num)\n",
    "\n",
    "for i in range(10):\n",
    "    print(my_list.count(str(i)))"
   ]
  },
  {
   "cell_type": "code",
   "execution_count": null,
   "metadata": {
    "colab": {
     "base_uri": "https://localhost:8080/"
    },
    "id": "2FKIxrWHUSxL",
    "outputId": "e84ba799-2bd1-45be-961c-d6acf6d73600"
   },
   "outputs": [
    {
     "name": "stdout",
     "output_type": "stream",
     "text": [
      "42\n",
      "84\n",
      "252\n",
      "420\n",
      "840\n",
      "126\n",
      "42\n",
      "84\n",
      "420\n",
      "126\n",
      "1\n"
     ]
    }
   ],
   "source": [
    "# 4\n",
    "# 두 자연수 A와 B가 있을 때, A%B는 A를 B로 나눈 나머지 이다. \n",
    "# 예를 들어, 7, 14, 27, 38을 3으로 나눈 나머지는 1, 2, 0, 2이다. \n",
    "# 수 10개를 입력받은 뒤, 이를 42로 나눈 나머지를 구한다. \n",
    "# 그 다음 서로 다른 값이 몇 개 있는지 출력하는 프로그램을 작성하시오.\n",
    "# 첫째 줄에, 42로 나누었을 때, 서로 다른 나머지가 몇 개 있는지 출력한다.\n",
    "\n",
    "\n",
    "my_list = []\n",
    "for i in range(10):\n",
    "    n = int(input())\n",
    "    my_list.append(n % 42)\n",
    "my_list = set(my_list)\n",
    "print(len(my_list))"
   ]
  },
  {
   "cell_type": "code",
   "execution_count": null,
   "metadata": {
    "colab": {
     "base_uri": "https://localhost:8080/"
    },
    "id": "jk04Lia3V9yk",
    "outputId": "48461f07-9acc-492e-fa22-954948878dd2"
   },
   "outputs": [
    {
     "name": "stdout",
     "output_type": "stream",
     "text": [
      "5\n",
      "OOXXOXXOOO\n",
      "10\n",
      "OOXXOOXXOO\n",
      "9\n",
      "OXOXOXOXOXOXOX\n",
      "7\n",
      "OOOOOOOOOO\n",
      "55\n",
      "OOOOXOOOOXOOOOX\n",
      "30\n"
     ]
    }
   ],
   "source": [
    "# 5\n",
    "# \"OOXXOXXOOO\"와 같은 OX퀴즈의 결과가 있다. \n",
    "# O는 문제를 맞은 것이고, X는 문제를 틀린 것이다. \n",
    "# 문제를 맞은 경우 그 문제의 점수는 그 문제까지 연속된 O의 개수가 된다. \n",
    "# 예를 들어, 10번 문제의 점수는 3이 된다.\n",
    "\n",
    "# \"OOXXOXXOOO\"의 점수는 1+2+0+0+1+0+0+1+2+3 = 10점이다.\n",
    "\n",
    "# OX퀴즈의 결과가 주어졌을 때, 점수를 구하는 프로그램을 작성하시오.\n",
    "# 첫째 줄에 테스트 케이스의 개수가 주어진다. 각 테스트 케이스는 한 줄로 이루어져 있고, \n",
    "# 길이가 0보다 크고 80보다 작은 문자열이 주어진다. 문자열은 O와 X만으로 이루어져 있다.\n",
    "# 각 테스트 케이스마다 점수를 출력한다.\n",
    "\n",
    "# t = int(input())\n",
    "\n",
    "\n",
    "# for i in range(t) :\n",
    "#     a = input()\n",
    "#     for j in a :\n",
    "#         o_total = 0\n",
    "#         if j == 'O' :\n",
    "#             j = 1\n",
    "#             o_total += j\n",
    "#             print(o_total)\n",
    "\n",
    "#         elif j == 'X' :\n",
    "#             print(0)\n",
    "            \n",
    "t = int(input())\n",
    "for i in range(t) :\n",
    "    a = input()\n",
    "    my_list = list(a)\n",
    "    sum = 0\n",
    "    c = 1\n",
    "    for i in my_list :\n",
    "        if i == 'O':\n",
    "            sum += c\n",
    "            c += 1\n",
    "        else :\n",
    "            c = 1\n",
    "    print(sum)\n"
   ]
  },
  {
   "cell_type": "code",
   "execution_count": null,
   "metadata": {
    "colab": {
     "base_uri": "https://localhost:8080/",
     "height": 284
    },
    "id": "Q4RJtdylYLyv",
    "outputId": "94304504-0137-43d1-e250-6aae1bb6ace7"
   },
   "outputs": [
    {
     "name": "stdout",
     "output_type": "stream",
     "text": [
      "2\n",
      "5 50 50 70 80 100\n"
     ]
    },
    {
     "ename": "TypeError",
     "evalue": "ignored",
     "output_type": "error",
     "traceback": [
      "\u001b[0;31m---------------------------------------------------------------------------\u001b[0m",
      "\u001b[0;31mTypeError\u001b[0m                                 Traceback (most recent call last)",
      "\u001b[0;32m<ipython-input-143-503cd4e249f0>\u001b[0m in \u001b[0;36m<module>\u001b[0;34m()\u001b[0m\n\u001b[1;32m     22\u001b[0m \u001b[0;34m\u001b[0m\u001b[0m\n\u001b[1;32m     23\u001b[0m \u001b[0;32mfor\u001b[0m \u001b[0m_\u001b[0m \u001b[0;32min\u001b[0m \u001b[0mrange\u001b[0m\u001b[0;34m(\u001b[0m\u001b[0mc\u001b[0m\u001b[0;34m)\u001b[0m \u001b[0;34m:\u001b[0m\u001b[0;34m\u001b[0m\u001b[0;34m\u001b[0m\u001b[0m\n\u001b[0;32m---> 24\u001b[0;31m   \u001b[0mdata\u001b[0m \u001b[0;34m=\u001b[0m \u001b[0mlist\u001b[0m\u001b[0;34m(\u001b[0m\u001b[0mmap\u001b[0m\u001b[0;34m(\u001b[0m\u001b[0mint\u001b[0m\u001b[0;34m,\u001b[0m \u001b[0minput\u001b[0m\u001b[0;34m(\u001b[0m\u001b[0;34m)\u001b[0m\u001b[0;34m.\u001b[0m\u001b[0msplit\u001b[0m\u001b[0;34m(\u001b[0m\u001b[0;34m)\u001b[0m\u001b[0;34m)\u001b[0m\u001b[0;34m)\u001b[0m\u001b[0;34m\u001b[0m\u001b[0;34m\u001b[0m\u001b[0m\n\u001b[0m\u001b[1;32m     25\u001b[0m   \u001b[0mavg\u001b[0m \u001b[0;34m=\u001b[0m \u001b[0msum\u001b[0m\u001b[0;34m(\u001b[0m\u001b[0mdata\u001b[0m\u001b[0;34m[\u001b[0m\u001b[0;36m1\u001b[0m\u001b[0;34m:\u001b[0m\u001b[0;34m]\u001b[0m\u001b[0;34m)\u001b[0m \u001b[0;34m/\u001b[0m \u001b[0mdata\u001b[0m\u001b[0;34m[\u001b[0m\u001b[0;36m0\u001b[0m\u001b[0;34m]\u001b[0m\u001b[0;34m\u001b[0m\u001b[0;34m\u001b[0m\u001b[0m\n\u001b[1;32m     26\u001b[0m   \u001b[0mcount\u001b[0m \u001b[0;34m=\u001b[0m \u001b[0;36m0\u001b[0m\u001b[0;34m\u001b[0m\u001b[0;34m\u001b[0m\u001b[0m\n",
      "\u001b[0;31mTypeError\u001b[0m: 'list' object is not callable"
     ]
    }
   ],
   "source": [
    "# 6\n",
    "# 첫째 줄에는 테스트 케이스의 개수 C가 주어진다.\n",
    "# 둘째 줄부터 각 테스트 케이스마다 학생의 수 N(1 ≤ N ≤ 1000, N은 정수)이 첫 수로 주어지고, \n",
    "# 이어서 N명의 점수가 주어진다. 점수는 0보다 크거나 같고, 100보다 작거나 같은 정수이다.\n",
    "# 각 케이스마다 한 줄씩 평균을 넘는 학생들의 비율을 반올림하여 소수점 셋째 자리까지 출력한다.\n",
    "\n",
    "n = int(input())\n",
    "\n",
    "for _ in range(n) :\n",
    "    num = list(map(int, input().split()))\n",
    "    avg = sum(num[1:]) / num[0]\n",
    "    count = 0\n",
    "    for i in range(1, len(num)) :\n",
    "        if num[i] > avg :\n",
    "            count += 1\n",
    "\n",
    "    per = count/num[0]*100\n",
    "    print('%3f' %per + '%')"
   ]
  },
  {
   "cell_type": "code",
   "execution_count": null,
   "metadata": {
    "colab": {
     "base_uri": "https://localhost:8080/",
     "height": 284
    },
    "id": "9_xjaePtfrHz",
    "outputId": "183ac354-b80c-40e7-c6e9-201f67deb87c"
   },
   "outputs": [
    {
     "name": "stdout",
     "output_type": "stream",
     "text": [
      "3\n",
      "40 80 60\n"
     ]
    },
    {
     "ename": "TypeError",
     "evalue": "ignored",
     "output_type": "error",
     "traceback": [
      "\u001b[0;31m---------------------------------------------------------------------------\u001b[0m",
      "\u001b[0;31mTypeError\u001b[0m                                 Traceback (most recent call last)",
      "\u001b[0;32m<ipython-input-145-2fff7fce997a>\u001b[0m in \u001b[0;36m<module>\u001b[0;34m()\u001b[0m\n\u001b[1;32m      8\u001b[0m \u001b[0;34m\u001b[0m\u001b[0m\n\u001b[1;32m      9\u001b[0m \u001b[0mn\u001b[0m \u001b[0;34m=\u001b[0m \u001b[0mint\u001b[0m\u001b[0;34m(\u001b[0m\u001b[0minput\u001b[0m\u001b[0;34m(\u001b[0m\u001b[0;34m)\u001b[0m\u001b[0;34m)\u001b[0m\u001b[0;34m\u001b[0m\u001b[0;34m\u001b[0m\u001b[0m\n\u001b[0;32m---> 10\u001b[0;31m \u001b[0mscore\u001b[0m \u001b[0;34m=\u001b[0m \u001b[0mlist\u001b[0m\u001b[0;34m(\u001b[0m\u001b[0mmap\u001b[0m\u001b[0;34m(\u001b[0m\u001b[0mint\u001b[0m\u001b[0;34m,\u001b[0m \u001b[0minput\u001b[0m\u001b[0;34m(\u001b[0m\u001b[0;34m)\u001b[0m\u001b[0;34m.\u001b[0m\u001b[0msplit\u001b[0m\u001b[0;34m(\u001b[0m\u001b[0;34m)\u001b[0m\u001b[0;34m)\u001b[0m\u001b[0;34m)\u001b[0m\u001b[0;34m\u001b[0m\u001b[0;34m\u001b[0m\u001b[0m\n\u001b[0m\u001b[1;32m     11\u001b[0m \u001b[0mmax_score\u001b[0m \u001b[0;34m=\u001b[0m \u001b[0mmax\u001b[0m\u001b[0;34m(\u001b[0m\u001b[0mscore\u001b[0m\u001b[0;34m)\u001b[0m\u001b[0;34m\u001b[0m\u001b[0;34m\u001b[0m\u001b[0m\n\u001b[1;32m     12\u001b[0m \u001b[0;34m\u001b[0m\u001b[0m\n",
      "\u001b[0;31mTypeError\u001b[0m: 'list' object is not callable"
     ]
    }
   ],
   "source": [
    "# 7 스페셜 져지\n",
    "# 세준이는 기말고사를 망쳤다. 세준이는 점수를 조작해서 집에 가져가기로 했다. \n",
    "# 일단 세준이는 자기 점수 중에 최댓값을 골랐다. 이 값을 M이라고 한다. 그리고 나서 모든 점수를 점수/M*100으로 고쳤다.\n",
    "# 예를 들어, 세준이의 최고점이 70이고, 수학점수가 50이었으면 수학점수는 50/70*100이 되어 71.43점이 된다.\n",
    "# 첫째 줄에 시험 본 과목의 개수 N이 주어진다. 이 값은 1000보다 작거나 같다. 둘째 줄에 세준이의 현재 성적이 주어진다. \n",
    "# 이 값은 100보다 작거나 같은 음이 아닌 정수이고, 적어도 하나의 값은 0보다 크다.\n",
    "# 첫째 줄에 새로운 평균을 출력한다. 실제 정답과 출력값의 절대오차 또는 상대오차가 10-2 이하이면 정답이다.\n",
    "\n",
    "n = int(input())\n",
    "score = list(map(int, input().split()))\n",
    "max_score = max(score)\n",
    "\n",
    "sum = 0\n",
    "\n",
    "for i in range(n) :\n",
    "    score[i] = score[i]/max_score*100\n",
    "    sum += score[i]\n",
    "print(sum/n)\n"
   ]
  },
  {
   "cell_type": "markdown",
   "metadata": {
    "id": "DW3T8yTdjnS5"
   },
   "source": [
    "# 5단계 함수"
   ]
  },
  {
   "cell_type": "code",
   "execution_count": null,
   "metadata": {
    "id": "WfyxyZIShHn-"
   },
   "outputs": [],
   "source": [
    "# 1 정수 n개가 주어졌을 때, n개의 합을 구하는 함수를 작성하시오.\n",
    "# def solve(a: list) -> int\n",
    "# a: 합을 구해야 하는 정수 n개가 저장되어 있는 리스트 (0 ≤ a[i] ≤ 1,000,000, 1 ≤ n ≤ 3,000,000)\n",
    "# 리턴값: a에 포함되어 있는 정수 n개의 합 (정수)\n",
    "\n",
    "def solve(a) :\n",
    "    return sum(a)"
   ]
  },
  {
   "cell_type": "code",
   "execution_count": null,
   "metadata": {
    "colab": {
     "base_uri": "https://localhost:8080/"
    },
    "id": "5liqlPFRkda4",
    "outputId": "3552ef33-2ae8-4bfa-ead7-10c7fc359ce1"
   },
   "outputs": [
    {
     "name": "stdout",
     "output_type": "stream",
     "text": [
      "1\n",
      "3\n",
      "5\n",
      "7\n",
      "9\n",
      "20\n",
      "31\n",
      "42\n",
      "53\n",
      "64\n",
      "75\n",
      "86\n",
      "97\n",
      "108\n",
      "110\n",
      "121\n",
      "132\n",
      "143\n",
      "154\n",
      "165\n",
      "176\n",
      "187\n",
      "198\n",
      "209\n",
      "211\n",
      "222\n",
      "233\n",
      "244\n",
      "255\n",
      "266\n",
      "277\n",
      "288\n",
      "299\n",
      "310\n",
      "312\n",
      "323\n",
      "334\n",
      "345\n",
      "356\n",
      "367\n",
      "378\n",
      "389\n",
      "400\n",
      "411\n",
      "413\n",
      "424\n",
      "435\n",
      "446\n",
      "457\n",
      "468\n",
      "479\n",
      "490\n",
      "501\n",
      "512\n",
      "514\n",
      "525\n",
      "536\n",
      "547\n",
      "558\n",
      "569\n",
      "580\n",
      "591\n",
      "602\n",
      "613\n",
      "615\n",
      "626\n",
      "637\n",
      "648\n",
      "659\n",
      "670\n",
      "681\n",
      "692\n",
      "703\n",
      "714\n",
      "716\n",
      "727\n",
      "738\n",
      "749\n",
      "760\n",
      "771\n",
      "782\n",
      "793\n",
      "804\n",
      "815\n",
      "817\n",
      "828\n",
      "839\n",
      "850\n",
      "861\n",
      "872\n",
      "883\n",
      "894\n",
      "905\n",
      "916\n",
      "918\n",
      "929\n",
      "940\n",
      "951\n",
      "962\n",
      "973\n",
      "984\n",
      "995\n",
      "1006\n",
      "1021\n",
      "1032\n",
      "1043\n",
      "1054\n",
      "1065\n",
      "1076\n",
      "1087\n",
      "1098\n",
      "1109\n",
      "1111\n",
      "1122\n",
      "1133\n",
      "1144\n",
      "1155\n",
      "1166\n",
      "1177\n",
      "1188\n",
      "1199\n",
      "1210\n",
      "1212\n",
      "1223\n",
      "1234\n",
      "1245\n",
      "1256\n",
      "1267\n",
      "1278\n",
      "1289\n",
      "1300\n",
      "1311\n",
      "1313\n",
      "1324\n",
      "1335\n",
      "1346\n",
      "1357\n",
      "1368\n",
      "1379\n",
      "1390\n",
      "1401\n",
      "1412\n",
      "1414\n",
      "1425\n",
      "1436\n",
      "1447\n",
      "1458\n",
      "1469\n",
      "1480\n",
      "1491\n",
      "1502\n",
      "1513\n",
      "1515\n",
      "1526\n",
      "1537\n",
      "1548\n",
      "1559\n",
      "1570\n",
      "1581\n",
      "1592\n",
      "1603\n",
      "1614\n",
      "1616\n",
      "1627\n",
      "1638\n",
      "1649\n",
      "1660\n",
      "1671\n",
      "1682\n",
      "1693\n",
      "1704\n",
      "1715\n",
      "1717\n",
      "1728\n",
      "1739\n",
      "1750\n",
      "1761\n",
      "1772\n",
      "1783\n",
      "1794\n",
      "1805\n",
      "1816\n",
      "1818\n",
      "1829\n",
      "1840\n",
      "1851\n",
      "1862\n",
      "1873\n",
      "1884\n",
      "1895\n",
      "1906\n",
      "1917\n",
      "1919\n",
      "1930\n",
      "1941\n",
      "1952\n",
      "1963\n",
      "1974\n",
      "1985\n",
      "1996\n",
      "2007\n",
      "2022\n",
      "2033\n",
      "2044\n",
      "2055\n",
      "2066\n",
      "2077\n",
      "2088\n",
      "2099\n",
      "2110\n",
      "2112\n",
      "2123\n",
      "2134\n",
      "2145\n",
      "2156\n",
      "2167\n",
      "2178\n",
      "2189\n",
      "2200\n",
      "2211\n",
      "2213\n",
      "2224\n",
      "2235\n",
      "2246\n",
      "2257\n",
      "2268\n",
      "2279\n",
      "2290\n",
      "2301\n",
      "2312\n",
      "2314\n",
      "2325\n",
      "2336\n",
      "2347\n",
      "2358\n",
      "2369\n",
      "2380\n",
      "2391\n",
      "2402\n",
      "2413\n",
      "2415\n",
      "2426\n",
      "2437\n",
      "2448\n",
      "2459\n",
      "2470\n",
      "2481\n",
      "2492\n",
      "2503\n",
      "2514\n",
      "2516\n",
      "2527\n",
      "2538\n",
      "2549\n",
      "2560\n",
      "2571\n",
      "2582\n",
      "2593\n",
      "2604\n",
      "2615\n",
      "2617\n",
      "2628\n",
      "2639\n",
      "2650\n",
      "2661\n",
      "2672\n",
      "2683\n",
      "2694\n",
      "2705\n",
      "2716\n",
      "2718\n",
      "2729\n",
      "2740\n",
      "2751\n",
      "2762\n",
      "2773\n",
      "2784\n",
      "2795\n",
      "2806\n",
      "2817\n",
      "2819\n",
      "2830\n",
      "2841\n",
      "2852\n",
      "2863\n",
      "2874\n",
      "2885\n",
      "2896\n",
      "2907\n",
      "2918\n",
      "2920\n",
      "2931\n",
      "2942\n",
      "2953\n",
      "2964\n",
      "2975\n",
      "2986\n",
      "2997\n",
      "3008\n",
      "3023\n",
      "3034\n",
      "3045\n",
      "3056\n",
      "3067\n",
      "3078\n",
      "3089\n",
      "3100\n",
      "3111\n",
      "3113\n",
      "3124\n",
      "3135\n",
      "3146\n",
      "3157\n",
      "3168\n",
      "3179\n",
      "3190\n",
      "3201\n",
      "3212\n",
      "3214\n",
      "3225\n",
      "3236\n",
      "3247\n",
      "3258\n",
      "3269\n",
      "3280\n",
      "3291\n",
      "3302\n",
      "3313\n",
      "3315\n",
      "3326\n",
      "3337\n",
      "3348\n",
      "3359\n",
      "3370\n",
      "3381\n",
      "3392\n",
      "3403\n",
      "3414\n",
      "3416\n",
      "3427\n",
      "3438\n",
      "3449\n",
      "3460\n",
      "3471\n",
      "3482\n",
      "3493\n",
      "3504\n",
      "3515\n",
      "3517\n",
      "3528\n",
      "3539\n",
      "3550\n",
      "3561\n",
      "3572\n",
      "3583\n",
      "3594\n",
      "3605\n",
      "3616\n",
      "3618\n",
      "3629\n",
      "3640\n",
      "3651\n",
      "3662\n",
      "3673\n",
      "3684\n",
      "3695\n",
      "3706\n",
      "3717\n",
      "3719\n",
      "3730\n",
      "3741\n",
      "3752\n",
      "3763\n",
      "3774\n",
      "3785\n",
      "3796\n",
      "3807\n",
      "3818\n",
      "3820\n",
      "3831\n",
      "3842\n",
      "3853\n",
      "3864\n",
      "3875\n",
      "3886\n",
      "3897\n",
      "3908\n",
      "3919\n",
      "3921\n",
      "3932\n",
      "3943\n",
      "3954\n",
      "3965\n",
      "3976\n",
      "3987\n",
      "3998\n",
      "4009\n",
      "4024\n",
      "4035\n",
      "4046\n",
      "4057\n",
      "4068\n",
      "4079\n",
      "4090\n",
      "4101\n",
      "4112\n",
      "4114\n",
      "4125\n",
      "4136\n",
      "4147\n",
      "4158\n",
      "4169\n",
      "4180\n",
      "4191\n",
      "4202\n",
      "4213\n",
      "4215\n",
      "4226\n",
      "4237\n",
      "4248\n",
      "4259\n",
      "4270\n",
      "4281\n",
      "4292\n",
      "4303\n",
      "4314\n",
      "4316\n",
      "4327\n",
      "4338\n",
      "4349\n",
      "4360\n",
      "4371\n",
      "4382\n",
      "4393\n",
      "4404\n",
      "4415\n",
      "4417\n",
      "4428\n",
      "4439\n",
      "4450\n",
      "4461\n",
      "4472\n",
      "4483\n",
      "4494\n",
      "4505\n",
      "4516\n",
      "4518\n",
      "4529\n",
      "4540\n",
      "4551\n",
      "4562\n",
      "4573\n",
      "4584\n",
      "4595\n",
      "4606\n",
      "4617\n",
      "4619\n",
      "4630\n",
      "4641\n",
      "4652\n",
      "4663\n",
      "4674\n",
      "4685\n",
      "4696\n",
      "4707\n",
      "4718\n",
      "4720\n",
      "4731\n",
      "4742\n",
      "4753\n",
      "4764\n",
      "4775\n",
      "4786\n",
      "4797\n",
      "4808\n",
      "4819\n",
      "4821\n",
      "4832\n",
      "4843\n",
      "4854\n",
      "4865\n",
      "4876\n",
      "4887\n",
      "4898\n",
      "4909\n",
      "4920\n",
      "4922\n",
      "4933\n",
      "4944\n",
      "4955\n",
      "4966\n",
      "4977\n",
      "4988\n",
      "4999\n",
      "5010\n",
      "5025\n",
      "5036\n",
      "5047\n",
      "5058\n",
      "5069\n",
      "5080\n",
      "5091\n",
      "5102\n",
      "5113\n",
      "5115\n",
      "5126\n",
      "5137\n",
      "5148\n",
      "5159\n",
      "5170\n",
      "5181\n",
      "5192\n",
      "5203\n",
      "5214\n",
      "5216\n",
      "5227\n",
      "5238\n",
      "5249\n",
      "5260\n",
      "5271\n",
      "5282\n",
      "5293\n",
      "5304\n",
      "5315\n",
      "5317\n",
      "5328\n",
      "5339\n",
      "5350\n",
      "5361\n",
      "5372\n",
      "5383\n",
      "5394\n",
      "5405\n",
      "5416\n",
      "5418\n",
      "5429\n",
      "5440\n",
      "5451\n",
      "5462\n",
      "5473\n",
      "5484\n",
      "5495\n",
      "5506\n",
      "5517\n",
      "5519\n",
      "5530\n",
      "5541\n",
      "5552\n",
      "5563\n",
      "5574\n",
      "5585\n",
      "5596\n",
      "5607\n",
      "5618\n",
      "5620\n",
      "5631\n",
      "5642\n",
      "5653\n",
      "5664\n",
      "5675\n",
      "5686\n",
      "5697\n",
      "5708\n",
      "5719\n",
      "5721\n",
      "5732\n",
      "5743\n",
      "5754\n",
      "5765\n",
      "5776\n",
      "5787\n",
      "5798\n",
      "5809\n",
      "5820\n",
      "5822\n",
      "5833\n",
      "5844\n",
      "5855\n",
      "5866\n",
      "5877\n",
      "5888\n",
      "5899\n",
      "5910\n",
      "5921\n",
      "5923\n",
      "5934\n",
      "5945\n",
      "5956\n",
      "5967\n",
      "5978\n",
      "5989\n",
      "6000\n",
      "6011\n",
      "6026\n",
      "6037\n",
      "6048\n",
      "6059\n",
      "6070\n",
      "6081\n",
      "6092\n",
      "6103\n",
      "6114\n",
      "6116\n",
      "6127\n",
      "6138\n",
      "6149\n",
      "6160\n",
      "6171\n",
      "6182\n",
      "6193\n",
      "6204\n",
      "6215\n",
      "6217\n",
      "6228\n",
      "6239\n",
      "6250\n",
      "6261\n",
      "6272\n",
      "6283\n",
      "6294\n",
      "6305\n",
      "6316\n",
      "6318\n",
      "6329\n",
      "6340\n",
      "6351\n",
      "6362\n",
      "6373\n",
      "6384\n",
      "6395\n",
      "6406\n",
      "6417\n",
      "6419\n",
      "6430\n",
      "6441\n",
      "6452\n",
      "6463\n",
      "6474\n",
      "6485\n",
      "6496\n",
      "6507\n",
      "6518\n",
      "6520\n",
      "6531\n",
      "6542\n",
      "6553\n",
      "6564\n",
      "6575\n",
      "6586\n",
      "6597\n",
      "6608\n",
      "6619\n",
      "6621\n",
      "6632\n",
      "6643\n",
      "6654\n",
      "6665\n",
      "6676\n",
      "6687\n",
      "6698\n",
      "6709\n",
      "6720\n",
      "6722\n",
      "6733\n",
      "6744\n",
      "6755\n",
      "6766\n",
      "6777\n",
      "6788\n",
      "6799\n",
      "6810\n",
      "6821\n",
      "6823\n",
      "6834\n",
      "6845\n",
      "6856\n",
      "6867\n",
      "6878\n",
      "6889\n",
      "6900\n",
      "6911\n",
      "6922\n",
      "6924\n",
      "6935\n",
      "6946\n",
      "6957\n",
      "6968\n",
      "6979\n",
      "6990\n",
      "7001\n",
      "7012\n",
      "7027\n",
      "7038\n",
      "7049\n",
      "7060\n",
      "7071\n",
      "7082\n",
      "7093\n",
      "7104\n",
      "7115\n",
      "7117\n",
      "7128\n",
      "7139\n",
      "7150\n",
      "7161\n",
      "7172\n",
      "7183\n",
      "7194\n",
      "7205\n",
      "7216\n",
      "7218\n",
      "7229\n",
      "7240\n",
      "7251\n",
      "7262\n",
      "7273\n",
      "7284\n",
      "7295\n",
      "7306\n",
      "7317\n",
      "7319\n",
      "7330\n",
      "7341\n",
      "7352\n",
      "7363\n",
      "7374\n",
      "7385\n",
      "7396\n",
      "7407\n",
      "7418\n",
      "7420\n",
      "7431\n",
      "7442\n",
      "7453\n",
      "7464\n",
      "7475\n",
      "7486\n",
      "7497\n",
      "7508\n",
      "7519\n",
      "7521\n",
      "7532\n",
      "7543\n",
      "7554\n",
      "7565\n",
      "7576\n",
      "7587\n",
      "7598\n",
      "7609\n",
      "7620\n",
      "7622\n",
      "7633\n",
      "7644\n",
      "7655\n",
      "7666\n",
      "7677\n",
      "7688\n",
      "7699\n",
      "7710\n",
      "7721\n",
      "7723\n",
      "7734\n",
      "7745\n",
      "7756\n",
      "7767\n",
      "7778\n",
      "7789\n",
      "7800\n",
      "7811\n",
      "7822\n",
      "7824\n",
      "7835\n",
      "7846\n",
      "7857\n",
      "7868\n",
      "7879\n",
      "7890\n",
      "7901\n",
      "7912\n",
      "7923\n",
      "7925\n",
      "7936\n",
      "7947\n",
      "7958\n",
      "7969\n",
      "7980\n",
      "7991\n",
      "8002\n",
      "8013\n",
      "8028\n",
      "8039\n",
      "8050\n",
      "8061\n",
      "8072\n",
      "8083\n",
      "8094\n",
      "8105\n",
      "8116\n",
      "8118\n",
      "8129\n",
      "8140\n",
      "8151\n",
      "8162\n",
      "8173\n",
      "8184\n",
      "8195\n",
      "8206\n",
      "8217\n",
      "8219\n",
      "8230\n",
      "8241\n",
      "8252\n",
      "8263\n",
      "8274\n",
      "8285\n",
      "8296\n",
      "8307\n",
      "8318\n",
      "8320\n",
      "8331\n",
      "8342\n",
      "8353\n",
      "8364\n",
      "8375\n",
      "8386\n",
      "8397\n",
      "8408\n",
      "8419\n",
      "8421\n",
      "8432\n",
      "8443\n",
      "8454\n",
      "8465\n",
      "8476\n",
      "8487\n",
      "8498\n",
      "8509\n",
      "8520\n",
      "8522\n",
      "8533\n",
      "8544\n",
      "8555\n",
      "8566\n",
      "8577\n",
      "8588\n",
      "8599\n",
      "8610\n",
      "8621\n",
      "8623\n",
      "8634\n",
      "8645\n",
      "8656\n",
      "8667\n",
      "8678\n",
      "8689\n",
      "8700\n",
      "8711\n",
      "8722\n",
      "8724\n",
      "8735\n",
      "8746\n",
      "8757\n",
      "8768\n",
      "8779\n",
      "8790\n",
      "8801\n",
      "8812\n",
      "8823\n",
      "8825\n",
      "8836\n",
      "8847\n",
      "8858\n",
      "8869\n",
      "8880\n",
      "8891\n",
      "8902\n",
      "8913\n",
      "8924\n",
      "8926\n",
      "8937\n",
      "8948\n",
      "8959\n",
      "8970\n",
      "8981\n",
      "8992\n",
      "9003\n",
      "9014\n",
      "9029\n",
      "9040\n",
      "9051\n",
      "9062\n",
      "9073\n",
      "9084\n",
      "9095\n",
      "9106\n",
      "9117\n",
      "9119\n",
      "9130\n",
      "9141\n",
      "9152\n",
      "9163\n",
      "9174\n",
      "9185\n",
      "9196\n",
      "9207\n",
      "9218\n",
      "9220\n",
      "9231\n",
      "9242\n",
      "9253\n",
      "9264\n",
      "9275\n",
      "9286\n",
      "9297\n",
      "9308\n",
      "9319\n",
      "9321\n",
      "9332\n",
      "9343\n",
      "9354\n",
      "9365\n",
      "9376\n",
      "9387\n",
      "9398\n",
      "9409\n",
      "9420\n",
      "9422\n",
      "9433\n",
      "9444\n",
      "9455\n",
      "9466\n",
      "9477\n",
      "9488\n",
      "9499\n",
      "9510\n",
      "9521\n",
      "9523\n",
      "9534\n",
      "9545\n",
      "9556\n",
      "9567\n",
      "9578\n",
      "9589\n",
      "9600\n",
      "9611\n",
      "9622\n",
      "9624\n",
      "9635\n",
      "9646\n",
      "9657\n",
      "9668\n",
      "9679\n",
      "9690\n",
      "9701\n",
      "9712\n",
      "9723\n",
      "9725\n",
      "9736\n",
      "9747\n",
      "9758\n",
      "9769\n",
      "9780\n",
      "9791\n",
      "9802\n",
      "9813\n",
      "9824\n",
      "9826\n",
      "9837\n",
      "9848\n",
      "9859\n",
      "9870\n",
      "9881\n",
      "9892\n",
      "9903\n",
      "9914\n",
      "9925\n",
      "9927\n",
      "9938\n",
      "9949\n",
      "9960\n",
      "9971\n",
      "9982\n",
      "9993\n"
     ]
    }
   ],
   "source": [
    "# # 2\n",
    "# 양의 정수 n이 주어졌을 때, 이 수를 시작해서 n, d(n), d(d(n)), d(d(d(n))), ...과 같은 무한 수열을 만들 수 있다. \n",
    "# 예를 들어, 33으로 시작한다면 다음 수는 33 + 3 + 3 = 39이고, 그 다음 수는 39 + 3 + 9 = 51, 다음 수는 51 + 5 + 1 = 57이다. 이런식으로 다음과 같은 수열을 만들 수 있다.\n",
    "# 33, 39, 51, 57, 69, 84, 96, 111, 114, 120, 123, 129, 141, ..\n",
    "# n을 d(n)의 생성자라고 한다. 위의 수열에서 33은 39의 생성자이고, 39는 51의 생성자, 51은 57의 생성자이다. 생성자가 한 개보다 많은 경우도 있다. 예를 들어, 101은 생성자가 2개(91과 100) 있다. \n",
    "# 생성자가 없는 숫자를 셀프 넘버라고 한다. 100보다 작은 셀프 넘버는 총 13개가 있다. 1, 3, 5, 7, 9, 20, 31, 42, 53, 64, 75, 86, 97\n",
    "# 10000보다 작거나 같은 셀프 넘버를 한 줄에 하나씩 출력하는 프로그램을 작성하시오.\n",
    "\n",
    "\n",
    "num = set(range(1,10001))\n",
    "rmv = set()\n",
    "\n",
    "for i in range(1,10001) :\n",
    "    for j in str(i) :\n",
    "        i += int(j)\n",
    "    rmv.add(i)\n",
    "num -= rmv\n",
    "for k in sorted(num) :\n",
    "    print(k)\n"
   ]
  },
  {
   "cell_type": "code",
   "execution_count": null,
   "metadata": {
    "colab": {
     "base_uri": "https://localhost:8080/"
    },
    "id": "R_l1AI2kmXC6",
    "outputId": "27bef334-9c08-4a1d-9e01-0067a1618dd6"
   },
   "outputs": [
    {
     "name": "stdout",
     "output_type": "stream",
     "text": [
      "110\n",
      "99\n"
     ]
    }
   ],
   "source": [
    "# 3\n",
    "# 어떤 양의 정수 X의 각 자리가 등차수열을 이룬다면, 그 수를 한수라고 한다. \n",
    "# 등차수열은 연속된 두 개의 수의 차이가 일정한 수열을 말한다. \n",
    "# N이 주어졌을 때, 1보다 크거나 같고, N보다 작거나 같은 한수의 개수를 출력하는 프로그램을 작성하시오. \n",
    "# 첫째 줄에 1,000보다 작거나 같은 자연수 N이 주어진다.\n",
    "# 첫째 줄에 1보다 크거나 같고, N보다 작거나 같은 한수의 개수를 출력한다.\n",
    "\n",
    "num = int(input())\n",
    "ch = 0\n",
    "for i in range(1, num+1) :\n",
    "    t = list(map(int, str(i)))\n",
    "    if i < 100 :\n",
    "        ch += 1\n",
    "    elif i >= 100 :\n",
    "        if t[1]-t[0] == t[2]-t[1] :\n",
    "            ch += 1\n",
    "print(ch)\n"
   ]
  },
  {
   "cell_type": "markdown",
   "metadata": {
    "id": "gVf125fnFWWR"
   },
   "source": [
    "# 6단계 문자열"
   ]
  },
  {
   "cell_type": "code",
   "execution_count": null,
   "metadata": {
    "colab": {
     "base_uri": "https://localhost:8080/"
    },
    "id": "gLIzDxglFcOm",
    "outputId": "f9d6614f-f8c9-465e-f1e5-0d7ba3548d49"
   },
   "outputs": [
    {
     "name": "stdout",
     "output_type": "stream",
     "text": [
      "a\n",
      "97\n"
     ]
    }
   ],
   "source": [
    "# 1\n",
    "# 알파벳 소문자, 대문자, 숫자 0-9 중 하나가 첫째 줄에 주어진다.\n",
    "# 입력으로 주어진 글자의 아스키 코드 값을 출력한다.\n",
    "\n",
    "a = input()\n",
    "print(ord(a))"
   ]
  },
  {
   "cell_type": "markdown",
   "metadata": {
    "id": "leRxntcqF8O9"
   },
   "source": [
    "파이썬에서 아스키코드를 출력하는 함수\n",
    "\n",
    "- ord( ) : 문자에 맞는 아스키코드 변환\n",
    "\n",
    "- chr( ) : 아스키코드에 맞는 문자 반환"
   ]
  },
  {
   "cell_type": "code",
   "execution_count": null,
   "metadata": {
    "colab": {
     "base_uri": "https://localhost:8080/"
    },
    "id": "ewEZOhtDFl1d",
    "outputId": "ae32c19a-a500-4167-9010-bbf47b04acb1"
   },
   "outputs": [
    {
     "name": "stdout",
     "output_type": "stream",
     "text": [
      "11\n",
      "10987654321\n",
      "46\n"
     ]
    }
   ],
   "source": [
    "# 2\n",
    "# N개의 숫자가 공백 없이 쓰여있다. 이 숫자를 모두 합해서 출력하는 프로그램을 작성하시오.\n",
    "# 첫째 줄에 숫자의 개수 N (1 ≤ N ≤ 100)이 주어진다. 둘째 줄에 숫자 N개가 공백없이 주어진다.\n",
    "# 입력으로 주어진 숫자 N개의 합을 출력한다.\n",
    "\n",
    "t = int(input())\n",
    "num = list(input())\n",
    "total = 0\n",
    "\n",
    "for i in range(len(num)) :\n",
    "    total += int(num[i])\n",
    "print(total)"
   ]
  },
  {
   "cell_type": "code",
   "execution_count": null,
   "metadata": {
    "colab": {
     "base_uri": "https://localhost:8080/"
    },
    "id": "80uCeA35VT0O",
    "outputId": "c83be0a3-f6a5-4fc5-ba9e-6b3f795d7ef6"
   },
   "outputs": [
    {
     "name": "stdout",
     "output_type": "stream",
     "text": [
      "baekjoon\n",
      "1\n",
      "0\n",
      "-1\n",
      "-1\n",
      "2\n",
      "-1\n",
      "-1\n",
      "-1\n",
      "-1\n",
      "4\n",
      "3\n",
      "-1\n",
      "-1\n",
      "7\n",
      "5\n",
      "-1\n",
      "-1\n",
      "-1\n",
      "-1\n",
      "-1\n",
      "-1\n",
      "-1\n",
      "-1\n",
      "-1\n",
      "-1\n",
      "-1\n"
     ]
    }
   ],
   "source": [
    "# 3\n",
    "# 알파벳 소문자로만 이루어진 단어 S가 주어진다. \n",
    "# 각각의 알파벳에 대해서, 단어에 포함되어 있는 경우에는 처음 등장하는 위치를, \n",
    "# 포함되어 있지 않은 경우에는 -1을 출력하는 프로그램을 작성하시오.\n",
    "# 첫째 줄에 단어 S가 주어진다. 단어의 길이는 100을 넘지 않으며, 알파벳 소문자로만 이루어져 있다.\n",
    "# 각각의 알파벳에 대해서, a가 처음 등장하는 위치, b가 처음 등장하는 위치, \n",
    "# ... z가 처음 등장하는 위치를 공백으로 구분해서 출력한다.\n",
    "# 만약, 어떤 알파벳이 단어에 포함되어 있지 않다면 -1을 출력한다. \n",
    "# 단어의 첫 번째 글자는 0번째 위치이고, 두 번째 글자는 1번째 위치이다.\n",
    "\n",
    "alpha = input() # ord(alpha) 아스키코드 a : 97 ~ z : 122\n",
    "\n",
    "alpha_list = list(range(97,123))\n",
    "\n",
    "for i in alpha_list :\n",
    "    print(alpha.find(chr(i)))  # chr() : 아스키코드에 맞는 문자 반환\n",
    "    \n",
    "# find : () 안에 들어가는 문자열의 시작 인덱스 반환, 값이 없는 경우 -1 반환\n"
   ]
  },
  {
   "cell_type": "code",
   "execution_count": null,
   "metadata": {
    "colab": {
     "base_uri": "https://localhost:8080/"
    },
    "id": "g4Ik_dwzZ2t4",
    "outputId": "aacb0fad-2230-4eff-cd5a-108d6dab4931"
   },
   "outputs": [
    {
     "name": "stdout",
     "output_type": "stream",
     "text": [
      "7\n",
      "\n",
      "1\n",
      "\n",
      "8\n",
      "-1\n"
     ]
    }
   ],
   "source": [
    "# string find() method \n",
    "\n",
    "txt = \"Hello, welcome to my world.\"\n",
    "\n",
    "x = txt.find(\"welcome\")\n",
    "\n",
    "print(x)\n",
    "print('')\n",
    "# find() : () 안에 들어가는 문자열의 시작 인덱스 반환\n",
    "\n",
    "\n",
    "txt = \"Hello, welcome to my world.\"\n",
    "\n",
    "x = txt.find(\"e\") # default : 가장 처음 위치한 곳의 인덱스 반환\n",
    "\n",
    "print(x)\n",
    "print('')\n",
    "\n",
    "txt = \"Hello, welcome to my world.\"\n",
    "\n",
    "x = txt.find(\"e\", 5, 10) # between position 5 and 10\n",
    "\n",
    "print(x)"
   ]
  },
  {
   "cell_type": "code",
   "execution_count": null,
   "metadata": {
    "colab": {
     "base_uri": "https://localhost:8080/"
    },
    "id": "s3iJg5LZYAHn",
    "outputId": "607249c7-d802-4332-c031-ae95c637bcc0"
   },
   "outputs": [
    {
     "name": "stdout",
     "output_type": "stream",
     "text": [
      "2\n",
      "3 ABC\n",
      "AAABBBCCC\n",
      "5 /HTP\n",
      "/////HHHHHTTTTTPPPPP\n"
     ]
    }
   ],
   "source": [
    "# 4\n",
    "# 문자열 S를 입력받은 후에, 각 문자를 R번 반복해 새 문자열 P를 만든 후 출력하는 프로그램을 작성하시오. \n",
    "# 즉, 첫 번째 문자를 R번 반복하고, 두 번째 문자를 R번 반복하는 식으로 P를 만들면 된다. \n",
    "# S에는 QR Code \"alphanumeric\" 문자만 들어있다.\n",
    "# QR Code \"alphanumeric\" 문자는 0123456789ABCDEFGHIJKLMNOPQRSTUVWXYZ\\$%*+-./: 이다.\n",
    "# 첫째 줄에 테스트 케이스의 개수 T(1 ≤ T ≤ 1,000)가 주어진다. \n",
    "# 각 테스트 케이스는 반복 횟수 R(1 ≤ R ≤ 8), 문자열 S가 공백으로 구분되어 주어진다. \n",
    "# S의 길이는 적어도 1이며, 20글자를 넘지 않는다. \n",
    "# 각 테스트 케이스에 대해 P를 출력한다.\n",
    "\n",
    "# t = int(input())\n",
    "# total = ''\n",
    "\n",
    "# for i in range(t) :\n",
    "#     a, b = input().split()\n",
    "#     for j in b :\n",
    "#         total += int(a) * j\n",
    "#     print(total)\n",
    "\n",
    "t = int(input())\n",
    "\n",
    "for i in range(t) :\n",
    "    a, b = input().split()\n",
    "    for i in range(len(b)) :\n",
    "        print(int(a)*b[i], end='')\n",
    "    print()\n"
   ]
  },
  {
   "cell_type": "code",
   "execution_count": null,
   "metadata": {
    "colab": {
     "base_uri": "https://localhost:8080/"
    },
    "id": "iO5L4GzlfSoa",
    "outputId": "776aa89b-d6b6-4cd6-e74d-010ce0933343"
   },
   "outputs": [
    {
     "name": "stdout",
     "output_type": "stream",
     "text": [
      "Mississipi\n",
      "?\n"
     ]
    }
   ],
   "source": [
    "# 5\n",
    "# 알파벳 대소문자로 된 단어가 주어지면, 이 단어에서 가장 많이 사용된 알파벳이 무엇인지 알아내는 프로그램을 작성하시오. \n",
    "# 단, 대문자와 소문자를 구분하지 않는다.\n",
    "# 첫째 줄에 알파벳 대소문자로 이루어진 단어가 주어진다. 주어지는 단어의 길이는 1,000,000을 넘지 않는다.\n",
    "# 첫째 줄에 이 단어에서 가장 많이 사용된 알파벳을 대문자로 출력한다. \n",
    "# 단, 가장 많이 사용된 알파벳이 여러 개 존재하는 경우에는 ?를 출력한다.\n",
    "\n",
    "word = input().upper()\n",
    "unique_words = list(set(word)) # 입력받은 문자열에서 중복값을 제거\n",
    "\n",
    "cnt_list = []\n",
    "for i in unique_words :\n",
    "    cnt = word.count(i)\n",
    "    cnt_list.append(cnt) # count 숫자를 리스트에 append\n",
    "\n",
    "if cnt_list.count(max(cnt_list)) > 1 : # count 숫자 최대값이 중복되면\n",
    "    print('?')\n",
    "else :\n",
    "    max_index = cnt_list.index(max(cnt_list)) # count 숫자 최대값 인덱스(위치)\n",
    "    print(unique_words[max_index])\n",
    "    \n"
   ]
  },
  {
   "cell_type": "code",
   "execution_count": null,
   "metadata": {
    "colab": {
     "base_uri": "https://localhost:8080/"
    },
    "id": "sxdmydiJlapA",
    "outputId": "27aa3bb7-6813-47b2-b0f7-5f1158474390"
   },
   "outputs": [
    {
     "name": "stdout",
     "output_type": "stream",
     "text": [
      "The last character is a blank \n",
      "6\n"
     ]
    }
   ],
   "source": [
    "# 6\n",
    "# 영어 대소문자와 공백으로 이루어진 문자열이 주어진다. 이 문자열에는 몇 개의 단어가 있을까? \n",
    "# 이를 구하는 프로그램을 작성하시오. \n",
    "# 단, 한 단어가 여러 번 등장하면 등장한 횟수만큼 모두 세어야 한다.\n",
    "# 첫 줄에 영어 대소문자와 공백으로 이루어진 문자열이 주어진다. \n",
    "# 이 문자열의 길이는 1,000,000을 넘지 않는다. 단어는 공백 한 개로 구분되며, 공백이 연속해서 나오는 경우는 없다. \n",
    "# 또한 문자열은 공백으로 시작하거나 끝날 수 있다.\n",
    "# 첫째 줄에 단어의 개수를 출력한다.\n",
    "\n",
    "word = input().strip()\n",
    "word_list = list(word.split())\n",
    "\n",
    "print(len(word_list))"
   ]
  },
  {
   "cell_type": "code",
   "execution_count": null,
   "metadata": {
    "colab": {
     "base_uri": "https://localhost:8080/"
    },
    "id": "Z79l8TyZoAvk",
    "outputId": "ff6e53f1-ae1e-4b6e-84dd-0025dde9cd30"
   },
   "outputs": [
    {
     "name": "stdout",
     "output_type": "stream",
     "text": [
      "839 237\n",
      "938\n"
     ]
    }
   ],
   "source": [
    "# 7\n",
    "# 상근이의 동생 상수는 수학을 정말 못한다. \n",
    "# 상수는 숫자를 읽는데 문제가 있다. \n",
    "# 이렇게 수학을 못하는 상수를 위해서 상근이는 수의 크기를 비교하는 문제를 내주었다. \n",
    "# 상근이는 세 자리 수 두 개를 칠판에 써주었다. 그 다음에 크기가 큰 수를 말해보라고 했다.\n",
    "# 상수는 수를 다른 사람과 다르게 거꾸로 읽는다. \n",
    "# 예를 들어, 734와 893을 칠판에 적었다면, 상수는 이 수를 437과 398로 읽는다. \n",
    "# 따라서, 상수는 두 수중 큰 수인 437을 큰 수라고 말할 것이다.\n",
    "# 두 수가 주어졌을 때, 상수의 대답을 출력하는 프로그램을 작성하시오.\n",
    "# 첫째 줄에 상근이가 칠판에 적은 두 수 A와 B가 주어진다. \n",
    "# 두 수는 같지 않은 세 자리 수이며, 0이 포함되어 있지 않다.\n",
    "# 첫째 줄에 상수의 대답을 출력한다.\n",
    "\n",
    "\n",
    "a, b = list(map(str, input().split()))\n",
    "\n",
    "a = ''.join(reversed(a)) \n",
    "b = ''.join(reversed(b))\n",
    "\n",
    "if int(a) > int(b) :\n",
    "    print(int(a))\n",
    "else :\n",
    "    print(int(b))\n",
    "\n",
    "# reverse, reversed 함수 https://rank-brothers.com/551/python-reverse-list/"
   ]
  },
  {
   "cell_type": "code",
   "execution_count": null,
   "metadata": {
    "colab": {
     "base_uri": "https://localhost:8080/"
    },
    "id": "U20PJlNHpPfc",
    "outputId": "b10b7a21-8b86-48ba-e572-5e950a493440"
   },
   "outputs": [
    {
     "name": "stdout",
     "output_type": "stream",
     "text": [
      "UNUCIC\n",
      "36\n"
     ]
    }
   ],
   "source": [
    "# 8\n",
    "# 전화를 걸고 싶은 번호가 있다면, 숫자를 하나를 누른 다음에 금속 핀이 있는 곳 까지 시계방향으로 돌려야 한다. \n",
    "# 숫자를 하나 누르면 다이얼이 처음 위치로 돌아가고, 다음 숫자를 누르려면 다이얼을 처음 위치에서 다시 돌려야 한다.\n",
    "# 숫자 1을 걸려면 총 2초가 필요하다. \n",
    "# 1보다 큰 수를 거는데 걸리는 시간은 이보다 더 걸리며, 한 칸 옆에 있는 숫자를 걸기 위해선 1초씩 더 걸린다.\n",
    "# 상근이의 할머니는 전화 번호를 각 숫자에 해당하는 문자로 외운다. \n",
    "# 즉, 어떤 단어를 걸 때, 각 알파벳에 해당하는 숫자를 걸면 된다. 예를 들어, UNUCIC는 868242와 같다.\n",
    "# 할머니가 외운 단어가 주어졌을 때, 이 전화를 걸기 위해서 필요한 최소 시간을 구하는 프로그램을 작성하시오.\n",
    "# 첫째 줄에 알파벳 대문자로 이루어진 단어가 주어진다. 단어의 길이는 2보다 크거나 같고, 15보다 작거나 같다.\n",
    "# 첫째 줄에 다이얼을 걸기 위해서 필요한 최소 시간을 출력한다.\n",
    "\n",
    "dial = ['ABC', 'DEF', 'GHI', 'JKL', 'MNO', 'PQRS', 'TUV', 'WXYZ']\n",
    "my= input()\n",
    "time = 0\n",
    "\n",
    "for i in range(len(my)) :\n",
    "    for j in dial :\n",
    "        if my[i] in j :\n",
    "            time += dial.index(j) + 3\n",
    "\n",
    "print(time)"
   ]
  },
  {
   "cell_type": "code",
   "execution_count": null,
   "metadata": {
    "colab": {
     "base_uri": "https://localhost:8080/"
    },
    "id": "9jDheLBzrnDe",
    "outputId": "a68a3e36-bcaf-49b9-883a-ab32ed0556eb"
   },
   "outputs": [
    {
     "name": "stdout",
     "output_type": "stream",
     "text": [
      "dsf\n",
      "3\n"
     ]
    }
   ],
   "source": [
    "# 9\n",
    "# 예를 들어, ljes=njak은 크로아티아 알파벳 6개(lj, e, š, nj, a, k)로 이루어져 있다. \n",
    "# 단어가 주어졌을 때, 몇 개의 크로아티아 알파벳으로 이루어져 있는지 출력한다.\n",
    "# dž는 무조건 하나의 알파벳으로 쓰이고, d와 ž가 분리된 것으로 보지 않는다. \n",
    "# lj와 nj도 마찬가지이다. 위 목록에 없는 알파벳은 한 글자씩 센다.\n",
    "# 첫째 줄에 최대 100글자의 단어가 주어진다. 알파벳 소문자와 '-', '='로만 이루어져 있다.\n",
    "# 단어는 크로아티아 알파벳으로 이루어져 있다. 문제 설명의 표에 나와있는 알파벳은 변경된 형태로 입력된다.\n",
    "# 입력으로 주어진 단어가 몇 개의 크로아티아 알파벳으로 이루어져 있는지 출력한다.\n",
    "\n",
    "\n",
    "my_list = ['c=', 'c-', 'dz=', 'd-',  'lj', 'nj', 's=', 'z=']\n",
    "word = input()\n",
    "\n",
    "for i in my_list :\n",
    "    word = word.replace(i, '*')\n",
    "print(len(word))"
   ]
  },
  {
   "cell_type": "code",
   "execution_count": null,
   "metadata": {
    "colab": {
     "base_uri": "https://localhost:8080/"
    },
    "id": "8jhdQC7qpneP",
    "outputId": "603cbd93-f169-499f-975b-bc4970afef1d"
   },
   "outputs": [
    {
     "name": "stdout",
     "output_type": "stream",
     "text": [
      "4\n",
      "abc\n",
      "acabc\n",
      "abcabc\n",
      "a\n",
      "2\n"
     ]
    }
   ],
   "source": [
    "# 10\n",
    "# 그룹 단어란 단어에 존재하는 모든 문자에 대해서, 각 문자가 연속해서 나타나는 경우만을 말한다. \n",
    "# 예를 들면, ccazzzzbb는 c, a, z, b가 모두 연속해서 나타나고, kin도 k, i, n이 연속해서 나타나기 때문에 그룹 단어이지만, \n",
    "# aabbbccb는 b가 떨어져서 나타나기 때문에 그룹 단어가 아니다.\n",
    "# 단어 N개를 입력으로 받아 그룹 단어의 개수를 출력하는 프로그램을 작성하시오.\n",
    "# 첫째 줄에 단어의 개수 N이 들어온다. N은 100보다 작거나 같은 자연수이다. 둘째 줄부터 N개의 줄에 단어가 들어온다. \n",
    "# 단어는 알파벳 소문자로만 되어있고 중복되지 않으며, 길이는 최대 100이다.\n",
    "# 첫째 줄에 그룹 단어의 개수를 출력한다.\n",
    "\n",
    "t = int(input())\n",
    "result = t\n",
    "\n",
    "for i in range(t) :\n",
    "    a = input()\n",
    "    for j in range(0, len(a)-1) :\n",
    "        if a[j] == a[j+1] :\n",
    "            pass\n",
    "        elif a[j] in a[j+1:] :\n",
    "            result -= 1\n",
    "            break\n",
    "print(result) \n"
   ]
  }
 ],
 "metadata": {
  "colab": {
   "collapsed_sections": [],
   "name": "백준 1~6단계.ipynb",
   "provenance": []
  },
  "kernelspec": {
   "display_name": "Python 3",
   "name": "python3"
  },
  "language_info": {
   "name": "python"
  }
 },
 "nbformat": 4,
 "nbformat_minor": 0
}
