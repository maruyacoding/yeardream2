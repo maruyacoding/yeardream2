{
 "cells": [
  {
   "cell_type": "markdown",
   "metadata": {
    "id": "wEDkSSU08R2f"
   },
   "source": [
    "# 201~210 파이썬 함수"
   ]
  },
  {
   "cell_type": "code",
   "execution_count": null,
   "metadata": {
    "id": "jZTNVIfy8P1G"
   },
   "outputs": [],
   "source": [
    "# 201\n",
    "# \"비트코인\" 문자열을 화면에 출력하는 print_coin() 함수를 정의하라.\n",
    "\n",
    "def print_coin() :\n",
    "    print('비트코인') "
   ]
  },
  {
   "cell_type": "code",
   "execution_count": null,
   "metadata": {
    "colab": {
     "base_uri": "https://localhost:8080/"
    },
    "executionInfo": {
     "elapsed": 302,
     "status": "ok",
     "timestamp": 1650793408376,
     "user": {
      "displayName": "최윤아",
      "userId": "13391811122094852456"
     },
     "user_tz": -540
    },
    "id": "h81sVH_u8n3d",
    "outputId": "b7d44b01-a430-4b5f-dc9b-f4ef27b4a9f0"
   },
   "outputs": [
    {
     "name": "stdout",
     "output_type": "stream",
     "text": [
      "비트코인\n"
     ]
    }
   ],
   "source": [
    "# 202\n",
    "# 201번에서 정의한 함수를 호출하라.\n",
    "\n",
    "print_coin()\n",
    "\n",
    "# print(print_coin()) == None / return이 아닌 print를 사용했기 때문"
   ]
  },
  {
   "cell_type": "code",
   "execution_count": null,
   "metadata": {
    "colab": {
     "base_uri": "https://localhost:8080/"
    },
    "executionInfo": {
     "elapsed": 14,
     "status": "ok",
     "timestamp": 1650793486619,
     "user": {
      "displayName": "최윤아",
      "userId": "13391811122094852456"
     },
     "user_tz": -540
    },
    "id": "NNjKBFXT8yov",
    "outputId": "251521c9-23af-4be0-a5e0-400c050155f4"
   },
   "outputs": [
    {
     "name": "stdout",
     "output_type": "stream",
     "text": [
      "비트코인\n",
      "비트코인\n",
      "비트코인\n",
      "비트코인\n",
      "비트코인\n",
      "비트코인\n",
      "비트코인\n",
      "비트코인\n",
      "비트코인\n",
      "비트코인\n",
      "비트코인\n",
      "비트코인\n",
      "비트코인\n",
      "비트코인\n",
      "비트코인\n",
      "비트코인\n",
      "비트코인\n",
      "비트코인\n",
      "비트코인\n",
      "비트코인\n",
      "비트코인\n",
      "비트코인\n",
      "비트코인\n",
      "비트코인\n",
      "비트코인\n",
      "비트코인\n",
      "비트코인\n",
      "비트코인\n",
      "비트코인\n",
      "비트코인\n",
      "비트코인\n",
      "비트코인\n",
      "비트코인\n",
      "비트코인\n",
      "비트코인\n",
      "비트코인\n",
      "비트코인\n",
      "비트코인\n",
      "비트코인\n",
      "비트코인\n",
      "비트코인\n",
      "비트코인\n",
      "비트코인\n",
      "비트코인\n",
      "비트코인\n",
      "비트코인\n",
      "비트코인\n",
      "비트코인\n",
      "비트코인\n",
      "비트코인\n",
      "비트코인\n",
      "비트코인\n",
      "비트코인\n",
      "비트코인\n",
      "비트코인\n",
      "비트코인\n",
      "비트코인\n",
      "비트코인\n",
      "비트코인\n",
      "비트코인\n",
      "비트코인\n",
      "비트코인\n",
      "비트코인\n",
      "비트코인\n",
      "비트코인\n",
      "비트코인\n",
      "비트코인\n",
      "비트코인\n",
      "비트코인\n",
      "비트코인\n",
      "비트코인\n",
      "비트코인\n",
      "비트코인\n",
      "비트코인\n",
      "비트코인\n",
      "비트코인\n",
      "비트코인\n",
      "비트코인\n",
      "비트코인\n",
      "비트코인\n",
      "비트코인\n",
      "비트코인\n",
      "비트코인\n",
      "비트코인\n",
      "비트코인\n",
      "비트코인\n",
      "비트코인\n",
      "비트코인\n",
      "비트코인\n",
      "비트코인\n",
      "비트코인\n",
      "비트코인\n",
      "비트코인\n",
      "비트코인\n",
      "비트코인\n",
      "비트코인\n",
      "비트코인\n",
      "비트코인\n",
      "비트코인\n",
      "비트코인\n"
     ]
    }
   ],
   "source": [
    "# 203 \n",
    "# 201번에서 정의한 print_coin 함수를 100번호출하라.\n",
    "\n",
    "#print(print_coin() * 100) == Error / return이 아닌 print를 사용하여 Nonetype으로 인식\n",
    "\n",
    "# 정답코드\n",
    "\n",
    "for i in range(100) :\n",
    "    print_coin()"
   ]
  },
  {
   "cell_type": "code",
   "execution_count": null,
   "metadata": {
    "id": "zn9aq2Rb84tQ"
   },
   "outputs": [],
   "source": [
    "# 204 \n",
    "# \"비트코인\" 문자열을 100번 화면에 출력하는 print_coins() 함수를 정의하라.\n",
    "\n",
    "def print_coins():\n",
    "    for i in range(100) :\n",
    "        print('비트코인')  "
   ]
  },
  {
   "cell_type": "code",
   "execution_count": null,
   "metadata": {
    "id": "93sUL9MM9kSy"
   },
   "outputs": [],
   "source": [
    "# 205 \n",
    "# 아래의 에러가 발생하는 이유에 대해 설명하라.\n",
    "# hello()\n",
    "# def hello():\n",
    "#     print(\"Hi\")\n",
    "\n",
    "# 실행 예\n",
    "# NameError: name 'hello' is not defined\n",
    "\n",
    "\n",
    "\n",
    "# 함수를 정의하기 전에 함수 호출부터 했기 때문, 일반적으로 모든 함수를 정의하고나서 함수 호출을 함 (에러 방지)"
   ]
  },
  {
   "cell_type": "code",
   "execution_count": null,
   "metadata": {
    "id": "RBwtvlfK96mu"
   },
   "outputs": [],
   "source": [
    "# 206\n",
    "# 아래 코드의 실행 결과를 예측하라.\n",
    "\n",
    "# def message() :\n",
    "#     print(\"A\")\n",
    "#     print(\"B\")\n",
    "\n",
    "# message()\n",
    "# print(\"C\")\n",
    "# message()\n",
    "\n",
    "\n",
    "# 예측\n",
    "# A\n",
    "# B\n",
    "# C\n",
    "# A\n",
    "# B"
   ]
  },
  {
   "cell_type": "code",
   "execution_count": null,
   "metadata": {
    "id": "KowJs5oH-I8K"
   },
   "outputs": [],
   "source": [
    "# 207\n",
    "# 아래 코드의 실행 결과를 예측하라. (읽기 어려운 코드의 예입니다.)\n",
    "\n",
    "# print(\"A\")\n",
    "\n",
    "# def message() :\n",
    "#     print(\"B\")\n",
    "\n",
    "# print(\"C\")\n",
    "# message()\n",
    "\n",
    "# 예측\n",
    "# A\n",
    "# C\n",
    "# B"
   ]
  },
  {
   "cell_type": "code",
   "execution_count": null,
   "metadata": {
    "id": "26g4ieZr-TtO"
   },
   "outputs": [],
   "source": [
    "# 208\n",
    "# 아래 코드의 실행 결과를 예측하라. (읽기 어려운 코드의 예입니다.)\n",
    "\n",
    "# print(\"A\")\n",
    "# def message1() :\n",
    "#     print(\"B\")\n",
    "# print(\"C\")\n",
    "# def message2() :\n",
    "#     print(\"D\")\n",
    "# message1()\n",
    "# print(\"E\")\n",
    "# message2()\n",
    "\n",
    "# 예측\n",
    "# A\n",
    "# C\n",
    "# B\n",
    "# E\n",
    "# D"
   ]
  },
  {
   "cell_type": "code",
   "execution_count": null,
   "metadata": {
    "id": "hvuUNzNF-gHL"
   },
   "outputs": [],
   "source": [
    "# 209\n",
    "# 아래 코드의 실행 결과를 예측하라.\n",
    "\n",
    "# def message1():\n",
    "#     print(\"A\")\n",
    "\n",
    "# def message2():\n",
    "#     print(\"B\")\n",
    "#     message1()\n",
    "\n",
    "# message2()\n",
    "\n",
    "# 예측\n",
    "# B\n",
    "# A"
   ]
  },
  {
   "cell_type": "code",
   "execution_count": null,
   "metadata": {
    "id": "hF-rq7QR-qfE"
   },
   "outputs": [],
   "source": [
    "# 210\n",
    "# 아래 코드의 실행 결과를 예측하라.\n",
    "\n",
    "# def message1():\n",
    "#     print(\"A\")\n",
    "\n",
    "# def message2():\n",
    "#     print(\"B\")\n",
    "\n",
    "# def message3():\n",
    "#     for i in range (3) :\n",
    "#         message2()\n",
    "#         print(\"C\")\n",
    "#     message1()\n",
    "\n",
    "# message3()\n",
    "\n",
    "# 예측\n",
    "# B\n",
    "# C\n",
    "# B\n",
    "# C\n",
    "# B\n",
    "# C\n",
    "# A"
   ]
  },
  {
   "cell_type": "markdown",
   "metadata": {
    "id": "NH0Qc_bu-5DS"
   },
   "source": [
    "# 211~220 파이썬 함수 2"
   ]
  },
  {
   "cell_type": "code",
   "execution_count": null,
   "metadata": {
    "id": "1tAS6GpK-2-N"
   },
   "outputs": [],
   "source": [
    "# 211\n",
    "# 함수의 호출 결과를 예측하라.\n",
    "\n",
    "# def 함수(문자열) :\n",
    "#     print(문자열)\n",
    "\n",
    "# 함수(\"안녕\")\n",
    "# 함수(\"Hi\")\n",
    "\n",
    "# 예측\n",
    "# 안녕\n",
    "# Hi"
   ]
  },
  {
   "cell_type": "code",
   "execution_count": null,
   "metadata": {
    "id": "9kL638Yc_C_L"
   },
   "outputs": [],
   "source": [
    "# 212\n",
    "# 함수의 호출 결과를 예측하라.\n",
    "\n",
    "# def 함수(a, b) :\n",
    "#     print(a + b)\n",
    "\n",
    "# 함수(3, 4)\n",
    "# 함수(7, 8)\n",
    "\n",
    "# 예측\n",
    "# 7\n",
    "# 15"
   ]
  },
  {
   "cell_type": "code",
   "execution_count": null,
   "metadata": {
    "id": "M6qM0IkL_H9P"
   },
   "outputs": [],
   "source": [
    "# 213\n",
    "# 아래와 같은 에러가 발생하는 원인을 설명하라.\n",
    "\n",
    "# def 함수(문자열) :\n",
    "#     print(문자열)\n",
    "\n",
    "# 함수()\n",
    "# TypeError: 함수() missing 1 required positional argument: '문자열'\n",
    "\n",
    "\n",
    "# 원인\n",
    "# 정의된 함수는 파라미터를 하나 받아야 실행되는 함수인데, \n",
    "# 함수 호출 시 파라미터 없이 ()만 사용하여 함수를 호출하였기 때문에 에러가 발생\n",
    "# 즉 인자 없이 실행하였기 때문\n",
    "\n",
    "# 매개변수(Parameter) : 함수를 정의하는 경우에 필요한 변수\n",
    "# 인자(Argument) : 정의된 함수를 부를 때 매개변수의 값으로 넘겨주는 실제의 값"
   ]
  },
  {
   "cell_type": "code",
   "execution_count": null,
   "metadata": {
    "id": "4XmQY4uF_zOz"
   },
   "outputs": [],
   "source": [
    "# 214\n",
    "# 아래와 같은 에러가 발생하는 원인을 설명하라.\n",
    "\n",
    "# def 함수(a, b) :\n",
    "#     print(a + b)\n",
    "\n",
    "# 함수(\"안녕\", 3)\n",
    "\n",
    "# TypeError: must be str, not int\n",
    "\n",
    "\n",
    "# 원인\n",
    "# 정의된 함수는 a, b 파라미터를 입력받아 더하여 출력하는 함수인데\n",
    "# 문자열과 정수형은 더하는 연산이 불가능한 데이터타입이므로 에러가 발생"
   ]
  },
  {
   "cell_type": "code",
   "execution_count": null,
   "metadata": {
    "id": "26UGca_zAE1W"
   },
   "outputs": [],
   "source": [
    "# 215\n",
    "# 하나의 문자를 입력받아 문자열 끝에 \":D\" 스마일 문자열을 이어 붙여 출력하는 print_with_smile 함수를 정의하라.\n",
    "\n",
    "def print_with_smile(x) :\n",
    "    print(x + ':D')"
   ]
  },
  {
   "cell_type": "code",
   "execution_count": null,
   "metadata": {
    "colab": {
     "base_uri": "https://localhost:8080/"
    },
    "executionInfo": {
     "elapsed": 6,
     "status": "ok",
     "timestamp": 1650794257266,
     "user": {
      "displayName": "최윤아",
      "userId": "13391811122094852456"
     },
     "user_tz": -540
    },
    "id": "G-mWeAYwAO6b",
    "outputId": "1f0f6168-2f18-4b9e-f515-345295c7f62d"
   },
   "outputs": [
    {
     "name": "stdout",
     "output_type": "stream",
     "text": [
      "안녕하세요:D\n"
     ]
    }
   ],
   "source": [
    "# 216\n",
    "# 215에서 정의한 함수를 호출하라. 파라미터는 \"안녕하세요\"로 입력하라.\n",
    "\n",
    "print_with_smile('안녕하세요')"
   ]
  },
  {
   "cell_type": "code",
   "execution_count": null,
   "metadata": {
    "id": "YCblsIq3AVif"
   },
   "outputs": [],
   "source": [
    "# 217\n",
    "# 현재 가격을 입력 받아 상한가 (30%)를 출력하는 print_upper_price 함수를 정의하라.\n",
    "\n",
    "def print_upper_price(x) :\n",
    "    print( x * 1.3 )"
   ]
  },
  {
   "cell_type": "code",
   "execution_count": null,
   "metadata": {
    "id": "ostoYsFxAfIX"
   },
   "outputs": [],
   "source": [
    "# 218\n",
    "# 두 개의 숫자를 입력받아 두 수의 합을 출력하는 print_sum 함수를 정의하라.\n",
    "\n",
    "def print_sum(a, b) :\n",
    "    print(a+b)"
   ]
  },
  {
   "cell_type": "code",
   "execution_count": null,
   "metadata": {
    "id": "d2edvZ-3AmZf"
   },
   "outputs": [],
   "source": [
    "# 219\n",
    "# 두 개의 숫자를 입력받아 합/차/곱/나눗셈을 출력하는 print_arithmetic_operation 함수를 작성하라.\n",
    "\n",
    "def print_arithmetic_operation(a, b) :\n",
    "    print(f'{a}+{b}={a+b})')\n",
    "    print(f'{a}-{b}={a-b})')\n",
    "    print(f'{a}*{b}={a*b})')\n",
    "    print(f'{a}/{b}={a/b})')\n"
   ]
  },
  {
   "cell_type": "code",
   "execution_count": null,
   "metadata": {
    "id": "GwFfTC5hBBqk"
   },
   "outputs": [],
   "source": [
    "# 220\n",
    "# 세 개의 숫자를 입력받아 가장 큰수를 출력하는 print_max 함수를 정의하라. 단 if 문을 사용해서 수를 비교하라.\n",
    "\n",
    "def print_max(a, b, c) :\n",
    "    if (a > b) and (a > c) :\n",
    "        print(a)\n",
    "    elif (b > c) and (b > a) :\n",
    "        print(b)\n",
    "    else :\n",
    "        print(c)\n",
    "\n",
    "# 정답코드\n",
    "def print_max(a, b, c) :\n",
    "    max_val = 0\n",
    "    if a > max_val :\n",
    "        max_val = a\n",
    "    if b > max_val :\n",
    "        max_val = b\n",
    "    if c > max_val :\n",
    "        max_val = c\n",
    "    print(max_val)"
   ]
  },
  {
   "cell_type": "markdown",
   "metadata": {
    "id": "SeQSIrbPBsl8"
   },
   "source": [
    "# 221~230 파이썬 함수 3"
   ]
  },
  {
   "cell_type": "code",
   "execution_count": null,
   "metadata": {
    "id": "h3Kakk8oBaz3"
   },
   "outputs": [],
   "source": [
    "# 221\n",
    "# 입력된 문자열을 역순으로 출력하는 print_reverse 함수를 정의하라.\n",
    "\n",
    "def print_reverse(x) :\n",
    "    print(x[::-1])"
   ]
  },
  {
   "cell_type": "code",
   "execution_count": null,
   "metadata": {
    "colab": {
     "base_uri": "https://localhost:8080/"
    },
    "executionInfo": {
     "elapsed": 3,
     "status": "ok",
     "timestamp": 1650794866595,
     "user": {
      "displayName": "최윤아",
      "userId": "13391811122094852456"
     },
     "user_tz": -540
    },
    "id": "Ea1Jx5tGB264",
    "outputId": "0b80e663-4207-4f1c-a6f0-f72ea83c4dad"
   },
   "outputs": [
    {
     "name": "stdout",
     "output_type": "stream",
     "text": [
      "2.0\n",
      "2.0\n"
     ]
    }
   ],
   "source": [
    "# 222\n",
    "# 성적 리스트를 입력 받아 평균을 출력하는 print_score 함수를 정의하라.\n",
    "\n",
    "def print_score(x) :\n",
    "    total = 0\n",
    "    for i in x :\n",
    "        total += i\n",
    "    print(total/len(x))\n",
    "    \n",
    "print_score([1,2,3])\n",
    "\n",
    "# 정답코드\n",
    "def print_score(x) :\n",
    "    print(sum(x)/len(x))\n",
    "\n",
    "print_score([1,2,3])\n"
   ]
  },
  {
   "cell_type": "code",
   "execution_count": null,
   "metadata": {
    "colab": {
     "base_uri": "https://localhost:8080/"
    },
    "executionInfo": {
     "elapsed": 298,
     "status": "ok",
     "timestamp": 1650794926236,
     "user": {
      "displayName": "최윤아",
      "userId": "13391811122094852456"
     },
     "user_tz": -540
    },
    "id": "A6Ws-m2sCSMd",
    "outputId": "ef19eca8-9bc7-406f-fe9e-ae8a331c77d6"
   },
   "outputs": [
    {
     "name": "stdout",
     "output_type": "stream",
     "text": [
      "2\n",
      "10\n",
      "12\n"
     ]
    }
   ],
   "source": [
    "# 223\n",
    "# 하나의 리스트를 입력받아 짝수만 화면에 출력하는 print_even 함수를 정의하라.\n",
    "\n",
    "def print_even(x) :\n",
    "    for i in x :\n",
    "        if i % 2 == 0 :\n",
    "            print(i)\n",
    "\n",
    "print_even ([1, 3, 2, 10, 12, 11, 15])"
   ]
  },
  {
   "cell_type": "code",
   "execution_count": null,
   "metadata": {
    "colab": {
     "base_uri": "https://localhost:8080/"
    },
    "executionInfo": {
     "elapsed": 15,
     "status": "ok",
     "timestamp": 1650795149192,
     "user": {
      "displayName": "최윤아",
      "userId": "13391811122094852456"
     },
     "user_tz": -540
    },
    "id": "7Iez9sAcC0hG",
    "outputId": "57bc196d-fff8-415c-bb81-959f31bb20dc"
   },
   "outputs": [
    {
     "name": "stdout",
     "output_type": "stream",
     "text": [
      "이름\n",
      "나이\n",
      "성별\n"
     ]
    }
   ],
   "source": [
    "# 224\n",
    "# 하나의 딕셔너리를 입력받아 딕셔너리의 key 값을 화면에 출력하는 print_keys 함수를 정의하라.\n",
    "\n",
    "def print_keys(x) :\n",
    "    for i in x.keys() :\n",
    "        print(i)\n",
    "\n",
    "print_keys ({\"이름\":\"김말똥\", \"나이\":30, \"성별\":0})"
   ]
  },
  {
   "cell_type": "code",
   "execution_count": null,
   "metadata": {
    "colab": {
     "base_uri": "https://localhost:8080/"
    },
    "executionInfo": {
     "elapsed": 8,
     "status": "ok",
     "timestamp": 1650795305194,
     "user": {
      "displayName": "최윤아",
      "userId": "13391811122094852456"
     },
     "user_tz": -540
    },
    "id": "JX9AD5jrDIVy",
    "outputId": "4a904c5b-df53-4f19-8576-0fdfdb3f7880"
   },
   "outputs": [
    {
     "name": "stdout",
     "output_type": "stream",
     "text": [
      "[100, 130, 100, 100]\n"
     ]
    }
   ],
   "source": [
    "# 225\n",
    "# my_dict에는 날짜를 키값으로 OHLC가 리스트로 저장돼 있다.\n",
    "# my_dict와 날짜 키값을 입력받아 OHLC 리스트를 출력하는 print_value_by_key 함수를 정의하라.\n",
    "\n",
    "my_dict = {\"10/26\" : [100, 130, 100, 100],\n",
    "           \"10/27\" : [10, 12, 10, 11]}\n",
    "\n",
    "def print_value_by_key(my_dict, key):\n",
    "    print(my_dict[key])\n",
    "\n",
    "print_value_by_key  (my_dict, \"10/26\")\n"
   ]
  },
  {
   "cell_type": "code",
   "execution_count": null,
   "metadata": {
    "colab": {
     "base_uri": "https://localhost:8080/"
    },
    "executionInfo": {
     "elapsed": 6,
     "status": "ok",
     "timestamp": 1651308217082,
     "user": {
      "displayName": "최윤아",
      "userId": "13391811122094852456"
     },
     "user_tz": -540
    },
    "id": "GcWcAHhxD-1c",
    "outputId": "cc8906f7-be70-4be3-ae5e-8656a4f76196"
   },
   "outputs": [
    {
     "name": "stdout",
     "output_type": "stream",
     "text": [
      "아이엠어보\n",
      "이유알어걸\n",
      "None\n"
     ]
    }
   ],
   "source": [
    "# 226 \n",
    "# 입력 문자열을 한 줄에 다섯글자씩 출력하는 print_5xn(string) 함수를 작성하라.\n",
    "\n",
    "def print_5xn(x) :\n",
    "    num = int(len(x) / 5)\n",
    "    num = int(num + 0.9)\n",
    "    for i in range(num) :\n",
    "        print(x[i * 5 : i * 5 + 5])\n",
    "\n",
    "\n",
    "print(print_5xn('아이엠어보이유알어걸'))"
   ]
  },
  {
   "cell_type": "code",
   "execution_count": null,
   "metadata": {
    "colab": {
     "base_uri": "https://localhost:8080/"
    },
    "executionInfo": {
     "elapsed": 256,
     "status": "ok",
     "timestamp": 1651308567834,
     "user": {
      "displayName": "최윤아",
      "userId": "13391811122094852456"
     },
     "user_tz": -540
    },
    "id": "3ZUSfnDNIQjt",
    "outputId": "2e3144f8-654c-470c-c515-cc21414374f8"
   },
   "outputs": [
    {
     "name": "stdout",
     "output_type": "stream",
     "text": [
      "아이엠\n",
      "어보이\n",
      "유알어\n",
      "걸\n",
      "None\n"
     ]
    }
   ],
   "source": [
    "# 227\n",
    "# 문자열과 한줄에 출력될 글자 수를 입력을 받아 \n",
    "# 한 줄에 입력된 글자 수만큼 출력하는 print_mxn(string) 함수를 작성하라.\n",
    "\n",
    "import math\n",
    "\n",
    "def print_mxn(string, num) :\n",
    "    line = int(len(string)) / int(num)\n",
    "    line = math.ceil(line)\n",
    "    for i in range(line) :\n",
    "        print(string[i * int(num) : i * int(num) + int(num) ])\n",
    "\n",
    "print( print_mxn('아이엠어보이유알어걸', 3) )\n"
   ]
  },
  {
   "cell_type": "code",
   "execution_count": null,
   "metadata": {
    "colab": {
     "base_uri": "https://localhost:8080/"
    },
    "executionInfo": {
     "elapsed": 8,
     "status": "ok",
     "timestamp": 1651308388946,
     "user": {
      "displayName": "최윤아",
      "userId": "13391811122094852456"
     },
     "user_tz": -540
    },
    "id": "EIz82nTWph-Y",
    "outputId": "a61770c3-13ce-4865-8db2-11d0c291cfdb"
   },
   "outputs": [
    {
     "data": {
      "text/plain": [
       "3"
      ]
     },
     "execution_count": 134,
     "metadata": {},
     "output_type": "execute_result"
    }
   ],
   "source": [
    "import math\n",
    "\n",
    "math.ceil(2.1) # 올림"
   ]
  },
  {
   "cell_type": "code",
   "execution_count": null,
   "metadata": {
    "colab": {
     "base_uri": "https://localhost:8080/"
    },
    "executionInfo": {
     "elapsed": 235,
     "status": "ok",
     "timestamp": 1651300373174,
     "user": {
      "displayName": "최윤아",
      "userId": "13391811122094852456"
     },
     "user_tz": -540
    },
    "id": "D-3gQVerA7Rd",
    "outputId": "dec6b552-4dad-4a75-fab2-4af0051ac039"
   },
   "outputs": [
    {
     "name": "stdout",
     "output_type": "stream",
     "text": [
      "한달 월급은  1854166\n"
     ]
    }
   ],
   "source": [
    "# 228\n",
    "# 연봉을 입력받아 월급을 계산하는 calc_monthly_salary(annual_salary) 함수를 정의하라. \n",
    "# 회사는 연봉을 12개월로 나누어 분할 지급하며, 이 때 1원 미만은 버림한다.\n",
    "\n",
    "def calc_monthly_salary(salary) :\n",
    "    month = int(salary / 12)\n",
    "    return(month)\n",
    "\n",
    "print( '한달 월급은 ',calc_monthly_salary(22250000) )\n"
   ]
  },
  {
   "cell_type": "code",
   "execution_count": null,
   "metadata": {
    "colab": {
     "base_uri": "https://localhost:8080/"
    },
    "executionInfo": {
     "elapsed": 5,
     "status": "ok",
     "timestamp": 1651300428875,
     "user": {
      "displayName": "최윤아",
      "userId": "13391811122094852456"
     },
     "user_tz": -540
    },
    "id": "vmOHwG5jKPfP",
    "outputId": "f4ab2e96-4350-471d-d024-3e4115d285ec"
   },
   "outputs": [
    {
     "name": "stdout",
     "output_type": "stream",
     "text": [
      "왼쪽: 100\n",
      "오른쪽: 200\n"
     ]
    }
   ],
   "source": [
    "# 229\n",
    "# 아래 코드의 실행 결과를 예측하라.\n",
    "\n",
    "def my_print (a, b) :\n",
    "    print(\"왼쪽:\", a)\n",
    "    print(\"오른쪽:\", b)\n",
    "\n",
    "my_print(a=100, b=200)\n",
    "\n",
    "\n",
    "# 예측\n",
    "# 왼쪽: 100\n",
    "# 오른쪽: 200\n"
   ]
  },
  {
   "cell_type": "code",
   "execution_count": null,
   "metadata": {
    "colab": {
     "base_uri": "https://localhost:8080/"
    },
    "executionInfo": {
     "elapsed": 239,
     "status": "ok",
     "timestamp": 1651300494320,
     "user": {
      "displayName": "최윤아",
      "userId": "13391811122094852456"
     },
     "user_tz": -540
    },
    "id": "0QgD8SOTLOoB",
    "outputId": "e2f3753c-949b-41c9-831a-903bb1cf7fe6"
   },
   "outputs": [
    {
     "name": "stdout",
     "output_type": "stream",
     "text": [
      "왼쪽: 200\n",
      "오른쪽: 100\n"
     ]
    }
   ],
   "source": [
    "# 230\n",
    "# 아래 코드의 실행 결과를 예측하라.\n",
    "\n",
    "def my_print (a, b) :\n",
    "    print(\"왼쪽:\", a)\n",
    "    print(\"오른쪽:\", b)\n",
    "\n",
    "my_print(b=100, a=200)\n",
    "\n",
    "# 예측\n",
    "\n",
    "# 왼쪽: 200\n",
    "# 오른쪽: 100"
   ]
  },
  {
   "cell_type": "markdown",
   "metadata": {
    "id": "vRs7S2P8LgP9"
   },
   "source": [
    "# 231~240 파이썬 함수 4"
   ]
  },
  {
   "cell_type": "code",
   "execution_count": null,
   "metadata": {
    "colab": {
     "base_uri": "https://localhost:8080/",
     "height": 248
    },
    "executionInfo": {
     "elapsed": 275,
     "status": "error",
     "timestamp": 1651300579763,
     "user": {
      "displayName": "최윤아",
      "userId": "13391811122094852456"
     },
     "user_tz": -540
    },
    "id": "XydbL3ceLddI",
    "outputId": "9226af20-0901-4708-9bbb-be29856eb8fb"
   },
   "outputs": [
    {
     "ename": "NameError",
     "evalue": "ignored",
     "output_type": "error",
     "traceback": [
      "\u001b[0;31m---------------------------------------------------------------------------\u001b[0m",
      "\u001b[0;31mNameError\u001b[0m                                 Traceback (most recent call last)",
      "\u001b[0;32m<ipython-input-23-a76558696020>\u001b[0m in \u001b[0;36m<module>\u001b[0;34m()\u001b[0m\n\u001b[1;32m      7\u001b[0m \u001b[0;34m\u001b[0m\u001b[0m\n\u001b[1;32m      8\u001b[0m \u001b[0mn_plus_1\u001b[0m\u001b[0;34m(\u001b[0m\u001b[0;36m3\u001b[0m\u001b[0;34m)\u001b[0m\u001b[0;34m\u001b[0m\u001b[0;34m\u001b[0m\u001b[0m\n\u001b[0;32m----> 9\u001b[0;31m \u001b[0mprint\u001b[0m \u001b[0;34m(\u001b[0m\u001b[0mresult\u001b[0m\u001b[0;34m)\u001b[0m\u001b[0;34m\u001b[0m\u001b[0;34m\u001b[0m\u001b[0m\n\u001b[0m\u001b[1;32m     10\u001b[0m \u001b[0;34m\u001b[0m\u001b[0m\n\u001b[1;32m     11\u001b[0m \u001b[0;31m# 예측\u001b[0m\u001b[0;34m\u001b[0m\u001b[0;34m\u001b[0m\u001b[0;34m\u001b[0m\u001b[0m\n",
      "\u001b[0;31mNameError\u001b[0m: name 'result' is not defined"
     ]
    }
   ],
   "source": [
    "# 231\n",
    "# 아래 코드를 실행한 결과를 예상하라.\n",
    "\n",
    "\n",
    "def n_plus_1 (n) :\n",
    "    result = n + 1\n",
    "\n",
    "n_plus_1(3)\n",
    "print (result)\n",
    "\n",
    "# 예측\n",
    "# 에러 : result는 n_plus_1 안에서 정의된 지역변수라서 함수 내부에서 계산한 값을 전달하기 위해서는 return이 필요"
   ]
  },
  {
   "cell_type": "code",
   "execution_count": null,
   "metadata": {
    "colab": {
     "base_uri": "https://localhost:8080/",
     "height": 35
    },
    "executionInfo": {
     "elapsed": 264,
     "status": "ok",
     "timestamp": 1651300808647,
     "user": {
      "displayName": "최윤아",
      "userId": "13391811122094852456"
     },
     "user_tz": -540
    },
    "id": "-D0OloDjLzcU",
    "outputId": "828cea0e-80c6-4a01-e332-8dd5553498cb"
   },
   "outputs": [
    {
     "data": {
      "application/vnd.google.colaboratory.intrinsic+json": {
       "type": "string"
      },
      "text/plain": [
       "'www.naver.com'"
      ]
     },
     "execution_count": 24,
     "metadata": {},
     "output_type": "execute_result"
    }
   ],
   "source": [
    "# 232\n",
    "# 문자열 하나를 입력받아 인터넷 주소를 반환하는 make_url 함수를 정의하라.\n",
    "\n",
    "def make_url(x) :\n",
    "    return f'www.{x}.com'\n",
    "\n",
    "make_url('naver')"
   ]
  },
  {
   "cell_type": "code",
   "execution_count": null,
   "metadata": {
    "colab": {
     "base_uri": "https://localhost:8080/"
    },
    "executionInfo": {
     "elapsed": 6,
     "status": "ok",
     "timestamp": 1651301568550,
     "user": {
      "displayName": "최윤아",
      "userId": "13391811122094852456"
     },
     "user_tz": -540
    },
    "id": "5oJBWcJNMrRn",
    "outputId": "224addcd-8fc6-4962-c386-c824e3912ad8"
   },
   "outputs": [
    {
     "name": "stdout",
     "output_type": "stream",
     "text": [
      "['a', 'b', 'c', 'd']\n",
      "['a', 'b', 'c', 'd']\n"
     ]
    }
   ],
   "source": [
    "# 233\n",
    "# 문자열을 입력받아 각 문자들로 구성된 리스트로 반환하는 make_list 함수를 정의하라.\n",
    "\n",
    "\n",
    "def make_list(x) :\n",
    "    my_list =  []\n",
    "    for i in range(len(x)) :\n",
    "        my_list.append(x[i])\n",
    "    return my_list\n",
    "\n",
    "print(make_list(\"abcd\"))\n",
    "\n",
    "# 정답코드\n",
    "\n",
    "def make_list (string) :\n",
    "    my_list = []\n",
    "    for 변수 in string :\n",
    "        my_list.append(변수)\n",
    "    return my_list\n",
    "\n",
    "print(make_list(\"abcd\"))\n",
    "\n"
   ]
  },
  {
   "cell_type": "code",
   "execution_count": null,
   "metadata": {
    "colab": {
     "base_uri": "https://localhost:8080/"
    },
    "executionInfo": {
     "elapsed": 234,
     "status": "ok",
     "timestamp": 1651301553607,
     "user": {
      "displayName": "최윤아",
      "userId": "13391811122094852456"
     },
     "user_tz": -540
    },
    "id": "xMteZrkPNSGf",
    "outputId": "114dbc70-19d0-42ee-d7e9-07ba0ddc1bd7"
   },
   "outputs": [
    {
     "name": "stdout",
     "output_type": "stream",
     "text": [
      "[4, 6, 8]\n",
      "[4, 6, 8]\n"
     ]
    }
   ],
   "source": [
    "# 234\n",
    "# 숫자로 구성된 하나의 리스트를 입력받아, \n",
    "# 짝수들을 추출하여 리스트로 반환하는 pickup_even 함수를 구현하라.\n",
    "\n",
    "def pickup_even(x) :\n",
    "    my_list = [ ]\n",
    "    for i in range(len(x)) :\n",
    "        if int(x[i]) % 2 == 0 :\n",
    "            my_list.append(int(x[i]))\n",
    "    return my_list\n",
    "\n",
    "print(pickup_even([3, 4, 5, 6, 7, 8]))\n",
    "\n",
    "\n",
    "# 정답코드\n",
    "\n",
    "def pickup_even(x) :\n",
    "    my_list = []\n",
    "    for i in x :\n",
    "        if i % 2 == 0 :\n",
    "            my_list.append(i)\n",
    "    return my_list\n",
    "\n",
    "print(pickup_even([3, 4, 5, 6, 7, 8]))\n"
   ]
  },
  {
   "cell_type": "code",
   "execution_count": null,
   "metadata": {
    "colab": {
     "base_uri": "https://localhost:8080/"
    },
    "executionInfo": {
     "elapsed": 239,
     "status": "ok",
     "timestamp": 1651301655129,
     "user": {
      "displayName": "최윤아",
      "userId": "13391811122094852456"
     },
     "user_tz": -540
    },
    "id": "mPi6HsZEO-3x",
    "outputId": "371ef69a-98aa-43bf-e51e-694c72dba012"
   },
   "outputs": [
    {
     "data": {
      "text/plain": [
       "1234567"
      ]
     },
     "execution_count": 41,
     "metadata": {},
     "output_type": "execute_result"
    }
   ],
   "source": [
    "# 235\n",
    "# 콤마가 포함된 문자열 숫자를 입력받아 정수로 변환하는 convert_int 함수를 정의하라.\n",
    "\n",
    "def convert_int(x) :\n",
    "    return int(x.replace(',',''))\n",
    "\n",
    "\n",
    "convert_int(\"1,234,567\")"
   ]
  },
  {
   "cell_type": "code",
   "execution_count": null,
   "metadata": {
    "colab": {
     "base_uri": "https://localhost:8080/"
    },
    "executionInfo": {
     "elapsed": 223,
     "status": "ok",
     "timestamp": 1651301710143,
     "user": {
      "displayName": "최윤아",
      "userId": "13391811122094852456"
     },
     "user_tz": -540
    },
    "id": "98LLHPDSP58h",
    "outputId": "a7eb3917-88c5-4b0a-9351-f151d92ee651"
   },
   "outputs": [
    {
     "name": "stdout",
     "output_type": "stream",
     "text": [
      "22\n"
     ]
    }
   ],
   "source": [
    "# 236\n",
    "# 아래 코드의 실행 결과를 예측하라.\n",
    "\n",
    "def 함수(num) :\n",
    "    return num + 4\n",
    "\n",
    "a = 함수(10)\n",
    "b = 함수(a)\n",
    "c = 함수(b)\n",
    "print(c)\n",
    "\n",
    "# 예측\n",
    "# a = 14\n",
    "# b = 18\n",
    "# c= 22\n",
    "# 즉,\n",
    "# 22"
   ]
  },
  {
   "cell_type": "code",
   "execution_count": null,
   "metadata": {
    "colab": {
     "base_uri": "https://localhost:8080/"
    },
    "executionInfo": {
     "elapsed": 221,
     "status": "ok",
     "timestamp": 1651301773624,
     "user": {
      "displayName": "최윤아",
      "userId": "13391811122094852456"
     },
     "user_tz": -540
    },
    "id": "O23xdxvBQHaE",
    "outputId": "f35343e1-281a-41da-a01e-3112c52e1dda"
   },
   "outputs": [
    {
     "name": "stdout",
     "output_type": "stream",
     "text": [
      "22\n"
     ]
    }
   ],
   "source": [
    "# 237\n",
    "# 아래 코드의 실행 결과를 예측하라.\n",
    "\n",
    "def 함수(num) :\n",
    "    return num + 4\n",
    "\n",
    "c = 함수(함수(함수(10)))\n",
    "print(c)\n",
    "\n",
    "# 예측\n",
    "# 22"
   ]
  },
  {
   "cell_type": "code",
   "execution_count": null,
   "metadata": {
    "colab": {
     "base_uri": "https://localhost:8080/"
    },
    "executionInfo": {
     "elapsed": 4,
     "status": "ok",
     "timestamp": 1651301830968,
     "user": {
      "displayName": "최윤아",
      "userId": "13391811122094852456"
     },
     "user_tz": -540
    },
    "id": "lWqd43blQW6w",
    "outputId": "6ef59988-16aa-439f-c0fe-7f4c3618fca2"
   },
   "outputs": [
    {
     "name": "stdout",
     "output_type": "stream",
     "text": [
      "140\n"
     ]
    }
   ],
   "source": [
    "# 238\n",
    "# 아래 코드의 실행 결과를 예측하라.\n",
    "\n",
    "def 함수1(num) :\n",
    "    return num + 4\n",
    "\n",
    "def 함수2(num) :\n",
    "    return num * 10\n",
    "\n",
    "a = 함수1(10)\n",
    "c = 함수2(a)\n",
    "print(c)\n",
    "\n",
    "# 예측\n",
    "# a = 14\n",
    "# c = 140\n",
    "# 즉,\n",
    "# 140"
   ]
  },
  {
   "cell_type": "code",
   "execution_count": null,
   "metadata": {
    "colab": {
     "base_uri": "https://localhost:8080/"
    },
    "executionInfo": {
     "elapsed": 6,
     "status": "ok",
     "timestamp": 1651301876216,
     "user": {
      "displayName": "최윤아",
      "userId": "13391811122094852456"
     },
     "user_tz": -540
    },
    "id": "5sKisFIqQk82",
    "outputId": "f0e9a2b9-c782-4fbb-a759-99d13250e968"
   },
   "outputs": [
    {
     "name": "stdout",
     "output_type": "stream",
     "text": [
      "16\n"
     ]
    }
   ],
   "source": [
    "# 239\n",
    "# 아래 코드의 실행 결과를 예측하라.\n",
    "\n",
    "def 함수1(num) :\n",
    "    return num + 4\n",
    "\n",
    "def 함수2(num) :\n",
    "    num = num + 2\n",
    "    return 함수1(num)\n",
    "\n",
    "c = 함수2(10)\n",
    "print(c)\n",
    "\n",
    "# 예측\n",
    "# 16"
   ]
  },
  {
   "cell_type": "code",
   "execution_count": null,
   "metadata": {
    "colab": {
     "base_uri": "https://localhost:8080/"
    },
    "executionInfo": {
     "elapsed": 229,
     "status": "ok",
     "timestamp": 1651301915899,
     "user": {
      "displayName": "최윤아",
      "userId": "13391811122094852456"
     },
     "user_tz": -540
    },
    "id": "snl6JyeoQv-A",
    "outputId": "dfb1089b-a3bd-4241-b7c7-25c3eb9d5024"
   },
   "outputs": [
    {
     "name": "stdout",
     "output_type": "stream",
     "text": [
      "28\n"
     ]
    }
   ],
   "source": [
    "# 240\n",
    "# 아래 코드의 실행 결과를 예측하라.\n",
    "\n",
    "def 함수0(num) :\n",
    "    return num * 2\n",
    "\n",
    "def 함수1(num) :\n",
    "    return 함수0(num + 2)\n",
    "\n",
    "def 함수2(num) :\n",
    "    num = num + 10\n",
    "    return 함수1(num)\n",
    "\n",
    "c = 함수2(2)\n",
    "print(c)\n",
    "\n",
    "# 예측\n",
    "# 28"
   ]
  },
  {
   "cell_type": "markdown",
   "metadata": {
    "id": "YKxdS37DRBs2"
   },
   "source": [
    "# 241~250 파이썬 모듈"
   ]
  },
  {
   "cell_type": "code",
   "execution_count": null,
   "metadata": {
    "colab": {
     "base_uri": "https://localhost:8080/"
    },
    "executionInfo": {
     "elapsed": 255,
     "status": "ok",
     "timestamp": 1651302030576,
     "user": {
      "displayName": "최윤아",
      "userId": "13391811122094852456"
     },
     "user_tz": -540
    },
    "id": "r5QDHODhRE0b",
    "outputId": "2a7bb819-cf36-4755-e5bb-58113e14511d"
   },
   "outputs": [
    {
     "data": {
      "text/plain": [
       "datetime.datetime(2022, 4, 30, 7, 0, 30, 745452)"
      ]
     },
     "execution_count": 49,
     "metadata": {},
     "output_type": "execute_result"
    }
   ],
   "source": [
    "# 241 \n",
    "# datetime 모듈을 사용해서 현재 시간을 화면에 출력해보세요.\n",
    "\n",
    "import datetime # module 파이썬 파일\n",
    "\n",
    "datetime.datetime.now() # 묘듈.클래스.메소드"
   ]
  },
  {
   "cell_type": "code",
   "execution_count": null,
   "metadata": {
    "colab": {
     "base_uri": "https://localhost:8080/"
    },
    "executionInfo": {
     "elapsed": 6,
     "status": "ok",
     "timestamp": 1651302083634,
     "user": {
      "displayName": "최윤아",
      "userId": "13391811122094852456"
     },
     "user_tz": -540
    },
    "id": "lPzmtQ4jRNlc",
    "outputId": "07f775ad-ccf8-43ab-cd19-1023437df019"
   },
   "outputs": [
    {
     "name": "stdout",
     "output_type": "stream",
     "text": [
      "<class 'datetime.datetime'>\n"
     ]
    }
   ],
   "source": [
    "# 242\n",
    "# datetime 모듈의 now 함수의 리턴 값의 타입을 화면에 출력해보세요.\n",
    "\n",
    "import datetime\n",
    "\n",
    "print(type(datetime.datetime.now()))"
   ]
  },
  {
   "cell_type": "code",
   "execution_count": null,
   "metadata": {
    "colab": {
     "base_uri": "https://localhost:8080/"
    },
    "executionInfo": {
     "elapsed": 301,
     "status": "ok",
     "timestamp": 1651302281677,
     "user": {
      "displayName": "최윤아",
      "userId": "13391811122094852456"
     },
     "user_tz": -540
    },
    "id": "BEiVVXnERin0",
    "outputId": "7eb1ca72-ab61-4750-abe1-86179e10d997"
   },
   "outputs": [
    {
     "name": "stdout",
     "output_type": "stream",
     "text": [
      "2022-04-25 07:04:41.795052\n",
      "2022-04-26 07:04:41.795052\n",
      "2022-04-27 07:04:41.795052\n",
      "2022-04-28 07:04:41.795052\n",
      "2022-04-29 07:04:41.795052\n"
     ]
    }
   ],
   "source": [
    "# 243\n",
    "# datetime 모듈의 timedelta를 사용해서 오늘로부터 5일, 4일, 3일, 2일, 1일 전의 날짜를 화면에 출력해보세요.\n",
    "\n",
    "import datetime\n",
    "\n",
    "now = datetime.datetime.now()\n",
    "\n",
    "for day in range(5,0,-1):\n",
    "    delta = datetime.timedelta(days=day) # timedelta 날짜를 앞뒤로 갈 수 있는 메소드\n",
    "    date = now - delta\n",
    "    print(date)\n"
   ]
  },
  {
   "cell_type": "code",
   "execution_count": null,
   "metadata": {
    "colab": {
     "base_uri": "https://localhost:8080/"
    },
    "executionInfo": {
     "elapsed": 9,
     "status": "ok",
     "timestamp": 1651317854568,
     "user": {
      "displayName": "최윤아",
      "userId": "13391811122094852456"
     },
     "user_tz": -540
    },
    "id": "rypHYfFoRtUR",
    "outputId": "e8308f2d-383a-4ea1-b3a6-f980c002d928"
   },
   "outputs": [
    {
     "name": "stdout",
     "output_type": "stream",
     "text": [
      "11:24:15 <class 'str'>\n"
     ]
    }
   ],
   "source": [
    "# 244\n",
    "# 현재시간을 얻어온 후 다음과 같은 포맷으로 시간을 출력해보세요. \n",
    "# strftime 메서드를 사용하세요.\n",
    "# 18:35:01 \n",
    "\n",
    "import datetime\n",
    "\n",
    "now = datetime.datetime.now()\n",
    "\n",
    "a = now.strftime('%H:%M:%S') # H, h는 다름\n",
    "\n",
    "print(a, type(a))"
   ]
  },
  {
   "cell_type": "code",
   "execution_count": null,
   "metadata": {
    "colab": {
     "base_uri": "https://localhost:8080/"
    },
    "executionInfo": {
     "elapsed": 270,
     "status": "ok",
     "timestamp": 1651317985241,
     "user": {
      "displayName": "최윤아",
      "userId": "13391811122094852456"
     },
     "user_tz": -540
    },
    "id": "krLkuvE3SjrZ",
    "outputId": "8aee6999-d34f-4e47-f912-d189c7f9f04d"
   },
   "outputs": [
    {
     "name": "stdout",
     "output_type": "stream",
     "text": [
      "2020-05-04 00:00:00 <class 'datetime.datetime'>\n"
     ]
    }
   ],
   "source": [
    "# 245\n",
    "# datetime.datetime.strptime 메서드를 사용하면 문자열 형식의 시간을 datetime.datetime 타입의 시간 값으로 만들어줍니다. \n",
    "# \"2020-05-04\"의 문자열을 시간 타입으로 변환해보세요.\n",
    "\n",
    "import datetime\n",
    "\n",
    "day = \"2020-05-04\"\n",
    "\n",
    "date = datetime.datetime.strptime(day, '%Y-%m-%d') # 문자열 -> 시간타입 (적절하게 연산하기 위하여)\n",
    "\n",
    "print(date, type(date)) # datetime.datetime으로 타입이 변경된 것을 확인"
   ]
  },
  {
   "cell_type": "code",
   "execution_count": null,
   "metadata": {
    "colab": {
     "base_uri": "https://localhost:8080/"
    },
    "executionInfo": {
     "elapsed": 20157,
     "status": "ok",
     "timestamp": 1651302788586,
     "user": {
      "displayName": "최윤아",
      "userId": "13391811122094852456"
     },
     "user_tz": -540
    },
    "id": "UInrYEmrTdG2",
    "outputId": "6bcb0793-bff2-4e12-eca6-38e42c38dbef"
   },
   "outputs": [
    {
     "name": "stdout",
     "output_type": "stream",
     "text": [
      "2022-04-30 07:12:48.685129\n",
      "2022-04-30 07:12:48.685129\n",
      "2022-04-30 07:12:48.685129\n",
      "2022-04-30 07:12:48.685129\n",
      "2022-04-30 07:12:48.685129\n",
      "2022-04-30 07:12:48.685129\n",
      "2022-04-30 07:12:48.685129\n",
      "2022-04-30 07:12:48.685129\n",
      "2022-04-30 07:12:48.685129\n",
      "2022-04-30 07:12:48.685129\n",
      "2022-04-30 07:12:48.685129\n",
      "2022-04-30 07:12:48.685129\n",
      "2022-04-30 07:12:48.685129\n",
      "2022-04-30 07:12:48.685129\n",
      "2022-04-30 07:12:48.685129\n",
      "2022-04-30 07:12:48.685129\n",
      "2022-04-30 07:12:48.685129\n",
      "2022-04-30 07:12:48.685129\n",
      "2022-04-30 07:12:48.685129\n",
      "2022-04-30 07:12:48.685129\n"
     ]
    }
   ],
   "source": [
    "# 246\n",
    "# time 모듈, datetime 모듈을 사용해서 1초에 한 번 현재 시간을 출력하는 코드를 작성하세요.\n",
    "\n",
    "import time\n",
    "import datetime\n",
    "\n",
    "now = datetime.datetime.now()\n",
    "now\n",
    "\n",
    "for i in range(20) :\n",
    "    time.sleep(1)\n",
    "    print(now)"
   ]
  },
  {
   "cell_type": "code",
   "execution_count": null,
   "metadata": {
    "id": "wiL2ePEGT6L6"
   },
   "outputs": [],
   "source": [
    "# 247\n",
    "# 모듈을 임포트하는 4가지 방식에 대해 설명해보세요.\n",
    "\n",
    "# 1. import 모듈 --> 권장\n",
    "# 2. import 모듈 as 모듈별칭\n",
    "# 3. from 모듈 import 해당 모듈 중 사용할 것\n",
    "# 4. from 모듈 import * (* 안에 있는 것을 다 가져와라) --> 권장 X, 파이썬 인터프리터가 정확히 인식하지 못하는 경우가 생김\n"
   ]
  },
  {
   "cell_type": "code",
   "execution_count": null,
   "metadata": {
    "colab": {
     "base_uri": "https://localhost:8080/",
     "height": 35
    },
    "executionInfo": {
     "elapsed": 15,
     "status": "ok",
     "timestamp": 1651302937424,
     "user": {
      "displayName": "최윤아",
      "userId": "13391811122094852456"
     },
     "user_tz": -540
    },
    "id": "rU3rjlvJUrvX",
    "outputId": "50069aaa-6708-4168-92e1-6131389a98ef"
   },
   "outputs": [
    {
     "data": {
      "application/vnd.google.colaboratory.intrinsic+json": {
       "type": "string"
      },
      "text/plain": [
       "'/content'"
      ]
     },
     "execution_count": 82,
     "metadata": {},
     "output_type": "execute_result"
    }
   ],
   "source": [
    "# 248\n",
    "# os 모듈의 getcwd 함수를 호출하여 현재 디렉터리의 경로를 화면에 출력해보세요.\n",
    "\n",
    "import os\n",
    "\n",
    "os.getcwd()"
   ]
  },
  {
   "cell_type": "code",
   "execution_count": null,
   "metadata": {
    "colab": {
     "base_uri": "https://localhost:8080/",
     "height": 229
    },
    "executionInfo": {
     "elapsed": 233,
     "status": "error",
     "timestamp": 1651303314693,
     "user": {
      "displayName": "최윤아",
      "userId": "13391811122094852456"
     },
     "user_tz": -540
    },
    "id": "s_JA4FCBUv4O",
    "outputId": "2746ee5e-750f-4164-ce87-05651241f2ab"
   },
   "outputs": [
    {
     "ename": "FileNotFoundError",
     "evalue": "ignored",
     "output_type": "error",
     "traceback": [
      "\u001b[0;31m---------------------------------------------------------------------------\u001b[0m",
      "\u001b[0;31mFileNotFoundError\u001b[0m                         Traceback (most recent call last)",
      "\u001b[0;32m<ipython-input-95-1a35a163eb61>\u001b[0m in \u001b[0;36m<module>\u001b[0;34m()\u001b[0m\n\u001b[1;32m      4\u001b[0m \u001b[0;32mimport\u001b[0m \u001b[0mos\u001b[0m\u001b[0;34m\u001b[0m\u001b[0;34m\u001b[0m\u001b[0m\n\u001b[1;32m      5\u001b[0m \u001b[0;34m\u001b[0m\u001b[0m\n\u001b[0;32m----> 6\u001b[0;31m \u001b[0mos\u001b[0m\u001b[0;34m.\u001b[0m\u001b[0mrename\u001b[0m\u001b[0;34m(\u001b[0m\u001b[0;34m'C:/Users/0108s/Desktop/test.txt'\u001b[0m\u001b[0;34m,\u001b[0m \u001b[0;34m'C:/Users/0108s/Desktop/after.txt'\u001b[0m\u001b[0;34m)\u001b[0m\u001b[0;34m\u001b[0m\u001b[0;34m\u001b[0m\u001b[0m\n\u001b[0m",
      "\u001b[0;31mFileNotFoundError\u001b[0m: [Errno 2] No such file or directory: 'C:/Users/0108s/Desktop/test.txt' -> 'C:/Users/0108s/Desktop/after.txt'"
     ]
    }
   ],
   "source": [
    "# 249\n",
    "# 바탕화면에 텍스트 파일을 하나 생성한 후 os 모듈의 rename 함수를 호출하여 해당 파일의 이름을 변경해보세요.\n",
    "\n",
    "import os\n",
    "\n",
    "os.rename('C:/Users/0108s/Desktop/test.txt', 'C:/Users/0108s/Desktop/after.txt')\n",
    "\n",
    "# 위치 일치하는데.. 오류"
   ]
  },
  {
   "cell_type": "code",
   "execution_count": null,
   "metadata": {
    "colab": {
     "base_uri": "https://localhost:8080/"
    },
    "executionInfo": {
     "elapsed": 941,
     "status": "ok",
     "timestamp": 1651303726498,
     "user": {
      "displayName": "최윤아",
      "userId": "13391811122094852456"
     },
     "user_tz": -540
    },
    "id": "GoPIIZ5IVAZE",
    "outputId": "f7241196-afa8-4e62-e17f-919c9ad57aeb"
   },
   "outputs": [
    {
     "name": "stdout",
     "output_type": "stream",
     "text": [
      "0.0\n",
      "0.1\n",
      "0.2\n",
      "0.3\n",
      "0.4\n",
      "0.5\n",
      "0.6\n",
      "0.7\n",
      "0.8\n",
      "0.9\n",
      "1.0\n",
      "1.1\n",
      "1.2\n",
      "1.3\n",
      "1.4\n",
      "1.5\n",
      "1.6\n",
      "1.7\n",
      "1.8\n",
      "1.9\n",
      "2.0\n",
      "2.1\n",
      "2.2\n",
      "2.3\n",
      "2.4\n",
      "2.5\n",
      "2.6\n",
      "2.7\n",
      "2.8\n",
      "2.9\n",
      "3.0\n",
      "3.1\n",
      "3.2\n",
      "3.3\n",
      "3.4\n",
      "3.5\n",
      "3.6\n",
      "3.7\n",
      "3.8\n",
      "3.9\n",
      "4.0\n",
      "4.1\n",
      "4.2\n",
      "4.3\n",
      "4.4\n",
      "4.5\n",
      "4.6\n",
      "4.7\n",
      "4.8\n",
      "4.9\n"
     ]
    }
   ],
   "source": [
    "# 250\n",
    "# numpy 모듈의 arange 함수를 사용해서 0.0 부터 5.0까지 0.1씩 증가하는 값을 화면에 출력해보세요.\n",
    "\n",
    "import numpy as np\n",
    "\n",
    "for i in np.arange(0, 5, 0.1) :\n",
    "    print(round(i,1))"
   ]
  },
  {
   "cell_type": "markdown",
   "metadata": {
    "id": "Cl4DJ-PPX1vd"
   },
   "source": [
    "# 251~260 파이썬 클래스"
   ]
  },
  {
   "cell_type": "code",
   "execution_count": null,
   "metadata": {
    "id": "uHrU0HGcWayB"
   },
   "outputs": [],
   "source": [
    "# 251\n",
    "# 클래스, 객체, 인스턴스에 대해 설명해봅시다.\n",
    "\n",
    "# 클래스는 비슷한 역할을 하는 함수를 모아놓은 서랍장, 객체나 인스턴스의 설계도\n",
    "# 객체는 클래스에서 만들어진 것\n",
    "# 인스턴스 어떤 클래스에서부터 만들어진 것인지 강조하고 싶을 때 사용, 꼭 그런거는 아님\n",
    "\n",
    "# 즉, 클래스로부터 만들어진 것을 object, 객체, 인스턴스 라고 한다."
   ]
  },
  {
   "cell_type": "code",
   "execution_count": null,
   "metadata": {
    "id": "uRXrOg7LZ9pu"
   },
   "outputs": [],
   "source": [
    "# 252\n",
    "# 비어있는 사람 (Human) 클래스를 \"정의\" 해보세요.\n",
    "\n",
    "class Human :\n",
    "    pass"
   ]
  },
  {
   "cell_type": "code",
   "execution_count": null,
   "metadata": {
    "id": "Wr0S8wHLaKMB"
   },
   "outputs": [],
   "source": [
    "# 253\n",
    "# 사람 (Human) 클래스의 인스턴스를 \"생성\" 하고 이를 areum 변수로 바인딩해보세요.\n",
    "\n",
    "class Human :\n",
    "    pass\n",
    "\n",
    "areum = Human()"
   ]
  },
  {
   "cell_type": "code",
   "execution_count": null,
   "metadata": {
    "colab": {
     "base_uri": "https://localhost:8080/"
    },
    "executionInfo": {
     "elapsed": 244,
     "status": "ok",
     "timestamp": 1651306849655,
     "user": {
      "displayName": "최윤아",
      "userId": "13391811122094852456"
     },
     "user_tz": -540
    },
    "id": "FFXRELtkjb0H",
    "outputId": "56be1ea6-96fa-4fd7-eb17-d48cef22a207"
   },
   "outputs": [
    {
     "name": "stdout",
     "output_type": "stream",
     "text": [
      "응애응애\n"
     ]
    }
   ],
   "source": [
    "# 254\n",
    "# 사람 (Human) 클래스에 \"응애응애\"를 출력하는 생성자를 추가하세요.\n",
    "\n",
    "class Human :\n",
    "    def __init__(self) : # 생성자\n",
    "        print('응애응애') # 파이썬 인터프리터가 자동으로 호출함\n",
    "\n",
    "areum = Human() # 클래스명() == 객체 생성\n",
    "\n",
    "# self는 생성된 areum을 바인딩하게 됨"
   ]
  },
  {
   "cell_type": "code",
   "execution_count": null,
   "metadata": {
    "colab": {
     "base_uri": "https://localhost:8080/"
    },
    "executionInfo": {
     "elapsed": 233,
     "status": "ok",
     "timestamp": 1651307208831,
     "user": {
      "displayName": "최윤아",
      "userId": "13391811122094852456"
     },
     "user_tz": -540
    },
    "id": "502gJvVujn9Y",
    "outputId": "1785a3b4-b9b8-4a29-a52e-36b5b1484810"
   },
   "outputs": [
    {
     "name": "stdout",
     "output_type": "stream",
     "text": [
      "아름\n"
     ]
    }
   ],
   "source": [
    "# 255\n",
    "# 사람 (Human) 클래스에 (이름, 나이, 성별)을 받는 생성자를 추가하세요.\n",
    "\n",
    "class Human :\n",
    "    def __init__(self, 이름, 나이, 성별) :\n",
    "        self.name = 이름\n",
    "        self.age = 나이\n",
    "        self.sex = 성별\n",
    "\n",
    "areum = Human('아름', 25, '여자') # areum 객체 생성\n",
    "\n",
    "print(areum.name) "
   ]
  },
  {
   "cell_type": "code",
   "execution_count": null,
   "metadata": {
    "colab": {
     "base_uri": "https://localhost:8080/"
    },
    "executionInfo": {
     "elapsed": 242,
     "status": "ok",
     "timestamp": 1651307349558,
     "user": {
      "displayName": "최윤아",
      "userId": "13391811122094852456"
     },
     "user_tz": -540
    },
    "id": "7mwL4jHqk97v",
    "outputId": "a0066e78-4832-4d13-82ae-4d1cd08a8a7e"
   },
   "outputs": [
    {
     "name": "stdout",
     "output_type": "stream",
     "text": [
      "아름 25 여자\n"
     ]
    }
   ],
   "source": [
    "# 256\n",
    "# 255에서 생성한 인스턴스의 이름, 나이, 성별을 출력하세요. \n",
    "# 인스턴스 변수에 접근하여 값을 출력하면 됩니다.\n",
    "\n",
    "class Human :\n",
    "    def __init__(self, name, age, sex) :\n",
    "        self.name = name\n",
    "        self.age = age\n",
    "        self.sex = sex\n",
    "\n",
    "areum = Human('아름', 25, '여자')\n",
    "\n",
    "print(areum.name, areum.age, areum.sex)"
   ]
  },
  {
   "cell_type": "code",
   "execution_count": null,
   "metadata": {
    "colab": {
     "base_uri": "https://localhost:8080/"
    },
    "executionInfo": {
     "elapsed": 275,
     "status": "ok",
     "timestamp": 1651321056514,
     "user": {
      "displayName": "최윤아",
      "userId": "13391811122094852456"
     },
     "user_tz": -540
    },
    "id": "UjjErcyflTQx",
    "outputId": "d84430c0-52aa-4fd0-d190-d9bea1aa8a4e"
   },
   "outputs": [
    {
     "name": "stdout",
     "output_type": "stream",
     "text": [
      "이름: 아름 나이: 25 성별: 여\n",
      "None\n"
     ]
    }
   ],
   "source": [
    "# 257\n",
    "# 사람 (Human) 클래스에서 이름, 나이, 성별을 출력하는 who() 메소드를 추가하세요.\n",
    "\n",
    "class Human :\n",
    "    def __init__(self, name, age, sex) :\n",
    "        self.name = name\n",
    "        self.age = age\n",
    "        self.sex = sex\n",
    "    \n",
    "    def who(self) :\n",
    "        print(f'이름: {self.name} 나이: {self.age} 성별: {self.sex}')\n",
    "\n",
    "areum = Human('아름', 25, '여')\n",
    "\n",
    "print(areum.who())"
   ]
  },
  {
   "cell_type": "code",
   "execution_count": null,
   "metadata": {
    "colab": {
     "base_uri": "https://localhost:8080/"
    },
    "executionInfo": {
     "elapsed": 10,
     "status": "ok",
     "timestamp": 1651319875105,
     "user": {
      "displayName": "최윤아",
      "userId": "13391811122094852456"
     },
     "user_tz": -540
    },
    "id": "unUE0dzHmCB5",
    "outputId": "d1cd62dc-3950-4e5c-d577-dc70ff153c1e"
   },
   "outputs": [
    {
     "name": "stdout",
     "output_type": "stream",
     "text": [
      "('모름', 0, '모름') <class 'tuple'>\n",
      "('아름', 25, '여자') <class 'tuple'>\n"
     ]
    }
   ],
   "source": [
    "# 258\n",
    "# 사람 (Human) 클래스에 (이름, 나이, 성별)을 받는 setInfo 메소드를 추가하세요.\n",
    "\n",
    "class Human :\n",
    "    def __init__(self, name, age, sex) :\n",
    "        self.name = name\n",
    "        self.age = age\n",
    "        self.sex = sex\n",
    "\n",
    "    def who(self) :\n",
    "        print(f'이름: {self.name} 나이: {self.age} 성별: {self.sex}')\n",
    "\n",
    "    def setinfo(self, name, age, sex) :\n",
    "        self.name = name\n",
    "        self.age = age\n",
    "        self.sex = sex\n",
    "\n",
    "areum = Human(\"모름\", 0, \"모름\")\n",
    "print(areum.who(), type(areum.who()))\n",
    "\n",
    "areum.setinfo(\"아름\", 25, \"여자\")\n",
    "print(areum.who(), type(areum.who()))"
   ]
  },
  {
   "cell_type": "code",
   "execution_count": null,
   "metadata": {
    "colab": {
     "base_uri": "https://localhost:8080/"
    },
    "executionInfo": {
     "elapsed": 256,
     "status": "ok",
     "timestamp": 1651319990286,
     "user": {
      "displayName": "최윤아",
      "userId": "13391811122094852456"
     },
     "user_tz": -540
    },
    "id": "wbNPfprEmxKL",
    "outputId": "11d88f88-924b-4ccf-d2da-dae13ab29861"
   },
   "outputs": [
    {
     "name": "stdout",
     "output_type": "stream",
     "text": [
      "('아름', 25, '여')\n",
      "나의 죽음을 알리지마라\n"
     ]
    }
   ],
   "source": [
    "# 259\n",
    "# 사람 (human) 클래스에 \"나의 죽음을 알리지 말라\"를 출력하는 소멸자를 추가하세요.\n",
    "\n",
    "class Human :\n",
    "    def __init__(self, name, age, sex) : # __init__ : 생성자\n",
    "        self.name = name\n",
    "        self.age = age\n",
    "        self.sex = sex\n",
    "\n",
    "    def __del__(self) : # __del__ : 소멸자\n",
    "        print('나의 죽음을 알리지마라')\n",
    "\n",
    "    def who(self) :\n",
    "        print(f'이름: {self.name} 나이: {self.age} 성별: {self.sex}')\n",
    "\n",
    "    def setinfo(self, name, age, sex) :\n",
    "        self.name = name\n",
    "        self.age = age\n",
    "        self.sex = sex\n",
    "\n",
    "areum = Human('아름', 25, '여')\n",
    "print(areum.who())\n",
    "del(areum)"
   ]
  },
  {
   "cell_type": "code",
   "execution_count": null,
   "metadata": {
    "colab": {
     "base_uri": "https://localhost:8080/",
     "height": 211
    },
    "executionInfo": {
     "elapsed": 20,
     "status": "error",
     "timestamp": 1651320129236,
     "user": {
      "displayName": "최윤아",
      "userId": "13391811122094852456"
     },
     "user_tz": -540
    },
    "id": "PryjeJlDVtiv",
    "outputId": "b2a1ddaa-f70f-409d-958f-7dee251e9dfa"
   },
   "outputs": [
    {
     "ename": "TypeError",
     "evalue": "ignored",
     "output_type": "error",
     "traceback": [
      "\u001b[0;31m---------------------------------------------------------------------------\u001b[0m",
      "\u001b[0;31mTypeError\u001b[0m                                 Traceback (most recent call last)",
      "\u001b[0;32m<ipython-input-21-d43eac4e27fd>\u001b[0m in \u001b[0;36m<module>\u001b[0;34m()\u001b[0m\n\u001b[1;32m     15\u001b[0m \u001b[0;34m\u001b[0m\u001b[0m\n\u001b[1;32m     16\u001b[0m \u001b[0mmyStock\u001b[0m \u001b[0;34m=\u001b[0m \u001b[0mOMG\u001b[0m\u001b[0;34m(\u001b[0m\u001b[0;34m)\u001b[0m\u001b[0;34m\u001b[0m\u001b[0;34m\u001b[0m\u001b[0m\n\u001b[0;32m---> 17\u001b[0;31m \u001b[0mmyStock\u001b[0m\u001b[0;34m.\u001b[0m\u001b[0mprint\u001b[0m\u001b[0;34m(\u001b[0m\u001b[0;34m)\u001b[0m\u001b[0;34m\u001b[0m\u001b[0;34m\u001b[0m\u001b[0m\n\u001b[0m",
      "\u001b[0;31mTypeError\u001b[0m: print() takes 0 positional arguments but 1 was given"
     ]
    }
   ],
   "source": [
    "# 260 \n",
    "# 아래와 같은 에러가 발생한 원인에 대해 설명하세요.\n",
    "\n",
    "class OMG : \n",
    "    def print() :\n",
    "        print(\"Oh my god\")\n",
    "\n",
    "# >>> >>> myStock = OMG()\n",
    "# >>> myStock.print()\n",
    "# TypeError Traceback (most recent call last)\n",
    "# <ipython-input-233-c85c04535b22> in <module>()\n",
    "# ----> myStock.print()\n",
    "\n",
    "# TypeError: print() takes 0 positional arguments but 1 was given\n",
    "\n",
    "myStock = OMG()\n",
    "myStock.print() # 파이썬 인터프리터가 자동으로 OMG.print(myStock)로 변환\n",
    "\n",
    "# 정의된 print 함수는 self 매개변수가 없는데, myStock.print()는 OMG.print(myStock)로 myStock을 인자로 받아서 오류 발생"
   ]
  },
  {
   "cell_type": "markdown",
   "metadata": {
    "id": "A5bMqph0Xq1j"
   },
   "source": [
    "# 261~270 파이썬 클래스 2"
   ]
  },
  {
   "cell_type": "code",
   "execution_count": null,
   "metadata": {
    "id": "qJb-W7_rXuoy"
   },
   "outputs": [],
   "source": [
    "# 261\n",
    "# 주식 종목에 대한 정보를 저장하는 Stock 클래스를 정의해보세요. \n",
    "# 클래스는 속성과 메서드를 갖고 있지 않습니다.\n",
    "\n",
    "class Stock :\n",
    "    pass"
   ]
  },
  {
   "cell_type": "code",
   "execution_count": null,
   "metadata": {
    "colab": {
     "base_uri": "https://localhost:8080/"
    },
    "executionInfo": {
     "elapsed": 7,
     "status": "ok",
     "timestamp": 1651320668957,
     "user": {
      "displayName": "최윤아",
      "userId": "13391811122094852456"
     },
     "user_tz": -540
    },
    "id": "azSXl1JRYBxj",
    "outputId": "70fd99f0-2e14-4b23-dc6a-fff26cbb39ce"
   },
   "outputs": [
    {
     "name": "stdout",
     "output_type": "stream",
     "text": [
      "삼성전자\n",
      "005930\n"
     ]
    }
   ],
   "source": [
    "# 262\n",
    "# Stock 클래스의 객체가 생성될 때 종목명과 종목코드를 입력 받을 수 있도록 생성자를 정의해보세요.\n",
    "\n",
    "class Stock :\n",
    "    def __init__(self, name, code) :\n",
    "        self.name = name\n",
    "        self.code = code\n",
    "\n",
    "삼성 = Stock(\"삼성전자\", \"005930\")\n",
    "\n",
    "print(삼성.name)\n",
    "print(삼성.code)"
   ]
  },
  {
   "cell_type": "code",
   "execution_count": null,
   "metadata": {
    "colab": {
     "base_uri": "https://localhost:8080/"
    },
    "executionInfo": {
     "elapsed": 9,
     "status": "ok",
     "timestamp": 1651320865760,
     "user": {
      "displayName": "최윤아",
      "userId": "13391811122094852456"
     },
     "user_tz": -540
    },
    "id": "_TSo1NZfYS2T",
    "outputId": "191d3ae0-f6ef-4788-c240-b3c8490f7814"
   },
   "outputs": [
    {
     "name": "stdout",
     "output_type": "stream",
     "text": [
      "삼성전자\n"
     ]
    }
   ],
   "source": [
    "# 263\n",
    "# 객체에 종목명을 입력할 수 있는 set_name 메서드를 추가해보세요.\n",
    "\n",
    "class Stock :\n",
    "    def __init__(self, name, code) :\n",
    "        self.name = name\n",
    "        self.code = code\n",
    "    \n",
    "    def set_name(self, name) :\n",
    "        self.name = name\n",
    "\n",
    "a = Stock(None, None)\n",
    "a.set_name('삼성전자')\n",
    "print(a.name)"
   ]
  },
  {
   "cell_type": "code",
   "execution_count": null,
   "metadata": {
    "colab": {
     "base_uri": "https://localhost:8080/"
    },
    "executionInfo": {
     "elapsed": 4,
     "status": "ok",
     "timestamp": 1651320943870,
     "user": {
      "displayName": "최윤아",
      "userId": "13391811122094852456"
     },
     "user_tz": -540
    },
    "id": "B0sfzSG0YoAM",
    "outputId": "2048fed9-fc31-41bb-cc77-bbeb2ffd7bac"
   },
   "outputs": [
    {
     "name": "stdout",
     "output_type": "stream",
     "text": [
      "005930\n"
     ]
    }
   ],
   "source": [
    "# 264\n",
    "# 객체에 종목코드를 입력할 수 있는 set_code 메서드를 추가해보세요.\n",
    "\n",
    "class Stock :\n",
    "    def __init__(self, name, code) :\n",
    "        self.name = name\n",
    "        self.code = code\n",
    "    \n",
    "    def set_name(self, name) :\n",
    "        self.name = name\n",
    "\n",
    "    def set_code(self, code) :\n",
    "        self.code = code\n",
    "\n",
    "my = Stock(None, None)\n",
    "my.set_code('005930')\n",
    "print(my.code)"
   ]
  },
  {
   "cell_type": "code",
   "execution_count": null,
   "metadata": {
    "colab": {
     "base_uri": "https://localhost:8080/"
    },
    "executionInfo": {
     "elapsed": 6,
     "status": "ok",
     "timestamp": 1651321272606,
     "user": {
      "displayName": "최윤아",
      "userId": "13391811122094852456"
     },
     "user_tz": -540
    },
    "id": "yfcpZtENZfHw",
    "outputId": "2c479f39-7110-4e8c-a2cd-0531961ac94b"
   },
   "outputs": [
    {
     "name": "stdout",
     "output_type": "stream",
     "text": [
      "삼성전자\n",
      "005930\n"
     ]
    }
   ],
   "source": [
    "# 265\n",
    "# 종목명과 종목코드를 리턴하는 get_name, get_code 메서드를 추가하세요. \n",
    "# 해당 메서드를 사용하여 종목명과 종목코드를 얻고 이를 출력해보세요.\n",
    "\n",
    "class Stock :\n",
    "    def __init__(self, name, code) :\n",
    "        self.name = name\n",
    "        self.code = code\n",
    "    \n",
    "    def set_name(self, name) :\n",
    "        self.name = name\n",
    "\n",
    "    def set_code(self, code) :\n",
    "        self.code = code\n",
    "\n",
    "    def get_name(self) :\n",
    "        return self.name \n",
    "\n",
    "    def get_code(self) :\n",
    "        return self.code\n",
    "\n",
    "my = Stock('삼성전자', '005930')\n",
    "print(my.get_name())\n",
    "print(my.get_code())"
   ]
  },
  {
   "cell_type": "code",
   "execution_count": null,
   "metadata": {
    "id": "mu4uipZpaXRY"
   },
   "outputs": [],
   "source": [
    "# 266\n",
    "# 생성자에서 종목명, 종목코드, PER, PBR, 배당수익률을 입력 받을 수 있도록 생성자를 수정하세요. \n",
    "# PER, PBR, 배당수익률은 float 타입입니다.\n",
    "\n",
    "class Stock :\n",
    "    def __init__(self, name, code, per, pbr, 배당수익률) :\n",
    "        self.name = name\n",
    "        self.code = code\n",
    "        self.per = per\n",
    "        self.pbr = pbr\n",
    "        self.배당수익률 = 배당수익률\n",
    "    \n",
    "    def set_name(self, name) :\n",
    "        self.name = name\n",
    "\n",
    "    def set_code(self, code) :\n",
    "        self.code = code\n",
    "\n",
    "    def get_name(self) :\n",
    "        return self.name \n",
    "\n",
    "    def get_code(self) :\n",
    "        return self.code"
   ]
  },
  {
   "cell_type": "code",
   "execution_count": null,
   "metadata": {
    "colab": {
     "base_uri": "https://localhost:8080/"
    },
    "executionInfo": {
     "elapsed": 6,
     "status": "ok",
     "timestamp": 1651321489525,
     "user": {
      "displayName": "최윤아",
      "userId": "13391811122094852456"
     },
     "user_tz": -540
    },
    "id": "6Auw8fIXbDsu",
    "outputId": "8d552957-a6bb-4c07-eac9-b3e219332de3"
   },
   "outputs": [
    {
     "name": "stdout",
     "output_type": "stream",
     "text": [
      "삼성전자 005930 15.79 1.33 2.83\n"
     ]
    }
   ],
   "source": [
    "# 267\n",
    "# 266번에서 정의한 생성자를 통해 다음 정보를 갖는 객체를 생성해보세요.\n",
    "\n",
    "\n",
    "# 항목\t정보\n",
    "# 종목명\t삼성전자\n",
    "# 종목코드\t005930\n",
    "# PER\t15.79\n",
    "# PBR\t1.33\n",
    "# 배당수익률\t2.83\n",
    "\n",
    "class Stock :\n",
    "    def __init__(self, name, code, per, pbr, 배당수익률) :\n",
    "        self.name = name\n",
    "        self.code = code\n",
    "        self.per = per\n",
    "        self.pbr = pbr\n",
    "        self.배당수익률 = 배당수익률\n",
    "    \n",
    "    def set_name(self, name) :\n",
    "        self.name = name\n",
    "\n",
    "    def set_code(self, code) :\n",
    "        self.code = code\n",
    "\n",
    "    def get_name(self) :\n",
    "        return self.name \n",
    "\n",
    "    def get_code(self) :\n",
    "        return self.code\n",
    "\n",
    "my = Stock('삼성전자', '005930', 15.79, 1.33, 2.83)\n",
    "print(my.name, my.code, my.per, my.pbr, my.배당수익률)"
   ]
  },
  {
   "cell_type": "code",
   "execution_count": null,
   "metadata": {
    "id": "EytJ3sfZbkQM"
   },
   "outputs": [],
   "source": [
    "# 268\n",
    "# PER, PBR, 배당수익률은 변경될 수 있는 값입니다. \n",
    "# 이 값을 변경할 때 사용하는 set_per, set_pbr, set_dividend 메서드를 추가하세요.\n",
    "\n",
    "class Stock :\n",
    "    def __init__(self, name, code, per, pbr, 배당수익률) :\n",
    "        self.name = name\n",
    "        self.code = code\n",
    "        self.per = per\n",
    "        self.pbr = pbr\n",
    "        self.배당수익률 = 배당수익률\n",
    "    \n",
    "    def set_name(self, name) :\n",
    "        self.name = name\n",
    "\n",
    "    def set_code(self, code) :\n",
    "        self.code = code\n",
    "\n",
    "    def get_name(self) :\n",
    "        return self.name \n",
    "\n",
    "    def get_code(self) :\n",
    "        return self.code\n",
    "\n",
    "    def set_per(self, per) :\n",
    "        self.per = per\n",
    "\n",
    "    def set_pbr(self, pbr) :\n",
    "        self.pbr = pbr\n",
    "\n",
    "    def set_dicidend(self, 배당수익률) :\n",
    "        self.dicidend = 배당수익률\n"
   ]
  },
  {
   "cell_type": "code",
   "execution_count": null,
   "metadata": {
    "colab": {
     "base_uri": "https://localhost:8080/"
    },
    "executionInfo": {
     "elapsed": 8,
     "status": "ok",
     "timestamp": 1651321746385,
     "user": {
      "displayName": "최윤아",
      "userId": "13391811122094852456"
     },
     "user_tz": -540
    },
    "id": "R8K6stK0cCLg",
    "outputId": "edf69a83-c37f-4279-d891-d3c27d5abe61"
   },
   "outputs": [
    {
     "name": "stdout",
     "output_type": "stream",
     "text": [
      "12.75\n"
     ]
    }
   ],
   "source": [
    "# 269\n",
    "# 267번에서 생성한 객체에 set_per 메서드를 호출하여 per 값을 12.75로 수정해보세요.\n",
    "\n",
    "class Stock :\n",
    "    def __init__(self, name, code, per, pbr, 배당수익률) :\n",
    "        self.name = name\n",
    "        self.code = code\n",
    "        self.per = per\n",
    "        self.pbr = pbr\n",
    "        self.배당수익률 = 배당수익률\n",
    "    \n",
    "    def set_name(self, name) :\n",
    "        self.name = name\n",
    "\n",
    "    def set_code(self, code) :\n",
    "        self.code = code\n",
    "\n",
    "    def get_name(self) :\n",
    "        return self.name \n",
    "\n",
    "    def get_code(self) :\n",
    "        return self.code\n",
    "\n",
    "    def set_per(self, per) :\n",
    "        self.per = per\n",
    "\n",
    "    def set_pbr(self, pbr) :\n",
    "        self.pbr = pbr\n",
    "\n",
    "    def set_dicidend(self, 배당수익률) :\n",
    "        self.dicidend = 배당수익률\n",
    "\n",
    "\n",
    "my = Stock('삼성전자', '005930', 15.79, 1.33, 2.83)\n",
    "my.set_per('12.75')\n",
    "print(my.per)"
   ]
  },
  {
   "cell_type": "code",
   "execution_count": null,
   "metadata": {
    "colab": {
     "base_uri": "https://localhost:8080/"
    },
    "executionInfo": {
     "elapsed": 5,
     "status": "ok",
     "timestamp": 1651322234642,
     "user": {
      "displayName": "최윤아",
      "userId": "13391811122094852456"
     },
     "user_tz": -540
    },
    "id": "2DlH70DBcVFv",
    "outputId": "b2850d82-8d36-4593-f243-2afebf6e23da"
   },
   "outputs": [
    {
     "name": "stdout",
     "output_type": "stream",
     "text": [
      "종목코드: 005930\n",
      "PER:  15.79\n",
      "\n",
      "종목코드: 005380\n",
      "PER:  8.7\n",
      "\n",
      "종목코드: 066570\n",
      "PER:  317.34\n",
      "\n",
      "005930 15.79\n",
      "005380 8.7\n",
      "066570 317.34\n"
     ]
    }
   ],
   "source": [
    "# 270\n",
    "# 아래의 표를 참조하여 3종목에 대해 객체를 생성하고 이를 파이썬 리스트에 저장하세요. \n",
    "# 파이썬 리스트에 저장된 각 종목에 대해 for 루프를 통해 종목코드와 PER을 출력해보세요.\n",
    "\n",
    "# 종목명\t종목코드\tPER\tPBR\t배당수익률\n",
    "# 삼성전자\t005930\t15.79\t1.33\t2.83\n",
    "# 현대차\t005380\t8.70\t0.35\t4.27\n",
    "# LG전자\t066570\t317.34\t0.69\t1.37\n",
    "\n",
    "class Stock :\n",
    "    def __init__(self, name, code, per, pbr, 배당수익률) :\n",
    "        self.name = name\n",
    "        self.code = code\n",
    "        self.per = per\n",
    "        self.pbr = pbr\n",
    "        self.배당수익률 = 배당수익률\n",
    "    \n",
    "    def set_name(self, name) :\n",
    "        self.name = name\n",
    "\n",
    "    def set_code(self, code) :\n",
    "        self.code = code\n",
    "\n",
    "    def get_name(self) :\n",
    "        return self.name \n",
    "\n",
    "    def get_code(self) :\n",
    "        return self.code\n",
    "\n",
    "    def get_per(self) :\n",
    "        return self.per\n",
    "\n",
    "    def set_per(self, per) :\n",
    "        self.per = per\n",
    "\n",
    "    def set_pbr(self, pbr) :\n",
    "        self.pbr = pbr\n",
    "\n",
    "    def set_dicidend(self, 배당수익률) :\n",
    "        self.dicidend = 배당수익률\n",
    "\n",
    "\n",
    "삼성 = Stock('삼성전자', '005930', 15.79, 1.33, 2.83)\n",
    "현대 = Stock('현대차', '005380', 8.70, 0.35, 4.27)\n",
    "LG = Stock('LG전자', '066570', 317.34, 0.69, 1.37)\n",
    "\n",
    "my_list = [삼성, 현대, LG]\n",
    "\n",
    "for i in my_list :\n",
    "    print('종목코드:',i.get_code())\n",
    "    print('PER: ',i.get_per())\n",
    "    print('')\n",
    "\n",
    "# 정답코드\n",
    "\n",
    "종목 = []\n",
    "\n",
    "삼성 = Stock('삼성전자', '005930', 15.79, 1.33, 2.83)\n",
    "현대 = Stock('현대차', '005380', 8.70, 0.35, 4.27)\n",
    "LG = Stock('LG전자', '066570', 317.34, 0.69, 1.37)\n",
    "\n",
    "종목.append(삼성)\n",
    "종목.append(현대)\n",
    "종목.append(LG)\n",
    "\n",
    "for i in 종목 :\n",
    "    print(i.code, i.per)\n"
   ]
  },
  {
   "cell_type": "markdown",
   "metadata": {
    "id": "MV00EWSsedmy"
   },
   "source": [
    "# 271~280 파이썬 클래스 3\n"
   ]
  },
  {
   "cell_type": "code",
   "execution_count": null,
   "metadata": {
    "colab": {
     "base_uri": "https://localhost:8080/"
    },
    "executionInfo": {
     "elapsed": 245,
     "status": "ok",
     "timestamp": 1651322915326,
     "user": {
      "displayName": "최윤아",
      "userId": "13391811122094852456"
     },
     "user_tz": -540
    },
    "id": "xXwkcPe8eno6",
    "outputId": "bd9c5a2d-7f28-4b3e-e3f0-fffe948cb0ec"
   },
   "outputs": [
    {
     "name": "stdout",
     "output_type": "stream",
     "text": [
      "최윤아\n",
      "10000\n",
      "SC은행\n",
      "278-32-151759\n"
     ]
    }
   ],
   "source": [
    "# 271\n",
    "# 은행에 가서 계좌를 개설하면 은행이름, 예금주, 계좌번호, 잔액이 설정됩니다. \n",
    "# Account 클래스를 생성한 후 생성자를 구현해보세요. \n",
    "# 생성자에서는 예금주와 초기 잔액만 입력 받습니다. --> 파라미터 self 포함 3개만 존재\n",
    "# 은행이름은 SC은행으로 계좌번호는 3자리-2자리-6자리 형태로 랜덤하게 생성됩니다.\n",
    "\n",
    "import random\n",
    "\n",
    "class Account :\n",
    "    def __init__(self, name, balance) :\n",
    "        self.name = name\n",
    "        self.balance = balance\n",
    "        self.bank = 'SC은행'\n",
    "\n",
    "        num1 = random.randint(0, 999)\n",
    "        num2 = random.randint(0, 99)\n",
    "        num3 = random.randint(0, 999999)\n",
    "\n",
    "        num1 = str(num1).zfill(3)\n",
    "        num2 = str(num2).zfill(2)\n",
    "        num3 = str(num3).zfill(6)\n",
    "        \n",
    "        self.account_num = num1 + '-' + num2 + '-' + num3 \n",
    "\n",
    "my = Account('최윤아', '10000')\n",
    "\n",
    "print(my.name)\n",
    "print(my.balance)\n",
    "print(my.bank)\n",
    "print(my.account_num)"
   ]
  },
  {
   "cell_type": "code",
   "execution_count": null,
   "metadata": {
    "colab": {
     "base_uri": "https://localhost:8080/"
    },
    "executionInfo": {
     "elapsed": 265,
     "status": "ok",
     "timestamp": 1651322675471,
     "user": {
      "displayName": "최윤아",
      "userId": "13391811122094852456"
     },
     "user_tz": -540
    },
    "id": "-FTrGsdsf4nw",
    "outputId": "46eb2996-b7a2-4ff7-b61c-125bf1caf387"
   },
   "outputs": [
    {
     "name": "stdout",
     "output_type": "stream",
     "text": [
      "0000000050\n"
     ]
    }
   ],
   "source": [
    "# string zfill method 코드예제\n",
    "\n",
    "txt = \"50\"\n",
    "\n",
    "x = txt.zfill(10)\n",
    "\n",
    "print(x)\n",
    "\n",
    "# string zfill method : Fill the string with zeros until it is 10 characters long"
   ]
  },
  {
   "cell_type": "code",
   "execution_count": null,
   "metadata": {
    "colab": {
     "base_uri": "https://localhost:8080/"
    },
    "executionInfo": {
     "elapsed": 246,
     "status": "ok",
     "timestamp": 1651323112654,
     "user": {
      "displayName": "최윤아",
      "userId": "13391811122094852456"
     },
     "user_tz": -540
    },
    "id": "n3fk8KOzf5MC",
    "outputId": "cbaab683-9451-431b-fbbf-417935f2e9d3"
   },
   "outputs": [
    {
     "name": "stdout",
     "output_type": "stream",
     "text": [
      "1\n",
      "2\n"
     ]
    }
   ],
   "source": [
    "# 272\n",
    "# 클래스 변수를 사용해서 Account 클래스로부터 생성된 계좌 객체의 개수를 저장하세요.\n",
    "# 클래스 변수 --> 클래스 내에 선언된 변수\n",
    "\n",
    "import random\n",
    "\n",
    "class Account :\n",
    "\n",
    "    account_count = 0\n",
    "\n",
    "    def __init__(self, name, balance) :\n",
    "        self.name = name\n",
    "        self.balance = balance\n",
    "        self.bank = 'SC은행'\n",
    "\n",
    "        num1 = random.randint(0, 999)\n",
    "        num2 = random.randint(0, 99)\n",
    "        num3 = random.randint(0, 999999)\n",
    "\n",
    "        num1 = str(num1).zfill(3)\n",
    "        num2 = str(num2).zfill(2)\n",
    "        num3 = str(num3).zfill(6)\n",
    "        \n",
    "        self.account_num = num1 + '-' + num2 + '-' + num3 \n",
    "\n",
    "        Account.account_count += 1\n",
    "\n",
    "my1 = Account(\"최윤아\", 10000)\n",
    "print(Account.account_count)\n",
    "my2 = Account(\"최윤어\", 20000)\n",
    "print(Account.account_count)"
   ]
  },
  {
   "cell_type": "code",
   "execution_count": null,
   "metadata": {
    "colab": {
     "base_uri": "https://localhost:8080/"
    },
    "executionInfo": {
     "elapsed": 261,
     "status": "ok",
     "timestamp": 1651323273474,
     "user": {
      "displayName": "최윤아",
      "userId": "13391811122094852456"
     },
     "user_tz": -540
    },
    "id": "lancSUiOhvna",
    "outputId": "d64eccce-979f-4bef-d8c7-09e6f37a699c"
   },
   "outputs": [
    {
     "name": "stdout",
     "output_type": "stream",
     "text": [
      "2\n"
     ]
    }
   ],
   "source": [
    "# 273\n",
    "# Account 클래스로부터 생성된 계좌의 개수를 출력하는 get_account_num() 메서드를 추가하세요.\n",
    "\n",
    "import random\n",
    "\n",
    "class Account :\n",
    "\n",
    "    account_count = 0\n",
    "\n",
    "    def __init__(self, name, balance) :\n",
    "        self.name = name\n",
    "        self.balance = balance\n",
    "        self.bank = 'SC은행'\n",
    "\n",
    "        num1 = random.randint(0, 999)\n",
    "        num2 = random.randint(0, 99)\n",
    "        num3 = random.randint(0, 999999)\n",
    "\n",
    "        num1 = str(num1).zfill(3)\n",
    "        num2 = str(num2).zfill(2)\n",
    "        num3 = str(num3).zfill(6)\n",
    "        \n",
    "        self.account_num = num1 + '-' + num2 + '-' + num3 \n",
    "\n",
    "        Account.account_count += 1\n",
    "\n",
    "    def get_account_num(self) :\n",
    "        print(self.account_count)\n",
    "\n",
    "\n",
    "kim = Account(\"최윤아\", 10000)\n",
    "lee = Account(\"최윤어\", 20000)\n",
    "kim.get_account_num()"
   ]
  },
  {
   "cell_type": "code",
   "execution_count": null,
   "metadata": {
    "id": "T-6dqV9aiQO7"
   },
   "outputs": [],
   "source": [
    "# 274\n",
    "# Account 클래스에 입금을 위한 deposit 메서드를 추가하세요. 입금은 최소 1원 이상만 가능합니다.\n",
    "\n",
    "import random\n",
    "\n",
    "class Account :\n",
    "\n",
    "    account_count = 0\n",
    "\n",
    "    def __init__(self, name, balance) :\n",
    "        self.name = name\n",
    "        self.balance = balance\n",
    "        self.bank = 'SC은행'\n",
    "\n",
    "        num1 = random.randint(0, 999)\n",
    "        num2 = random.randint(0, 99)\n",
    "        num3 = random.randint(0, 999999)\n",
    "\n",
    "        num1 = str(num1).zfill(3)\n",
    "        num2 = str(num2).zfill(2)\n",
    "        num3 = str(num3).zfill(6)\n",
    "        \n",
    "        self.account_num = num1 + '-' + num2 + '-' + num3 \n",
    "\n",
    "        Account.account_count += 1\n",
    "\n",
    "    def get_account_num(self) :\n",
    "        print(self.account_count)\n",
    "\n",
    "    def deposit(self, amount) :\n",
    "        if int(amount) >= 1:\n",
    "            self.balance += amount\n",
    "\n",
    "\n"
   ]
  },
  {
   "cell_type": "code",
   "execution_count": null,
   "metadata": {
    "colab": {
     "base_uri": "https://localhost:8080/"
    },
    "executionInfo": {
     "elapsed": 11,
     "status": "ok",
     "timestamp": 1651323746396,
     "user": {
      "displayName": "최윤아",
      "userId": "13391811122094852456"
     },
     "user_tz": -540
    },
    "id": "JgcWWBxOizAG",
    "outputId": "1fb2a9c1-9527-4586-aa77-6db7b68cfeca"
   },
   "outputs": [
    {
     "name": "stdout",
     "output_type": "stream",
     "text": [
      "10000\n"
     ]
    }
   ],
   "source": [
    "# 275\n",
    "# Account 클래스에 출금을 위한 withdraw 메서드를 추가하세요. 출금은 계좌의 잔고 이상으로 출금할 수는 없습니다.\n",
    "\n",
    "\n",
    "import random\n",
    "\n",
    "class Account :\n",
    "\n",
    "    account_count = 0\n",
    "\n",
    "    def __init__(self, name, balance) :\n",
    "        self.name = name\n",
    "        self.balance = balance\n",
    "        self.bank = 'SC은행'\n",
    "\n",
    "        num1 = random.randint(0, 999)\n",
    "        num2 = random.randint(0, 99)\n",
    "        num3 = random.randint(0, 999999)\n",
    "\n",
    "        num1 = str(num1).zfill(3)\n",
    "        num2 = str(num2).zfill(2)\n",
    "        num3 = str(num3).zfill(6)\n",
    "        \n",
    "        self.account_num = num1 + '-' + num2 + '-' + num3 \n",
    "\n",
    "        Account.account_count += 1\n",
    "\n",
    "    def get_account_num(self) :\n",
    "        print(self.account_count)\n",
    "\n",
    "    def deposit(self, amount) :\n",
    "        if int(amount) >= 1:\n",
    "            self.balance += amount\n",
    "\n",
    "    def withdraw(self, amount) :\n",
    "        if int(self.balance) > int(amount):\n",
    "            self.balance -= amount\n",
    "\n",
    "a = Account('최윤아', 20000)\n",
    "a.deposit(5000)\n",
    "a.withdraw(15000)\n",
    "print(a.balance)"
   ]
  },
  {
   "cell_type": "code",
   "execution_count": null,
   "metadata": {
    "colab": {
     "base_uri": "https://localhost:8080/"
    },
    "executionInfo": {
     "elapsed": 8,
     "status": "ok",
     "timestamp": 1651323986121,
     "user": {
      "displayName": "최윤아",
      "userId": "13391811122094852456"
     },
     "user_tz": -540
    },
    "id": "iL980Km1jUnf",
    "outputId": "28fc9d2a-e987-40d1-c1ef-19bf82af4342"
   },
   "outputs": [
    {
     "name": "stdout",
     "output_type": "stream",
     "text": [
      "최윤아\n",
      "50000\n",
      "SC은행\n",
      "329-23-616925\n",
      "\n",
      "은행이름:  SC은행\n",
      "예금주:  최윤아\n",
      "계좌번호:  329-23-616925\n",
      "잔고:  50000\n"
     ]
    }
   ],
   "source": [
    "# 276\n",
    "# Account 인스턴스에 저장된 정보를 출력하는 display_info() 메서드를 추가하세요. \n",
    "# 잔고는 세자리마다 쉼표를 출력하세요.\n",
    "\n",
    "# 은행이름: SC은행\n",
    "# 예금주: 파이썬\n",
    "# 계좌번호: 111-11-111111\n",
    "# 잔고: 10,000원\n",
    "\n",
    "import random\n",
    "\n",
    "class Account :\n",
    "\n",
    "    account_count = 0\n",
    "\n",
    "    def __init__(self, name, balance) :\n",
    "        self.name = name\n",
    "        self.balance = balance\n",
    "        self.bank = 'SC은행'\n",
    "\n",
    "        num1 = random.randint(0, 999)\n",
    "        num2 = random.randint(0, 99)\n",
    "        num3 = random.randint(0, 999999)\n",
    "\n",
    "        num1 = str(num1).zfill(3)\n",
    "        num2 = str(num2).zfill(2)\n",
    "        num3 = str(num3).zfill(6)\n",
    "        \n",
    "        self.account_num = num1 + '-' + num2 + '-' + num3 \n",
    "\n",
    "        Account.account_count += 1\n",
    "\n",
    "    def get_account_num(self) :\n",
    "        print(self.account_count)\n",
    "\n",
    "    def deposit(self, amount) :\n",
    "        if int(amount) >= 1:\n",
    "            self.balance += amount\n",
    "\n",
    "    def withdraw(self, amount) :\n",
    "        if int(self.balance) > int(amount):\n",
    "            self.balance -= amount\n",
    "\n",
    "    def display_info(self) :\n",
    "        print('은행이름: ', self.bank)\n",
    "        print('예금주: ', self.name)\n",
    "        print('계좌번호: ',self.account_num)\n",
    "        print('잔고: ',self.balance)\n",
    "\n",
    "\n",
    "my = Account('최윤아', 50000)\n",
    "print(my.name)\n",
    "print(my.balance)\n",
    "print(my.bank)\n",
    "print(my.account_num)\n",
    "print('')\n",
    "my.display_info()"
   ]
  },
  {
   "cell_type": "code",
   "execution_count": null,
   "metadata": {
    "colab": {
     "base_uri": "https://localhost:8080/"
    },
    "executionInfo": {
     "elapsed": 6,
     "status": "ok",
     "timestamp": 1651324406063,
     "user": {
      "displayName": "최윤아",
      "userId": "13391811122094852456"
     },
     "user_tz": -540
    },
    "id": "3kXSRMilk2jo",
    "outputId": "ac560b5d-2cc9-489a-b90d-500e889ae993"
   },
   "outputs": [
    {
     "name": "stdout",
     "output_type": "stream",
     "text": [
      "50500.0\n"
     ]
    }
   ],
   "source": [
    "# 277\n",
    "# 입금 횟수가 5회가 될 때 잔고를 기준으로 1%의 이자가 잔고에 추가되도록 코드를 변경해보세요.\n",
    "\n",
    "import random\n",
    "\n",
    "class Account :\n",
    "\n",
    "    account_count = 0\n",
    "\n",
    "    def __init__(self, name, balance) :\n",
    "        self.name = name\n",
    "        self.balance = balance\n",
    "        self.bank = 'SC은행'\n",
    "\n",
    "        num1 = random.randint(0, 999)\n",
    "        num2 = random.randint(0, 99)\n",
    "        num3 = random.randint(0, 999999)\n",
    "\n",
    "        num1 = str(num1).zfill(3)\n",
    "        num2 = str(num2).zfill(2)\n",
    "        num3 = str(num3).zfill(6)\n",
    "        \n",
    "        self.account_num = num1 + '-' + num2 + '-' + num3 \n",
    "\n",
    "        Account.account_count += 1\n",
    "        self.deposit_count = 0\n",
    "\n",
    "    def get_account_num(self) :\n",
    "        print(self.account_count)\n",
    "\n",
    "    def deposit(self, amount) :\n",
    "        if int(amount) >= 1:\n",
    "            self.balance += amount\n",
    "\n",
    "            self.deposit_count += 1\n",
    "            if self.deposit_count % 5 == 0 :\n",
    "                self.balance = (self.balance * 1.01)\n",
    "\n",
    "    def withdraw(self, amount) :\n",
    "        if int(self.balance) > int(amount):\n",
    "            self.balance -= amount\n",
    "\n",
    "    def display_info(self) :\n",
    "        print('은행이름: ', self.bank)\n",
    "        print('예금주: ', self.name)\n",
    "        print('계좌번호: ',self.account_num)\n",
    "        print('잔고: ',self.balance)\n",
    "\n",
    "p = Account('최윤아', 10000)\n",
    "p.deposit(10000)\n",
    "p.deposit(10000)\n",
    "p.deposit(10000)\n",
    "p.deposit(5000)\n",
    "p.deposit(5000)\n",
    "print(p.balance)"
   ]
  },
  {
   "cell_type": "code",
   "execution_count": null,
   "metadata": {
    "colab": {
     "base_uri": "https://localhost:8080/"
    },
    "executionInfo": {
     "elapsed": 3,
     "status": "ok",
     "timestamp": 1651324717087,
     "user": {
      "displayName": "최윤아",
      "userId": "13391811122094852456"
     },
     "user_tz": -540
    },
    "id": "MzLWB2semWCI",
    "outputId": "8027ab1d-8bdd-48fa-9ddd-09f20af9fbdc"
   },
   "outputs": [
    {
     "name": "stdout",
     "output_type": "stream",
     "text": [
      "[<__main__.Account object at 0x7f7663208990>, <__main__.Account object at 0x7f7663208dd0>, <__main__.Account object at 0x7f76631d4950>]\n"
     ]
    }
   ],
   "source": [
    "# 278\n",
    "# Account 클래스로부터 3개 이상 인스턴스를 생성하고 생성된 인스턴스를 리스트에 저장해보세요.\n",
    "\n",
    "my_account = [] \n",
    "\n",
    "a = Account('짱구', 900000)\n",
    "b = Account('짱아', 2000000)\n",
    "c = Account('흰둥이', 3000000)\n",
    "\n",
    "my_account.append(a)\n",
    "my_account.append(b)\n",
    "my_account.append(c)\n",
    "\n",
    "print(my_account)"
   ]
  },
  {
   "cell_type": "code",
   "execution_count": null,
   "metadata": {
    "colab": {
     "base_uri": "https://localhost:8080/"
    },
    "executionInfo": {
     "elapsed": 6,
     "status": "ok",
     "timestamp": 1651324735426,
     "user": {
      "displayName": "최윤아",
      "userId": "13391811122094852456"
     },
     "user_tz": -540
    },
    "id": "UDEfvKv9nPR3",
    "outputId": "3079718a-8d3b-4fde-d5b7-6ad416e8f876"
   },
   "outputs": [
    {
     "name": "stdout",
     "output_type": "stream",
     "text": [
      "은행이름:  SC은행\n",
      "예금주:  짱아\n",
      "계좌번호:  056-26-712954\n",
      "잔고:  2000000\n",
      "None\n",
      "은행이름:  SC은행\n",
      "예금주:  흰둥이\n",
      "계좌번호:  120-96-568474\n",
      "잔고:  3000000\n",
      "None\n"
     ]
    }
   ],
   "source": [
    "# 279\n",
    "# 반복문을 통해 리스트에 있는 객체를 순회하면서 잔고가 100만원 이상인 고객의 정보만 출력하세요.\n",
    "\n",
    "for i in my_account :\n",
    "    if i.balance >= 1000000 :\n",
    "        print(i.display_info())"
   ]
  },
  {
   "cell_type": "code",
   "execution_count": null,
   "metadata": {
    "colab": {
     "base_uri": "https://localhost:8080/"
    },
    "executionInfo": {
     "elapsed": 398,
     "status": "ok",
     "timestamp": 1651325286081,
     "user": {
      "displayName": "최윤아",
      "userId": "13391811122094852456"
     },
     "user_tz": -540
    },
    "id": "sqOnrryHnzT_",
    "outputId": "26eebeca-f46d-410c-d377-b97340bf2d27"
   },
   "outputs": [
    {
     "name": "stdout",
     "output_type": "stream",
     "text": [
      "100\n",
      "200\n",
      "300\n",
      "\n",
      "100\n",
      "200\n"
     ]
    }
   ],
   "source": [
    "# 280\n",
    "# 입금과 출금 내역이 기록되도록 코드를 업데이트 하세요. \n",
    "# 입금 내역과 출금 내역을 출력하는 deposit_history와 withdraw_history 메서드를 추가하세요.\n",
    "\n",
    "import random\n",
    "\n",
    "class Account :\n",
    "\n",
    "    account_count = 0\n",
    "\n",
    "    def __init__(self, name, balance) :\n",
    "        self.name = name\n",
    "        self.balance = balance\n",
    "        self.bank = 'SC은행'\n",
    "\n",
    "        num1 = random.randint(0, 999)\n",
    "        num2 = random.randint(0, 99)\n",
    "        num3 = random.randint(0, 999999)\n",
    "\n",
    "        num1 = str(num1).zfill(3)\n",
    "        num2 = str(num2).zfill(2)\n",
    "        num3 = str(num3).zfill(6)\n",
    "        \n",
    "        self.account_num = num1 + '-' + num2 + '-' + num3 \n",
    "\n",
    "        Account.account_count += 1\n",
    "        self.deposit_count = 0\n",
    "        self.deposit_log = []\n",
    "        self.withdraw_log = []\n",
    "\n",
    "\n",
    "    def get_account_num(self) :\n",
    "        print(self.account_count)\n",
    "\n",
    "    def deposit(self, amount) :\n",
    "        if int(amount) >= 1:\n",
    "            self.deposit_log.append(amount)\n",
    "            self.balance += amount\n",
    "\n",
    "            self.deposit_count += 1\n",
    "            if self.deposit_count % 5 == 0 :\n",
    "                self.balance = (self.balance * 1.01)\n",
    "\n",
    "    def withdraw(self, amount) :\n",
    "        if int(self.balance) > int(amount):\n",
    "            self.withdraw_log.append(amount)\n",
    "            self.balance -= amount\n",
    "\n",
    "    def display_info(self) :\n",
    "        print('은행이름: ', self.bank)\n",
    "        print('예금주: ', self.name)\n",
    "        print('계좌번호: ',self.account_num)\n",
    "        print('잔고: ',self.balance)\n",
    "\n",
    "\n",
    "    def deposit_history(self) :\n",
    "        for i in self.deposit_log :\n",
    "            print(i)\n",
    "\n",
    "    def withdraw_history(self) :\n",
    "        for j in self.withdraw_log :\n",
    "            print(j)\n",
    "\n",
    "\n",
    "k = Account(\"Kim\", 1000)\n",
    "k.deposit(100)\n",
    "k.deposit(200)\n",
    "k.deposit(300)\n",
    "k.deposit_history()\n",
    "print('')\n",
    "k.withdraw(100)\n",
    "k.withdraw(200)\n",
    "k.withdraw_history()"
   ]
  },
  {
   "cell_type": "markdown",
   "metadata": {
    "id": "vEKUqylhqHMN"
   },
   "source": [
    "# 281~290 파이썬 클래스 4"
   ]
  },
  {
   "cell_type": "code",
   "execution_count": null,
   "metadata": {
    "colab": {
     "base_uri": "https://localhost:8080/"
    },
    "executionInfo": {
     "elapsed": 304,
     "status": "ok",
     "timestamp": 1651325438003,
     "user": {
      "displayName": "최윤아",
      "userId": "13391811122094852456"
     },
     "user_tz": -540
    },
    "id": "gWOhVbO5qMfm",
    "outputId": "d19a37df-379e-460f-e19a-201885eabafb"
   },
   "outputs": [
    {
     "name": "stdout",
     "output_type": "stream",
     "text": [
      "2 1000\n"
     ]
    }
   ],
   "source": [
    "# 281\n",
    "# 다음 코드가 동작하도록 차 클래스를 정의하세요.\n",
    "\n",
    "# >> car = 차(2, 1000)\n",
    "# >> car.바퀴\n",
    "# 2\n",
    "# >> car.가격\n",
    "# 1000\n",
    "\n",
    "class 차 :\n",
    "    def __init__(self, 바퀴, 가격) :\n",
    "        self.바퀴 = 바퀴\n",
    "        self.가격 = 가격\n",
    "\n",
    "car = 차(2, 1000)\n",
    "print(car.바퀴, car.가격)"
   ]
  },
  {
   "cell_type": "code",
   "execution_count": null,
   "metadata": {
    "id": "pY6Ix5umqhdL"
   },
   "outputs": [],
   "source": [
    "# 282\n",
    "# 차 클래스를 상속받은 자전차 클래스를 정의하세요.\n",
    "\n",
    "class 차 :\n",
    "    def __init__(self, 바퀴, 가격) :\n",
    "        self.바퀴 = 바퀴\n",
    "        self.가격 = 가격\n",
    "\n",
    "class 자전차(차) :\n",
    "    pass"
   ]
  },
  {
   "cell_type": "code",
   "execution_count": null,
   "metadata": {
    "colab": {
     "base_uri": "https://localhost:8080/"
    },
    "executionInfo": {
     "elapsed": 8,
     "status": "ok",
     "timestamp": 1651325569338,
     "user": {
      "displayName": "최윤아",
      "userId": "13391811122094852456"
     },
     "user_tz": -540
    },
    "id": "p0kIcWBIqxQu",
    "outputId": "39690603-8cb1-4465-c7f8-77697b4d52c0"
   },
   "outputs": [
    {
     "name": "stdout",
     "output_type": "stream",
     "text": [
      "100\n"
     ]
    }
   ],
   "source": [
    "# 283\n",
    "# 다음 코드가 동작하도록 자전차 클래스를 정의하세요. 단 자전차 클래스는 차 클래스를 상속받습니다.\n",
    "\n",
    "# >> bicycle = 자전차(2, 100)\n",
    "# >> bicycle.가격\n",
    "# 100\n",
    "\n",
    "class 차 :\n",
    "    def __init__(self, 바퀴, 가격) :\n",
    "        self.바퀴 = 바퀴\n",
    "        self.가격 = 가격\n",
    "\n",
    "class 자전차(차) :\n",
    "    def __init__(self, 바퀴, 가격) :\n",
    "        self.바퀴 = 바퀴\n",
    "        self.가격 = 가격\n",
    "\n",
    "bicycle = 자전차(2, 100)\n",
    "print( bicycle.가격)"
   ]
  },
  {
   "cell_type": "code",
   "execution_count": null,
   "metadata": {
    "colab": {
     "base_uri": "https://localhost:8080/",
     "height": 35
    },
    "executionInfo": {
     "elapsed": 291,
     "status": "ok",
     "timestamp": 1651325623752,
     "user": {
      "displayName": "최윤아",
      "userId": "13391811122094852456"
     },
     "user_tz": -540
    },
    "id": "dOO08m6TrIc0",
    "outputId": "ef385bc1-bef7-42e3-b2be-37824205be40"
   },
   "outputs": [
    {
     "data": {
      "application/vnd.google.colaboratory.intrinsic+json": {
       "type": "string"
      },
      "text/plain": [
       "'시마노'"
      ]
     },
     "execution_count": 111,
     "metadata": {},
     "output_type": "execute_result"
    }
   ],
   "source": [
    "# 284\n",
    "# 다음 코드가 동작하도록 자전차 클래스를 정의하세요. 단 자전차 클래스는 차 클래스를 상속받습니다.\n",
    "\n",
    "# >> bicycle = 자전차(2, 100, \"시마노\")\n",
    "# >> bicycle.구동계\n",
    "# 시마노\n",
    "\n",
    "class 차 :\n",
    "    def __init__(self, 바퀴, 가격) :\n",
    "        self.바퀴 = 바퀴\n",
    "        self.가격 = 가격\n",
    "\n",
    "class 자전차(차) :\n",
    "    def __init__(self, 바퀴, 가격, 구동계) :\n",
    "        self.바퀴 = 바퀴\n",
    "        self.가격 = 가격\n",
    "        self.구동계 = 구동계\n",
    "\n",
    "bicycle = 자전차(2, 100, \"시마노\")    \n",
    "bicycle.구동계\n",
    "\n",
    "# 정답코드\n",
    "\n",
    "class 차:\n",
    "    def __init__(self, 바퀴, 가격):\n",
    "        self.바퀴 = 바퀴\n",
    "        self.가격 = 가격\n",
    "\n",
    "\n",
    "class 자전차(차):\n",
    "    def __init__(self, 바퀴, 가격, 구동계):\n",
    "        super().__init__(바퀴, 가격)\n",
    "        #차.__init__(self, 바퀴, 가격)\n",
    "        self.구동계 = 구동계\n",
    "\n"
   ]
  },
  {
   "cell_type": "markdown",
   "metadata": {
    "id": "fPus7-T1sVFs"
   },
   "source": [
    "- super().__init __()이라는 코드가 다른 클래스의 속성 및 메소드를 자동으로 불러와 해당 클래스에서도 사용이 가능하도록 해줍니다.\n",
    "\n",
    "- 위 코드에 따르면 super().__init __(바퀴, 가격) == 차.__ init __(self, 바퀴, 가격)"
   ]
  },
  {
   "cell_type": "code",
   "execution_count": null,
   "metadata": {
    "colab": {
     "base_uri": "https://localhost:8080/"
    },
    "executionInfo": {
     "elapsed": 4,
     "status": "ok",
     "timestamp": 1651329240647,
     "user": {
      "displayName": "최윤아",
      "userId": "13391811122094852456"
     },
     "user_tz": -540
    },
    "id": "7jkYt6fMrVsc",
    "outputId": "ff03bef2-f6aa-4289-c3c6-5f4c5ad4cfb5"
   },
   "outputs": [
    {
     "name": "stdout",
     "output_type": "stream",
     "text": [
      "바퀴수 4\n",
      "가격 1000\n"
     ]
    }
   ],
   "source": [
    "# 285\n",
    "# 다음 코드가 동작하도록 차 클래스를 상속받는 자동차 클래스를 정의하세요.\n",
    "\n",
    "# >> car = 자동차(4, 1000)\n",
    "# >> car.정보()\n",
    "# 바퀴수 4\n",
    "# 가격 1000\n",
    "\n",
    "class 차:\n",
    "    def __init__(self, 바퀴, 가격):\n",
    "        self.바퀴 = 바퀴\n",
    "        self.가격 = 가격\n",
    "\n",
    "\n",
    "class 자전차(차):\n",
    "    def __init__(self, 바퀴, 가격, 구동계):\n",
    "        super().__init__(바퀴, 가격)\n",
    "        self.구동계 = 구동계\n",
    "\n",
    "\n",
    "class 자동차(차):\n",
    "    def __init__(self,바퀴, 가격):\n",
    "        super().__init__(바퀴,가격)\n",
    "    \n",
    "    def 정보(self) :\n",
    "        print('바퀴수', self.바퀴)\n",
    "        print('가격', self.가격)\n",
    "\n",
    "\n",
    "car = 자동차(4, 1000)     \n",
    "car.정보()"
   ]
  },
  {
   "cell_type": "code",
   "execution_count": null,
   "metadata": {
    "colab": {
     "base_uri": "https://localhost:8080/"
    },
    "executionInfo": {
     "elapsed": 319,
     "status": "ok",
     "timestamp": 1651329351475,
     "user": {
      "displayName": "최윤아",
      "userId": "13391811122094852456"
     },
     "user_tz": -540
    },
    "id": "V6nVV9Hy5Dee",
    "outputId": "7322ceb4-8367-433e-f21c-01b2d4fcaf7b"
   },
   "outputs": [
    {
     "name": "stdout",
     "output_type": "stream",
     "text": [
      "바퀴수 2\n",
      "가격 100\n"
     ]
    }
   ],
   "source": [
    "# 286\n",
    "# 다음 코드가 동작하도록 차 클래스를 수정하세요.\n",
    "\n",
    "# >> bicycle = 자전차(2, 100, \"시마노\")\n",
    "# >> bicycle.정보()\n",
    "# 바퀴수 2\n",
    "# 가격 100\n",
    "\n",
    "class 차:\n",
    "    def __init__(self, 바퀴, 가격):\n",
    "        self.바퀴 = 바퀴\n",
    "        self.가격 = 가격\n",
    "\n",
    "    def 정보(self) :\n",
    "        print('바퀴수', self.바퀴)\n",
    "        print('가격', self.가격)\n",
    "\n",
    "\n",
    "class 자전차(차):\n",
    "    def __init__(self, 바퀴, 가격, 구동계):\n",
    "        super().__init__(바퀴, 가격)\n",
    "        self.구동계 = 구동계\n",
    "\n",
    "\n",
    "class 자동차(차):\n",
    "    def __init__(self,바퀴, 가격):\n",
    "        super().__init__(바퀴,가격)\n",
    "\n",
    "\n",
    "\n",
    "bicycle = 자전차(2, 100, \"시마노\")\n",
    "bicycle.정보()"
   ]
  },
  {
   "cell_type": "code",
   "execution_count": null,
   "metadata": {
    "colab": {
     "base_uri": "https://localhost:8080/"
    },
    "executionInfo": {
     "elapsed": 9,
     "status": "ok",
     "timestamp": 1651329449528,
     "user": {
      "displayName": "최윤아",
      "userId": "13391811122094852456"
     },
     "user_tz": -540
    },
    "id": "hV6wAx595b8-",
    "outputId": "d654cfa4-11d4-4405-8377-2178dedb50b2"
   },
   "outputs": [
    {
     "name": "stdout",
     "output_type": "stream",
     "text": [
      "바퀴수 2\n",
      "가격 100\n",
      "구동계 시마노\n"
     ]
    }
   ],
   "source": [
    "# 287\n",
    "# 자전차의 정보() 메서드로 구동계 정보까지 출력하도록 수정해보세요.\n",
    "\n",
    "# >> bicycle = 자전차(2, 100, \"시마노\")\n",
    "# >> bicycle.정보()\n",
    "# 바퀴수 2\n",
    "# 가격 100\n",
    "# 구동계 시마노\n",
    "\n",
    "class 차:\n",
    "    def __init__(self, 바퀴, 가격):\n",
    "        self.바퀴 = 바퀴\n",
    "        self.가격 = 가격\n",
    "\n",
    "    def 정보(self) :\n",
    "        print('바퀴수', self.바퀴)\n",
    "        print('가격', self.가격)\n",
    "\n",
    "class 자동차(차):\n",
    "    def __init__(self,바퀴, 가격):\n",
    "        super().__init__(바퀴,가격)\n",
    "\n",
    "class 자전차(차):\n",
    "    def __init__(self, 바퀴, 가격, 구동계):\n",
    "        super().__init__(바퀴, 가격)\n",
    "        self.구동계 = 구동계\n",
    "\n",
    "    def 정보(self) :\n",
    "        super().정보()\n",
    "        print('구동계', self.구동계)\n",
    "\n",
    "\n",
    "\n",
    "bicycle = 자전차(2, 100, \"시마노\")\n",
    "bicycle.정보()"
   ]
  },
  {
   "cell_type": "code",
   "execution_count": null,
   "metadata": {
    "colab": {
     "base_uri": "https://localhost:8080/"
    },
    "executionInfo": {
     "elapsed": 5,
     "status": "ok",
     "timestamp": 1651329547581,
     "user": {
      "displayName": "최윤아",
      "userId": "13391811122094852456"
     },
     "user_tz": -540
    },
    "id": "caFwABi055FE",
    "outputId": "0dc7e084-1c9b-46a5-e217-d2b0eb0f656a"
   },
   "outputs": [
    {
     "name": "stdout",
     "output_type": "stream",
     "text": [
      "자식호출\n"
     ]
    }
   ],
   "source": [
    "# 288\n",
    "# 다음 코드의 실행 결과를 예상해보세요.\n",
    "\n",
    "class 부모:\n",
    "  def 호출(self):\n",
    "    print(\"부모호출\")\n",
    "\n",
    "class 자식(부모):\n",
    "  def 호출(self):\n",
    "    print(\"자식호출\")\n",
    "\n",
    "나 = 자식()\n",
    "나.호출()\n",
    "\n",
    "\n",
    "# 예측\n",
    "# 자식호출"
   ]
  },
  {
   "cell_type": "code",
   "execution_count": null,
   "metadata": {
    "colab": {
     "base_uri": "https://localhost:8080/"
    },
    "executionInfo": {
     "elapsed": 379,
     "status": "ok",
     "timestamp": 1651329583815,
     "user": {
      "displayName": "최윤아",
      "userId": "13391811122094852456"
     },
     "user_tz": -540
    },
    "id": "hUXgsv_h6SrN",
    "outputId": "ffa70aac-5c9c-4f72-efbd-c1c9ce78d029"
   },
   "outputs": [
    {
     "name": "stdout",
     "output_type": "stream",
     "text": [
      "자식생성\n"
     ]
    }
   ],
   "source": [
    "# 289\n",
    "# 다음 코드의 실행 결과를 예상해보세요.\n",
    "\n",
    "class 부모:\n",
    "  def __init__(self):\n",
    "    print(\"부모생성\")\n",
    "\n",
    "class 자식(부모):\n",
    "  def __init__(self):\n",
    "    print(\"자식생성\")\n",
    "\n",
    "나 = 자식()\n",
    "\n",
    "\n",
    "# 예측\n",
    "# 자식생성"
   ]
  },
  {
   "cell_type": "code",
   "execution_count": null,
   "metadata": {
    "colab": {
     "base_uri": "https://localhost:8080/"
    },
    "executionInfo": {
     "elapsed": 5,
     "status": "ok",
     "timestamp": 1651329620714,
     "user": {
      "displayName": "최윤아",
      "userId": "13391811122094852456"
     },
     "user_tz": -540
    },
    "id": "9Q1CQRW46cd2",
    "outputId": "1cf3e1e1-6c58-4bcb-8c08-7b9b8e91ec87"
   },
   "outputs": [
    {
     "name": "stdout",
     "output_type": "stream",
     "text": [
      "자식생성\n",
      "부모생성\n"
     ]
    }
   ],
   "source": [
    "# 290\n",
    "# 다음 코드의 실행 결과를 예상해보세요.\n",
    "\n",
    "class 부모:\n",
    "  def __init__(self):\n",
    "    print(\"부모생성\")\n",
    "\n",
    "class 자식(부모):\n",
    "  def __init__(self):\n",
    "    print(\"자식생성\")\n",
    "    super().__init__()\n",
    "\n",
    "나 = 자식()\n",
    "\n",
    "\n",
    "# 예측\n",
    "# 자식생성\n",
    "# 부모생성"
   ]
  },
  {
   "cell_type": "markdown",
   "metadata": {
    "id": "nI7MI87Y6m0W"
   },
   "source": [
    "# 291~300 파일 입출력과 예외처리"
   ]
  },
  {
   "cell_type": "code",
   "execution_count": null,
   "metadata": {
    "colab": {
     "base_uri": "https://localhost:8080/",
     "height": 156
    },
    "executionInfo": {
     "elapsed": 9,
     "status": "error",
     "timestamp": 1651329823924,
     "user": {
      "displayName": "최윤아",
      "userId": "13391811122094852456"
     },
     "user_tz": -540
    },
    "id": "wYOUxcNn6tH5",
    "outputId": "ad2abd72-6084-4e5b-bdba-27d1504d93b6"
   },
   "outputs": [
    {
     "ename": "SyntaxError",
     "evalue": "ignored",
     "output_type": "error",
     "traceback": [
      "\u001b[0;36m  File \u001b[0;32m\"<ipython-input-125-be9f3fc3a1a5>\"\u001b[0;36m, line \u001b[0;32m4\u001b[0m\n\u001b[0;31m    f = open('C:\\Users\\0108sally\\Desktop\\매수종목1.txt', mode='wt', encoding='utf-8')\u001b[0m\n\u001b[0m            ^\u001b[0m\n\u001b[0;31mSyntaxError\u001b[0m\u001b[0;31m:\u001b[0m (unicode error) 'unicodeescape' codec can't decode bytes in position 2-3: truncated \\UXXXXXXXX escape\n"
     ]
    }
   ],
   "source": [
    "# 291\n",
    "# 바탕화면에 '매수종목1.txt' 파일을 생성한 후 다음과 같이 종목코드를 파일에 써보세요.\n",
    "\n",
    "f = open('C:\\Users\\0108sally\\Desktop\\매수종목1.txt', mode='wt', encoding='utf-8')\n"
   ]
  }
 ],
 "metadata": {
  "colab": {
   "authorship_tag": "ABX9TyO/Ypq6lNTZNNU9/QXxgjwS",
   "collapsed_sections": [
    "wEDkSSU08R2f",
    "NH0Qc_bu-5DS",
    "SeQSIrbPBsl8",
    "vRs7S2P8LgP9",
    "YKxdS37DRBs2",
    "Cl4DJ-PPX1vd",
    "A5bMqph0Xq1j",
    "MV00EWSsedmy",
    "vEKUqylhqHMN"
   ],
   "name": "초보자를 위한 파이썬 300제(201~300번).ipynb",
   "provenance": []
  },
  "kernelspec": {
   "display_name": "Python 3",
   "name": "python3"
  },
  "language_info": {
   "name": "python"
  }
 },
 "nbformat": 4,
 "nbformat_minor": 0
}
