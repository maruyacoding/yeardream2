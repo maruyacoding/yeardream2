{
 "cells": [
  {
   "cell_type": "markdown",
   "id": "d90ca7ff",
   "metadata": {
    "id": "d90ca7ff"
   },
   "source": [
    "### Scikit-learn을 이용한 머신러닝 학습 가이드!\n",
    "\n",
    "- scikit-learn(sklearn)을 완전히 사용해서 end-to-end로 학습시키는 코드를 완성해봅니다!\n",
    "\n",
    "- 너무나 유명한 california house pricing 데이터를 이용하여 회귀분석 예제 코드를 만들어봅시다.\n",
    "\n",
    "\n",
    "> Data Load - Data Preprocessing - Fit - Evalution - Predict"
   ]
  },
  {
   "cell_type": "code",
   "execution_count": null,
   "id": "e5e1add9",
   "metadata": {
    "colab": {
     "base_uri": "https://localhost:8080/"
    },
    "executionInfo": {
     "elapsed": 5621,
     "status": "ok",
     "timestamp": 1652681425584,
     "user": {
      "displayName": "최윤아",
      "userId": "13391811122094852456"
     },
     "user_tz": -540
    },
    "id": "e5e1add9",
    "outputId": "e8d0003f-d214-435a-ed48-a80be2a9f331"
   },
   "outputs": [
    {
     "name": "stdout",
     "output_type": "stream",
     "text": [
      "Requirement already satisfied: sklearn in /usr/local/lib/python3.7/dist-packages (0.0)\n",
      "Requirement already satisfied: scikit-learn in /usr/local/lib/python3.7/dist-packages (from sklearn) (1.0.2)\n",
      "Requirement already satisfied: threadpoolctl>=2.0.0 in /usr/local/lib/python3.7/dist-packages (from scikit-learn->sklearn) (3.1.0)\n",
      "Requirement already satisfied: numpy>=1.14.6 in /usr/local/lib/python3.7/dist-packages (from scikit-learn->sklearn) (1.21.6)\n",
      "Requirement already satisfied: joblib>=0.11 in /usr/local/lib/python3.7/dist-packages (from scikit-learn->sklearn) (1.1.0)\n",
      "Requirement already satisfied: scipy>=1.1.0 in /usr/local/lib/python3.7/dist-packages (from scikit-learn->sklearn) (1.4.1)\n"
     ]
    }
   ],
   "source": [
    "!pip install sklearn"
   ]
  },
  {
   "cell_type": "markdown",
   "id": "QqmRFybCg9Vi",
   "metadata": {
    "id": "QqmRFybCg9Vi"
   },
   "source": [
    "### Data Load"
   ]
  },
  {
   "cell_type": "code",
   "execution_count": null,
   "id": "ae90ce8c",
   "metadata": {
    "colab": {
     "base_uri": "https://localhost:8080/"
    },
    "executionInfo": {
     "elapsed": 280,
     "status": "ok",
     "timestamp": 1652681850881,
     "user": {
      "displayName": "최윤아",
      "userId": "13391811122094852456"
     },
     "user_tz": -540
    },
    "id": "ae90ce8c",
    "outputId": "eb1967e9-a118-4d99-dd5c-b8218feff66b"
   },
   "outputs": [
    {
     "name": "stdout",
     "output_type": "stream",
     "text": [
      "(20640, 8) (20640,)\n"
     ]
    }
   ],
   "source": [
    "# Hands-on!!\n",
    "from sklearn.datasets import fetch_california_housing\n",
    "\n",
    "X = fetch_california_housing(as_frame=True).data # JSON(dictionary) / as_frame (dataframe으로 바꿈)\n",
    "# data X\n",
    "y = fetch_california_housing(as_frame=True).target # y : target, 예측 대상\n",
    "\n",
    "# fetch_california_housing(as_frame=True).frame # X + y\n",
    "\n",
    "print(X.shape, y.shape)"
   ]
  },
  {
   "cell_type": "markdown",
   "id": "8LsC39PQhAuf",
   "metadata": {
    "id": "8LsC39PQhAuf"
   },
   "source": [
    "### Data Preprocessing + EDA"
   ]
  },
  {
   "cell_type": "code",
   "execution_count": null,
   "id": "XJhWzjAzfY8g",
   "metadata": {
    "colab": {
     "base_uri": "https://localhost:8080/",
     "height": 497
    },
    "executionInfo": {
     "elapsed": 839,
     "status": "ok",
     "timestamp": 1652682134219,
     "user": {
      "displayName": "최윤아",
      "userId": "13391811122094852456"
     },
     "user_tz": -540
    },
    "id": "XJhWzjAzfY8g",
    "outputId": "53fd8b07-e691-4a21-cb0e-8b58d04bbc17"
   },
   "outputs": [
    {
     "data": {
      "image/png": "[encoded data removed]",
      "text/plain": [
       "<Figure size 864x576 with 1 Axes>"
      ]
     },
     "metadata": {
      "needs_background": "light"
     },
     "output_type": "display_data"
    }
   ],
   "source": [
    "import numpy as np\n",
    "import pandas as pd\n",
    "import matplotlib.pyplot as plt\n",
    "import seaborn as sns\n",
    "\n",
    "# 1. 결측치 확인\n",
    "# X.info()\n",
    "X[X.isnull().any(axis=1)]\n",
    "\n",
    "# 2. dtype이 object인 column이 있는지 확인 --? categorical feature을 확인하기 위해!\n",
    "\n",
    "# 3. target distribution 예측 데이터 확인하는 작업을 해야 데이터에 대한 전반적인 것을 확인할 수 있음\n",
    "plt.figure(figsize=(12,8))\n",
    "sns.histplot(y, bins = 50)\n",
    "plt.show()\n",
    "# 5 넘는걸 잘라서 5 안으로 해줘서 데이터가 저렇게 나옴."
   ]
  },
  {
   "cell_type": "code",
   "execution_count": null,
   "id": "dgIQQzSDhOjT",
   "metadata": {
    "colab": {
     "base_uri": "https://localhost:8080/"
    },
    "executionInfo": {
     "elapsed": 4,
     "status": "ok",
     "timestamp": 1652682648770,
     "user": {
      "displayName": "최윤아",
      "userId": "13391811122094852456"
     },
     "user_tz": -540
    },
    "id": "dgIQQzSDhOjT",
    "outputId": "470de7a6-5974-4f88-ee6a-8a3253512c74"
   },
   "outputs": [
    {
     "name": "stdout",
     "output_type": "stream",
     "text": [
      "(16512, 8) (4128, 8) (16512,) (4128,)\n"
     ]
    }
   ],
   "source": [
    "## Train-test Split\n",
    "from sklearn.model_selection import train_test_split\n",
    "\n",
    "# return되는 결과 암기! / 트테트테\n",
    "X_train, X_test, y_train, y_test = train_test_split(X, y, test_size = 0.2, random_state = 42) \n",
    "# test_size = 0.2 -> train test 20% 사용 / random_state 랜덤 값이 고정이 됨\n",
    "print(X_train.shape, X_test.shape, y_train.shape, y_test.shape)"
   ]
  },
  {
   "cell_type": "markdown",
   "id": "o6UAbnDJkK0w",
   "metadata": {
    "id": "o6UAbnDJkK0w"
   },
   "source": [
    "### Training (Fit)"
   ]
  },
  {
   "cell_type": "code",
   "execution_count": null,
   "id": "_ZRYPCISjtk8",
   "metadata": {
    "colab": {
     "base_uri": "https://localhost:8080/"
    },
    "executionInfo": {
     "elapsed": 3484,
     "status": "ok",
     "timestamp": 1652683747740,
     "user": {
      "displayName": "최윤아",
      "userId": "13391811122094852456"
     },
     "user_tz": -540
    },
    "id": "_ZRYPCISjtk8",
    "outputId": "cb8a1a9a-1304-44f0-9f8c-a87de1aa9be7"
   },
   "outputs": [
    {
     "data": {
      "text/plain": [
       "LGBMRegressor()"
      ]
     },
     "execution_count": 35,
     "metadata": {},
     "output_type": "execute_result"
    }
   ],
   "source": [
    "# 1. 사용할 함수를 불러옵니다.\n",
    "from sklearn.linear_model import LinearRegression\n",
    "from lightgbm.sklearn import LGBMRegressor\n",
    "# from sklearn.linear_model import Lasso\n",
    "\n",
    "\n",
    "# 2. 사용할 함수의 객체를 생성합니다.\n",
    "reg = LinearRegression() # LinearRegression을 사용하겠다.\n",
    "reg2 = LGBMRegressor()\n",
    "\n",
    "\n",
    "# 3. 학습\n",
    "reg.fit(X_train, y_train) ### Regression : Supervised learning 따라서, y 정답이 있어야 함 --> parameter update\n",
    "reg2.fit(X_train, y_train)"
   ]
  },
  {
   "cell_type": "markdown",
   "id": "9bb2Hiy6lydQ",
   "metadata": {
    "id": "9bb2Hiy6lydQ"
   },
   "source": [
    "### Evaluation"
   ]
  },
  {
   "cell_type": "code",
   "execution_count": null,
   "id": "mZ80kI_flCum",
   "metadata": {
    "colab": {
     "base_uri": "https://localhost:8080/"
    },
    "executionInfo": {
     "elapsed": 274,
     "status": "ok",
     "timestamp": 1652683880606,
     "user": {
      "displayName": "최윤아",
      "userId": "13391811122094852456"
     },
     "user_tz": -540
    },
    "id": "mZ80kI_flCum",
    "outputId": "0f3079b7-bf9e-41e2-a3c1-c67e70a21ca5"
   },
   "outputs": [
    {
     "name": "stdout",
     "output_type": "stream",
     "text": [
      "---Linear Regression ---\n",
      "MSE :  0.5179\n",
      "R2 :  0.6126\n",
      "\n",
      "\n",
      " ---LightGBM---\n",
      "MSE :  0.1562\n",
      "R2 :  0.8831\n"
     ]
    }
   ],
   "source": [
    "# 학습 결과를 확인 (평가 지표.)\n",
    "\n",
    "from sklearn.metrics import mean_squared_error, r2_score\n",
    "\n",
    "pred = reg.predict(X_train) # y_hat / numpy array\n",
    "pred2 = reg2.predict(X_train)\n",
    "\n",
    "print('---Linear Regression ---')\n",
    "print('MSE : % .4f' % mean_squared_error(y_train, pred))\n",
    "print( 'R2 : % .4f' % r2_score(y_train, pred))\n",
    "print('\\n\\n ---LightGBM---')\n",
    "print('MSE : % .4f' % mean_squared_error(y_train, pred2))\n",
    "print( 'R2 : % .4f' % r2_score(y_train, pred2))"
   ]
  },
  {
   "cell_type": "markdown",
   "id": "O0K2B129nIVu",
   "metadata": {
    "id": "O0K2B129nIVu"
   },
   "source": [
    "### Prediction"
   ]
  },
  {
   "cell_type": "code",
   "execution_count": null,
   "id": "P2MzAFnEmVdJ",
   "metadata": {
    "colab": {
     "base_uri": "https://localhost:8080/"
    },
    "executionInfo": {
     "elapsed": 278,
     "status": "ok",
     "timestamp": 1652683967866,
     "user": {
      "displayName": "최윤아",
      "userId": "13391811122094852456"
     },
     "user_tz": -540
    },
    "id": "P2MzAFnEmVdJ",
    "outputId": "d2b8357c-4083-4f5f-beb0-2160ad0af3de"
   },
   "outputs": [
    {
     "name": "stdout",
     "output_type": "stream",
     "text": [
      "---Linear Regression ---\n",
      "MSE :  0.5559\n",
      "R2 :  0.5758\n",
      "\n",
      "\n",
      " ---LightGBM---\n",
      "MSE :  0.2148\n",
      "R2 :  0.8360\n"
     ]
    }
   ],
   "source": [
    "result = reg.predict(X_test)\n",
    "result2 = reg2.predict(X_test)\n",
    "\n",
    "print('---Linear Regression ---')\n",
    "print('MSE : % .4f' % mean_squared_error(y_test, result))\n",
    "print( 'R2 : % .4f' % r2_score(y_test, result))\n",
    "\n",
    "print('\\n\\n ---LightGBM---')\n",
    "print('MSE : % .4f' % mean_squared_error(y_test, result2))\n",
    "print( 'R2 : % .4f' % r2_score(y_test, result2))"
   ]
  },
  {
   "cell_type": "code",
   "execution_count": null,
   "id": "lExlNWWjnVwI",
   "metadata": {
    "colab": {
     "base_uri": "https://localhost:8080/"
    },
    "executionInfo": {
     "elapsed": 2,
     "status": "ok",
     "timestamp": 1652684151032,
     "user": {
      "displayName": "최윤아",
      "userId": "13391811122094852456"
     },
     "user_tz": -540
    },
    "id": "lExlNWWjnVwI",
    "outputId": "eadf1fa1-fb62-4546-de63-d476ee85287a"
   },
   "outputs": [
    {
     "data": {
      "text/plain": [
       "-37.02327770606412"
      ]
     },
     "execution_count": 39,
     "metadata": {},
     "output_type": "execute_result"
    }
   ],
   "source": [
    "reg.coef_ # coefficient 가중치(계수) 따로 보기\n",
    "reg.intercept_ # 절편"
   ]
  },
  {
   "cell_type": "markdown",
   "id": "O6rxI1QpqKfN",
   "metadata": {
    "id": "O6rxI1QpqKfN"
   },
   "source": [
    "### 현재 데이터는 튜토리얼을 위해 가공된 데이터 샘플임<br><br>실제 데이터 머신러닝 과정에서는 <br>데이터에 대한 이해, 머신러닝 문제 정의, 데이터 수집 및 정제(데이터 정형화), 탐색적 데이터 분석, feature engineering, 예측 모델 개발 및 적용<br> 모든 단계를 고려하여 머신러닝 모델을 학습해야함."
   ]
  }
 ],
 "metadata": {
  "colab": {
   "collapsed_sections": [],
   "name": "20220516-sklearn-tutorial.ipynb",
   "provenance": []
  },
  "kernelspec": {
   "display_name": "Python 3 (ipykernel)",
   "language": "python",
   "name": "python3"
  },
  "language_info": {
   "codemirror_mode": {
    "name": "ipython",
    "version": 3
   },
   "file_extension": ".py",
   "mimetype": "text/x-python",
   "name": "python",
   "nbconvert_exporter": "python",
   "pygments_lexer": "ipython3",
   "version": "3.10.2"
  }
 },
 "nbformat": 4,
 "nbformat_minor": 5
}
