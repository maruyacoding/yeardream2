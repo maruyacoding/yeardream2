{
 "cells": [
  {
   "cell_type": "markdown",
   "id": "e53c0ad9",
   "metadata": {
    "id": "e53c0ad9"
   },
   "source": [
    "# 이어드림스쿨 python basic review"
   ]
  },
  {
   "cell_type": "markdown",
   "id": "1a93fae1",
   "metadata": {
    "id": "1a93fae1"
   },
   "source": [
    "## 딕셔너리(dict)\n",
    "> 사전을 떠올려봅시다. 사전을 구성하고 있는 항목은?    \n",
    "> - 단어 : 단어의 설명  \n",
    "\n",
    "> `key`와 `value`값을 쌍으로 저장가능 한 자료구조  \n",
    "> - `key` : `value`  \n",
    "> - **`{ }`** 중괄호로 묶어 사용한다.  \n",
    "> - 딕셔너리 요소 구분은 리스트와 마찬가지로 쉼표  "
   ]
  },
  {
   "cell_type": "markdown",
   "id": "bee27420",
   "metadata": {
    "id": "bee27420"
   },
   "source": [
    "### 딕셔너리 생성"
   ]
  },
  {
   "cell_type": "code",
   "execution_count": null,
   "id": "f86fcc96",
   "metadata": {
    "ExecuteTime": {
     "end_time": "2022-04-20T12:36:08.416998Z",
     "start_time": "2022-04-20T12:36:08.410383Z"
    },
    "id": "f86fcc96"
   },
   "outputs": [],
   "source": [
    "# 값을 추가하면서 딕셔너리 생성\n",
    "wallet = {\n",
    "    'card':'SK카드',\n",
    "    'cash':75000,\n",
    "    'coin':{'500원':1,\n",
    "            '100원':1,},\n",
    "    'id':['주민등록증', '여권'],\n",
    "    'licence':'운전면허증'\n",
    "}\n",
    "\n",
    "# 중괄호 내 key : value 값을 전달하고 각 항목의 구분은 쉼표\n",
    "# 리스트와 마찬가지로 딕셔너리 내부에 리스트등 타 자료구조 저장 가능"
   ]
  },
  {
   "cell_type": "code",
   "execution_count": null,
   "id": "9546fb15",
   "metadata": {
    "colab": {
     "base_uri": "https://localhost:8080/"
    },
    "executionInfo": {
     "elapsed": 6,
     "status": "ok",
     "timestamp": 1650535893549,
     "user": {
      "displayName": "최윤아",
      "userId": "13391811122094852456"
     },
     "user_tz": -540
    },
    "id": "9546fb15",
    "outputId": "99d78f0c-780c-4322-ec94-fa0e76745280"
   },
   "outputs": [
    {
     "data": {
      "text/plain": [
       "{'card': 'SK카드',\n",
       " 'cash': 75000,\n",
       " 'coin': {'100원': 1, '500원': 1},\n",
       " 'id': ['주민등록증', '여권'],\n",
       " 'licence': '운전면허증'}"
      ]
     },
     "execution_count": 2,
     "metadata": {},
     "output_type": "execute_result"
    }
   ],
   "source": [
    "# 딕셔너리 호출\n",
    "wallet"
   ]
  },
  {
   "cell_type": "code",
   "execution_count": null,
   "id": "oeFSQ52lnHlA",
   "metadata": {
    "id": "oeFSQ52lnHlA"
   },
   "outputs": [],
   "source": [
    "# 각각 값마다 메모리를 할당받음!\n",
    "\n",
    "my_wallet = {\n",
    "    'card' : '우리은행',\n",
    "    'cash' : 50000,\n",
    "    'coin' : { '500원' : 1, '100원' : 3 },\n",
    "    'id' : ['주민등록증', '여권'],\n",
    "    'licence' : '운전면허증'\n",
    "}"
   ]
  },
  {
   "cell_type": "markdown",
   "id": "ccb5a3a5",
   "metadata": {
    "id": "ccb5a3a5"
   },
   "source": [
    "### 딕셔너리 갯수세기"
   ]
  },
  {
   "cell_type": "code",
   "execution_count": null,
   "id": "5854cb34",
   "metadata": {
    "colab": {
     "base_uri": "https://localhost:8080/"
    },
    "executionInfo": {
     "elapsed": 9,
     "status": "ok",
     "timestamp": 1650536312319,
     "user": {
      "displayName": "최윤아",
      "userId": "13391811122094852456"
     },
     "user_tz": -540
    },
    "id": "5854cb34",
    "outputId": "7f97b8c8-1b83-4554-89ef-ea6f6c3f0231"
   },
   "outputs": [
    {
     "data": {
      "text/plain": [
       "5"
      ]
     },
     "execution_count": 5,
     "metadata": {},
     "output_type": "execute_result"
    }
   ],
   "source": [
    "# 딕셔너리 갯수세기\n",
    "len(wallet)"
   ]
  },
  {
   "cell_type": "markdown",
   "id": "430e0132",
   "metadata": {
    "id": "430e0132"
   },
   "source": [
    "### 딕셔너리 값에 접근하기"
   ]
  },
  {
   "cell_type": "code",
   "execution_count": null,
   "id": "a0096b96",
   "metadata": {
    "colab": {
     "base_uri": "https://localhost:8080/",
     "height": 35
    },
    "executionInfo": {
     "elapsed": 11,
     "status": "ok",
     "timestamp": 1650536652648,
     "user": {
      "displayName": "최윤아",
      "userId": "13391811122094852456"
     },
     "user_tz": -540
    },
    "id": "a0096b96",
    "outputId": "60467eb9-b539-4b89-d1f0-401b5f6856d2"
   },
   "outputs": [
    {
     "data": {
      "application/vnd.google.colaboratory.intrinsic+json": {
       "type": "string"
      },
      "text/plain": [
       "'여권'"
      ]
     },
     "execution_count": 10,
     "metadata": {},
     "output_type": "execute_result"
    }
   ],
   "source": [
    "# key값으로 딕셔너리 값에 접근\n",
    "# 파이써닉한 코드\n",
    "wallet['id'][1]\n",
    "# 리스트에서 인덱스를 사용하였다면 딕셔너리는 key값을 전달하여 값에 접근합니다."
   ]
  },
  {
   "cell_type": "markdown",
   "id": "00bf9d53",
   "metadata": {
    "id": "00bf9d53"
   },
   "source": [
    "### 딕셔너리 편집"
   ]
  },
  {
   "cell_type": "code",
   "execution_count": null,
   "id": "025c2af2",
   "metadata": {
    "ExecuteTime": {
     "end_time": "2022-04-20T12:37:31.421832Z",
     "start_time": "2022-04-20T12:37:31.416448Z"
    },
    "colab": {
     "base_uri": "https://localhost:8080/"
    },
    "executionInfo": {
     "elapsed": 246,
     "status": "ok",
     "timestamp": 1650536750609,
     "user": {
      "displayName": "최윤아",
      "userId": "13391811122094852456"
     },
     "user_tz": -540
    },
    "id": "025c2af2",
    "outputId": "e8c1a295-0920-4a3a-d8d1-503d8f222657"
   },
   "outputs": [
    {
     "data": {
      "text/plain": [
       "{'card': '삼성카드',\n",
       " 'cash': 75000,\n",
       " 'coin': {'100원': 1, '500원': 1},\n",
       " 'id': ['주민등록증', '여권'],\n",
       " 'licence': '운전면허증',\n",
       " 'point card': '해피카드'}"
      ]
     },
     "execution_count": 22,
     "metadata": {},
     "output_type": "execute_result"
    }
   ],
   "source": [
    "# 딕셔너리에 point card key를 갖는 해피포인트 문자열을 값으로 저장\n",
    "wallet['point card'] = '해피카드'\n",
    "# key값이 숫자여도 관계없음\n",
    "wallet"
   ]
  },
  {
   "cell_type": "code",
   "execution_count": null,
   "id": "61175a6e",
   "metadata": {
    "ExecuteTime": {
     "end_time": "2022-04-20T12:37:58.344015Z",
     "start_time": "2022-04-20T12:37:58.340755Z"
    },
    "colab": {
     "base_uri": "https://localhost:8080/"
    },
    "executionInfo": {
     "elapsed": 268,
     "status": "ok",
     "timestamp": 1650536752010,
     "user": {
      "displayName": "최윤아",
      "userId": "13391811122094852456"
     },
     "user_tz": -540
    },
    "id": "61175a6e",
    "outputId": "99bd9926-ab0f-4d33-8ae1-71f6b96cd53e"
   },
   "outputs": [
    {
     "data": {
      "text/plain": [
       "{'card': '삼성카드',\n",
       " 'cash': 75000,\n",
       " 'coin': {'100원': 1, '500원': 1},\n",
       " 'id': ['주민등록증', '여권'],\n",
       " 'licence': '운전면허증',\n",
       " 'point card': '해피카드'}"
      ]
     },
     "execution_count": 23,
     "metadata": {},
     "output_type": "execute_result"
    }
   ],
   "source": [
    "# 딕셔너리 특정 항목 업데이트\n",
    "wallet['card'] = '삼성카드'\n",
    "wallet"
   ]
  },
  {
   "cell_type": "code",
   "execution_count": null,
   "id": "88d8f6a5",
   "metadata": {
    "ExecuteTime": {
     "end_time": "2022-04-20T12:38:13.147400Z",
     "start_time": "2022-04-20T12:38:13.143624Z"
    },
    "colab": {
     "base_uri": "https://localhost:8080/"
    },
    "executionInfo": {
     "elapsed": 254,
     "status": "ok",
     "timestamp": 1650536753551,
     "user": {
      "displayName": "최윤아",
      "userId": "13391811122094852456"
     },
     "user_tz": -540
    },
    "id": "88d8f6a5",
    "outputId": "dcc681a6-0d6b-447a-9d80-e09eb39a9de5"
   },
   "outputs": [
    {
     "data": {
      "text/plain": [
       "{'card': '삼성카드',\n",
       " 'cash': 75000,\n",
       " 'coin': {'100원': 1, '500원': 1},\n",
       " 'id': ['주민등록증', '여권'],\n",
       " 'licence': '운전면허증'}"
      ]
     },
     "execution_count": 24,
     "metadata": {},
     "output_type": "execute_result"
    }
   ],
   "source": [
    "# 딕셔너리 특정 value값 빼오기\n",
    "wallet.pop('point card')\n",
    "wallet"
   ]
  },
  {
   "cell_type": "code",
   "execution_count": null,
   "id": "470ced28",
   "metadata": {
    "ExecuteTime": {
     "end_time": "2022-04-20T12:38:18.052164Z",
     "start_time": "2022-04-20T12:38:18.049840Z"
    },
    "id": "470ced28"
   },
   "outputs": [],
   "source": [
    "# pop 명령어로 빼온 값, wallet에는 해당항목 사라져 있음\n",
    "result = wallet.pop('cash')"
   ]
  },
  {
   "cell_type": "code",
   "execution_count": null,
   "id": "Z1vtT1etqHpY",
   "metadata": {
    "colab": {
     "base_uri": "https://localhost:8080/"
    },
    "executionInfo": {
     "elapsed": 8,
     "status": "ok",
     "timestamp": 1650536784742,
     "user": {
      "displayName": "최윤아",
      "userId": "13391811122094852456"
     },
     "user_tz": -540
    },
    "id": "Z1vtT1etqHpY",
    "outputId": "99ef1dc4-fc56-4424-ac3e-87ba5b0a177d"
   },
   "outputs": [
    {
     "data": {
      "text/plain": [
       "75000"
      ]
     },
     "execution_count": 27,
     "metadata": {},
     "output_type": "execute_result"
    }
   ],
   "source": [
    "result"
   ]
  },
  {
   "cell_type": "code",
   "execution_count": null,
   "id": "MBkt4FdqqL1S",
   "metadata": {
    "colab": {
     "base_uri": "https://localhost:8080/"
    },
    "executionInfo": {
     "elapsed": 5,
     "status": "ok",
     "timestamp": 1650536794406,
     "user": {
      "displayName": "최윤아",
      "userId": "13391811122094852456"
     },
     "user_tz": -540
    },
    "id": "MBkt4FdqqL1S",
    "outputId": "409439d3-aa62-4be6-db57-9d26e412aab1"
   },
   "outputs": [
    {
     "data": {
      "text/plain": [
       "{'card': '삼성카드',\n",
       " 'coin': {'100원': 1, '500원': 1},\n",
       " 'id': ['주민등록증', '여권'],\n",
       " 'licence': '운전면허증'}"
      ]
     },
     "execution_count": 28,
     "metadata": {},
     "output_type": "execute_result"
    }
   ],
   "source": [
    "wallet"
   ]
  },
  {
   "cell_type": "code",
   "execution_count": null,
   "id": "38be0d02",
   "metadata": {
    "ExecuteTime": {
     "end_time": "2022-04-20T12:38:28.413874Z",
     "start_time": "2022-04-20T12:38:28.408132Z"
    },
    "colab": {
     "base_uri": "https://localhost:8080/"
    },
    "executionInfo": {
     "elapsed": 239,
     "status": "ok",
     "timestamp": 1650537215275,
     "user": {
      "displayName": "최윤아",
      "userId": "13391811122094852456"
     },
     "user_tz": -540
    },
    "id": "38be0d02",
    "outputId": "82bc0cd9-92b8-429c-a0a6-f97397381de7"
   },
   "outputs": [
    {
     "data": {
      "text/plain": [
       "{'card': '삼성카드',\n",
       " 'coin': {'100원': 1, '500원': 10},\n",
       " 'id': ['주민등록증', '운전면허증', '운전면허증'],\n",
       " 'licence': '운전면허증'}"
      ]
     },
     "execution_count": 43,
     "metadata": {},
     "output_type": "execute_result"
    }
   ],
   "source": [
    "# 딕셔너리 내부 속성 값에 접근해서 값 업데이트도 가능하다.\n",
    "# wallet의 coin key값을 갖는 값에 50원:1 값을 추가한다.\n",
    "wallet['coin']['500원'] = 10\n",
    "wallet"
   ]
  },
  {
   "cell_type": "code",
   "execution_count": null,
   "id": "0638f815",
   "metadata": {
    "colab": {
     "base_uri": "https://localhost:8080/"
    },
    "executionInfo": {
     "elapsed": 7,
     "status": "ok",
     "timestamp": 1650537216450,
     "user": {
      "displayName": "최윤아",
      "userId": "13391811122094852456"
     },
     "user_tz": -540
    },
    "id": "0638f815",
    "outputId": "78fe6d31-76e6-4800-d48f-fdfed22666ca"
   },
   "outputs": [
    {
     "data": {
      "text/plain": [
       "{'card': '삼성카드',\n",
       " 'coin': {'100원': 1, '500원': 10},\n",
       " 'id': ['주민등록증', '운전면허증', '운전면허증', '운전면허증'],\n",
       " 'licence': '운전면허증'}"
      ]
     },
     "execution_count": 44,
     "metadata": {},
     "output_type": "execute_result"
    }
   ],
   "source": [
    "# wallet id key값에 '운전면허증' 추가\n",
    "# 문제가 한 단어로 들어와도 이걸 한방에 해결하려고 하는 순간 꼬인다.\n",
    "# 문제를 조각조각 작업단위로 쪼개주세요.\n",
    "# 하나하나 풀다보면 문제 풀려있습니다.\n",
    "\n",
    "wallet['id'].append('운전면허증')\n",
    "wallet"
   ]
  },
  {
   "cell_type": "markdown",
   "id": "9a9f4045",
   "metadata": {
    "id": "9a9f4045"
   },
   "source": [
    "### 딕셔너리 삭제"
   ]
  },
  {
   "cell_type": "code",
   "execution_count": null,
   "id": "cc493865",
   "metadata": {
    "colab": {
     "base_uri": "https://localhost:8080/"
    },
    "executionInfo": {
     "elapsed": 253,
     "status": "ok",
     "timestamp": 1650537251283,
     "user": {
      "displayName": "최윤아",
      "userId": "13391811122094852456"
     },
     "user_tz": -540
    },
    "id": "cc493865",
    "outputId": "9ca3d355-d263-4bf6-c6d0-ddfa66018fed"
   },
   "outputs": [
    {
     "data": {
      "text/plain": [
       "{'card': '삼성카드',\n",
       " 'coin': {'100원': 1, '500원': 10},\n",
       " 'id': ['주민등록증', '운전면허증', '운전면허증', '운전면허증']}"
      ]
     },
     "execution_count": 45,
     "metadata": {},
     "output_type": "execute_result"
    }
   ],
   "source": [
    "# 딕셔너리 항목 제거\n",
    "# 딕셔너리의 key값까지 전달하여 해당 key값과 값을 동시에 제거\n",
    "del wallet['licence'] # del 은 메모리상에서 지워버림\n",
    "wallet"
   ]
  },
  {
   "cell_type": "code",
   "execution_count": null,
   "id": "51791cd0",
   "metadata": {
    "colab": {
     "base_uri": "https://localhost:8080/"
    },
    "executionInfo": {
     "elapsed": 4,
     "status": "ok",
     "timestamp": 1650537273736,
     "user": {
      "displayName": "최윤아",
      "userId": "13391811122094852456"
     },
     "user_tz": -540
    },
    "id": "51791cd0",
    "outputId": "029c6135-4f0c-4501-d9b9-b09d28f929e8"
   },
   "outputs": [
    {
     "data": {
      "text/plain": [
       "{}"
      ]
     },
     "execution_count": 46,
     "metadata": {},
     "output_type": "execute_result"
    }
   ],
   "source": [
    "# 딕셔너리 원소 전체 삭제\n",
    "wallet.clear() # 메모리상에는 남아있음, 호출이 되니까\n",
    "wallet"
   ]
  },
  {
   "cell_type": "code",
   "execution_count": null,
   "id": "1882ad97",
   "metadata": {
    "colab": {
     "base_uri": "https://localhost:8080/",
     "height": 211
    },
    "executionInfo": {
     "elapsed": 273,
     "status": "error",
     "timestamp": 1650537307544,
     "user": {
      "displayName": "최윤아",
      "userId": "13391811122094852456"
     },
     "user_tz": -540
    },
    "id": "1882ad97",
    "outputId": "a10efad3-332b-4a42-8e1b-a6e7fd5994da"
   },
   "outputs": [
    {
     "ename": "NameError",
     "evalue": "ignored",
     "output_type": "error",
     "traceback": [
      "\u001b[0;31m---------------------------------------------------------------------------\u001b[0m",
      "\u001b[0;31mNameError\u001b[0m                                 Traceback (most recent call last)",
      "\u001b[0;32m<ipython-input-47-c974c300ef89>\u001b[0m in \u001b[0;36m<module>\u001b[0;34m()\u001b[0m\n\u001b[1;32m      1\u001b[0m \u001b[0;31m# 딕셔너리 변수 완전 삭제\u001b[0m\u001b[0;34m\u001b[0m\u001b[0;34m\u001b[0m\u001b[0;34m\u001b[0m\u001b[0m\n\u001b[1;32m      2\u001b[0m \u001b[0;32mdel\u001b[0m \u001b[0mwallet\u001b[0m\u001b[0;34m\u001b[0m\u001b[0;34m\u001b[0m\u001b[0m\n\u001b[0;32m----> 3\u001b[0;31m \u001b[0mwallet\u001b[0m\u001b[0;34m\u001b[0m\u001b[0;34m\u001b[0m\u001b[0m\n\u001b[0m",
      "\u001b[0;31mNameError\u001b[0m: name 'wallet' is not defined"
     ]
    }
   ],
   "source": [
    "# 딕셔너리 변수 완전 삭제\n",
    "del wallet # del은 메모리상에서 아예 삭제해버림!\n",
    "wallet"
   ]
  },
  {
   "cell_type": "markdown",
   "id": "b056f0c1",
   "metadata": {
    "id": "b056f0c1"
   },
   "source": [
    "### 딕셔너리 추가 명령어"
   ]
  },
  {
   "cell_type": "code",
   "execution_count": null,
   "id": "d630f61d",
   "metadata": {
    "colab": {
     "base_uri": "https://localhost:8080/"
    },
    "executionInfo": {
     "elapsed": 8,
     "status": "ok",
     "timestamp": 1650537415463,
     "user": {
      "displayName": "최윤아",
      "userId": "13391811122094852456"
     },
     "user_tz": -540
    },
    "id": "d630f61d",
    "outputId": "318c5364-3ef4-4879-c175-0ca950fe05a2"
   },
   "outputs": [
    {
     "name": "stdout",
     "output_type": "stream",
     "text": [
      "SK카드\n",
      "75000\n",
      "{'500원': 1, '100원': 1}\n",
      "['주민등록증', '여권']\n",
      "운전면허증\n"
     ]
    }
   ],
   "source": [
    "# 딕셔너리 내 키 값을 확인\n",
    "for item in list(wallet.keys()) :\n",
    "    print(wallet[item])"
   ]
  },
  {
   "cell_type": "code",
   "execution_count": null,
   "id": "406af684",
   "metadata": {
    "colab": {
     "base_uri": "https://localhost:8080/"
    },
    "executionInfo": {
     "elapsed": 8,
     "status": "ok",
     "timestamp": 1650537348412,
     "user": {
      "displayName": "최윤아",
      "userId": "13391811122094852456"
     },
     "user_tz": -540
    },
    "id": "406af684",
    "outputId": "14990b03-f3a5-42a2-9aac-8fdda1305722"
   },
   "outputs": [
    {
     "data": {
      "text/plain": [
       "dict_values(['SK카드', 75000, {'500원': 1, '100원': 1}, ['주민등록증', '여권'], '운전면허증'])"
      ]
     },
     "execution_count": 50,
     "metadata": {},
     "output_type": "execute_result"
    }
   ],
   "source": [
    "# 딕셔너리 내 값을 확인\n",
    "wallet.values()"
   ]
  },
  {
   "cell_type": "code",
   "execution_count": null,
   "id": "d7a42581",
   "metadata": {
    "colab": {
     "base_uri": "https://localhost:8080/"
    },
    "executionInfo": {
     "elapsed": 3,
     "status": "ok",
     "timestamp": 1650537359886,
     "user": {
      "displayName": "최윤아",
      "userId": "13391811122094852456"
     },
     "user_tz": -540
    },
    "id": "d7a42581",
    "outputId": "f1d423fa-9932-44f8-ce83-3b2b04e9e4cc"
   },
   "outputs": [
    {
     "data": {
      "text/plain": [
       "dict_items([('card', 'SK카드'), ('cash', 75000), ('coin', {'500원': 1, '100원': 1}), ('id', ['주민등록증', '여권']), ('licence', '운전면허증')])"
      ]
     },
     "execution_count": 51,
     "metadata": {},
     "output_type": "execute_result"
    }
   ],
   "source": [
    "# 딕셔너리의 key, value 쌍을 확인\n",
    "wallet.items()"
   ]
  },
  {
   "cell_type": "code",
   "execution_count": null,
   "id": "_OipFya-s5T_",
   "metadata": {
    "id": "_OipFya-s5T_"
   },
   "outputs": [],
   "source": [
    "# 에러가 뜨는 경우\n",
    "# 컴퓨터 멍청멍청~ 못알아먹는거\n",
    "# 에러는 결국에 컴퓨터가 못알아먹고 되묻는것\n",
    "# 초보자의 에러 99%는 오타입니다."
   ]
  },
  {
   "cell_type": "markdown",
   "id": "5ecfac20",
   "metadata": {
    "id": "5ecfac20"
   },
   "source": [
    "## 반복문"
   ]
  },
  {
   "cell_type": "markdown",
   "id": "5d87e568",
   "metadata": {
    "id": "5d87e568"
   },
   "source": [
    "### for 문의 구조\n",
    ">**`for` `반복자` in `반복범위` `:`**  # 반복범위 안에서 반복자가 정의되며\n",
    ">>**`실행코드`** # 코드가 실행된다.\n",
    "    \n",
    "- 반복자 : 구간(범위)를 순환하며 정의되는 변수  \n",
    "- 반복범위 : **`list`** 등 순서가 존재하는 자료구조  \n",
    "- 관례적으로 심플한 반복자는 **`_`**(반복자를 작업에 사용하지 않을경우) 혹은 영문자 **`i`**(iterator)를 사용한다.  \n",
    "\n",
    "혹은 **`range()`** 명령어로 혹은 반복작업 횟수로 설정 가능      \n",
    "> **`range()`** 명령어  \n",
    "> **`range(횟수)`** 횟수만큼의 범위 생성  \n",
    "> **`range(x, y, z)`** x 부터 y-1 까지 z스텝 범위를 만들어주는 함수  "
   ]
  },
  {
   "cell_type": "code",
   "execution_count": null,
   "id": "6YossFiruUHK",
   "metadata": {
    "colab": {
     "base_uri": "https://localhost:8080/"
    },
    "executionInfo": {
     "elapsed": 7,
     "status": "ok",
     "timestamp": 1650537879488,
     "user": {
      "displayName": "최윤아",
      "userId": "13391811122094852456"
     },
     "user_tz": -540
    },
    "id": "6YossFiruUHK",
    "outputId": "450d36e2-a3f7-46c6-edc3-4aeaf64f80fc"
   },
   "outputs": [
    {
     "data": {
      "text/plain": [
       "range(0, 5)"
      ]
     },
     "execution_count": 54,
     "metadata": {},
     "output_type": "execute_result"
    }
   ],
   "source": [
    "range(5)"
   ]
  },
  {
   "cell_type": "code",
   "execution_count": null,
   "id": "K-XMGt1BuAQg",
   "metadata": {
    "colab": {
     "base_uri": "https://localhost:8080/"
    },
    "executionInfo": {
     "elapsed": 278,
     "status": "ok",
     "timestamp": 1650537816228,
     "user": {
      "displayName": "최윤아",
      "userId": "13391811122094852456"
     },
     "user_tz": -540
    },
    "id": "K-XMGt1BuAQg",
    "outputId": "2d9a7977-1a5d-4789-eef3-5051ef3a154b"
   },
   "outputs": [
    {
     "name": "stdout",
     "output_type": "stream",
     "text": [
      "반복 중입니다.\n",
      "반복 중입니다.\n",
      "반복 중입니다.\n",
      "반복 중입니다.\n",
      "반복 중입니다.\n"
     ]
    }
   ],
   "source": [
    "for _ in range(5):\n",
    "    print('반복 중입니다.')"
   ]
  },
  {
   "cell_type": "code",
   "execution_count": null,
   "id": "4UNm91FMugCd",
   "metadata": {
    "colab": {
     "base_uri": "https://localhost:8080/"
    },
    "executionInfo": {
     "elapsed": 5,
     "status": "ok",
     "timestamp": 1650537948691,
     "user": {
      "displayName": "최윤아",
      "userId": "13391811122094852456"
     },
     "user_tz": -540
    },
    "id": "4UNm91FMugCd",
    "outputId": "2a9dd51a-94b3-4c01-ee83-c82812acd1fc"
   },
   "outputs": [
    {
     "name": "stdout",
     "output_type": "stream",
     "text": [
      "0번 반복 중입니다.\n",
      "1번 반복 중입니다.\n",
      "2번 반복 중입니다.\n",
      "3번 반복 중입니다.\n",
      "4번 반복 중입니다.\n",
      "5번 반복 중입니다.\n",
      "6번 반복 중입니다.\n",
      "7번 반복 중입니다.\n",
      "8번 반복 중입니다.\n",
      "9번 반복 중입니다.\n"
     ]
    }
   ],
   "source": [
    "for i in range(10):\n",
    "    print(f'{i}번 반복 중입니다.')"
   ]
  },
  {
   "cell_type": "code",
   "execution_count": null,
   "id": "041f4a10",
   "metadata": {
    "colab": {
     "base_uri": "https://localhost:8080/"
    },
    "executionInfo": {
     "elapsed": 4,
     "status": "ok",
     "timestamp": 1650539003649,
     "user": {
      "displayName": "최윤아",
      "userId": "13391811122094852456"
     },
     "user_tz": -540
    },
    "id": "041f4a10",
    "outputId": "8899e28d-cedf-4246-91e6-7c592dab4421"
   },
   "outputs": [
    {
     "name": "stdout",
     "output_type": "stream",
     "text": [
      "5\n",
      "10\n",
      "15\n"
     ]
    }
   ],
   "source": [
    "# range 함수의 조건 추가\n",
    "# 0부터 19까지 5의 배수만을 출력\n",
    "# range(x,y,z)\n",
    "# x부터 y-1까지의 범위에서 z step순으로 데이터 구간 빼옴\n",
    "\n",
    "for i in range(5, 20, 5) :\n",
    "    print(i)"
   ]
  },
  {
   "cell_type": "code",
   "execution_count": null,
   "id": "764977d0",
   "metadata": {
    "colab": {
     "base_uri": "https://localhost:8080/"
    },
    "executionInfo": {
     "elapsed": 281,
     "status": "ok",
     "timestamp": 1650539128779,
     "user": {
      "displayName": "최윤아",
      "userId": "13391811122094852456"
     },
     "user_tz": -540
    },
    "id": "764977d0",
    "outputId": "e3c737ee-9026-44f7-8a32-53e8b11d2318"
   },
   "outputs": [
    {
     "name": "stdout",
     "output_type": "stream",
     "text": [
      "0 0\n",
      "0 1\n",
      "0 2\n",
      "1 0\n",
      "1 1\n",
      "1 2\n",
      "2 0\n",
      "2 1\n",
      "2 2\n"
     ]
    }
   ],
   "source": [
    "# for문의 중첩\n",
    "for i in range(3):\n",
    "    for j in range(5):\n",
    "        if j == 3 :\n",
    "            break # 안쪽에 있는 for문만 깨지는 것\n",
    "        print(i, j)"
   ]
  },
  {
   "cell_type": "code",
   "execution_count": null,
   "id": "a995e2b0",
   "metadata": {
    "colab": {
     "base_uri": "https://localhost:8080/"
    },
    "executionInfo": {
     "elapsed": 257,
     "status": "ok",
     "timestamp": 1650539471168,
     "user": {
      "displayName": "최윤아",
      "userId": "13391811122094852456"
     },
     "user_tz": -540
    },
    "id": "a995e2b0",
    "outputId": "f32c42df-0992-46fc-d273-61578ed10d06"
   },
   "outputs": [
    {
     "name": "stdout",
     "output_type": "stream",
     "text": [
      "2 x 1 = 2\n",
      "2 x 2 = 4\n",
      "2 x 3 = 6\n",
      "2 x 4 = 8\n",
      "2 x 5 = 10\n",
      "2 x 6 = 12\n",
      "2 x 7 = 14\n",
      "2 x 8 = 16\n",
      "2 x 9 = 18\n",
      "\n",
      "3 x 1 = 3\n",
      "3 x 2 = 6\n",
      "3 x 3 = 9\n",
      "3 x 4 = 12\n",
      "3 x 5 = 15\n",
      "3 x 6 = 18\n",
      "3 x 7 = 21\n",
      "3 x 8 = 24\n",
      "3 x 9 = 27\n",
      "\n",
      "4 x 1 = 4\n",
      "4 x 2 = 8\n",
      "4 x 3 = 12\n",
      "4 x 4 = 16\n",
      "4 x 5 = 20\n",
      "4 x 6 = 24\n",
      "4 x 7 = 28\n",
      "4 x 8 = 32\n",
      "4 x 9 = 36\n",
      "\n",
      "5 x 1 = 5\n",
      "5 x 2 = 10\n",
      "5 x 3 = 15\n",
      "5 x 4 = 20\n",
      "5 x 5 = 25\n",
      "5 x 6 = 30\n",
      "5 x 7 = 35\n",
      "5 x 8 = 40\n",
      "5 x 9 = 45\n",
      "\n",
      "6 x 1 = 6\n",
      "6 x 2 = 12\n",
      "6 x 3 = 18\n",
      "6 x 4 = 24\n",
      "6 x 5 = 30\n",
      "6 x 6 = 36\n",
      "6 x 7 = 42\n",
      "6 x 8 = 48\n",
      "6 x 9 = 54\n",
      "\n",
      "7 x 1 = 7\n",
      "7 x 2 = 14\n",
      "7 x 3 = 21\n",
      "7 x 4 = 28\n",
      "7 x 5 = 35\n",
      "7 x 6 = 42\n",
      "7 x 7 = 49\n",
      "7 x 8 = 56\n",
      "7 x 9 = 63\n",
      "\n",
      "8 x 1 = 8\n",
      "8 x 2 = 16\n",
      "8 x 3 = 24\n",
      "8 x 4 = 32\n",
      "8 x 5 = 40\n",
      "8 x 6 = 48\n",
      "8 x 7 = 56\n",
      "8 x 8 = 64\n",
      "8 x 9 = 72\n",
      "\n",
      "9 x 1 = 9\n",
      "9 x 2 = 18\n",
      "9 x 3 = 27\n",
      "9 x 4 = 36\n",
      "9 x 5 = 45\n",
      "9 x 6 = 54\n",
      "9 x 7 = 63\n",
      "9 x 8 = 72\n",
      "9 x 9 = 81\n",
      "\n"
     ]
    }
   ],
   "source": [
    "# for 문으로 range() 명령어만을 사용하여 구구단 구단을 출력해봅시다.\n",
    "\n",
    "# for i in range(1,10) :\n",
    "#     print(f'2 x {i} = ',i * 2)\n",
    "# print('')\n",
    "# for i in range(1,10) :\n",
    "#     print(f'3 x {i} = ',i * 3)\n",
    "# print('')\n",
    "# for i in range(1,10) :\n",
    "#     print(f'4 x {i} = ',i * 4)\n",
    "\n",
    "\n",
    "for i in range(2,10) :\n",
    "    for j in range(1,10) :\n",
    "        print(f'{i} x {j} = {i * j}')\n",
    "    print('')"
   ]
  },
  {
   "cell_type": "markdown",
   "id": "64b6decd",
   "metadata": {
    "id": "64b6decd"
   },
   "source": [
    "### 자료구조를 순환하는 for문의 활용(매우 중요)"
   ]
  },
  {
   "cell_type": "code",
   "execution_count": 2,
   "id": "92fb4374",
   "metadata": {
    "ExecuteTime": {
     "end_time": "2022-04-20T12:48:09.458073Z",
     "start_time": "2022-04-20T12:48:09.448098Z"
    },
    "executionInfo": {
     "elapsed": 5,
     "status": "ok",
     "timestamp": 1650799155121,
     "user": {
      "displayName": "최윤아",
      "userId": "13391811122094852456"
     },
     "user_tz": -540
    },
    "id": "92fb4374"
   },
   "outputs": [],
   "source": [
    "test_list1 = [10, 20, 30, 40, 50, 60, 70, 80, 90]\n",
    "test_list2 = ['이름', '사는곳', '사는동네', '좋아하는 카페', '음악', '반려묘', '취미']\n",
    "test_list3 = ['변치웅', '서울 용산구', '해방촌', '르카페', '재즈', '치즈', '요리']"
   ]
  },
  {
   "cell_type": "code",
   "execution_count": null,
   "id": "5Pa5L6BL0jDn",
   "metadata": {
    "colab": {
     "base_uri": "https://localhost:8080/"
    },
    "executionInfo": {
     "elapsed": 6,
     "status": "ok",
     "timestamp": 1650539605450,
     "user": {
      "displayName": "최윤아",
      "userId": "13391811122094852456"
     },
     "user_tz": -540
    },
    "id": "5Pa5L6BL0jDn",
    "outputId": "f71e7226-c97c-4522-bb63-9283dea513c2"
   },
   "outputs": [
    {
     "name": "stdout",
     "output_type": "stream",
     "text": [
      "0.1\n",
      "0.2\n",
      "0.3\n",
      "0.4\n",
      "0.5\n",
      "0.6\n",
      "0.7\n",
      "0.8\n",
      "0.9\n"
     ]
    }
   ],
   "source": [
    "# item인데 i를 못쓰니까 인덱스가 없음\n",
    "for item in test_list1:\n",
    "    print(item / 100)"
   ]
  },
  {
   "cell_type": "code",
   "execution_count": null,
   "id": "c45d3467",
   "metadata": {
    "colab": {
     "base_uri": "https://localhost:8080/"
    },
    "executionInfo": {
     "elapsed": 4,
     "status": "ok",
     "timestamp": 1650539687238,
     "user": {
      "displayName": "최윤아",
      "userId": "13391811122094852456"
     },
     "user_tz": -540
    },
    "id": "c45d3467",
    "outputId": "1f7dc574-31d4-42e9-ae99-c7274c6a04f4"
   },
   "outputs": [
    {
     "name": "stdout",
     "output_type": "stream",
     "text": [
      "0 10\n",
      "1 20\n",
      "2 30\n",
      "3 40\n",
      "4 50\n",
      "5 60\n",
      "6 70\n",
      "7 80\n",
      "8 90\n"
     ]
    }
   ],
   "source": [
    "# enumerate, zip 활용\n",
    "for index, item in enumerate(test_list1):\n",
    "    print(index, item)\n"
   ]
  },
  {
   "cell_type": "code",
   "execution_count": 4,
   "id": "IEwLot971cnd",
   "metadata": {
    "executionInfo": {
     "elapsed": 6,
     "status": "ok",
     "timestamp": 1650799160479,
     "user": {
      "displayName": "최윤아",
      "userId": "13391811122094852456"
     },
     "user_tz": -540
    },
    "id": "IEwLot971cnd"
   },
   "outputs": [],
   "source": [
    "test_list2 = ['이름', '사는곳', '사는동네', '좋아하는 카페', '음악', '반려묘', '취미']\n",
    "test_list3 = ['변치웅', '서울 용산구', '해방촌', '르카페', '재즈', '치즈', '요리']"
   ]
  },
  {
   "cell_type": "code",
   "execution_count": 5,
   "id": "5gbZqXZJ1deo",
   "metadata": {
    "colab": {
     "base_uri": "https://localhost:8080/"
    },
    "executionInfo": {
     "elapsed": 6,
     "status": "ok",
     "timestamp": 1650799162096,
     "user": {
      "displayName": "최윤아",
      "userId": "13391811122094852456"
     },
     "user_tz": -540
    },
    "id": "5gbZqXZJ1deo",
    "outputId": "6251d6b6-64f9-446e-b346-adc9482a27ce"
   },
   "outputs": [
    {
     "name": "stdout",
     "output_type": "stream",
     "text": [
      "이름 변치웅\n",
      "사는곳 서울 용산구\n",
      "사는동네 해방촌\n",
      "좋아하는 카페 르카페\n",
      "음악 재즈\n",
      "반려묘 치즈\n",
      "취미 요리\n"
     ]
    }
   ],
   "source": [
    "# zip : 갯수가 같은 리스트끼리 합칠 수 있음\n",
    "# zip(key, value)\n",
    "for item1, item2 in zip(test_list2, test_list3):        \n",
    "    print(item1, item2)"
   ]
  },
  {
   "cell_type": "code",
   "execution_count": 11,
   "id": "25eef50c",
   "metadata": {
    "colab": {
     "base_uri": "https://localhost:8080/"
    },
    "executionInfo": {
     "elapsed": 7,
     "status": "ok",
     "timestamp": 1650799258173,
     "user": {
      "displayName": "최윤아",
      "userId": "13391811122094852456"
     },
     "user_tz": -540
    },
    "id": "25eef50c",
    "outputId": "f2e130b6-ea15-4314-ff69-c73c5821110c"
   },
   "outputs": [
    {
     "name": "stdout",
     "output_type": "stream",
     "text": [
      "{'이름': '변치웅', '사는곳': '서울 용산구', '사는동네': '해방촌', '좋아하는 카페': '르카페', '음악': '재즈', '반려묘': '치즈', '취미': '요리'}\n",
      "{'변치웅': '이름', '서울 용산구': '사는곳', '해방촌': '사는동네', '르카페': '좋아하는 카페', '재즈': '음악', '치즈': '반려묘', '요리': '취미'}\n"
     ]
    }
   ],
   "source": [
    "# list comprehension\n",
    "test_list = [0, 1, 2, 3, 4, 5, 6, 7, 8, 9]\n",
    "test_list = [i for i in range(10) if i % 2 == 0]\n",
    "# else 포함되면 복잡해짐.. else를 사용하면 조건이 앞으로 와야함\n",
    "test_list = [i if i % 2 == 0 else 10 * i  for i in range(10)]\n",
    "test_list\n",
    "\n",
    "# dict comprehension\n",
    "test_dict1 = {item1 : item2  for item1, item2 in zip(test_list2, test_list3)}     \n",
    "test_dict2 = {item2 : item1  for item1, item2 in zip(test_list2, test_list3)}     \n",
    "print(test_dict1)\n",
    "print(test_dict2)\n",
    "# Tip!! 현업에서는 key , value 값을 검증하기 위해 둘다 만듦!"
   ]
  },
  {
   "cell_type": "code",
   "execution_count": null,
   "id": "gYd9_SYj4STP",
   "metadata": {
    "id": "gYd9_SYj4STP"
   },
   "outputs": [],
   "source": [
    "# 데이터 --> 갯수가 정해져 있음\n",
    "# while문은 딥러닝에서 최적화 찾을 때나 씀.. 사용 빈도가 낮음!\n",
    "# for문을 많이 씀"
   ]
  },
  {
   "cell_type": "markdown",
   "id": "6121eb35",
   "metadata": {
    "id": "6121eb35"
   },
   "source": [
    "### while\n",
    "> - 코드의 무한 반복적인 실행을 위한 반복문  \n",
    "> - 조건식이 참일 경우 실행코드가 무한반복하여 실행 됨  \n",
    "> - 보통은 프로그램을 실행 대기상태로 두거나 입력값을 받는 등의 용도로 사용.(데이터 분석 사용빈도 낮음)  "
   ]
  },
  {
   "cell_type": "markdown",
   "id": "f8f93f6a",
   "metadata": {
    "id": "f8f93f6a"
   },
   "source": [
    "### while문의 구조\n",
    ">**`while` `조건식` `:`** # 조건식이 참이라면\n",
    ">>**`실행코드`** # 코드가 무한반복 실행\n",
    "        \n",
    "`while` 문의 조건식이 참일 경우 무조건 실행되게끔 짜여진 구조.  \n",
    "`while` 문을 사용 할 때에는 반복구문을 어떻게 종료 해야할지 설정해야 함."
   ]
  },
  {
   "cell_type": "code",
   "execution_count": null,
   "id": "87d41432",
   "metadata": {
    "colab": {
     "base_uri": "https://localhost:8080/"
    },
    "executionInfo": {
     "elapsed": 8,
     "status": "ok",
     "timestamp": 1650540974078,
     "user": {
      "displayName": "최윤아",
      "userId": "13391811122094852456"
     },
     "user_tz": -540
    },
    "id": "87d41432",
    "outputId": "eb66e3d5-a87e-4989-c654-61122d120271"
   },
   "outputs": [
    {
     "name": "stdout",
     "output_type": "stream",
     "text": [
      "반복중입니다.\n",
      "1\n",
      "반복중입니다.\n",
      "2\n",
      "반복중입니다.\n",
      "3\n",
      "반복중입니다.\n",
      "4\n",
      "반복중입니다.\n",
      "5\n",
      "반복중입니다.\n",
      "6\n",
      "반복중입니다.\n",
      "7\n",
      "반복중입니다.\n",
      "8\n",
      "반복중입니다.\n",
      "9\n",
      "반복중입니다.\n",
      "10\n"
     ]
    }
   ],
   "source": [
    "# 기본적인 while 구문\n",
    "# for문과는 달리 조건식을 while 구문 바로 뒤에 적어줌\n",
    "# while문의 무한루프를 컨트롤 하기위한 변수 설정하고 조건식을 추가하여 코드실행을 컨트롤\n",
    "\n",
    "a = 0\n",
    "while True :\n",
    "    print('반복중입니다.')\n",
    "    a += 1 # 반복자 처럼 사용가능한 변수\n",
    "    print(a) # 횟수 출력\n",
    "    if a == 10 :\n",
    "        break\n",
    "\n",
    "# 반복을 진행하다가 멈추고 싶다\n",
    "    # a += 1\n",
    "    #if a > 50:\n",
    "    #    break"
   ]
  },
  {
   "cell_type": "code",
   "execution_count": null,
   "id": "bPkr7pQW6Eot",
   "metadata": {
    "colab": {
     "base_uri": "https://localhost:8080/"
    },
    "executionInfo": {
     "elapsed": 5,
     "status": "ok",
     "timestamp": 1650541631409,
     "user": {
      "displayName": "최윤아",
      "userId": "13391811122094852456"
     },
     "user_tz": -540
    },
    "id": "bPkr7pQW6Eot",
    "outputId": "b85a06ab-ed40-47f4-b500-cbebf1f4f489"
   },
   "outputs": [
    {
     "name": "stdout",
     "output_type": "stream",
     "text": [
      "1 1\n",
      "3 4\n",
      "5 9\n",
      "7 16\n",
      "9 25\n",
      "11 36\n",
      "13 49\n",
      "15 64\n",
      "17 81\n",
      "19 100\n",
      "21 121\n",
      "23 144\n",
      "25 169\n",
      "27 196\n",
      "29 225\n",
      "31 256\n",
      "33 289\n",
      "35 324\n",
      "37 361\n",
      "39 400\n",
      "41 441\n",
      "43 484\n",
      "45 529\n",
      "47 576\n",
      "49 625\n",
      "51 676\n",
      "53 729\n",
      "55 784\n",
      "57 841\n",
      "59 900\n",
      "61 961\n",
      "63 1024\n",
      "65 1089\n",
      "67 1156\n",
      "69 1225\n",
      "71 1296\n",
      "73 1369\n",
      "75 1444\n",
      "77 1521\n",
      "79 1600\n",
      "81 1681\n",
      "83 1764\n",
      "85 1849\n",
      "87 1936\n",
      "89 2025\n",
      "91 2116\n",
      "93 2209\n",
      "95 2304\n",
      "97 2401\n",
      "99 2500\n",
      "0\n",
      "1\n",
      "2\n",
      "3\n",
      "4\n",
      "5\n",
      "6\n",
      "7\n",
      "8\n",
      "9\n",
      "10\n",
      "11\n",
      "12\n",
      "13\n",
      "14\n",
      "15\n",
      "16\n",
      "17\n",
      "18\n",
      "19\n",
      "20\n",
      "21\n",
      "22\n",
      "23\n",
      "24\n",
      "25\n",
      "26\n",
      "27\n",
      "28\n",
      "29\n",
      "30\n",
      "31\n",
      "32\n",
      "33\n",
      "34\n",
      "35\n",
      "36\n",
      "37\n",
      "38\n",
      "39\n",
      "40\n",
      "41\n",
      "42\n",
      "43\n",
      "44\n",
      "45\n",
      "46\n",
      "47\n",
      "48\n",
      "49\n",
      "50\n",
      "51\n",
      "52\n",
      "53\n",
      "54\n",
      "55\n",
      "56\n",
      "57\n",
      "58\n",
      "59\n",
      "60\n",
      "61\n",
      "62\n",
      "63\n",
      "64\n",
      "65\n",
      "66\n",
      "67\n",
      "68\n",
      "69\n",
      "70\n",
      "71\n",
      "72\n",
      "73\n",
      "74\n",
      "75\n",
      "76\n",
      "77\n",
      "78\n",
      "79\n",
      "80\n",
      "81\n",
      "82\n",
      "83\n",
      "84\n",
      "85\n",
      "86\n",
      "87\n",
      "88\n",
      "89\n",
      "90\n",
      "91\n",
      "92\n",
      "93\n",
      "94\n",
      "95\n",
      "96\n",
      "97\n",
      "98\n",
      "99\n",
      "100\n",
      "2500\n"
     ]
    }
   ],
   "source": [
    "# 1~100 정수들 중에 홀수의 합을 while을 사용하여 구해보자\n",
    "\n",
    "h = -1\n",
    "num_sum =  0\n",
    "\n",
    "while True :\n",
    "    h += 2\n",
    "    num_sum += h\n",
    "    print(h, num_sum)\n",
    "    if h > 98 :\n",
    "        break\n",
    "\n",
    "\n",
    "total = 0\n",
    "a = 0\n",
    "while True :\n",
    "    print(a)\n",
    "    a += 1\n",
    "    if a > 100 :\n",
    "        break\n",
    "    if a % 2 == 1 :\n",
    "        total += a\n",
    "print(total)"
   ]
  },
  {
   "cell_type": "markdown",
   "id": "9f62a5c7",
   "metadata": {
    "id": "9f62a5c7"
   },
   "source": [
    "## 함수와 클래스"
   ]
  },
  {
   "cell_type": "markdown",
   "id": "d475a7e1",
   "metadata": {
    "id": "d475a7e1"
   },
   "source": [
    "### 함수\n",
    "> 수학적 정의의 **함수**란?  \n",
    "$y$ = $f(x)$\n",
    "\n",
    "> 프로그래밍에서의 함수란?  \n",
    "자주 사용해야 하는 코드를 **재사용하기 위한 코드의 묶음**\n",
    "\n",
    "> 데이터과학에서의 함수란?  \n",
    "입력값을 받아 사용자가 원하는 처리를 한 후 결과값을 되돌려 받는 코드의 묶음"
   ]
  },
  {
   "cell_type": "markdown",
   "id": "ebd360f9",
   "metadata": {
    "id": "ebd360f9"
   },
   "source": [
    "### 함수의 구조\n",
    ">**`def` `함수이름` `(파라메터 혹은 매개변수)` `:`** # 파라메터는 없어도 가능함. 함수 정의 후 `:`으로 마무리 한다.\n",
    ">>**`실행코드`**  \n",
    "**`실행코드`**  \n",
    "**`실행코드`**  \n",
    "**`return` `반환값`** # 함수에서 실행코드를 거친 결과 값 혹은 변수(반환값)을 리턴/y값을 return을 통해 빼줌\n",
    "    \n",
    ">파라메터 혹은 매개변수 : 함수의 입력값, 혹은 함수의 작동에 영향을 줄 수 있는 값(변수)  \n",
    "파라메터는 없어도 되지만 세미콜론은 반드시 찍어준다."
   ]
  },
  {
   "cell_type": "code",
   "execution_count": null,
   "id": "K9vHPGioBpeR",
   "metadata": {
    "id": "K9vHPGioBpeR"
   },
   "outputs": [],
   "source": [
    "# 함수 밖에서 정의 된 변수 : 글로벌변수, 전역변수 <--- 함수 안에서 어디서든지 접근이 가능\n",
    "age = 39"
   ]
  },
  {
   "cell_type": "code",
   "execution_count": 13,
   "id": "3a765be8",
   "metadata": {
    "executionInfo": {
     "elapsed": 468,
     "status": "ok",
     "timestamp": 1650799373213,
     "user": {
      "displayName": "최윤아",
      "userId": "13391811122094852456"
     },
     "user_tz": -540
    },
    "id": "3a765be8"
   },
   "outputs": [],
   "source": [
    "# 파라메터, return, 로컬 변수\n",
    "# 메모리에 함수명이 저장됨\n",
    "# 함수 설정 시 지정한 파라미터 갯수는 호출할 때 갯수, 순서 맞추어서 전달을 해야 함.\n",
    "\n",
    "\n",
    "age = 39\n",
    "def person(name):\n",
    "    email = 'byun0419@gmail.com'\n",
    "    print(f'제 이름은 {name} 나이는 {age} 입니다. 메일은 {email}이다.')\n",
    "\n",
    "    return email"
   ]
  },
  {
   "cell_type": "code",
   "execution_count": 15,
   "id": "QCyiTPjJCbFN",
   "metadata": {
    "colab": {
     "base_uri": "https://localhost:8080/",
     "height": 211
    },
    "executionInfo": {
     "elapsed": 8,
     "status": "error",
     "timestamp": 1650799383685,
     "user": {
      "displayName": "최윤아",
      "userId": "13391811122094852456"
     },
     "user_tz": -540
    },
    "id": "QCyiTPjJCbFN",
    "outputId": "72c8bd6f-f041-4a5b-945b-55762f492e0c"
   },
   "outputs": [
    {
     "ename": "NameError",
     "evalue": "ignored",
     "output_type": "error",
     "traceback": [
      "\u001b[0;31m---------------------------------------------------------------------------\u001b[0m",
      "\u001b[0;31mNameError\u001b[0m                                 Traceback (most recent call last)",
      "\u001b[0;32m<ipython-input-15-0bc36a1bf4a7>\u001b[0m in \u001b[0;36m<module>\u001b[0;34m()\u001b[0m\n\u001b[1;32m      1\u001b[0m \u001b[0;31m# 함수 내부에서 설정한 변수 : 로컬변수, 지역변수\u001b[0m\u001b[0;34m\u001b[0m\u001b[0;34m\u001b[0m\u001b[0;34m\u001b[0m\u001b[0m\n\u001b[1;32m      2\u001b[0m \u001b[0;31m# 함수 밖에서는 접근이 안됨, 함수 실행 후 메모리에서 지워짐\u001b[0m\u001b[0;34m\u001b[0m\u001b[0;34m\u001b[0m\u001b[0;34m\u001b[0m\u001b[0m\n\u001b[0;32m----> 3\u001b[0;31m \u001b[0memail\u001b[0m\u001b[0;34m\u001b[0m\u001b[0;34m\u001b[0m\u001b[0m\n\u001b[0m",
      "\u001b[0;31mNameError\u001b[0m: name 'email' is not defined"
     ]
    }
   ],
   "source": [
    "# 함수 내부에서 설정한 변수 : 로컬변수, 지역변수\n",
    "# 함수 밖에서는 접근이 안됨, 함수 실행 후 메모리에서 지워짐\n",
    "email"
   ]
  },
  {
   "cell_type": "code",
   "execution_count": null,
   "id": "CM0s2msyCdtA",
   "metadata": {
    "colab": {
     "base_uri": "https://localhost:8080/"
    },
    "executionInfo": {
     "elapsed": 273,
     "status": "ok",
     "timestamp": 1650543159356,
     "user": {
      "displayName": "최윤아",
      "userId": "13391811122094852456"
     },
     "user_tz": -540
    },
    "id": "CM0s2msyCdtA",
    "outputId": "7d1e50df-fc04-4953-9ea7-5f1fcc6567d2"
   },
   "outputs": [
    {
     "data": {
      "text/plain": [
       "39"
      ]
     },
     "execution_count": 141,
     "metadata": {},
     "output_type": "execute_result"
    }
   ],
   "source": [
    "age"
   ]
  },
  {
   "cell_type": "code",
   "execution_count": null,
   "id": "UpOFkSzUA-VG",
   "metadata": {
    "colab": {
     "base_uri": "https://localhost:8080/"
    },
    "executionInfo": {
     "elapsed": 261,
     "status": "ok",
     "timestamp": 1650543271849,
     "user": {
      "displayName": "최윤아",
      "userId": "13391811122094852456"
     },
     "user_tz": -540
    },
    "id": "UpOFkSzUA-VG",
    "outputId": "46485717-3f59-42eb-bf7c-b154f793c1f7"
   },
   "outputs": [
    {
     "name": "stdout",
     "output_type": "stream",
     "text": [
      "제 이름은 Eddy 나이는 39 입니다. 메일은 byun0419@gmail.com이다.\n"
     ]
    }
   ],
   "source": [
    "# 함수 호출\n",
    "# 메모리 함수명으로 이동\n",
    "result = person('Eddy')"
   ]
  },
  {
   "cell_type": "code",
   "execution_count": null,
   "id": "0Ei3B3rFC6wd",
   "metadata": {
    "colab": {
     "base_uri": "https://localhost:8080/",
     "height": 35
    },
    "executionInfo": {
     "elapsed": 271,
     "status": "ok",
     "timestamp": 1650543283521,
     "user": {
      "displayName": "최윤아",
      "userId": "13391811122094852456"
     },
     "user_tz": -540
    },
    "id": "0Ei3B3rFC6wd",
    "outputId": "95d569d9-352e-47b6-c634-e1943b9be287"
   },
   "outputs": [
    {
     "data": {
      "application/vnd.google.colaboratory.intrinsic+json": {
       "type": "string"
      },
      "text/plain": [
       "'byun0419@gmail.com'"
      ]
     },
     "execution_count": 146,
     "metadata": {},
     "output_type": "execute_result"
    }
   ],
   "source": [
    "result # return 값만 변수에 저장됨"
   ]
  },
  {
   "cell_type": "code",
   "execution_count": null,
   "id": "CRQ-M1QiDQm_",
   "metadata": {
    "colab": {
     "base_uri": "https://localhost:8080/"
    },
    "executionInfo": {
     "elapsed": 8,
     "status": "ok",
     "timestamp": 1650543391941,
     "user": {
      "displayName": "최윤아",
      "userId": "13391811122094852456"
     },
     "user_tz": -540
    },
    "id": "CRQ-M1QiDQm_",
    "outputId": "3bafe2a2-a4ea-47f4-9b95-65ad480b35a8"
   },
   "outputs": [
    {
     "name": "stdout",
     "output_type": "stream",
     "text": [
      "40\n"
     ]
    }
   ],
   "source": [
    "def print_sum(x, y):\n",
    "    return x + y\n",
    "\n",
    "print(print_sum(10,30))"
   ]
  },
  {
   "cell_type": "markdown",
   "id": "631cf1a5",
   "metadata": {
    "id": "631cf1a5"
   },
   "source": [
    "### 지금까지 우리가 알게 모르게 사용해왔던 함수들\n",
    "`print()`  \n",
    "`int()`  \n",
    "`str()`  \n",
    "`float()`  \n",
    "`input()`  \n",
    "`list()`  \n",
    "`dict()`  \n",
    "`range()`  \n",
    "`append()`   등등등"
   ]
  },
  {
   "cell_type": "markdown",
   "id": "fbe16f3b",
   "metadata": {
    "id": "fbe16f3b"
   },
   "source": [
    "### python 예약어로 지정 된 함수를 쪼개봅시다\n",
    ">`sum()` 함수는 python 언어에 내장되어 있는 함수입니다.  \n",
    "파라메터로 iterable 변수 즉, 반복문으로 내부 인자의 루프를 돌 수 있는 변수를 받습니다.  \n",
    "그리고 그 인자의 합을 출력하는 함수입니다.  \n",
    "\n",
    "> `max()` 함수도 python 내장 함수로서 `sum()`과 같은 형식의 입력값을 받아 최대값을 반환하는 함수입니다.  \n",
    "함수를 쪼개봅시다  "
   ]
  },
  {
   "cell_type": "code",
   "execution_count": null,
   "id": "YD0IqKRREge3",
   "metadata": {
    "colab": {
     "base_uri": "https://localhost:8080/"
    },
    "executionInfo": {
     "elapsed": 267,
     "status": "ok",
     "timestamp": 1650544560708,
     "user": {
      "displayName": "최윤아",
      "userId": "13391811122094852456"
     },
     "user_tz": -540
    },
    "id": "YD0IqKRREge3",
    "outputId": "2395c2ec-cce6-4d27-ae06-c01262b31f62"
   },
   "outputs": [
    {
     "data": {
      "text/plain": [
       "10"
      ]
     },
     "execution_count": 9,
     "metadata": {},
     "output_type": "execute_result"
    }
   ],
   "source": [
    "test_list = [1,2,3,4]\n",
    "sum(test_list)"
   ]
  },
  {
   "cell_type": "code",
   "execution_count": null,
   "id": "22FPbpfpEopo",
   "metadata": {
    "colab": {
     "base_uri": "https://localhost:8080/"
    },
    "executionInfo": {
     "elapsed": 263,
     "status": "ok",
     "timestamp": 1650544564153,
     "user": {
      "displayName": "최윤아",
      "userId": "13391811122094852456"
     },
     "user_tz": -540
    },
    "id": "22FPbpfpEopo",
    "outputId": "a6321cfe-3e74-4e4f-cc41-f880811b9ddc"
   },
   "outputs": [
    {
     "data": {
      "text/plain": [
       "10"
      ]
     },
     "execution_count": 10,
     "metadata": {},
     "output_type": "execute_result"
    }
   ],
   "source": [
    "# sum_sum\n",
    "\n",
    "# 파라미터 있어야하는지 없어도 되는지\n",
    "# 함수 정의\n",
    "# 합 저장하는 변수\n",
    "# 파라미터로 전달받는 자료구조 순환하고 (자료구조를 순환하는 for문의 활용)\n",
    "# 합을 더하고\n",
    "# 합출력\n",
    "\n",
    "\n",
    "def sum_sum(x) :\n",
    "    total = 0\n",
    "    for i in x :\n",
    "        if type(x) == 'int' or type(x) == 'list' :\n",
    "            total += x\n",
    "\n",
    "sum_sum([1,2,3,4])\n",
    "\n",
    "# 정답 코드\n",
    "\n",
    "def sum_sum(x):\n",
    "    total = 0\n",
    "    for item in x :\n",
    "        total += item\n",
    "    return total\n",
    "\n",
    "sum_sum(test_list)"
   ]
  },
  {
   "cell_type": "code",
   "execution_count": null,
   "id": "Smr-zMijH4qZ",
   "metadata": {
    "colab": {
     "base_uri": "https://localhost:8080/"
    },
    "executionInfo": {
     "elapsed": 259,
     "status": "ok",
     "timestamp": 1650544699515,
     "user": {
      "displayName": "최윤아",
      "userId": "13391811122094852456"
     },
     "user_tz": -540
    },
    "id": "Smr-zMijH4qZ",
    "outputId": "97cbc210-8118-4c57-f093-bfba5d3b7ea6"
   },
   "outputs": [
    {
     "data": {
      "text/plain": [
       "4"
      ]
     },
     "execution_count": 12,
     "metadata": {},
     "output_type": "execute_result"
    }
   ],
   "source": [
    "# max_max\n",
    "\n",
    "def max_max(x):\n",
    "    max_num = -99999999999999\n",
    "    for item in x :\n",
    "        if max_num < item :\n",
    "            max_num = item\n",
    "    return max_num\n",
    "\n",
    "max_max(test_list)"
   ]
  },
  {
   "cell_type": "code",
   "execution_count": null,
   "id": "_ZuDDc7GGc-2",
   "metadata": {
    "id": "_ZuDDc7GGc-2"
   },
   "outputs": [],
   "source": [
    "# 개발자들이 코딩하면서 시간 제일 많이 할애하는 것? 변수, 함수 이름짓기\n",
    "# 함수로 만들면?? 함수 내부에서 정의되는 파라미터는 똑같이 써도 관계 없음, 함수 실행 후 메모리에서 없어지니까\n",
    "# 파라미터는 같은이름 네이밍에 시간 X\n",
    "# 변수가 외부 접근 X -> 함수 내부 변수는 메모리에 안올라가 있음.\n",
    "# 메모리 관리 차원에서도 좋음\n",
    "# 운영관리 차원에서도 좋음"
   ]
  },
  {
   "cell_type": "markdown",
   "id": "470b64e6",
   "metadata": {
    "id": "470b64e6"
   },
   "source": [
    "## 클래스의 구조\n",
    "> **`class`** **`[클래스명]`** **`:`** # 클래스의 선언  \n",
    "  \n",
    ">> **`def`** **`__init__`** **`(self, [파라메터])`** **`:`**  \n",
    ">> 클래스를 만들면서 입력받는 파라메터를 클래스 내에서 사용가능 하도록 초기화  \n",
    ">>> **`self.[변수명]`** = **`[파라메터]`**  \n",
    ">>> 클래스를 만들면서 입력받는 파라메터를 클래스 내에서 사용가능 하도록 초기화  \n",
    ">>> `self.x` = `x`\n",
    "\n",
    ">>**`def`** **`[함수명]`** **`([self, 파라메터])`** **`:`**  \n",
    ">>>**`[실행코드]`**  \n",
    "\n",
    "> 클래스의 선언은 함수와 달리 소괄호없이 선언한다.  \n",
    "클래스명은 단어의 첫 알파벳을 대문자로 ex) MyClass, SumTotal  \n",
    "클래스 선언이후 처음 작성하는 **`__init__`** 함수는  \n",
    "클래스가 정의되면서 입력되는 파라메터를 저장하고 재사용하기 위한 초기화함수  \n",
    "클래스 내 함수의 파라메터앞에는 항상 **`self`**를 추가해주어야 하며,  \n",
    "**`__init__`** 함수에서 설정한 변수 사용시에도 **`self`** 를 추가해준다.  \n",
    "**`self.`** 변수는 클래스 내부에서 사용되며 클래스 내부에 있는 모든 함수에 사용이 가능하다.  "
   ]
  },
  {
   "cell_type": "code",
   "execution_count": 16,
   "id": "8192f665",
   "metadata": {
    "executionInfo": {
     "elapsed": 624,
     "status": "ok",
     "timestamp": 1650799558413,
     "user": {
      "displayName": "최윤아",
      "userId": "13391811122094852456"
     },
     "user_tz": -540
    },
    "id": "8192f665"
   },
   "outputs": [],
   "source": [
    "# 클래스의 형태를 눈으로 익혀봅시다.\n",
    "class Calculator: # 클래스 선언\n",
    "    \n",
    "    def __init__(self, x, y): # 초기화함수\n",
    "        self.x = x # 클래스 내 변수 초기화\n",
    "        self.y = y\n",
    "        \n",
    "    def my_sum(self): # 함수 정의\n",
    "        z = self.x + self.y\n",
    "        return z\n",
    "\n",
    "    def my_minus(self):\n",
    "        z = self.x - self.y\n",
    "        return z\n",
    "\n",
    "    def my_multiply(self):\n",
    "        z = self.x * self.y\n",
    "        return z\n",
    "\n",
    "    def my_division(self):\n",
    "        z = self.x / self.y\n",
    "        return z"
   ]
  },
  {
   "cell_type": "code",
   "execution_count": 17,
   "id": "pS_bnS7EJfd6",
   "metadata": {
    "colab": {
     "base_uri": "https://localhost:8080/"
    },
    "executionInfo": {
     "elapsed": 8,
     "status": "ok",
     "timestamp": 1650799560165,
     "user": {
      "displayName": "최윤아",
      "userId": "13391811122094852456"
     },
     "user_tz": -540
    },
    "id": "pS_bnS7EJfd6",
    "outputId": "181b18d1-22da-49ba-e402-272c13ec9e30"
   },
   "outputs": [
    {
     "data": {
      "text/plain": [
       "10"
      ]
     },
     "execution_count": 17,
     "metadata": {},
     "output_type": "execute_result"
    }
   ],
   "source": [
    "a = Calculator(10, 40) # 클래스 호출해서 객체로 저장한 형태(변수에 저장)\n",
    "a.my_sum() # self는 a(클래스) 클래스 자기자신!\n",
    "a.x"
   ]
  },
  {
   "cell_type": "code",
   "execution_count": null,
   "id": "kaAtdbH2KNDy",
   "metadata": {
    "colab": {
     "base_uri": "https://localhost:8080/",
     "height": 35
    },
    "executionInfo": {
     "elapsed": 291,
     "status": "ok",
     "timestamp": 1650545199382,
     "user": {
      "displayName": "최윤아",
      "userId": "13391811122094852456"
     },
     "user_tz": -540
    },
    "id": "kaAtdbH2KNDy",
    "outputId": "b2f55054-2d68-4f01-e775-4e1776d47b75"
   },
   "outputs": [
    {
     "data": {
      "application/vnd.google.colaboratory.intrinsic+json": {
       "type": "string"
      },
      "text/plain": [
       "'안녕하세요'"
      ]
     },
     "execution_count": 18,
     "metadata": {},
     "output_type": "execute_result"
    }
   ],
   "source": [
    "b  = '안녕하세요'\n",
    "\n",
    "b # 문자열, 리스트, 딕셔너리 다 클래스, 모든 것이 클래스\n",
    "b."
   ]
  },
  {
   "cell_type": "code",
   "execution_count": 18,
   "id": "f519e56e",
   "metadata": {
    "colab": {
     "base_uri": "https://localhost:8080/",
     "height": 529
    },
    "executionInfo": {
     "elapsed": 4065,
     "status": "error",
     "timestamp": 1650799588375,
     "user": {
      "displayName": "최윤아",
      "userId": "13391811122094852456"
     },
     "user_tz": -540
    },
    "id": "f519e56e",
    "outputId": "d64a2bc9-144f-43a3-d620-f4f7aef48a6b"
   },
   "outputs": [
    {
     "name": "stdout",
     "output_type": "stream",
     "text": [
      "Collecting pyttsx3\n",
      "  Downloading pyttsx3-2.90-py3-none-any.whl (39 kB)\n",
      "Installing collected packages: pyttsx3\n",
      "Successfully installed pyttsx3-2.90\n"
     ]
    },
    {
     "ename": "OSError",
     "evalue": "ignored",
     "output_type": "error",
     "traceback": [
      "\u001b[0;31m---------------------------------------------------------------------------\u001b[0m",
      "\u001b[0;31mKeyError\u001b[0m                                  Traceback (most recent call last)",
      "\u001b[0;32m/usr/local/lib/python3.7/dist-packages/pyttsx3/__init__.py\u001b[0m in \u001b[0;36minit\u001b[0;34m(driverName, debug)\u001b[0m\n\u001b[1;32m     19\u001b[0m     \u001b[0;32mtry\u001b[0m\u001b[0;34m:\u001b[0m\u001b[0;34m\u001b[0m\u001b[0;34m\u001b[0m\u001b[0m\n\u001b[0;32m---> 20\u001b[0;31m         \u001b[0meng\u001b[0m \u001b[0;34m=\u001b[0m \u001b[0m_activeEngines\u001b[0m\u001b[0;34m[\u001b[0m\u001b[0mdriverName\u001b[0m\u001b[0;34m]\u001b[0m\u001b[0;34m\u001b[0m\u001b[0;34m\u001b[0m\u001b[0m\n\u001b[0m\u001b[1;32m     21\u001b[0m     \u001b[0;32mexcept\u001b[0m \u001b[0mKeyError\u001b[0m\u001b[0;34m:\u001b[0m\u001b[0;34m\u001b[0m\u001b[0;34m\u001b[0m\u001b[0m\n",
      "\u001b[0;32m/usr/lib/python3.7/weakref.py\u001b[0m in \u001b[0;36m__getitem__\u001b[0;34m(self, key)\u001b[0m\n\u001b[1;32m    136\u001b[0m             \u001b[0mself\u001b[0m\u001b[0;34m.\u001b[0m\u001b[0m_commit_removals\u001b[0m\u001b[0;34m(\u001b[0m\u001b[0;34m)\u001b[0m\u001b[0;34m\u001b[0m\u001b[0;34m\u001b[0m\u001b[0m\n\u001b[0;32m--> 137\u001b[0;31m         \u001b[0mo\u001b[0m \u001b[0;34m=\u001b[0m \u001b[0mself\u001b[0m\u001b[0;34m.\u001b[0m\u001b[0mdata\u001b[0m\u001b[0;34m[\u001b[0m\u001b[0mkey\u001b[0m\u001b[0;34m]\u001b[0m\u001b[0;34m(\u001b[0m\u001b[0;34m)\u001b[0m\u001b[0;34m\u001b[0m\u001b[0;34m\u001b[0m\u001b[0m\n\u001b[0m\u001b[1;32m    138\u001b[0m         \u001b[0;32mif\u001b[0m \u001b[0mo\u001b[0m \u001b[0;32mis\u001b[0m \u001b[0;32mNone\u001b[0m\u001b[0;34m:\u001b[0m\u001b[0;34m\u001b[0m\u001b[0;34m\u001b[0m\u001b[0m\n",
      "\u001b[0;31mKeyError\u001b[0m: None",
      "\nDuring handling of the above exception, another exception occurred:\n",
      "\u001b[0;31mOSError\u001b[0m                                   Traceback (most recent call last)",
      "\u001b[0;32m<ipython-input-18-c4967af61a6f>\u001b[0m in \u001b[0;36m<module>\u001b[0;34m()\u001b[0m\n\u001b[1;32m      4\u001b[0m \u001b[0mget_ipython\u001b[0m\u001b[0;34m(\u001b[0m\u001b[0;34m)\u001b[0m\u001b[0;34m.\u001b[0m\u001b[0msystem\u001b[0m\u001b[0;34m(\u001b[0m\u001b[0;34m'pip install pyttsx3'\u001b[0m\u001b[0;34m)\u001b[0m\u001b[0;34m\u001b[0m\u001b[0;34m\u001b[0m\u001b[0m\n\u001b[1;32m      5\u001b[0m \u001b[0;32mimport\u001b[0m \u001b[0mpyttsx3\u001b[0m\u001b[0;34m\u001b[0m\u001b[0;34m\u001b[0m\u001b[0m\n\u001b[0;32m----> 6\u001b[0;31m \u001b[0mengine\u001b[0m \u001b[0;34m=\u001b[0m \u001b[0mpyttsx3\u001b[0m\u001b[0;34m.\u001b[0m\u001b[0minit\u001b[0m\u001b[0;34m(\u001b[0m\u001b[0;34m)\u001b[0m\u001b[0;34m\u001b[0m\u001b[0;34m\u001b[0m\u001b[0m\n\u001b[0m\u001b[1;32m      7\u001b[0m \u001b[0mengine\u001b[0m\u001b[0;34m.\u001b[0m\u001b[0msay\u001b[0m\u001b[0;34m(\u001b[0m\u001b[0;34m\"수강생여러분.\"\u001b[0m\u001b[0;34m)\u001b[0m\u001b[0;34m\u001b[0m\u001b[0;34m\u001b[0m\u001b[0m\n\u001b[1;32m      8\u001b[0m \u001b[0mengine\u001b[0m\u001b[0;34m.\u001b[0m\u001b[0msay\u001b[0m\u001b[0;34m(\u001b[0m\u001b[0;34m\"파이썬 공부하느라 고생하십니다.\"\u001b[0m\u001b[0;34m)\u001b[0m\u001b[0;34m\u001b[0m\u001b[0;34m\u001b[0m\u001b[0m\n",
      "\u001b[0;32m/usr/local/lib/python3.7/dist-packages/pyttsx3/__init__.py\u001b[0m in \u001b[0;36minit\u001b[0;34m(driverName, debug)\u001b[0m\n\u001b[1;32m     20\u001b[0m         \u001b[0meng\u001b[0m \u001b[0;34m=\u001b[0m \u001b[0m_activeEngines\u001b[0m\u001b[0;34m[\u001b[0m\u001b[0mdriverName\u001b[0m\u001b[0;34m]\u001b[0m\u001b[0;34m\u001b[0m\u001b[0;34m\u001b[0m\u001b[0m\n\u001b[1;32m     21\u001b[0m     \u001b[0;32mexcept\u001b[0m \u001b[0mKeyError\u001b[0m\u001b[0;34m:\u001b[0m\u001b[0;34m\u001b[0m\u001b[0;34m\u001b[0m\u001b[0m\n\u001b[0;32m---> 22\u001b[0;31m         \u001b[0meng\u001b[0m \u001b[0;34m=\u001b[0m \u001b[0mEngine\u001b[0m\u001b[0;34m(\u001b[0m\u001b[0mdriverName\u001b[0m\u001b[0;34m,\u001b[0m \u001b[0mdebug\u001b[0m\u001b[0;34m)\u001b[0m\u001b[0;34m\u001b[0m\u001b[0;34m\u001b[0m\u001b[0m\n\u001b[0m\u001b[1;32m     23\u001b[0m         \u001b[0m_activeEngines\u001b[0m\u001b[0;34m[\u001b[0m\u001b[0mdriverName\u001b[0m\u001b[0;34m]\u001b[0m \u001b[0;34m=\u001b[0m \u001b[0meng\u001b[0m\u001b[0;34m\u001b[0m\u001b[0;34m\u001b[0m\u001b[0m\n\u001b[1;32m     24\u001b[0m     \u001b[0;32mreturn\u001b[0m \u001b[0meng\u001b[0m\u001b[0;34m\u001b[0m\u001b[0;34m\u001b[0m\u001b[0m\n",
      "\u001b[0;32m/usr/local/lib/python3.7/dist-packages/pyttsx3/engine.py\u001b[0m in \u001b[0;36m__init__\u001b[0;34m(self, driverName, debug)\u001b[0m\n\u001b[1;32m     28\u001b[0m         \u001b[0;34m@\u001b[0m\u001b[0mtype\u001b[0m \u001b[0mdebug\u001b[0m\u001b[0;34m:\u001b[0m \u001b[0mbool\u001b[0m\u001b[0;34m\u001b[0m\u001b[0;34m\u001b[0m\u001b[0m\n\u001b[1;32m     29\u001b[0m         \"\"\"\n\u001b[0;32m---> 30\u001b[0;31m         \u001b[0mself\u001b[0m\u001b[0;34m.\u001b[0m\u001b[0mproxy\u001b[0m \u001b[0;34m=\u001b[0m \u001b[0mdriver\u001b[0m\u001b[0;34m.\u001b[0m\u001b[0mDriverProxy\u001b[0m\u001b[0;34m(\u001b[0m\u001b[0mweakref\u001b[0m\u001b[0;34m.\u001b[0m\u001b[0mproxy\u001b[0m\u001b[0;34m(\u001b[0m\u001b[0mself\u001b[0m\u001b[0;34m)\u001b[0m\u001b[0;34m,\u001b[0m \u001b[0mdriverName\u001b[0m\u001b[0;34m,\u001b[0m \u001b[0mdebug\u001b[0m\u001b[0;34m)\u001b[0m\u001b[0;34m\u001b[0m\u001b[0;34m\u001b[0m\u001b[0m\n\u001b[0m\u001b[1;32m     31\u001b[0m         \u001b[0;31m# initialize other vars\u001b[0m\u001b[0;34m\u001b[0m\u001b[0;34m\u001b[0m\u001b[0;34m\u001b[0m\u001b[0m\n\u001b[1;32m     32\u001b[0m         \u001b[0mself\u001b[0m\u001b[0;34m.\u001b[0m\u001b[0m_connects\u001b[0m \u001b[0;34m=\u001b[0m \u001b[0;34m{\u001b[0m\u001b[0;34m}\u001b[0m\u001b[0;34m\u001b[0m\u001b[0;34m\u001b[0m\u001b[0m\n",
      "\u001b[0;32m/usr/local/lib/python3.7/dist-packages/pyttsx3/driver.py\u001b[0m in \u001b[0;36m__init__\u001b[0;34m(self, engine, driverName, debug)\u001b[0m\n\u001b[1;32m     48\u001b[0m         \u001b[0;31m# import driver module\u001b[0m\u001b[0;34m\u001b[0m\u001b[0;34m\u001b[0m\u001b[0;34m\u001b[0m\u001b[0m\n\u001b[1;32m     49\u001b[0m         \u001b[0mname\u001b[0m \u001b[0;34m=\u001b[0m \u001b[0;34m'pyttsx3.drivers.%s'\u001b[0m \u001b[0;34m%\u001b[0m \u001b[0mdriverName\u001b[0m\u001b[0;34m\u001b[0m\u001b[0;34m\u001b[0m\u001b[0m\n\u001b[0;32m---> 50\u001b[0;31m         \u001b[0mself\u001b[0m\u001b[0;34m.\u001b[0m\u001b[0m_module\u001b[0m \u001b[0;34m=\u001b[0m \u001b[0mimportlib\u001b[0m\u001b[0;34m.\u001b[0m\u001b[0mimport_module\u001b[0m\u001b[0;34m(\u001b[0m\u001b[0mname\u001b[0m\u001b[0;34m)\u001b[0m\u001b[0;34m\u001b[0m\u001b[0;34m\u001b[0m\u001b[0m\n\u001b[0m\u001b[1;32m     51\u001b[0m         \u001b[0;31m# build driver instance\u001b[0m\u001b[0;34m\u001b[0m\u001b[0;34m\u001b[0m\u001b[0;34m\u001b[0m\u001b[0m\n\u001b[1;32m     52\u001b[0m         \u001b[0mself\u001b[0m\u001b[0;34m.\u001b[0m\u001b[0m_driver\u001b[0m \u001b[0;34m=\u001b[0m \u001b[0mself\u001b[0m\u001b[0;34m.\u001b[0m\u001b[0m_module\u001b[0m\u001b[0;34m.\u001b[0m\u001b[0mbuildDriver\u001b[0m\u001b[0;34m(\u001b[0m\u001b[0mweakref\u001b[0m\u001b[0;34m.\u001b[0m\u001b[0mproxy\u001b[0m\u001b[0;34m(\u001b[0m\u001b[0mself\u001b[0m\u001b[0;34m)\u001b[0m\u001b[0;34m)\u001b[0m\u001b[0;34m\u001b[0m\u001b[0;34m\u001b[0m\u001b[0m\n",
      "\u001b[0;32m/usr/lib/python3.7/importlib/__init__.py\u001b[0m in \u001b[0;36mimport_module\u001b[0;34m(name, package)\u001b[0m\n\u001b[1;32m    125\u001b[0m                 \u001b[0;32mbreak\u001b[0m\u001b[0;34m\u001b[0m\u001b[0;34m\u001b[0m\u001b[0m\n\u001b[1;32m    126\u001b[0m             \u001b[0mlevel\u001b[0m \u001b[0;34m+=\u001b[0m \u001b[0;36m1\u001b[0m\u001b[0;34m\u001b[0m\u001b[0;34m\u001b[0m\u001b[0m\n\u001b[0;32m--> 127\u001b[0;31m     \u001b[0;32mreturn\u001b[0m \u001b[0m_bootstrap\u001b[0m\u001b[0;34m.\u001b[0m\u001b[0m_gcd_import\u001b[0m\u001b[0;34m(\u001b[0m\u001b[0mname\u001b[0m\u001b[0;34m[\u001b[0m\u001b[0mlevel\u001b[0m\u001b[0;34m:\u001b[0m\u001b[0;34m]\u001b[0m\u001b[0;34m,\u001b[0m \u001b[0mpackage\u001b[0m\u001b[0;34m,\u001b[0m \u001b[0mlevel\u001b[0m\u001b[0;34m)\u001b[0m\u001b[0;34m\u001b[0m\u001b[0;34m\u001b[0m\u001b[0m\n\u001b[0m\u001b[1;32m    128\u001b[0m \u001b[0;34m\u001b[0m\u001b[0m\n\u001b[1;32m    129\u001b[0m \u001b[0;34m\u001b[0m\u001b[0m\n",
      "\u001b[0;32m/usr/lib/python3.7/importlib/_bootstrap.py\u001b[0m in \u001b[0;36m_gcd_import\u001b[0;34m(name, package, level)\u001b[0m\n",
      "\u001b[0;32m/usr/lib/python3.7/importlib/_bootstrap.py\u001b[0m in \u001b[0;36m_find_and_load\u001b[0;34m(name, import_)\u001b[0m\n",
      "\u001b[0;32m/usr/lib/python3.7/importlib/_bootstrap.py\u001b[0m in \u001b[0;36m_find_and_load_unlocked\u001b[0;34m(name, import_)\u001b[0m\n",
      "\u001b[0;32m/usr/lib/python3.7/importlib/_bootstrap.py\u001b[0m in \u001b[0;36m_load_unlocked\u001b[0;34m(spec)\u001b[0m\n",
      "\u001b[0;32m/usr/lib/python3.7/importlib/_bootstrap_external.py\u001b[0m in \u001b[0;36mexec_module\u001b[0;34m(self, module)\u001b[0m\n",
      "\u001b[0;32m/usr/lib/python3.7/importlib/_bootstrap.py\u001b[0m in \u001b[0;36m_call_with_frames_removed\u001b[0;34m(f, *args, **kwds)\u001b[0m\n",
      "\u001b[0;32m/usr/local/lib/python3.7/dist-packages/pyttsx3/drivers/espeak.py\u001b[0m in \u001b[0;36m<module>\u001b[0;34m()\u001b[0m\n\u001b[1;32m      7\u001b[0m \u001b[0;32mfrom\u001b[0m \u001b[0mtempfile\u001b[0m \u001b[0;32mimport\u001b[0m \u001b[0mNamedTemporaryFile\u001b[0m\u001b[0;34m\u001b[0m\u001b[0;34m\u001b[0m\u001b[0m\n\u001b[1;32m      8\u001b[0m \u001b[0;32mfrom\u001b[0m \u001b[0;34m.\u001b[0m\u001b[0;34m.\u001b[0m\u001b[0mvoice\u001b[0m \u001b[0;32mimport\u001b[0m \u001b[0mVoice\u001b[0m\u001b[0;34m\u001b[0m\u001b[0;34m\u001b[0m\u001b[0m\n\u001b[0;32m----> 9\u001b[0;31m \u001b[0;32mfrom\u001b[0m \u001b[0;34m.\u001b[0m \u001b[0;32mimport\u001b[0m \u001b[0m_espeak\u001b[0m\u001b[0;34m,\u001b[0m \u001b[0mtoUtf8\u001b[0m\u001b[0;34m,\u001b[0m \u001b[0mfromUtf8\u001b[0m\u001b[0;34m\u001b[0m\u001b[0;34m\u001b[0m\u001b[0m\n\u001b[0m\u001b[1;32m     10\u001b[0m \u001b[0;34m\u001b[0m\u001b[0m\n\u001b[1;32m     11\u001b[0m \u001b[0;34m\u001b[0m\u001b[0m\n",
      "\u001b[0;32m/usr/local/lib/python3.7/dist-packages/pyttsx3/drivers/_espeak.py\u001b[0m in \u001b[0;36m<module>\u001b[0;34m()\u001b[0m\n\u001b[1;32m     16\u001b[0m     \u001b[0;32mreturn\u001b[0m \u001b[0mCFUNCTYPE\u001b[0m\u001b[0;34m(\u001b[0m\u001b[0mresult\u001b[0m\u001b[0;34m,\u001b[0m \u001b[0;34m*\u001b[0m\u001b[0matypes\u001b[0m\u001b[0;34m)\u001b[0m\u001b[0;34m(\u001b[0m\u001b[0;34m(\u001b[0m\u001b[0mname\u001b[0m\u001b[0;34m,\u001b[0m \u001b[0mdll\u001b[0m\u001b[0;34m)\u001b[0m\u001b[0;34m,\u001b[0m \u001b[0mtuple\u001b[0m\u001b[0;34m(\u001b[0m\u001b[0maflags\u001b[0m\u001b[0;34m)\u001b[0m\u001b[0;34m)\u001b[0m\u001b[0;34m\u001b[0m\u001b[0;34m\u001b[0m\u001b[0m\n\u001b[1;32m     17\u001b[0m \u001b[0;34m\u001b[0m\u001b[0m\n\u001b[0;32m---> 18\u001b[0;31m \u001b[0mdll\u001b[0m \u001b[0;34m=\u001b[0m \u001b[0mcdll\u001b[0m\u001b[0;34m.\u001b[0m\u001b[0mLoadLibrary\u001b[0m\u001b[0;34m(\u001b[0m\u001b[0;34m'libespeak.so.1'\u001b[0m\u001b[0;34m)\u001b[0m\u001b[0;34m\u001b[0m\u001b[0;34m\u001b[0m\u001b[0m\n\u001b[0m\u001b[1;32m     19\u001b[0m \u001b[0;34m\u001b[0m\u001b[0m\n\u001b[1;32m     20\u001b[0m \u001b[0;31m# constants and such from speak_lib.h\u001b[0m\u001b[0;34m\u001b[0m\u001b[0;34m\u001b[0m\u001b[0;34m\u001b[0m\u001b[0m\n",
      "\u001b[0;32m/usr/lib/python3.7/ctypes/__init__.py\u001b[0m in \u001b[0;36mLoadLibrary\u001b[0;34m(self, name)\u001b[0m\n\u001b[1;32m    440\u001b[0m \u001b[0;34m\u001b[0m\u001b[0m\n\u001b[1;32m    441\u001b[0m     \u001b[0;32mdef\u001b[0m \u001b[0mLoadLibrary\u001b[0m\u001b[0;34m(\u001b[0m\u001b[0mself\u001b[0m\u001b[0;34m,\u001b[0m \u001b[0mname\u001b[0m\u001b[0;34m)\u001b[0m\u001b[0;34m:\u001b[0m\u001b[0;34m\u001b[0m\u001b[0;34m\u001b[0m\u001b[0m\n\u001b[0;32m--> 442\u001b[0;31m         \u001b[0;32mreturn\u001b[0m \u001b[0mself\u001b[0m\u001b[0;34m.\u001b[0m\u001b[0m_dlltype\u001b[0m\u001b[0;34m(\u001b[0m\u001b[0mname\u001b[0m\u001b[0;34m)\u001b[0m\u001b[0;34m\u001b[0m\u001b[0;34m\u001b[0m\u001b[0m\n\u001b[0m\u001b[1;32m    443\u001b[0m \u001b[0;34m\u001b[0m\u001b[0m\n\u001b[1;32m    444\u001b[0m \u001b[0mcdll\u001b[0m \u001b[0;34m=\u001b[0m \u001b[0mLibraryLoader\u001b[0m\u001b[0;34m(\u001b[0m\u001b[0mCDLL\u001b[0m\u001b[0;34m)\u001b[0m\u001b[0;34m\u001b[0m\u001b[0;34m\u001b[0m\u001b[0m\n",
      "\u001b[0;32m/usr/lib/python3.7/ctypes/__init__.py\u001b[0m in \u001b[0;36m__init__\u001b[0;34m(self, name, mode, handle, use_errno, use_last_error)\u001b[0m\n\u001b[1;32m    362\u001b[0m \u001b[0;34m\u001b[0m\u001b[0m\n\u001b[1;32m    363\u001b[0m         \u001b[0;32mif\u001b[0m \u001b[0mhandle\u001b[0m \u001b[0;32mis\u001b[0m \u001b[0;32mNone\u001b[0m\u001b[0;34m:\u001b[0m\u001b[0;34m\u001b[0m\u001b[0;34m\u001b[0m\u001b[0m\n\u001b[0;32m--> 364\u001b[0;31m             \u001b[0mself\u001b[0m\u001b[0;34m.\u001b[0m\u001b[0m_handle\u001b[0m \u001b[0;34m=\u001b[0m \u001b[0m_dlopen\u001b[0m\u001b[0;34m(\u001b[0m\u001b[0mself\u001b[0m\u001b[0;34m.\u001b[0m\u001b[0m_name\u001b[0m\u001b[0;34m,\u001b[0m \u001b[0mmode\u001b[0m\u001b[0;34m)\u001b[0m\u001b[0;34m\u001b[0m\u001b[0;34m\u001b[0m\u001b[0m\n\u001b[0m\u001b[1;32m    365\u001b[0m         \u001b[0;32melse\u001b[0m\u001b[0;34m:\u001b[0m\u001b[0;34m\u001b[0m\u001b[0;34m\u001b[0m\u001b[0m\n\u001b[1;32m    366\u001b[0m             \u001b[0mself\u001b[0m\u001b[0;34m.\u001b[0m\u001b[0m_handle\u001b[0m \u001b[0;34m=\u001b[0m \u001b[0mhandle\u001b[0m\u001b[0;34m\u001b[0m\u001b[0;34m\u001b[0m\u001b[0m\n",
      "\u001b[0;31mOSError\u001b[0m: libespeak.so.1: cannot open shared object file: No such file or directory"
     ]
    }
   ],
   "source": [
    "# 이런것도 할 수 있어요~\n",
    "# 텍스트를 음성으로 변환시켜주는 패키지(모듈) 입니다.\n",
    "# 사용하기 전 패키지를 다운받는 과정이 필요합니다.\n",
    "!pip install pyttsx3\n",
    "import pyttsx3\n",
    "engine = pyttsx3.init()\n",
    "engine.say(\"수강생여러분.\")\n",
    "engine.say(\"파이썬 공부하느라 고생하십니다.\")\n",
    "engine.say(\"파이썬으로 이런것도 가능해요\")\n",
    "engine.say(\"하지만 이해못해도 괜챦아요.\")\n",
    "engine.say(\"왜냐하면 우리는 가져다 쓸꺼니까요. 찡긋\")\n",
    "engine.runAndWait()"
   ]
  },
  {
   "cell_type": "code",
   "execution_count": null,
   "id": "WctP3TiBLBtw",
   "metadata": {
    "id": "WctP3TiBLBtw"
   },
   "outputs": [],
   "source": [
    ""
   ]
  }
 ],
 "metadata": {
  "colab": {
   "collapsed_sections": [],
   "name": "python_review.ipynb",
   "provenance": []
  },
  "kernelspec": {
   "display_name": "Python 3 (ipykernel)",
   "language": "python",
   "name": "python3"
  },
  "language_info": {
   "codemirror_mode": {
    "name": "ipython",
    "version": 3
   },
   "file_extension": ".py",
   "mimetype": "text/x-python",
   "name": "python",
   "nbconvert_exporter": "python",
   "pygments_lexer": "ipython3",
   "version": "3.8.12"
  },
  "toc": {
   "base_numbering": 1,
   "nav_menu": {},
   "number_sections": true,
   "sideBar": true,
   "skip_h1_title": true,
   "title_cell": "Table of Contents",
   "title_sidebar": "Contents",
   "toc_cell": false,
   "toc_position": {},
   "toc_section_display": true,
   "toc_window_display": false
  },
  "varInspector": {
   "cols": {
    "lenName": 16,
    "lenType": 16,
    "lenVar": 40
   },
   "kernels_config": {
    "python": {
     "delete_cmd_postfix": "",
     "delete_cmd_prefix": "del ",
     "library": "var_list.py",
     "varRefreshCmd": "print(var_dic_list())"
    },
    "r": {
     "delete_cmd_postfix": ") ",
     "delete_cmd_prefix": "rm(",
     "library": "var_list.r",
     "varRefreshCmd": "cat(var_dic_list()) "
    }
   },
   "types_to_exclude": [
    "module",
    "function",
    "builtin_function_or_method",
    "instance",
    "_Feature"
   ],
   "window_display": false
  }
 },
 "nbformat": 4,
 "nbformat_minor": 5
}
