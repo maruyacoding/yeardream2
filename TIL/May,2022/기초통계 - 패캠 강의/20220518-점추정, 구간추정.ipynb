{
 "cells": [
  {
   "cell_type": "markdown",
   "metadata": {
    "id": "mjL7gdiZHGv9"
   },
   "source": [
    "### 통계적 추정"
   ]
  },
  {
   "cell_type": "code",
   "execution_count": 1,
   "metadata": {
    "executionInfo": {
     "elapsed": 375,
     "status": "ok",
     "timestamp": 1652882449153,
     "user": {
      "displayName": "최윤아",
      "userId": "13391811122094852456"
     },
     "user_tz": -540
    },
    "id": "ZcvxK7yYdBwg"
   },
   "outputs": [],
   "source": [
    "import numpy as np\n",
    "import pandas as pd\n",
    "import matplotlib.pyplot as plt\n",
    "from scipy import stats\n",
    "\n",
    "%precision 3\n",
    "%matplotlib inline"
   ]
  },
  {
   "cell_type": "code",
   "execution_count": 2,
   "metadata": {
    "colab": {
     "base_uri": "https://localhost:8080/"
    },
    "executionInfo": {
     "elapsed": 1279,
     "status": "ok",
     "timestamp": 1652882462818,
     "user": {
      "displayName": "최윤아",
      "userId": "13391811122094852456"
     },
     "user_tz": -540
    },
    "id": "MHKP6qPYHInU",
    "outputId": "373d139c-fe59-495f-fa8a-5675efd73f97"
   },
   "outputs": [
    {
     "name": "stderr",
     "output_type": "stream",
     "text": [
      "/usr/local/lib/python3.7/dist-packages/sklearn/utils/deprecation.py:87: FutureWarning: Function load_boston is deprecated; `load_boston` is deprecated in 1.0 and will be removed in 1.2.\n",
      "\n",
      "    The Boston housing prices dataset has an ethical problem. You can refer to\n",
      "    the documentation of this function for further details.\n",
      "\n",
      "    The scikit-learn maintainers therefore strongly discourage the use of this\n",
      "    dataset unless the purpose of the code is to study and educate about\n",
      "    ethical issues in data science and machine learning.\n",
      "\n",
      "    In this special case, you can fetch the dataset from the original\n",
      "    source::\n",
      "\n",
      "        import pandas as pd\n",
      "        import numpy as np\n",
      "\n",
      "\n",
      "        data_url = \"http://lib.stat.cmu.edu/datasets/boston\"\n",
      "        raw_df = pd.read_csv(data_url, sep=\"\\s+\", skiprows=22, header=None)\n",
      "        data = np.hstack([raw_df.values[::2, :], raw_df.values[1::2, :2]])\n",
      "        target = raw_df.values[1::2, 2]\n",
      "\n",
      "    Alternative datasets include the California housing dataset (i.e.\n",
      "    :func:`~sklearn.datasets.fetch_california_housing`) and the Ames housing\n",
      "    dataset. You can load the datasets as follows::\n",
      "\n",
      "        from sklearn.datasets import fetch_california_housing\n",
      "        housing = fetch_california_housing()\n",
      "\n",
      "    for the California housing dataset and::\n",
      "\n",
      "        from sklearn.datasets import fetch_openml\n",
      "        housing = fetch_openml(name=\"house_prices\", as_frame=True)\n",
      "\n",
      "    for the Ames housing dataset.\n",
      "    \n",
      "  warnings.warn(msg, category=FutureWarning)\n"
     ]
    }
   ],
   "source": [
    "from sklearn.datasets import load_boston\n",
    "\n",
    "boston_houseprice_data = load_boston()\n",
    "\n",
    "df = pd.DataFrame(\n",
    "    data = boston_houseprice_data.data, \n",
    "    columns = boston_houseprice_data.feature_names\n",
    ")\n",
    "rooms = np.array(df['RM'])"
   ]
  },
  {
   "cell_type": "code",
   "execution_count": 3,
   "metadata": {
    "colab": {
     "base_uri": "https://localhost:8080/"
    },
    "executionInfo": {
     "elapsed": 317,
     "status": "ok",
     "timestamp": 1652882465187,
     "user": {
      "displayName": "최윤아",
      "userId": "13391811122094852456"
     },
     "user_tz": -540
    },
    "id": "JkpHCP92HJiO",
    "outputId": "a7c74200-546d-4287-9f00-c6ad79b53e3a"
   },
   "outputs": [
    {
     "data": {
      "text/plain": [
       "(6.285, 0.493)"
      ]
     },
     "execution_count": 3,
     "metadata": {},
     "output_type": "execute_result"
    }
   ],
   "source": [
    "# 기초데이터 모평균, 모분산 계산\n",
    "p_mean = np.mean(rooms)\n",
    "p_var = np.var(rooms)\n",
    "\n",
    "p_mean, p_var"
   ]
  },
  {
   "cell_type": "code",
   "execution_count": 4,
   "metadata": {
    "colab": {
     "base_uri": "https://localhost:8080/",
     "height": 374
    },
    "executionInfo": {
     "elapsed": 14,
     "status": "ok",
     "timestamp": 1652882468949,
     "user": {
      "displayName": "최윤아",
      "userId": "13391811122094852456"
     },
     "user_tz": -540
    },
    "id": "wweK3TgTHKW4",
    "outputId": "30bd4c56-b3cb-4da4-d26a-dfba5f584159"
   },
   "outputs": [
    {
     "data": {
      "image/png": "[encoded data removed]",
      "text/plain": [
       "<Figure size 720x432 with 1 Axes>"
      ]
     },
     "metadata": {
      "needs_background": "light"
     },
     "output_type": "display_data"
    }
   ],
   "source": [
    "# 기초데이터 분포와 정규분포의 유사성 확인\n",
    "fig = plt.figure(figsize=(10, 6))\n",
    "ax = fig.add_subplot(111)\n",
    "\n",
    "xs = np.arange(101)/10\n",
    "rv = stats.norm(p_mean, np.sqrt(p_var))\n",
    "ax.plot(xs, rv.pdf(xs), color='gray')\n",
    "ax.hist(rooms, bins=100, range=(0, 10), density=True)\n",
    "\n",
    "plt.show()"
   ]
  },
  {
   "cell_type": "code",
   "execution_count": 5,
   "metadata": {
    "colab": {
     "base_uri": "https://localhost:8080/"
    },
    "executionInfo": {
     "elapsed": 948,
     "status": "ok",
     "timestamp": 1652882474339,
     "user": {
      "displayName": "최윤아",
      "userId": "13391811122094852456"
     },
     "user_tz": -540
    },
    "id": "WVhB-pVpHMeJ",
    "outputId": "1da5415c-8a73-435f-cd0c-7cd8dcedfe94"
   },
   "outputs": [
    {
     "data": {
      "text/plain": [
       "array([5.572, 6.03 , 6.021, 7.178, 5.708, 6.438, 7.875, 6.112, 6.004,\n",
       "       5.404, 6.826, 6.358, 6.63 , 6.121, 6.417, 6.437, 7.007, 6.405,\n",
       "       6.567, 6.8  ])"
      ]
     },
     "execution_count": 5,
     "metadata": {},
     "output_type": "execute_result"
    }
   ],
   "source": [
    "# 기초데이터에서 샘플 20개 뽑기\n",
    "np.random.seed(0)\n",
    "n = 20\n",
    "sample = np.random.choice(rooms, n)\n",
    "sample"
   ]
  },
  {
   "cell_type": "code",
   "execution_count": 6,
   "metadata": {
    "executionInfo": {
     "elapsed": 544,
     "status": "ok",
     "timestamp": 1652882476804,
     "user": {
      "displayName": "최윤아",
      "userId": "13391811122094852456"
     },
     "user_tz": -540
    },
    "id": "jJJNB1jYHNiv"
   },
   "outputs": [],
   "source": [
    "# 20개를 10000번 뽑기\n",
    "np.random.seed(1111)\n",
    "n_samples = 10000\n",
    "samples = np.random.choice(rooms, (n_samples, n))\n",
    "# 모평균 및 모분산을 추정하기 위한 데이터로 활용할 예정"
   ]
  },
  {
   "cell_type": "markdown",
   "metadata": {
    "id": "Iz2sT7IyOxdj"
   },
   "source": [
    "### 점추정"
   ]
  },
  {
   "cell_type": "markdown",
   "metadata": {
    "id": "0MKrw0gtOy8n"
   },
   "source": [
    "#### 모평균의 점추정\n",
    "- 일치성 : 표본크기를 증가시키면 추측하려는 모수에 수렴해가는 성질\n",
    "- 일치추정량 : 일치성을 지닌 추정량"
   ]
  },
  {
   "cell_type": "code",
   "execution_count": 7,
   "metadata": {
    "colab": {
     "base_uri": "https://localhost:8080/"
    },
    "executionInfo": {
     "elapsed": 518,
     "status": "ok",
     "timestamp": 1652882480509,
     "user": {
      "displayName": "최윤아",
      "userId": "13391811122094852456"
     },
     "user_tz": -540
    },
    "id": "1ZOC41oYHOod",
    "outputId": "6a8145bd-072c-4b55-d88e-6f59222e32a0"
   },
   "outputs": [
    {
     "name": "stdout",
     "output_type": "stream",
     "text": [
      "1번째 표본평균: 6.167\n",
      "2번째 표본평균: 6.224\n",
      "3번째 표본평균: 6.510\n",
      "4번째 표본평균: 6.328\n",
      "5번째 표본평균: 6.491\n"
     ]
    }
   ],
   "source": [
    "# 20개 표본의 5개 표본평균\n",
    "for i in range(5):\n",
    "    s_mean = np.mean(samples[i])\n",
    "    print(f'{i+1}번째 표본평균: {s_mean:.3f}')"
   ]
  },
  {
   "cell_type": "code",
   "execution_count": 8,
   "metadata": {
    "colab": {
     "base_uri": "https://localhost:8080/"
    },
    "executionInfo": {
     "elapsed": 271,
     "status": "ok",
     "timestamp": 1652882485000,
     "user": {
      "displayName": "최윤아",
      "userId": "13391811122094852456"
     },
     "user_tz": -540
    },
    "id": "JFuNXs8HO1_j",
    "outputId": "ca9a3eb8-85c8-471e-f18e-f8163b26ee5f"
   },
   "outputs": [
    {
     "data": {
      "text/plain": [
       "6.284"
      ]
     },
     "execution_count": 8,
     "metadata": {},
     "output_type": "execute_result"
    }
   ],
   "source": [
    "# 20개 표본의 10000개 표본평균의 평균\n",
    "sample_means = np.mean(samples, axis=1)\n",
    "np.mean(sample_means)"
   ]
  },
  {
   "cell_type": "code",
   "execution_count": 9,
   "metadata": {
    "colab": {
     "base_uri": "https://localhost:8080/"
    },
    "executionInfo": {
     "elapsed": 376,
     "status": "ok",
     "timestamp": 1652882486600,
     "user": {
      "displayName": "최윤아",
      "userId": "13391811122094852456"
     },
     "user_tz": -540
    },
    "id": "r6FCZm9jO3ZI",
    "outputId": "2a790134-aaa0-43a2-a1de-db464d84c5fc"
   },
   "outputs": [
    {
     "data": {
      "text/plain": [
       "6.285"
      ]
     },
     "execution_count": 9,
     "metadata": {},
     "output_type": "execute_result"
    }
   ],
   "source": [
    "# 1,000,000개 표본의 1개 표본평균\n",
    "np.mean(np.random.choice(rooms, int(1e6)))"
   ]
  },
  {
   "cell_type": "code",
   "execution_count": 10,
   "metadata": {
    "colab": {
     "base_uri": "https://localhost:8080/"
    },
    "executionInfo": {
     "elapsed": 4,
     "status": "ok",
     "timestamp": 1652882487624,
     "user": {
      "displayName": "최윤아",
      "userId": "13391811122094852456"
     },
     "user_tz": -540
    },
    "id": "gnMNwPyCO4p-",
    "outputId": "99c66f07-1cb9-474e-a956-a698b9a62f8a"
   },
   "outputs": [
    {
     "data": {
      "text/plain": [
       "6.396"
      ]
     },
     "execution_count": 10,
     "metadata": {},
     "output_type": "execute_result"
    }
   ],
   "source": [
    "s_mean = np.mean(sample)\n",
    "s_mean"
   ]
  },
  {
   "cell_type": "markdown",
   "metadata": {
    "id": "vCjCb-7WPVQz"
   },
   "source": [
    "불편성과 일치성을 지닌 추정량\n",
    "- 불편성 : 추정량의 기대값이 추측하려는 모수가 되는 성질\n",
    "- 일치성 : 표본크기를 증가시키면 추측하려는 모수에 수렴해가는 성질\n",
    "\n",
    "즉, 표본평균은 불편성과 일치성 모두를 지닌 모수(모평균)의 '좋은 추정량'이다."
   ]
  },
  {
   "cell_type": "markdown",
   "metadata": {
    "id": "yFNfEdLEPmX_"
   },
   "source": [
    "#### 모분산의 점추정"
   ]
  },
  {
   "cell_type": "code",
   "execution_count": 11,
   "metadata": {
    "colab": {
     "base_uri": "https://localhost:8080/"
    },
    "executionInfo": {
     "elapsed": 298,
     "status": "ok",
     "timestamp": 1652882493878,
     "user": {
      "displayName": "최윤아",
      "userId": "13391811122094852456"
     },
     "user_tz": -540
    },
    "id": "P69oCcFyO5qY",
    "outputId": "8e659814-393e-4c60-f684-cca5684a8165"
   },
   "outputs": [
    {
     "name": "stdout",
     "output_type": "stream",
     "text": [
      "1번째 표본분산: 0.874\n",
      "2번째 표본분산: 0.521\n",
      "3번째 표본분산: 0.322\n",
      "4번째 표본분산: 0.221\n",
      "5번째 표본분산: 0.419\n"
     ]
    }
   ],
   "source": [
    "# 모분산의 점추정 표본분산 및 표본분산의 기대값\n",
    "\n",
    "# 20개 표본의 5개 표본분산\n",
    "for i in range(5):\n",
    "    s_var = np.var(samples[i])\n",
    "    print(f'{i+1}번째 표본분산: {s_var:.3f}')"
   ]
  },
  {
   "cell_type": "code",
   "execution_count": 12,
   "metadata": {
    "colab": {
     "base_uri": "https://localhost:8080/"
    },
    "executionInfo": {
     "elapsed": 4,
     "status": "ok",
     "timestamp": 1652882494842,
     "user": {
      "displayName": "최윤아",
      "userId": "13391811122094852456"
     },
     "user_tz": -540
    },
    "id": "eKp---IqPpeC",
    "outputId": "4b13e878-bff5-4f68-ada8-adad005c15ae"
   },
   "outputs": [
    {
     "data": {
      "text/plain": [
       "0.467"
      ]
     },
     "execution_count": 12,
     "metadata": {},
     "output_type": "execute_result"
    }
   ],
   "source": [
    "# 20개 표본의 10,000개 표본분산들의 평균\n",
    "sample_vars = np.var(samples, axis=1)\n",
    "np.mean(sample_vars)\n",
    "# 0.467로 실제 모분산값인 0.493과 크게 다름 즉, 표본분산은 불편추정량이 아님"
   ]
  },
  {
   "cell_type": "code",
   "execution_count": 13,
   "metadata": {
    "colab": {
     "base_uri": "https://localhost:8080/"
    },
    "executionInfo": {
     "elapsed": 3,
     "status": "ok",
     "timestamp": 1652882495985,
     "user": {
      "displayName": "최윤아",
      "userId": "13391811122094852456"
     },
     "user_tz": -540
    },
    "id": "TlwiB2DFPqdA",
    "outputId": "1f65b03e-7d39-40d9-82c6-f2dc8f765f5d"
   },
   "outputs": [
    {
     "data": {
      "text/plain": [
       "0.491"
      ]
     },
     "execution_count": 13,
     "metadata": {},
     "output_type": "execute_result"
    }
   ],
   "source": [
    "# 불편분산 : 표본분산에서 n으로 나누던 것을 n-1로 변경한 것\n",
    "# 자유도 n-1 적용된 불편분산 계산 방법 \n",
    "sample_u_vars = np.var(samples, axis=1, ddof=1)\n",
    "np.mean(sample_u_vars)"
   ]
  },
  {
   "cell_type": "code",
   "execution_count": 15,
   "metadata": {
    "colab": {
     "base_uri": "https://localhost:8080/"
    },
    "executionInfo": {
     "elapsed": 294,
     "status": "ok",
     "timestamp": 1652882546128,
     "user": {
      "displayName": "최윤아",
      "userId": "13391811122094852456"
     },
     "user_tz": -540
    },
    "id": "bcWXdPN6PrKe",
    "outputId": "b705753b-5980-4f83-881e-bf24ba8ed68d"
   },
   "outputs": [
    {
     "data": {
      "text/plain": [
       "0.493"
      ]
     },
     "execution_count": 15,
     "metadata": {},
     "output_type": "execute_result"
    }
   ],
   "source": [
    "# 1,000,000개 샘플의 불편분산 계산 시 모분산인 0.493과 거의 같아짐\n",
    "np.var(np.random.choice(rooms, int(1e6)), ddof=1)"
   ]
  },
  {
   "cell_type": "markdown",
   "metadata": {
    "id": "Tvut00H8QJxA"
   },
   "source": [
    "n-1은 자유도(degree of freedom)\n",
    "- 불편분산 표현식에서의 n-1은 자유도를 뜻함\n",
    "- 자유도 : 자유롭게 값을 취할 수 있는 변수의 개수\n",
    "- 표본평균은 각 Xi에 아무 제약이 없기에 자유도가 n\n",
    "- 분산의 경유 식에서 각 Xi가 표본평균을 만족해야하는 제약이 있다. (특정 Xi 하나는 표본평균(x바)와 동일하게 쓰이는 중복된 형태를 띄게됨)"
   ]
  },
  {
   "cell_type": "code",
   "execution_count": 16,
   "metadata": {
    "colab": {
     "base_uri": "https://localhost:8080/"
    },
    "executionInfo": {
     "elapsed": 270,
     "status": "ok",
     "timestamp": 1652882550380,
     "user": {
      "displayName": "최윤아",
      "userId": "13391811122094852456"
     },
     "user_tz": -540
    },
    "id": "xrM0MZ7oPsg9",
    "outputId": "eb2010bd-22d0-42f7-ec70-6f35c0c38a68"
   },
   "outputs": [
    {
     "data": {
      "text/plain": [
       "0.333"
      ]
     },
     "execution_count": 16,
     "metadata": {},
     "output_type": "execute_result"
    }
   ],
   "source": [
    "u_var = np.var(sample, ddof=1)\n",
    "u_var"
   ]
  },
  {
   "cell_type": "markdown",
   "metadata": {
    "id": "JEENPd5GQ4gi"
   },
   "source": [
    "표본평균과 불편분산은 각각 모평균과 모분산에 대해 불편성과 일치성을 만족하는 좋은 추정량이다!"
   ]
  },
  {
   "cell_type": "markdown",
   "metadata": {
    "id": "LFHt720YQ9U9"
   },
   "source": [
    "### 구간추정"
   ]
  },
  {
   "cell_type": "markdown",
   "metadata": {
    "id": "39Buhza9RFWx"
   },
   "source": [
    "### 정규분포의 모평균(분산을 알고 있는)의 구간추정\n",
    "- 추정량의 표준편차인 표준오차를 이용\n",
    "- 모분산을 알고 있으므로 표준오차를 계산하는 방법으로 추정량의 오차를 계산할 수 있음"
   ]
  },
  {
   "cell_type": "code",
   "execution_count": 20,
   "metadata": {
    "colab": {
     "base_uri": "https://localhost:8080/"
    },
    "executionInfo": {
     "elapsed": 289,
     "status": "ok",
     "timestamp": 1652882821708,
     "user": {
      "displayName": "최윤아",
      "userId": "13391811122094852456"
     },
     "user_tz": -540
    },
    "id": "pfOy2iMbPtSJ",
    "outputId": "e72fda85-6a41-4e2a-fa0b-1599f5376745"
   },
   "outputs": [
    {
     "data": {
      "text/plain": [
       "(6.088, 6.703)"
      ]
     },
     "execution_count": 20,
     "metadata": {},
     "output_type": "execute_result"
    }
   ],
   "source": [
    "# 표본 데이터로 모평균의 95% 신뢰구간 계산\n",
    "rv = stats.norm()\n",
    "lcl = s_mean - rv.isf(0.025) * np.sqrt(p_var/n)\n",
    "ucl = s_mean - rv.isf(0.975) * np.sqrt(p_var/n)\n",
    "\n",
    "lcl, ucl\n",
    "# 모평균 6.285가 구간내에 포함되어있음을 확인\n",
    "# 동일한 방법으로 수차례 표본추출하여 구간추정시 95%의 구간추정에는 모평균이 표함되어 있다"
   ]
  },
  {
   "cell_type": "code",
   "execution_count": 18,
   "metadata": {
    "colab": {
     "base_uri": "https://localhost:8080/",
     "height": 592
    },
    "executionInfo": {
     "elapsed": 563,
     "status": "ok",
     "timestamp": 1652882561907,
     "user": {
      "displayName": "최윤아",
      "userId": "13391811122094852456"
     },
     "user_tz": -540
    },
    "id": "jiwcirrNRMi9",
    "outputId": "31cef99a-6c4d-429a-80f2-97245381667f"
   },
   "outputs": [
    {
     "data": {
      "image/png": "[encoded data removed]",
      "text/plain": [
       "<Figure size 720x720 with 1 Axes>"
      ]
     },
     "metadata": {
      "needs_background": "light"
     },
     "output_type": "display_data"
    }
   ],
   "source": [
    "# 신뢰구간 해석을 위한 20회 추정을 통한 시각화 제시\n",
    "\n",
    "fig = plt.figure(figsize=(10, 10))\n",
    "ax = fig.add_subplot(111)\n",
    "\n",
    "rv = stats.norm()\n",
    "n_samples = 20\n",
    "ax.vlines(p_mean, 0, 21)\n",
    "for i in range(n_samples):\n",
    "    sample_ = samples[i]\n",
    "    s_mean_ = np.mean(sample_)\n",
    "    lcl = s_mean_ - rv.isf(0.025) * np.sqrt(p_var/n)\n",
    "    ucl = s_mean_ - rv.isf(0.975) * np.sqrt(p_var/n)\n",
    "    if lcl <= p_mean <= ucl:\n",
    "        ax.scatter(s_mean_, n_samples-i, color='gray')\n",
    "        ax.hlines(n_samples-i, lcl, ucl, color='gray')\n",
    "    else:\n",
    "        ax.scatter(s_mean_, n_samples-i, color='b')\n",
    "        ax.hlines(n_samples-i, lcl, ucl, color='b')\n",
    "ax.set_xticks([p_mean])\n",
    "ax.set_xticklabels(['population mean'])\n",
    "\n",
    "plt.show()\n",
    "# 총 4번가 모평균을 포함하지 않은 구간추정임을 알 수 있다.\n",
    "# 95% 신뢰구간으로 예측하였지만, 80%의 추정이 모평균을 포함하고 있음을 확인"
   ]
  },
  {
   "cell_type": "code",
   "execution_count": 21,
   "metadata": {
    "colab": {
     "base_uri": "https://localhost:8080/"
    },
    "executionInfo": {
     "elapsed": 3177,
     "status": "ok",
     "timestamp": 1652883034702,
     "user": {
      "displayName": "최윤아",
      "userId": "13391811122094852456"
     },
     "user_tz": -540
    },
    "id": "eSaIHDWVRNs4",
    "outputId": "166e010d-26de-4baa-ca76-0e962c6b758c"
   },
   "outputs": [
    {
     "data": {
      "text/plain": [
       "0.947"
      ]
     },
     "execution_count": 21,
     "metadata": {},
     "output_type": "execute_result"
    }
   ],
   "source": [
    "# 신뢰구간 해석을 위한 10,000회 추정시 모평균을 포함할 확률 계산\n",
    "rv = stats.norm()\n",
    "cnt = 0\n",
    "\n",
    "for sample_ in samples:\n",
    "    s_mean_ = np.mean(sample_)\n",
    "    lcl = s_mean_ - rv.isf(0.025) * np.sqrt(p_var/n)\n",
    "    ucl = s_mean_ - rv.isf(0.975) * np.sqrt(p_var/n)\n",
    "    if lcl <= p_mean <= ucl:\n",
    "        cnt += 1\n",
    "cnt / len(samples)\n",
    "# 10,000개 신뢰구간의 약 94.7%가 모평균을 포함하고 있음을 확인 "
   ]
  },
  {
   "cell_type": "markdown",
   "metadata": {
    "id": "yQjLQZ57gftS"
   },
   "source": [
    "### 정규분포의 모분산(평균을 알지 못하는)구간추정\n",
    "- 정규분포의 불편분산 s^2과 관련된 확률분포는? 카이제곱 분포\n",
    "- 카이제곱 분포로의 변환\n",
    "- 불편분산 s^2에 Y = (n-1)s^2 / 시그마^2 이라는 변환을 하면 Y~X^2(n-1)이 됨\n"
   ]
  },
  {
   "cell_type": "code",
   "execution_count": 22,
   "metadata": {
    "colab": {
     "base_uri": "https://localhost:8080/"
    },
    "executionInfo": {
     "elapsed": 281,
     "status": "ok",
     "timestamp": 1652883189047,
     "user": {
      "displayName": "최윤아",
      "userId": "13391811122094852456"
     },
     "user_tz": -540
    },
    "id": "LxhWjpLERPZA",
    "outputId": "901b2a09-a540-4646-ecd7-f11a19f9000c"
   },
   "outputs": [
    {
     "data": {
      "text/plain": [
       "array([35.474, 21.152, 13.053, ..., 17.608, 24.126,  9.3  ])"
      ]
     },
     "execution_count": 22,
     "metadata": {},
     "output_type": "execute_result"
    }
   ],
   "source": [
    "# 10,000개 표본 데이터 기반 Y의 표본 데이터 생성\n",
    "sample_y = sample_u_vars * (n-1) / p_var\n",
    "sample_y"
   ]
  },
  {
   "cell_type": "code",
   "execution_count": 23,
   "metadata": {
    "colab": {
     "base_uri": "https://localhost:8080/",
     "height": 374
    },
    "executionInfo": {
     "elapsed": 784,
     "status": "ok",
     "timestamp": 1652883194151,
     "user": {
      "displayName": "최윤아",
      "userId": "13391811122094852456"
     },
     "user_tz": -540
    },
    "id": "aDuCxeN9g-lo",
    "outputId": "4d343987-7991-4925-a97d-4c50126acc8f"
   },
   "outputs": [
    {
     "data": {
      "image/png": "[encoded data removed]",
      "text/plain": [
       "<Figure size 720x432 with 1 Axes>"
      ]
     },
     "metadata": {
      "needs_background": "light"
     },
     "output_type": "display_data"
    }
   ],
   "source": [
    "# Y의 표본데이터와 X^2(n-1) 시각화\n",
    "fig = plt.figure(figsize=(10, 6))\n",
    "ax = fig.add_subplot(111)\n",
    "\n",
    "xs = np.linspace(0, 40, 100)\n",
    "rv = stats.chi2(df=n-1)\n",
    "ax.plot(xs, rv.pdf(xs), color='gray')\n",
    "hist, _, _ = ax.hist(sample_y, bins=100,\n",
    "                     range=(0, 40), density=True)\n",
    "\n",
    "plt.show()"
   ]
  },
  {
   "cell_type": "code",
   "execution_count": 24,
   "metadata": {
    "colab": {
     "base_uri": "https://localhost:8080/"
    },
    "executionInfo": {
     "elapsed": 268,
     "status": "ok",
     "timestamp": 1652883361861,
     "user": {
      "displayName": "최윤아",
      "userId": "13391811122094852456"
     },
     "user_tz": -540
    },
    "id": "yOQhs2qgg_uQ",
    "outputId": "5f7cc5aa-d429-4ee3-f851-ce08e99a8c4f"
   },
   "outputs": [
    {
     "data": {
      "text/plain": [
       "(0.193, 0.711)"
      ]
     },
     "execution_count": 24,
     "metadata": {},
     "output_type": "execute_result"
    }
   ],
   "source": [
    "# 표본데이터로 모분산의 95% 신뢰구간 계산\n",
    "rv = stats.chi2(df=n-1)\n",
    "lcl = (n-1) * u_var / rv.isf(0.025)\n",
    "hcl = (n-1) * u_var / rv.isf(0.975)\n",
    "\n",
    "lcl, hcl\n",
    "# 모분산 0.493이 구간내에 포함되어있음을 확인"
   ]
  },
  {
   "cell_type": "code",
   "execution_count": 25,
   "metadata": {
    "colab": {
     "base_uri": "https://localhost:8080/",
     "height": 592
    },
    "executionInfo": {
     "elapsed": 939,
     "status": "ok",
     "timestamp": 1652883368190,
     "user": {
      "displayName": "최윤아",
      "userId": "13391811122094852456"
     },
     "user_tz": -540
    },
    "id": "m8u0LguXhoyj",
    "outputId": "79373372-60ca-4f65-c3f5-3c12b3a93427"
   },
   "outputs": [
    {
     "data": {
      "image/png": "[encoded data removed]",
      "text/plain": [
       "<Figure size 720x720 with 1 Axes>"
      ]
     },
     "metadata": {
      "needs_background": "light"
     },
     "output_type": "display_data"
    }
   ],
   "source": [
    "#  신뢰구간 해석을 위한 20회 추정을 통한 시각화 제시\n",
    "fig = plt.figure(figsize=(10, 10))\n",
    "ax = fig.add_subplot(111)\n",
    "\n",
    "rv = stats.chi2(df=n-1)\n",
    "n_samples = 20\n",
    "ax.vlines(p_var, 0, 21)\n",
    "for i in range(n_samples):\n",
    "    sample_ = samples[i]\n",
    "    u_var_ = np.var(sample_, ddof=1)\n",
    "    lcl = (n-1) * u_var_ / rv.isf(0.025)\n",
    "    ucl = (n-1) * u_var_ / rv.isf(0.975)\n",
    "    if lcl <= p_var <= ucl:\n",
    "        ax.scatter(u_var_, n_samples-i, color='gray')\n",
    "        ax.hlines(n_samples-i, lcl, ucl, 'gray')\n",
    "    else:\n",
    "        ax.scatter(u_var_, n_samples-i, color='b')\n",
    "        ax.hlines(n_samples-i, lcl, ucl, 'b')\n",
    "ax.set_xticks([p_var])\n",
    "ax.set_xticklabels(['population variance'])\n",
    "\n",
    "plt.show()\n",
    "# 총 4회가 모분산을 포함하지 않은 구간추정임을 알 수 있다\n",
    "# 95% 신뢰구간으로 예측하였지만, 80%의 추정이 모분산을 포함하고 있음을 확인"
   ]
  },
  {
   "cell_type": "code",
   "execution_count": 26,
   "metadata": {
    "colab": {
     "base_uri": "https://localhost:8080/"
    },
    "executionInfo": {
     "elapsed": 4520,
     "status": "ok",
     "timestamp": 1652883479163,
     "user": {
      "displayName": "최윤아",
      "userId": "13391811122094852456"
     },
     "user_tz": -540
    },
    "id": "-sE372E4hqKo",
    "outputId": "700edb8d-555e-471f-bed5-c3a7cb87e440"
   },
   "outputs": [
    {
     "data": {
      "text/plain": [
       "0.845"
      ]
     },
     "execution_count": 26,
     "metadata": {},
     "output_type": "execute_result"
    }
   ],
   "source": [
    "# 신뢰구간 해석을 위한 10,000회 추정시 모분산을 포함할 확률 계산\n",
    "rv = stats.chi2(df=n-1)\n",
    "cnt = 0\n",
    "for sample_ in samples:\n",
    "    u_var_ = np.var(sample_, ddof=1)\n",
    "    lcl = (n-1) * u_var_ / rv.isf(0.025)\n",
    "    ucl = (n-1) * u_var_ / rv.isf(0.975)\n",
    "    if lcl <= p_var <= ucl:\n",
    "        cnt += 1\n",
    "        \n",
    "cnt / len(samples)\n",
    "# 10,000개의 신뢰구간의 약 84.5%가 모분산을 포함하고 있음을 확인(95%와 약간의 차이가 있음을 확인)"
   ]
  },
  {
   "cell_type": "markdown",
   "metadata": {
    "id": "jnTxnbl_iYLR"
   },
   "source": [
    "### 정규분포의 모평균(모분산을 알지 못하는) 구간추정\n",
    "- 실제로는 모평균, 모분산 둘다 모르는 경우가 대부분\n",
    "- 모분산 기반 표준오차가 아니더라도 모분산 대신 불편분산을 기반으로한 표준오차로 대신 사용"
   ]
  },
  {
   "cell_type": "code",
   "execution_count": 27,
   "metadata": {
    "colab": {
     "base_uri": "https://localhost:8080/"
    },
    "executionInfo": {
     "elapsed": 334,
     "status": "ok",
     "timestamp": 1652883641909,
     "user": {
      "displayName": "최윤아",
      "userId": "13391811122094852456"
     },
     "user_tz": -540
    },
    "id": "w_qMsgK8iEY2",
    "outputId": "31234c30-e12d-4354-fc0b-964574188799"
   },
   "outputs": [
    {
     "data": {
      "text/plain": [
       "(6.125, 6.666)"
      ]
     },
     "execution_count": 27,
     "metadata": {},
     "output_type": "execute_result"
    }
   ],
   "source": [
    "# 표본데이터로 모평균의 95% 신뢰구간 계산\n",
    "rv = stats.t(df=n-1) # t분포 사용\n",
    "lcl = s_mean - rv.isf(0.025) * np.sqrt(u_var/n)\n",
    "ucl = s_mean - rv.isf(0.975) * np.sqrt(u_var/n)\n",
    "\n",
    "lcl, ucl\n",
    "# 모평균 6.285가 구간내에 포함되어있음을 확인"
   ]
  }
 ],
 "metadata": {
  "colab": {
   "authorship_tag": "ABX9TyNRAm5GHXQ2HODQsSpbXY4Q",
   "collapsed_sections": [],
   "name": "20220518-점추정, 구간추정.ipynb",
   "provenance": []
  },
  "kernelspec": {
   "display_name": "Python 3",
   "name": "python3"
  },
  "language_info": {
   "name": "python"
  }
 },
 "nbformat": 4,
 "nbformat_minor": 0
}
